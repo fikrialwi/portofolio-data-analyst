{
 "cells": [
  {
   "cell_type": "markdown",
   "id": "92ecdf39",
   "metadata": {
    "_cell_guid": "774691ef-af55-43cb-8cd3-ffc33e316c0a",
    "_uuid": "905608da-4858-47ae-a759-d0a5e442c0ff",
    "collapsed": false,
    "jupyter": {
     "outputs_hidden": false
    },
    "papermill": {
     "duration": 0.015541,
     "end_time": "2025-07-05T04:55:52.247029",
     "exception": false,
     "start_time": "2025-07-05T04:55:52.231488",
     "status": "completed"
    },
    "tags": []
   },
   "source": [
    "# 1. Import & Setup"
   ]
  },
  {
   "cell_type": "code",
   "execution_count": 1,
   "id": "a987184b",
   "metadata": {
    "_cell_guid": "e805cf5e-04af-4a05-a97c-bd4b0f1e0207",
    "_uuid": "15ad266b-96fe-43fb-9203-1128cebbdbd1",
    "collapsed": false,
    "execution": {
     "iopub.execute_input": "2025-07-05T04:55:52.272023Z",
     "iopub.status.busy": "2025-07-05T04:55:52.271569Z",
     "iopub.status.idle": "2025-07-05T04:55:57.458031Z",
     "shell.execute_reply": "2025-07-05T04:55:57.456916Z"
    },
    "jupyter": {
     "outputs_hidden": false
    },
    "papermill": {
     "duration": 5.200732,
     "end_time": "2025-07-05T04:55:57.459828",
     "exception": false,
     "start_time": "2025-07-05T04:55:52.259096",
     "status": "completed"
    },
    "tags": []
   },
   "outputs": [
    {
     "name": "stdout",
     "output_type": "stream",
     "text": [
      "/kaggle/input/all-football-players-stats-in-top-5-leagues-2425/top5-players24-25.xlsx\n"
     ]
    }
   ],
   "source": [
    "# Import libraries required for data analysis and visualization.\n",
    "# 'pandas' for data manipulation, 'seaborn' for plot styling.\n",
    "# 'warnings' to ignore unnecessary warning messages.\n",
    "import pandas as pd\n",
    "import seaborn as sns\n",
    "import warnings\n",
    "import matplotlib.pyplot as plt\n",
    "import plotly.express as px\n",
    "import plotly.graph_objects as go\n",
    "from plotly.subplots import make_subplots\n",
    "\n",
    "warnings.filterwarnings('ignore')\n",
    "\n",
    "# Set the plot visualization style using seaborn.\n",
    "plt.style.use(\"seaborn\")\n",
    "sns.set(font_scale=1.1)\n",
    "\n",
    "import os\n",
    "for dirname, _, filenames in os.walk('/kaggle/input'):\n",
    "    for filename in filenames:\n",
    "       print(os.path.join(dirname, filename))"
   ]
  },
  {
   "cell_type": "markdown",
   "id": "f8b421ad",
   "metadata": {
    "_cell_guid": "1fda1cb2-4a01-4dfc-967b-3fc825dfd6ea",
    "_uuid": "f2c7c484-bbc8-4680-b87c-08732818828c",
    "collapsed": false,
    "jupyter": {
     "outputs_hidden": false
    },
    "papermill": {
     "duration": 0.010316,
     "end_time": "2025-07-05T04:55:57.481245",
     "exception": false,
     "start_time": "2025-07-05T04:55:57.470929",
     "status": "completed"
    },
    "tags": []
   },
   "source": [
    "## 💡 Background\n",
    "\n",
    "In the modern football industry, young players are not just squad reinforcements - they are long-term investments for clubs. Increasingly congested fixture schedules, commercial pressures and the risk of injury to first-team players make the need for regeneration more urgent.\n",
    "\n",
    "On the other hand, clubs now have access to very detailed performance data. This opens up the opportunity to objectively evaluate young players' contributions - not only based on goals and assists but also through advanced metrics such as expected goals (xG), expected assists (xAG) and other progressive actions.\n",
    "\n",
    "This analysis aims to examine how young players perform in Europe's top leagues. To what extent are they contributing? Are they ready to become mainstays or do they still need time to develop? These findings are expected to provide insights for clubs in designing rotation strategies and future investments.\n",
    "\n",
    "## 🎯 Analysis Objectives\n",
    "This notebook aims to explore the performance of young players (aged <= 21 years) from Europe's top 5 leagues (Premier League, La Liga, Bundesliga, Serie A, Ligue 1). The main focus includes:\n",
    "- Frequency and pattern of young players' playing minutes\n",
    "- Productivity in scoring goals and making assists\n",
    "- Player effectiveness in converting xG (Expected Goals) and xAG (Expected Assisted Goals)\n",
    "- Distribution of young players' positions\n",
    "- Identification of leagues and clubs that best support young talent development\n",
    "\n",
    "## 🔍 Methodology\n",
    "- Dataset: Player statistics from the top five European leagues of the last season.\n",
    "\n",
    "    - Young Players: Defined as players aged less than or equal to 21 years (<=21).\n",
    "\n",
    "- Key Stats:\n",
    "\n",
    "    - Finishing: Goals, Non-Penalty Goals, xG, Gls/90, Gls/xG\n",
    "\n",
    "    - Playmaking: Assists, xAG, Progressive Passes, Ast/90\n",
    "\n",
    "    - Defending: Minutes, Position, Cards, and non-goal contributions\n",
    "\n",
    "- Tools:\n",
    "\n",
    "    - Python (Pandas, Plotly, Seaborn, Scikit-learn)\n",
    "\n",
    "    - Clustering: Players are grouped based on dominant roles (Finisher, Playmaker, Defender) through KMeans & radar profiling approaches."
   ]
  },
  {
   "cell_type": "markdown",
   "id": "e958d0fd",
   "metadata": {
    "_cell_guid": "f256134b-8e09-44c9-9b0e-075301a3d9d0",
    "_uuid": "b54307bf-aad0-4a23-9fae-b4839d8de3ca",
    "collapsed": false,
    "jupyter": {
     "outputs_hidden": false
    },
    "papermill": {
     "duration": 0.010862,
     "end_time": "2025-07-05T04:55:57.502703",
     "exception": false,
     "start_time": "2025-07-05T04:55:57.491841",
     "status": "completed"
    },
    "tags": []
   },
   "source": [
    "# 2. Load Data"
   ]
  },
  {
   "cell_type": "code",
   "execution_count": 2,
   "id": "8105a29e",
   "metadata": {
    "_cell_guid": "dfa20dcc-d397-4759-b427-5d7820504729",
    "_uuid": "cf87aab6-b14a-4c45-ab32-432cf500c048",
    "collapsed": false,
    "execution": {
     "iopub.execute_input": "2025-07-05T04:55:57.526973Z",
     "iopub.status.busy": "2025-07-05T04:55:57.525144Z",
     "iopub.status.idle": "2025-07-05T04:55:59.354047Z",
     "shell.execute_reply": "2025-07-05T04:55:59.352968Z"
    },
    "jupyter": {
     "outputs_hidden": false
    },
    "papermill": {
     "duration": 1.842719,
     "end_time": "2025-07-05T04:55:59.355918",
     "exception": false,
     "start_time": "2025-07-05T04:55:57.513199",
     "status": "completed"
    },
    "tags": []
   },
   "outputs": [
    {
     "data": {
      "text/html": [
       "<div>\n",
       "<style scoped>\n",
       "    .dataframe tbody tr th:only-of-type {\n",
       "        vertical-align: middle;\n",
       "    }\n",
       "\n",
       "    .dataframe tbody tr th {\n",
       "        vertical-align: top;\n",
       "    }\n",
       "\n",
       "    .dataframe thead th {\n",
       "        text-align: right;\n",
       "    }\n",
       "</style>\n",
       "<table border=\"1\" class=\"dataframe\">\n",
       "  <thead>\n",
       "    <tr style=\"text-align: right;\">\n",
       "      <th></th>\n",
       "      <th>Rk</th>\n",
       "      <th>Player</th>\n",
       "      <th>Nation</th>\n",
       "      <th>Pos</th>\n",
       "      <th>Squad</th>\n",
       "      <th>Comp</th>\n",
       "      <th>Age</th>\n",
       "      <th>Born</th>\n",
       "      <th>MP</th>\n",
       "      <th>Starts</th>\n",
       "      <th>...</th>\n",
       "      <th>Gls_90</th>\n",
       "      <th>Ast_90</th>\n",
       "      <th>G+A_90</th>\n",
       "      <th>G-PK_90</th>\n",
       "      <th>G+A-PK_90</th>\n",
       "      <th>xG_90</th>\n",
       "      <th>xAG_90</th>\n",
       "      <th>xG+xAG_90</th>\n",
       "      <th>npxG_90</th>\n",
       "      <th>npxG+xAG_90</th>\n",
       "    </tr>\n",
       "  </thead>\n",
       "  <tbody>\n",
       "    <tr>\n",
       "      <th>0</th>\n",
       "      <td>1</td>\n",
       "      <td>Max Aarons</td>\n",
       "      <td>eng ENG</td>\n",
       "      <td>DF</td>\n",
       "      <td>Bournemouth</td>\n",
       "      <td>eng Premier League</td>\n",
       "      <td>24.0</td>\n",
       "      <td>2000.0</td>\n",
       "      <td>3</td>\n",
       "      <td>1</td>\n",
       "      <td>...</td>\n",
       "      <td>0.0</td>\n",
       "      <td>0.0</td>\n",
       "      <td>0.0</td>\n",
       "      <td>0.0</td>\n",
       "      <td>0.0</td>\n",
       "      <td>0.00</td>\n",
       "      <td>0.00</td>\n",
       "      <td>0.00</td>\n",
       "      <td>0.00</td>\n",
       "      <td>0.00</td>\n",
       "    </tr>\n",
       "    <tr>\n",
       "      <th>1</th>\n",
       "      <td>2</td>\n",
       "      <td>Max Aarons</td>\n",
       "      <td>eng ENG</td>\n",
       "      <td>DF,MF</td>\n",
       "      <td>Valencia</td>\n",
       "      <td>es La Liga</td>\n",
       "      <td>24.0</td>\n",
       "      <td>2000.0</td>\n",
       "      <td>4</td>\n",
       "      <td>1</td>\n",
       "      <td>...</td>\n",
       "      <td>0.0</td>\n",
       "      <td>0.0</td>\n",
       "      <td>0.0</td>\n",
       "      <td>0.0</td>\n",
       "      <td>0.0</td>\n",
       "      <td>0.00</td>\n",
       "      <td>0.02</td>\n",
       "      <td>0.02</td>\n",
       "      <td>0.00</td>\n",
       "      <td>0.02</td>\n",
       "    </tr>\n",
       "    <tr>\n",
       "      <th>2</th>\n",
       "      <td>3</td>\n",
       "      <td>Rodrigo Abajas</td>\n",
       "      <td>es ESP</td>\n",
       "      <td>DF</td>\n",
       "      <td>Valencia</td>\n",
       "      <td>es La Liga</td>\n",
       "      <td>21.0</td>\n",
       "      <td>2003.0</td>\n",
       "      <td>1</td>\n",
       "      <td>1</td>\n",
       "      <td>...</td>\n",
       "      <td>0.0</td>\n",
       "      <td>0.0</td>\n",
       "      <td>0.0</td>\n",
       "      <td>0.0</td>\n",
       "      <td>0.0</td>\n",
       "      <td>0.10</td>\n",
       "      <td>0.00</td>\n",
       "      <td>0.10</td>\n",
       "      <td>0.10</td>\n",
       "      <td>0.10</td>\n",
       "    </tr>\n",
       "    <tr>\n",
       "      <th>3</th>\n",
       "      <td>4</td>\n",
       "      <td>James Abankwah</td>\n",
       "      <td>ie IRL</td>\n",
       "      <td>DF,MF</td>\n",
       "      <td>Udinese</td>\n",
       "      <td>it Serie A</td>\n",
       "      <td>20.0</td>\n",
       "      <td>2004.0</td>\n",
       "      <td>6</td>\n",
       "      <td>0</td>\n",
       "      <td>...</td>\n",
       "      <td>0.0</td>\n",
       "      <td>0.0</td>\n",
       "      <td>0.0</td>\n",
       "      <td>0.0</td>\n",
       "      <td>0.0</td>\n",
       "      <td>0.06</td>\n",
       "      <td>0.00</td>\n",
       "      <td>0.06</td>\n",
       "      <td>0.06</td>\n",
       "      <td>0.06</td>\n",
       "    </tr>\n",
       "    <tr>\n",
       "      <th>4</th>\n",
       "      <td>5</td>\n",
       "      <td>Keyliane Abdallah</td>\n",
       "      <td>fr FRA</td>\n",
       "      <td>FW</td>\n",
       "      <td>Marseille</td>\n",
       "      <td>fr Ligue 1</td>\n",
       "      <td>18.0</td>\n",
       "      <td>2006.0</td>\n",
       "      <td>1</td>\n",
       "      <td>0</td>\n",
       "      <td>...</td>\n",
       "      <td>0.0</td>\n",
       "      <td>0.0</td>\n",
       "      <td>0.0</td>\n",
       "      <td>0.0</td>\n",
       "      <td>0.0</td>\n",
       "      <td>0.00</td>\n",
       "      <td>0.00</td>\n",
       "      <td>0.00</td>\n",
       "      <td>0.00</td>\n",
       "      <td>0.00</td>\n",
       "    </tr>\n",
       "  </tbody>\n",
       "</table>\n",
       "<p>5 rows × 37 columns</p>\n",
       "</div>"
      ],
      "text/plain": [
       "   Rk             Player   Nation    Pos        Squad                Comp  \\\n",
       "0   1         Max Aarons  eng ENG     DF  Bournemouth  eng Premier League   \n",
       "1   2         Max Aarons  eng ENG  DF,MF     Valencia          es La Liga   \n",
       "2   3     Rodrigo Abajas   es ESP     DF     Valencia          es La Liga   \n",
       "3   4     James Abankwah   ie IRL  DF,MF      Udinese          it Serie A   \n",
       "4   5  Keyliane Abdallah   fr FRA     FW    Marseille          fr Ligue 1   \n",
       "\n",
       "    Age    Born  MP  Starts  ...  Gls_90  Ast_90  G+A_90  G-PK_90  G+A-PK_90  \\\n",
       "0  24.0  2000.0   3       1  ...     0.0     0.0     0.0      0.0        0.0   \n",
       "1  24.0  2000.0   4       1  ...     0.0     0.0     0.0      0.0        0.0   \n",
       "2  21.0  2003.0   1       1  ...     0.0     0.0     0.0      0.0        0.0   \n",
       "3  20.0  2004.0   6       0  ...     0.0     0.0     0.0      0.0        0.0   \n",
       "4  18.0  2006.0   1       0  ...     0.0     0.0     0.0      0.0        0.0   \n",
       "\n",
       "   xG_90  xAG_90  xG+xAG_90  npxG_90  npxG+xAG_90  \n",
       "0   0.00    0.00       0.00     0.00         0.00  \n",
       "1   0.00    0.02       0.02     0.00         0.02  \n",
       "2   0.10    0.00       0.10     0.10         0.10  \n",
       "3   0.06    0.00       0.06     0.06         0.06  \n",
       "4   0.00    0.00       0.00     0.00         0.00  \n",
       "\n",
       "[5 rows x 37 columns]"
      ]
     },
     "execution_count": 2,
     "metadata": {},
     "output_type": "execute_result"
    }
   ],
   "source": [
    "PATH = '/kaggle/input/all-football-players-stats-in-top-5-leagues-2425/top5-players24-25.xlsx'\n",
    "df = pd.read_excel(PATH)\n",
    "# Display the first 5 rows of the DataFrame to get a glimpse of the data structure.\n",
    "df.head(5)"
   ]
  },
  {
   "cell_type": "markdown",
   "id": "0a1f64e2",
   "metadata": {
    "_cell_guid": "b63f2a5a-fc36-4a22-bed0-e663ce5e8616",
    "_uuid": "ceaeca29-9335-4fc9-a8dd-1eff1e9a78da",
    "collapsed": false,
    "jupyter": {
     "outputs_hidden": false
    },
    "papermill": {
     "duration": 0.011066,
     "end_time": "2025-07-05T04:55:59.379053",
     "exception": false,
     "start_time": "2025-07-05T04:55:59.367987",
     "status": "completed"
    },
    "tags": []
   },
   "source": [
    "## 📊 Initial Data Check and Cleaning\n",
    "This section aims to check data quality, such as missing values and data duplication, and perform basic cleaning if needed."
   ]
  },
  {
   "cell_type": "code",
   "execution_count": 3,
   "id": "b3e96992",
   "metadata": {
    "_cell_guid": "23a2094c-7bbc-47e2-a62e-fb3a3635e9bb",
    "_uuid": "c3756fff-3162-415d-80f8-4e8b563e13bd",
    "collapsed": false,
    "execution": {
     "iopub.execute_input": "2025-07-05T04:55:59.404314Z",
     "iopub.status.busy": "2025-07-05T04:55:59.403065Z",
     "iopub.status.idle": "2025-07-05T04:55:59.417538Z",
     "shell.execute_reply": "2025-07-05T04:55:59.416280Z"
    },
    "jupyter": {
     "outputs_hidden": false
    },
    "papermill": {
     "duration": 0.028872,
     "end_time": "2025-07-05T04:55:59.419333",
     "exception": false,
     "start_time": "2025-07-05T04:55:59.390461",
     "status": "completed"
    },
    "tags": []
   },
   "outputs": [
    {
     "name": "stdout",
     "output_type": "stream",
     "text": [
      "\n",
      "--- Total Missing Values on All Dataset ---\n",
      "Total missing values: 23\n",
      "\n",
      "--- Missing Values per columns (if any) ---\n",
      "Nation    7\n",
      "Age       8\n",
      "Born      8\n",
      "dtype: int64\n"
     ]
    }
   ],
   "source": [
    "# Check missing values\n",
    "print(\"\\n--- Total Missing Values on All Dataset ---\")\n",
    "total_missing = df.isnull().sum().sum()\n",
    "if total_missing > 0:\n",
    "    print(f\"Total missing values: {total_missing}\")\n",
    "else:\n",
    "    print(\"No missing values in dataset.\")\n",
    "\n",
    "print(\"\\n--- Missing Values per columns (if any) ---\")\n",
    "missing_per_column = df.isnull().sum()\n",
    "missing_per_column = missing_per_column[missing_per_column > 0]\n",
    "if not missing_per_column.empty:\n",
    "    print(missing_per_column)\n",
    "else:\n",
    "    print(\"No missing values per columns.\")"
   ]
  },
  {
   "cell_type": "code",
   "execution_count": 4,
   "id": "c0179271",
   "metadata": {
    "_cell_guid": "116368b9-41fb-4b53-9e77-9ed9c92d74b8",
    "_uuid": "71583a75-ef9e-4308-b6e7-4a7567b65d7c",
    "collapsed": false,
    "execution": {
     "iopub.execute_input": "2025-07-05T04:55:59.444345Z",
     "iopub.status.busy": "2025-07-05T04:55:59.443924Z",
     "iopub.status.idle": "2025-07-05T04:55:59.483233Z",
     "shell.execute_reply": "2025-07-05T04:55:59.482048Z"
    },
    "jupyter": {
     "outputs_hidden": false
    },
    "papermill": {
     "duration": 0.054653,
     "end_time": "2025-07-05T04:55:59.485402",
     "exception": false,
     "start_time": "2025-07-05T04:55:59.430749",
     "status": "completed"
    },
    "tags": []
   },
   "outputs": [
    {
     "name": "stdout",
     "output_type": "stream",
     "text": [
      "\n",
      "--- Total Missing Values Across the Entire Dataset ---\n",
      "Total missing values: 23\n",
      "\n",
      "--- Missing Values per Column (if any) ---\n",
      "Nation    7\n",
      "Age       8\n",
      "Born      8\n",
      "dtype: int64\n",
      "\n",
      "--- Total Duplicate Values Across Entire Dataset ---\n",
      "There are no duplicate values in the dataset.\n",
      "                   Player           Squad  Nation   Age    Born\n",
      "100         Olabade Aluko  Leicester City     NaN   NaN     NaN\n",
      "273        Hannes Behrens      Hoffenheim  de GER   NaN     NaN\n",
      "663   Pape Daouda Diongue      Strasbourg  sn SEN   NaN     NaN\n",
      "862            Jake Evans  Leicester City     NaN   NaN     NaN\n",
      "1320       Atakan Karazor       Stuttgart     NaN  27.0  1996.0\n",
      "1518            Fer López      Celta Vigo     NaN   NaN     NaN\n",
      "1603          Mateus Mane          Wolves     NaN   NaN     NaN\n",
      "1769        Max Moerstedt      Hoffenheim  de GER   NaN     NaN\n",
      "1778         Jeremy Monga  Leicester City     NaN   NaN     NaN\n",
      "1917       Plamedi Nsingi          Nantes     NaN  23.0  2000.0\n",
      "\n",
      "--- Missing Values per Column (after cleaning) ---\n",
      "No missing values per column.\n"
     ]
    }
   ],
   "source": [
    "# Check for total missing values across the dataset.\n",
    "print(\"\\n--- Total Missing Values Across the Entire Dataset ---\")\n",
    "total_missing = df.isnull().sum().sum()\n",
    "if total_missing > 0:\n",
    "    print(f\"Total missing values: {total_missing}\")\n",
    "else:\n",
    "    print(\"There are no missing values in the dataset.\")\n",
    "\n",
    "# Check for missing values per column (if any).\n",
    "print(\"\\n--- Missing Values per Column (if any) ---\")\n",
    "missing_per_column = df.isnull().sum()\n",
    "missing_per_column = missing_per_column[missing_per_column > 0]\n",
    "if not missing_per_column.empty:\n",
    "        print(missing_per_column)\n",
    "else:\n",
    "    print(\"There are no missing values per column.\")\n",
    "\n",
    "# Check for total duplicate values across the dataset.\n",
    "print(\"\\n--- Total Duplicate Values Across Entire Dataset ---\")\n",
    "total_duplicate = df.duplicated().sum().sum()\n",
    "if total_duplicate > 0:\n",
    "    print(f\"Total duplicate values: {total_duplicate}\")\n",
    "else:\n",
    "    print(\"There are no duplicate values in the dataset.\")\n",
    "\n",
    "# Display rows that have missing values in the 'Nation', 'Age', or 'Born' columns.\n",
    "missing_rows = df[df['Nation'].isnull() | df['Age'].isnull() | df['Born'].isnull()][['Player', 'Squad','Nation', 'Age', 'Born']]\n",
    "print(missing_rows)\n",
    "\n",
    "# Remove rows that contain missing values to ensure clean data.\n",
    "df_cleaned = df.dropna()\n",
    "\n",
    "# Recheck missing values after cleaning.\n",
    "print(\"\\n--- Missing Values per Column (after cleaning) ---\")\n",
    "missing_per_column = df_cleaned.isnull().sum()\n",
    "missing_per_column = missing_per_column[missing_per_column > 0]\n",
    "if not missing_per_column.empty:\n",
    "    print(missing_per_column)\n",
    "else:\n",
    "    print(\"No missing values per column.\")"
   ]
  },
  {
   "cell_type": "code",
   "execution_count": 5,
   "id": "745f2e2a",
   "metadata": {
    "_cell_guid": "98081962-bce4-403c-a0f5-8f5ffc714440",
    "_uuid": "9f94a12d-49f1-40e0-b5f9-520f00fda2af",
    "collapsed": false,
    "execution": {
     "iopub.execute_input": "2025-07-05T04:55:59.511956Z",
     "iopub.status.busy": "2025-07-05T04:55:59.511548Z",
     "iopub.status.idle": "2025-07-05T04:55:59.598441Z",
     "shell.execute_reply": "2025-07-05T04:55:59.597393Z"
    },
    "jupyter": {
     "outputs_hidden": false
    },
    "papermill": {
     "duration": 0.103049,
     "end_time": "2025-07-05T04:55:59.600032",
     "exception": false,
     "start_time": "2025-07-05T04:55:59.496983",
     "status": "completed"
    },
    "tags": []
   },
   "outputs": [
    {
     "name": "stdout",
     "output_type": "stream",
     "text": [
      "<class 'pandas.core.frame.DataFrame'>\n",
      "Index: 2844 entries, 0 to 2853\n",
      "Data columns (total 37 columns):\n",
      " #   Column       Non-Null Count  Dtype  \n",
      "---  ------       --------------  -----  \n",
      " 0   Rk           2844 non-null   int64  \n",
      " 1   Player       2844 non-null   object \n",
      " 2   Nation       2844 non-null   object \n",
      " 3   Pos          2844 non-null   object \n",
      " 4   Squad        2844 non-null   object \n",
      " 5   Comp         2844 non-null   object \n",
      " 6   Age          2844 non-null   float64\n",
      " 7   Born         2844 non-null   float64\n",
      " 8   MP           2844 non-null   int64  \n",
      " 9   Starts       2844 non-null   int64  \n",
      " 10  Min          2844 non-null   int64  \n",
      " 11  90s          2844 non-null   float64\n",
      " 12  Gls          2844 non-null   int64  \n",
      " 13  Ast          2844 non-null   int64  \n",
      " 14  G+A          2844 non-null   int64  \n",
      " 15  G-PK         2844 non-null   int64  \n",
      " 16  PK           2844 non-null   int64  \n",
      " 17  PKatt        2844 non-null   int64  \n",
      " 18  CrdY         2844 non-null   int64  \n",
      " 19  CrdR         2844 non-null   int64  \n",
      " 20  xG           2844 non-null   float64\n",
      " 21  npxG         2844 non-null   float64\n",
      " 22  xAG          2844 non-null   float64\n",
      " 23  npxG+xAG     2844 non-null   float64\n",
      " 24  PrgC         2844 non-null   int64  \n",
      " 25  PrgP         2844 non-null   int64  \n",
      " 26  PrgR         2844 non-null   int64  \n",
      " 27  Gls_90       2844 non-null   float64\n",
      " 28  Ast_90       2844 non-null   float64\n",
      " 29  G+A_90       2844 non-null   float64\n",
      " 30  G-PK_90      2844 non-null   float64\n",
      " 31  G+A-PK_90    2844 non-null   float64\n",
      " 32  xG_90        2844 non-null   float64\n",
      " 33  xAG_90       2844 non-null   float64\n",
      " 34  xG+xAG_90    2844 non-null   float64\n",
      " 35  npxG_90      2844 non-null   float64\n",
      " 36  npxG+xAG_90  2844 non-null   float64\n",
      "dtypes: float64(17), int64(15), object(5)\n",
      "memory usage: 844.3+ KB\n"
     ]
    },
    {
     "data": {
      "text/html": [
       "<div>\n",
       "<style scoped>\n",
       "    .dataframe tbody tr th:only-of-type {\n",
       "        vertical-align: middle;\n",
       "    }\n",
       "\n",
       "    .dataframe tbody tr th {\n",
       "        vertical-align: top;\n",
       "    }\n",
       "\n",
       "    .dataframe thead th {\n",
       "        text-align: right;\n",
       "    }\n",
       "</style>\n",
       "<table border=\"1\" class=\"dataframe\">\n",
       "  <thead>\n",
       "    <tr style=\"text-align: right;\">\n",
       "      <th></th>\n",
       "      <th>Rk</th>\n",
       "      <th>Age</th>\n",
       "      <th>Born</th>\n",
       "      <th>MP</th>\n",
       "      <th>Starts</th>\n",
       "      <th>Min</th>\n",
       "      <th>90s</th>\n",
       "      <th>Gls</th>\n",
       "      <th>Ast</th>\n",
       "      <th>G+A</th>\n",
       "      <th>...</th>\n",
       "      <th>Gls_90</th>\n",
       "      <th>Ast_90</th>\n",
       "      <th>G+A_90</th>\n",
       "      <th>G-PK_90</th>\n",
       "      <th>G+A-PK_90</th>\n",
       "      <th>xG_90</th>\n",
       "      <th>xAG_90</th>\n",
       "      <th>xG+xAG_90</th>\n",
       "      <th>npxG_90</th>\n",
       "      <th>npxG+xAG_90</th>\n",
       "    </tr>\n",
       "  </thead>\n",
       "  <tbody>\n",
       "    <tr>\n",
       "      <th>count</th>\n",
       "      <td>2844.000000</td>\n",
       "      <td>2844.000000</td>\n",
       "      <td>2844.000000</td>\n",
       "      <td>2844.000000</td>\n",
       "      <td>2844.000000</td>\n",
       "      <td>2844.000000</td>\n",
       "      <td>2844.000000</td>\n",
       "      <td>2844.000000</td>\n",
       "      <td>2844.000000</td>\n",
       "      <td>2844.000000</td>\n",
       "      <td>...</td>\n",
       "      <td>2844.000000</td>\n",
       "      <td>2844.000000</td>\n",
       "      <td>2844.000000</td>\n",
       "      <td>2844.000000</td>\n",
       "      <td>2844.000000</td>\n",
       "      <td>2844.000000</td>\n",
       "      <td>2844.000000</td>\n",
       "      <td>2844.000000</td>\n",
       "      <td>2844.000000</td>\n",
       "      <td>2844.000000</td>\n",
       "    </tr>\n",
       "    <tr>\n",
       "      <th>mean</th>\n",
       "      <td>1428.365682</td>\n",
       "      <td>25.018987</td>\n",
       "      <td>1998.637482</td>\n",
       "      <td>19.061181</td>\n",
       "      <td>13.537271</td>\n",
       "      <td>1215.077707</td>\n",
       "      <td>13.500141</td>\n",
       "      <td>1.688115</td>\n",
       "      <td>1.204290</td>\n",
       "      <td>2.892405</td>\n",
       "      <td>...</td>\n",
       "      <td>0.112032</td>\n",
       "      <td>0.076909</td>\n",
       "      <td>0.188949</td>\n",
       "      <td>0.104434</td>\n",
       "      <td>0.181357</td>\n",
       "      <td>0.135591</td>\n",
       "      <td>0.088878</td>\n",
       "      <td>0.224272</td>\n",
       "      <td>0.127690</td>\n",
       "      <td>0.216428</td>\n",
       "    </tr>\n",
       "    <tr>\n",
       "      <th>std</th>\n",
       "      <td>824.506208</td>\n",
       "      <td>4.492890</td>\n",
       "      <td>4.499159</td>\n",
       "      <td>11.499917</td>\n",
       "      <td>11.324974</td>\n",
       "      <td>965.234586</td>\n",
       "      <td>10.725007</td>\n",
       "      <td>3.160629</td>\n",
       "      <td>1.948538</td>\n",
       "      <td>4.538927</td>\n",
       "      <td>...</td>\n",
       "      <td>0.196378</td>\n",
       "      <td>0.136747</td>\n",
       "      <td>0.264578</td>\n",
       "      <td>0.186588</td>\n",
       "      <td>0.253648</td>\n",
       "      <td>0.218226</td>\n",
       "      <td>0.124636</td>\n",
       "      <td>0.272760</td>\n",
       "      <td>0.209537</td>\n",
       "      <td>0.263716</td>\n",
       "    </tr>\n",
       "    <tr>\n",
       "      <th>min</th>\n",
       "      <td>1.000000</td>\n",
       "      <td>15.000000</td>\n",
       "      <td>1982.000000</td>\n",
       "      <td>1.000000</td>\n",
       "      <td>0.000000</td>\n",
       "      <td>1.000000</td>\n",
       "      <td>0.000000</td>\n",
       "      <td>0.000000</td>\n",
       "      <td>0.000000</td>\n",
       "      <td>0.000000</td>\n",
       "      <td>...</td>\n",
       "      <td>0.000000</td>\n",
       "      <td>0.000000</td>\n",
       "      <td>0.000000</td>\n",
       "      <td>0.000000</td>\n",
       "      <td>0.000000</td>\n",
       "      <td>0.000000</td>\n",
       "      <td>0.000000</td>\n",
       "      <td>0.000000</td>\n",
       "      <td>0.000000</td>\n",
       "      <td>0.000000</td>\n",
       "    </tr>\n",
       "    <tr>\n",
       "      <th>25%</th>\n",
       "      <td>714.750000</td>\n",
       "      <td>22.000000</td>\n",
       "      <td>1996.000000</td>\n",
       "      <td>9.000000</td>\n",
       "      <td>3.000000</td>\n",
       "      <td>320.750000</td>\n",
       "      <td>3.600000</td>\n",
       "      <td>0.000000</td>\n",
       "      <td>0.000000</td>\n",
       "      <td>0.000000</td>\n",
       "      <td>...</td>\n",
       "      <td>0.000000</td>\n",
       "      <td>0.000000</td>\n",
       "      <td>0.000000</td>\n",
       "      <td>0.000000</td>\n",
       "      <td>0.000000</td>\n",
       "      <td>0.010000</td>\n",
       "      <td>0.010000</td>\n",
       "      <td>0.047500</td>\n",
       "      <td>0.010000</td>\n",
       "      <td>0.040000</td>\n",
       "    </tr>\n",
       "    <tr>\n",
       "      <th>50%</th>\n",
       "      <td>1427.500000</td>\n",
       "      <td>25.000000</td>\n",
       "      <td>1999.000000</td>\n",
       "      <td>20.000000</td>\n",
       "      <td>11.000000</td>\n",
       "      <td>1059.000000</td>\n",
       "      <td>11.800000</td>\n",
       "      <td>0.000000</td>\n",
       "      <td>0.000000</td>\n",
       "      <td>1.000000</td>\n",
       "      <td>...</td>\n",
       "      <td>0.000000</td>\n",
       "      <td>0.000000</td>\n",
       "      <td>0.080000</td>\n",
       "      <td>0.000000</td>\n",
       "      <td>0.080000</td>\n",
       "      <td>0.060000</td>\n",
       "      <td>0.060000</td>\n",
       "      <td>0.140000</td>\n",
       "      <td>0.060000</td>\n",
       "      <td>0.140000</td>\n",
       "    </tr>\n",
       "    <tr>\n",
       "      <th>75%</th>\n",
       "      <td>2143.250000</td>\n",
       "      <td>28.000000</td>\n",
       "      <td>2002.000000</td>\n",
       "      <td>30.000000</td>\n",
       "      <td>23.000000</td>\n",
       "      <td>1999.500000</td>\n",
       "      <td>22.200000</td>\n",
       "      <td>2.000000</td>\n",
       "      <td>2.000000</td>\n",
       "      <td>4.000000</td>\n",
       "      <td>...</td>\n",
       "      <td>0.160000</td>\n",
       "      <td>0.120000</td>\n",
       "      <td>0.290000</td>\n",
       "      <td>0.142500</td>\n",
       "      <td>0.280000</td>\n",
       "      <td>0.180000</td>\n",
       "      <td>0.130000</td>\n",
       "      <td>0.330000</td>\n",
       "      <td>0.170000</td>\n",
       "      <td>0.320000</td>\n",
       "    </tr>\n",
       "    <tr>\n",
       "      <th>max</th>\n",
       "      <td>2854.000000</td>\n",
       "      <td>41.000000</td>\n",
       "      <td>2008.000000</td>\n",
       "      <td>38.000000</td>\n",
       "      <td>38.000000</td>\n",
       "      <td>3420.000000</td>\n",
       "      <td>38.000000</td>\n",
       "      <td>31.000000</td>\n",
       "      <td>18.000000</td>\n",
       "      <td>47.000000</td>\n",
       "      <td>...</td>\n",
       "      <td>2.430000</td>\n",
       "      <td>2.650000</td>\n",
       "      <td>2.650000</td>\n",
       "      <td>2.430000</td>\n",
       "      <td>2.650000</td>\n",
       "      <td>5.060000</td>\n",
       "      <td>2.470000</td>\n",
       "      <td>5.060000</td>\n",
       "      <td>5.060000</td>\n",
       "      <td>5.060000</td>\n",
       "    </tr>\n",
       "  </tbody>\n",
       "</table>\n",
       "<p>8 rows × 32 columns</p>\n",
       "</div>"
      ],
      "text/plain": [
       "                Rk          Age         Born           MP       Starts  \\\n",
       "count  2844.000000  2844.000000  2844.000000  2844.000000  2844.000000   \n",
       "mean   1428.365682    25.018987  1998.637482    19.061181    13.537271   \n",
       "std     824.506208     4.492890     4.499159    11.499917    11.324974   \n",
       "min       1.000000    15.000000  1982.000000     1.000000     0.000000   \n",
       "25%     714.750000    22.000000  1996.000000     9.000000     3.000000   \n",
       "50%    1427.500000    25.000000  1999.000000    20.000000    11.000000   \n",
       "75%    2143.250000    28.000000  2002.000000    30.000000    23.000000   \n",
       "max    2854.000000    41.000000  2008.000000    38.000000    38.000000   \n",
       "\n",
       "               Min          90s          Gls          Ast          G+A  ...  \\\n",
       "count  2844.000000  2844.000000  2844.000000  2844.000000  2844.000000  ...   \n",
       "mean   1215.077707    13.500141     1.688115     1.204290     2.892405  ...   \n",
       "std     965.234586    10.725007     3.160629     1.948538     4.538927  ...   \n",
       "min       1.000000     0.000000     0.000000     0.000000     0.000000  ...   \n",
       "25%     320.750000     3.600000     0.000000     0.000000     0.000000  ...   \n",
       "50%    1059.000000    11.800000     0.000000     0.000000     1.000000  ...   \n",
       "75%    1999.500000    22.200000     2.000000     2.000000     4.000000  ...   \n",
       "max    3420.000000    38.000000    31.000000    18.000000    47.000000  ...   \n",
       "\n",
       "            Gls_90       Ast_90       G+A_90      G-PK_90    G+A-PK_90  \\\n",
       "count  2844.000000  2844.000000  2844.000000  2844.000000  2844.000000   \n",
       "mean      0.112032     0.076909     0.188949     0.104434     0.181357   \n",
       "std       0.196378     0.136747     0.264578     0.186588     0.253648   \n",
       "min       0.000000     0.000000     0.000000     0.000000     0.000000   \n",
       "25%       0.000000     0.000000     0.000000     0.000000     0.000000   \n",
       "50%       0.000000     0.000000     0.080000     0.000000     0.080000   \n",
       "75%       0.160000     0.120000     0.290000     0.142500     0.280000   \n",
       "max       2.430000     2.650000     2.650000     2.430000     2.650000   \n",
       "\n",
       "             xG_90       xAG_90    xG+xAG_90      npxG_90  npxG+xAG_90  \n",
       "count  2844.000000  2844.000000  2844.000000  2844.000000  2844.000000  \n",
       "mean      0.135591     0.088878     0.224272     0.127690     0.216428  \n",
       "std       0.218226     0.124636     0.272760     0.209537     0.263716  \n",
       "min       0.000000     0.000000     0.000000     0.000000     0.000000  \n",
       "25%       0.010000     0.010000     0.047500     0.010000     0.040000  \n",
       "50%       0.060000     0.060000     0.140000     0.060000     0.140000  \n",
       "75%       0.180000     0.130000     0.330000     0.170000     0.320000  \n",
       "max       5.060000     2.470000     5.060000     5.060000     5.060000  \n",
       "\n",
       "[8 rows x 32 columns]"
      ]
     },
     "execution_count": 5,
     "metadata": {},
     "output_type": "execute_result"
    }
   ],
   "source": [
    "# Display the first 5 rows of the cleaned DataFrame.\n",
    "df_cleaned.head()\n",
    "\n",
    "# Displays summary information about the DataFrame (data type, number of non-nulls).\n",
    "df_cleaned.info()\n",
    "\n",
    "# Displays descriptive statistics for numeric columns (mean, standard deviation, etc.).\n",
    "df_cleaned.describe()"
   ]
  },
  {
   "cell_type": "markdown",
   "id": "cc084025",
   "metadata": {
    "_cell_guid": "00cfe25c-ea2f-49f9-8ee0-6277879bb0fe",
    "_uuid": "08ccffa2-2b60-43db-8ddf-27956ac676f1",
    "collapsed": false,
    "jupyter": {
     "outputs_hidden": false
    },
    "papermill": {
     "duration": 0.01164,
     "end_time": "2025-07-05T04:55:59.624145",
     "exception": false,
     "start_time": "2025-07-05T04:55:59.612505",
     "status": "completed"
    },
    "tags": []
   },
   "source": [
    "# 3. Exploratory Dataset Analysis"
   ]
  },
  {
   "cell_type": "markdown",
   "id": "bbd76720",
   "metadata": {
    "_cell_guid": "90d1573b-1e98-4fdd-ba8a-cf6d48caa420",
    "_uuid": "c0f4077c-9153-4099-be14-8ce2065e4c99",
    "collapsed": false,
    "jupyter": {
     "outputs_hidden": false
    },
    "papermill": {
     "duration": 0.011907,
     "end_time": "2025-07-05T04:55:59.647658",
     "exception": false,
     "start_time": "2025-07-05T04:55:59.635751",
     "status": "completed"
    },
    "tags": []
   },
   "source": [
    "## 📈 Player Age Distribution\n",
    "This section analyzes the overall age distribution of players per league. The histogram visualization will show the age distribution, with vertical lines indicating the mean and median age to show the data center."
   ]
  },
  {
   "cell_type": "code",
   "execution_count": 6,
   "id": "6e833981",
   "metadata": {
    "_cell_guid": "07085371-8075-4c84-96a3-42dbf8ba1edf",
    "_uuid": "e79f8c58-33b6-4e96-8fef-ef083add89cc",
    "collapsed": false,
    "execution": {
     "iopub.execute_input": "2025-07-05T04:55:59.673240Z",
     "iopub.status.busy": "2025-07-05T04:55:59.672751Z",
     "iopub.status.idle": "2025-07-05T04:56:01.957000Z",
     "shell.execute_reply": "2025-07-05T04:56:01.955896Z"
    },
    "jupyter": {
     "outputs_hidden": false
    },
    "papermill": {
     "duration": 2.299422,
     "end_time": "2025-07-05T04:56:01.958973",
     "exception": false,
     "start_time": "2025-07-05T04:55:59.659551",
     "status": "completed"
    },
    "tags": []
   },
   "outputs": [
    {
     "data": {
      "text/html": [
       "<html>\n",
       "<head><meta charset=\"utf-8\" /></head>\n",
       "<body>\n",
       "    <div>            <script src=\"https://cdnjs.cloudflare.com/ajax/libs/mathjax/2.7.5/MathJax.js?config=TeX-AMS-MML_SVG\"></script><script type=\"text/javascript\">if (window.MathJax && window.MathJax.Hub && window.MathJax.Hub.Config) {window.MathJax.Hub.Config({SVG: {font: \"STIX-Web\"}});}</script>                <script type=\"text/javascript\">window.PlotlyConfig = {MathJaxConfig: 'local'};</script>\n",
       "        <script charset=\"utf-8\" src=\"https://cdn.plot.ly/plotly-2.35.2.min.js\"></script>                <div id=\"a7bbf606-8dad-4e62-87ee-c09403b131a4\" class=\"plotly-graph-div\" style=\"height:525px; width:100%;\"></div>            <script type=\"text/javascript\">                                    window.PLOTLYENV=window.PLOTLYENV || {};                                    if (document.getElementById(\"a7bbf606-8dad-4e62-87ee-c09403b131a4\")) {                    Plotly.newPlot(                        \"a7bbf606-8dad-4e62-87ee-c09403b131a4\",                        [{\"alignmentgroup\":\"True\",\"bingroup\":\"x\",\"hovertemplate\":\"Age=%{x}\\u003cbr\\u003ecount=%{y}\\u003cextra\\u003e\\u003c\\u002fextra\\u003e\",\"legendgroup\":\"\",\"marker\":{\"color\":\"dodgerblue\",\"opacity\":0.75,\"pattern\":{\"shape\":\"\"}},\"name\":\"\",\"nbinsx\":20,\"offsetgroup\":\"\",\"orientation\":\"v\",\"showlegend\":false,\"x\":[24.0,24.0,21.0,20.0,18.0,36.0,24.0,25.0,30.0,25.0,23.0,21.0,28.0,21.0,24.0,24.0,25.0,26.0,26.0,20.0,36.0,18.0,24.0,24.0,28.0,25.0,23.0,26.0,20.0,22.0,22.0,24.0,24.0,37.0,26.0,18.0,27.0,26.0,27.0,27.0,18.0,18.0,23.0,22.0,24.0,28.0,21.0,28.0,31.0,22.0,16.0,22.0,30.0,28.0,28.0,19.0,27.0,23.0,19.0,26.0,30.0,29.0,20.0,29.0,20.0,26.0,22.0,26.0,22.0,31.0,22.0,29.0,28.0,32.0,18.0,34.0,38.0,21.0,21.0,27.0,26.0,26.0,23.0,25.0,25.0,20.0,23.0,31.0,25.0,29.0,28.0,23.0,24.0,20.0,30.0,25.0,33.0,25.0,23.0,22.0,26.0,21.0,24.0,29.0,22.0,19.0,27.0,17.0,28.0,30.0,21.0,26.0,28.0,27.0,18.0,18.0,18.0,18.0,24.0,27.0,28.0,28.0,21.0,23.0,33.0,27.0,29.0,27.0,19.0,22.0,28.0,21.0,16.0,34.0,21.0,24.0,24.0,29.0,32.0,26.0,28.0,22.0,22.0,25.0,23.0,28.0,31.0,22.0,25.0,22.0,28.0,27.0,17.0,29.0,21.0,35.0,30.0,24.0,21.0,29.0,21.0,29.0,21.0,28.0,28.0,22.0,36.0,20.0,24.0,19.0,18.0,21.0,22.0,27.0,29.0,25.0,23.0,25.0,30.0,26.0,20.0,27.0,34.0,32.0,32.0,23.0,23.0,18.0,18.0,34.0,30.0,23.0,19.0,24.0,19.0,21.0,24.0,35.0,23.0,23.0,18.0,18.0,26.0,30.0,24.0,19.0,33.0,24.0,24.0,16.0,26.0,26.0,21.0,21.0,20.0,29.0,20.0,25.0,32.0,27.0,22.0,23.0,33.0,34.0,28.0,19.0,20.0,23.0,24.0,30.0,17.0,22.0,17.0,29.0,30.0,20.0,20.0,21.0,23.0,27.0,23.0,31.0,19.0,27.0,30.0,26.0,26.0,23.0,22.0,21.0,21.0,18.0,33.0,27.0,32.0,24.0,19.0,25.0,28.0,30.0,28.0,24.0,34.0,24.0,19.0,26.0,30.0,27.0,29.0,27.0,28.0,27.0,33.0,21.0,20.0,19.0,20.0,20.0,30.0,22.0,32.0,22.0,24.0,24.0,26.0,29.0,21.0,19.0,30.0,25.0,23.0,19.0,26.0,23.0,26.0,21.0,26.0,26.0,28.0,29.0,29.0,27.0,31.0,20.0,34.0,29.0,26.0,18.0,20.0,26.0,26.0,23.0,17.0,29.0,31.0,31.0,26.0,25.0,25.0,21.0,28.0,25.0,26.0,25.0,26.0,25.0,21.0,21.0,21.0,25.0,22.0,28.0,28.0,31.0,31.0,25.0,19.0,27.0,30.0,19.0,33.0,24.0,24.0,26.0,34.0,23.0,23.0,21.0,20.0,23.0,27.0,20.0,25.0,22.0,33.0,24.0,20.0,20.0,23.0,28.0,20.0,25.0,24.0,18.0,16.0,19.0,22.0,24.0,25.0,18.0,30.0,22.0,27.0,22.0,22.0,24.0,21.0,24.0,28.0,22.0,32.0,24.0,24.0,22.0,19.0,26.0,22.0,27.0,24.0,25.0,24.0,23.0,29.0,26.0,22.0,27.0,25.0,23.0,21.0,25.0,25.0,25.0,25.0,33.0,27.0,27.0,20.0,25.0,21.0,31.0,19.0,25.0,28.0,24.0,27.0,32.0,20.0,29.0,29.0,22.0,27.0,29.0,21.0,24.0,19.0,19.0,34.0,33.0,23.0,17.0,27.0,27.0,22.0,33.0,24.0,27.0,27.0,22.0,33.0,28.0,27.0,30.0,27.0,22.0,19.0,20.0,26.0,21.0,16.0,21.0,23.0,24.0,20.0,23.0,31.0,16.0,18.0,30.0,19.0,22.0,26.0,24.0,24.0,27.0,18.0,37.0,31.0,22.0,22.0,18.0,36.0,24.0,24.0,19.0,23.0,21.0,19.0,27.0,26.0,26.0,29.0,25.0,22.0,18.0,32.0,31.0,18.0,22.0,24.0,23.0,32.0,21.0,32.0,21.0,20.0,26.0,26.0,32.0,19.0,26.0,22.0,22.0,18.0,24.0,28.0,25.0,29.0,19.0,27.0,27.0,29.0,29.0,27.0,20.0,27.0,20.0,27.0,28.0,28.0,30.0,26.0,19.0,21.0,25.0,25.0,34.0,27.0,29.0,25.0,20.0,20.0,26.0,23.0,22.0,26.0,26.0,19.0,19.0,17.0,20.0,20.0,22.0,19.0,26.0,34.0,26.0,27.0,24.0,24.0,27.0,22.0,26.0,28.0,29.0,20.0,25.0,19.0,35.0,22.0,20.0,30.0,17.0,20.0,23.0,19.0,29.0,23.0,23.0,26.0,31.0,19.0,33.0,31.0,28.0,25.0,35.0,23.0,20.0,20.0,22.0,25.0,21.0,26.0,28.0,26.0,27.0,19.0,21.0,25.0,26.0,27.0,28.0,27.0,24.0,20.0,33.0,18.0,26.0,27.0,27.0,27.0,29.0,29.0,25.0,20.0,22.0,31.0,23.0,23.0,23.0,23.0,25.0,31.0,28.0,21.0,20.0,20.0,23.0,25.0,25.0,17.0,32.0,22.0,25.0,34.0,21.0,29.0,28.0,32.0,24.0,36.0,17.0,25.0,26.0,24.0,25.0,26.0,23.0,29.0,35.0,23.0,24.0,26.0,30.0,28.0,25.0,22.0,23.0,25.0,24.0,18.0,23.0,23.0,33.0,27.0,27.0,18.0,20.0,25.0,25.0,40.0,22.0,18.0,30.0,34.0,25.0,23.0,24.0,23.0,31.0,26.0,24.0,23.0,29.0,34.0,33.0,31.0,23.0,30.0,23.0,31.0,36.0,26.0,22.0,21.0,28.0,28.0,24.0,32.0,21.0,23.0,32.0,24.0,20.0,27.0,26.0,22.0,28.0,30.0,20.0,25.0,27.0,30.0,27.0,27.0,18.0,23.0,20.0,22.0,18.0,18.0,20.0,23.0,27.0,25.0,24.0,19.0,19.0,24.0,18.0,27.0,26.0,18.0,24.0,19.0,24.0,30.0,31.0,18.0,26.0,30.0,23.0,22.0,23.0,17.0,31.0,27.0,19.0,24.0,21.0,24.0,26.0,26.0,26.0,19.0,24.0,32.0,21.0,31.0,32.0,26.0,25.0,26.0,32.0,22.0,18.0,26.0,20.0,23.0,21.0,26.0,19.0,25.0,19.0,19.0,19.0,26.0,26.0,25.0,31.0,24.0,19.0,19.0,21.0,27.0,21.0,20.0,21.0,16.0,24.0,24.0,27.0,25.0,22.0,22.0,31.0,19.0,29.0,35.0,30.0,29.0,24.0,28.0,31.0,32.0,20.0,23.0,18.0,24.0,27.0,30.0,19.0,28.0,26.0,25.0,28.0,18.0,30.0,25.0,18.0,26.0,26.0,26.0,21.0,21.0,26.0,27.0,29.0,26.0,17.0,22.0,24.0,20.0,22.0,30.0,22.0,22.0,26.0,22.0,21.0,24.0,24.0,30.0,27.0,32.0,27.0,21.0,25.0,18.0,20.0,20.0,31.0,18.0,23.0,20.0,32.0,26.0,29.0,32.0,22.0,19.0,26.0,19.0,20.0,28.0,26.0,21.0,20.0,24.0,36.0,27.0,26.0,22.0,21.0,39.0,22.0,26.0,23.0,23.0,26.0,29.0,32.0,20.0,21.0,20.0,21.0,31.0,23.0,27.0,24.0,24.0,20.0,33.0,19.0,19.0,24.0,31.0,29.0,28.0,20.0,33.0,26.0,23.0,21.0,22.0,24.0,19.0,28.0,32.0,21.0,26.0,23.0,31.0,33.0,20.0,24.0,19.0,18.0,29.0,23.0,23.0,25.0,28.0,26.0,26.0,26.0,20.0,28.0,20.0,36.0,17.0,31.0,26.0,19.0,20.0,21.0,29.0,27.0,30.0,24.0,19.0,23.0,26.0,32.0,26.0,28.0,23.0,27.0,21.0,26.0,20.0,27.0,31.0,29.0,26.0,24.0,17.0,19.0,30.0,24.0,30.0,25.0,29.0,30.0,24.0,24.0,31.0,34.0,34.0,25.0,28.0,24.0,27.0,31.0,21.0,23.0,24.0,20.0,23.0,17.0,31.0,28.0,32.0,20.0,23.0,19.0,26.0,19.0,32.0,28.0,23.0,23.0,33.0,16.0,24.0,26.0,24.0,24.0,25.0,18.0,30.0,23.0,21.0,30.0,28.0,24.0,30.0,22.0,23.0,23.0,23.0,23.0,27.0,23.0,20.0,30.0,19.0,29.0,26.0,26.0,21.0,20.0,30.0,18.0,29.0,28.0,31.0,23.0,23.0,21.0,25.0,21.0,26.0,21.0,27.0,30.0,32.0,23.0,21.0,17.0,27.0,22.0,26.0,22.0,23.0,23.0,23.0,29.0,33.0,27.0,30.0,30.0,32.0,24.0,24.0,20.0,33.0,25.0,31.0,23.0,27.0,29.0,22.0,18.0,28.0,23.0,22.0,30.0,27.0,33.0,31.0,28.0,28.0,28.0,33.0,20.0,26.0,23.0,23.0,37.0,33.0,32.0,25.0,27.0,19.0,24.0,25.0,21.0,30.0,23.0,27.0,25.0,26.0,29.0,18.0,24.0,26.0,21.0,17.0,28.0,18.0,34.0,19.0,29.0,26.0,33.0,31.0,29.0,27.0,21.0,23.0,27.0,22.0,30.0,34.0,24.0,28.0,30.0,25.0,19.0,28.0,26.0,31.0,22.0,19.0,25.0,19.0,30.0,22.0,27.0,34.0,31.0,27.0,28.0,22.0,27.0,26.0,22.0,30.0,26.0,25.0,17.0,24.0,28.0,27.0,28.0,23.0,19.0,27.0,30.0,22.0,27.0,24.0,29.0,29.0,26.0,35.0,28.0,26.0,30.0,23.0,34.0,31.0,26.0,21.0,32.0,25.0,20.0,22.0,22.0,19.0,19.0,25.0,22.0,22.0,34.0,32.0,31.0,30.0,27.0,23.0,24.0,33.0,29.0,27.0,27.0,25.0,31.0,30.0,19.0,15.0,34.0,24.0,23.0,29.0,19.0,35.0,20.0,30.0,25.0,28.0,19.0,21.0,25.0,18.0,18.0,18.0,19.0,24.0,26.0,31.0,26.0,27.0,26.0,26.0,17.0,24.0,23.0,21.0,20.0,32.0,33.0,21.0,31.0,24.0,24.0,23.0,32.0,34.0,27.0,17.0,27.0,25.0,31.0,21.0,22.0,28.0,32.0,18.0,23.0,19.0,31.0,23.0,27.0,22.0,24.0,20.0,24.0,26.0,29.0,21.0,23.0,20.0,20.0,21.0,24.0,20.0,18.0,19.0,26.0,28.0,25.0,27.0,33.0,19.0,33.0,19.0,22.0,20.0,20.0,27.0,23.0,23.0,30.0,24.0,23.0,34.0,31.0,24.0,23.0,27.0,30.0,32.0,31.0,25.0,27.0,21.0,26.0,31.0,31.0,33.0,30.0,32.0,23.0,24.0,24.0,28.0,23.0,27.0,26.0,22.0,22.0,20.0,18.0,33.0,23.0,20.0,32.0,28.0,24.0,22.0,24.0,19.0,27.0,23.0,24.0,28.0,30.0,17.0,19.0,22.0,33.0,22.0,31.0,23.0,26.0,26.0,26.0,29.0,18.0,26.0,23.0,17.0,20.0,20.0,24.0,31.0,22.0,27.0,21.0,22.0,24.0,21.0,25.0,24.0,25.0,25.0,19.0,29.0,28.0,22.0,20.0,23.0,20.0,33.0,30.0,20.0,20.0,26.0,34.0,27.0,29.0,28.0,17.0,32.0,29.0,21.0,27.0,24.0,28.0,28.0,25.0,22.0,23.0,26.0,28.0,27.0,25.0,25.0,26.0,30.0,31.0,32.0,31.0,25.0,25.0,27.0,19.0,25.0,18.0,31.0,19.0,19.0,22.0,22.0,23.0,26.0,26.0,17.0,23.0,26.0,26.0,24.0,20.0,18.0,25.0,27.0,30.0,28.0,24.0,19.0,24.0,18.0,29.0,26.0,33.0,21.0,21.0,23.0,25.0,27.0,22.0,24.0,31.0,23.0,23.0,24.0,19.0,24.0,17.0,31.0,23.0,23.0,26.0,28.0,26.0,21.0,30.0,24.0,33.0,19.0,24.0,25.0,20.0,27.0,31.0,32.0,36.0,18.0,26.0,23.0,19.0,34.0,29.0,27.0,20.0,23.0,26.0,20.0,28.0,33.0,30.0,26.0,26.0,24.0,27.0,31.0,25.0,33.0,31.0,30.0,25.0,26.0,33.0,20.0,31.0,24.0,28.0,20.0,30.0,29.0,32.0,31.0,17.0,24.0,21.0,29.0,18.0,35.0,23.0,19.0,23.0,17.0,24.0,17.0,28.0,24.0,18.0,30.0,24.0,29.0,24.0,26.0,23.0,21.0,22.0,21.0,30.0,29.0,29.0,28.0,29.0,26.0,22.0,28.0,20.0,23.0,26.0,26.0,33.0,21.0,34.0,22.0,21.0,22.0,29.0,24.0,28.0,22.0,22.0,38.0,25.0,21.0,26.0,24.0,23.0,26.0,20.0,29.0,34.0,26.0,31.0,21.0,26.0,27.0,18.0,29.0,21.0,25.0,31.0,27.0,22.0,30.0,25.0,20.0,18.0,22.0,25.0,30.0,18.0,24.0,31.0,25.0,27.0,23.0,22.0,27.0,26.0,20.0,23.0,28.0,26.0,24.0,31.0,23.0,25.0,29.0,29.0,19.0,26.0,24.0,26.0,18.0,22.0,26.0,32.0,24.0,18.0,23.0,22.0,22.0,25.0,25.0,25.0,31.0,24.0,24.0,18.0,23.0,25.0,24.0,28.0,39.0,22.0,30.0,32.0,27.0,26.0,26.0,28.0,30.0,18.0,19.0,22.0,21.0,21.0,28.0,30.0,22.0,35.0,23.0,30.0,30.0,29.0,20.0,29.0,29.0,19.0,22.0,21.0,28.0,30.0,23.0,25.0,25.0,20.0,30.0,22.0,17.0,27.0,22.0,20.0,22.0,25.0,18.0,34.0,20.0,23.0,21.0,31.0,33.0,24.0,26.0,26.0,26.0,28.0,21.0,27.0,19.0,25.0,31.0,24.0,31.0,30.0,23.0,30.0,25.0,23.0,31.0,35.0,21.0,21.0,22.0,27.0,35.0,16.0,22.0,19.0,19.0,26.0,27.0,30.0,26.0,26.0,19.0,20.0,27.0,18.0,26.0,20.0,28.0,29.0,20.0,17.0,25.0,16.0,24.0,21.0,22.0,28.0,34.0,29.0,27.0,25.0,25.0,24.0,27.0,27.0,25.0,25.0,34.0,18.0,20.0,22.0,22.0,16.0,21.0,27.0,25.0,27.0,22.0,27.0,20.0,29.0,32.0,19.0,26.0,27.0,28.0,22.0,25.0,21.0,33.0,24.0,31.0,32.0,33.0,16.0,19.0,19.0,24.0,24.0,23.0,21.0,26.0,18.0,27.0,26.0,29.0,31.0,22.0,38.0,27.0,29.0,29.0,20.0,31.0,25.0,18.0,20.0,25.0,27.0,24.0,20.0,24.0,27.0,27.0,27.0,35.0,25.0,24.0,38.0,25.0,26.0,31.0,20.0,20.0,26.0,32.0,26.0,27.0,28.0,16.0,31.0,23.0,19.0,32.0,31.0,32.0,20.0,19.0,27.0,24.0,21.0,25.0,26.0,21.0,32.0,18.0,20.0,24.0,23.0,26.0,19.0,23.0,19.0,29.0,25.0,22.0,22.0,19.0,23.0,19.0,26.0,26.0,33.0,31.0,34.0,26.0,28.0,28.0,23.0,26.0,30.0,28.0,21.0,29.0,21.0,25.0,22.0,30.0,29.0,20.0,21.0,21.0,26.0,28.0,30.0,30.0,21.0,21.0,21.0,30.0,25.0,27.0,24.0,23.0,20.0,24.0,15.0,25.0,25.0,20.0,19.0,24.0,22.0,19.0,24.0,31.0,23.0,19.0,22.0,38.0,24.0,25.0,24.0,19.0,22.0,27.0,19.0,27.0,20.0,23.0,21.0,18.0,18.0,33.0,23.0,24.0,24.0,25.0,23.0,27.0,35.0,24.0,21.0,38.0,27.0,19.0,27.0,24.0,20.0,19.0,17.0,28.0,22.0,25.0,22.0,27.0,26.0,24.0,23.0,21.0,29.0,19.0,24.0,20.0,23.0,25.0,23.0,26.0,23.0,25.0,26.0,26.0,20.0,25.0,21.0,26.0,20.0,27.0,18.0,25.0,25.0,27.0,19.0,17.0,33.0,36.0,18.0,27.0,20.0,30.0,23.0,23.0,25.0,21.0,16.0,31.0,30.0,25.0,19.0,18.0,28.0,20.0,27.0,18.0,21.0,20.0,24.0,24.0,23.0,21.0,24.0,27.0,18.0,21.0,23.0,21.0,24.0,22.0,30.0,24.0,26.0,26.0,34.0,24.0,22.0,30.0,22.0,28.0,22.0,28.0,24.0,21.0,32.0,30.0,26.0,26.0,24.0,27.0,21.0,18.0,17.0,22.0,22.0,31.0,32.0,18.0,21.0,22.0,27.0,31.0,20.0,19.0,25.0,30.0,24.0,20.0,20.0,20.0,16.0,22.0,18.0,19.0,27.0,18.0,24.0,24.0,23.0,20.0,26.0,27.0,21.0,26.0,26.0,23.0,19.0,23.0,22.0,38.0,20.0,18.0,25.0,21.0,21.0,29.0,31.0,19.0,29.0,36.0,16.0,27.0,22.0,29.0,19.0,26.0,24.0,21.0,30.0,35.0,18.0,23.0,31.0,29.0,22.0,26.0,31.0,36.0,22.0,28.0,20.0,23.0,35.0,25.0,20.0,19.0,27.0,24.0,28.0,21.0,37.0,18.0,26.0,28.0,28.0,28.0,23.0,28.0,25.0,23.0,30.0,24.0,24.0,21.0,24.0,25.0,33.0,29.0,21.0,18.0,18.0,28.0,27.0,26.0,30.0,29.0,24.0,31.0,26.0,21.0,27.0,27.0,29.0,24.0,29.0,31.0,26.0,26.0,28.0,21.0,19.0,27.0,29.0,16.0,27.0,24.0,26.0,17.0,23.0,30.0,28.0,22.0,22.0,22.0,23.0,27.0,30.0,26.0,24.0,25.0,23.0,24.0,25.0,31.0,21.0,19.0,19.0,19.0,22.0,31.0,25.0,28.0,29.0,30.0,20.0,26.0,32.0,27.0,24.0,32.0,27.0,27.0,21.0,30.0,23.0,23.0,20.0,31.0,19.0,29.0,30.0,28.0,26.0,25.0,18.0,25.0,21.0,20.0,28.0,29.0,27.0,25.0,22.0,21.0,32.0,20.0,28.0,29.0,29.0,19.0,23.0,26.0,23.0,25.0,21.0,24.0,27.0,26.0,26.0,24.0,26.0,23.0,26.0,24.0,27.0,28.0,25.0,30.0,29.0,18.0,27.0,26.0,41.0,18.0,22.0,24.0,29.0,21.0,20.0,19.0,25.0,26.0,21.0,21.0,24.0,22.0,25.0,24.0,22.0,27.0,31.0,22.0,23.0,30.0,30.0,24.0,18.0,28.0,26.0,19.0,32.0,30.0,26.0,17.0,27.0,28.0,24.0,23.0,16.0,20.0,26.0,17.0,21.0,36.0,18.0,30.0,33.0,21.0,18.0,28.0,31.0,23.0,25.0,25.0,22.0,22.0,29.0,24.0,22.0,26.0,24.0,19.0,32.0,29.0,33.0,19.0,27.0,22.0,21.0,27.0,19.0,23.0,23.0,20.0,31.0,22.0,21.0,30.0,17.0,31.0,22.0,28.0,24.0,21.0,28.0,32.0,22.0,32.0,26.0,31.0,31.0,24.0,31.0,26.0,31.0,30.0,29.0,27.0,27.0,25.0,25.0,27.0,25.0,25.0,20.0,23.0,29.0,25.0,22.0,16.0,25.0,25.0,22.0,32.0,22.0,24.0,18.0,22.0,27.0,23.0,25.0,27.0,31.0,22.0,28.0,28.0,28.0,30.0,30.0,24.0,27.0,20.0,28.0,24.0,35.0,27.0,31.0,27.0,20.0,23.0,26.0,24.0,26.0,24.0,28.0,22.0,26.0,18.0,23.0,23.0,29.0,32.0,29.0,29.0,20.0,20.0,21.0,22.0,32.0,22.0,23.0,26.0,25.0,18.0,23.0,22.0,32.0,20.0,21.0,22.0,21.0,20.0,25.0,18.0,20.0,22.0,25.0,32.0,28.0,30.0,21.0,26.0,27.0,24.0,31.0,24.0,26.0,25.0,29.0,32.0,25.0,20.0,28.0,28.0,21.0,32.0,19.0,24.0,23.0,21.0,32.0,30.0,24.0,23.0,27.0,28.0,27.0,32.0,21.0,21.0,24.0,31.0,29.0,26.0,29.0,32.0,21.0,32.0,28.0,24.0,19.0,22.0,28.0,28.0,29.0,27.0,22.0,24.0,18.0,30.0,33.0,23.0,24.0,29.0,21.0,29.0,27.0,21.0,18.0,27.0,24.0,23.0,25.0,29.0,36.0,28.0,19.0,28.0,26.0,18.0,27.0,27.0,29.0,23.0,24.0,24.0,33.0,24.0,28.0,29.0,31.0,22.0,24.0,33.0,27.0,21.0,24.0,23.0,29.0,23.0,25.0,21.0,26.0,25.0,27.0,19.0,24.0,19.0,27.0,35.0,31.0,26.0,26.0,24.0,20.0,33.0,25.0,25.0,29.0,21.0,25.0,23.0,27.0,22.0,22.0,23.0,31.0,32.0,25.0,27.0,24.0,22.0,21.0,29.0,29.0,19.0,33.0,19.0,28.0,30.0,22.0,29.0,17.0,21.0,28.0,23.0,30.0,30.0,28.0,23.0,30.0,24.0,27.0,37.0,31.0,30.0,26.0,21.0,24.0,28.0,21.0,22.0,22.0,22.0,30.0,21.0,25.0,22.0,26.0,24.0,25.0,20.0,21.0,30.0,30.0,34.0,28.0,23.0,28.0,27.0,27.0,30.0,31.0,28.0,30.0,16.0,29.0,25.0,32.0,32.0,28.0,22.0,31.0,22.0,24.0,25.0,30.0,26.0,20.0,22.0,21.0,24.0,28.0,20.0,19.0,19.0,25.0,28.0,23.0,24.0,32.0,21.0,34.0,23.0,23.0,27.0,22.0,28.0,30.0,24.0,31.0,24.0,37.0,23.0,22.0,31.0,23.0,24.0,30.0,28.0,23.0,26.0,24.0,27.0,27.0,27.0,23.0,24.0,28.0,19.0,29.0,22.0,33.0,29.0,22.0,25.0,26.0,24.0,18.0,21.0,21.0,24.0,27.0,30.0,18.0,30.0,18.0,32.0,19.0,21.0,27.0,31.0,28.0,22.0,32.0,26.0,34.0,25.0,36.0,23.0,21.0,37.0,33.0,29.0,22.0,28.0,26.0,26.0,22.0,22.0,25.0,21.0,21.0,23.0,20.0,20.0,35.0,27.0,28.0,21.0,25.0,19.0,19.0,20.0,18.0,23.0,25.0,29.0,23.0,22.0,25.0,28.0,20.0,27.0,30.0,26.0,22.0,26.0,26.0,33.0,23.0,22.0,37.0,25.0,25.0,28.0,26.0,25.0,28.0,25.0,17.0,21.0,33.0,32.0,21.0,21.0,21.0,20.0,28.0,32.0,23.0,18.0,21.0,21.0,32.0,31.0,19.0,23.0,31.0,31.0,18.0,27.0,25.0,22.0,29.0,20.0,20.0,25.0,19.0,20.0,26.0,27.0,29.0,34.0,26.0,22.0,24.0,24.0,25.0,19.0,24.0,20.0,26.0,25.0,25.0,32.0,29.0,29.0,32.0,21.0,32.0,29.0,21.0,21.0,21.0,30.0,34.0,34.0,27.0,28.0,24.0,24.0,26.0,18.0,31.0,34.0,29.0,29.0,18.0,28.0,24.0,29.0,28.0,25.0,19.0,30.0,22.0,22.0,33.0,23.0,28.0,20.0,26.0,31.0,24.0,27.0,19.0,30.0,23.0,22.0,35.0,24.0,32.0,27.0,23.0,25.0,28.0,19.0,21.0,27.0,26.0,35.0,28.0,29.0,22.0,24.0,32.0,22.0,22.0,25.0,31.0,17.0,17.0,22.0,20.0,26.0,24.0,22.0,19.0,18.0,39.0,22.0,21.0,17.0,29.0,25.0,18.0,31.0,18.0,30.0,27.0,21.0,22.0,22.0,28.0,30.0,25.0,25.0,23.0,33.0,24.0,32.0,23.0,23.0,25.0,24.0,24.0,29.0,25.0,25.0,19.0,19.0,26.0,26.0,29.0,19.0,25.0,30.0,27.0,22.0,23.0,30.0,19.0,25.0,19.0,30.0,27.0,25.0,19.0,26.0,25.0,34.0,34.0],\"xaxis\":\"x\",\"yaxis\":\"y\",\"type\":\"histogram\"},{\"alignmentgroup\":\"True\",\"boxpoints\":\"all\",\"fillcolor\":\"rgba(255,255,255,0)\",\"hoveron\":\"points\",\"hovertemplate\":\"Age=%{x}\\u003cextra\\u003e\\u003c\\u002fextra\\u003e\",\"jitter\":0,\"legendgroup\":\"\",\"line\":{\"color\":\"rgba(255,255,255,0)\"},\"marker\":{\"color\":\"dodgerblue\",\"symbol\":\"line-ns-open\"},\"name\":\"\",\"offsetgroup\":\"\",\"showlegend\":false,\"x\":[24.0,24.0,21.0,20.0,18.0,36.0,24.0,25.0,30.0,25.0,23.0,21.0,28.0,21.0,24.0,24.0,25.0,26.0,26.0,20.0,36.0,18.0,24.0,24.0,28.0,25.0,23.0,26.0,20.0,22.0,22.0,24.0,24.0,37.0,26.0,18.0,27.0,26.0,27.0,27.0,18.0,18.0,23.0,22.0,24.0,28.0,21.0,28.0,31.0,22.0,16.0,22.0,30.0,28.0,28.0,19.0,27.0,23.0,19.0,26.0,30.0,29.0,20.0,29.0,20.0,26.0,22.0,26.0,22.0,31.0,22.0,29.0,28.0,32.0,18.0,34.0,38.0,21.0,21.0,27.0,26.0,26.0,23.0,25.0,25.0,20.0,23.0,31.0,25.0,29.0,28.0,23.0,24.0,20.0,30.0,25.0,33.0,25.0,23.0,22.0,26.0,21.0,24.0,29.0,22.0,19.0,27.0,17.0,28.0,30.0,21.0,26.0,28.0,27.0,18.0,18.0,18.0,18.0,24.0,27.0,28.0,28.0,21.0,23.0,33.0,27.0,29.0,27.0,19.0,22.0,28.0,21.0,16.0,34.0,21.0,24.0,24.0,29.0,32.0,26.0,28.0,22.0,22.0,25.0,23.0,28.0,31.0,22.0,25.0,22.0,28.0,27.0,17.0,29.0,21.0,35.0,30.0,24.0,21.0,29.0,21.0,29.0,21.0,28.0,28.0,22.0,36.0,20.0,24.0,19.0,18.0,21.0,22.0,27.0,29.0,25.0,23.0,25.0,30.0,26.0,20.0,27.0,34.0,32.0,32.0,23.0,23.0,18.0,18.0,34.0,30.0,23.0,19.0,24.0,19.0,21.0,24.0,35.0,23.0,23.0,18.0,18.0,26.0,30.0,24.0,19.0,33.0,24.0,24.0,16.0,26.0,26.0,21.0,21.0,20.0,29.0,20.0,25.0,32.0,27.0,22.0,23.0,33.0,34.0,28.0,19.0,20.0,23.0,24.0,30.0,17.0,22.0,17.0,29.0,30.0,20.0,20.0,21.0,23.0,27.0,23.0,31.0,19.0,27.0,30.0,26.0,26.0,23.0,22.0,21.0,21.0,18.0,33.0,27.0,32.0,24.0,19.0,25.0,28.0,30.0,28.0,24.0,34.0,24.0,19.0,26.0,30.0,27.0,29.0,27.0,28.0,27.0,33.0,21.0,20.0,19.0,20.0,20.0,30.0,22.0,32.0,22.0,24.0,24.0,26.0,29.0,21.0,19.0,30.0,25.0,23.0,19.0,26.0,23.0,26.0,21.0,26.0,26.0,28.0,29.0,29.0,27.0,31.0,20.0,34.0,29.0,26.0,18.0,20.0,26.0,26.0,23.0,17.0,29.0,31.0,31.0,26.0,25.0,25.0,21.0,28.0,25.0,26.0,25.0,26.0,25.0,21.0,21.0,21.0,25.0,22.0,28.0,28.0,31.0,31.0,25.0,19.0,27.0,30.0,19.0,33.0,24.0,24.0,26.0,34.0,23.0,23.0,21.0,20.0,23.0,27.0,20.0,25.0,22.0,33.0,24.0,20.0,20.0,23.0,28.0,20.0,25.0,24.0,18.0,16.0,19.0,22.0,24.0,25.0,18.0,30.0,22.0,27.0,22.0,22.0,24.0,21.0,24.0,28.0,22.0,32.0,24.0,24.0,22.0,19.0,26.0,22.0,27.0,24.0,25.0,24.0,23.0,29.0,26.0,22.0,27.0,25.0,23.0,21.0,25.0,25.0,25.0,25.0,33.0,27.0,27.0,20.0,25.0,21.0,31.0,19.0,25.0,28.0,24.0,27.0,32.0,20.0,29.0,29.0,22.0,27.0,29.0,21.0,24.0,19.0,19.0,34.0,33.0,23.0,17.0,27.0,27.0,22.0,33.0,24.0,27.0,27.0,22.0,33.0,28.0,27.0,30.0,27.0,22.0,19.0,20.0,26.0,21.0,16.0,21.0,23.0,24.0,20.0,23.0,31.0,16.0,18.0,30.0,19.0,22.0,26.0,24.0,24.0,27.0,18.0,37.0,31.0,22.0,22.0,18.0,36.0,24.0,24.0,19.0,23.0,21.0,19.0,27.0,26.0,26.0,29.0,25.0,22.0,18.0,32.0,31.0,18.0,22.0,24.0,23.0,32.0,21.0,32.0,21.0,20.0,26.0,26.0,32.0,19.0,26.0,22.0,22.0,18.0,24.0,28.0,25.0,29.0,19.0,27.0,27.0,29.0,29.0,27.0,20.0,27.0,20.0,27.0,28.0,28.0,30.0,26.0,19.0,21.0,25.0,25.0,34.0,27.0,29.0,25.0,20.0,20.0,26.0,23.0,22.0,26.0,26.0,19.0,19.0,17.0,20.0,20.0,22.0,19.0,26.0,34.0,26.0,27.0,24.0,24.0,27.0,22.0,26.0,28.0,29.0,20.0,25.0,19.0,35.0,22.0,20.0,30.0,17.0,20.0,23.0,19.0,29.0,23.0,23.0,26.0,31.0,19.0,33.0,31.0,28.0,25.0,35.0,23.0,20.0,20.0,22.0,25.0,21.0,26.0,28.0,26.0,27.0,19.0,21.0,25.0,26.0,27.0,28.0,27.0,24.0,20.0,33.0,18.0,26.0,27.0,27.0,27.0,29.0,29.0,25.0,20.0,22.0,31.0,23.0,23.0,23.0,23.0,25.0,31.0,28.0,21.0,20.0,20.0,23.0,25.0,25.0,17.0,32.0,22.0,25.0,34.0,21.0,29.0,28.0,32.0,24.0,36.0,17.0,25.0,26.0,24.0,25.0,26.0,23.0,29.0,35.0,23.0,24.0,26.0,30.0,28.0,25.0,22.0,23.0,25.0,24.0,18.0,23.0,23.0,33.0,27.0,27.0,18.0,20.0,25.0,25.0,40.0,22.0,18.0,30.0,34.0,25.0,23.0,24.0,23.0,31.0,26.0,24.0,23.0,29.0,34.0,33.0,31.0,23.0,30.0,23.0,31.0,36.0,26.0,22.0,21.0,28.0,28.0,24.0,32.0,21.0,23.0,32.0,24.0,20.0,27.0,26.0,22.0,28.0,30.0,20.0,25.0,27.0,30.0,27.0,27.0,18.0,23.0,20.0,22.0,18.0,18.0,20.0,23.0,27.0,25.0,24.0,19.0,19.0,24.0,18.0,27.0,26.0,18.0,24.0,19.0,24.0,30.0,31.0,18.0,26.0,30.0,23.0,22.0,23.0,17.0,31.0,27.0,19.0,24.0,21.0,24.0,26.0,26.0,26.0,19.0,24.0,32.0,21.0,31.0,32.0,26.0,25.0,26.0,32.0,22.0,18.0,26.0,20.0,23.0,21.0,26.0,19.0,25.0,19.0,19.0,19.0,26.0,26.0,25.0,31.0,24.0,19.0,19.0,21.0,27.0,21.0,20.0,21.0,16.0,24.0,24.0,27.0,25.0,22.0,22.0,31.0,19.0,29.0,35.0,30.0,29.0,24.0,28.0,31.0,32.0,20.0,23.0,18.0,24.0,27.0,30.0,19.0,28.0,26.0,25.0,28.0,18.0,30.0,25.0,18.0,26.0,26.0,26.0,21.0,21.0,26.0,27.0,29.0,26.0,17.0,22.0,24.0,20.0,22.0,30.0,22.0,22.0,26.0,22.0,21.0,24.0,24.0,30.0,27.0,32.0,27.0,21.0,25.0,18.0,20.0,20.0,31.0,18.0,23.0,20.0,32.0,26.0,29.0,32.0,22.0,19.0,26.0,19.0,20.0,28.0,26.0,21.0,20.0,24.0,36.0,27.0,26.0,22.0,21.0,39.0,22.0,26.0,23.0,23.0,26.0,29.0,32.0,20.0,21.0,20.0,21.0,31.0,23.0,27.0,24.0,24.0,20.0,33.0,19.0,19.0,24.0,31.0,29.0,28.0,20.0,33.0,26.0,23.0,21.0,22.0,24.0,19.0,28.0,32.0,21.0,26.0,23.0,31.0,33.0,20.0,24.0,19.0,18.0,29.0,23.0,23.0,25.0,28.0,26.0,26.0,26.0,20.0,28.0,20.0,36.0,17.0,31.0,26.0,19.0,20.0,21.0,29.0,27.0,30.0,24.0,19.0,23.0,26.0,32.0,26.0,28.0,23.0,27.0,21.0,26.0,20.0,27.0,31.0,29.0,26.0,24.0,17.0,19.0,30.0,24.0,30.0,25.0,29.0,30.0,24.0,24.0,31.0,34.0,34.0,25.0,28.0,24.0,27.0,31.0,21.0,23.0,24.0,20.0,23.0,17.0,31.0,28.0,32.0,20.0,23.0,19.0,26.0,19.0,32.0,28.0,23.0,23.0,33.0,16.0,24.0,26.0,24.0,24.0,25.0,18.0,30.0,23.0,21.0,30.0,28.0,24.0,30.0,22.0,23.0,23.0,23.0,23.0,27.0,23.0,20.0,30.0,19.0,29.0,26.0,26.0,21.0,20.0,30.0,18.0,29.0,28.0,31.0,23.0,23.0,21.0,25.0,21.0,26.0,21.0,27.0,30.0,32.0,23.0,21.0,17.0,27.0,22.0,26.0,22.0,23.0,23.0,23.0,29.0,33.0,27.0,30.0,30.0,32.0,24.0,24.0,20.0,33.0,25.0,31.0,23.0,27.0,29.0,22.0,18.0,28.0,23.0,22.0,30.0,27.0,33.0,31.0,28.0,28.0,28.0,33.0,20.0,26.0,23.0,23.0,37.0,33.0,32.0,25.0,27.0,19.0,24.0,25.0,21.0,30.0,23.0,27.0,25.0,26.0,29.0,18.0,24.0,26.0,21.0,17.0,28.0,18.0,34.0,19.0,29.0,26.0,33.0,31.0,29.0,27.0,21.0,23.0,27.0,22.0,30.0,34.0,24.0,28.0,30.0,25.0,19.0,28.0,26.0,31.0,22.0,19.0,25.0,19.0,30.0,22.0,27.0,34.0,31.0,27.0,28.0,22.0,27.0,26.0,22.0,30.0,26.0,25.0,17.0,24.0,28.0,27.0,28.0,23.0,19.0,27.0,30.0,22.0,27.0,24.0,29.0,29.0,26.0,35.0,28.0,26.0,30.0,23.0,34.0,31.0,26.0,21.0,32.0,25.0,20.0,22.0,22.0,19.0,19.0,25.0,22.0,22.0,34.0,32.0,31.0,30.0,27.0,23.0,24.0,33.0,29.0,27.0,27.0,25.0,31.0,30.0,19.0,15.0,34.0,24.0,23.0,29.0,19.0,35.0,20.0,30.0,25.0,28.0,19.0,21.0,25.0,18.0,18.0,18.0,19.0,24.0,26.0,31.0,26.0,27.0,26.0,26.0,17.0,24.0,23.0,21.0,20.0,32.0,33.0,21.0,31.0,24.0,24.0,23.0,32.0,34.0,27.0,17.0,27.0,25.0,31.0,21.0,22.0,28.0,32.0,18.0,23.0,19.0,31.0,23.0,27.0,22.0,24.0,20.0,24.0,26.0,29.0,21.0,23.0,20.0,20.0,21.0,24.0,20.0,18.0,19.0,26.0,28.0,25.0,27.0,33.0,19.0,33.0,19.0,22.0,20.0,20.0,27.0,23.0,23.0,30.0,24.0,23.0,34.0,31.0,24.0,23.0,27.0,30.0,32.0,31.0,25.0,27.0,21.0,26.0,31.0,31.0,33.0,30.0,32.0,23.0,24.0,24.0,28.0,23.0,27.0,26.0,22.0,22.0,20.0,18.0,33.0,23.0,20.0,32.0,28.0,24.0,22.0,24.0,19.0,27.0,23.0,24.0,28.0,30.0,17.0,19.0,22.0,33.0,22.0,31.0,23.0,26.0,26.0,26.0,29.0,18.0,26.0,23.0,17.0,20.0,20.0,24.0,31.0,22.0,27.0,21.0,22.0,24.0,21.0,25.0,24.0,25.0,25.0,19.0,29.0,28.0,22.0,20.0,23.0,20.0,33.0,30.0,20.0,20.0,26.0,34.0,27.0,29.0,28.0,17.0,32.0,29.0,21.0,27.0,24.0,28.0,28.0,25.0,22.0,23.0,26.0,28.0,27.0,25.0,25.0,26.0,30.0,31.0,32.0,31.0,25.0,25.0,27.0,19.0,25.0,18.0,31.0,19.0,19.0,22.0,22.0,23.0,26.0,26.0,17.0,23.0,26.0,26.0,24.0,20.0,18.0,25.0,27.0,30.0,28.0,24.0,19.0,24.0,18.0,29.0,26.0,33.0,21.0,21.0,23.0,25.0,27.0,22.0,24.0,31.0,23.0,23.0,24.0,19.0,24.0,17.0,31.0,23.0,23.0,26.0,28.0,26.0,21.0,30.0,24.0,33.0,19.0,24.0,25.0,20.0,27.0,31.0,32.0,36.0,18.0,26.0,23.0,19.0,34.0,29.0,27.0,20.0,23.0,26.0,20.0,28.0,33.0,30.0,26.0,26.0,24.0,27.0,31.0,25.0,33.0,31.0,30.0,25.0,26.0,33.0,20.0,31.0,24.0,28.0,20.0,30.0,29.0,32.0,31.0,17.0,24.0,21.0,29.0,18.0,35.0,23.0,19.0,23.0,17.0,24.0,17.0,28.0,24.0,18.0,30.0,24.0,29.0,24.0,26.0,23.0,21.0,22.0,21.0,30.0,29.0,29.0,28.0,29.0,26.0,22.0,28.0,20.0,23.0,26.0,26.0,33.0,21.0,34.0,22.0,21.0,22.0,29.0,24.0,28.0,22.0,22.0,38.0,25.0,21.0,26.0,24.0,23.0,26.0,20.0,29.0,34.0,26.0,31.0,21.0,26.0,27.0,18.0,29.0,21.0,25.0,31.0,27.0,22.0,30.0,25.0,20.0,18.0,22.0,25.0,30.0,18.0,24.0,31.0,25.0,27.0,23.0,22.0,27.0,26.0,20.0,23.0,28.0,26.0,24.0,31.0,23.0,25.0,29.0,29.0,19.0,26.0,24.0,26.0,18.0,22.0,26.0,32.0,24.0,18.0,23.0,22.0,22.0,25.0,25.0,25.0,31.0,24.0,24.0,18.0,23.0,25.0,24.0,28.0,39.0,22.0,30.0,32.0,27.0,26.0,26.0,28.0,30.0,18.0,19.0,22.0,21.0,21.0,28.0,30.0,22.0,35.0,23.0,30.0,30.0,29.0,20.0,29.0,29.0,19.0,22.0,21.0,28.0,30.0,23.0,25.0,25.0,20.0,30.0,22.0,17.0,27.0,22.0,20.0,22.0,25.0,18.0,34.0,20.0,23.0,21.0,31.0,33.0,24.0,26.0,26.0,26.0,28.0,21.0,27.0,19.0,25.0,31.0,24.0,31.0,30.0,23.0,30.0,25.0,23.0,31.0,35.0,21.0,21.0,22.0,27.0,35.0,16.0,22.0,19.0,19.0,26.0,27.0,30.0,26.0,26.0,19.0,20.0,27.0,18.0,26.0,20.0,28.0,29.0,20.0,17.0,25.0,16.0,24.0,21.0,22.0,28.0,34.0,29.0,27.0,25.0,25.0,24.0,27.0,27.0,25.0,25.0,34.0,18.0,20.0,22.0,22.0,16.0,21.0,27.0,25.0,27.0,22.0,27.0,20.0,29.0,32.0,19.0,26.0,27.0,28.0,22.0,25.0,21.0,33.0,24.0,31.0,32.0,33.0,16.0,19.0,19.0,24.0,24.0,23.0,21.0,26.0,18.0,27.0,26.0,29.0,31.0,22.0,38.0,27.0,29.0,29.0,20.0,31.0,25.0,18.0,20.0,25.0,27.0,24.0,20.0,24.0,27.0,27.0,27.0,35.0,25.0,24.0,38.0,25.0,26.0,31.0,20.0,20.0,26.0,32.0,26.0,27.0,28.0,16.0,31.0,23.0,19.0,32.0,31.0,32.0,20.0,19.0,27.0,24.0,21.0,25.0,26.0,21.0,32.0,18.0,20.0,24.0,23.0,26.0,19.0,23.0,19.0,29.0,25.0,22.0,22.0,19.0,23.0,19.0,26.0,26.0,33.0,31.0,34.0,26.0,28.0,28.0,23.0,26.0,30.0,28.0,21.0,29.0,21.0,25.0,22.0,30.0,29.0,20.0,21.0,21.0,26.0,28.0,30.0,30.0,21.0,21.0,21.0,30.0,25.0,27.0,24.0,23.0,20.0,24.0,15.0,25.0,25.0,20.0,19.0,24.0,22.0,19.0,24.0,31.0,23.0,19.0,22.0,38.0,24.0,25.0,24.0,19.0,22.0,27.0,19.0,27.0,20.0,23.0,21.0,18.0,18.0,33.0,23.0,24.0,24.0,25.0,23.0,27.0,35.0,24.0,21.0,38.0,27.0,19.0,27.0,24.0,20.0,19.0,17.0,28.0,22.0,25.0,22.0,27.0,26.0,24.0,23.0,21.0,29.0,19.0,24.0,20.0,23.0,25.0,23.0,26.0,23.0,25.0,26.0,26.0,20.0,25.0,21.0,26.0,20.0,27.0,18.0,25.0,25.0,27.0,19.0,17.0,33.0,36.0,18.0,27.0,20.0,30.0,23.0,23.0,25.0,21.0,16.0,31.0,30.0,25.0,19.0,18.0,28.0,20.0,27.0,18.0,21.0,20.0,24.0,24.0,23.0,21.0,24.0,27.0,18.0,21.0,23.0,21.0,24.0,22.0,30.0,24.0,26.0,26.0,34.0,24.0,22.0,30.0,22.0,28.0,22.0,28.0,24.0,21.0,32.0,30.0,26.0,26.0,24.0,27.0,21.0,18.0,17.0,22.0,22.0,31.0,32.0,18.0,21.0,22.0,27.0,31.0,20.0,19.0,25.0,30.0,24.0,20.0,20.0,20.0,16.0,22.0,18.0,19.0,27.0,18.0,24.0,24.0,23.0,20.0,26.0,27.0,21.0,26.0,26.0,23.0,19.0,23.0,22.0,38.0,20.0,18.0,25.0,21.0,21.0,29.0,31.0,19.0,29.0,36.0,16.0,27.0,22.0,29.0,19.0,26.0,24.0,21.0,30.0,35.0,18.0,23.0,31.0,29.0,22.0,26.0,31.0,36.0,22.0,28.0,20.0,23.0,35.0,25.0,20.0,19.0,27.0,24.0,28.0,21.0,37.0,18.0,26.0,28.0,28.0,28.0,23.0,28.0,25.0,23.0,30.0,24.0,24.0,21.0,24.0,25.0,33.0,29.0,21.0,18.0,18.0,28.0,27.0,26.0,30.0,29.0,24.0,31.0,26.0,21.0,27.0,27.0,29.0,24.0,29.0,31.0,26.0,26.0,28.0,21.0,19.0,27.0,29.0,16.0,27.0,24.0,26.0,17.0,23.0,30.0,28.0,22.0,22.0,22.0,23.0,27.0,30.0,26.0,24.0,25.0,23.0,24.0,25.0,31.0,21.0,19.0,19.0,19.0,22.0,31.0,25.0,28.0,29.0,30.0,20.0,26.0,32.0,27.0,24.0,32.0,27.0,27.0,21.0,30.0,23.0,23.0,20.0,31.0,19.0,29.0,30.0,28.0,26.0,25.0,18.0,25.0,21.0,20.0,28.0,29.0,27.0,25.0,22.0,21.0,32.0,20.0,28.0,29.0,29.0,19.0,23.0,26.0,23.0,25.0,21.0,24.0,27.0,26.0,26.0,24.0,26.0,23.0,26.0,24.0,27.0,28.0,25.0,30.0,29.0,18.0,27.0,26.0,41.0,18.0,22.0,24.0,29.0,21.0,20.0,19.0,25.0,26.0,21.0,21.0,24.0,22.0,25.0,24.0,22.0,27.0,31.0,22.0,23.0,30.0,30.0,24.0,18.0,28.0,26.0,19.0,32.0,30.0,26.0,17.0,27.0,28.0,24.0,23.0,16.0,20.0,26.0,17.0,21.0,36.0,18.0,30.0,33.0,21.0,18.0,28.0,31.0,23.0,25.0,25.0,22.0,22.0,29.0,24.0,22.0,26.0,24.0,19.0,32.0,29.0,33.0,19.0,27.0,22.0,21.0,27.0,19.0,23.0,23.0,20.0,31.0,22.0,21.0,30.0,17.0,31.0,22.0,28.0,24.0,21.0,28.0,32.0,22.0,32.0,26.0,31.0,31.0,24.0,31.0,26.0,31.0,30.0,29.0,27.0,27.0,25.0,25.0,27.0,25.0,25.0,20.0,23.0,29.0,25.0,22.0,16.0,25.0,25.0,22.0,32.0,22.0,24.0,18.0,22.0,27.0,23.0,25.0,27.0,31.0,22.0,28.0,28.0,28.0,30.0,30.0,24.0,27.0,20.0,28.0,24.0,35.0,27.0,31.0,27.0,20.0,23.0,26.0,24.0,26.0,24.0,28.0,22.0,26.0,18.0,23.0,23.0,29.0,32.0,29.0,29.0,20.0,20.0,21.0,22.0,32.0,22.0,23.0,26.0,25.0,18.0,23.0,22.0,32.0,20.0,21.0,22.0,21.0,20.0,25.0,18.0,20.0,22.0,25.0,32.0,28.0,30.0,21.0,26.0,27.0,24.0,31.0,24.0,26.0,25.0,29.0,32.0,25.0,20.0,28.0,28.0,21.0,32.0,19.0,24.0,23.0,21.0,32.0,30.0,24.0,23.0,27.0,28.0,27.0,32.0,21.0,21.0,24.0,31.0,29.0,26.0,29.0,32.0,21.0,32.0,28.0,24.0,19.0,22.0,28.0,28.0,29.0,27.0,22.0,24.0,18.0,30.0,33.0,23.0,24.0,29.0,21.0,29.0,27.0,21.0,18.0,27.0,24.0,23.0,25.0,29.0,36.0,28.0,19.0,28.0,26.0,18.0,27.0,27.0,29.0,23.0,24.0,24.0,33.0,24.0,28.0,29.0,31.0,22.0,24.0,33.0,27.0,21.0,24.0,23.0,29.0,23.0,25.0,21.0,26.0,25.0,27.0,19.0,24.0,19.0,27.0,35.0,31.0,26.0,26.0,24.0,20.0,33.0,25.0,25.0,29.0,21.0,25.0,23.0,27.0,22.0,22.0,23.0,31.0,32.0,25.0,27.0,24.0,22.0,21.0,29.0,29.0,19.0,33.0,19.0,28.0,30.0,22.0,29.0,17.0,21.0,28.0,23.0,30.0,30.0,28.0,23.0,30.0,24.0,27.0,37.0,31.0,30.0,26.0,21.0,24.0,28.0,21.0,22.0,22.0,22.0,30.0,21.0,25.0,22.0,26.0,24.0,25.0,20.0,21.0,30.0,30.0,34.0,28.0,23.0,28.0,27.0,27.0,30.0,31.0,28.0,30.0,16.0,29.0,25.0,32.0,32.0,28.0,22.0,31.0,22.0,24.0,25.0,30.0,26.0,20.0,22.0,21.0,24.0,28.0,20.0,19.0,19.0,25.0,28.0,23.0,24.0,32.0,21.0,34.0,23.0,23.0,27.0,22.0,28.0,30.0,24.0,31.0,24.0,37.0,23.0,22.0,31.0,23.0,24.0,30.0,28.0,23.0,26.0,24.0,27.0,27.0,27.0,23.0,24.0,28.0,19.0,29.0,22.0,33.0,29.0,22.0,25.0,26.0,24.0,18.0,21.0,21.0,24.0,27.0,30.0,18.0,30.0,18.0,32.0,19.0,21.0,27.0,31.0,28.0,22.0,32.0,26.0,34.0,25.0,36.0,23.0,21.0,37.0,33.0,29.0,22.0,28.0,26.0,26.0,22.0,22.0,25.0,21.0,21.0,23.0,20.0,20.0,35.0,27.0,28.0,21.0,25.0,19.0,19.0,20.0,18.0,23.0,25.0,29.0,23.0,22.0,25.0,28.0,20.0,27.0,30.0,26.0,22.0,26.0,26.0,33.0,23.0,22.0,37.0,25.0,25.0,28.0,26.0,25.0,28.0,25.0,17.0,21.0,33.0,32.0,21.0,21.0,21.0,20.0,28.0,32.0,23.0,18.0,21.0,21.0,32.0,31.0,19.0,23.0,31.0,31.0,18.0,27.0,25.0,22.0,29.0,20.0,20.0,25.0,19.0,20.0,26.0,27.0,29.0,34.0,26.0,22.0,24.0,24.0,25.0,19.0,24.0,20.0,26.0,25.0,25.0,32.0,29.0,29.0,32.0,21.0,32.0,29.0,21.0,21.0,21.0,30.0,34.0,34.0,27.0,28.0,24.0,24.0,26.0,18.0,31.0,34.0,29.0,29.0,18.0,28.0,24.0,29.0,28.0,25.0,19.0,30.0,22.0,22.0,33.0,23.0,28.0,20.0,26.0,31.0,24.0,27.0,19.0,30.0,23.0,22.0,35.0,24.0,32.0,27.0,23.0,25.0,28.0,19.0,21.0,27.0,26.0,35.0,28.0,29.0,22.0,24.0,32.0,22.0,22.0,25.0,31.0,17.0,17.0,22.0,20.0,26.0,24.0,22.0,19.0,18.0,39.0,22.0,21.0,17.0,29.0,25.0,18.0,31.0,18.0,30.0,27.0,21.0,22.0,22.0,28.0,30.0,25.0,25.0,23.0,33.0,24.0,32.0,23.0,23.0,25.0,24.0,24.0,29.0,25.0,25.0,19.0,19.0,26.0,26.0,29.0,19.0,25.0,30.0,27.0,22.0,23.0,30.0,19.0,25.0,19.0,30.0,27.0,25.0,19.0,26.0,25.0,34.0,34.0],\"xaxis\":\"x2\",\"yaxis\":\"y2\",\"type\":\"box\"}],                        {\"template\":{\"data\":{\"histogram2dcontour\":[{\"type\":\"histogram2dcontour\",\"colorbar\":{\"outlinewidth\":0,\"ticks\":\"\"},\"colorscale\":[[0.0,\"#0d0887\"],[0.1111111111111111,\"#46039f\"],[0.2222222222222222,\"#7201a8\"],[0.3333333333333333,\"#9c179e\"],[0.4444444444444444,\"#bd3786\"],[0.5555555555555556,\"#d8576b\"],[0.6666666666666666,\"#ed7953\"],[0.7777777777777778,\"#fb9f3a\"],[0.8888888888888888,\"#fdca26\"],[1.0,\"#f0f921\"]]}],\"choropleth\":[{\"type\":\"choropleth\",\"colorbar\":{\"outlinewidth\":0,\"ticks\":\"\"}}],\"histogram2d\":[{\"type\":\"histogram2d\",\"colorbar\":{\"outlinewidth\":0,\"ticks\":\"\"},\"colorscale\":[[0.0,\"#0d0887\"],[0.1111111111111111,\"#46039f\"],[0.2222222222222222,\"#7201a8\"],[0.3333333333333333,\"#9c179e\"],[0.4444444444444444,\"#bd3786\"],[0.5555555555555556,\"#d8576b\"],[0.6666666666666666,\"#ed7953\"],[0.7777777777777778,\"#fb9f3a\"],[0.8888888888888888,\"#fdca26\"],[1.0,\"#f0f921\"]]}],\"heatmap\":[{\"type\":\"heatmap\",\"colorbar\":{\"outlinewidth\":0,\"ticks\":\"\"},\"colorscale\":[[0.0,\"#0d0887\"],[0.1111111111111111,\"#46039f\"],[0.2222222222222222,\"#7201a8\"],[0.3333333333333333,\"#9c179e\"],[0.4444444444444444,\"#bd3786\"],[0.5555555555555556,\"#d8576b\"],[0.6666666666666666,\"#ed7953\"],[0.7777777777777778,\"#fb9f3a\"],[0.8888888888888888,\"#fdca26\"],[1.0,\"#f0f921\"]]}],\"heatmapgl\":[{\"type\":\"heatmapgl\",\"colorbar\":{\"outlinewidth\":0,\"ticks\":\"\"},\"colorscale\":[[0.0,\"#0d0887\"],[0.1111111111111111,\"#46039f\"],[0.2222222222222222,\"#7201a8\"],[0.3333333333333333,\"#9c179e\"],[0.4444444444444444,\"#bd3786\"],[0.5555555555555556,\"#d8576b\"],[0.6666666666666666,\"#ed7953\"],[0.7777777777777778,\"#fb9f3a\"],[0.8888888888888888,\"#fdca26\"],[1.0,\"#f0f921\"]]}],\"contourcarpet\":[{\"type\":\"contourcarpet\",\"colorbar\":{\"outlinewidth\":0,\"ticks\":\"\"}}],\"contour\":[{\"type\":\"contour\",\"colorbar\":{\"outlinewidth\":0,\"ticks\":\"\"},\"colorscale\":[[0.0,\"#0d0887\"],[0.1111111111111111,\"#46039f\"],[0.2222222222222222,\"#7201a8\"],[0.3333333333333333,\"#9c179e\"],[0.4444444444444444,\"#bd3786\"],[0.5555555555555556,\"#d8576b\"],[0.6666666666666666,\"#ed7953\"],[0.7777777777777778,\"#fb9f3a\"],[0.8888888888888888,\"#fdca26\"],[1.0,\"#f0f921\"]]}],\"surface\":[{\"type\":\"surface\",\"colorbar\":{\"outlinewidth\":0,\"ticks\":\"\"},\"colorscale\":[[0.0,\"#0d0887\"],[0.1111111111111111,\"#46039f\"],[0.2222222222222222,\"#7201a8\"],[0.3333333333333333,\"#9c179e\"],[0.4444444444444444,\"#bd3786\"],[0.5555555555555556,\"#d8576b\"],[0.6666666666666666,\"#ed7953\"],[0.7777777777777778,\"#fb9f3a\"],[0.8888888888888888,\"#fdca26\"],[1.0,\"#f0f921\"]]}],\"mesh3d\":[{\"type\":\"mesh3d\",\"colorbar\":{\"outlinewidth\":0,\"ticks\":\"\"}}],\"scatter\":[{\"fillpattern\":{\"fillmode\":\"overlay\",\"size\":10,\"solidity\":0.2},\"type\":\"scatter\"}],\"parcoords\":[{\"type\":\"parcoords\",\"line\":{\"colorbar\":{\"outlinewidth\":0,\"ticks\":\"\"}}}],\"scatterpolargl\":[{\"type\":\"scatterpolargl\",\"marker\":{\"colorbar\":{\"outlinewidth\":0,\"ticks\":\"\"}}}],\"bar\":[{\"error_x\":{\"color\":\"#2a3f5f\"},\"error_y\":{\"color\":\"#2a3f5f\"},\"marker\":{\"line\":{\"color\":\"#E5ECF6\",\"width\":0.5},\"pattern\":{\"fillmode\":\"overlay\",\"size\":10,\"solidity\":0.2}},\"type\":\"bar\"}],\"scattergeo\":[{\"type\":\"scattergeo\",\"marker\":{\"colorbar\":{\"outlinewidth\":0,\"ticks\":\"\"}}}],\"scatterpolar\":[{\"type\":\"scatterpolar\",\"marker\":{\"colorbar\":{\"outlinewidth\":0,\"ticks\":\"\"}}}],\"histogram\":[{\"marker\":{\"pattern\":{\"fillmode\":\"overlay\",\"size\":10,\"solidity\":0.2}},\"type\":\"histogram\"}],\"scattergl\":[{\"type\":\"scattergl\",\"marker\":{\"colorbar\":{\"outlinewidth\":0,\"ticks\":\"\"}}}],\"scatter3d\":[{\"type\":\"scatter3d\",\"line\":{\"colorbar\":{\"outlinewidth\":0,\"ticks\":\"\"}},\"marker\":{\"colorbar\":{\"outlinewidth\":0,\"ticks\":\"\"}}}],\"scattermapbox\":[{\"type\":\"scattermapbox\",\"marker\":{\"colorbar\":{\"outlinewidth\":0,\"ticks\":\"\"}}}],\"scatterternary\":[{\"type\":\"scatterternary\",\"marker\":{\"colorbar\":{\"outlinewidth\":0,\"ticks\":\"\"}}}],\"scattercarpet\":[{\"type\":\"scattercarpet\",\"marker\":{\"colorbar\":{\"outlinewidth\":0,\"ticks\":\"\"}}}],\"carpet\":[{\"aaxis\":{\"endlinecolor\":\"#2a3f5f\",\"gridcolor\":\"white\",\"linecolor\":\"white\",\"minorgridcolor\":\"white\",\"startlinecolor\":\"#2a3f5f\"},\"baxis\":{\"endlinecolor\":\"#2a3f5f\",\"gridcolor\":\"white\",\"linecolor\":\"white\",\"minorgridcolor\":\"white\",\"startlinecolor\":\"#2a3f5f\"},\"type\":\"carpet\"}],\"table\":[{\"cells\":{\"fill\":{\"color\":\"#EBF0F8\"},\"line\":{\"color\":\"white\"}},\"header\":{\"fill\":{\"color\":\"#C8D4E3\"},\"line\":{\"color\":\"white\"}},\"type\":\"table\"}],\"barpolar\":[{\"marker\":{\"line\":{\"color\":\"#E5ECF6\",\"width\":0.5},\"pattern\":{\"fillmode\":\"overlay\",\"size\":10,\"solidity\":0.2}},\"type\":\"barpolar\"}],\"pie\":[{\"automargin\":true,\"type\":\"pie\"}]},\"layout\":{\"autotypenumbers\":\"strict\",\"colorway\":[\"#636efa\",\"#EF553B\",\"#00cc96\",\"#ab63fa\",\"#FFA15A\",\"#19d3f3\",\"#FF6692\",\"#B6E880\",\"#FF97FF\",\"#FECB52\"],\"font\":{\"color\":\"#2a3f5f\"},\"hovermode\":\"closest\",\"hoverlabel\":{\"align\":\"left\"},\"paper_bgcolor\":\"white\",\"plot_bgcolor\":\"#E5ECF6\",\"polar\":{\"bgcolor\":\"#E5ECF6\",\"angularaxis\":{\"gridcolor\":\"white\",\"linecolor\":\"white\",\"ticks\":\"\"},\"radialaxis\":{\"gridcolor\":\"white\",\"linecolor\":\"white\",\"ticks\":\"\"}},\"ternary\":{\"bgcolor\":\"#E5ECF6\",\"aaxis\":{\"gridcolor\":\"white\",\"linecolor\":\"white\",\"ticks\":\"\"},\"baxis\":{\"gridcolor\":\"white\",\"linecolor\":\"white\",\"ticks\":\"\"},\"caxis\":{\"gridcolor\":\"white\",\"linecolor\":\"white\",\"ticks\":\"\"}},\"coloraxis\":{\"colorbar\":{\"outlinewidth\":0,\"ticks\":\"\"}},\"colorscale\":{\"sequential\":[[0.0,\"#0d0887\"],[0.1111111111111111,\"#46039f\"],[0.2222222222222222,\"#7201a8\"],[0.3333333333333333,\"#9c179e\"],[0.4444444444444444,\"#bd3786\"],[0.5555555555555556,\"#d8576b\"],[0.6666666666666666,\"#ed7953\"],[0.7777777777777778,\"#fb9f3a\"],[0.8888888888888888,\"#fdca26\"],[1.0,\"#f0f921\"]],\"sequentialminus\":[[0.0,\"#0d0887\"],[0.1111111111111111,\"#46039f\"],[0.2222222222222222,\"#7201a8\"],[0.3333333333333333,\"#9c179e\"],[0.4444444444444444,\"#bd3786\"],[0.5555555555555556,\"#d8576b\"],[0.6666666666666666,\"#ed7953\"],[0.7777777777777778,\"#fb9f3a\"],[0.8888888888888888,\"#fdca26\"],[1.0,\"#f0f921\"]],\"diverging\":[[0,\"#8e0152\"],[0.1,\"#c51b7d\"],[0.2,\"#de77ae\"],[0.3,\"#f1b6da\"],[0.4,\"#fde0ef\"],[0.5,\"#f7f7f7\"],[0.6,\"#e6f5d0\"],[0.7,\"#b8e186\"],[0.8,\"#7fbc41\"],[0.9,\"#4d9221\"],[1,\"#276419\"]]},\"xaxis\":{\"gridcolor\":\"white\",\"linecolor\":\"white\",\"ticks\":\"\",\"title\":{\"standoff\":15},\"zerolinecolor\":\"white\",\"automargin\":true,\"zerolinewidth\":2},\"yaxis\":{\"gridcolor\":\"white\",\"linecolor\":\"white\",\"ticks\":\"\",\"title\":{\"standoff\":15},\"zerolinecolor\":\"white\",\"automargin\":true,\"zerolinewidth\":2},\"scene\":{\"xaxis\":{\"backgroundcolor\":\"#E5ECF6\",\"gridcolor\":\"white\",\"linecolor\":\"white\",\"showbackground\":true,\"ticks\":\"\",\"zerolinecolor\":\"white\",\"gridwidth\":2},\"yaxis\":{\"backgroundcolor\":\"#E5ECF6\",\"gridcolor\":\"white\",\"linecolor\":\"white\",\"showbackground\":true,\"ticks\":\"\",\"zerolinecolor\":\"white\",\"gridwidth\":2},\"zaxis\":{\"backgroundcolor\":\"#E5ECF6\",\"gridcolor\":\"white\",\"linecolor\":\"white\",\"showbackground\":true,\"ticks\":\"\",\"zerolinecolor\":\"white\",\"gridwidth\":2}},\"shapedefaults\":{\"line\":{\"color\":\"#2a3f5f\"}},\"annotationdefaults\":{\"arrowcolor\":\"#2a3f5f\",\"arrowhead\":0,\"arrowwidth\":1},\"geo\":{\"bgcolor\":\"white\",\"landcolor\":\"#E5ECF6\",\"subunitcolor\":\"white\",\"showland\":true,\"showlakes\":true,\"lakecolor\":\"white\"},\"title\":{\"x\":0.05},\"mapbox\":{\"style\":\"light\"}}},\"xaxis\":{\"anchor\":\"y\",\"domain\":[0.0,1.0],\"title\":{\"text\":\"Age\"}},\"yaxis\":{\"anchor\":\"x\",\"domain\":[0.0,0.8316],\"title\":{\"text\":\"count\"}},\"xaxis2\":{\"anchor\":\"y2\",\"domain\":[0.0,1.0],\"matches\":\"x\",\"showticklabels\":false,\"showgrid\":true},\"yaxis2\":{\"anchor\":\"x2\",\"domain\":[0.8416,1.0],\"matches\":\"y2\",\"showticklabels\":false,\"showline\":false,\"ticks\":\"\",\"showgrid\":false},\"legend\":{\"tracegroupgap\":0},\"title\":{\"text\":\"Player Age Distribution (Across Leagues)\",\"x\":0.5},\"barmode\":\"relative\",\"shapes\":[{\"line\":{\"color\":\"green\",\"dash\":\"dash\"},\"type\":\"line\",\"x0\":0,\"x1\":1,\"xref\":\"x domain\",\"y0\":25.018987341772153,\"y1\":25.018987341772153,\"yref\":\"y\"},{\"line\":{\"color\":\"green\",\"dash\":\"dash\"},\"type\":\"line\",\"x0\":0,\"x1\":1,\"xref\":\"x2 domain\",\"y0\":25.018987341772153,\"y1\":25.018987341772153,\"yref\":\"y2\"},{\"line\":{\"color\":\"red\",\"dash\":\"dot\"},\"type\":\"line\",\"x0\":0,\"x1\":1,\"xref\":\"x domain\",\"y0\":25.0,\"y1\":25.0,\"yref\":\"y\"},{\"line\":{\"color\":\"red\",\"dash\":\"dot\"},\"type\":\"line\",\"x0\":0,\"x1\":1,\"xref\":\"x2 domain\",\"y0\":25.0,\"y1\":25.0,\"yref\":\"y2\"}],\"annotations\":[{\"showarrow\":false,\"text\":\"Mean: 25.02\",\"x\":0,\"xanchor\":\"left\",\"xref\":\"x domain\",\"y\":25.018987341772153,\"yanchor\":\"bottom\",\"yref\":\"y\"},{\"showarrow\":false,\"text\":\"Mean: 25.02\",\"x\":0,\"xanchor\":\"left\",\"xref\":\"x2 domain\",\"y\":25.018987341772153,\"yanchor\":\"bottom\",\"yref\":\"y2\"},{\"showarrow\":false,\"text\":\"Median: 25.00\",\"x\":1,\"xanchor\":\"right\",\"xref\":\"x domain\",\"y\":25.0,\"yanchor\":\"bottom\",\"yref\":\"y\"},{\"showarrow\":false,\"text\":\"Median: 25.00\",\"x\":1,\"xanchor\":\"right\",\"xref\":\"x2 domain\",\"y\":25.0,\"yanchor\":\"bottom\",\"yref\":\"y2\"}]},                        {\"responsive\": true}                    ).then(function(){\n",
       "                            \n",
       "var gd = document.getElementById('a7bbf606-8dad-4e62-87ee-c09403b131a4');\n",
       "var x = new MutationObserver(function (mutations, observer) {{\n",
       "        var display = window.getComputedStyle(gd).display;\n",
       "        if (!display || display === 'none') {{\n",
       "            console.log([gd, 'removed!']);\n",
       "            Plotly.purge(gd);\n",
       "            observer.disconnect();\n",
       "        }}\n",
       "}});\n",
       "\n",
       "// Listen for the removal of the full notebook cells\n",
       "var notebookContainer = gd.closest('#notebook-container');\n",
       "if (notebookContainer) {{\n",
       "    x.observe(notebookContainer, {childList: true});\n",
       "}}\n",
       "\n",
       "// Listen for the clearing of the current output cell\n",
       "var outputEl = gd.closest('.output');\n",
       "if (outputEl) {{\n",
       "    x.observe(outputEl, {childList: true});\n",
       "}}\n",
       "\n",
       "                        })                };                            </script>        </div>\n",
       "</body>\n",
       "</html>"
      ]
     },
     "metadata": {},
     "output_type": "display_data"
    }
   ],
   "source": [
    "# Calculate the mean and median values of player ages.\n",
    "mean_age = df_cleaned['Age'].mean()\n",
    "median_age = df_cleaned['Age'].median()\n",
    "\n",
    "# Create a histogram of the distribution of player ages across leagues.\n",
    "fig = px.histogram(\n",
    "df_cleaned,\n",
    "    x=\"Age\",\n",
    "    nbins=20, # Number of 'bins' or age groups\n",
    "    marginal=\"rug\", # Display a small line below each data point\n",
    "    opacity=0.75,\n",
    "    color_discrete_sequence=['dodgerblue'], # Color of histogram bars\n",
    "    title=\"Player Age Distribution (Across Leagues)\",\n",
    ")\n",
    "\n",
    "# Add a vertical line to show the average age.\n",
    "fig.add_hline(\n",
    "    y=mean_age,\n",
    "    line_dash=\"dash\",\n",
    "    line_color=\"green\",\n",
    "    annotation_text=f\"Mean: {mean_age:.2f}\",\n",
    "    annotation_position=\"top left\"\n",
    ")\n",
    "\n",
    "# Adds a vertical line to show the median age.\n",
    "fig.add_hline(\n",
    "    y=median_age,\n",
    "    line_dash=\"dot\",\n",
    "    line_color=\"red\",\n",
    "    annotation_text=f\"Median: {median_age:.2f}\",\n",
    "    annotation_position=\"top right\"\n",
    ")\n",
    "\n",
    "# Centers the plot title.\n",
    "fig.update_layout(title_x=0.5)\n",
    "fig.show()"
   ]
  },
  {
   "cell_type": "markdown",
   "id": "a04c8ce6",
   "metadata": {
    "_cell_guid": "4dd72bbe-71e9-4f50-b63a-790133b1cda2",
    "_uuid": "05b28eec-4ebb-47a6-80ff-26f1be1be1a3",
    "collapsed": false,
    "jupyter": {
     "outputs_hidden": false
    },
    "papermill": {
     "duration": 0.012385,
     "end_time": "2025-07-05T04:56:01.984667",
     "exception": false,
     "start_time": "2025-07-05T04:56:01.972282",
     "status": "completed"
    },
    "tags": []
   },
   "source": [
    "The age distribution shows that most professional players are in their prime (22-28 years). The similar mean and median indicate a balanced distribution. The presence of young players (<21 years) is still a minority, strengthening the importance of analyzing their contributions."
   ]
  },
  {
   "cell_type": "code",
   "execution_count": 7,
   "id": "3fd09900",
   "metadata": {
    "_cell_guid": "031f2a37-8d7d-465f-a630-96e88c68e2b6",
    "_uuid": "abdab5ed-670f-40d8-9d84-463c56caeea8",
    "collapsed": false,
    "execution": {
     "iopub.execute_input": "2025-07-05T04:56:02.012044Z",
     "iopub.status.busy": "2025-07-05T04:56:02.011664Z",
     "iopub.status.idle": "2025-07-05T04:56:02.294801Z",
     "shell.execute_reply": "2025-07-05T04:56:02.293758Z"
    },
    "jupyter": {
     "outputs_hidden": false
    },
    "papermill": {
     "duration": 0.299063,
     "end_time": "2025-07-05T04:56:02.296407",
     "exception": false,
     "start_time": "2025-07-05T04:56:01.997344",
     "status": "completed"
    },
    "tags": []
   },
   "outputs": [
    {
     "data": {
      "text/html": [
       "<html>\n",
       "<head><meta charset=\"utf-8\" /></head>\n",
       "<body>\n",
       "    <div>            <script src=\"https://cdnjs.cloudflare.com/ajax/libs/mathjax/2.7.5/MathJax.js?config=TeX-AMS-MML_SVG\"></script><script type=\"text/javascript\">if (window.MathJax && window.MathJax.Hub && window.MathJax.Hub.Config) {window.MathJax.Hub.Config({SVG: {font: \"STIX-Web\"}});}</script>                <script type=\"text/javascript\">window.PlotlyConfig = {MathJaxConfig: 'local'};</script>\n",
       "        <script charset=\"utf-8\" src=\"https://cdn.plot.ly/plotly-2.35.2.min.js\"></script>                <div id=\"6fa623f7-cd53-41b1-a13a-6bfd3862d260\" class=\"plotly-graph-div\" style=\"height:650px; width:1000px;\"></div>            <script type=\"text/javascript\">                                    window.PLOTLYENV=window.PLOTLYENV || {};                                    if (document.getElementById(\"6fa623f7-cd53-41b1-a13a-6bfd3862d260\")) {                    Plotly.newPlot(                        \"6fa623f7-cd53-41b1-a13a-6bfd3862d260\",                        [{\"marker\":{\"color\":\"dodgerblue\"},\"name\":\"it Serie A\",\"nbinsx\":20,\"opacity\":0.75,\"showlegend\":false,\"x\":[20.0,25.0,28.0,26.0,26.0,20.0,36.0,28.0,24.0,18.0,27.0,16.0,19.0,31.0,22.0,23.0,28.0,25.0,25.0,27.0,27.0,19.0,22.0,35.0,22.0,21.0,27.0,29.0,25.0,23.0,30.0,23.0,19.0,35.0,24.0,21.0,29.0,22.0,33.0,23.0,24.0,30.0,29.0,30.0,27.0,18.0,27.0,32.0,25.0,20.0,20.0,24.0,24.0,30.0,23.0,23.0,26.0,20.0,23.0,25.0,25.0,21.0,21.0,25.0,28.0,31.0,31.0,25.0,24.0,25.0,20.0,20.0,28.0,20.0,22.0,24.0,22.0,19.0,27.0,24.0,24.0,25.0,25.0,25.0,20.0,22.0,29.0,23.0,17.0,27.0,27.0,33.0,30.0,22.0,16.0,23.0,24.0,16.0,22.0,26.0,24.0,31.0,22.0,22.0,36.0,24.0,23.0,21.0,24.0,21.0,26.0,26.0,18.0,25.0,19.0,27.0,27.0,29.0,27.0,28.0,25.0,26.0,34.0,25.0,19.0,22.0,20.0,17.0,29.0,25.0,22.0,25.0,26.0,19.0,21.0,20.0,27.0,29.0,20.0,28.0,25.0,29.0,28.0,36.0,26.0,29.0,35.0,23.0,24.0,23.0,18.0,23.0,33.0,34.0,23.0,26.0,29.0,23.0,31.0,36.0,22.0,28.0,24.0,23.0,20.0,27.0,30.0,27.0,18.0,26.0,31.0,25.0,20.0,19.0,25.0,20.0,24.0,27.0,29.0,28.0,31.0,30.0,25.0,28.0,25.0,29.0,17.0,24.0,22.0,30.0,22.0,24.0,25.0,23.0,26.0,22.0,20.0,28.0,21.0,22.0,23.0,23.0,29.0,32.0,21.0,23.0,24.0,24.0,21.0,33.0,25.0,26.0,26.0,20.0,24.0,23.0,26.0,32.0,24.0,17.0,19.0,30.0,24.0,30.0,24.0,28.0,26.0,33.0,24.0,21.0,30.0,30.0,23.0,23.0,23.0,20.0,26.0,20.0,30.0,29.0,26.0,30.0,20.0,29.0,25.0,29.0,27.0,30.0,34.0,28.0,19.0,22.0,19.0,31.0,26.0,28.0,29.0,26.0,30.0,25.0,24.0,35.0,30.0,18.0,24.0,26.0,26.0,23.0,20.0,33.0,23.0,27.0,32.0,18.0,20.0,24.0,33.0,19.0,23.0,31.0,26.0,22.0,33.0,24.0,30.0,26.0,26.0,26.0,29.0,18.0,26.0,20.0,24.0,22.0,25.0,29.0,26.0,25.0,31.0,25.0,18.0,23.0,26.0,23.0,26.0,26.0,28.0,19.0,22.0,24.0,23.0,28.0,18.0,34.0,28.0,33.0,30.0,24.0,31.0,25.0,20.0,24.0,17.0,24.0,17.0,29.0,23.0,29.0,26.0,28.0,26.0,26.0,23.0,26.0,34.0,26.0,31.0,27.0,22.0,30.0,20.0,28.0,29.0,26.0,22.0,22.0,25.0,31.0,25.0,28.0,22.0,27.0,19.0,21.0,21.0,22.0,30.0,30.0,20.0,29.0,29.0,22.0,28.0,30.0,27.0,26.0,26.0,28.0,19.0,31.0,30.0,23.0,19.0,20.0,28.0,29.0,20.0,25.0,27.0,25.0,27.0,33.0,24.0,27.0,29.0,24.0,20.0,35.0,24.0,28.0,31.0,32.0,20.0,27.0,26.0,24.0,26.0,20.0,21.0,30.0,21.0,24.0,23.0,24.0,20.0,23.0,25.0,27.0,24.0,24.0,21.0,19.0,20.0,25.0,21.0,25.0,24.0,24.0,21.0,24.0,26.0,24.0,21.0,21.0,27.0,30.0,20.0,27.0,24.0,21.0,38.0,18.0,21.0,21.0,31.0,19.0,16.0,30.0,23.0,29.0,31.0,36.0,28.0,23.0,35.0,25.0,19.0,24.0,37.0,23.0,28.0,25.0,23.0,24.0,18.0,26.0,29.0,27.0,24.0,29.0,31.0,21.0,27.0,29.0,26.0,23.0,25.0,23.0,24.0,25.0,19.0,19.0,19.0,22.0,25.0,29.0,30.0,26.0,27.0,27.0,20.0,30.0,18.0,25.0,27.0,25.0,20.0,28.0,25.0,24.0,24.0,30.0,26.0,41.0,21.0,25.0,22.0,22.0,32.0,29.0,33.0,20.0,22.0,30.0,17.0,22.0,31.0,25.0,25.0,20.0,25.0,25.0,22.0,22.0,27.0,28.0,35.0,32.0,23.0,22.0,21.0,22.0,20.0,25.0,21.0,28.0,28.0,19.0,28.0,27.0,31.0,26.0,29.0,32.0,33.0,29.0,33.0,23.0,23.0,25.0,24.0,27.0,35.0,26.0,25.0,25.0,21.0,31.0,32.0,22.0,28.0,27.0,21.0,22.0,21.0,26.0,24.0,25.0,30.0,32.0,24.0,20.0,22.0,24.0,21.0,34.0,31.0,22.0,28.0,23.0,26.0,24.0,33.0,26.0,18.0,18.0,21.0,22.0,19.0,19.0,25.0,23.0,25.0,20.0,30.0,22.0,26.0,25.0,32.0,21.0,21.0,18.0,32.0,20.0,34.0,22.0,24.0,24.0,20.0,26.0,25.0,25.0,29.0,29.0,32.0,34.0,24.0,24.0,24.0,27.0,24.0,19.0,29.0,22.0,22.0,28.0,30.0,25.0,25.0,23.0,33.0,24.0,32.0,25.0,24.0,25.0,25.0,19.0,19.0,30.0,25.0,26.0,34.0,34.0],\"type\":\"histogram\",\"xaxis\":\"x\",\"yaxis\":\"y\"},{\"marker\":{\"color\":\"dodgerblue\"},\"name\":\"es La Liga\",\"nbinsx\":20,\"opacity\":0.75,\"showlegend\":false,\"x\":[24.0,21.0,23.0,21.0,25.0,24.0,37.0,23.0,22.0,28.0,21.0,28.0,28.0,28.0,20.0,32.0,18.0,38.0,27.0,26.0,26.0,25.0,25.0,24.0,20.0,33.0,23.0,22.0,21.0,24.0,29.0,27.0,28.0,27.0,21.0,21.0,24.0,29.0,26.0,28.0,22.0,25.0,22.0,25.0,22.0,29.0,21.0,29.0,21.0,36.0,20.0,30.0,18.0,34.0,19.0,24.0,23.0,18.0,30.0,19.0,33.0,20.0,32.0,28.0,17.0,20.0,31.0,27.0,23.0,22.0,21.0,21.0,33.0,19.0,28.0,19.0,29.0,27.0,20.0,19.0,29.0,21.0,25.0,26.0,21.0,34.0,29.0,17.0,31.0,31.0,25.0,24.0,34.0,22.0,22.0,22.0,32.0,25.0,33.0,20.0,21.0,19.0,19.0,33.0,28.0,21.0,23.0,31.0,19.0,24.0,27.0,27.0,26.0,29.0,25.0,22.0,18.0,22.0,23.0,32.0,32.0,20.0,29.0,27.0,27.0,30.0,20.0,26.0,26.0,19.0,26.0,24.0,28.0,35.0,30.0,23.0,19.0,26.0,27.0,25.0,26.0,24.0,18.0,29.0,25.0,22.0,23.0,23.0,32.0,32.0,24.0,17.0,25.0,27.0,27.0,30.0,30.0,27.0,18.0,23.0,24.0,18.0,26.0,24.0,30.0,17.0,24.0,32.0,32.0,18.0,23.0,21.0,19.0,24.0,29.0,24.0,23.0,24.0,26.0,30.0,32.0,18.0,32.0,19.0,21.0,20.0,27.0,22.0,21.0,31.0,33.0,33.0,26.0,21.0,22.0,24.0,28.0,20.0,28.0,17.0,31.0,26.0,19.0,21.0,27.0,27.0,21.0,26.0,29.0,30.0,24.0,24.0,31.0,23.0,24.0,20.0,23.0,17.0,31.0,32.0,19.0,19.0,32.0,23.0,26.0,30.0,32.0,23.0,21.0,27.0,22.0,23.0,23.0,27.0,23.0,27.0,33.0,28.0,37.0,33.0,32.0,21.0,27.0,25.0,24.0,21.0,19.0,29.0,29.0,27.0,23.0,28.0,30.0,30.0,26.0,35.0,23.0,34.0,31.0,26.0,21.0,20.0,19.0,25.0,25.0,19.0,26.0,31.0,27.0,32.0,21.0,23.0,22.0,29.0,20.0,20.0,23.0,27.0,30.0,31.0,31.0,33.0,23.0,24.0,27.0,19.0,21.0,28.0,34.0,32.0,25.0,26.0,25.0,23.0,24.0,26.0,20.0,29.0,23.0,26.0,27.0,33.0,31.0,28.0,29.0,35.0,24.0,21.0,30.0,29.0,28.0,23.0,21.0,34.0,22.0,21.0,22.0,29.0,24.0,28.0,22.0,22.0,24.0,29.0,26.0,21.0,25.0,31.0,27.0,23.0,23.0,30.0,30.0,28.0,35.0,23.0,29.0,19.0,21.0,23.0,20.0,22.0,22.0,20.0,22.0,25.0,18.0,20.0,21.0,33.0,24.0,21.0,27.0,25.0,24.0,31.0,35.0,27.0,25.0,28.0,27.0,21.0,27.0,27.0,29.0,19.0,25.0,24.0,26.0,29.0,31.0,25.0,18.0,25.0,27.0,38.0,31.0,20.0,26.0,26.0,27.0,32.0,19.0,24.0,21.0,25.0,21.0,20.0,22.0,26.0,26.0,30.0,21.0,29.0,21.0,30.0,30.0,31.0,23.0,19.0,22.0,38.0,27.0,22.0,29.0,24.0,20.0,21.0,26.0,27.0,33.0,36.0,31.0,30.0,28.0,21.0,18.0,23.0,30.0,24.0,26.0,22.0,20.0,19.0,16.0,23.0,27.0,23.0,23.0,20.0,29.0,24.0,35.0,18.0,22.0,28.0,21.0,26.0,28.0,24.0,25.0,33.0,29.0,21.0,31.0,26.0,21.0,27.0,29.0,26.0,17.0,22.0,21.0,32.0,23.0,31.0,26.0,28.0,21.0,32.0,29.0,29.0,19.0,27.0,26.0,23.0,25.0,29.0,20.0,31.0,30.0,30.0,24.0,18.0,28.0,19.0,27.0,24.0,23.0,20.0,26.0,17.0,21.0,36.0,18.0,33.0,21.0,18.0,28.0,31.0,23.0,24.0,22.0,24.0,19.0,32.0,19.0,27.0,31.0,28.0,24.0,21.0,31.0,27.0,27.0,27.0,18.0,22.0,24.0,20.0,24.0,27.0,31.0,27.0,20.0,23.0,23.0,20.0,32.0,32.0,21.0,22.0,30.0,21.0,27.0,29.0,28.0,27.0,21.0,25.0,21.0,19.0,31.0,26.0,20.0,27.0,29.0,19.0,30.0,37.0,31.0,30.0,21.0,30.0,20.0,30.0,34.0,28.0,29.0,22.0,24.0,28.0,20.0,28.0,32.0,23.0,23.0,29.0,21.0,21.0,24.0,30.0,32.0,36.0,26.0,22.0,21.0,21.0,29.0,22.0,28.0,27.0,26.0,26.0,25.0,25.0,21.0,33.0,20.0,31.0,25.0,22.0,29.0,25.0,19.0,26.0,27.0,26.0,25.0,19.0,30.0,22.0,35.0,17.0,17.0,22.0,21.0,23.0,27.0,25.0],\"type\":\"histogram\",\"xaxis\":\"x2\",\"yaxis\":\"y2\"},{\"marker\":{\"color\":\"dodgerblue\"},\"name\":\"eng Premier League\",\"nbinsx\":20,\"opacity\":0.75,\"showlegend\":false,\"x\":[24.0,18.0,25.0,26.0,22.0,27.0,18.0,27.0,23.0,26.0,29.0,29.0,21.0,21.0,25.0,31.0,30.0,26.0,19.0,17.0,18.0,18.0,28.0,28.0,21.0,23.0,34.0,24.0,22.0,23.0,31.0,28.0,27.0,17.0,29.0,28.0,25.0,26.0,20.0,32.0,32.0,23.0,26.0,20.0,30.0,26.0,24.0,26.0,28.0,22.0,26.0,27.0,31.0,26.0,18.0,21.0,26.0,28.0,27.0,21.0,20.0,33.0,24.0,27.0,21.0,22.0,26.0,25.0,26.0,22.0,27.0,27.0,25.0,19.0,28.0,32.0,29.0,21.0,22.0,33.0,24.0,22.0,27.0,31.0,21.0,32.0,19.0,26.0,22.0,28.0,25.0,25.0,27.0,20.0,26.0,27.0,24.0,26.0,29.0,23.0,23.0,33.0,31.0,35.0,23.0,20.0,21.0,27.0,27.0,31.0,25.0,34.0,26.0,24.0,25.0,25.0,25.0,24.0,23.0,18.0,25.0,31.0,24.0,34.0,33.0,31.0,21.0,22.0,20.0,25.0,22.0,27.0,27.0,18.0,31.0,27.0,26.0,26.0,19.0,21.0,32.0,22.0,26.0,19.0,19.0,31.0,24.0,25.0,22.0,22.0,35.0,32.0,20.0,18.0,30.0,26.0,26.0,26.0,21.0,21.0,22.0,21.0,18.0,20.0,20.0,31.0,32.0,19.0,26.0,24.0,36.0,26.0,39.0,26.0,20.0,24.0,19.0,19.0,29.0,20.0,23.0,31.0,24.0,23.0,20.0,36.0,20.0,30.0,19.0,31.0,25.0,34.0,21.0,20.0,23.0,18.0,24.0,23.0,26.0,21.0,18.0,23.0,21.0,25.0,21.0,27.0,22.0,23.0,22.0,18.0,28.0,23.0,20.0,23.0,27.0,24.0,18.0,26.0,18.0,33.0,21.0,22.0,24.0,19.0,22.0,28.0,27.0,22.0,25.0,17.0,24.0,28.0,27.0,27.0,24.0,32.0,22.0,19.0,25.0,27.0,15.0,23.0,29.0,19.0,20.0,21.0,26.0,32.0,21.0,24.0,24.0,28.0,23.0,24.0,26.0,23.0,20.0,28.0,27.0,33.0,19.0,22.0,27.0,24.0,23.0,31.0,23.0,32.0,27.0,26.0,22.0,24.0,27.0,24.0,17.0,20.0,31.0,25.0,25.0,20.0,20.0,20.0,27.0,17.0,29.0,21.0,24.0,25.0,25.0,26.0,30.0,18.0,29.0,23.0,24.0,24.0,36.0,23.0,19.0,20.0,30.0,32.0,29.0,19.0,23.0,17.0,24.0,18.0,30.0,24.0,21.0,26.0,27.0,29.0,31.0,22.0,25.0,27.0,22.0,26.0,23.0,31.0,19.0,24.0,25.0,26.0,28.0,30.0,25.0,23.0,31.0,26.0,21.0,27.0,26.0,26.0,26.0,24.0,21.0,22.0,34.0,29.0,24.0,27.0,34.0,18.0,28.0,16.0,26.0,18.0,38.0,31.0,20.0,24.0,27.0,25.0,16.0,23.0,31.0,32.0,23.0,25.0,19.0,23.0,28.0,23.0,28.0,25.0,22.0,29.0,25.0,24.0,27.0,18.0,24.0,24.0,35.0,24.0,25.0,26.0,18.0,25.0,25.0,17.0,30.0,23.0,23.0,25.0,16.0,19.0,27.0,23.0,34.0,22.0,28.0,30.0,26.0,18.0,31.0,20.0,22.0,19.0,27.0,22.0,29.0,26.0,31.0,22.0,28.0,30.0,28.0,22.0,22.0,30.0,31.0,28.0,20.0,32.0,24.0,21.0,22.0,26.0,23.0,26.0,26.0,28.0,29.0,18.0,27.0,18.0,21.0,25.0,24.0,27.0,30.0,26.0,17.0,28.0,30.0,25.0,22.0,26.0,22.0,31.0,22.0,32.0,23.0,26.0,24.0,26.0,32.0,22.0,26.0,20.0,18.0,20.0,22.0,32.0,31.0,20.0,32.0,30.0,24.0,27.0,24.0,29.0,19.0,29.0,24.0,18.0,18.0,25.0,23.0,24.0,33.0,24.0,26.0,27.0,19.0,24.0,29.0,25.0,23.0,21.0,33.0,30.0,29.0,28.0,23.0,30.0,24.0,24.0,22.0,22.0,28.0,23.0,28.0,31.0,25.0,30.0,26.0,19.0,28.0,23.0,23.0,27.0,27.0,23.0,24.0,28.0,25.0,24.0,27.0,31.0,28.0,22.0,25.0,21.0,33.0,29.0,28.0,26.0,21.0,23.0,20.0,27.0,33.0,37.0,21.0,32.0,23.0,21.0,31.0,27.0,29.0,34.0,27.0,28.0,26.0,31.0,34.0,29.0,29.0,28.0,29.0,33.0,23.0,28.0,20.0,26.0,24.0,23.0,35.0,24.0,32.0,27.0,28.0,19.0,27.0,32.0,22.0,25.0,20.0,26.0,18.0,39.0,21.0,27.0,23.0,25.0],\"type\":\"histogram\",\"xaxis\":\"x3\",\"yaxis\":\"y3\"},{\"marker\":{\"color\":\"dodgerblue\"},\"name\":\"fr Ligue 1\",\"nbinsx\":20,\"opacity\":0.75,\"showlegend\":false,\"x\":[18.0,36.0,24.0,25.0,30.0,21.0,24.0,24.0,24.0,20.0,26.0,27.0,18.0,31.0,22.0,30.0,19.0,30.0,20.0,26.0,22.0,26.0,22.0,28.0,20.0,29.0,23.0,30.0,26.0,28.0,18.0,18.0,33.0,16.0,32.0,28.0,21.0,28.0,24.0,19.0,18.0,27.0,34.0,23.0,24.0,18.0,24.0,24.0,16.0,21.0,25.0,27.0,23.0,34.0,19.0,20.0,21.0,23.0,23.0,19.0,28.0,30.0,22.0,19.0,26.0,28.0,29.0,20.0,26.0,26.0,21.0,19.0,33.0,26.0,23.0,20.0,27.0,24.0,18.0,16.0,19.0,22.0,24.0,18.0,30.0,24.0,24.0,24.0,29.0,27.0,24.0,34.0,27.0,27.0,19.0,20.0,26.0,21.0,20.0,18.0,37.0,18.0,24.0,19.0,19.0,26.0,32.0,22.0,24.0,29.0,20.0,28.0,29.0,22.0,19.0,17.0,20.0,22.0,27.0,22.0,20.0,19.0,31.0,28.0,27.0,33.0,26.0,27.0,23.0,23.0,25.0,21.0,20.0,20.0,23.0,17.0,25.0,21.0,20.0,25.0,40.0,22.0,24.0,23.0,23.0,26.0,21.0,28.0,32.0,32.0,27.0,28.0,30.0,18.0,23.0,20.0,20.0,25.0,24.0,19.0,19.0,24.0,18.0,23.0,31.0,19.0,24.0,21.0,24.0,26.0,26.0,25.0,19.0,19.0,21.0,27.0,21.0,21.0,16.0,27.0,19.0,26.0,18.0,20.0,22.0,26.0,27.0,21.0,26.0,20.0,27.0,31.0,28.0,19.0,32.0,26.0,19.0,18.0,29.0,23.0,26.0,29.0,27.0,29.0,31.0,25.0,28.0,28.0,23.0,23.0,25.0,28.0,31.0,23.0,21.0,33.0,24.0,24.0,31.0,27.0,22.0,23.0,25.0,19.0,23.0,17.0,31.0,25.0,34.0,27.0,30.0,26.0,22.0,28.0,22.0,30.0,19.0,28.0,18.0,17.0,21.0,34.0,17.0,31.0,19.0,24.0,20.0,19.0,20.0,34.0,24.0,25.0,21.0,30.0,24.0,20.0,28.0,22.0,19.0,23.0,28.0,17.0,22.0,23.0,22.0,27.0,23.0,33.0,20.0,28.0,32.0,27.0,27.0,26.0,31.0,25.0,31.0,19.0,19.0,22.0,22.0,18.0,27.0,24.0,19.0,31.0,23.0,21.0,30.0,33.0,19.0,25.0,32.0,26.0,27.0,26.0,26.0,33.0,31.0,30.0,20.0,31.0,24.0,21.0,18.0,26.0,29.0,22.0,20.0,33.0,25.0,21.0,18.0,18.0,30.0,18.0,25.0,23.0,20.0,26.0,24.0,26.0,24.0,18.0,32.0,18.0,24.0,39.0,32.0,26.0,22.0,30.0,17.0,34.0,23.0,31.0,22.0,35.0,16.0,26.0,27.0,19.0,18.0,17.0,16.0,25.0,25.0,20.0,22.0,22.0,16.0,27.0,22.0,20.0,32.0,26.0,22.0,21.0,32.0,19.0,23.0,21.0,29.0,20.0,25.0,26.0,32.0,19.0,18.0,19.0,23.0,19.0,22.0,19.0,28.0,28.0,21.0,21.0,20.0,15.0,25.0,20.0,19.0,24.0,22.0,19.0,25.0,19.0,22.0,19.0,27.0,33.0,19.0,20.0,19.0,17.0,28.0,22.0,25.0,27.0,26.0,20.0,18.0,27.0,20.0,20.0,27.0,21.0,21.0,24.0,22.0,22.0,28.0,27.0,21.0,18.0,17.0,22.0,25.0,20.0,18.0,19.0,24.0,20.0,26.0,22.0,36.0,20.0,18.0,28.0,30.0,21.0,24.0,18.0,27.0,26.0,28.0,16.0,27.0,24.0,21.0,29.0,23.0,24.0,27.0,19.0,24.0,16.0,29.0,27.0,23.0,21.0,28.0,32.0,32.0,26.0,29.0,25.0,25.0,23.0,29.0,25.0,22.0,24.0,25.0,31.0,28.0,28.0,30.0,30.0,22.0,18.0,29.0,29.0,29.0,20.0,22.0,25.0,18.0,23.0,32.0,26.0,21.0,24.0,21.0,23.0,32.0,28.0,27.0,23.0,29.0,24.0,23.0,19.0,28.0,18.0,24.0,29.0,22.0,29.0,33.0,23.0,22.0,22.0,19.0,17.0,26.0,21.0,30.0,27.0,27.0,31.0,16.0,32.0,22.0,21.0,23.0,22.0,30.0,24.0,24.0,30.0,29.0,30.0,32.0,19.0,22.0,23.0,17.0,31.0,18.0,24.0,29.0,21.0,19.0,22.0,22.0,17.0,18.0,31.0,18.0,30.0,27.0,23.0,19.0,25.0,22.0,19.0,19.0,30.0,19.0],\"type\":\"histogram\",\"xaxis\":\"x4\",\"yaxis\":\"y4\"},{\"marker\":{\"color\":\"dodgerblue\"},\"name\":\"de Bundesliga\",\"nbinsx\":20,\"opacity\":0.75,\"showlegend\":false,\"x\":[23.0,22.0,24.0,26.0,24.0,22.0,29.0,34.0,23.0,22.0,21.0,27.0,24.0,29.0,28.0,30.0,24.0,21.0,22.0,23.0,18.0,21.0,26.0,26.0,20.0,17.0,22.0,26.0,30.0,24.0,34.0,24.0,30.0,27.0,27.0,33.0,21.0,32.0,19.0,26.0,29.0,26.0,26.0,29.0,25.0,28.0,25.0,22.0,19.0,30.0,23.0,23.0,23.0,25.0,25.0,28.0,22.0,23.0,23.0,21.0,25.0,25.0,27.0,31.0,24.0,27.0,29.0,27.0,18.0,30.0,18.0,20.0,26.0,19.0,21.0,34.0,20.0,23.0,19.0,20.0,26.0,20.0,28.0,28.0,31.0,22.0,23.0,26.0,30.0,28.0,22.0,18.0,25.0,23.0,24.0,26.0,19.0,30.0,23.0,22.0,26.0,26.0,26.0,26.0,31.0,19.0,30.0,18.0,28.0,26.0,27.0,22.0,24.0,27.0,20.0,29.0,26.0,20.0,23.0,28.0,26.0,28.0,23.0,26.0,20.0,34.0,27.0,16.0,24.0,26.0,24.0,30.0,23.0,28.0,22.0,27.0,30.0,19.0,29.0,17.0,29.0,30.0,32.0,33.0,25.0,30.0,31.0,28.0,28.0,33.0,26.0,30.0,26.0,28.0,34.0,26.0,31.0,30.0,25.0,26.0,27.0,22.0,23.0,19.0,27.0,29.0,22.0,22.0,34.0,32.0,31.0,30.0,23.0,33.0,29.0,27.0,27.0,31.0,34.0,24.0,25.0,19.0,18.0,24.0,31.0,27.0,25.0,22.0,31.0,27.0,21.0,21.0,18.0,26.0,25.0,30.0,32.0,28.0,23.0,20.0,18.0,23.0,32.0,22.0,33.0,31.0,23.0,24.0,21.0,24.0,19.0,22.0,30.0,29.0,28.0,28.0,22.0,23.0,26.0,28.0,25.0,30.0,27.0,19.0,17.0,24.0,20.0,24.0,33.0,21.0,21.0,23.0,27.0,31.0,17.0,26.0,24.0,27.0,31.0,20.0,25.0,26.0,23.0,28.0,22.0,38.0,20.0,21.0,25.0,24.0,25.0,29.0,26.0,22.0,18.0,23.0,25.0,24.0,24.0,18.0,25.0,30.0,25.0,21.0,22.0,19.0,30.0,20.0,25.0,24.0,31.0,33.0,19.0,22.0,27.0,27.0,27.0,20.0,29.0,26.0,26.0,33.0,31.0,34.0,21.0,26.0,30.0,27.0,24.0,25.0,24.0,21.0,18.0,23.0,23.0,21.0,38.0,27.0,26.0,23.0,23.0,23.0,23.0,25.0,26.0,27.0,19.0,18.0,20.0,18.0,24.0,22.0,30.0,32.0,26.0,24.0,22.0,31.0,32.0,24.0,18.0,26.0,26.0,25.0,29.0,19.0,21.0,26.0,20.0,27.0,28.0,24.0,19.0,23.0,30.0,27.0,26.0,24.0,31.0,27.0,30.0,23.0,19.0,29.0,28.0,25.0,20.0,21.0,26.0,22.0,24.0,26.0,21.0,22.0,23.0,26.0,25.0,22.0,22.0,21.0,19.0,23.0,31.0,26.0,31.0,24.0,30.0,16.0,27.0,27.0,28.0,26.0,24.0,28.0,23.0,21.0,21.0,25.0,28.0,30.0,26.0,27.0,24.0,24.0,25.0,29.0,32.0,25.0,23.0,21.0,21.0,24.0,22.0,28.0,28.0,24.0,21.0,27.0,36.0,26.0,27.0,29.0,24.0,24.0,28.0,31.0,27.0,25.0,27.0,24.0,29.0,28.0,22.0,21.0,23.0,30.0,28.0,25.0,22.0,30.0,28.0,25.0,19.0,25.0,27.0,24.0,37.0,31.0,27.0,19.0,22.0,22.0,18.0,27.0,26.0,34.0,23.0,37.0,25.0,20.0,35.0,28.0,25.0,20.0,18.0,23.0,26.0,22.0,25.0,28.0,28.0,28.0,21.0,19.0,23.0,20.0,20.0,32.0,32.0,21.0,21.0,21.0,30.0,18.0,18.0,28.0,25.0,19.0,30.0,22.0,22.0,31.0,23.0,25.0,21.0,26.0,28.0,29.0,22.0,24.0,31.0,22.0,25.0,24.0,29.0,26.0,26.0,29.0,30.0],\"type\":\"histogram\",\"xaxis\":\"x5\",\"yaxis\":\"y5\"}],                        {\"template\":{\"data\":{\"histogram2dcontour\":[{\"type\":\"histogram2dcontour\",\"colorbar\":{\"outlinewidth\":0,\"ticks\":\"\"},\"colorscale\":[[0.0,\"#0d0887\"],[0.1111111111111111,\"#46039f\"],[0.2222222222222222,\"#7201a8\"],[0.3333333333333333,\"#9c179e\"],[0.4444444444444444,\"#bd3786\"],[0.5555555555555556,\"#d8576b\"],[0.6666666666666666,\"#ed7953\"],[0.7777777777777778,\"#fb9f3a\"],[0.8888888888888888,\"#fdca26\"],[1.0,\"#f0f921\"]]}],\"choropleth\":[{\"type\":\"choropleth\",\"colorbar\":{\"outlinewidth\":0,\"ticks\":\"\"}}],\"histogram2d\":[{\"type\":\"histogram2d\",\"colorbar\":{\"outlinewidth\":0,\"ticks\":\"\"},\"colorscale\":[[0.0,\"#0d0887\"],[0.1111111111111111,\"#46039f\"],[0.2222222222222222,\"#7201a8\"],[0.3333333333333333,\"#9c179e\"],[0.4444444444444444,\"#bd3786\"],[0.5555555555555556,\"#d8576b\"],[0.6666666666666666,\"#ed7953\"],[0.7777777777777778,\"#fb9f3a\"],[0.8888888888888888,\"#fdca26\"],[1.0,\"#f0f921\"]]}],\"heatmap\":[{\"type\":\"heatmap\",\"colorbar\":{\"outlinewidth\":0,\"ticks\":\"\"},\"colorscale\":[[0.0,\"#0d0887\"],[0.1111111111111111,\"#46039f\"],[0.2222222222222222,\"#7201a8\"],[0.3333333333333333,\"#9c179e\"],[0.4444444444444444,\"#bd3786\"],[0.5555555555555556,\"#d8576b\"],[0.6666666666666666,\"#ed7953\"],[0.7777777777777778,\"#fb9f3a\"],[0.8888888888888888,\"#fdca26\"],[1.0,\"#f0f921\"]]}],\"heatmapgl\":[{\"type\":\"heatmapgl\",\"colorbar\":{\"outlinewidth\":0,\"ticks\":\"\"},\"colorscale\":[[0.0,\"#0d0887\"],[0.1111111111111111,\"#46039f\"],[0.2222222222222222,\"#7201a8\"],[0.3333333333333333,\"#9c179e\"],[0.4444444444444444,\"#bd3786\"],[0.5555555555555556,\"#d8576b\"],[0.6666666666666666,\"#ed7953\"],[0.7777777777777778,\"#fb9f3a\"],[0.8888888888888888,\"#fdca26\"],[1.0,\"#f0f921\"]]}],\"contourcarpet\":[{\"type\":\"contourcarpet\",\"colorbar\":{\"outlinewidth\":0,\"ticks\":\"\"}}],\"contour\":[{\"type\":\"contour\",\"colorbar\":{\"outlinewidth\":0,\"ticks\":\"\"},\"colorscale\":[[0.0,\"#0d0887\"],[0.1111111111111111,\"#46039f\"],[0.2222222222222222,\"#7201a8\"],[0.3333333333333333,\"#9c179e\"],[0.4444444444444444,\"#bd3786\"],[0.5555555555555556,\"#d8576b\"],[0.6666666666666666,\"#ed7953\"],[0.7777777777777778,\"#fb9f3a\"],[0.8888888888888888,\"#fdca26\"],[1.0,\"#f0f921\"]]}],\"surface\":[{\"type\":\"surface\",\"colorbar\":{\"outlinewidth\":0,\"ticks\":\"\"},\"colorscale\":[[0.0,\"#0d0887\"],[0.1111111111111111,\"#46039f\"],[0.2222222222222222,\"#7201a8\"],[0.3333333333333333,\"#9c179e\"],[0.4444444444444444,\"#bd3786\"],[0.5555555555555556,\"#d8576b\"],[0.6666666666666666,\"#ed7953\"],[0.7777777777777778,\"#fb9f3a\"],[0.8888888888888888,\"#fdca26\"],[1.0,\"#f0f921\"]]}],\"mesh3d\":[{\"type\":\"mesh3d\",\"colorbar\":{\"outlinewidth\":0,\"ticks\":\"\"}}],\"scatter\":[{\"fillpattern\":{\"fillmode\":\"overlay\",\"size\":10,\"solidity\":0.2},\"type\":\"scatter\"}],\"parcoords\":[{\"type\":\"parcoords\",\"line\":{\"colorbar\":{\"outlinewidth\":0,\"ticks\":\"\"}}}],\"scatterpolargl\":[{\"type\":\"scatterpolargl\",\"marker\":{\"colorbar\":{\"outlinewidth\":0,\"ticks\":\"\"}}}],\"bar\":[{\"error_x\":{\"color\":\"#2a3f5f\"},\"error_y\":{\"color\":\"#2a3f5f\"},\"marker\":{\"line\":{\"color\":\"#E5ECF6\",\"width\":0.5},\"pattern\":{\"fillmode\":\"overlay\",\"size\":10,\"solidity\":0.2}},\"type\":\"bar\"}],\"scattergeo\":[{\"type\":\"scattergeo\",\"marker\":{\"colorbar\":{\"outlinewidth\":0,\"ticks\":\"\"}}}],\"scatterpolar\":[{\"type\":\"scatterpolar\",\"marker\":{\"colorbar\":{\"outlinewidth\":0,\"ticks\":\"\"}}}],\"histogram\":[{\"marker\":{\"pattern\":{\"fillmode\":\"overlay\",\"size\":10,\"solidity\":0.2}},\"type\":\"histogram\"}],\"scattergl\":[{\"type\":\"scattergl\",\"marker\":{\"colorbar\":{\"outlinewidth\":0,\"ticks\":\"\"}}}],\"scatter3d\":[{\"type\":\"scatter3d\",\"line\":{\"colorbar\":{\"outlinewidth\":0,\"ticks\":\"\"}},\"marker\":{\"colorbar\":{\"outlinewidth\":0,\"ticks\":\"\"}}}],\"scattermapbox\":[{\"type\":\"scattermapbox\",\"marker\":{\"colorbar\":{\"outlinewidth\":0,\"ticks\":\"\"}}}],\"scatterternary\":[{\"type\":\"scatterternary\",\"marker\":{\"colorbar\":{\"outlinewidth\":0,\"ticks\":\"\"}}}],\"scattercarpet\":[{\"type\":\"scattercarpet\",\"marker\":{\"colorbar\":{\"outlinewidth\":0,\"ticks\":\"\"}}}],\"carpet\":[{\"aaxis\":{\"endlinecolor\":\"#2a3f5f\",\"gridcolor\":\"white\",\"linecolor\":\"white\",\"minorgridcolor\":\"white\",\"startlinecolor\":\"#2a3f5f\"},\"baxis\":{\"endlinecolor\":\"#2a3f5f\",\"gridcolor\":\"white\",\"linecolor\":\"white\",\"minorgridcolor\":\"white\",\"startlinecolor\":\"#2a3f5f\"},\"type\":\"carpet\"}],\"table\":[{\"cells\":{\"fill\":{\"color\":\"#EBF0F8\"},\"line\":{\"color\":\"white\"}},\"header\":{\"fill\":{\"color\":\"#C8D4E3\"},\"line\":{\"color\":\"white\"}},\"type\":\"table\"}],\"barpolar\":[{\"marker\":{\"line\":{\"color\":\"#E5ECF6\",\"width\":0.5},\"pattern\":{\"fillmode\":\"overlay\",\"size\":10,\"solidity\":0.2}},\"type\":\"barpolar\"}],\"pie\":[{\"automargin\":true,\"type\":\"pie\"}]},\"layout\":{\"autotypenumbers\":\"strict\",\"colorway\":[\"#636efa\",\"#EF553B\",\"#00cc96\",\"#ab63fa\",\"#FFA15A\",\"#19d3f3\",\"#FF6692\",\"#B6E880\",\"#FF97FF\",\"#FECB52\"],\"font\":{\"color\":\"#2a3f5f\"},\"hovermode\":\"closest\",\"hoverlabel\":{\"align\":\"left\"},\"paper_bgcolor\":\"white\",\"plot_bgcolor\":\"#E5ECF6\",\"polar\":{\"bgcolor\":\"#E5ECF6\",\"angularaxis\":{\"gridcolor\":\"white\",\"linecolor\":\"white\",\"ticks\":\"\"},\"radialaxis\":{\"gridcolor\":\"white\",\"linecolor\":\"white\",\"ticks\":\"\"}},\"ternary\":{\"bgcolor\":\"#E5ECF6\",\"aaxis\":{\"gridcolor\":\"white\",\"linecolor\":\"white\",\"ticks\":\"\"},\"baxis\":{\"gridcolor\":\"white\",\"linecolor\":\"white\",\"ticks\":\"\"},\"caxis\":{\"gridcolor\":\"white\",\"linecolor\":\"white\",\"ticks\":\"\"}},\"coloraxis\":{\"colorbar\":{\"outlinewidth\":0,\"ticks\":\"\"}},\"colorscale\":{\"sequential\":[[0.0,\"#0d0887\"],[0.1111111111111111,\"#46039f\"],[0.2222222222222222,\"#7201a8\"],[0.3333333333333333,\"#9c179e\"],[0.4444444444444444,\"#bd3786\"],[0.5555555555555556,\"#d8576b\"],[0.6666666666666666,\"#ed7953\"],[0.7777777777777778,\"#fb9f3a\"],[0.8888888888888888,\"#fdca26\"],[1.0,\"#f0f921\"]],\"sequentialminus\":[[0.0,\"#0d0887\"],[0.1111111111111111,\"#46039f\"],[0.2222222222222222,\"#7201a8\"],[0.3333333333333333,\"#9c179e\"],[0.4444444444444444,\"#bd3786\"],[0.5555555555555556,\"#d8576b\"],[0.6666666666666666,\"#ed7953\"],[0.7777777777777778,\"#fb9f3a\"],[0.8888888888888888,\"#fdca26\"],[1.0,\"#f0f921\"]],\"diverging\":[[0,\"#8e0152\"],[0.1,\"#c51b7d\"],[0.2,\"#de77ae\"],[0.3,\"#f1b6da\"],[0.4,\"#fde0ef\"],[0.5,\"#f7f7f7\"],[0.6,\"#e6f5d0\"],[0.7,\"#b8e186\"],[0.8,\"#7fbc41\"],[0.9,\"#4d9221\"],[1,\"#276419\"]]},\"xaxis\":{\"gridcolor\":\"white\",\"linecolor\":\"white\",\"ticks\":\"\",\"title\":{\"standoff\":15},\"zerolinecolor\":\"white\",\"automargin\":true,\"zerolinewidth\":2},\"yaxis\":{\"gridcolor\":\"white\",\"linecolor\":\"white\",\"ticks\":\"\",\"title\":{\"standoff\":15},\"zerolinecolor\":\"white\",\"automargin\":true,\"zerolinewidth\":2},\"scene\":{\"xaxis\":{\"backgroundcolor\":\"#E5ECF6\",\"gridcolor\":\"white\",\"linecolor\":\"white\",\"showbackground\":true,\"ticks\":\"\",\"zerolinecolor\":\"white\",\"gridwidth\":2},\"yaxis\":{\"backgroundcolor\":\"#E5ECF6\",\"gridcolor\":\"white\",\"linecolor\":\"white\",\"showbackground\":true,\"ticks\":\"\",\"zerolinecolor\":\"white\",\"gridwidth\":2},\"zaxis\":{\"backgroundcolor\":\"#E5ECF6\",\"gridcolor\":\"white\",\"linecolor\":\"white\",\"showbackground\":true,\"ticks\":\"\",\"zerolinecolor\":\"white\",\"gridwidth\":2}},\"shapedefaults\":{\"line\":{\"color\":\"#2a3f5f\"}},\"annotationdefaults\":{\"arrowcolor\":\"#2a3f5f\",\"arrowhead\":0,\"arrowwidth\":1},\"geo\":{\"bgcolor\":\"white\",\"landcolor\":\"#E5ECF6\",\"subunitcolor\":\"white\",\"showland\":true,\"showlakes\":true,\"lakecolor\":\"white\"},\"title\":{\"x\":0.05},\"mapbox\":{\"style\":\"light\"}}},\"xaxis\":{\"anchor\":\"y\",\"domain\":[0.0,0.26666666666666666],\"title\":{\"text\":\"Age\"}},\"yaxis\":{\"anchor\":\"x\",\"domain\":[0.575,1.0],\"title\":{\"text\":\"Number of Players\"}},\"xaxis2\":{\"anchor\":\"y2\",\"domain\":[0.3666666666666667,0.6333333333333333],\"title\":{\"text\":\"Age\"}},\"yaxis2\":{\"anchor\":\"x2\",\"domain\":[0.575,1.0],\"title\":{\"text\":\"Number of Players\"}},\"xaxis3\":{\"anchor\":\"y3\",\"domain\":[0.7333333333333334,1.0],\"title\":{\"text\":\"Age\"}},\"yaxis3\":{\"anchor\":\"x3\",\"domain\":[0.575,1.0],\"title\":{\"text\":\"Number of Players\"}},\"xaxis4\":{\"anchor\":\"y4\",\"domain\":[0.0,0.26666666666666666],\"title\":{\"text\":\"Age\"}},\"yaxis4\":{\"anchor\":\"x4\",\"domain\":[0.0,0.425],\"title\":{\"text\":\"Number of Players\"}},\"xaxis5\":{\"anchor\":\"y5\",\"domain\":[0.3666666666666667,0.6333333333333333],\"title\":{\"text\":\"Age\"}},\"yaxis5\":{\"anchor\":\"x5\",\"domain\":[0.0,0.425],\"title\":{\"text\":\"Number of Players\"}},\"xaxis6\":{\"anchor\":\"y6\",\"domain\":[0.7333333333333334,1.0],\"title\":{\"text\":\"Age\"}},\"yaxis6\":{\"anchor\":\"x6\",\"domain\":[0.0,0.425],\"title\":{\"text\":\"Number of Players\"}},\"annotations\":[{\"font\":{\"size\":16},\"showarrow\":false,\"text\":\"it Serie A\",\"x\":0.13333333333333333,\"xanchor\":\"center\",\"xref\":\"paper\",\"y\":1.0,\"yanchor\":\"bottom\",\"yref\":\"paper\"},{\"font\":{\"size\":16},\"showarrow\":false,\"text\":\"es La Liga\",\"x\":0.5,\"xanchor\":\"center\",\"xref\":\"paper\",\"y\":1.0,\"yanchor\":\"bottom\",\"yref\":\"paper\"},{\"font\":{\"size\":16},\"showarrow\":false,\"text\":\"eng Premier League\",\"x\":0.8666666666666667,\"xanchor\":\"center\",\"xref\":\"paper\",\"y\":1.0,\"yanchor\":\"bottom\",\"yref\":\"paper\"},{\"font\":{\"size\":16},\"showarrow\":false,\"text\":\"fr Ligue 1\",\"x\":0.13333333333333333,\"xanchor\":\"center\",\"xref\":\"paper\",\"y\":0.425,\"yanchor\":\"bottom\",\"yref\":\"paper\"},{\"font\":{\"size\":16},\"showarrow\":false,\"text\":\"de Bundesliga\",\"x\":0.5,\"xanchor\":\"center\",\"xref\":\"paper\",\"y\":0.425,\"yanchor\":\"bottom\",\"yref\":\"paper\"},{\"font\":{\"size\":10},\"showarrow\":false,\"text\":\"Average: 25.2\",\"x\":25.241324921135647,\"xanchor\":\"right\",\"xref\":\"x\",\"y\":1,\"yanchor\":\"top\",\"yref\":\"y domain\"},{\"font\":{\"size\":10},\"showarrow\":false,\"text\":\"Median: 25.0\",\"x\":25.0,\"xanchor\":\"left\",\"xref\":\"x\",\"y\":1,\"yanchor\":\"top\",\"yref\":\"y domain\"},{\"font\":{\"size\":10},\"showarrow\":false,\"text\":\"Average: 25.4\",\"x\":25.36,\"xanchor\":\"right\",\"xref\":\"x2\",\"y\":1,\"yanchor\":\"top\",\"yref\":\"y2 domain\"},{\"font\":{\"size\":10},\"showarrow\":false,\"text\":\"Median: 25.0\",\"x\":25.0,\"xanchor\":\"left\",\"xref\":\"x2\",\"y\":1,\"yanchor\":\"top\",\"yref\":\"y2 domain\"},{\"font\":{\"size\":10},\"showarrow\":false,\"text\":\"Average: 25.1\",\"x\":25.098245614035086,\"xanchor\":\"right\",\"xref\":\"x3\",\"y\":1,\"yanchor\":\"top\",\"yref\":\"y3 domain\"},{\"font\":{\"size\":10},\"showarrow\":false,\"text\":\"Median: 25.0\",\"x\":25.0,\"xanchor\":\"left\",\"xref\":\"x3\",\"y\":1,\"yanchor\":\"top\",\"yref\":\"y3 domain\"},{\"font\":{\"size\":10},\"showarrow\":false,\"text\":\"Average: 24.1\",\"x\":24.125226860254084,\"xanchor\":\"right\",\"xref\":\"x4\",\"y\":1,\"yanchor\":\"top\",\"yref\":\"y4 domain\"},{\"font\":{\"size\":10},\"showarrow\":false,\"text\":\"Median: 24.0\",\"x\":24.0,\"xanchor\":\"left\",\"xref\":\"x4\",\"y\":1,\"yanchor\":\"top\",\"yref\":\"y4 domain\"},{\"font\":{\"size\":10},\"showarrow\":false,\"text\":\"Average: 25.2\",\"x\":25.226993865030675,\"xanchor\":\"right\",\"xref\":\"x5\",\"y\":1,\"yanchor\":\"top\",\"yref\":\"y5 domain\"},{\"font\":{\"size\":10},\"showarrow\":false,\"text\":\"Median: 25.0\",\"x\":25.0,\"xanchor\":\"left\",\"xref\":\"x5\",\"y\":1,\"yanchor\":\"top\",\"yref\":\"y5 domain\"}],\"shapes\":[{\"line\":{\"color\":\"green\",\"dash\":\"dash\"},\"type\":\"line\",\"x0\":25.241324921135647,\"x1\":25.241324921135647,\"xref\":\"x\",\"y0\":0,\"y1\":1,\"yref\":\"y domain\"},{\"line\":{\"color\":\"red\",\"dash\":\"dot\"},\"type\":\"line\",\"x0\":25.0,\"x1\":25.0,\"xref\":\"x\",\"y0\":0,\"y1\":1,\"yref\":\"y domain\"},{\"line\":{\"color\":\"green\",\"dash\":\"dash\"},\"type\":\"line\",\"x0\":25.36,\"x1\":25.36,\"xref\":\"x2\",\"y0\":0,\"y1\":1,\"yref\":\"y2 domain\"},{\"line\":{\"color\":\"red\",\"dash\":\"dot\"},\"type\":\"line\",\"x0\":25.0,\"x1\":25.0,\"xref\":\"x2\",\"y0\":0,\"y1\":1,\"yref\":\"y2 domain\"},{\"line\":{\"color\":\"green\",\"dash\":\"dash\"},\"type\":\"line\",\"x0\":25.098245614035086,\"x1\":25.098245614035086,\"xref\":\"x3\",\"y0\":0,\"y1\":1,\"yref\":\"y3 domain\"},{\"line\":{\"color\":\"red\",\"dash\":\"dot\"},\"type\":\"line\",\"x0\":25.0,\"x1\":25.0,\"xref\":\"x3\",\"y0\":0,\"y1\":1,\"yref\":\"y3 domain\"},{\"line\":{\"color\":\"green\",\"dash\":\"dash\"},\"type\":\"line\",\"x0\":24.125226860254084,\"x1\":24.125226860254084,\"xref\":\"x4\",\"y0\":0,\"y1\":1,\"yref\":\"y4 domain\"},{\"line\":{\"color\":\"red\",\"dash\":\"dot\"},\"type\":\"line\",\"x0\":24.0,\"x1\":24.0,\"xref\":\"x4\",\"y0\":0,\"y1\":1,\"yref\":\"y4 domain\"},{\"line\":{\"color\":\"green\",\"dash\":\"dash\"},\"type\":\"line\",\"x0\":25.226993865030675,\"x1\":25.226993865030675,\"xref\":\"x5\",\"y0\":0,\"y1\":1,\"yref\":\"y5 domain\"},{\"line\":{\"color\":\"red\",\"dash\":\"dot\"},\"type\":\"line\",\"x0\":25.0,\"x1\":25.0,\"xref\":\"x5\",\"y0\":0,\"y1\":1,\"yref\":\"y5 domain\"}],\"title\":{\"text\":\"Player Age Distribution per League (with Mean & Median)\",\"x\":0.5},\"height\":650,\"width\":1000,\"bargap\":0.05},                        {\"responsive\": true}                    ).then(function(){\n",
       "                            \n",
       "var gd = document.getElementById('6fa623f7-cd53-41b1-a13a-6bfd3862d260');\n",
       "var x = new MutationObserver(function (mutations, observer) {{\n",
       "        var display = window.getComputedStyle(gd).display;\n",
       "        if (!display || display === 'none') {{\n",
       "            console.log([gd, 'removed!']);\n",
       "            Plotly.purge(gd);\n",
       "            observer.disconnect();\n",
       "        }}\n",
       "}});\n",
       "\n",
       "// Listen for the removal of the full notebook cells\n",
       "var notebookContainer = gd.closest('#notebook-container');\n",
       "if (notebookContainer) {{\n",
       "    x.observe(notebookContainer, {childList: true});\n",
       "}}\n",
       "\n",
       "// Listen for the clearing of the current output cell\n",
       "var outputEl = gd.closest('.output');\n",
       "if (outputEl) {{\n",
       "    x.observe(outputEl, {childList: true});\n",
       "}}\n",
       "\n",
       "                        })                };                            </script>        </div>\n",
       "</body>\n",
       "</html>"
      ]
     },
     "metadata": {},
     "output_type": "display_data"
    }
   ],
   "source": [
    "# 1. Take the 6 leagues with the most players.\n",
    "leagues = df_cleaned['Comp'].value_counts().head(6).index.tolist()\n",
    "\n",
    "# 2. Create a subplot with a 2-row and 3-column layout to show\n",
    "# the age distribution per league.\n",
    "fig = make_subplots(\n",
    "    rows=2, cols=3,\n",
    "    subplot_titles=leagues, # The title for each subplot is the league name\n",
    "    horizontal_spacing=0.1,\n",
    "    vertical_spacing=0.15\n",
    ")\n",
    "\n",
    "# 3. Iterate for each league and add a histogram of player ages.\n",
    "for idx, liga in enumerate(leagues):\n",
    "    row = idx // 3 + 1\n",
    "    col = idx % 3 + 1\n",
    "\n",
    "    data = df_cleaned[df_cleaned['Comp'] == liga]\n",
    "    mean_age = data['Age'].mean()\n",
    "    median_age = data['Age'].median()\n",
    "\n",
    "    # Add an age histogram for the current league.\n",
    "    fig.add_trace(go.Histogram(\n",
    "        x=data['Age'],\n",
    "        nbinsx=20,\n",
    "        marker_color='dodgerblue',\n",
    "        opacity=0.75,\n",
    "        name=liga,\n",
    "        showlegend=False\n",
    "    ), row=row, col=col)\n",
    "\n",
    "    # Add an average age line for the current league.\n",
    "    fig.add_vline( \n",
    "        x=mean_age, line_dash='dash', line_color='green', \n",
    "        row=row, col=col, \n",
    "        annotation_text=f\"Average: {mean_age:.1f}\", \n",
    "        annotation_position=\"top left\", \n",
    "        annotation_font_size=10 \n",
    "    ) \n",
    "\n",
    "    # Added age median lines for current leagues. \n",
    "    fig.add_vline( \n",
    "        x=median_age, line_dash='dot', line_color='red', \n",
    "        row=row, col=col, \n",
    "        annotation_text=f\"Median: {median_age:.1f}\", \n",
    "        annotation_position=\"top right\", \n",
    "        annotation_font_size=10 \n",
    "    )\n",
    "\n",
    "# 4. Set the overall plot layout.\n",
    "fig.update_layout(\n",
    "    height=650,\n",
    "    width=1000,\n",
    "    title=\"Player Age Distribution per League (with Mean & Median)\",\n",
    "    title_x=0.5, # Position the title in the center\n",
    "    bargap=0.05 # Distance between histogram bars\n",
    ")\n",
    "\n",
    "# Set the X and Y axis labels.\n",
    "fig.update_xaxes(title_text=\"Age\")\n",
    "fig.update_yaxes(title_text=\"Number of Players\")\n",
    "\n",
    "fig.show()"
   ]
  },
  {
   "cell_type": "markdown",
   "id": "c847c993",
   "metadata": {
    "_cell_guid": "a15616a8-f2f6-48a7-95d9-63844cdbeddc",
    "_uuid": "c4e26a42-3c53-450e-b69e-9f767f5e124d",
    "collapsed": false,
    "jupyter": {
     "outputs_hidden": false
    },
    "papermill": {
     "duration": 0.012737,
     "end_time": "2025-07-05T04:56:02.322528",
     "exception": false,
     "start_time": "2025-07-05T04:56:02.309791",
     "status": "completed"
    },
    "tags": []
   },
   "source": [
    "**📊 Player Age Distribution by League**\n",
    "\n",
    "The age distribution across Europe's top five leagues shows interesting patterns reflecting each league's squad management strategy.\n",
    "\n",
    "The average and median player age across leagues hover around **24-25**, indicating most players are in their prime.\n",
    "\n",
    "**🧠 Insights by League:**\n",
    "- 🇫🇷 Ligue 1\n",
    "Lowest average age (~24.1).\n",
    "Left-skewed distribution (many young players).\n",
    "Insight: Ligue 1 is known as a youth development league. Many clubs give opportunities to players aged <23.\n",
    "\n",
    "- 🇮🇹 Serie A\n",
    "Average and median around 25, but distribution spreads to older ages.\n",
    "Insight: Serie A accommodates experienced senior players. A more tactical style allows veteran players to remain competitive.\n",
    "\n",
    "- 🇩🇪 Bundesliga and 🇪🇸 La Liga\n",
    "Symmetrical and balanced distribution between young and senior players.\n",
    "Insight: Both leagues demonstrate good age management in squads, allowing space for regeneration while retaining experienced players.\n",
    "\n",
    "- 🏴 Premier League\n",
    "Dense distribution at 25-27 years.\n",
    "Insight: The EPL tends to maximize mature players, aligning with the high physical and competitive demands."
   ]
  },
  {
   "cell_type": "markdown",
   "id": "9967b115",
   "metadata": {
    "_cell_guid": "d278849d-2525-48ed-8a0e-84c73c4a403a",
    "_uuid": "710cdd5c-ace2-4055-a949-413dc2ec3276",
    "collapsed": false,
    "jupyter": {
     "outputs_hidden": false
    },
    "papermill": {
     "duration": 0.012664,
     "end_time": "2025-07-05T04:56:02.348277",
     "exception": false,
     "start_time": "2025-07-05T04:56:02.335613",
     "status": "completed"
    },
    "tags": []
   },
   "source": [
    "## 🏃‍♂️ Youth Players Statistics\n",
    "This section focuses on young players (age <= 21) to analyze their distribution across leagues and clubs, and identify the youngest active players."
   ]
  },
  {
   "cell_type": "code",
   "execution_count": 8,
   "id": "a4099334",
   "metadata": {
    "_cell_guid": "dcfeb682-4909-4889-9d1f-efed3ecc0e6f",
    "_uuid": "31eea428-d311-4b43-82df-aa16c4010131",
    "collapsed": false,
    "execution": {
     "iopub.execute_input": "2025-07-05T04:56:02.453688Z",
     "iopub.status.busy": "2025-07-05T04:56:02.453276Z",
     "iopub.status.idle": "2025-07-05T04:56:02.555505Z",
     "shell.execute_reply": "2025-07-05T04:56:02.554606Z"
    },
    "jupyter": {
     "outputs_hidden": false
    },
    "papermill": {
     "duration": 0.11883,
     "end_time": "2025-07-05T04:56:02.557030",
     "exception": false,
     "start_time": "2025-07-05T04:56:02.438200",
     "status": "completed"
    },
    "tags": []
   },
   "outputs": [
    {
     "name": "stdout",
     "output_type": "stream",
     "text": [
      "Comp              \n",
      "fr Ligue 1            183\n",
      "es La Liga            152\n",
      "it Serie A            132\n",
      "eng Premier League    127\n",
      "de Bundesliga          98\n",
      "Name: count, dtype: int64\n"
     ]
    },
    {
     "data": {
      "text/html": [
       "<html>\n",
       "<head><meta charset=\"utf-8\" /></head>\n",
       "<body>\n",
       "    <div>            <script src=\"https://cdnjs.cloudflare.com/ajax/libs/mathjax/2.7.5/MathJax.js?config=TeX-AMS-MML_SVG\"></script><script type=\"text/javascript\">if (window.MathJax && window.MathJax.Hub && window.MathJax.Hub.Config) {window.MathJax.Hub.Config({SVG: {font: \"STIX-Web\"}});}</script>                <script type=\"text/javascript\">window.PlotlyConfig = {MathJaxConfig: 'local'};</script>\n",
       "        <script charset=\"utf-8\" src=\"https://cdn.plot.ly/plotly-2.35.2.min.js\"></script>                <div id=\"8f3be448-ff52-4dc5-a5d4-0334a1fbb68a\" class=\"plotly-graph-div\" style=\"height:525px; width:100%;\"></div>            <script type=\"text/javascript\">                                    window.PLOTLYENV=window.PLOTLYENV || {};                                    if (document.getElementById(\"8f3be448-ff52-4dc5-a5d4-0334a1fbb68a\")) {                    Plotly.newPlot(                        \"8f3be448-ff52-4dc5-a5d4-0334a1fbb68a\",                        [{\"alignmentgroup\":\"True\",\"hovertemplate\":\"Number of Young Players=%{marker.color}\\u003cbr\\u003eComp=%{y}\\u003cextra\\u003e\\u003c\\u002fextra\\u003e\",\"legendgroup\":\"\",\"marker\":{\"color\":[183,152,132,127,98],\"coloraxis\":\"coloraxis\",\"pattern\":{\"shape\":\"\"}},\"name\":\"\",\"offsetgroup\":\"\",\"orientation\":\"h\",\"showlegend\":false,\"textposition\":\"auto\",\"x\":[183,152,132,127,98],\"xaxis\":\"x\",\"y\":[\"fr Ligue 1\",\"es La Liga\",\"it Serie A\",\"eng Premier League\",\"de Bundesliga\"],\"yaxis\":\"y\",\"type\":\"bar\"}],                        {\"template\":{\"data\":{\"histogram2dcontour\":[{\"type\":\"histogram2dcontour\",\"colorbar\":{\"outlinewidth\":0,\"ticks\":\"\"},\"colorscale\":[[0.0,\"#0d0887\"],[0.1111111111111111,\"#46039f\"],[0.2222222222222222,\"#7201a8\"],[0.3333333333333333,\"#9c179e\"],[0.4444444444444444,\"#bd3786\"],[0.5555555555555556,\"#d8576b\"],[0.6666666666666666,\"#ed7953\"],[0.7777777777777778,\"#fb9f3a\"],[0.8888888888888888,\"#fdca26\"],[1.0,\"#f0f921\"]]}],\"choropleth\":[{\"type\":\"choropleth\",\"colorbar\":{\"outlinewidth\":0,\"ticks\":\"\"}}],\"histogram2d\":[{\"type\":\"histogram2d\",\"colorbar\":{\"outlinewidth\":0,\"ticks\":\"\"},\"colorscale\":[[0.0,\"#0d0887\"],[0.1111111111111111,\"#46039f\"],[0.2222222222222222,\"#7201a8\"],[0.3333333333333333,\"#9c179e\"],[0.4444444444444444,\"#bd3786\"],[0.5555555555555556,\"#d8576b\"],[0.6666666666666666,\"#ed7953\"],[0.7777777777777778,\"#fb9f3a\"],[0.8888888888888888,\"#fdca26\"],[1.0,\"#f0f921\"]]}],\"heatmap\":[{\"type\":\"heatmap\",\"colorbar\":{\"outlinewidth\":0,\"ticks\":\"\"},\"colorscale\":[[0.0,\"#0d0887\"],[0.1111111111111111,\"#46039f\"],[0.2222222222222222,\"#7201a8\"],[0.3333333333333333,\"#9c179e\"],[0.4444444444444444,\"#bd3786\"],[0.5555555555555556,\"#d8576b\"],[0.6666666666666666,\"#ed7953\"],[0.7777777777777778,\"#fb9f3a\"],[0.8888888888888888,\"#fdca26\"],[1.0,\"#f0f921\"]]}],\"heatmapgl\":[{\"type\":\"heatmapgl\",\"colorbar\":{\"outlinewidth\":0,\"ticks\":\"\"},\"colorscale\":[[0.0,\"#0d0887\"],[0.1111111111111111,\"#46039f\"],[0.2222222222222222,\"#7201a8\"],[0.3333333333333333,\"#9c179e\"],[0.4444444444444444,\"#bd3786\"],[0.5555555555555556,\"#d8576b\"],[0.6666666666666666,\"#ed7953\"],[0.7777777777777778,\"#fb9f3a\"],[0.8888888888888888,\"#fdca26\"],[1.0,\"#f0f921\"]]}],\"contourcarpet\":[{\"type\":\"contourcarpet\",\"colorbar\":{\"outlinewidth\":0,\"ticks\":\"\"}}],\"contour\":[{\"type\":\"contour\",\"colorbar\":{\"outlinewidth\":0,\"ticks\":\"\"},\"colorscale\":[[0.0,\"#0d0887\"],[0.1111111111111111,\"#46039f\"],[0.2222222222222222,\"#7201a8\"],[0.3333333333333333,\"#9c179e\"],[0.4444444444444444,\"#bd3786\"],[0.5555555555555556,\"#d8576b\"],[0.6666666666666666,\"#ed7953\"],[0.7777777777777778,\"#fb9f3a\"],[0.8888888888888888,\"#fdca26\"],[1.0,\"#f0f921\"]]}],\"surface\":[{\"type\":\"surface\",\"colorbar\":{\"outlinewidth\":0,\"ticks\":\"\"},\"colorscale\":[[0.0,\"#0d0887\"],[0.1111111111111111,\"#46039f\"],[0.2222222222222222,\"#7201a8\"],[0.3333333333333333,\"#9c179e\"],[0.4444444444444444,\"#bd3786\"],[0.5555555555555556,\"#d8576b\"],[0.6666666666666666,\"#ed7953\"],[0.7777777777777778,\"#fb9f3a\"],[0.8888888888888888,\"#fdca26\"],[1.0,\"#f0f921\"]]}],\"mesh3d\":[{\"type\":\"mesh3d\",\"colorbar\":{\"outlinewidth\":0,\"ticks\":\"\"}}],\"scatter\":[{\"fillpattern\":{\"fillmode\":\"overlay\",\"size\":10,\"solidity\":0.2},\"type\":\"scatter\"}],\"parcoords\":[{\"type\":\"parcoords\",\"line\":{\"colorbar\":{\"outlinewidth\":0,\"ticks\":\"\"}}}],\"scatterpolargl\":[{\"type\":\"scatterpolargl\",\"marker\":{\"colorbar\":{\"outlinewidth\":0,\"ticks\":\"\"}}}],\"bar\":[{\"error_x\":{\"color\":\"#2a3f5f\"},\"error_y\":{\"color\":\"#2a3f5f\"},\"marker\":{\"line\":{\"color\":\"#E5ECF6\",\"width\":0.5},\"pattern\":{\"fillmode\":\"overlay\",\"size\":10,\"solidity\":0.2}},\"type\":\"bar\"}],\"scattergeo\":[{\"type\":\"scattergeo\",\"marker\":{\"colorbar\":{\"outlinewidth\":0,\"ticks\":\"\"}}}],\"scatterpolar\":[{\"type\":\"scatterpolar\",\"marker\":{\"colorbar\":{\"outlinewidth\":0,\"ticks\":\"\"}}}],\"histogram\":[{\"marker\":{\"pattern\":{\"fillmode\":\"overlay\",\"size\":10,\"solidity\":0.2}},\"type\":\"histogram\"}],\"scattergl\":[{\"type\":\"scattergl\",\"marker\":{\"colorbar\":{\"outlinewidth\":0,\"ticks\":\"\"}}}],\"scatter3d\":[{\"type\":\"scatter3d\",\"line\":{\"colorbar\":{\"outlinewidth\":0,\"ticks\":\"\"}},\"marker\":{\"colorbar\":{\"outlinewidth\":0,\"ticks\":\"\"}}}],\"scattermapbox\":[{\"type\":\"scattermapbox\",\"marker\":{\"colorbar\":{\"outlinewidth\":0,\"ticks\":\"\"}}}],\"scatterternary\":[{\"type\":\"scatterternary\",\"marker\":{\"colorbar\":{\"outlinewidth\":0,\"ticks\":\"\"}}}],\"scattercarpet\":[{\"type\":\"scattercarpet\",\"marker\":{\"colorbar\":{\"outlinewidth\":0,\"ticks\":\"\"}}}],\"carpet\":[{\"aaxis\":{\"endlinecolor\":\"#2a3f5f\",\"gridcolor\":\"white\",\"linecolor\":\"white\",\"minorgridcolor\":\"white\",\"startlinecolor\":\"#2a3f5f\"},\"baxis\":{\"endlinecolor\":\"#2a3f5f\",\"gridcolor\":\"white\",\"linecolor\":\"white\",\"minorgridcolor\":\"white\",\"startlinecolor\":\"#2a3f5f\"},\"type\":\"carpet\"}],\"table\":[{\"cells\":{\"fill\":{\"color\":\"#EBF0F8\"},\"line\":{\"color\":\"white\"}},\"header\":{\"fill\":{\"color\":\"#C8D4E3\"},\"line\":{\"color\":\"white\"}},\"type\":\"table\"}],\"barpolar\":[{\"marker\":{\"line\":{\"color\":\"#E5ECF6\",\"width\":0.5},\"pattern\":{\"fillmode\":\"overlay\",\"size\":10,\"solidity\":0.2}},\"type\":\"barpolar\"}],\"pie\":[{\"automargin\":true,\"type\":\"pie\"}]},\"layout\":{\"autotypenumbers\":\"strict\",\"colorway\":[\"#636efa\",\"#EF553B\",\"#00cc96\",\"#ab63fa\",\"#FFA15A\",\"#19d3f3\",\"#FF6692\",\"#B6E880\",\"#FF97FF\",\"#FECB52\"],\"font\":{\"color\":\"#2a3f5f\"},\"hovermode\":\"closest\",\"hoverlabel\":{\"align\":\"left\"},\"paper_bgcolor\":\"white\",\"plot_bgcolor\":\"#E5ECF6\",\"polar\":{\"bgcolor\":\"#E5ECF6\",\"angularaxis\":{\"gridcolor\":\"white\",\"linecolor\":\"white\",\"ticks\":\"\"},\"radialaxis\":{\"gridcolor\":\"white\",\"linecolor\":\"white\",\"ticks\":\"\"}},\"ternary\":{\"bgcolor\":\"#E5ECF6\",\"aaxis\":{\"gridcolor\":\"white\",\"linecolor\":\"white\",\"ticks\":\"\"},\"baxis\":{\"gridcolor\":\"white\",\"linecolor\":\"white\",\"ticks\":\"\"},\"caxis\":{\"gridcolor\":\"white\",\"linecolor\":\"white\",\"ticks\":\"\"}},\"coloraxis\":{\"colorbar\":{\"outlinewidth\":0,\"ticks\":\"\"}},\"colorscale\":{\"sequential\":[[0.0,\"#0d0887\"],[0.1111111111111111,\"#46039f\"],[0.2222222222222222,\"#7201a8\"],[0.3333333333333333,\"#9c179e\"],[0.4444444444444444,\"#bd3786\"],[0.5555555555555556,\"#d8576b\"],[0.6666666666666666,\"#ed7953\"],[0.7777777777777778,\"#fb9f3a\"],[0.8888888888888888,\"#fdca26\"],[1.0,\"#f0f921\"]],\"sequentialminus\":[[0.0,\"#0d0887\"],[0.1111111111111111,\"#46039f\"],[0.2222222222222222,\"#7201a8\"],[0.3333333333333333,\"#9c179e\"],[0.4444444444444444,\"#bd3786\"],[0.5555555555555556,\"#d8576b\"],[0.6666666666666666,\"#ed7953\"],[0.7777777777777778,\"#fb9f3a\"],[0.8888888888888888,\"#fdca26\"],[1.0,\"#f0f921\"]],\"diverging\":[[0,\"#8e0152\"],[0.1,\"#c51b7d\"],[0.2,\"#de77ae\"],[0.3,\"#f1b6da\"],[0.4,\"#fde0ef\"],[0.5,\"#f7f7f7\"],[0.6,\"#e6f5d0\"],[0.7,\"#b8e186\"],[0.8,\"#7fbc41\"],[0.9,\"#4d9221\"],[1,\"#276419\"]]},\"xaxis\":{\"gridcolor\":\"white\",\"linecolor\":\"white\",\"ticks\":\"\",\"title\":{\"standoff\":15},\"zerolinecolor\":\"white\",\"automargin\":true,\"zerolinewidth\":2},\"yaxis\":{\"gridcolor\":\"white\",\"linecolor\":\"white\",\"ticks\":\"\",\"title\":{\"standoff\":15},\"zerolinecolor\":\"white\",\"automargin\":true,\"zerolinewidth\":2},\"scene\":{\"xaxis\":{\"backgroundcolor\":\"#E5ECF6\",\"gridcolor\":\"white\",\"linecolor\":\"white\",\"showbackground\":true,\"ticks\":\"\",\"zerolinecolor\":\"white\",\"gridwidth\":2},\"yaxis\":{\"backgroundcolor\":\"#E5ECF6\",\"gridcolor\":\"white\",\"linecolor\":\"white\",\"showbackground\":true,\"ticks\":\"\",\"zerolinecolor\":\"white\",\"gridwidth\":2},\"zaxis\":{\"backgroundcolor\":\"#E5ECF6\",\"gridcolor\":\"white\",\"linecolor\":\"white\",\"showbackground\":true,\"ticks\":\"\",\"zerolinecolor\":\"white\",\"gridwidth\":2}},\"shapedefaults\":{\"line\":{\"color\":\"#2a3f5f\"}},\"annotationdefaults\":{\"arrowcolor\":\"#2a3f5f\",\"arrowhead\":0,\"arrowwidth\":1},\"geo\":{\"bgcolor\":\"white\",\"landcolor\":\"#E5ECF6\",\"subunitcolor\":\"white\",\"showland\":true,\"showlakes\":true,\"lakecolor\":\"white\"},\"title\":{\"x\":0.05},\"mapbox\":{\"style\":\"light\"}}},\"xaxis\":{\"anchor\":\"y\",\"domain\":[0.0,1.0],\"title\":{\"text\":\"Number of Young Players\"}},\"yaxis\":{\"anchor\":\"x\",\"domain\":[0.0,1.0],\"title\":{\"text\":\"League\"},\"autorange\":\"reversed\"},\"coloraxis\":{\"colorbar\":{\"title\":{\"text\":\"Number of Young Players\"}},\"colorscale\":[[0.0,\"rgb(255,255,217)\"],[0.125,\"rgb(237,248,177)\"],[0.25,\"rgb(199,233,180)\"],[0.375,\"rgb(127,205,187)\"],[0.5,\"rgb(65,182,196)\"],[0.625,\"rgb(29,145,192)\"],[0.75,\"rgb(34,94,168)\"],[0.875,\"rgb(37,52,148)\"],[1.0,\"rgb(8,29,88)\"]]},\"legend\":{\"tracegroupgap\":0},\"title\":{\"text\":\"Number of Young Players per League (\\u003c 21 Years)\",\"x\":0.5},\"barmode\":\"relative\"},                        {\"responsive\": true}                    ).then(function(){\n",
       "                            \n",
       "var gd = document.getElementById('8f3be448-ff52-4dc5-a5d4-0334a1fbb68a');\n",
       "var x = new MutationObserver(function (mutations, observer) {{\n",
       "        var display = window.getComputedStyle(gd).display;\n",
       "        if (!display || display === 'none') {{\n",
       "            console.log([gd, 'removed!']);\n",
       "            Plotly.purge(gd);\n",
       "            observer.disconnect();\n",
       "        }}\n",
       "}});\n",
       "\n",
       "// Listen for the removal of the full notebook cells\n",
       "var notebookContainer = gd.closest('#notebook-container');\n",
       "if (notebookContainer) {{\n",
       "    x.observe(notebookContainer, {childList: true});\n",
       "}}\n",
       "\n",
       "// Listen for the clearing of the current output cell\n",
       "var outputEl = gd.closest('.output');\n",
       "if (outputEl) {{\n",
       "    x.observe(outputEl, {childList: true});\n",
       "}}\n",
       "\n",
       "                        })                };                            </script>        </div>\n",
       "</body>\n",
       "</html>"
      ]
     },
     "metadata": {},
     "output_type": "display_data"
    }
   ],
   "source": [
    "# Calculate and display the number of young players (age <= 21) per league.\n",
    "age_threshold = 21 # Age threshold for 'young player'\n",
    "young_players = df_cleaned[df_cleaned['Age'] <= age_threshold]\n",
    "young_players_per_liga = young_players[['Comp']].value_counts().head(5)\n",
    "\n",
    "print(young_players_per_liga)\n",
    "\n",
    "young_players_per_comp = young_players['Comp'].value_counts().head(5).reset_index()\n",
    "young_players_per_comp.columns = ['Comp', 'Number of Young Players']\n",
    "\n",
    "# Create a bar chart showing young players per league\n",
    "fig = px.bar(\n",
    "    young_players_per_comp,\n",
    "    x='Number of Young Players',\n",
    "    y='Comp',\n",
    "    orientation='h', # Horizontal orientation\n",
    "    color='Number of Young Players',\n",
    "    color_continuous_scale='YlGnBu', # Color scale\n",
    "    title='Number of Young Players per League (< 21 Years)'\n",
    ")\n",
    "\n",
    "fig.update_layout(\n",
    "    xaxis_title=\"Number of Young Players\",\n",
    "    yaxis_title=\"League\",\n",
    "    yaxis=dict(autorange='reversed'), # Reverse Y-axis order\n",
    "    title_x=0.5\n",
    ")\n",
    "\n",
    "fig.show()"
   ]
  },
  {
   "cell_type": "code",
   "execution_count": 9,
   "id": "1e0b3f39",
   "metadata": {
    "_cell_guid": "a8828a88-3df3-4334-ae94-430888487ff7",
    "_uuid": "22d317a0-e576-4d63-91e5-1d13e0196031",
    "collapsed": false,
    "execution": {
     "iopub.execute_input": "2025-07-05T04:56:02.588164Z",
     "iopub.status.busy": "2025-07-05T04:56:02.587749Z",
     "iopub.status.idle": "2025-07-05T04:56:02.653035Z",
     "shell.execute_reply": "2025-07-05T04:56:02.652121Z"
    },
    "jupyter": {
     "outputs_hidden": false
    },
    "papermill": {
     "duration": 0.0832,
     "end_time": "2025-07-05T04:56:02.654533",
     "exception": false,
     "start_time": "2025-07-05T04:56:02.571333",
     "status": "completed"
    },
    "tags": []
   },
   "outputs": [
    {
     "name": "stdout",
     "output_type": "stream",
     "text": [
      "Squad           Comp              \n",
      "Reims           fr Ligue 1            18\n",
      "Strasbourg      fr Ligue 1            18\n",
      "Montpellier     fr Ligue 1            14\n",
      "Valladolid      es La Liga            13\n",
      "Barcelona       es La Liga            13\n",
      "Real Madrid     es La Liga            12\n",
      "Sevilla         es La Liga            11\n",
      "Tottenham       eng Premier League    11\n",
      "Lens            fr Ligue 1            11\n",
      "Eint Frankfurt  de Bundesliga         11\n",
      "Name: count, dtype: int64\n"
     ]
    },
    {
     "data": {
      "text/html": [
       "<html>\n",
       "<head><meta charset=\"utf-8\" /></head>\n",
       "<body>\n",
       "    <div>            <script src=\"https://cdnjs.cloudflare.com/ajax/libs/mathjax/2.7.5/MathJax.js?config=TeX-AMS-MML_SVG\"></script><script type=\"text/javascript\">if (window.MathJax && window.MathJax.Hub && window.MathJax.Hub.Config) {window.MathJax.Hub.Config({SVG: {font: \"STIX-Web\"}});}</script>                <script type=\"text/javascript\">window.PlotlyConfig = {MathJaxConfig: 'local'};</script>\n",
       "        <script charset=\"utf-8\" src=\"https://cdn.plot.ly/plotly-2.35.2.min.js\"></script>                <div id=\"4deba71b-5f32-484f-bb9a-5cb6d6463f8b\" class=\"plotly-graph-div\" style=\"height:525px; width:100%;\"></div>            <script type=\"text/javascript\">                                    window.PLOTLYENV=window.PLOTLYENV || {};                                    if (document.getElementById(\"4deba71b-5f32-484f-bb9a-5cb6d6463f8b\")) {                    Plotly.newPlot(                        \"4deba71b-5f32-484f-bb9a-5cb6d6463f8b\",                        [{\"alignmentgroup\":\"True\",\"hovertemplate\":\"Number of Young Players=%{marker.color}\\u003cbr\\u003eSquad=%{y}\\u003cextra\\u003e\\u003c\\u002fextra\\u003e\",\"legendgroup\":\"\",\"marker\":{\"color\":[18,18,14,13,13,12,11,11,11,11],\"coloraxis\":\"coloraxis\",\"pattern\":{\"shape\":\"\"}},\"name\":\"\",\"offsetgroup\":\"\",\"orientation\":\"h\",\"showlegend\":false,\"textposition\":\"auto\",\"x\":[18,18,14,13,13,12,11,11,11,11],\"xaxis\":\"x\",\"y\":[\"Strasbourg\",\"Reims\",\"Montpellier\",\"Valladolid\",\"Barcelona\",\"Real Madrid\",\"Lens\",\"Nice\",\"Girona\",\"Tottenham\"],\"yaxis\":\"y\",\"type\":\"bar\"}],                        {\"template\":{\"data\":{\"histogram2dcontour\":[{\"type\":\"histogram2dcontour\",\"colorbar\":{\"outlinewidth\":0,\"ticks\":\"\"},\"colorscale\":[[0.0,\"#0d0887\"],[0.1111111111111111,\"#46039f\"],[0.2222222222222222,\"#7201a8\"],[0.3333333333333333,\"#9c179e\"],[0.4444444444444444,\"#bd3786\"],[0.5555555555555556,\"#d8576b\"],[0.6666666666666666,\"#ed7953\"],[0.7777777777777778,\"#fb9f3a\"],[0.8888888888888888,\"#fdca26\"],[1.0,\"#f0f921\"]]}],\"choropleth\":[{\"type\":\"choropleth\",\"colorbar\":{\"outlinewidth\":0,\"ticks\":\"\"}}],\"histogram2d\":[{\"type\":\"histogram2d\",\"colorbar\":{\"outlinewidth\":0,\"ticks\":\"\"},\"colorscale\":[[0.0,\"#0d0887\"],[0.1111111111111111,\"#46039f\"],[0.2222222222222222,\"#7201a8\"],[0.3333333333333333,\"#9c179e\"],[0.4444444444444444,\"#bd3786\"],[0.5555555555555556,\"#d8576b\"],[0.6666666666666666,\"#ed7953\"],[0.7777777777777778,\"#fb9f3a\"],[0.8888888888888888,\"#fdca26\"],[1.0,\"#f0f921\"]]}],\"heatmap\":[{\"type\":\"heatmap\",\"colorbar\":{\"outlinewidth\":0,\"ticks\":\"\"},\"colorscale\":[[0.0,\"#0d0887\"],[0.1111111111111111,\"#46039f\"],[0.2222222222222222,\"#7201a8\"],[0.3333333333333333,\"#9c179e\"],[0.4444444444444444,\"#bd3786\"],[0.5555555555555556,\"#d8576b\"],[0.6666666666666666,\"#ed7953\"],[0.7777777777777778,\"#fb9f3a\"],[0.8888888888888888,\"#fdca26\"],[1.0,\"#f0f921\"]]}],\"heatmapgl\":[{\"type\":\"heatmapgl\",\"colorbar\":{\"outlinewidth\":0,\"ticks\":\"\"},\"colorscale\":[[0.0,\"#0d0887\"],[0.1111111111111111,\"#46039f\"],[0.2222222222222222,\"#7201a8\"],[0.3333333333333333,\"#9c179e\"],[0.4444444444444444,\"#bd3786\"],[0.5555555555555556,\"#d8576b\"],[0.6666666666666666,\"#ed7953\"],[0.7777777777777778,\"#fb9f3a\"],[0.8888888888888888,\"#fdca26\"],[1.0,\"#f0f921\"]]}],\"contourcarpet\":[{\"type\":\"contourcarpet\",\"colorbar\":{\"outlinewidth\":0,\"ticks\":\"\"}}],\"contour\":[{\"type\":\"contour\",\"colorbar\":{\"outlinewidth\":0,\"ticks\":\"\"},\"colorscale\":[[0.0,\"#0d0887\"],[0.1111111111111111,\"#46039f\"],[0.2222222222222222,\"#7201a8\"],[0.3333333333333333,\"#9c179e\"],[0.4444444444444444,\"#bd3786\"],[0.5555555555555556,\"#d8576b\"],[0.6666666666666666,\"#ed7953\"],[0.7777777777777778,\"#fb9f3a\"],[0.8888888888888888,\"#fdca26\"],[1.0,\"#f0f921\"]]}],\"surface\":[{\"type\":\"surface\",\"colorbar\":{\"outlinewidth\":0,\"ticks\":\"\"},\"colorscale\":[[0.0,\"#0d0887\"],[0.1111111111111111,\"#46039f\"],[0.2222222222222222,\"#7201a8\"],[0.3333333333333333,\"#9c179e\"],[0.4444444444444444,\"#bd3786\"],[0.5555555555555556,\"#d8576b\"],[0.6666666666666666,\"#ed7953\"],[0.7777777777777778,\"#fb9f3a\"],[0.8888888888888888,\"#fdca26\"],[1.0,\"#f0f921\"]]}],\"mesh3d\":[{\"type\":\"mesh3d\",\"colorbar\":{\"outlinewidth\":0,\"ticks\":\"\"}}],\"scatter\":[{\"fillpattern\":{\"fillmode\":\"overlay\",\"size\":10,\"solidity\":0.2},\"type\":\"scatter\"}],\"parcoords\":[{\"type\":\"parcoords\",\"line\":{\"colorbar\":{\"outlinewidth\":0,\"ticks\":\"\"}}}],\"scatterpolargl\":[{\"type\":\"scatterpolargl\",\"marker\":{\"colorbar\":{\"outlinewidth\":0,\"ticks\":\"\"}}}],\"bar\":[{\"error_x\":{\"color\":\"#2a3f5f\"},\"error_y\":{\"color\":\"#2a3f5f\"},\"marker\":{\"line\":{\"color\":\"#E5ECF6\",\"width\":0.5},\"pattern\":{\"fillmode\":\"overlay\",\"size\":10,\"solidity\":0.2}},\"type\":\"bar\"}],\"scattergeo\":[{\"type\":\"scattergeo\",\"marker\":{\"colorbar\":{\"outlinewidth\":0,\"ticks\":\"\"}}}],\"scatterpolar\":[{\"type\":\"scatterpolar\",\"marker\":{\"colorbar\":{\"outlinewidth\":0,\"ticks\":\"\"}}}],\"histogram\":[{\"marker\":{\"pattern\":{\"fillmode\":\"overlay\",\"size\":10,\"solidity\":0.2}},\"type\":\"histogram\"}],\"scattergl\":[{\"type\":\"scattergl\",\"marker\":{\"colorbar\":{\"outlinewidth\":0,\"ticks\":\"\"}}}],\"scatter3d\":[{\"type\":\"scatter3d\",\"line\":{\"colorbar\":{\"outlinewidth\":0,\"ticks\":\"\"}},\"marker\":{\"colorbar\":{\"outlinewidth\":0,\"ticks\":\"\"}}}],\"scattermapbox\":[{\"type\":\"scattermapbox\",\"marker\":{\"colorbar\":{\"outlinewidth\":0,\"ticks\":\"\"}}}],\"scatterternary\":[{\"type\":\"scatterternary\",\"marker\":{\"colorbar\":{\"outlinewidth\":0,\"ticks\":\"\"}}}],\"scattercarpet\":[{\"type\":\"scattercarpet\",\"marker\":{\"colorbar\":{\"outlinewidth\":0,\"ticks\":\"\"}}}],\"carpet\":[{\"aaxis\":{\"endlinecolor\":\"#2a3f5f\",\"gridcolor\":\"white\",\"linecolor\":\"white\",\"minorgridcolor\":\"white\",\"startlinecolor\":\"#2a3f5f\"},\"baxis\":{\"endlinecolor\":\"#2a3f5f\",\"gridcolor\":\"white\",\"linecolor\":\"white\",\"minorgridcolor\":\"white\",\"startlinecolor\":\"#2a3f5f\"},\"type\":\"carpet\"}],\"table\":[{\"cells\":{\"fill\":{\"color\":\"#EBF0F8\"},\"line\":{\"color\":\"white\"}},\"header\":{\"fill\":{\"color\":\"#C8D4E3\"},\"line\":{\"color\":\"white\"}},\"type\":\"table\"}],\"barpolar\":[{\"marker\":{\"line\":{\"color\":\"#E5ECF6\",\"width\":0.5},\"pattern\":{\"fillmode\":\"overlay\",\"size\":10,\"solidity\":0.2}},\"type\":\"barpolar\"}],\"pie\":[{\"automargin\":true,\"type\":\"pie\"}]},\"layout\":{\"autotypenumbers\":\"strict\",\"colorway\":[\"#636efa\",\"#EF553B\",\"#00cc96\",\"#ab63fa\",\"#FFA15A\",\"#19d3f3\",\"#FF6692\",\"#B6E880\",\"#FF97FF\",\"#FECB52\"],\"font\":{\"color\":\"#2a3f5f\"},\"hovermode\":\"closest\",\"hoverlabel\":{\"align\":\"left\"},\"paper_bgcolor\":\"white\",\"plot_bgcolor\":\"#E5ECF6\",\"polar\":{\"bgcolor\":\"#E5ECF6\",\"angularaxis\":{\"gridcolor\":\"white\",\"linecolor\":\"white\",\"ticks\":\"\"},\"radialaxis\":{\"gridcolor\":\"white\",\"linecolor\":\"white\",\"ticks\":\"\"}},\"ternary\":{\"bgcolor\":\"#E5ECF6\",\"aaxis\":{\"gridcolor\":\"white\",\"linecolor\":\"white\",\"ticks\":\"\"},\"baxis\":{\"gridcolor\":\"white\",\"linecolor\":\"white\",\"ticks\":\"\"},\"caxis\":{\"gridcolor\":\"white\",\"linecolor\":\"white\",\"ticks\":\"\"}},\"coloraxis\":{\"colorbar\":{\"outlinewidth\":0,\"ticks\":\"\"}},\"colorscale\":{\"sequential\":[[0.0,\"#0d0887\"],[0.1111111111111111,\"#46039f\"],[0.2222222222222222,\"#7201a8\"],[0.3333333333333333,\"#9c179e\"],[0.4444444444444444,\"#bd3786\"],[0.5555555555555556,\"#d8576b\"],[0.6666666666666666,\"#ed7953\"],[0.7777777777777778,\"#fb9f3a\"],[0.8888888888888888,\"#fdca26\"],[1.0,\"#f0f921\"]],\"sequentialminus\":[[0.0,\"#0d0887\"],[0.1111111111111111,\"#46039f\"],[0.2222222222222222,\"#7201a8\"],[0.3333333333333333,\"#9c179e\"],[0.4444444444444444,\"#bd3786\"],[0.5555555555555556,\"#d8576b\"],[0.6666666666666666,\"#ed7953\"],[0.7777777777777778,\"#fb9f3a\"],[0.8888888888888888,\"#fdca26\"],[1.0,\"#f0f921\"]],\"diverging\":[[0,\"#8e0152\"],[0.1,\"#c51b7d\"],[0.2,\"#de77ae\"],[0.3,\"#f1b6da\"],[0.4,\"#fde0ef\"],[0.5,\"#f7f7f7\"],[0.6,\"#e6f5d0\"],[0.7,\"#b8e186\"],[0.8,\"#7fbc41\"],[0.9,\"#4d9221\"],[1,\"#276419\"]]},\"xaxis\":{\"gridcolor\":\"white\",\"linecolor\":\"white\",\"ticks\":\"\",\"title\":{\"standoff\":15},\"zerolinecolor\":\"white\",\"automargin\":true,\"zerolinewidth\":2},\"yaxis\":{\"gridcolor\":\"white\",\"linecolor\":\"white\",\"ticks\":\"\",\"title\":{\"standoff\":15},\"zerolinecolor\":\"white\",\"automargin\":true,\"zerolinewidth\":2},\"scene\":{\"xaxis\":{\"backgroundcolor\":\"#E5ECF6\",\"gridcolor\":\"white\",\"linecolor\":\"white\",\"showbackground\":true,\"ticks\":\"\",\"zerolinecolor\":\"white\",\"gridwidth\":2},\"yaxis\":{\"backgroundcolor\":\"#E5ECF6\",\"gridcolor\":\"white\",\"linecolor\":\"white\",\"showbackground\":true,\"ticks\":\"\",\"zerolinecolor\":\"white\",\"gridwidth\":2},\"zaxis\":{\"backgroundcolor\":\"#E5ECF6\",\"gridcolor\":\"white\",\"linecolor\":\"white\",\"showbackground\":true,\"ticks\":\"\",\"zerolinecolor\":\"white\",\"gridwidth\":2}},\"shapedefaults\":{\"line\":{\"color\":\"#2a3f5f\"}},\"annotationdefaults\":{\"arrowcolor\":\"#2a3f5f\",\"arrowhead\":0,\"arrowwidth\":1},\"geo\":{\"bgcolor\":\"white\",\"landcolor\":\"#E5ECF6\",\"subunitcolor\":\"white\",\"showland\":true,\"showlakes\":true,\"lakecolor\":\"white\"},\"title\":{\"x\":0.05},\"mapbox\":{\"style\":\"light\"}}},\"xaxis\":{\"anchor\":\"y\",\"domain\":[0.0,1.0],\"title\":{\"text\":\"Number of Young Players\"}},\"yaxis\":{\"anchor\":\"x\",\"domain\":[0.0,1.0],\"title\":{\"text\":\"Club\"},\"autorange\":\"reversed\"},\"coloraxis\":{\"colorbar\":{\"title\":{\"text\":\"Number of Young Players\"}},\"colorscale\":[[0.0,\"#440154\"],[0.1111111111111111,\"#482878\"],[0.2222222222222222,\"#3e4989\"],[0.3333333333333333,\"#31688e\"],[0.4444444444444444,\"#26828e\"],[0.5555555555555556,\"#1f9e89\"],[0.6666666666666666,\"#35b779\"],[0.7777777777777778,\"#6ece58\"],[0.8888888888888888,\"#b5de2b\"],[1.0,\"#fde725\"]]},\"legend\":{\"tracegroupgap\":0},\"title\":{\"text\":\"Top 5 Clubs with Most Young Players (\\u003c 21 Years)\",\"x\":0.5},\"barmode\":\"relative\"},                        {\"responsive\": true}                    ).then(function(){\n",
       "                            \n",
       "var gd = document.getElementById('4deba71b-5f32-484f-bb9a-5cb6d6463f8b');\n",
       "var x = new MutationObserver(function (mutations, observer) {{\n",
       "        var display = window.getComputedStyle(gd).display;\n",
       "        if (!display || display === 'none') {{\n",
       "            console.log([gd, 'removed!']);\n",
       "            Plotly.purge(gd);\n",
       "            observer.disconnect();\n",
       "        }}\n",
       "}});\n",
       "\n",
       "// Listen for the removal of the full notebook cells\n",
       "var notebookContainer = gd.closest('#notebook-container');\n",
       "if (notebookContainer) {{\n",
       "    x.observe(notebookContainer, {childList: true});\n",
       "}}\n",
       "\n",
       "// Listen for the clearing of the current output cell\n",
       "var outputEl = gd.closest('.output');\n",
       "if (outputEl) {{\n",
       "    x.observe(outputEl, {childList: true});\n",
       "}}\n",
       "\n",
       "                        })                };                            </script>        </div>\n",
       "</body>\n",
       "</html>"
      ]
     },
     "metadata": {},
     "output_type": "display_data"
    }
   ],
   "source": [
    "# Calculate and display the 5 clubs with the most young players.\n",
    "young_players_per_club = young_players[['Squad', 'Comp']].value_counts().head(10)\n",
    "\n",
    "print(young_players_per_club)\n",
    "\n",
    "young_players_per_club = young_players['Squad'].value_counts().head(10).reset_index()\n",
    "young_players_per_club.columns = ['Squad', 'Number of Young Players']\n",
    "\n",
    "# Create a bar chart showing clubs with most young players\n",
    "fig = px.bar(\n",
    "    young_players_per_club,\n",
    "    x='Number of Young Players',\n",
    "    y='Squad',\n",
    "    orientation='h',\n",
    "    color='Number of Young Players',\n",
    "    color_continuous_scale='viridis',\n",
    "    title='Top 5 Clubs with Most Young Players (< 21 Years)'\n",
    ")\n",
    "\n",
    "fig.update_layout(\n",
    "    xaxis_title=\"Number of Young Players\",\n",
    "    yaxis_title=\"Club\",\n",
    "    yaxis=dict(autorange='reversed'),\n",
    "    title_x=0.5\n",
    ")\n",
    "\n",
    "fig.show()"
   ]
  },
  {
   "cell_type": "code",
   "execution_count": 10,
   "id": "54ae83da",
   "metadata": {
    "_cell_guid": "5bd2f6e5-6328-47d4-84e5-ed0ce7b74f07",
    "_uuid": "63986a41-3fbf-4158-8949-9d0a8561ed54",
    "collapsed": false,
    "execution": {
     "iopub.execute_input": "2025-07-05T04:56:02.685498Z",
     "iopub.status.busy": "2025-07-05T04:56:02.685144Z",
     "iopub.status.idle": "2025-07-05T04:56:02.753442Z",
     "shell.execute_reply": "2025-07-05T04:56:02.752349Z"
    },
    "jupyter": {
     "outputs_hidden": false
    },
    "papermill": {
     "duration": 0.085544,
     "end_time": "2025-07-05T04:56:02.755153",
     "exception": false,
     "start_time": "2025-07-05T04:56:02.669609",
     "status": "completed"
    },
    "tags": []
   },
   "outputs": [
    {
     "data": {
      "text/html": [
       "<html>\n",
       "<head><meta charset=\"utf-8\" /></head>\n",
       "<body>\n",
       "    <div>            <script src=\"https://cdnjs.cloudflare.com/ajax/libs/mathjax/2.7.5/MathJax.js?config=TeX-AMS-MML_SVG\"></script><script type=\"text/javascript\">if (window.MathJax && window.MathJax.Hub && window.MathJax.Hub.Config) {window.MathJax.Hub.Config({SVG: {font: \"STIX-Web\"}});}</script>                <script type=\"text/javascript\">window.PlotlyConfig = {MathJaxConfig: 'local'};</script>\n",
       "        <script charset=\"utf-8\" src=\"https://cdn.plot.ly/plotly-2.35.2.min.js\"></script>                <div id=\"4bbca701-e579-443c-b089-f437a8ceb832\" class=\"plotly-graph-div\" style=\"height:525px; width:100%;\"></div>            <script type=\"text/javascript\">                                    window.PLOTLYENV=window.PLOTLYENV || {};                                    if (document.getElementById(\"4bbca701-e579-443c-b089-f437a8ceb832\")) {                    Plotly.newPlot(                        \"4bbca701-e579-443c-b089-f437a8ceb832\",                        [{\"alignmentgroup\":\"True\",\"hovertemplate\":\"Young Proportion (%)=%{marker.color}\\u003cbr\\u003eSquad=%{y}\\u003cextra\\u003e\\u003c\\u002fextra\\u003e\",\"legendgroup\":\"\",\"marker\":{\"color\":[62.06896551724138,52.94117647058823,46.42857142857143,42.30769230769231,40.0,40.0,37.93103448275862,36.666666666666664,35.714285714285715,35.714285714285715],\"coloraxis\":\"coloraxis\",\"pattern\":{\"shape\":\"\"}},\"name\":\"\",\"offsetgroup\":\"\",\"orientation\":\"h\",\"showlegend\":false,\"textposition\":\"auto\",\"x\":[62.06896551724138,52.94117647058823,46.42857142857143,42.30769230769231,40.0,40.0,37.93103448275862,36.666666666666664,35.714285714285715,35.714285714285715],\"xaxis\":\"x\",\"y\":[\"Strasbourg\",\"Reims\",\"Barcelona\",\"Eint Frankfurt\",\"Montpellier\",\"Real Madrid\",\"RB Leipzig\",\"Girona\",\"Paris S-G\",\"Monaco\"],\"yaxis\":\"y\",\"type\":\"bar\"}],                        {\"template\":{\"data\":{\"histogram2dcontour\":[{\"type\":\"histogram2dcontour\",\"colorbar\":{\"outlinewidth\":0,\"ticks\":\"\"},\"colorscale\":[[0.0,\"#0d0887\"],[0.1111111111111111,\"#46039f\"],[0.2222222222222222,\"#7201a8\"],[0.3333333333333333,\"#9c179e\"],[0.4444444444444444,\"#bd3786\"],[0.5555555555555556,\"#d8576b\"],[0.6666666666666666,\"#ed7953\"],[0.7777777777777778,\"#fb9f3a\"],[0.8888888888888888,\"#fdca26\"],[1.0,\"#f0f921\"]]}],\"choropleth\":[{\"type\":\"choropleth\",\"colorbar\":{\"outlinewidth\":0,\"ticks\":\"\"}}],\"histogram2d\":[{\"type\":\"histogram2d\",\"colorbar\":{\"outlinewidth\":0,\"ticks\":\"\"},\"colorscale\":[[0.0,\"#0d0887\"],[0.1111111111111111,\"#46039f\"],[0.2222222222222222,\"#7201a8\"],[0.3333333333333333,\"#9c179e\"],[0.4444444444444444,\"#bd3786\"],[0.5555555555555556,\"#d8576b\"],[0.6666666666666666,\"#ed7953\"],[0.7777777777777778,\"#fb9f3a\"],[0.8888888888888888,\"#fdca26\"],[1.0,\"#f0f921\"]]}],\"heatmap\":[{\"type\":\"heatmap\",\"colorbar\":{\"outlinewidth\":0,\"ticks\":\"\"},\"colorscale\":[[0.0,\"#0d0887\"],[0.1111111111111111,\"#46039f\"],[0.2222222222222222,\"#7201a8\"],[0.3333333333333333,\"#9c179e\"],[0.4444444444444444,\"#bd3786\"],[0.5555555555555556,\"#d8576b\"],[0.6666666666666666,\"#ed7953\"],[0.7777777777777778,\"#fb9f3a\"],[0.8888888888888888,\"#fdca26\"],[1.0,\"#f0f921\"]]}],\"heatmapgl\":[{\"type\":\"heatmapgl\",\"colorbar\":{\"outlinewidth\":0,\"ticks\":\"\"},\"colorscale\":[[0.0,\"#0d0887\"],[0.1111111111111111,\"#46039f\"],[0.2222222222222222,\"#7201a8\"],[0.3333333333333333,\"#9c179e\"],[0.4444444444444444,\"#bd3786\"],[0.5555555555555556,\"#d8576b\"],[0.6666666666666666,\"#ed7953\"],[0.7777777777777778,\"#fb9f3a\"],[0.8888888888888888,\"#fdca26\"],[1.0,\"#f0f921\"]]}],\"contourcarpet\":[{\"type\":\"contourcarpet\",\"colorbar\":{\"outlinewidth\":0,\"ticks\":\"\"}}],\"contour\":[{\"type\":\"contour\",\"colorbar\":{\"outlinewidth\":0,\"ticks\":\"\"},\"colorscale\":[[0.0,\"#0d0887\"],[0.1111111111111111,\"#46039f\"],[0.2222222222222222,\"#7201a8\"],[0.3333333333333333,\"#9c179e\"],[0.4444444444444444,\"#bd3786\"],[0.5555555555555556,\"#d8576b\"],[0.6666666666666666,\"#ed7953\"],[0.7777777777777778,\"#fb9f3a\"],[0.8888888888888888,\"#fdca26\"],[1.0,\"#f0f921\"]]}],\"surface\":[{\"type\":\"surface\",\"colorbar\":{\"outlinewidth\":0,\"ticks\":\"\"},\"colorscale\":[[0.0,\"#0d0887\"],[0.1111111111111111,\"#46039f\"],[0.2222222222222222,\"#7201a8\"],[0.3333333333333333,\"#9c179e\"],[0.4444444444444444,\"#bd3786\"],[0.5555555555555556,\"#d8576b\"],[0.6666666666666666,\"#ed7953\"],[0.7777777777777778,\"#fb9f3a\"],[0.8888888888888888,\"#fdca26\"],[1.0,\"#f0f921\"]]}],\"mesh3d\":[{\"type\":\"mesh3d\",\"colorbar\":{\"outlinewidth\":0,\"ticks\":\"\"}}],\"scatter\":[{\"fillpattern\":{\"fillmode\":\"overlay\",\"size\":10,\"solidity\":0.2},\"type\":\"scatter\"}],\"parcoords\":[{\"type\":\"parcoords\",\"line\":{\"colorbar\":{\"outlinewidth\":0,\"ticks\":\"\"}}}],\"scatterpolargl\":[{\"type\":\"scatterpolargl\",\"marker\":{\"colorbar\":{\"outlinewidth\":0,\"ticks\":\"\"}}}],\"bar\":[{\"error_x\":{\"color\":\"#2a3f5f\"},\"error_y\":{\"color\":\"#2a3f5f\"},\"marker\":{\"line\":{\"color\":\"#E5ECF6\",\"width\":0.5},\"pattern\":{\"fillmode\":\"overlay\",\"size\":10,\"solidity\":0.2}},\"type\":\"bar\"}],\"scattergeo\":[{\"type\":\"scattergeo\",\"marker\":{\"colorbar\":{\"outlinewidth\":0,\"ticks\":\"\"}}}],\"scatterpolar\":[{\"type\":\"scatterpolar\",\"marker\":{\"colorbar\":{\"outlinewidth\":0,\"ticks\":\"\"}}}],\"histogram\":[{\"marker\":{\"pattern\":{\"fillmode\":\"overlay\",\"size\":10,\"solidity\":0.2}},\"type\":\"histogram\"}],\"scattergl\":[{\"type\":\"scattergl\",\"marker\":{\"colorbar\":{\"outlinewidth\":0,\"ticks\":\"\"}}}],\"scatter3d\":[{\"type\":\"scatter3d\",\"line\":{\"colorbar\":{\"outlinewidth\":0,\"ticks\":\"\"}},\"marker\":{\"colorbar\":{\"outlinewidth\":0,\"ticks\":\"\"}}}],\"scattermapbox\":[{\"type\":\"scattermapbox\",\"marker\":{\"colorbar\":{\"outlinewidth\":0,\"ticks\":\"\"}}}],\"scatterternary\":[{\"type\":\"scatterternary\",\"marker\":{\"colorbar\":{\"outlinewidth\":0,\"ticks\":\"\"}}}],\"scattercarpet\":[{\"type\":\"scattercarpet\",\"marker\":{\"colorbar\":{\"outlinewidth\":0,\"ticks\":\"\"}}}],\"carpet\":[{\"aaxis\":{\"endlinecolor\":\"#2a3f5f\",\"gridcolor\":\"white\",\"linecolor\":\"white\",\"minorgridcolor\":\"white\",\"startlinecolor\":\"#2a3f5f\"},\"baxis\":{\"endlinecolor\":\"#2a3f5f\",\"gridcolor\":\"white\",\"linecolor\":\"white\",\"minorgridcolor\":\"white\",\"startlinecolor\":\"#2a3f5f\"},\"type\":\"carpet\"}],\"table\":[{\"cells\":{\"fill\":{\"color\":\"#EBF0F8\"},\"line\":{\"color\":\"white\"}},\"header\":{\"fill\":{\"color\":\"#C8D4E3\"},\"line\":{\"color\":\"white\"}},\"type\":\"table\"}],\"barpolar\":[{\"marker\":{\"line\":{\"color\":\"#E5ECF6\",\"width\":0.5},\"pattern\":{\"fillmode\":\"overlay\",\"size\":10,\"solidity\":0.2}},\"type\":\"barpolar\"}],\"pie\":[{\"automargin\":true,\"type\":\"pie\"}]},\"layout\":{\"autotypenumbers\":\"strict\",\"colorway\":[\"#636efa\",\"#EF553B\",\"#00cc96\",\"#ab63fa\",\"#FFA15A\",\"#19d3f3\",\"#FF6692\",\"#B6E880\",\"#FF97FF\",\"#FECB52\"],\"font\":{\"color\":\"#2a3f5f\"},\"hovermode\":\"closest\",\"hoverlabel\":{\"align\":\"left\"},\"paper_bgcolor\":\"white\",\"plot_bgcolor\":\"#E5ECF6\",\"polar\":{\"bgcolor\":\"#E5ECF6\",\"angularaxis\":{\"gridcolor\":\"white\",\"linecolor\":\"white\",\"ticks\":\"\"},\"radialaxis\":{\"gridcolor\":\"white\",\"linecolor\":\"white\",\"ticks\":\"\"}},\"ternary\":{\"bgcolor\":\"#E5ECF6\",\"aaxis\":{\"gridcolor\":\"white\",\"linecolor\":\"white\",\"ticks\":\"\"},\"baxis\":{\"gridcolor\":\"white\",\"linecolor\":\"white\",\"ticks\":\"\"},\"caxis\":{\"gridcolor\":\"white\",\"linecolor\":\"white\",\"ticks\":\"\"}},\"coloraxis\":{\"colorbar\":{\"outlinewidth\":0,\"ticks\":\"\"}},\"colorscale\":{\"sequential\":[[0.0,\"#0d0887\"],[0.1111111111111111,\"#46039f\"],[0.2222222222222222,\"#7201a8\"],[0.3333333333333333,\"#9c179e\"],[0.4444444444444444,\"#bd3786\"],[0.5555555555555556,\"#d8576b\"],[0.6666666666666666,\"#ed7953\"],[0.7777777777777778,\"#fb9f3a\"],[0.8888888888888888,\"#fdca26\"],[1.0,\"#f0f921\"]],\"sequentialminus\":[[0.0,\"#0d0887\"],[0.1111111111111111,\"#46039f\"],[0.2222222222222222,\"#7201a8\"],[0.3333333333333333,\"#9c179e\"],[0.4444444444444444,\"#bd3786\"],[0.5555555555555556,\"#d8576b\"],[0.6666666666666666,\"#ed7953\"],[0.7777777777777778,\"#fb9f3a\"],[0.8888888888888888,\"#fdca26\"],[1.0,\"#f0f921\"]],\"diverging\":[[0,\"#8e0152\"],[0.1,\"#c51b7d\"],[0.2,\"#de77ae\"],[0.3,\"#f1b6da\"],[0.4,\"#fde0ef\"],[0.5,\"#f7f7f7\"],[0.6,\"#e6f5d0\"],[0.7,\"#b8e186\"],[0.8,\"#7fbc41\"],[0.9,\"#4d9221\"],[1,\"#276419\"]]},\"xaxis\":{\"gridcolor\":\"white\",\"linecolor\":\"white\",\"ticks\":\"\",\"title\":{\"standoff\":15},\"zerolinecolor\":\"white\",\"automargin\":true,\"zerolinewidth\":2},\"yaxis\":{\"gridcolor\":\"white\",\"linecolor\":\"white\",\"ticks\":\"\",\"title\":{\"standoff\":15},\"zerolinecolor\":\"white\",\"automargin\":true,\"zerolinewidth\":2},\"scene\":{\"xaxis\":{\"backgroundcolor\":\"#E5ECF6\",\"gridcolor\":\"white\",\"linecolor\":\"white\",\"showbackground\":true,\"ticks\":\"\",\"zerolinecolor\":\"white\",\"gridwidth\":2},\"yaxis\":{\"backgroundcolor\":\"#E5ECF6\",\"gridcolor\":\"white\",\"linecolor\":\"white\",\"showbackground\":true,\"ticks\":\"\",\"zerolinecolor\":\"white\",\"gridwidth\":2},\"zaxis\":{\"backgroundcolor\":\"#E5ECF6\",\"gridcolor\":\"white\",\"linecolor\":\"white\",\"showbackground\":true,\"ticks\":\"\",\"zerolinecolor\":\"white\",\"gridwidth\":2}},\"shapedefaults\":{\"line\":{\"color\":\"#2a3f5f\"}},\"annotationdefaults\":{\"arrowcolor\":\"#2a3f5f\",\"arrowhead\":0,\"arrowwidth\":1},\"geo\":{\"bgcolor\":\"white\",\"landcolor\":\"#E5ECF6\",\"subunitcolor\":\"white\",\"showland\":true,\"showlakes\":true,\"lakecolor\":\"white\"},\"title\":{\"x\":0.05},\"mapbox\":{\"style\":\"light\"}}},\"xaxis\":{\"anchor\":\"y\",\"domain\":[0.0,1.0],\"title\":{\"text\":\"Young Player Proportion (%)\"}},\"yaxis\":{\"anchor\":\"x\",\"domain\":[0.0,1.0],\"title\":{\"text\":\"Club\"},\"autorange\":\"reversed\"},\"coloraxis\":{\"colorbar\":{\"title\":{\"text\":\"Young Proportion (%)\"}},\"colorscale\":[[0.0,\"rgb(252, 222, 156)\"],[0.16666666666666666,\"rgb(250, 164, 118)\"],[0.3333333333333333,\"rgb(240, 116, 110)\"],[0.5,\"rgb(227, 79, 111)\"],[0.6666666666666666,\"rgb(220, 57, 119)\"],[0.8333333333333334,\"rgb(185, 37, 122)\"],[1.0,\"rgb(124, 29, 111)\"]]},\"legend\":{\"tracegroupgap\":0},\"title\":{\"text\":\"Top 10 Clubs with Highest Proportion of Young Players\",\"x\":0.5},\"barmode\":\"relative\"},                        {\"responsive\": true}                    ).then(function(){\n",
       "                            \n",
       "var gd = document.getElementById('4bbca701-e579-443c-b089-f437a8ceb832');\n",
       "var x = new MutationObserver(function (mutations, observer) {{\n",
       "        var display = window.getComputedStyle(gd).display;\n",
       "        if (!display || display === 'none') {{\n",
       "            console.log([gd, 'removed!']);\n",
       "            Plotly.purge(gd);\n",
       "            observer.disconnect();\n",
       "        }}\n",
       "}});\n",
       "\n",
       "// Listen for the removal of the full notebook cells\n",
       "var notebookContainer = gd.closest('#notebook-container');\n",
       "if (notebookContainer) {{\n",
       "    x.observe(notebookContainer, {childList: true});\n",
       "}}\n",
       "\n",
       "// Listen for the clearing of the current output cell\n",
       "var outputEl = gd.closest('.output');\n",
       "if (outputEl) {{\n",
       "    x.observe(outputEl, {childList: true});\n",
       "}}\n",
       "\n",
       "                        })                };                            </script>        </div>\n",
       "</body>\n",
       "</html>"
      ]
     },
     "metadata": {},
     "output_type": "display_data"
    }
   ],
   "source": [
    "# Calculating the proportion of young players in each club\n",
    "young_players = df_cleaned[df_cleaned['Age'] <= age_threshold]\n",
    "\n",
    "total_per_club = df_cleaned['Squad'].value_counts().reset_index()\n",
    "total_per_club.columns = ['Squad', 'Total Players']\n",
    "\n",
    "young_per_club = young_players['Squad'].value_counts().reset_index()\n",
    "young_per_club.columns = ['Squad', 'Young Players']\n",
    "\n",
    "proportion_df = pd.merge(total_per_club, young_per_club, on='Squad', how='left')\n",
    "proportion_df['Young Players'] = proportion_df['Young Players'].fillna(0)\n",
    "\n",
    "proportion_df['Young Proportion (%)'] = 100 * proportion_df['Young Players'] / proportion_df['Total Players']\n",
    "\n",
    "top_proportion = proportion_df.sort_values('Young Proportion (%)', ascending=False).head(10)\n",
    "\n",
    "# Creating a bar chart showing top 10 clubs with highest proportion of young players\n",
    "fig = px.bar(\n",
    "    top_proportion,\n",
    "    x='Young Proportion (%)',\n",
    "    y='Squad',\n",
    "    orientation='h',\n",
    "    color='Young Proportion (%)',\n",
    "    color_continuous_scale='sunsetdark',\n",
    "    title='Top 10 Clubs with Highest Proportion of Young Players'\n",
    ")\n",
    "\n",
    "fig.update_layout(\n",
    "    xaxis_title=\"Young Player Proportion (%)\",\n",
    "    yaxis_title=\"Club\",\n",
    "    yaxis=dict(autorange='reversed'),\n",
    "    title_x=0.5\n",
    ")\n",
    "\n",
    "fig.show()"
   ]
  },
  {
   "cell_type": "markdown",
   "id": "d9d2f243",
   "metadata": {
    "_cell_guid": "256c1ca2-72d0-4f08-9f3f-e37ba0d3a84e",
    "_uuid": "edc60d18-f1ba-4939-b1e5-0b398a0096cc",
    "collapsed": false,
    "jupyter": {
     "outputs_hidden": false
    },
    "papermill": {
     "duration": 0.015228,
     "end_time": "2025-07-05T04:56:02.785839",
     "exception": false,
     "start_time": "2025-07-05T04:56:02.770611",
     "status": "completed"
    },
    "tags": []
   },
   "source": [
    "**Young Players in Leagues and Clubs**\n",
    "\n",
    "1. **French League (Ligue 1) Dominates in Number of Young Players:**\n",
    "    - The chart shows Ligue 1 has the most young players (~180) compared to other major leagues, indicating it's the league that develops/gives most opportunities to U21 players.\n",
    "\n",
    "2. **French Clubs Lead in Proportion and Number of Young Players:**\n",
    "    - Strasbourg and Reims (both from Ligue 1) have the most young players (17-18), reinforcing Ligue 1's position as fertile ground for youth development.\n",
    "    - These clubs also have the highest proportions (>50%), showing young players are a significant part of their squads.\n",
    "\n",
    "3. **Barcelona Shows Strong Commitment to Young Players:**\n",
    "    - While not topping in quantity, Barcelona appears in Top 5 for young players (13-14) and ranks third in proportion (~50%), consistent with their La Masia academy philosophy.\n",
    "\n",
    "4. **Varied Approaches Across Leagues and Clubs:**\n",
    "    - While Ligue 1 leads overall, other leagues like La Liga have clubs strongly invested in youth (Barcelona, Real Madrid).\n",
    "    - Premier League and Bundesliga have fewer young players overall, but some Bundesliga clubs appear in Top 10 proportions.\n",
    "\n",
    "5. **Potential for Youth Recruitment:**\n",
    "    - For clubs/scouts seeking young talent, Ligue 1 (especially Strasbourg, Reims) should be primary targets.\n",
    "    - Clubs like Barcelona and Real Madrid also merit attention for their youth focus."
   ]
  },
  {
   "cell_type": "markdown",
   "id": "bb9354a1",
   "metadata": {
    "_cell_guid": "3efc9690-897b-4e45-ad6b-55d08bc6437e",
    "_uuid": "6f64411d-1b62-403f-b2c3-da93de386137",
    "collapsed": false,
    "jupyter": {
     "outputs_hidden": false
    },
    "papermill": {
     "duration": 0.014927,
     "end_time": "2025-07-05T04:56:02.816105",
     "exception": false,
     "start_time": "2025-07-05T04:56:02.801178",
     "status": "completed"
    },
    "tags": []
   },
   "source": [
    "Here are the 10 youngest players who debuted in top 5 European leagues"
   ]
  },
  {
   "cell_type": "code",
   "execution_count": 11,
   "id": "4901d9f9",
   "metadata": {
    "_cell_guid": "6a0b0801-f975-4076-b8a4-45a3d9c4feea",
    "_uuid": "9155fc8e-4047-402f-82ae-36c4bde9551d",
    "collapsed": false,
    "execution": {
     "iopub.execute_input": "2025-07-05T04:56:02.848451Z",
     "iopub.status.busy": "2025-07-05T04:56:02.848040Z",
     "iopub.status.idle": "2025-07-05T04:56:02.862996Z",
     "shell.execute_reply": "2025-07-05T04:56:02.861577Z"
    },
    "jupyter": {
     "outputs_hidden": false
    },
    "papermill": {
     "duration": 0.033679,
     "end_time": "2025-07-05T04:56:02.864968",
     "exception": false,
     "start_time": "2025-07-05T04:56:02.831289",
     "status": "completed"
    },
    "tags": []
   },
   "outputs": [
    {
     "name": "stdout",
     "output_type": "stream",
     "text": [
      "              Player   Age          Squad                Comp    Pos   Min\n",
      "0       Harry Howell  15.0       Brighton  eng Premier League     FW     7\n",
      "1  Djylian N'Guessan  15.0  Saint-Étienne          fr Ligue 1     FW   181\n",
      "2        Mikey Moore  16.0      Tottenham  eng Premier League     FW   366\n",
      "3     Ayyoub Bouaddi  16.0          Lille          fr Ligue 1     MF  1151\n",
      "4      Mohamed Meité  16.0         Rennes          fr Ligue 1     FW   544\n",
      "5         Faik Sakar  16.0     RB Leipzig       de Bundesliga     MF     1\n",
      "6    Kyllian Antonio  16.0           Lens          fr Ligue 1  DF,MF   139\n",
      "7       David Otorbi  16.0       Valencia          es La Liga     MF    14\n",
      "8        Viggo Gebel  16.0     RB Leipzig       de Bundesliga     MF    14\n",
      "9      Ibrahim Mbaye  16.0      Paris S-G          fr Ligue 1  FW,MF   340\n"
     ]
    }
   ],
   "source": [
    "# Display the 10 youngest players in the dataset.\n",
    "youngest_player = df_cleaned.sort_values('Age', ascending=True).reset_index().head(10)\n",
    "print(youngest_player[['Player', 'Age','Squad','Comp', 'Pos', 'Min']])"
   ]
  },
  {
   "cell_type": "code",
   "execution_count": 12,
   "id": "30aed3aa",
   "metadata": {
    "_cell_guid": "57eaea8e-e7b1-4f63-bbea-d6f36b748a0d",
    "_uuid": "d75192f4-60a6-45fa-840f-148ef5d3501c",
    "collapsed": false,
    "execution": {
     "iopub.execute_input": "2025-07-05T04:56:02.900971Z",
     "iopub.status.busy": "2025-07-05T04:56:02.900582Z",
     "iopub.status.idle": "2025-07-05T04:56:02.915059Z",
     "shell.execute_reply": "2025-07-05T04:56:02.913855Z"
    },
    "jupyter": {
     "outputs_hidden": false
    },
    "papermill": {
     "duration": 0.035524,
     "end_time": "2025-07-05T04:56:02.916932",
     "exception": false,
     "start_time": "2025-07-05T04:56:02.881408",
     "status": "completed"
    },
    "tags": []
   },
   "outputs": [
    {
     "name": "stdout",
     "output_type": "stream",
     "text": [
      "                Player   Age          Squad                Comp    Pos   Min\n",
      "0           Faik Sakar  16.0     RB Leipzig       de Bundesliga     MF     1\n",
      "1          Viggo Gebel  16.0     RB Leipzig       de Bundesliga     MF    14\n",
      "2    Kacper Koscierski  17.0         Bochum       de Bundesliga     DF     7\n",
      "3         Harry Howell  15.0       Brighton  eng Premier League     FW     7\n",
      "4          Mikey Moore  16.0      Tottenham  eng Premier League     FW   366\n",
      "5      Shumaira Mheuka  16.0        Chelsea  eng Premier League     MF     1\n",
      "6         David Otorbi  16.0       Valencia          es La Liga     MF    14\n",
      "7          Héctor Fort  17.0      Barcelona          es La Liga     DF   585\n",
      "8     Arturo Rodríguez  17.0     Las Palmas          es La Liga     FW    21\n",
      "9    Djylian N'Guessan  15.0  Saint-Étienne          fr Ligue 1     FW   181\n",
      "10      Ayyoub Bouaddi  16.0          Lille          fr Ligue 1     MF  1151\n",
      "11       Mohamed Meité  16.0         Rennes          fr Ligue 1     FW   544\n",
      "12   Francesco Camarda  16.0          Milan          it Serie A  FW,MF   206\n",
      "13  Thomas Campaniello  16.0         Empoli          it Serie A     FW    25\n",
      "14        Matteo Palma  16.0        Udinese          it Serie A     DF     5\n"
     ]
    }
   ],
   "source": [
    "# Display the 3 youngest players from each league.\n",
    "youngest_players_per_liga = (\n",
    "    df_cleaned.sort_values('Age')\n",
    "    .groupby('Comp')\n",
    "    .head(3)\n",
    "    .reset_index(drop=True)\n",
    ")\n",
    "\n",
    "print(youngest_players_per_liga[['Player', 'Age', 'Squad', 'Comp', 'Pos', 'Min']].sort_values('Comp').reset_index(drop=True))"
   ]
  },
  {
   "cell_type": "markdown",
   "id": "2551cc57",
   "metadata": {
    "_cell_guid": "2c5aceee-5626-4d66-b2a2-bb549814ae8a",
    "_uuid": "8fdafb07-92f7-4736-9c62-43677d3ca5df",
    "collapsed": false,
    "jupyter": {
     "outputs_hidden": false
    },
    "papermill": {
     "duration": 0.016715,
     "end_time": "2025-07-05T04:56:02.953441",
     "exception": false,
     "start_time": "2025-07-05T04:56:02.936726",
     "status": "completed"
    },
    "tags": []
   },
   "source": [
    "## ⏱️ Playing Minutes and Starter Rate Analysis\n",
    "This section analyzes how many minutes young players get and how often they start, showing coaches' trust in young players and their potential as future key players."
   ]
  },
  {
   "cell_type": "code",
   "execution_count": 13,
   "id": "3dfa2823",
   "metadata": {
    "_cell_guid": "36f28f0f-6dc8-483a-8a26-154e45bafddf",
    "_uuid": "39ab8145-b33c-442d-b9df-61c7cab3899c",
    "collapsed": false,
    "execution": {
     "iopub.execute_input": "2025-07-05T04:56:02.988256Z",
     "iopub.status.busy": "2025-07-05T04:56:02.987914Z",
     "iopub.status.idle": "2025-07-05T04:56:03.053828Z",
     "shell.execute_reply": "2025-07-05T04:56:03.052804Z"
    },
    "jupyter": {
     "outputs_hidden": false
    },
    "papermill": {
     "duration": 0.085507,
     "end_time": "2025-07-05T04:56:03.055437",
     "exception": false,
     "start_time": "2025-07-05T04:56:02.969930",
     "status": "completed"
    },
    "tags": []
   },
   "outputs": [
    {
     "name": "stdout",
     "output_type": "stream",
     "text": [
      "Average playing minutes for young players (≤ 21.0 years): 688.67 minutes\n",
      "Comp\n",
      "eng Premier League    746.83\n",
      "de Bundesliga         702.61\n",
      "es La Liga            692.19\n",
      "fr Ligue 1            684.65\n",
      "it Serie A            623.90\n",
      "Name: Min, dtype: float64\n"
     ]
    },
    {
     "data": {
      "text/html": [
       "<html>\n",
       "<head><meta charset=\"utf-8\" /></head>\n",
       "<body>\n",
       "    <div>            <script src=\"https://cdnjs.cloudflare.com/ajax/libs/mathjax/2.7.5/MathJax.js?config=TeX-AMS-MML_SVG\"></script><script type=\"text/javascript\">if (window.MathJax && window.MathJax.Hub && window.MathJax.Hub.Config) {window.MathJax.Hub.Config({SVG: {font: \"STIX-Web\"}});}</script>                <script type=\"text/javascript\">window.PlotlyConfig = {MathJaxConfig: 'local'};</script>\n",
       "        <script charset=\"utf-8\" src=\"https://cdn.plot.ly/plotly-2.35.2.min.js\"></script>                <div id=\"e7a358ba-e245-49c0-b47a-63a19ffbdcb9\" class=\"plotly-graph-div\" style=\"height:525px; width:100%;\"></div>            <script type=\"text/javascript\">                                    window.PLOTLYENV=window.PLOTLYENV || {};                                    if (document.getElementById(\"e7a358ba-e245-49c0-b47a-63a19ffbdcb9\")) {                    Plotly.newPlot(                        \"e7a358ba-e245-49c0-b47a-63a19ffbdcb9\",                        [{\"alignmentgroup\":\"True\",\"hovertemplate\":\"Min=%{marker.color}\\u003cbr\\u003eComp=%{y}\\u003cextra\\u003e\\u003c\\u002fextra\\u003e\",\"legendgroup\":\"\",\"marker\":{\"color\":[746.83,702.61,692.19,684.65,623.9],\"coloraxis\":\"coloraxis\",\"pattern\":{\"shape\":\"\"}},\"name\":\"\",\"offsetgroup\":\"\",\"orientation\":\"h\",\"showlegend\":false,\"text\":[746.83,702.61,692.19,684.65,623.9],\"textposition\":\"auto\",\"x\":[746.83,702.61,692.19,684.65,623.9],\"xaxis\":\"x\",\"y\":[\"eng Premier League\",\"de Bundesliga\",\"es La Liga\",\"fr Ligue 1\",\"it Serie A\"],\"yaxis\":\"y\",\"type\":\"bar\"}],                        {\"template\":{\"data\":{\"histogram2dcontour\":[{\"type\":\"histogram2dcontour\",\"colorbar\":{\"outlinewidth\":0,\"ticks\":\"\"},\"colorscale\":[[0.0,\"#0d0887\"],[0.1111111111111111,\"#46039f\"],[0.2222222222222222,\"#7201a8\"],[0.3333333333333333,\"#9c179e\"],[0.4444444444444444,\"#bd3786\"],[0.5555555555555556,\"#d8576b\"],[0.6666666666666666,\"#ed7953\"],[0.7777777777777778,\"#fb9f3a\"],[0.8888888888888888,\"#fdca26\"],[1.0,\"#f0f921\"]]}],\"choropleth\":[{\"type\":\"choropleth\",\"colorbar\":{\"outlinewidth\":0,\"ticks\":\"\"}}],\"histogram2d\":[{\"type\":\"histogram2d\",\"colorbar\":{\"outlinewidth\":0,\"ticks\":\"\"},\"colorscale\":[[0.0,\"#0d0887\"],[0.1111111111111111,\"#46039f\"],[0.2222222222222222,\"#7201a8\"],[0.3333333333333333,\"#9c179e\"],[0.4444444444444444,\"#bd3786\"],[0.5555555555555556,\"#d8576b\"],[0.6666666666666666,\"#ed7953\"],[0.7777777777777778,\"#fb9f3a\"],[0.8888888888888888,\"#fdca26\"],[1.0,\"#f0f921\"]]}],\"heatmap\":[{\"type\":\"heatmap\",\"colorbar\":{\"outlinewidth\":0,\"ticks\":\"\"},\"colorscale\":[[0.0,\"#0d0887\"],[0.1111111111111111,\"#46039f\"],[0.2222222222222222,\"#7201a8\"],[0.3333333333333333,\"#9c179e\"],[0.4444444444444444,\"#bd3786\"],[0.5555555555555556,\"#d8576b\"],[0.6666666666666666,\"#ed7953\"],[0.7777777777777778,\"#fb9f3a\"],[0.8888888888888888,\"#fdca26\"],[1.0,\"#f0f921\"]]}],\"heatmapgl\":[{\"type\":\"heatmapgl\",\"colorbar\":{\"outlinewidth\":0,\"ticks\":\"\"},\"colorscale\":[[0.0,\"#0d0887\"],[0.1111111111111111,\"#46039f\"],[0.2222222222222222,\"#7201a8\"],[0.3333333333333333,\"#9c179e\"],[0.4444444444444444,\"#bd3786\"],[0.5555555555555556,\"#d8576b\"],[0.6666666666666666,\"#ed7953\"],[0.7777777777777778,\"#fb9f3a\"],[0.8888888888888888,\"#fdca26\"],[1.0,\"#f0f921\"]]}],\"contourcarpet\":[{\"type\":\"contourcarpet\",\"colorbar\":{\"outlinewidth\":0,\"ticks\":\"\"}}],\"contour\":[{\"type\":\"contour\",\"colorbar\":{\"outlinewidth\":0,\"ticks\":\"\"},\"colorscale\":[[0.0,\"#0d0887\"],[0.1111111111111111,\"#46039f\"],[0.2222222222222222,\"#7201a8\"],[0.3333333333333333,\"#9c179e\"],[0.4444444444444444,\"#bd3786\"],[0.5555555555555556,\"#d8576b\"],[0.6666666666666666,\"#ed7953\"],[0.7777777777777778,\"#fb9f3a\"],[0.8888888888888888,\"#fdca26\"],[1.0,\"#f0f921\"]]}],\"surface\":[{\"type\":\"surface\",\"colorbar\":{\"outlinewidth\":0,\"ticks\":\"\"},\"colorscale\":[[0.0,\"#0d0887\"],[0.1111111111111111,\"#46039f\"],[0.2222222222222222,\"#7201a8\"],[0.3333333333333333,\"#9c179e\"],[0.4444444444444444,\"#bd3786\"],[0.5555555555555556,\"#d8576b\"],[0.6666666666666666,\"#ed7953\"],[0.7777777777777778,\"#fb9f3a\"],[0.8888888888888888,\"#fdca26\"],[1.0,\"#f0f921\"]]}],\"mesh3d\":[{\"type\":\"mesh3d\",\"colorbar\":{\"outlinewidth\":0,\"ticks\":\"\"}}],\"scatter\":[{\"fillpattern\":{\"fillmode\":\"overlay\",\"size\":10,\"solidity\":0.2},\"type\":\"scatter\"}],\"parcoords\":[{\"type\":\"parcoords\",\"line\":{\"colorbar\":{\"outlinewidth\":0,\"ticks\":\"\"}}}],\"scatterpolargl\":[{\"type\":\"scatterpolargl\",\"marker\":{\"colorbar\":{\"outlinewidth\":0,\"ticks\":\"\"}}}],\"bar\":[{\"error_x\":{\"color\":\"#2a3f5f\"},\"error_y\":{\"color\":\"#2a3f5f\"},\"marker\":{\"line\":{\"color\":\"#E5ECF6\",\"width\":0.5},\"pattern\":{\"fillmode\":\"overlay\",\"size\":10,\"solidity\":0.2}},\"type\":\"bar\"}],\"scattergeo\":[{\"type\":\"scattergeo\",\"marker\":{\"colorbar\":{\"outlinewidth\":0,\"ticks\":\"\"}}}],\"scatterpolar\":[{\"type\":\"scatterpolar\",\"marker\":{\"colorbar\":{\"outlinewidth\":0,\"ticks\":\"\"}}}],\"histogram\":[{\"marker\":{\"pattern\":{\"fillmode\":\"overlay\",\"size\":10,\"solidity\":0.2}},\"type\":\"histogram\"}],\"scattergl\":[{\"type\":\"scattergl\",\"marker\":{\"colorbar\":{\"outlinewidth\":0,\"ticks\":\"\"}}}],\"scatter3d\":[{\"type\":\"scatter3d\",\"line\":{\"colorbar\":{\"outlinewidth\":0,\"ticks\":\"\"}},\"marker\":{\"colorbar\":{\"outlinewidth\":0,\"ticks\":\"\"}}}],\"scattermapbox\":[{\"type\":\"scattermapbox\",\"marker\":{\"colorbar\":{\"outlinewidth\":0,\"ticks\":\"\"}}}],\"scatterternary\":[{\"type\":\"scatterternary\",\"marker\":{\"colorbar\":{\"outlinewidth\":0,\"ticks\":\"\"}}}],\"scattercarpet\":[{\"type\":\"scattercarpet\",\"marker\":{\"colorbar\":{\"outlinewidth\":0,\"ticks\":\"\"}}}],\"carpet\":[{\"aaxis\":{\"endlinecolor\":\"#2a3f5f\",\"gridcolor\":\"white\",\"linecolor\":\"white\",\"minorgridcolor\":\"white\",\"startlinecolor\":\"#2a3f5f\"},\"baxis\":{\"endlinecolor\":\"#2a3f5f\",\"gridcolor\":\"white\",\"linecolor\":\"white\",\"minorgridcolor\":\"white\",\"startlinecolor\":\"#2a3f5f\"},\"type\":\"carpet\"}],\"table\":[{\"cells\":{\"fill\":{\"color\":\"#EBF0F8\"},\"line\":{\"color\":\"white\"}},\"header\":{\"fill\":{\"color\":\"#C8D4E3\"},\"line\":{\"color\":\"white\"}},\"type\":\"table\"}],\"barpolar\":[{\"marker\":{\"line\":{\"color\":\"#E5ECF6\",\"width\":0.5},\"pattern\":{\"fillmode\":\"overlay\",\"size\":10,\"solidity\":0.2}},\"type\":\"barpolar\"}],\"pie\":[{\"automargin\":true,\"type\":\"pie\"}]},\"layout\":{\"autotypenumbers\":\"strict\",\"colorway\":[\"#636efa\",\"#EF553B\",\"#00cc96\",\"#ab63fa\",\"#FFA15A\",\"#19d3f3\",\"#FF6692\",\"#B6E880\",\"#FF97FF\",\"#FECB52\"],\"font\":{\"color\":\"#2a3f5f\"},\"hovermode\":\"closest\",\"hoverlabel\":{\"align\":\"left\"},\"paper_bgcolor\":\"white\",\"plot_bgcolor\":\"#E5ECF6\",\"polar\":{\"bgcolor\":\"#E5ECF6\",\"angularaxis\":{\"gridcolor\":\"white\",\"linecolor\":\"white\",\"ticks\":\"\"},\"radialaxis\":{\"gridcolor\":\"white\",\"linecolor\":\"white\",\"ticks\":\"\"}},\"ternary\":{\"bgcolor\":\"#E5ECF6\",\"aaxis\":{\"gridcolor\":\"white\",\"linecolor\":\"white\",\"ticks\":\"\"},\"baxis\":{\"gridcolor\":\"white\",\"linecolor\":\"white\",\"ticks\":\"\"},\"caxis\":{\"gridcolor\":\"white\",\"linecolor\":\"white\",\"ticks\":\"\"}},\"coloraxis\":{\"colorbar\":{\"outlinewidth\":0,\"ticks\":\"\"}},\"colorscale\":{\"sequential\":[[0.0,\"#0d0887\"],[0.1111111111111111,\"#46039f\"],[0.2222222222222222,\"#7201a8\"],[0.3333333333333333,\"#9c179e\"],[0.4444444444444444,\"#bd3786\"],[0.5555555555555556,\"#d8576b\"],[0.6666666666666666,\"#ed7953\"],[0.7777777777777778,\"#fb9f3a\"],[0.8888888888888888,\"#fdca26\"],[1.0,\"#f0f921\"]],\"sequentialminus\":[[0.0,\"#0d0887\"],[0.1111111111111111,\"#46039f\"],[0.2222222222222222,\"#7201a8\"],[0.3333333333333333,\"#9c179e\"],[0.4444444444444444,\"#bd3786\"],[0.5555555555555556,\"#d8576b\"],[0.6666666666666666,\"#ed7953\"],[0.7777777777777778,\"#fb9f3a\"],[0.8888888888888888,\"#fdca26\"],[1.0,\"#f0f921\"]],\"diverging\":[[0,\"#8e0152\"],[0.1,\"#c51b7d\"],[0.2,\"#de77ae\"],[0.3,\"#f1b6da\"],[0.4,\"#fde0ef\"],[0.5,\"#f7f7f7\"],[0.6,\"#e6f5d0\"],[0.7,\"#b8e186\"],[0.8,\"#7fbc41\"],[0.9,\"#4d9221\"],[1,\"#276419\"]]},\"xaxis\":{\"gridcolor\":\"white\",\"linecolor\":\"white\",\"ticks\":\"\",\"title\":{\"standoff\":15},\"zerolinecolor\":\"white\",\"automargin\":true,\"zerolinewidth\":2},\"yaxis\":{\"gridcolor\":\"white\",\"linecolor\":\"white\",\"ticks\":\"\",\"title\":{\"standoff\":15},\"zerolinecolor\":\"white\",\"automargin\":true,\"zerolinewidth\":2},\"scene\":{\"xaxis\":{\"backgroundcolor\":\"#E5ECF6\",\"gridcolor\":\"white\",\"linecolor\":\"white\",\"showbackground\":true,\"ticks\":\"\",\"zerolinecolor\":\"white\",\"gridwidth\":2},\"yaxis\":{\"backgroundcolor\":\"#E5ECF6\",\"gridcolor\":\"white\",\"linecolor\":\"white\",\"showbackground\":true,\"ticks\":\"\",\"zerolinecolor\":\"white\",\"gridwidth\":2},\"zaxis\":{\"backgroundcolor\":\"#E5ECF6\",\"gridcolor\":\"white\",\"linecolor\":\"white\",\"showbackground\":true,\"ticks\":\"\",\"zerolinecolor\":\"white\",\"gridwidth\":2}},\"shapedefaults\":{\"line\":{\"color\":\"#2a3f5f\"}},\"annotationdefaults\":{\"arrowcolor\":\"#2a3f5f\",\"arrowhead\":0,\"arrowwidth\":1},\"geo\":{\"bgcolor\":\"white\",\"landcolor\":\"#E5ECF6\",\"subunitcolor\":\"white\",\"showland\":true,\"showlakes\":true,\"lakecolor\":\"white\"},\"title\":{\"x\":0.05},\"mapbox\":{\"style\":\"light\"}}},\"xaxis\":{\"anchor\":\"y\",\"domain\":[0.0,1.0],\"title\":{\"text\":\"Average Minutes\"}},\"yaxis\":{\"anchor\":\"x\",\"domain\":[0.0,1.0],\"title\":{\"text\":\"League\"},\"autorange\":\"reversed\"},\"coloraxis\":{\"colorbar\":{\"title\":{\"text\":\"Min\"}},\"colorscale\":[[0.0,\"rgb(211, 242, 163)\"],[0.16666666666666666,\"rgb(151, 225, 150)\"],[0.3333333333333333,\"rgb(108, 192, 139)\"],[0.5,\"rgb(76, 155, 130)\"],[0.6666666666666666,\"rgb(33, 122, 121)\"],[0.8333333333333334,\"rgb(16, 89, 101)\"],[1.0,\"rgb(7, 64, 80)\"]]},\"legend\":{\"tracegroupgap\":0},\"title\":{\"text\":\"Average Playing Minutes for Young Players per League\",\"x\":0.5},\"barmode\":\"relative\"},                        {\"responsive\": true}                    ).then(function(){\n",
       "                            \n",
       "var gd = document.getElementById('e7a358ba-e245-49c0-b47a-63a19ffbdcb9');\n",
       "var x = new MutationObserver(function (mutations, observer) {{\n",
       "        var display = window.getComputedStyle(gd).display;\n",
       "        if (!display || display === 'none') {{\n",
       "            console.log([gd, 'removed!']);\n",
       "            Plotly.purge(gd);\n",
       "            observer.disconnect();\n",
       "        }}\n",
       "}});\n",
       "\n",
       "// Listen for the removal of the full notebook cells\n",
       "var notebookContainer = gd.closest('#notebook-container');\n",
       "if (notebookContainer) {{\n",
       "    x.observe(notebookContainer, {childList: true});\n",
       "}}\n",
       "\n",
       "// Listen for the clearing of the current output cell\n",
       "var outputEl = gd.closest('.output');\n",
       "if (outputEl) {{\n",
       "    x.observe(outputEl, {childList: true});\n",
       "}}\n",
       "\n",
       "                        })                };                            </script>        </div>\n",
       "</body>\n",
       "</html>"
      ]
     },
     "metadata": {},
     "output_type": "display_data"
    }
   ],
   "source": [
    "# Calculate average playing minutes for young players.\n",
    "avg_minutes_young = young_players['Min'].mean()\n",
    "print(f\"Average playing minutes for young players (≤ {age_threshold:.1f} years): {avg_minutes_young:.2f} minutes\")\n",
    "\n",
    "# Calculate average minutes per league.\n",
    "avg_min_per_league = young_players.groupby('Comp')['Min'].mean().round(2).sort_values(ascending=False)\n",
    "print(avg_min_per_league)\n",
    "\n",
    "# Create bar chart for average minutes per league.\n",
    "fig = px.bar(\n",
    "    avg_min_per_league.reset_index(),\n",
    "    x='Min',\n",
    "    y='Comp',\n",
    "    orientation='h',\n",
    "    text='Min',\n",
    "    color = 'Min',\n",
    "    color_continuous_scale = 'Emrld',\n",
    "    title='Average Playing Minutes for Young Players per League'\n",
    ")\n",
    "\n",
    "fig.update_layout(\n",
    "    yaxis=dict(title='League'),\n",
    "    xaxis=dict(title='Average Minutes'),\n",
    "    yaxis_autorange='reversed',\n",
    "    title_x=0.5\n",
    ")\n",
    "\n",
    "fig.show()"
   ]
  },
  {
   "cell_type": "code",
   "execution_count": 14,
   "id": "1e9694ff",
   "metadata": {
    "_cell_guid": "cb3997ef-d23b-4f78-9daf-33576fe6b806",
    "_uuid": "51c7da61-9891-48a4-925a-f1fe2baa5ccf",
    "collapsed": false,
    "execution": {
     "iopub.execute_input": "2025-07-05T04:56:03.090262Z",
     "iopub.status.busy": "2025-07-05T04:56:03.089833Z",
     "iopub.status.idle": "2025-07-05T04:56:03.147500Z",
     "shell.execute_reply": "2025-07-05T04:56:03.146508Z"
    },
    "jupyter": {
     "outputs_hidden": false
    },
    "papermill": {
     "duration": 0.076775,
     "end_time": "2025-07-05T04:56:03.149212",
     "exception": false,
     "start_time": "2025-07-05T04:56:03.072437",
     "status": "completed"
    },
    "tags": []
   },
   "outputs": [
    {
     "data": {
      "text/html": [
       "<html>\n",
       "<head><meta charset=\"utf-8\" /></head>\n",
       "<body>\n",
       "    <div>            <script src=\"https://cdnjs.cloudflare.com/ajax/libs/mathjax/2.7.5/MathJax.js?config=TeX-AMS-MML_SVG\"></script><script type=\"text/javascript\">if (window.MathJax && window.MathJax.Hub && window.MathJax.Hub.Config) {window.MathJax.Hub.Config({SVG: {font: \"STIX-Web\"}});}</script>                <script type=\"text/javascript\">window.PlotlyConfig = {MathJaxConfig: 'local'};</script>\n",
       "        <script charset=\"utf-8\" src=\"https://cdn.plot.ly/plotly-2.35.2.min.js\"></script>                <div id=\"f4b5e9fc-e234-48f0-bd7d-bd0249786784\" class=\"plotly-graph-div\" style=\"height:525px; width:100%;\"></div>            <script type=\"text/javascript\">                                    window.PLOTLYENV=window.PLOTLYENV || {};                                    if (document.getElementById(\"f4b5e9fc-e234-48f0-bd7d-bd0249786784\")) {                    Plotly.newPlot(                        \"f4b5e9fc-e234-48f0-bd7d-bd0249786784\",                        [{\"alignmentgroup\":\"True\",\"hovertemplate\":\"Min=%{marker.color}\\u003cbr\\u003eSquad=%{y}\\u003cextra\\u003e\\u003c\\u002fextra\\u003e\",\"legendgroup\":\"\",\"marker\":{\"color\":[2015.0,1475.71,1430.06,1422.67,1379.0,1369.0,1329.6,1243.38,1167.83,1140.3],\"coloraxis\":\"coloraxis\",\"pattern\":{\"shape\":\"\"}},\"name\":\"\",\"offsetgroup\":\"\",\"orientation\":\"h\",\"showlegend\":false,\"text\":[2015.0,1475.71,1430.06,1422.67,1379.0,1369.0,1329.6,1243.38,1167.83,1140.3],\"textposition\":\"auto\",\"x\":[2015.0,1475.71,1430.06,1422.67,1379.0,1369.0,1329.6,1243.38,1167.83,1140.3],\"xaxis\":\"x\",\"y\":[\"Ipswich Town\",\"Celta Vigo\",\"Strasbourg\",\"Atlético Madrid\",\"Nott'ham Forest\",\"Newcastle Utd\",\"Brighton\",\"Barcelona\",\"Como\",\"Paris S-G\"],\"yaxis\":\"y\",\"type\":\"bar\"}],                        {\"template\":{\"data\":{\"histogram2dcontour\":[{\"type\":\"histogram2dcontour\",\"colorbar\":{\"outlinewidth\":0,\"ticks\":\"\"},\"colorscale\":[[0.0,\"#0d0887\"],[0.1111111111111111,\"#46039f\"],[0.2222222222222222,\"#7201a8\"],[0.3333333333333333,\"#9c179e\"],[0.4444444444444444,\"#bd3786\"],[0.5555555555555556,\"#d8576b\"],[0.6666666666666666,\"#ed7953\"],[0.7777777777777778,\"#fb9f3a\"],[0.8888888888888888,\"#fdca26\"],[1.0,\"#f0f921\"]]}],\"choropleth\":[{\"type\":\"choropleth\",\"colorbar\":{\"outlinewidth\":0,\"ticks\":\"\"}}],\"histogram2d\":[{\"type\":\"histogram2d\",\"colorbar\":{\"outlinewidth\":0,\"ticks\":\"\"},\"colorscale\":[[0.0,\"#0d0887\"],[0.1111111111111111,\"#46039f\"],[0.2222222222222222,\"#7201a8\"],[0.3333333333333333,\"#9c179e\"],[0.4444444444444444,\"#bd3786\"],[0.5555555555555556,\"#d8576b\"],[0.6666666666666666,\"#ed7953\"],[0.7777777777777778,\"#fb9f3a\"],[0.8888888888888888,\"#fdca26\"],[1.0,\"#f0f921\"]]}],\"heatmap\":[{\"type\":\"heatmap\",\"colorbar\":{\"outlinewidth\":0,\"ticks\":\"\"},\"colorscale\":[[0.0,\"#0d0887\"],[0.1111111111111111,\"#46039f\"],[0.2222222222222222,\"#7201a8\"],[0.3333333333333333,\"#9c179e\"],[0.4444444444444444,\"#bd3786\"],[0.5555555555555556,\"#d8576b\"],[0.6666666666666666,\"#ed7953\"],[0.7777777777777778,\"#fb9f3a\"],[0.8888888888888888,\"#fdca26\"],[1.0,\"#f0f921\"]]}],\"heatmapgl\":[{\"type\":\"heatmapgl\",\"colorbar\":{\"outlinewidth\":0,\"ticks\":\"\"},\"colorscale\":[[0.0,\"#0d0887\"],[0.1111111111111111,\"#46039f\"],[0.2222222222222222,\"#7201a8\"],[0.3333333333333333,\"#9c179e\"],[0.4444444444444444,\"#bd3786\"],[0.5555555555555556,\"#d8576b\"],[0.6666666666666666,\"#ed7953\"],[0.7777777777777778,\"#fb9f3a\"],[0.8888888888888888,\"#fdca26\"],[1.0,\"#f0f921\"]]}],\"contourcarpet\":[{\"type\":\"contourcarpet\",\"colorbar\":{\"outlinewidth\":0,\"ticks\":\"\"}}],\"contour\":[{\"type\":\"contour\",\"colorbar\":{\"outlinewidth\":0,\"ticks\":\"\"},\"colorscale\":[[0.0,\"#0d0887\"],[0.1111111111111111,\"#46039f\"],[0.2222222222222222,\"#7201a8\"],[0.3333333333333333,\"#9c179e\"],[0.4444444444444444,\"#bd3786\"],[0.5555555555555556,\"#d8576b\"],[0.6666666666666666,\"#ed7953\"],[0.7777777777777778,\"#fb9f3a\"],[0.8888888888888888,\"#fdca26\"],[1.0,\"#f0f921\"]]}],\"surface\":[{\"type\":\"surface\",\"colorbar\":{\"outlinewidth\":0,\"ticks\":\"\"},\"colorscale\":[[0.0,\"#0d0887\"],[0.1111111111111111,\"#46039f\"],[0.2222222222222222,\"#7201a8\"],[0.3333333333333333,\"#9c179e\"],[0.4444444444444444,\"#bd3786\"],[0.5555555555555556,\"#d8576b\"],[0.6666666666666666,\"#ed7953\"],[0.7777777777777778,\"#fb9f3a\"],[0.8888888888888888,\"#fdca26\"],[1.0,\"#f0f921\"]]}],\"mesh3d\":[{\"type\":\"mesh3d\",\"colorbar\":{\"outlinewidth\":0,\"ticks\":\"\"}}],\"scatter\":[{\"fillpattern\":{\"fillmode\":\"overlay\",\"size\":10,\"solidity\":0.2},\"type\":\"scatter\"}],\"parcoords\":[{\"type\":\"parcoords\",\"line\":{\"colorbar\":{\"outlinewidth\":0,\"ticks\":\"\"}}}],\"scatterpolargl\":[{\"type\":\"scatterpolargl\",\"marker\":{\"colorbar\":{\"outlinewidth\":0,\"ticks\":\"\"}}}],\"bar\":[{\"error_x\":{\"color\":\"#2a3f5f\"},\"error_y\":{\"color\":\"#2a3f5f\"},\"marker\":{\"line\":{\"color\":\"#E5ECF6\",\"width\":0.5},\"pattern\":{\"fillmode\":\"overlay\",\"size\":10,\"solidity\":0.2}},\"type\":\"bar\"}],\"scattergeo\":[{\"type\":\"scattergeo\",\"marker\":{\"colorbar\":{\"outlinewidth\":0,\"ticks\":\"\"}}}],\"scatterpolar\":[{\"type\":\"scatterpolar\",\"marker\":{\"colorbar\":{\"outlinewidth\":0,\"ticks\":\"\"}}}],\"histogram\":[{\"marker\":{\"pattern\":{\"fillmode\":\"overlay\",\"size\":10,\"solidity\":0.2}},\"type\":\"histogram\"}],\"scattergl\":[{\"type\":\"scattergl\",\"marker\":{\"colorbar\":{\"outlinewidth\":0,\"ticks\":\"\"}}}],\"scatter3d\":[{\"type\":\"scatter3d\",\"line\":{\"colorbar\":{\"outlinewidth\":0,\"ticks\":\"\"}},\"marker\":{\"colorbar\":{\"outlinewidth\":0,\"ticks\":\"\"}}}],\"scattermapbox\":[{\"type\":\"scattermapbox\",\"marker\":{\"colorbar\":{\"outlinewidth\":0,\"ticks\":\"\"}}}],\"scatterternary\":[{\"type\":\"scatterternary\",\"marker\":{\"colorbar\":{\"outlinewidth\":0,\"ticks\":\"\"}}}],\"scattercarpet\":[{\"type\":\"scattercarpet\",\"marker\":{\"colorbar\":{\"outlinewidth\":0,\"ticks\":\"\"}}}],\"carpet\":[{\"aaxis\":{\"endlinecolor\":\"#2a3f5f\",\"gridcolor\":\"white\",\"linecolor\":\"white\",\"minorgridcolor\":\"white\",\"startlinecolor\":\"#2a3f5f\"},\"baxis\":{\"endlinecolor\":\"#2a3f5f\",\"gridcolor\":\"white\",\"linecolor\":\"white\",\"minorgridcolor\":\"white\",\"startlinecolor\":\"#2a3f5f\"},\"type\":\"carpet\"}],\"table\":[{\"cells\":{\"fill\":{\"color\":\"#EBF0F8\"},\"line\":{\"color\":\"white\"}},\"header\":{\"fill\":{\"color\":\"#C8D4E3\"},\"line\":{\"color\":\"white\"}},\"type\":\"table\"}],\"barpolar\":[{\"marker\":{\"line\":{\"color\":\"#E5ECF6\",\"width\":0.5},\"pattern\":{\"fillmode\":\"overlay\",\"size\":10,\"solidity\":0.2}},\"type\":\"barpolar\"}],\"pie\":[{\"automargin\":true,\"type\":\"pie\"}]},\"layout\":{\"autotypenumbers\":\"strict\",\"colorway\":[\"#636efa\",\"#EF553B\",\"#00cc96\",\"#ab63fa\",\"#FFA15A\",\"#19d3f3\",\"#FF6692\",\"#B6E880\",\"#FF97FF\",\"#FECB52\"],\"font\":{\"color\":\"#2a3f5f\"},\"hovermode\":\"closest\",\"hoverlabel\":{\"align\":\"left\"},\"paper_bgcolor\":\"white\",\"plot_bgcolor\":\"#E5ECF6\",\"polar\":{\"bgcolor\":\"#E5ECF6\",\"angularaxis\":{\"gridcolor\":\"white\",\"linecolor\":\"white\",\"ticks\":\"\"},\"radialaxis\":{\"gridcolor\":\"white\",\"linecolor\":\"white\",\"ticks\":\"\"}},\"ternary\":{\"bgcolor\":\"#E5ECF6\",\"aaxis\":{\"gridcolor\":\"white\",\"linecolor\":\"white\",\"ticks\":\"\"},\"baxis\":{\"gridcolor\":\"white\",\"linecolor\":\"white\",\"ticks\":\"\"},\"caxis\":{\"gridcolor\":\"white\",\"linecolor\":\"white\",\"ticks\":\"\"}},\"coloraxis\":{\"colorbar\":{\"outlinewidth\":0,\"ticks\":\"\"}},\"colorscale\":{\"sequential\":[[0.0,\"#0d0887\"],[0.1111111111111111,\"#46039f\"],[0.2222222222222222,\"#7201a8\"],[0.3333333333333333,\"#9c179e\"],[0.4444444444444444,\"#bd3786\"],[0.5555555555555556,\"#d8576b\"],[0.6666666666666666,\"#ed7953\"],[0.7777777777777778,\"#fb9f3a\"],[0.8888888888888888,\"#fdca26\"],[1.0,\"#f0f921\"]],\"sequentialminus\":[[0.0,\"#0d0887\"],[0.1111111111111111,\"#46039f\"],[0.2222222222222222,\"#7201a8\"],[0.3333333333333333,\"#9c179e\"],[0.4444444444444444,\"#bd3786\"],[0.5555555555555556,\"#d8576b\"],[0.6666666666666666,\"#ed7953\"],[0.7777777777777778,\"#fb9f3a\"],[0.8888888888888888,\"#fdca26\"],[1.0,\"#f0f921\"]],\"diverging\":[[0,\"#8e0152\"],[0.1,\"#c51b7d\"],[0.2,\"#de77ae\"],[0.3,\"#f1b6da\"],[0.4,\"#fde0ef\"],[0.5,\"#f7f7f7\"],[0.6,\"#e6f5d0\"],[0.7,\"#b8e186\"],[0.8,\"#7fbc41\"],[0.9,\"#4d9221\"],[1,\"#276419\"]]},\"xaxis\":{\"gridcolor\":\"white\",\"linecolor\":\"white\",\"ticks\":\"\",\"title\":{\"standoff\":15},\"zerolinecolor\":\"white\",\"automargin\":true,\"zerolinewidth\":2},\"yaxis\":{\"gridcolor\":\"white\",\"linecolor\":\"white\",\"ticks\":\"\",\"title\":{\"standoff\":15},\"zerolinecolor\":\"white\",\"automargin\":true,\"zerolinewidth\":2},\"scene\":{\"xaxis\":{\"backgroundcolor\":\"#E5ECF6\",\"gridcolor\":\"white\",\"linecolor\":\"white\",\"showbackground\":true,\"ticks\":\"\",\"zerolinecolor\":\"white\",\"gridwidth\":2},\"yaxis\":{\"backgroundcolor\":\"#E5ECF6\",\"gridcolor\":\"white\",\"linecolor\":\"white\",\"showbackground\":true,\"ticks\":\"\",\"zerolinecolor\":\"white\",\"gridwidth\":2},\"zaxis\":{\"backgroundcolor\":\"#E5ECF6\",\"gridcolor\":\"white\",\"linecolor\":\"white\",\"showbackground\":true,\"ticks\":\"\",\"zerolinecolor\":\"white\",\"gridwidth\":2}},\"shapedefaults\":{\"line\":{\"color\":\"#2a3f5f\"}},\"annotationdefaults\":{\"arrowcolor\":\"#2a3f5f\",\"arrowhead\":0,\"arrowwidth\":1},\"geo\":{\"bgcolor\":\"white\",\"landcolor\":\"#E5ECF6\",\"subunitcolor\":\"white\",\"showland\":true,\"showlakes\":true,\"lakecolor\":\"white\"},\"title\":{\"x\":0.05},\"mapbox\":{\"style\":\"light\"}}},\"xaxis\":{\"anchor\":\"y\",\"domain\":[0.0,1.0],\"title\":{\"text\":\"Average Minutes\"}},\"yaxis\":{\"anchor\":\"x\",\"domain\":[0.0,1.0],\"title\":{\"text\":\"Club\"},\"autorange\":\"reversed\"},\"coloraxis\":{\"colorbar\":{\"title\":{\"text\":\"Min\"}},\"colorscale\":[[0.0,\"#fcffa4\"],[0.1111111111111111,\"#f7d13d\"],[0.2222222222222222,\"#fb9b06\"],[0.3333333333333333,\"#ed6925\"],[0.4444444444444444,\"#cf4446\"],[0.5555555555555556,\"#a52c60\"],[0.6666666666666666,\"#781c6d\"],[0.7777777777777778,\"#4a0c6b\"],[0.8888888888888888,\"#1b0c41\"],[1.0,\"#000004\"]]},\"legend\":{\"tracegroupgap\":0},\"title\":{\"text\":\"Top 10 Clubs with Highest Average Minutes for Young Players\",\"x\":0.5},\"barmode\":\"relative\"},                        {\"responsive\": true}                    ).then(function(){\n",
       "                            \n",
       "var gd = document.getElementById('f4b5e9fc-e234-48f0-bd7d-bd0249786784');\n",
       "var x = new MutationObserver(function (mutations, observer) {{\n",
       "        var display = window.getComputedStyle(gd).display;\n",
       "        if (!display || display === 'none') {{\n",
       "            console.log([gd, 'removed!']);\n",
       "            Plotly.purge(gd);\n",
       "            observer.disconnect();\n",
       "        }}\n",
       "}});\n",
       "\n",
       "// Listen for the removal of the full notebook cells\n",
       "var notebookContainer = gd.closest('#notebook-container');\n",
       "if (notebookContainer) {{\n",
       "    x.observe(notebookContainer, {childList: true});\n",
       "}}\n",
       "\n",
       "// Listen for the clearing of the current output cell\n",
       "var outputEl = gd.closest('.output');\n",
       "if (outputEl) {{\n",
       "    x.observe(outputEl, {childList: true});\n",
       "}}\n",
       "\n",
       "                        })                };                            </script>        </div>\n",
       "</body>\n",
       "</html>"
      ]
     },
     "metadata": {},
     "output_type": "display_data"
    }
   ],
   "source": [
    "# Calculate average minutes per club.\n",
    "avg_min_per_club = young_players.groupby('Squad')['Min'].mean().round(2).sort_values(ascending=False)\n",
    "\n",
    "# Create bar chart for top 10 clubs with highest average minutes.\n",
    "fig = px.bar(\n",
    "    avg_min_per_club.head(10).reset_index(),\n",
    "    x='Min',\n",
    "    y='Squad',\n",
    "    orientation='h',\n",
    "    color = 'Min',\n",
    "    color_continuous_scale='inferno_r',\n",
    "    text='Min',\n",
    "    title='Top 10 Clubs with Highest Average Minutes for Young Players'\n",
    ")\n",
    "\n",
    "fig.update_layout(\n",
    "    yaxis=dict(title='Club'),\n",
    "    xaxis=dict(title='Average Minutes'),\n",
    "    yaxis_autorange='reversed',\n",
    "    title_x=0.5\n",
    ")\n",
    "\n",
    "fig.show()"
   ]
  },
  {
   "cell_type": "markdown",
   "id": "98c6ee10",
   "metadata": {
    "_cell_guid": "0bd057ab-bca3-4663-84a2-1985fd6c2966",
    "_uuid": "9c7ad1ca-172e-42e1-a335-8decf7bf5ce4",
    "collapsed": false,
    "jupyter": {
     "outputs_hidden": false
    },
    "papermill": {
     "duration": 0.01672,
     "end_time": "2025-07-05T04:56:03.182440",
     "exception": false,
     "start_time": "2025-07-05T04:56:03.165720",
     "status": "completed"
    },
    "tags": []
   },
   "source": [
    "1. **Playing Minutes Don't Always Align with Quantity/Proportion:**\n",
    "    - While Ligue 1 leads in quantity/proportion, its average minutes (684.65) are below overall average (688.67) and below Premier League, Bundesliga, and La Liga.\n",
    "    - However, Strasbourg and PSG from Ligue 1 appear in Top 10 for minutes, showing some French clubs do give significant playing time.\n",
    "\n",
    "2. **Premier League Leads in Average Minutes at League Level, But Specific Clubs Stand Out:**\n",
    "    - Premier League has highest average minutes (746.83), showing clubs tend to give more playing time to young players.\n",
    "    - Ipswich Town, Nott'ham Forest, Newcastle Utd, and Brighton from Premier League all appear in Top 10.\n",
    "\n",
    "3. **La Liga and Bundesliga Provide Consistent Playing Opportunities:**\n",
    "    - La Liga (692.19) and Bundesliga (702.61) have above-average minutes, showing good opportunities for young players.\n",
    "    - Celta Vigo, Atlético Madrid, and Barcelona from La Liga appear in Top 10.\n",
    "\n",
    "4. **Serie A Provides Fewest Minutes on Average:**\n",
    "    - Serie A has lowest average minutes (623.90), suggesting young players face more challenges getting consistent playing time.\n",
    "\n",
    "5. **Elite Clubs Provide Significant Playing Time:**\n",
    "    - Presence of clubs like Barcelona, Atlético Madrid, and PSG in Top 10 shows commitment to integrating young talents even in high-ambition clubs."
   ]
  },
  {
   "cell_type": "code",
   "execution_count": 15,
   "id": "dacfd25f",
   "metadata": {
    "_cell_guid": "d8158e08-6420-42ca-80a3-91b54800c1c1",
    "_uuid": "e83a92e8-c576-4e12-a6b7-c6d623052f4d",
    "collapsed": false,
    "execution": {
     "iopub.execute_input": "2025-07-05T04:56:03.216871Z",
     "iopub.status.busy": "2025-07-05T04:56:03.216495Z",
     "iopub.status.idle": "2025-07-05T04:56:03.275957Z",
     "shell.execute_reply": "2025-07-05T04:56:03.274892Z"
    },
    "jupyter": {
     "outputs_hidden": false
    },
    "papermill": {
     "duration": 0.078913,
     "end_time": "2025-07-05T04:56:03.277665",
     "exception": false,
     "start_time": "2025-07-05T04:56:03.198752",
     "status": "completed"
    },
    "tags": []
   },
   "outputs": [
    {
     "name": "stdout",
     "output_type": "stream",
     "text": [
      "               Player   Min   Age          Squad                Comp\n",
      "0        Milos Kerkez  3336  20.0    Bournemouth  eng Premier League\n",
      "1  Cristhian Mosquera  3319  20.0       Valencia          es La Liga\n",
      "2         Zion Suzuki  3314  21.0          Parma          it Serie A\n",
      "3     Bart Verbruggen  3240  21.0       Brighton  eng Premier League\n",
      "4      Omar El Hilali  3153  20.0       Espanyol          es La Liga\n",
      "5        Levi Colwill  3149  21.0        Chelsea  eng Premier League\n",
      "6      Illia Zabarnyi  3109  21.0    Bournemouth  eng Premier League\n",
      "7       Diego Coppola  2927  20.0  Hellas Verona          it Serie A\n",
      "8    Mateus Fernandes  2909  20.0    Southampton  eng Premier League\n",
      "9               Pedri  2879  21.0      Barcelona          es La Liga\n"
     ]
    },
    {
     "data": {
      "text/html": [
       "<html>\n",
       "<head><meta charset=\"utf-8\" /></head>\n",
       "<body>\n",
       "    <div>            <script src=\"https://cdnjs.cloudflare.com/ajax/libs/mathjax/2.7.5/MathJax.js?config=TeX-AMS-MML_SVG\"></script><script type=\"text/javascript\">if (window.MathJax && window.MathJax.Hub && window.MathJax.Hub.Config) {window.MathJax.Hub.Config({SVG: {font: \"STIX-Web\"}});}</script>                <script type=\"text/javascript\">window.PlotlyConfig = {MathJaxConfig: 'local'};</script>\n",
       "        <script charset=\"utf-8\" src=\"https://cdn.plot.ly/plotly-2.35.2.min.js\"></script>                <div id=\"9b0efb77-4224-4e5f-b8e6-00bf1a9944f6\" class=\"plotly-graph-div\" style=\"height:525px; width:100%;\"></div>            <script type=\"text/javascript\">                                    window.PLOTLYENV=window.PLOTLYENV || {};                                    if (document.getElementById(\"9b0efb77-4224-4e5f-b8e6-00bf1a9944f6\")) {                    Plotly.newPlot(                        \"9b0efb77-4224-4e5f-b8e6-00bf1a9944f6\",                        [{\"alignmentgroup\":\"True\",\"hovertemplate\":\"Min=%{marker.color}\\u003cbr\\u003ePlayer=%{y}\\u003cextra\\u003e\\u003c\\u002fextra\\u003e\",\"legendgroup\":\"\",\"marker\":{\"color\":[3336,3319,3314,3240,3153,3149,3109,2927,2909,2879],\"coloraxis\":\"coloraxis\",\"pattern\":{\"shape\":\"\"}},\"name\":\"\",\"offsetgroup\":\"\",\"orientation\":\"h\",\"showlegend\":false,\"text\":[3336.0,3319.0,3314.0,3240.0,3153.0,3149.0,3109.0,2927.0,2909.0,2879.0],\"textposition\":\"auto\",\"x\":[3336,3319,3314,3240,3153,3149,3109,2927,2909,2879],\"xaxis\":\"x\",\"y\":[\"Milos Kerkez\",\"Cristhian Mosquera\",\"Zion Suzuki\",\"Bart Verbruggen\",\"Omar El Hilali\",\"Levi Colwill\",\"Illia Zabarnyi\",\"Diego Coppola\",\"Mateus Fernandes\",\"Pedri\"],\"yaxis\":\"y\",\"type\":\"bar\"}],                        {\"template\":{\"data\":{\"histogram2dcontour\":[{\"type\":\"histogram2dcontour\",\"colorbar\":{\"outlinewidth\":0,\"ticks\":\"\"},\"colorscale\":[[0.0,\"#0d0887\"],[0.1111111111111111,\"#46039f\"],[0.2222222222222222,\"#7201a8\"],[0.3333333333333333,\"#9c179e\"],[0.4444444444444444,\"#bd3786\"],[0.5555555555555556,\"#d8576b\"],[0.6666666666666666,\"#ed7953\"],[0.7777777777777778,\"#fb9f3a\"],[0.8888888888888888,\"#fdca26\"],[1.0,\"#f0f921\"]]}],\"choropleth\":[{\"type\":\"choropleth\",\"colorbar\":{\"outlinewidth\":0,\"ticks\":\"\"}}],\"histogram2d\":[{\"type\":\"histogram2d\",\"colorbar\":{\"outlinewidth\":0,\"ticks\":\"\"},\"colorscale\":[[0.0,\"#0d0887\"],[0.1111111111111111,\"#46039f\"],[0.2222222222222222,\"#7201a8\"],[0.3333333333333333,\"#9c179e\"],[0.4444444444444444,\"#bd3786\"],[0.5555555555555556,\"#d8576b\"],[0.6666666666666666,\"#ed7953\"],[0.7777777777777778,\"#fb9f3a\"],[0.8888888888888888,\"#fdca26\"],[1.0,\"#f0f921\"]]}],\"heatmap\":[{\"type\":\"heatmap\",\"colorbar\":{\"outlinewidth\":0,\"ticks\":\"\"},\"colorscale\":[[0.0,\"#0d0887\"],[0.1111111111111111,\"#46039f\"],[0.2222222222222222,\"#7201a8\"],[0.3333333333333333,\"#9c179e\"],[0.4444444444444444,\"#bd3786\"],[0.5555555555555556,\"#d8576b\"],[0.6666666666666666,\"#ed7953\"],[0.7777777777777778,\"#fb9f3a\"],[0.8888888888888888,\"#fdca26\"],[1.0,\"#f0f921\"]]}],\"heatmapgl\":[{\"type\":\"heatmapgl\",\"colorbar\":{\"outlinewidth\":0,\"ticks\":\"\"},\"colorscale\":[[0.0,\"#0d0887\"],[0.1111111111111111,\"#46039f\"],[0.2222222222222222,\"#7201a8\"],[0.3333333333333333,\"#9c179e\"],[0.4444444444444444,\"#bd3786\"],[0.5555555555555556,\"#d8576b\"],[0.6666666666666666,\"#ed7953\"],[0.7777777777777778,\"#fb9f3a\"],[0.8888888888888888,\"#fdca26\"],[1.0,\"#f0f921\"]]}],\"contourcarpet\":[{\"type\":\"contourcarpet\",\"colorbar\":{\"outlinewidth\":0,\"ticks\":\"\"}}],\"contour\":[{\"type\":\"contour\",\"colorbar\":{\"outlinewidth\":0,\"ticks\":\"\"},\"colorscale\":[[0.0,\"#0d0887\"],[0.1111111111111111,\"#46039f\"],[0.2222222222222222,\"#7201a8\"],[0.3333333333333333,\"#9c179e\"],[0.4444444444444444,\"#bd3786\"],[0.5555555555555556,\"#d8576b\"],[0.6666666666666666,\"#ed7953\"],[0.7777777777777778,\"#fb9f3a\"],[0.8888888888888888,\"#fdca26\"],[1.0,\"#f0f921\"]]}],\"surface\":[{\"type\":\"surface\",\"colorbar\":{\"outlinewidth\":0,\"ticks\":\"\"},\"colorscale\":[[0.0,\"#0d0887\"],[0.1111111111111111,\"#46039f\"],[0.2222222222222222,\"#7201a8\"],[0.3333333333333333,\"#9c179e\"],[0.4444444444444444,\"#bd3786\"],[0.5555555555555556,\"#d8576b\"],[0.6666666666666666,\"#ed7953\"],[0.7777777777777778,\"#fb9f3a\"],[0.8888888888888888,\"#fdca26\"],[1.0,\"#f0f921\"]]}],\"mesh3d\":[{\"type\":\"mesh3d\",\"colorbar\":{\"outlinewidth\":0,\"ticks\":\"\"}}],\"scatter\":[{\"fillpattern\":{\"fillmode\":\"overlay\",\"size\":10,\"solidity\":0.2},\"type\":\"scatter\"}],\"parcoords\":[{\"type\":\"parcoords\",\"line\":{\"colorbar\":{\"outlinewidth\":0,\"ticks\":\"\"}}}],\"scatterpolargl\":[{\"type\":\"scatterpolargl\",\"marker\":{\"colorbar\":{\"outlinewidth\":0,\"ticks\":\"\"}}}],\"bar\":[{\"error_x\":{\"color\":\"#2a3f5f\"},\"error_y\":{\"color\":\"#2a3f5f\"},\"marker\":{\"line\":{\"color\":\"#E5ECF6\",\"width\":0.5},\"pattern\":{\"fillmode\":\"overlay\",\"size\":10,\"solidity\":0.2}},\"type\":\"bar\"}],\"scattergeo\":[{\"type\":\"scattergeo\",\"marker\":{\"colorbar\":{\"outlinewidth\":0,\"ticks\":\"\"}}}],\"scatterpolar\":[{\"type\":\"scatterpolar\",\"marker\":{\"colorbar\":{\"outlinewidth\":0,\"ticks\":\"\"}}}],\"histogram\":[{\"marker\":{\"pattern\":{\"fillmode\":\"overlay\",\"size\":10,\"solidity\":0.2}},\"type\":\"histogram\"}],\"scattergl\":[{\"type\":\"scattergl\",\"marker\":{\"colorbar\":{\"outlinewidth\":0,\"ticks\":\"\"}}}],\"scatter3d\":[{\"type\":\"scatter3d\",\"line\":{\"colorbar\":{\"outlinewidth\":0,\"ticks\":\"\"}},\"marker\":{\"colorbar\":{\"outlinewidth\":0,\"ticks\":\"\"}}}],\"scattermapbox\":[{\"type\":\"scattermapbox\",\"marker\":{\"colorbar\":{\"outlinewidth\":0,\"ticks\":\"\"}}}],\"scatterternary\":[{\"type\":\"scatterternary\",\"marker\":{\"colorbar\":{\"outlinewidth\":0,\"ticks\":\"\"}}}],\"scattercarpet\":[{\"type\":\"scattercarpet\",\"marker\":{\"colorbar\":{\"outlinewidth\":0,\"ticks\":\"\"}}}],\"carpet\":[{\"aaxis\":{\"endlinecolor\":\"#2a3f5f\",\"gridcolor\":\"white\",\"linecolor\":\"white\",\"minorgridcolor\":\"white\",\"startlinecolor\":\"#2a3f5f\"},\"baxis\":{\"endlinecolor\":\"#2a3f5f\",\"gridcolor\":\"white\",\"linecolor\":\"white\",\"minorgridcolor\":\"white\",\"startlinecolor\":\"#2a3f5f\"},\"type\":\"carpet\"}],\"table\":[{\"cells\":{\"fill\":{\"color\":\"#EBF0F8\"},\"line\":{\"color\":\"white\"}},\"header\":{\"fill\":{\"color\":\"#C8D4E3\"},\"line\":{\"color\":\"white\"}},\"type\":\"table\"}],\"barpolar\":[{\"marker\":{\"line\":{\"color\":\"#E5ECF6\",\"width\":0.5},\"pattern\":{\"fillmode\":\"overlay\",\"size\":10,\"solidity\":0.2}},\"type\":\"barpolar\"}],\"pie\":[{\"automargin\":true,\"type\":\"pie\"}]},\"layout\":{\"autotypenumbers\":\"strict\",\"colorway\":[\"#636efa\",\"#EF553B\",\"#00cc96\",\"#ab63fa\",\"#FFA15A\",\"#19d3f3\",\"#FF6692\",\"#B6E880\",\"#FF97FF\",\"#FECB52\"],\"font\":{\"color\":\"#2a3f5f\"},\"hovermode\":\"closest\",\"hoverlabel\":{\"align\":\"left\"},\"paper_bgcolor\":\"white\",\"plot_bgcolor\":\"#E5ECF6\",\"polar\":{\"bgcolor\":\"#E5ECF6\",\"angularaxis\":{\"gridcolor\":\"white\",\"linecolor\":\"white\",\"ticks\":\"\"},\"radialaxis\":{\"gridcolor\":\"white\",\"linecolor\":\"white\",\"ticks\":\"\"}},\"ternary\":{\"bgcolor\":\"#E5ECF6\",\"aaxis\":{\"gridcolor\":\"white\",\"linecolor\":\"white\",\"ticks\":\"\"},\"baxis\":{\"gridcolor\":\"white\",\"linecolor\":\"white\",\"ticks\":\"\"},\"caxis\":{\"gridcolor\":\"white\",\"linecolor\":\"white\",\"ticks\":\"\"}},\"coloraxis\":{\"colorbar\":{\"outlinewidth\":0,\"ticks\":\"\"}},\"colorscale\":{\"sequential\":[[0.0,\"#0d0887\"],[0.1111111111111111,\"#46039f\"],[0.2222222222222222,\"#7201a8\"],[0.3333333333333333,\"#9c179e\"],[0.4444444444444444,\"#bd3786\"],[0.5555555555555556,\"#d8576b\"],[0.6666666666666666,\"#ed7953\"],[0.7777777777777778,\"#fb9f3a\"],[0.8888888888888888,\"#fdca26\"],[1.0,\"#f0f921\"]],\"sequentialminus\":[[0.0,\"#0d0887\"],[0.1111111111111111,\"#46039f\"],[0.2222222222222222,\"#7201a8\"],[0.3333333333333333,\"#9c179e\"],[0.4444444444444444,\"#bd3786\"],[0.5555555555555556,\"#d8576b\"],[0.6666666666666666,\"#ed7953\"],[0.7777777777777778,\"#fb9f3a\"],[0.8888888888888888,\"#fdca26\"],[1.0,\"#f0f921\"]],\"diverging\":[[0,\"#8e0152\"],[0.1,\"#c51b7d\"],[0.2,\"#de77ae\"],[0.3,\"#f1b6da\"],[0.4,\"#fde0ef\"],[0.5,\"#f7f7f7\"],[0.6,\"#e6f5d0\"],[0.7,\"#b8e186\"],[0.8,\"#7fbc41\"],[0.9,\"#4d9221\"],[1,\"#276419\"]]},\"xaxis\":{\"gridcolor\":\"white\",\"linecolor\":\"white\",\"ticks\":\"\",\"title\":{\"standoff\":15},\"zerolinecolor\":\"white\",\"automargin\":true,\"zerolinewidth\":2},\"yaxis\":{\"gridcolor\":\"white\",\"linecolor\":\"white\",\"ticks\":\"\",\"title\":{\"standoff\":15},\"zerolinecolor\":\"white\",\"automargin\":true,\"zerolinewidth\":2},\"scene\":{\"xaxis\":{\"backgroundcolor\":\"#E5ECF6\",\"gridcolor\":\"white\",\"linecolor\":\"white\",\"showbackground\":true,\"ticks\":\"\",\"zerolinecolor\":\"white\",\"gridwidth\":2},\"yaxis\":{\"backgroundcolor\":\"#E5ECF6\",\"gridcolor\":\"white\",\"linecolor\":\"white\",\"showbackground\":true,\"ticks\":\"\",\"zerolinecolor\":\"white\",\"gridwidth\":2},\"zaxis\":{\"backgroundcolor\":\"#E5ECF6\",\"gridcolor\":\"white\",\"linecolor\":\"white\",\"showbackground\":true,\"ticks\":\"\",\"zerolinecolor\":\"white\",\"gridwidth\":2}},\"shapedefaults\":{\"line\":{\"color\":\"#2a3f5f\"}},\"annotationdefaults\":{\"arrowcolor\":\"#2a3f5f\",\"arrowhead\":0,\"arrowwidth\":1},\"geo\":{\"bgcolor\":\"white\",\"landcolor\":\"#E5ECF6\",\"subunitcolor\":\"white\",\"showland\":true,\"showlakes\":true,\"lakecolor\":\"white\"},\"title\":{\"x\":0.05},\"mapbox\":{\"style\":\"light\"}}},\"xaxis\":{\"anchor\":\"y\",\"domain\":[0.0,1.0],\"title\":{\"text\":\"Min\"}},\"yaxis\":{\"anchor\":\"x\",\"domain\":[0.0,1.0],\"title\":{\"text\":\"Player\"},\"autorange\":\"reversed\"},\"coloraxis\":{\"colorbar\":{\"title\":{\"text\":\"Min\"}},\"colorscale\":[[0.0,\"rgb(247,252,253)\"],[0.125,\"rgb(224,236,244)\"],[0.25,\"rgb(191,211,230)\"],[0.375,\"rgb(158,188,218)\"],[0.5,\"rgb(140,150,198)\"],[0.625,\"rgb(140,107,177)\"],[0.75,\"rgb(136,65,157)\"],[0.875,\"rgb(129,15,124)\"],[1.0,\"rgb(77,0,75)\"]]},\"legend\":{\"tracegroupgap\":0},\"title\":{\"text\":\"Top 10 Young Players with Most Minutes Played\",\"x\":0.5},\"barmode\":\"relative\"},                        {\"responsive\": true}                    ).then(function(){\n",
       "                            \n",
       "var gd = document.getElementById('9b0efb77-4224-4e5f-b8e6-00bf1a9944f6');\n",
       "var x = new MutationObserver(function (mutations, observer) {{\n",
       "        var display = window.getComputedStyle(gd).display;\n",
       "        if (!display || display === 'none') {{\n",
       "            console.log([gd, 'removed!']);\n",
       "            Plotly.purge(gd);\n",
       "            observer.disconnect();\n",
       "        }}\n",
       "}});\n",
       "\n",
       "// Listen for the removal of the full notebook cells\n",
       "var notebookContainer = gd.closest('#notebook-container');\n",
       "if (notebookContainer) {{\n",
       "    x.observe(notebookContainer, {childList: true});\n",
       "}}\n",
       "\n",
       "// Listen for the clearing of the current output cell\n",
       "var outputEl = gd.closest('.output');\n",
       "if (outputEl) {{\n",
       "    x.observe(outputEl, {childList: true});\n",
       "}}\n",
       "\n",
       "                        })                };                            </script>        </div>\n",
       "</body>\n",
       "</html>"
      ]
     },
     "metadata": {},
     "output_type": "display_data"
    }
   ],
   "source": [
    "# Get top 10 young players with most minutes played.\n",
    "top_10_min_play_young_player = (\n",
    "    young_players[['Player', 'Min', 'Age', 'Squad', 'Comp']]\n",
    "    .sort_values('Min', ascending=False)\n",
    "    .head(10)\n",
    "    .reset_index(drop=True)\n",
    ")\n",
    "\n",
    "print(top_10_min_play_young_player)\n",
    "\n",
    "# Create bar chart for top 10 young players by minutes.\n",
    "fig = px.bar(\n",
    "    top_10_min_play_young_player,\n",
    "    x='Min',\n",
    "    y='Player',\n",
    "    orientation='h',\n",
    "    color='Min',\n",
    "    color_continuous_scale = 'bupu',\n",
    "    text='Min',\n",
    "    title='Top 10 Young Players with Most Minutes Played'\n",
    ")\n",
    "fig.update_layout(yaxis=dict(autorange='reversed'), title_x=0.5)\n",
    "fig.show()"
   ]
  },
  {
   "cell_type": "code",
   "execution_count": 16,
   "id": "abe234a7",
   "metadata": {
    "_cell_guid": "46399efe-86a5-4f6a-9a63-2053ec7b14d2",
    "_uuid": "897672ea-dec2-43f5-bb87-6b9e532a9f4c",
    "collapsed": false,
    "execution": {
     "iopub.execute_input": "2025-07-05T04:56:03.316924Z",
     "iopub.status.busy": "2025-07-05T04:56:03.315924Z",
     "iopub.status.idle": "2025-07-05T04:56:03.345703Z",
     "shell.execute_reply": "2025-07-05T04:56:03.344571Z"
    },
    "jupyter": {
     "outputs_hidden": false
    },
    "papermill": {
     "duration": 0.050571,
     "end_time": "2025-07-05T04:56:03.347503",
     "exception": false,
     "start_time": "2025-07-05T04:56:03.296932",
     "status": "completed"
    },
    "tags": []
   },
   "outputs": [
    {
     "data": {
      "text/html": [
       "<html>\n",
       "<head><meta charset=\"utf-8\" /></head>\n",
       "<body>\n",
       "    <div>            <script src=\"https://cdnjs.cloudflare.com/ajax/libs/mathjax/2.7.5/MathJax.js?config=TeX-AMS-MML_SVG\"></script><script type=\"text/javascript\">if (window.MathJax && window.MathJax.Hub && window.MathJax.Hub.Config) {window.MathJax.Hub.Config({SVG: {font: \"STIX-Web\"}});}</script>                <script type=\"text/javascript\">window.PlotlyConfig = {MathJaxConfig: 'local'};</script>\n",
       "        <script charset=\"utf-8\" src=\"https://cdn.plot.ly/plotly-2.35.2.min.js\"></script>                <div id=\"4e537dc6-19b0-4eb2-aabf-6184a6b8ac78\" class=\"plotly-graph-div\" style=\"height:525px; width:100%;\"></div>            <script type=\"text/javascript\">                                    window.PLOTLYENV=window.PLOTLYENV || {};                                    if (document.getElementById(\"4e537dc6-19b0-4eb2-aabf-6184a6b8ac78\")) {                    Plotly.newPlot(                        \"4e537dc6-19b0-4eb2-aabf-6184a6b8ac78\",                        [{\"marker\":{\"color\":\"#97B067\"},\"name\":\"Total Minutes\",\"x\":[\"Milos Kerkez\",\"Cristhian Mosquera\",\"Zion Suzuki\",\"Bart Verbruggen\",\"Omar El Hilali\",\"Levi Colwill\",\"Illia Zabarnyi\",\"Diego Coppola\",\"Mateus Fernandes\",\"Pedri\"],\"y\":[3336,3319,3314,3240,3153,3149,3109,2927,2909,2879],\"type\":\"bar\"},{\"marker\":{\"color\":\"#E3DE61\"},\"name\":\"(90s × 90 minutes)\",\"x\":[\"Milos Kerkez\",\"Cristhian Mosquera\",\"Zion Suzuki\",\"Bart Verbruggen\",\"Omar El Hilali\",\"Levi Colwill\",\"Illia Zabarnyi\",\"Diego Coppola\",\"Mateus Fernandes\",\"Pedri\"],\"y\":[3339.0,3321.0,3311.9999999999995,3240.0,3150.0,3150.0,3105.0,2925.0,2906.9999999999995,2880.0],\"type\":\"bar\"}],                        {\"template\":{\"data\":{\"histogram2dcontour\":[{\"type\":\"histogram2dcontour\",\"colorbar\":{\"outlinewidth\":0,\"ticks\":\"\"},\"colorscale\":[[0.0,\"#0d0887\"],[0.1111111111111111,\"#46039f\"],[0.2222222222222222,\"#7201a8\"],[0.3333333333333333,\"#9c179e\"],[0.4444444444444444,\"#bd3786\"],[0.5555555555555556,\"#d8576b\"],[0.6666666666666666,\"#ed7953\"],[0.7777777777777778,\"#fb9f3a\"],[0.8888888888888888,\"#fdca26\"],[1.0,\"#f0f921\"]]}],\"choropleth\":[{\"type\":\"choropleth\",\"colorbar\":{\"outlinewidth\":0,\"ticks\":\"\"}}],\"histogram2d\":[{\"type\":\"histogram2d\",\"colorbar\":{\"outlinewidth\":0,\"ticks\":\"\"},\"colorscale\":[[0.0,\"#0d0887\"],[0.1111111111111111,\"#46039f\"],[0.2222222222222222,\"#7201a8\"],[0.3333333333333333,\"#9c179e\"],[0.4444444444444444,\"#bd3786\"],[0.5555555555555556,\"#d8576b\"],[0.6666666666666666,\"#ed7953\"],[0.7777777777777778,\"#fb9f3a\"],[0.8888888888888888,\"#fdca26\"],[1.0,\"#f0f921\"]]}],\"heatmap\":[{\"type\":\"heatmap\",\"colorbar\":{\"outlinewidth\":0,\"ticks\":\"\"},\"colorscale\":[[0.0,\"#0d0887\"],[0.1111111111111111,\"#46039f\"],[0.2222222222222222,\"#7201a8\"],[0.3333333333333333,\"#9c179e\"],[0.4444444444444444,\"#bd3786\"],[0.5555555555555556,\"#d8576b\"],[0.6666666666666666,\"#ed7953\"],[0.7777777777777778,\"#fb9f3a\"],[0.8888888888888888,\"#fdca26\"],[1.0,\"#f0f921\"]]}],\"heatmapgl\":[{\"type\":\"heatmapgl\",\"colorbar\":{\"outlinewidth\":0,\"ticks\":\"\"},\"colorscale\":[[0.0,\"#0d0887\"],[0.1111111111111111,\"#46039f\"],[0.2222222222222222,\"#7201a8\"],[0.3333333333333333,\"#9c179e\"],[0.4444444444444444,\"#bd3786\"],[0.5555555555555556,\"#d8576b\"],[0.6666666666666666,\"#ed7953\"],[0.7777777777777778,\"#fb9f3a\"],[0.8888888888888888,\"#fdca26\"],[1.0,\"#f0f921\"]]}],\"contourcarpet\":[{\"type\":\"contourcarpet\",\"colorbar\":{\"outlinewidth\":0,\"ticks\":\"\"}}],\"contour\":[{\"type\":\"contour\",\"colorbar\":{\"outlinewidth\":0,\"ticks\":\"\"},\"colorscale\":[[0.0,\"#0d0887\"],[0.1111111111111111,\"#46039f\"],[0.2222222222222222,\"#7201a8\"],[0.3333333333333333,\"#9c179e\"],[0.4444444444444444,\"#bd3786\"],[0.5555555555555556,\"#d8576b\"],[0.6666666666666666,\"#ed7953\"],[0.7777777777777778,\"#fb9f3a\"],[0.8888888888888888,\"#fdca26\"],[1.0,\"#f0f921\"]]}],\"surface\":[{\"type\":\"surface\",\"colorbar\":{\"outlinewidth\":0,\"ticks\":\"\"},\"colorscale\":[[0.0,\"#0d0887\"],[0.1111111111111111,\"#46039f\"],[0.2222222222222222,\"#7201a8\"],[0.3333333333333333,\"#9c179e\"],[0.4444444444444444,\"#bd3786\"],[0.5555555555555556,\"#d8576b\"],[0.6666666666666666,\"#ed7953\"],[0.7777777777777778,\"#fb9f3a\"],[0.8888888888888888,\"#fdca26\"],[1.0,\"#f0f921\"]]}],\"mesh3d\":[{\"type\":\"mesh3d\",\"colorbar\":{\"outlinewidth\":0,\"ticks\":\"\"}}],\"scatter\":[{\"fillpattern\":{\"fillmode\":\"overlay\",\"size\":10,\"solidity\":0.2},\"type\":\"scatter\"}],\"parcoords\":[{\"type\":\"parcoords\",\"line\":{\"colorbar\":{\"outlinewidth\":0,\"ticks\":\"\"}}}],\"scatterpolargl\":[{\"type\":\"scatterpolargl\",\"marker\":{\"colorbar\":{\"outlinewidth\":0,\"ticks\":\"\"}}}],\"bar\":[{\"error_x\":{\"color\":\"#2a3f5f\"},\"error_y\":{\"color\":\"#2a3f5f\"},\"marker\":{\"line\":{\"color\":\"#E5ECF6\",\"width\":0.5},\"pattern\":{\"fillmode\":\"overlay\",\"size\":10,\"solidity\":0.2}},\"type\":\"bar\"}],\"scattergeo\":[{\"type\":\"scattergeo\",\"marker\":{\"colorbar\":{\"outlinewidth\":0,\"ticks\":\"\"}}}],\"scatterpolar\":[{\"type\":\"scatterpolar\",\"marker\":{\"colorbar\":{\"outlinewidth\":0,\"ticks\":\"\"}}}],\"histogram\":[{\"marker\":{\"pattern\":{\"fillmode\":\"overlay\",\"size\":10,\"solidity\":0.2}},\"type\":\"histogram\"}],\"scattergl\":[{\"type\":\"scattergl\",\"marker\":{\"colorbar\":{\"outlinewidth\":0,\"ticks\":\"\"}}}],\"scatter3d\":[{\"type\":\"scatter3d\",\"line\":{\"colorbar\":{\"outlinewidth\":0,\"ticks\":\"\"}},\"marker\":{\"colorbar\":{\"outlinewidth\":0,\"ticks\":\"\"}}}],\"scattermapbox\":[{\"type\":\"scattermapbox\",\"marker\":{\"colorbar\":{\"outlinewidth\":0,\"ticks\":\"\"}}}],\"scatterternary\":[{\"type\":\"scatterternary\",\"marker\":{\"colorbar\":{\"outlinewidth\":0,\"ticks\":\"\"}}}],\"scattercarpet\":[{\"type\":\"scattercarpet\",\"marker\":{\"colorbar\":{\"outlinewidth\":0,\"ticks\":\"\"}}}],\"carpet\":[{\"aaxis\":{\"endlinecolor\":\"#2a3f5f\",\"gridcolor\":\"white\",\"linecolor\":\"white\",\"minorgridcolor\":\"white\",\"startlinecolor\":\"#2a3f5f\"},\"baxis\":{\"endlinecolor\":\"#2a3f5f\",\"gridcolor\":\"white\",\"linecolor\":\"white\",\"minorgridcolor\":\"white\",\"startlinecolor\":\"#2a3f5f\"},\"type\":\"carpet\"}],\"table\":[{\"cells\":{\"fill\":{\"color\":\"#EBF0F8\"},\"line\":{\"color\":\"white\"}},\"header\":{\"fill\":{\"color\":\"#C8D4E3\"},\"line\":{\"color\":\"white\"}},\"type\":\"table\"}],\"barpolar\":[{\"marker\":{\"line\":{\"color\":\"#E5ECF6\",\"width\":0.5},\"pattern\":{\"fillmode\":\"overlay\",\"size\":10,\"solidity\":0.2}},\"type\":\"barpolar\"}],\"pie\":[{\"automargin\":true,\"type\":\"pie\"}]},\"layout\":{\"autotypenumbers\":\"strict\",\"colorway\":[\"#636efa\",\"#EF553B\",\"#00cc96\",\"#ab63fa\",\"#FFA15A\",\"#19d3f3\",\"#FF6692\",\"#B6E880\",\"#FF97FF\",\"#FECB52\"],\"font\":{\"color\":\"#2a3f5f\"},\"hovermode\":\"closest\",\"hoverlabel\":{\"align\":\"left\"},\"paper_bgcolor\":\"white\",\"plot_bgcolor\":\"#E5ECF6\",\"polar\":{\"bgcolor\":\"#E5ECF6\",\"angularaxis\":{\"gridcolor\":\"white\",\"linecolor\":\"white\",\"ticks\":\"\"},\"radialaxis\":{\"gridcolor\":\"white\",\"linecolor\":\"white\",\"ticks\":\"\"}},\"ternary\":{\"bgcolor\":\"#E5ECF6\",\"aaxis\":{\"gridcolor\":\"white\",\"linecolor\":\"white\",\"ticks\":\"\"},\"baxis\":{\"gridcolor\":\"white\",\"linecolor\":\"white\",\"ticks\":\"\"},\"caxis\":{\"gridcolor\":\"white\",\"linecolor\":\"white\",\"ticks\":\"\"}},\"coloraxis\":{\"colorbar\":{\"outlinewidth\":0,\"ticks\":\"\"}},\"colorscale\":{\"sequential\":[[0.0,\"#0d0887\"],[0.1111111111111111,\"#46039f\"],[0.2222222222222222,\"#7201a8\"],[0.3333333333333333,\"#9c179e\"],[0.4444444444444444,\"#bd3786\"],[0.5555555555555556,\"#d8576b\"],[0.6666666666666666,\"#ed7953\"],[0.7777777777777778,\"#fb9f3a\"],[0.8888888888888888,\"#fdca26\"],[1.0,\"#f0f921\"]],\"sequentialminus\":[[0.0,\"#0d0887\"],[0.1111111111111111,\"#46039f\"],[0.2222222222222222,\"#7201a8\"],[0.3333333333333333,\"#9c179e\"],[0.4444444444444444,\"#bd3786\"],[0.5555555555555556,\"#d8576b\"],[0.6666666666666666,\"#ed7953\"],[0.7777777777777778,\"#fb9f3a\"],[0.8888888888888888,\"#fdca26\"],[1.0,\"#f0f921\"]],\"diverging\":[[0,\"#8e0152\"],[0.1,\"#c51b7d\"],[0.2,\"#de77ae\"],[0.3,\"#f1b6da\"],[0.4,\"#fde0ef\"],[0.5,\"#f7f7f7\"],[0.6,\"#e6f5d0\"],[0.7,\"#b8e186\"],[0.8,\"#7fbc41\"],[0.9,\"#4d9221\"],[1,\"#276419\"]]},\"xaxis\":{\"gridcolor\":\"white\",\"linecolor\":\"white\",\"ticks\":\"\",\"title\":{\"standoff\":15},\"zerolinecolor\":\"white\",\"automargin\":true,\"zerolinewidth\":2},\"yaxis\":{\"gridcolor\":\"white\",\"linecolor\":\"white\",\"ticks\":\"\",\"title\":{\"standoff\":15},\"zerolinecolor\":\"white\",\"automargin\":true,\"zerolinewidth\":2},\"scene\":{\"xaxis\":{\"backgroundcolor\":\"#E5ECF6\",\"gridcolor\":\"white\",\"linecolor\":\"white\",\"showbackground\":true,\"ticks\":\"\",\"zerolinecolor\":\"white\",\"gridwidth\":2},\"yaxis\":{\"backgroundcolor\":\"#E5ECF6\",\"gridcolor\":\"white\",\"linecolor\":\"white\",\"showbackground\":true,\"ticks\":\"\",\"zerolinecolor\":\"white\",\"gridwidth\":2},\"zaxis\":{\"backgroundcolor\":\"#E5ECF6\",\"gridcolor\":\"white\",\"linecolor\":\"white\",\"showbackground\":true,\"ticks\":\"\",\"zerolinecolor\":\"white\",\"gridwidth\":2}},\"shapedefaults\":{\"line\":{\"color\":\"#2a3f5f\"}},\"annotationdefaults\":{\"arrowcolor\":\"#2a3f5f\",\"arrowhead\":0,\"arrowwidth\":1},\"geo\":{\"bgcolor\":\"white\",\"landcolor\":\"#E5ECF6\",\"subunitcolor\":\"white\",\"showland\":true,\"showlakes\":true,\"lakecolor\":\"white\"},\"title\":{\"x\":0.05},\"mapbox\":{\"style\":\"light\"}}},\"title\":{\"text\":\"Comparison of Total Minutes vs 90s (Young Players)\",\"x\":0.5},\"legend\":{\"x\":0.5,\"xanchor\":\"center\",\"y\":1.1,\"orientation\":\"h\"},\"barmode\":\"group\",\"xaxis\":{\"title\":{\"text\":\"Player\"}},\"yaxis\":{\"title\":{\"text\":\"Minutes Played\"}}},                        {\"responsive\": true}                    ).then(function(){\n",
       "                            \n",
       "var gd = document.getElementById('4e537dc6-19b0-4eb2-aabf-6184a6b8ac78');\n",
       "var x = new MutationObserver(function (mutations, observer) {{\n",
       "        var display = window.getComputedStyle(gd).display;\n",
       "        if (!display || display === 'none') {{\n",
       "            console.log([gd, 'removed!']);\n",
       "            Plotly.purge(gd);\n",
       "            observer.disconnect();\n",
       "        }}\n",
       "}});\n",
       "\n",
       "// Listen for the removal of the full notebook cells\n",
       "var notebookContainer = gd.closest('#notebook-container');\n",
       "if (notebookContainer) {{\n",
       "    x.observe(notebookContainer, {childList: true});\n",
       "}}\n",
       "\n",
       "// Listen for the clearing of the current output cell\n",
       "var outputEl = gd.closest('.output');\n",
       "if (outputEl) {{\n",
       "    x.observe(outputEl, {childList: true});\n",
       "}}\n",
       "\n",
       "                        })                };                            </script>        </div>\n",
       "</body>\n",
       "</html>"
      ]
     },
     "metadata": {},
     "output_type": "display_data"
    }
   ],
   "source": [
    "# Compare total minutes with total '90s' (number of full 90-minute matches).\n",
    "compare_minutes = (\n",
    "    young_players[['Player', 'Min', '90s', 'Squad', 'Comp']]\n",
    "    .sort_values('Min', ascending=False)\n",
    "    .head(10)\n",
    "    .reset_index(drop=True)\n",
    ")\n",
    "\n",
    "fig = go.Figure()\n",
    "\n",
    "# Bar chart for total minutes.\n",
    "fig.add_trace(go.Bar(\n",
    "    x=compare_minutes['Player'],\n",
    "    y=compare_minutes['Min'],\n",
    "    name='Total Minutes',\n",
    "    marker_color='#97B067'  # Dark green\n",
    "))\n",
    "\n",
    "# Bar chart for minutes based on '90s'.\n",
    "fig.add_trace(go.Bar(\n",
    "    x=compare_minutes['Player'],\n",
    "    y=compare_minutes['90s'] * 90,\n",
    "    name='(90s × 90 minutes)',\n",
    "    marker_color='#E3DE61'  # Light green\n",
    "))\n",
    "\n",
    "fig.update_layout(\n",
    "    barmode='group', # Grouped bars\n",
    "    title='Comparison of Total Minutes vs 90s (Young Players)',\n",
    "    xaxis_title='Player',\n",
    "    yaxis_title='Minutes Played',\n",
    "    title_x=0.5,\n",
    "    legend=dict(x=0.5, xanchor='center', y=1.1, orientation='h')\n",
    ")\n",
    "\n",
    "fig.show()"
   ]
  },
  {
   "cell_type": "code",
   "execution_count": 17,
   "id": "69e2abd5",
   "metadata": {
    "_cell_guid": "f9b61657-7c18-4544-a1e3-24a4f8d2d299",
    "_uuid": "ae334e04-ddc4-4e52-a16b-119d90800d22",
    "collapsed": false,
    "execution": {
     "iopub.execute_input": "2025-07-05T04:56:03.386965Z",
     "iopub.status.busy": "2025-07-05T04:56:03.386632Z",
     "iopub.status.idle": "2025-07-05T04:56:03.404937Z",
     "shell.execute_reply": "2025-07-05T04:56:03.403874Z"
    },
    "jupyter": {
     "outputs_hidden": false
    },
    "papermill": {
     "duration": 0.040114,
     "end_time": "2025-07-05T04:56:03.406592",
     "exception": false,
     "start_time": "2025-07-05T04:56:03.366478",
     "status": "completed"
    },
    "tags": []
   },
   "outputs": [
    {
     "data": {
      "text/html": [
       "<html>\n",
       "<head><meta charset=\"utf-8\" /></head>\n",
       "<body>\n",
       "    <div>            <script src=\"https://cdnjs.cloudflare.com/ajax/libs/mathjax/2.7.5/MathJax.js?config=TeX-AMS-MML_SVG\"></script><script type=\"text/javascript\">if (window.MathJax && window.MathJax.Hub && window.MathJax.Hub.Config) {window.MathJax.Hub.Config({SVG: {font: \"STIX-Web\"}});}</script>                <script type=\"text/javascript\">window.PlotlyConfig = {MathJaxConfig: 'local'};</script>\n",
       "        <script charset=\"utf-8\" src=\"https://cdn.plot.ly/plotly-2.35.2.min.js\"></script>                <div id=\"16593dba-dc21-4ad2-aad0-d2ed3d02ec02\" class=\"plotly-graph-div\" style=\"height:525px; width:100%;\"></div>            <script type=\"text/javascript\">                                    window.PLOTLYENV=window.PLOTLYENV || {};                                    if (document.getElementById(\"16593dba-dc21-4ad2-aad0-d2ed3d02ec02\")) {                    Plotly.newPlot(                        \"16593dba-dc21-4ad2-aad0-d2ed3d02ec02\",                        [{\"marker\":{\"color\":\"#00879E\"},\"name\":\"Total Appearances\",\"x\":[\"Milos Kerkez\",\"Elliot Anderson\",\"Ange-Yoan Bonny\",\"Liam Delap\",\"Valentino Livramento\",\"Cristhian Mosquera\",\"Pedri\",\"Gaetano Oristanio\",\"Zion Suzuki\",\"Santiago Castro\"],\"y\":[38,37,37,37,37,37,37,37,37,36],\"type\":\"bar\"},{\"marker\":{\"color\":\"#FFAB5B\"},\"name\":\"Starts\",\"x\":[\"Milos Kerkez\",\"Elliot Anderson\",\"Ange-Yoan Bonny\",\"Liam Delap\",\"Valentino Livramento\",\"Cristhian Mosquera\",\"Pedri\",\"Gaetano Oristanio\",\"Zion Suzuki\",\"Santiago Castro\"],\"y\":[38,33,30,32,32,37,35,29,37,27],\"type\":\"bar\"}],                        {\"template\":{\"data\":{\"histogram2dcontour\":[{\"type\":\"histogram2dcontour\",\"colorbar\":{\"outlinewidth\":0,\"ticks\":\"\"},\"colorscale\":[[0.0,\"#0d0887\"],[0.1111111111111111,\"#46039f\"],[0.2222222222222222,\"#7201a8\"],[0.3333333333333333,\"#9c179e\"],[0.4444444444444444,\"#bd3786\"],[0.5555555555555556,\"#d8576b\"],[0.6666666666666666,\"#ed7953\"],[0.7777777777777778,\"#fb9f3a\"],[0.8888888888888888,\"#fdca26\"],[1.0,\"#f0f921\"]]}],\"choropleth\":[{\"type\":\"choropleth\",\"colorbar\":{\"outlinewidth\":0,\"ticks\":\"\"}}],\"histogram2d\":[{\"type\":\"histogram2d\",\"colorbar\":{\"outlinewidth\":0,\"ticks\":\"\"},\"colorscale\":[[0.0,\"#0d0887\"],[0.1111111111111111,\"#46039f\"],[0.2222222222222222,\"#7201a8\"],[0.3333333333333333,\"#9c179e\"],[0.4444444444444444,\"#bd3786\"],[0.5555555555555556,\"#d8576b\"],[0.6666666666666666,\"#ed7953\"],[0.7777777777777778,\"#fb9f3a\"],[0.8888888888888888,\"#fdca26\"],[1.0,\"#f0f921\"]]}],\"heatmap\":[{\"type\":\"heatmap\",\"colorbar\":{\"outlinewidth\":0,\"ticks\":\"\"},\"colorscale\":[[0.0,\"#0d0887\"],[0.1111111111111111,\"#46039f\"],[0.2222222222222222,\"#7201a8\"],[0.3333333333333333,\"#9c179e\"],[0.4444444444444444,\"#bd3786\"],[0.5555555555555556,\"#d8576b\"],[0.6666666666666666,\"#ed7953\"],[0.7777777777777778,\"#fb9f3a\"],[0.8888888888888888,\"#fdca26\"],[1.0,\"#f0f921\"]]}],\"heatmapgl\":[{\"type\":\"heatmapgl\",\"colorbar\":{\"outlinewidth\":0,\"ticks\":\"\"},\"colorscale\":[[0.0,\"#0d0887\"],[0.1111111111111111,\"#46039f\"],[0.2222222222222222,\"#7201a8\"],[0.3333333333333333,\"#9c179e\"],[0.4444444444444444,\"#bd3786\"],[0.5555555555555556,\"#d8576b\"],[0.6666666666666666,\"#ed7953\"],[0.7777777777777778,\"#fb9f3a\"],[0.8888888888888888,\"#fdca26\"],[1.0,\"#f0f921\"]]}],\"contourcarpet\":[{\"type\":\"contourcarpet\",\"colorbar\":{\"outlinewidth\":0,\"ticks\":\"\"}}],\"contour\":[{\"type\":\"contour\",\"colorbar\":{\"outlinewidth\":0,\"ticks\":\"\"},\"colorscale\":[[0.0,\"#0d0887\"],[0.1111111111111111,\"#46039f\"],[0.2222222222222222,\"#7201a8\"],[0.3333333333333333,\"#9c179e\"],[0.4444444444444444,\"#bd3786\"],[0.5555555555555556,\"#d8576b\"],[0.6666666666666666,\"#ed7953\"],[0.7777777777777778,\"#fb9f3a\"],[0.8888888888888888,\"#fdca26\"],[1.0,\"#f0f921\"]]}],\"surface\":[{\"type\":\"surface\",\"colorbar\":{\"outlinewidth\":0,\"ticks\":\"\"},\"colorscale\":[[0.0,\"#0d0887\"],[0.1111111111111111,\"#46039f\"],[0.2222222222222222,\"#7201a8\"],[0.3333333333333333,\"#9c179e\"],[0.4444444444444444,\"#bd3786\"],[0.5555555555555556,\"#d8576b\"],[0.6666666666666666,\"#ed7953\"],[0.7777777777777778,\"#fb9f3a\"],[0.8888888888888888,\"#fdca26\"],[1.0,\"#f0f921\"]]}],\"mesh3d\":[{\"type\":\"mesh3d\",\"colorbar\":{\"outlinewidth\":0,\"ticks\":\"\"}}],\"scatter\":[{\"fillpattern\":{\"fillmode\":\"overlay\",\"size\":10,\"solidity\":0.2},\"type\":\"scatter\"}],\"parcoords\":[{\"type\":\"parcoords\",\"line\":{\"colorbar\":{\"outlinewidth\":0,\"ticks\":\"\"}}}],\"scatterpolargl\":[{\"type\":\"scatterpolargl\",\"marker\":{\"colorbar\":{\"outlinewidth\":0,\"ticks\":\"\"}}}],\"bar\":[{\"error_x\":{\"color\":\"#2a3f5f\"},\"error_y\":{\"color\":\"#2a3f5f\"},\"marker\":{\"line\":{\"color\":\"#E5ECF6\",\"width\":0.5},\"pattern\":{\"fillmode\":\"overlay\",\"size\":10,\"solidity\":0.2}},\"type\":\"bar\"}],\"scattergeo\":[{\"type\":\"scattergeo\",\"marker\":{\"colorbar\":{\"outlinewidth\":0,\"ticks\":\"\"}}}],\"scatterpolar\":[{\"type\":\"scatterpolar\",\"marker\":{\"colorbar\":{\"outlinewidth\":0,\"ticks\":\"\"}}}],\"histogram\":[{\"marker\":{\"pattern\":{\"fillmode\":\"overlay\",\"size\":10,\"solidity\":0.2}},\"type\":\"histogram\"}],\"scattergl\":[{\"type\":\"scattergl\",\"marker\":{\"colorbar\":{\"outlinewidth\":0,\"ticks\":\"\"}}}],\"scatter3d\":[{\"type\":\"scatter3d\",\"line\":{\"colorbar\":{\"outlinewidth\":0,\"ticks\":\"\"}},\"marker\":{\"colorbar\":{\"outlinewidth\":0,\"ticks\":\"\"}}}],\"scattermapbox\":[{\"type\":\"scattermapbox\",\"marker\":{\"colorbar\":{\"outlinewidth\":0,\"ticks\":\"\"}}}],\"scatterternary\":[{\"type\":\"scatterternary\",\"marker\":{\"colorbar\":{\"outlinewidth\":0,\"ticks\":\"\"}}}],\"scattercarpet\":[{\"type\":\"scattercarpet\",\"marker\":{\"colorbar\":{\"outlinewidth\":0,\"ticks\":\"\"}}}],\"carpet\":[{\"aaxis\":{\"endlinecolor\":\"#2a3f5f\",\"gridcolor\":\"white\",\"linecolor\":\"white\",\"minorgridcolor\":\"white\",\"startlinecolor\":\"#2a3f5f\"},\"baxis\":{\"endlinecolor\":\"#2a3f5f\",\"gridcolor\":\"white\",\"linecolor\":\"white\",\"minorgridcolor\":\"white\",\"startlinecolor\":\"#2a3f5f\"},\"type\":\"carpet\"}],\"table\":[{\"cells\":{\"fill\":{\"color\":\"#EBF0F8\"},\"line\":{\"color\":\"white\"}},\"header\":{\"fill\":{\"color\":\"#C8D4E3\"},\"line\":{\"color\":\"white\"}},\"type\":\"table\"}],\"barpolar\":[{\"marker\":{\"line\":{\"color\":\"#E5ECF6\",\"width\":0.5},\"pattern\":{\"fillmode\":\"overlay\",\"size\":10,\"solidity\":0.2}},\"type\":\"barpolar\"}],\"pie\":[{\"automargin\":true,\"type\":\"pie\"}]},\"layout\":{\"autotypenumbers\":\"strict\",\"colorway\":[\"#636efa\",\"#EF553B\",\"#00cc96\",\"#ab63fa\",\"#FFA15A\",\"#19d3f3\",\"#FF6692\",\"#B6E880\",\"#FF97FF\",\"#FECB52\"],\"font\":{\"color\":\"#2a3f5f\"},\"hovermode\":\"closest\",\"hoverlabel\":{\"align\":\"left\"},\"paper_bgcolor\":\"white\",\"plot_bgcolor\":\"#E5ECF6\",\"polar\":{\"bgcolor\":\"#E5ECF6\",\"angularaxis\":{\"gridcolor\":\"white\",\"linecolor\":\"white\",\"ticks\":\"\"},\"radialaxis\":{\"gridcolor\":\"white\",\"linecolor\":\"white\",\"ticks\":\"\"}},\"ternary\":{\"bgcolor\":\"#E5ECF6\",\"aaxis\":{\"gridcolor\":\"white\",\"linecolor\":\"white\",\"ticks\":\"\"},\"baxis\":{\"gridcolor\":\"white\",\"linecolor\":\"white\",\"ticks\":\"\"},\"caxis\":{\"gridcolor\":\"white\",\"linecolor\":\"white\",\"ticks\":\"\"}},\"coloraxis\":{\"colorbar\":{\"outlinewidth\":0,\"ticks\":\"\"}},\"colorscale\":{\"sequential\":[[0.0,\"#0d0887\"],[0.1111111111111111,\"#46039f\"],[0.2222222222222222,\"#7201a8\"],[0.3333333333333333,\"#9c179e\"],[0.4444444444444444,\"#bd3786\"],[0.5555555555555556,\"#d8576b\"],[0.6666666666666666,\"#ed7953\"],[0.7777777777777778,\"#fb9f3a\"],[0.8888888888888888,\"#fdca26\"],[1.0,\"#f0f921\"]],\"sequentialminus\":[[0.0,\"#0d0887\"],[0.1111111111111111,\"#46039f\"],[0.2222222222222222,\"#7201a8\"],[0.3333333333333333,\"#9c179e\"],[0.4444444444444444,\"#bd3786\"],[0.5555555555555556,\"#d8576b\"],[0.6666666666666666,\"#ed7953\"],[0.7777777777777778,\"#fb9f3a\"],[0.8888888888888888,\"#fdca26\"],[1.0,\"#f0f921\"]],\"diverging\":[[0,\"#8e0152\"],[0.1,\"#c51b7d\"],[0.2,\"#de77ae\"],[0.3,\"#f1b6da\"],[0.4,\"#fde0ef\"],[0.5,\"#f7f7f7\"],[0.6,\"#e6f5d0\"],[0.7,\"#b8e186\"],[0.8,\"#7fbc41\"],[0.9,\"#4d9221\"],[1,\"#276419\"]]},\"xaxis\":{\"gridcolor\":\"white\",\"linecolor\":\"white\",\"ticks\":\"\",\"title\":{\"standoff\":15},\"zerolinecolor\":\"white\",\"automargin\":true,\"zerolinewidth\":2},\"yaxis\":{\"gridcolor\":\"white\",\"linecolor\":\"white\",\"ticks\":\"\",\"title\":{\"standoff\":15},\"zerolinecolor\":\"white\",\"automargin\":true,\"zerolinewidth\":2},\"scene\":{\"xaxis\":{\"backgroundcolor\":\"#E5ECF6\",\"gridcolor\":\"white\",\"linecolor\":\"white\",\"showbackground\":true,\"ticks\":\"\",\"zerolinecolor\":\"white\",\"gridwidth\":2},\"yaxis\":{\"backgroundcolor\":\"#E5ECF6\",\"gridcolor\":\"white\",\"linecolor\":\"white\",\"showbackground\":true,\"ticks\":\"\",\"zerolinecolor\":\"white\",\"gridwidth\":2},\"zaxis\":{\"backgroundcolor\":\"#E5ECF6\",\"gridcolor\":\"white\",\"linecolor\":\"white\",\"showbackground\":true,\"ticks\":\"\",\"zerolinecolor\":\"white\",\"gridwidth\":2}},\"shapedefaults\":{\"line\":{\"color\":\"#2a3f5f\"}},\"annotationdefaults\":{\"arrowcolor\":\"#2a3f5f\",\"arrowhead\":0,\"arrowwidth\":1},\"geo\":{\"bgcolor\":\"white\",\"landcolor\":\"#E5ECF6\",\"subunitcolor\":\"white\",\"showland\":true,\"showlakes\":true,\"lakecolor\":\"white\"},\"title\":{\"x\":0.05},\"mapbox\":{\"style\":\"light\"}}},\"title\":{\"text\":\"Young Players with Most Appearances (MP vs Starts)\",\"x\":0.5},\"barmode\":\"group\",\"xaxis\":{\"title\":{\"text\":\"Player\"}},\"yaxis\":{\"title\":{\"text\":\"Number of Matches\"}}},                        {\"responsive\": true}                    ).then(function(){\n",
       "                            \n",
       "var gd = document.getElementById('16593dba-dc21-4ad2-aad0-d2ed3d02ec02');\n",
       "var x = new MutationObserver(function (mutations, observer) {{\n",
       "        var display = window.getComputedStyle(gd).display;\n",
       "        if (!display || display === 'none') {{\n",
       "            console.log([gd, 'removed!']);\n",
       "            Plotly.purge(gd);\n",
       "            observer.disconnect();\n",
       "        }}\n",
       "}});\n",
       "\n",
       "// Listen for the removal of the full notebook cells\n",
       "var notebookContainer = gd.closest('#notebook-container');\n",
       "if (notebookContainer) {{\n",
       "    x.observe(notebookContainer, {childList: true});\n",
       "}}\n",
       "\n",
       "// Listen for the clearing of the current output cell\n",
       "var outputEl = gd.closest('.output');\n",
       "if (outputEl) {{\n",
       "    x.observe(outputEl, {childList: true});\n",
       "}}\n",
       "\n",
       "                        })                };                            </script>        </div>\n",
       "</body>\n",
       "</html>"
      ]
     },
     "metadata": {},
     "output_type": "display_data"
    }
   ],
   "source": [
    "young_players_played = young_players.sort_values('MP', ascending=False)\n",
    "young_players_start = young_players.sort_values('Starts', ascending=False)\n",
    "\n",
    "top_young = young_players.sort_values('MP', ascending=False).head(10)\n",
    "\n",
    "# Create bar chart comparing matches played (MP) and starts.\n",
    "fig = go.Figure()\n",
    "fig.add_trace(go.Bar(x=top_young['Player'], y=top_young['MP'], name='Total Appearances', marker_color='#00879E'))\n",
    "fig.add_trace(go.Bar(x=top_young['Player'], y=top_young['Starts'], name='Starts', marker_color='#FFAB5B'))\n",
    "\n",
    "fig.update_layout(\n",
    "    barmode='group',\n",
    "    title='Young Players with Most Appearances (MP vs Starts)',\n",
    "    xaxis_title='Player',\n",
    "    yaxis_title='Number of Matches',\n",
    "    title_x=0.5\n",
    ")\n",
    "fig.show()"
   ]
  },
  {
   "cell_type": "markdown",
   "id": "9c93ecb5",
   "metadata": {
    "_cell_guid": "900bf672-27da-45ad-b712-c2efe94d2356",
    "_uuid": "b87a58c0-318e-442c-b8a6-c79794e1cdf7",
    "collapsed": false,
    "jupyter": {
     "outputs_hidden": false
    },
    "papermill": {
     "duration": 0.017023,
     "end_time": "2025-07-05T04:56:03.441479",
     "exception": false,
     "start_time": "2025-07-05T04:56:03.424456",
     "status": "completed"
    },
    "tags": []
   },
   "source": [
    "**1. Milos Kerkez Dominates in Minutes and Appearances:**\n",
    "* Milos Kerkez leads with most minutes (3336) and appearances (~38-39 matches with ~33-34 starts), showing high consistency and trust from his team.\n",
    "\n",
    "**2. High Coach Trust in Certain Young Players:**\n",
    "* Several young players consistently get very high minutes (approaching/exceeding 3000), indicating key roles in their teams.\n",
    "* The minutes comparison shows most players have minutes close to full 90-minute matches, indicating they often play full or nearly full matches.\n",
    "\n",
    "**3. Importance of Consistency and Starting Role:**\n",
    "* Players like Kerkez, Cristhian Mosquera, and Zion Suzuki not only play often but start regularly, showing they're first-choice players.\n",
    "\n",
    "**4. Diversity of Positions and Leagues:**\n",
    "* The presence of young players accumulating such high minutes shows some young talents are already trusted at the highest professional level."
   ]
  },
  {
   "cell_type": "code",
   "execution_count": 18,
   "id": "9624ca5c",
   "metadata": {
    "_cell_guid": "dc237360-58db-4960-aef0-f9d6e6b810b6",
    "_uuid": "3ebcf4c1-2223-4a8e-a57d-a9a8b9a48831",
    "collapsed": false,
    "execution": {
     "iopub.execute_input": "2025-07-05T04:56:03.477833Z",
     "iopub.status.busy": "2025-07-05T04:56:03.477468Z",
     "iopub.status.idle": "2025-07-05T04:56:03.545204Z",
     "shell.execute_reply": "2025-07-05T04:56:03.544171Z"
    },
    "jupyter": {
     "outputs_hidden": false
    },
    "papermill": {
     "duration": 0.088172,
     "end_time": "2025-07-05T04:56:03.546929",
     "exception": false,
     "start_time": "2025-07-05T04:56:03.458757",
     "status": "completed"
    },
    "tags": []
   },
   "outputs": [
    {
     "data": {
      "text/html": [
       "<html>\n",
       "<head><meta charset=\"utf-8\" /></head>\n",
       "<body>\n",
       "    <div>            <script src=\"https://cdnjs.cloudflare.com/ajax/libs/mathjax/2.7.5/MathJax.js?config=TeX-AMS-MML_SVG\"></script><script type=\"text/javascript\">if (window.MathJax && window.MathJax.Hub && window.MathJax.Hub.Config) {window.MathJax.Hub.Config({SVG: {font: \"STIX-Web\"}});}</script>                <script type=\"text/javascript\">window.PlotlyConfig = {MathJaxConfig: 'local'};</script>\n",
       "        <script charset=\"utf-8\" src=\"https://cdn.plot.ly/plotly-2.35.2.min.js\"></script>                <div id=\"b42ac0ed-a609-4a5d-ba9f-d9e364412639\" class=\"plotly-graph-div\" style=\"height:525px; width:100%;\"></div>            <script type=\"text/javascript\">                                    window.PLOTLYENV=window.PLOTLYENV || {};                                    if (document.getElementById(\"b42ac0ed-a609-4a5d-ba9f-d9e364412639\")) {                    Plotly.newPlot(                        \"b42ac0ed-a609-4a5d-ba9f-d9e364412639\",                        [{\"alignmentgroup\":\"True\",\"customdata\":[[\"Bournemouth\",38,38,37.1],[\"Valencia\",37,37,36.9],[\"Parma\",37,37,36.8],[\"Espanyol\",36,36,35.0],[\"Brighton\",36,36,36.0],[\"Chelsea\",35,35,35.0],[\"Strasbourg\",32,32,31.7],[\"Strasbourg\",31,31,29.3],[\"Toulouse\",29,29,28.3],[\"Strasbourg\",27,27,25.5]],\"hovertemplate\":\"Player=%{x}\\u003cbr\\u003eStarter Ratio=%{marker.color}\\u003cbr\\u003eSquad=%{customdata[0]}\\u003cbr\\u003eMP=%{customdata[1]}\\u003cbr\\u003eStarts=%{customdata[2]}\\u003cbr\\u003e90s=%{customdata[3]}\\u003cextra\\u003e\\u003c\\u002fextra\\u003e\",\"legendgroup\":\"\",\"marker\":{\"color\":[1.0,1.0,1.0,1.0,1.0,1.0,1.0,1.0,1.0,1.0],\"coloraxis\":\"coloraxis\",\"pattern\":{\"shape\":\"\"}},\"name\":\"\",\"offsetgroup\":\"\",\"orientation\":\"v\",\"showlegend\":false,\"textposition\":\"outside\",\"x\":[\"Milos Kerkez\",\"Cristhian Mosquera\",\"Zion Suzuki\",\"Omar El Hilali\",\"Bart Verbruggen\",\"Levi Colwill\",\"Andrey Santos\",\"Ismaël Doukouré\",\"Guillaume Restes\",\"Emanuel Emegha\"],\"xaxis\":\"x\",\"y\":[1.0,1.0,1.0,1.0,1.0,1.0,1.0,1.0,1.0,1.0],\"yaxis\":\"y\",\"type\":\"bar\",\"texttemplate\":\"%{y:.2f}\"}],                        {\"template\":{\"data\":{\"histogram2dcontour\":[{\"type\":\"histogram2dcontour\",\"colorbar\":{\"outlinewidth\":0,\"ticks\":\"\"},\"colorscale\":[[0.0,\"#0d0887\"],[0.1111111111111111,\"#46039f\"],[0.2222222222222222,\"#7201a8\"],[0.3333333333333333,\"#9c179e\"],[0.4444444444444444,\"#bd3786\"],[0.5555555555555556,\"#d8576b\"],[0.6666666666666666,\"#ed7953\"],[0.7777777777777778,\"#fb9f3a\"],[0.8888888888888888,\"#fdca26\"],[1.0,\"#f0f921\"]]}],\"choropleth\":[{\"type\":\"choropleth\",\"colorbar\":{\"outlinewidth\":0,\"ticks\":\"\"}}],\"histogram2d\":[{\"type\":\"histogram2d\",\"colorbar\":{\"outlinewidth\":0,\"ticks\":\"\"},\"colorscale\":[[0.0,\"#0d0887\"],[0.1111111111111111,\"#46039f\"],[0.2222222222222222,\"#7201a8\"],[0.3333333333333333,\"#9c179e\"],[0.4444444444444444,\"#bd3786\"],[0.5555555555555556,\"#d8576b\"],[0.6666666666666666,\"#ed7953\"],[0.7777777777777778,\"#fb9f3a\"],[0.8888888888888888,\"#fdca26\"],[1.0,\"#f0f921\"]]}],\"heatmap\":[{\"type\":\"heatmap\",\"colorbar\":{\"outlinewidth\":0,\"ticks\":\"\"},\"colorscale\":[[0.0,\"#0d0887\"],[0.1111111111111111,\"#46039f\"],[0.2222222222222222,\"#7201a8\"],[0.3333333333333333,\"#9c179e\"],[0.4444444444444444,\"#bd3786\"],[0.5555555555555556,\"#d8576b\"],[0.6666666666666666,\"#ed7953\"],[0.7777777777777778,\"#fb9f3a\"],[0.8888888888888888,\"#fdca26\"],[1.0,\"#f0f921\"]]}],\"heatmapgl\":[{\"type\":\"heatmapgl\",\"colorbar\":{\"outlinewidth\":0,\"ticks\":\"\"},\"colorscale\":[[0.0,\"#0d0887\"],[0.1111111111111111,\"#46039f\"],[0.2222222222222222,\"#7201a8\"],[0.3333333333333333,\"#9c179e\"],[0.4444444444444444,\"#bd3786\"],[0.5555555555555556,\"#d8576b\"],[0.6666666666666666,\"#ed7953\"],[0.7777777777777778,\"#fb9f3a\"],[0.8888888888888888,\"#fdca26\"],[1.0,\"#f0f921\"]]}],\"contourcarpet\":[{\"type\":\"contourcarpet\",\"colorbar\":{\"outlinewidth\":0,\"ticks\":\"\"}}],\"contour\":[{\"type\":\"contour\",\"colorbar\":{\"outlinewidth\":0,\"ticks\":\"\"},\"colorscale\":[[0.0,\"#0d0887\"],[0.1111111111111111,\"#46039f\"],[0.2222222222222222,\"#7201a8\"],[0.3333333333333333,\"#9c179e\"],[0.4444444444444444,\"#bd3786\"],[0.5555555555555556,\"#d8576b\"],[0.6666666666666666,\"#ed7953\"],[0.7777777777777778,\"#fb9f3a\"],[0.8888888888888888,\"#fdca26\"],[1.0,\"#f0f921\"]]}],\"surface\":[{\"type\":\"surface\",\"colorbar\":{\"outlinewidth\":0,\"ticks\":\"\"},\"colorscale\":[[0.0,\"#0d0887\"],[0.1111111111111111,\"#46039f\"],[0.2222222222222222,\"#7201a8\"],[0.3333333333333333,\"#9c179e\"],[0.4444444444444444,\"#bd3786\"],[0.5555555555555556,\"#d8576b\"],[0.6666666666666666,\"#ed7953\"],[0.7777777777777778,\"#fb9f3a\"],[0.8888888888888888,\"#fdca26\"],[1.0,\"#f0f921\"]]}],\"mesh3d\":[{\"type\":\"mesh3d\",\"colorbar\":{\"outlinewidth\":0,\"ticks\":\"\"}}],\"scatter\":[{\"fillpattern\":{\"fillmode\":\"overlay\",\"size\":10,\"solidity\":0.2},\"type\":\"scatter\"}],\"parcoords\":[{\"type\":\"parcoords\",\"line\":{\"colorbar\":{\"outlinewidth\":0,\"ticks\":\"\"}}}],\"scatterpolargl\":[{\"type\":\"scatterpolargl\",\"marker\":{\"colorbar\":{\"outlinewidth\":0,\"ticks\":\"\"}}}],\"bar\":[{\"error_x\":{\"color\":\"#2a3f5f\"},\"error_y\":{\"color\":\"#2a3f5f\"},\"marker\":{\"line\":{\"color\":\"#E5ECF6\",\"width\":0.5},\"pattern\":{\"fillmode\":\"overlay\",\"size\":10,\"solidity\":0.2}},\"type\":\"bar\"}],\"scattergeo\":[{\"type\":\"scattergeo\",\"marker\":{\"colorbar\":{\"outlinewidth\":0,\"ticks\":\"\"}}}],\"scatterpolar\":[{\"type\":\"scatterpolar\",\"marker\":{\"colorbar\":{\"outlinewidth\":0,\"ticks\":\"\"}}}],\"histogram\":[{\"marker\":{\"pattern\":{\"fillmode\":\"overlay\",\"size\":10,\"solidity\":0.2}},\"type\":\"histogram\"}],\"scattergl\":[{\"type\":\"scattergl\",\"marker\":{\"colorbar\":{\"outlinewidth\":0,\"ticks\":\"\"}}}],\"scatter3d\":[{\"type\":\"scatter3d\",\"line\":{\"colorbar\":{\"outlinewidth\":0,\"ticks\":\"\"}},\"marker\":{\"colorbar\":{\"outlinewidth\":0,\"ticks\":\"\"}}}],\"scattermapbox\":[{\"type\":\"scattermapbox\",\"marker\":{\"colorbar\":{\"outlinewidth\":0,\"ticks\":\"\"}}}],\"scatterternary\":[{\"type\":\"scatterternary\",\"marker\":{\"colorbar\":{\"outlinewidth\":0,\"ticks\":\"\"}}}],\"scattercarpet\":[{\"type\":\"scattercarpet\",\"marker\":{\"colorbar\":{\"outlinewidth\":0,\"ticks\":\"\"}}}],\"carpet\":[{\"aaxis\":{\"endlinecolor\":\"#2a3f5f\",\"gridcolor\":\"white\",\"linecolor\":\"white\",\"minorgridcolor\":\"white\",\"startlinecolor\":\"#2a3f5f\"},\"baxis\":{\"endlinecolor\":\"#2a3f5f\",\"gridcolor\":\"white\",\"linecolor\":\"white\",\"minorgridcolor\":\"white\",\"startlinecolor\":\"#2a3f5f\"},\"type\":\"carpet\"}],\"table\":[{\"cells\":{\"fill\":{\"color\":\"#EBF0F8\"},\"line\":{\"color\":\"white\"}},\"header\":{\"fill\":{\"color\":\"#C8D4E3\"},\"line\":{\"color\":\"white\"}},\"type\":\"table\"}],\"barpolar\":[{\"marker\":{\"line\":{\"color\":\"#E5ECF6\",\"width\":0.5},\"pattern\":{\"fillmode\":\"overlay\",\"size\":10,\"solidity\":0.2}},\"type\":\"barpolar\"}],\"pie\":[{\"automargin\":true,\"type\":\"pie\"}]},\"layout\":{\"autotypenumbers\":\"strict\",\"colorway\":[\"#636efa\",\"#EF553B\",\"#00cc96\",\"#ab63fa\",\"#FFA15A\",\"#19d3f3\",\"#FF6692\",\"#B6E880\",\"#FF97FF\",\"#FECB52\"],\"font\":{\"color\":\"#2a3f5f\"},\"hovermode\":\"closest\",\"hoverlabel\":{\"align\":\"left\"},\"paper_bgcolor\":\"white\",\"plot_bgcolor\":\"#E5ECF6\",\"polar\":{\"bgcolor\":\"#E5ECF6\",\"angularaxis\":{\"gridcolor\":\"white\",\"linecolor\":\"white\",\"ticks\":\"\"},\"radialaxis\":{\"gridcolor\":\"white\",\"linecolor\":\"white\",\"ticks\":\"\"}},\"ternary\":{\"bgcolor\":\"#E5ECF6\",\"aaxis\":{\"gridcolor\":\"white\",\"linecolor\":\"white\",\"ticks\":\"\"},\"baxis\":{\"gridcolor\":\"white\",\"linecolor\":\"white\",\"ticks\":\"\"},\"caxis\":{\"gridcolor\":\"white\",\"linecolor\":\"white\",\"ticks\":\"\"}},\"coloraxis\":{\"colorbar\":{\"outlinewidth\":0,\"ticks\":\"\"}},\"colorscale\":{\"sequential\":[[0.0,\"#0d0887\"],[0.1111111111111111,\"#46039f\"],[0.2222222222222222,\"#7201a8\"],[0.3333333333333333,\"#9c179e\"],[0.4444444444444444,\"#bd3786\"],[0.5555555555555556,\"#d8576b\"],[0.6666666666666666,\"#ed7953\"],[0.7777777777777778,\"#fb9f3a\"],[0.8888888888888888,\"#fdca26\"],[1.0,\"#f0f921\"]],\"sequentialminus\":[[0.0,\"#0d0887\"],[0.1111111111111111,\"#46039f\"],[0.2222222222222222,\"#7201a8\"],[0.3333333333333333,\"#9c179e\"],[0.4444444444444444,\"#bd3786\"],[0.5555555555555556,\"#d8576b\"],[0.6666666666666666,\"#ed7953\"],[0.7777777777777778,\"#fb9f3a\"],[0.8888888888888888,\"#fdca26\"],[1.0,\"#f0f921\"]],\"diverging\":[[0,\"#8e0152\"],[0.1,\"#c51b7d\"],[0.2,\"#de77ae\"],[0.3,\"#f1b6da\"],[0.4,\"#fde0ef\"],[0.5,\"#f7f7f7\"],[0.6,\"#e6f5d0\"],[0.7,\"#b8e186\"],[0.8,\"#7fbc41\"],[0.9,\"#4d9221\"],[1,\"#276419\"]]},\"xaxis\":{\"gridcolor\":\"white\",\"linecolor\":\"white\",\"ticks\":\"\",\"title\":{\"standoff\":15},\"zerolinecolor\":\"white\",\"automargin\":true,\"zerolinewidth\":2},\"yaxis\":{\"gridcolor\":\"white\",\"linecolor\":\"white\",\"ticks\":\"\",\"title\":{\"standoff\":15},\"zerolinecolor\":\"white\",\"automargin\":true,\"zerolinewidth\":2},\"scene\":{\"xaxis\":{\"backgroundcolor\":\"#E5ECF6\",\"gridcolor\":\"white\",\"linecolor\":\"white\",\"showbackground\":true,\"ticks\":\"\",\"zerolinecolor\":\"white\",\"gridwidth\":2},\"yaxis\":{\"backgroundcolor\":\"#E5ECF6\",\"gridcolor\":\"white\",\"linecolor\":\"white\",\"showbackground\":true,\"ticks\":\"\",\"zerolinecolor\":\"white\",\"gridwidth\":2},\"zaxis\":{\"backgroundcolor\":\"#E5ECF6\",\"gridcolor\":\"white\",\"linecolor\":\"white\",\"showbackground\":true,\"ticks\":\"\",\"zerolinecolor\":\"white\",\"gridwidth\":2}},\"shapedefaults\":{\"line\":{\"color\":\"#2a3f5f\"}},\"annotationdefaults\":{\"arrowcolor\":\"#2a3f5f\",\"arrowhead\":0,\"arrowwidth\":1},\"geo\":{\"bgcolor\":\"white\",\"landcolor\":\"#E5ECF6\",\"subunitcolor\":\"white\",\"showland\":true,\"showlakes\":true,\"lakecolor\":\"white\"},\"title\":{\"x\":0.05},\"mapbox\":{\"style\":\"light\"}}},\"xaxis\":{\"anchor\":\"y\",\"domain\":[0.0,1.0],\"title\":{\"text\":\"Player\"}},\"yaxis\":{\"anchor\":\"x\",\"domain\":[0.0,1.0],\"title\":{\"text\":\"Starter Ratio\"}},\"coloraxis\":{\"colorbar\":{\"title\":{\"text\":\"Starter Ratio\"}},\"colorscale\":[[0.0,\"#440154\"],[0.1111111111111111,\"#482878\"],[0.2222222222222222,\"#3e4989\"],[0.3333333333333333,\"#31688e\"],[0.4444444444444444,\"#26828e\"],[0.5555555555555556,\"#1f9e89\"],[0.6666666666666666,\"#35b779\"],[0.7777777777777778,\"#6ece58\"],[0.8888888888888888,\"#b5de2b\"],[1.0,\"#fde725\"]]},\"legend\":{\"tracegroupgap\":0},\"title\":{\"text\":\"Young Players Starter Ratio (Minimum 20 Appearances)\",\"x\":0.5},\"barmode\":\"relative\"},                        {\"responsive\": true}                    ).then(function(){\n",
       "                            \n",
       "var gd = document.getElementById('b42ac0ed-a609-4a5d-ba9f-d9e364412639');\n",
       "var x = new MutationObserver(function (mutations, observer) {{\n",
       "        var display = window.getComputedStyle(gd).display;\n",
       "        if (!display || display === 'none') {{\n",
       "            console.log([gd, 'removed!']);\n",
       "            Plotly.purge(gd);\n",
       "            observer.disconnect();\n",
       "        }}\n",
       "}});\n",
       "\n",
       "// Listen for the removal of the full notebook cells\n",
       "var notebookContainer = gd.closest('#notebook-container');\n",
       "if (notebookContainer) {{\n",
       "    x.observe(notebookContainer, {childList: true});\n",
       "}}\n",
       "\n",
       "// Listen for the clearing of the current output cell\n",
       "var outputEl = gd.closest('.output');\n",
       "if (outputEl) {{\n",
       "    x.observe(outputEl, {childList: true});\n",
       "}}\n",
       "\n",
       "                        })                };                            </script>        </div>\n",
       "</body>\n",
       "</html>"
      ]
     },
     "metadata": {},
     "output_type": "display_data"
    }
   ],
   "source": [
    "# Calculate starter ratio (Starts/MP) for young players with at least 20 appearances.\n",
    "young_players['starter_ratio'] = young_players['Starts'] / young_players['MP']\n",
    "young_players_filtered = young_players[young_players['MP'] >= 20]  # Filter players with sufficient appearances\n",
    "top_starter = young_players_filtered.sort_values(['starter_ratio', 'MP'], ascending=False).head(10)\n",
    "\n",
    "# Create bar chart for young players' starter ratio.\n",
    "fig = px.bar(\n",
    "    top_starter,\n",
    "    x='Player',\n",
    "    y='starter_ratio',\n",
    "    color='starter_ratio',\n",
    "    color_continuous_scale='viridis',\n",
    "    title='Young Players Starter Ratio (Minimum 20 Appearances)',\n",
    "    labels={'starter_ratio': 'Starter Ratio'},\n",
    "    hover_data=['Squad', 'MP', 'Starts', '90s']\n",
    ")\n",
    "fig.update_traces(texttemplate='%{y:.2f}', textposition='outside')\n",
    "fig.update_layout(title_x=0.5)\n",
    "fig.show()"
   ]
  },
  {
   "cell_type": "code",
   "execution_count": 19,
   "id": "8ddd0e18",
   "metadata": {
    "_cell_guid": "c8b3c22f-30c1-4cea-ba43-e1c06a871974",
    "_uuid": "c76f9d5d-e615-4841-ba13-8afb27404ab0",
    "collapsed": false,
    "execution": {
     "iopub.execute_input": "2025-07-05T04:56:03.584563Z",
     "iopub.status.busy": "2025-07-05T04:56:03.584190Z",
     "iopub.status.idle": "2025-07-05T04:56:03.643943Z",
     "shell.execute_reply": "2025-07-05T04:56:03.642831Z"
    },
    "jupyter": {
     "outputs_hidden": false
    },
    "papermill": {
     "duration": 0.080209,
     "end_time": "2025-07-05T04:56:03.645555",
     "exception": false,
     "start_time": "2025-07-05T04:56:03.565346",
     "status": "completed"
    },
    "tags": []
   },
   "outputs": [
    {
     "data": {
      "text/html": [
       "<html>\n",
       "<head><meta charset=\"utf-8\" /></head>\n",
       "<body>\n",
       "    <div>            <script src=\"https://cdnjs.cloudflare.com/ajax/libs/mathjax/2.7.5/MathJax.js?config=TeX-AMS-MML_SVG\"></script><script type=\"text/javascript\">if (window.MathJax && window.MathJax.Hub && window.MathJax.Hub.Config) {window.MathJax.Hub.Config({SVG: {font: \"STIX-Web\"}});}</script>                <script type=\"text/javascript\">window.PlotlyConfig = {MathJaxConfig: 'local'};</script>\n",
       "        <script charset=\"utf-8\" src=\"https://cdn.plot.ly/plotly-2.35.2.min.js\"></script>                <div id=\"617ed0d4-7634-4b65-86e2-a8212209ca88\" class=\"plotly-graph-div\" style=\"height:525px; width:100%;\"></div>            <script type=\"text/javascript\">                                    window.PLOTLYENV=window.PLOTLYENV || {};                                    if (document.getElementById(\"617ed0d4-7634-4b65-86e2-a8212209ca88\")) {                    Plotly.newPlot(                        \"617ed0d4-7634-4b65-86e2-a8212209ca88\",                        [{\"alignmentgroup\":\"True\",\"hovertemplate\":\"Comp=%{x}\\u003cbr\\u003eStarter Ratio=%{marker.color}\\u003cextra\\u003e\\u003c\\u002fextra\\u003e\",\"legendgroup\":\"\",\"marker\":{\"color\":[0.6077812828601472,0.5919308357348703,0.5884648742411102,0.5609386828160484,0.550251256281407],\"coloraxis\":\"coloraxis\",\"pattern\":{\"shape\":\"\"}},\"name\":\"\",\"offsetgroup\":\"\",\"orientation\":\"v\",\"showlegend\":false,\"textposition\":\"auto\",\"x\":[\"es La Liga\",\"eng Premier League\",\"fr Ligue 1\",\"de Bundesliga\",\"it Serie A\"],\"xaxis\":\"x\",\"y\":[0.6077812828601472,0.5919308357348703,0.5884648742411102,0.5609386828160484,0.550251256281407],\"yaxis\":\"y\",\"type\":\"bar\"}],                        {\"template\":{\"data\":{\"histogram2dcontour\":[{\"type\":\"histogram2dcontour\",\"colorbar\":{\"outlinewidth\":0,\"ticks\":\"\"},\"colorscale\":[[0.0,\"#0d0887\"],[0.1111111111111111,\"#46039f\"],[0.2222222222222222,\"#7201a8\"],[0.3333333333333333,\"#9c179e\"],[0.4444444444444444,\"#bd3786\"],[0.5555555555555556,\"#d8576b\"],[0.6666666666666666,\"#ed7953\"],[0.7777777777777778,\"#fb9f3a\"],[0.8888888888888888,\"#fdca26\"],[1.0,\"#f0f921\"]]}],\"choropleth\":[{\"type\":\"choropleth\",\"colorbar\":{\"outlinewidth\":0,\"ticks\":\"\"}}],\"histogram2d\":[{\"type\":\"histogram2d\",\"colorbar\":{\"outlinewidth\":0,\"ticks\":\"\"},\"colorscale\":[[0.0,\"#0d0887\"],[0.1111111111111111,\"#46039f\"],[0.2222222222222222,\"#7201a8\"],[0.3333333333333333,\"#9c179e\"],[0.4444444444444444,\"#bd3786\"],[0.5555555555555556,\"#d8576b\"],[0.6666666666666666,\"#ed7953\"],[0.7777777777777778,\"#fb9f3a\"],[0.8888888888888888,\"#fdca26\"],[1.0,\"#f0f921\"]]}],\"heatmap\":[{\"type\":\"heatmap\",\"colorbar\":{\"outlinewidth\":0,\"ticks\":\"\"},\"colorscale\":[[0.0,\"#0d0887\"],[0.1111111111111111,\"#46039f\"],[0.2222222222222222,\"#7201a8\"],[0.3333333333333333,\"#9c179e\"],[0.4444444444444444,\"#bd3786\"],[0.5555555555555556,\"#d8576b\"],[0.6666666666666666,\"#ed7953\"],[0.7777777777777778,\"#fb9f3a\"],[0.8888888888888888,\"#fdca26\"],[1.0,\"#f0f921\"]]}],\"heatmapgl\":[{\"type\":\"heatmapgl\",\"colorbar\":{\"outlinewidth\":0,\"ticks\":\"\"},\"colorscale\":[[0.0,\"#0d0887\"],[0.1111111111111111,\"#46039f\"],[0.2222222222222222,\"#7201a8\"],[0.3333333333333333,\"#9c179e\"],[0.4444444444444444,\"#bd3786\"],[0.5555555555555556,\"#d8576b\"],[0.6666666666666666,\"#ed7953\"],[0.7777777777777778,\"#fb9f3a\"],[0.8888888888888888,\"#fdca26\"],[1.0,\"#f0f921\"]]}],\"contourcarpet\":[{\"type\":\"contourcarpet\",\"colorbar\":{\"outlinewidth\":0,\"ticks\":\"\"}}],\"contour\":[{\"type\":\"contour\",\"colorbar\":{\"outlinewidth\":0,\"ticks\":\"\"},\"colorscale\":[[0.0,\"#0d0887\"],[0.1111111111111111,\"#46039f\"],[0.2222222222222222,\"#7201a8\"],[0.3333333333333333,\"#9c179e\"],[0.4444444444444444,\"#bd3786\"],[0.5555555555555556,\"#d8576b\"],[0.6666666666666666,\"#ed7953\"],[0.7777777777777778,\"#fb9f3a\"],[0.8888888888888888,\"#fdca26\"],[1.0,\"#f0f921\"]]}],\"surface\":[{\"type\":\"surface\",\"colorbar\":{\"outlinewidth\":0,\"ticks\":\"\"},\"colorscale\":[[0.0,\"#0d0887\"],[0.1111111111111111,\"#46039f\"],[0.2222222222222222,\"#7201a8\"],[0.3333333333333333,\"#9c179e\"],[0.4444444444444444,\"#bd3786\"],[0.5555555555555556,\"#d8576b\"],[0.6666666666666666,\"#ed7953\"],[0.7777777777777778,\"#fb9f3a\"],[0.8888888888888888,\"#fdca26\"],[1.0,\"#f0f921\"]]}],\"mesh3d\":[{\"type\":\"mesh3d\",\"colorbar\":{\"outlinewidth\":0,\"ticks\":\"\"}}],\"scatter\":[{\"fillpattern\":{\"fillmode\":\"overlay\",\"size\":10,\"solidity\":0.2},\"type\":\"scatter\"}],\"parcoords\":[{\"type\":\"parcoords\",\"line\":{\"colorbar\":{\"outlinewidth\":0,\"ticks\":\"\"}}}],\"scatterpolargl\":[{\"type\":\"scatterpolargl\",\"marker\":{\"colorbar\":{\"outlinewidth\":0,\"ticks\":\"\"}}}],\"bar\":[{\"error_x\":{\"color\":\"#2a3f5f\"},\"error_y\":{\"color\":\"#2a3f5f\"},\"marker\":{\"line\":{\"color\":\"#E5ECF6\",\"width\":0.5},\"pattern\":{\"fillmode\":\"overlay\",\"size\":10,\"solidity\":0.2}},\"type\":\"bar\"}],\"scattergeo\":[{\"type\":\"scattergeo\",\"marker\":{\"colorbar\":{\"outlinewidth\":0,\"ticks\":\"\"}}}],\"scatterpolar\":[{\"type\":\"scatterpolar\",\"marker\":{\"colorbar\":{\"outlinewidth\":0,\"ticks\":\"\"}}}],\"histogram\":[{\"marker\":{\"pattern\":{\"fillmode\":\"overlay\",\"size\":10,\"solidity\":0.2}},\"type\":\"histogram\"}],\"scattergl\":[{\"type\":\"scattergl\",\"marker\":{\"colorbar\":{\"outlinewidth\":0,\"ticks\":\"\"}}}],\"scatter3d\":[{\"type\":\"scatter3d\",\"line\":{\"colorbar\":{\"outlinewidth\":0,\"ticks\":\"\"}},\"marker\":{\"colorbar\":{\"outlinewidth\":0,\"ticks\":\"\"}}}],\"scattermapbox\":[{\"type\":\"scattermapbox\",\"marker\":{\"colorbar\":{\"outlinewidth\":0,\"ticks\":\"\"}}}],\"scatterternary\":[{\"type\":\"scatterternary\",\"marker\":{\"colorbar\":{\"outlinewidth\":0,\"ticks\":\"\"}}}],\"scattercarpet\":[{\"type\":\"scattercarpet\",\"marker\":{\"colorbar\":{\"outlinewidth\":0,\"ticks\":\"\"}}}],\"carpet\":[{\"aaxis\":{\"endlinecolor\":\"#2a3f5f\",\"gridcolor\":\"white\",\"linecolor\":\"white\",\"minorgridcolor\":\"white\",\"startlinecolor\":\"#2a3f5f\"},\"baxis\":{\"endlinecolor\":\"#2a3f5f\",\"gridcolor\":\"white\",\"linecolor\":\"white\",\"minorgridcolor\":\"white\",\"startlinecolor\":\"#2a3f5f\"},\"type\":\"carpet\"}],\"table\":[{\"cells\":{\"fill\":{\"color\":\"#EBF0F8\"},\"line\":{\"color\":\"white\"}},\"header\":{\"fill\":{\"color\":\"#C8D4E3\"},\"line\":{\"color\":\"white\"}},\"type\":\"table\"}],\"barpolar\":[{\"marker\":{\"line\":{\"color\":\"#E5ECF6\",\"width\":0.5},\"pattern\":{\"fillmode\":\"overlay\",\"size\":10,\"solidity\":0.2}},\"type\":\"barpolar\"}],\"pie\":[{\"automargin\":true,\"type\":\"pie\"}]},\"layout\":{\"autotypenumbers\":\"strict\",\"colorway\":[\"#636efa\",\"#EF553B\",\"#00cc96\",\"#ab63fa\",\"#FFA15A\",\"#19d3f3\",\"#FF6692\",\"#B6E880\",\"#FF97FF\",\"#FECB52\"],\"font\":{\"color\":\"#2a3f5f\"},\"hovermode\":\"closest\",\"hoverlabel\":{\"align\":\"left\"},\"paper_bgcolor\":\"white\",\"plot_bgcolor\":\"#E5ECF6\",\"polar\":{\"bgcolor\":\"#E5ECF6\",\"angularaxis\":{\"gridcolor\":\"white\",\"linecolor\":\"white\",\"ticks\":\"\"},\"radialaxis\":{\"gridcolor\":\"white\",\"linecolor\":\"white\",\"ticks\":\"\"}},\"ternary\":{\"bgcolor\":\"#E5ECF6\",\"aaxis\":{\"gridcolor\":\"white\",\"linecolor\":\"white\",\"ticks\":\"\"},\"baxis\":{\"gridcolor\":\"white\",\"linecolor\":\"white\",\"ticks\":\"\"},\"caxis\":{\"gridcolor\":\"white\",\"linecolor\":\"white\",\"ticks\":\"\"}},\"coloraxis\":{\"colorbar\":{\"outlinewidth\":0,\"ticks\":\"\"}},\"colorscale\":{\"sequential\":[[0.0,\"#0d0887\"],[0.1111111111111111,\"#46039f\"],[0.2222222222222222,\"#7201a8\"],[0.3333333333333333,\"#9c179e\"],[0.4444444444444444,\"#bd3786\"],[0.5555555555555556,\"#d8576b\"],[0.6666666666666666,\"#ed7953\"],[0.7777777777777778,\"#fb9f3a\"],[0.8888888888888888,\"#fdca26\"],[1.0,\"#f0f921\"]],\"sequentialminus\":[[0.0,\"#0d0887\"],[0.1111111111111111,\"#46039f\"],[0.2222222222222222,\"#7201a8\"],[0.3333333333333333,\"#9c179e\"],[0.4444444444444444,\"#bd3786\"],[0.5555555555555556,\"#d8576b\"],[0.6666666666666666,\"#ed7953\"],[0.7777777777777778,\"#fb9f3a\"],[0.8888888888888888,\"#fdca26\"],[1.0,\"#f0f921\"]],\"diverging\":[[0,\"#8e0152\"],[0.1,\"#c51b7d\"],[0.2,\"#de77ae\"],[0.3,\"#f1b6da\"],[0.4,\"#fde0ef\"],[0.5,\"#f7f7f7\"],[0.6,\"#e6f5d0\"],[0.7,\"#b8e186\"],[0.8,\"#7fbc41\"],[0.9,\"#4d9221\"],[1,\"#276419\"]]},\"xaxis\":{\"gridcolor\":\"white\",\"linecolor\":\"white\",\"ticks\":\"\",\"title\":{\"standoff\":15},\"zerolinecolor\":\"white\",\"automargin\":true,\"zerolinewidth\":2},\"yaxis\":{\"gridcolor\":\"white\",\"linecolor\":\"white\",\"ticks\":\"\",\"title\":{\"standoff\":15},\"zerolinecolor\":\"white\",\"automargin\":true,\"zerolinewidth\":2},\"scene\":{\"xaxis\":{\"backgroundcolor\":\"#E5ECF6\",\"gridcolor\":\"white\",\"linecolor\":\"white\",\"showbackground\":true,\"ticks\":\"\",\"zerolinecolor\":\"white\",\"gridwidth\":2},\"yaxis\":{\"backgroundcolor\":\"#E5ECF6\",\"gridcolor\":\"white\",\"linecolor\":\"white\",\"showbackground\":true,\"ticks\":\"\",\"zerolinecolor\":\"white\",\"gridwidth\":2},\"zaxis\":{\"backgroundcolor\":\"#E5ECF6\",\"gridcolor\":\"white\",\"linecolor\":\"white\",\"showbackground\":true,\"ticks\":\"\",\"zerolinecolor\":\"white\",\"gridwidth\":2}},\"shapedefaults\":{\"line\":{\"color\":\"#2a3f5f\"}},\"annotationdefaults\":{\"arrowcolor\":\"#2a3f5f\",\"arrowhead\":0,\"arrowwidth\":1},\"geo\":{\"bgcolor\":\"white\",\"landcolor\":\"#E5ECF6\",\"subunitcolor\":\"white\",\"showland\":true,\"showlakes\":true,\"lakecolor\":\"white\"},\"title\":{\"x\":0.05},\"mapbox\":{\"style\":\"light\"}}},\"xaxis\":{\"anchor\":\"y\",\"domain\":[0.0,1.0],\"title\":{\"text\":\"Comp\"}},\"yaxis\":{\"anchor\":\"x\",\"domain\":[0.0,1.0],\"title\":{\"text\":\"Starter Ratio\"}},\"coloraxis\":{\"colorbar\":{\"title\":{\"text\":\"Starter Ratio\"}},\"colorscale\":[[0.0,\"#0d0887\"],[0.1111111111111111,\"#46039f\"],[0.2222222222222222,\"#7201a8\"],[0.3333333333333333,\"#9c179e\"],[0.4444444444444444,\"#bd3786\"],[0.5555555555555556,\"#d8576b\"],[0.6666666666666666,\"#ed7953\"],[0.7777777777777778,\"#fb9f3a\"],[0.8888888888888888,\"#fdca26\"],[1.0,\"#f0f921\"]]},\"legend\":{\"tracegroupgap\":0},\"title\":{\"text\":\"Young Players Starter Ratio per League\"},\"barmode\":\"relative\"},                        {\"responsive\": true}                    ).then(function(){\n",
       "                            \n",
       "var gd = document.getElementById('617ed0d4-7634-4b65-86e2-a8212209ca88');\n",
       "var x = new MutationObserver(function (mutations, observer) {{\n",
       "        var display = window.getComputedStyle(gd).display;\n",
       "        if (!display || display === 'none') {{\n",
       "            console.log([gd, 'removed!']);\n",
       "            Plotly.purge(gd);\n",
       "            observer.disconnect();\n",
       "        }}\n",
       "}});\n",
       "\n",
       "// Listen for the removal of the full notebook cells\n",
       "var notebookContainer = gd.closest('#notebook-container');\n",
       "if (notebookContainer) {{\n",
       "    x.observe(notebookContainer, {childList: true});\n",
       "}}\n",
       "\n",
       "// Listen for the clearing of the current output cell\n",
       "var outputEl = gd.closest('.output');\n",
       "if (outputEl) {{\n",
       "    x.observe(outputEl, {childList: true});\n",
       "}}\n",
       "\n",
       "                        })                };                            </script>        </div>\n",
       "</body>\n",
       "</html>"
      ]
     },
     "metadata": {},
     "output_type": "display_data"
    }
   ],
   "source": [
    "# Calculate average starter ratio per league.\n",
    "starter_by_league = young_players.groupby('Comp')[['MP', 'Starts']].sum()\n",
    "starter_by_league['Starter Ratio'] = starter_by_league['Starts'] / starter_by_league['MP']\n",
    "starter_by_league = starter_by_league.sort_values('Starter Ratio', ascending=False).reset_index()\n",
    "\n",
    "# Create bar chart for starter ratio per league.\n",
    "px.bar(\n",
    "    starter_by_league,\n",
    "    x='Comp',\n",
    "    y='Starter Ratio',\n",
    "    color='Starter Ratio',\n",
    "    color_continuous_scale='plasma',\n",
    "    title='Young Players Starter Ratio per League',\n",
    "    labels={'Starter Ratio': 'Starter Ratio'}\n",
    ").show()"
   ]
  },
  {
   "cell_type": "markdown",
   "id": "5b7e80c2",
   "metadata": {
    "_cell_guid": "2d126c04-d2e0-464d-92ca-e68f2f854fb1",
    "_uuid": "8c6d9ced-a729-410f-a041-527983eb0801",
    "collapsed": false,
    "jupyter": {
     "outputs_hidden": false
    },
    "papermill": {
     "duration": 0.017746,
     "end_time": "2025-07-05T04:56:03.681690",
     "exception": false,
     "start_time": "2025-07-05T04:56:03.663944",
     "status": "completed"
    },
    "tags": []
   },
   "source": [
    "1. **\"Anti-Rotation\" Young Players with Absolute Key Roles:**\n",
    "    * The starter ratio chart shows 10 young players with perfect 1.00 ratios (always starting when they play), indicating they're not just promising talents but core pillars of their teams.\n",
    "\n",
    "2. **La Liga Leads in Giving Starter Roles to Young Players:**\n",
    "    * La Liga has the highest starter ratio (~0.60 or 60%), showing clubs are more likely to start young players.\n",
    "\n",
    "3. **Consistency in Premier League and Ligue 1:**\n",
    "    * These leagues rank second and third with ~0.59 ratios, showing proactive approaches to starting young players.\n",
    "\n",
    "4. **Bundesliga and Serie A Below Average in Starter Ratio:**\n",
    "    * These leagues have lower ratios (~0.56-0.57), suggesting young players more often come off the bench or are part of rotations.\n",
    "\n",
    "**Interim Conclusion:**\n",
    "- La Liga is most consistent in giving starter roles to young players.\n",
    "- Ligue 1 stands out in quantity and proportion, showing boldness in introducing new talent.\n",
    "- Premier League gives the most average minutes, showing a competitive yet trusting environment.\n",
    "- There's an \"elite\" group of young players (like Kerkez, Suzuki, Mosquera) who have become indispensable starters at very young ages."
   ]
  },
  {
   "cell_type": "markdown",
   "id": "91273449",
   "metadata": {
    "_cell_guid": "a2c3ad3e-a397-4e66-b711-784f20287080",
    "_uuid": "69e7c9a4-73d2-4b6a-a85d-53429d021ade",
    "collapsed": false,
    "jupyter": {
     "outputs_hidden": false
    },
    "papermill": {
     "duration": 0.017854,
     "end_time": "2025-07-05T04:56:03.717635",
     "exception": false,
     "start_time": "2025-07-05T04:56:03.699781",
     "status": "completed"
    },
    "tags": []
   },
   "source": [
    "## ⚽ Young Players' Performance: Goals and Assists\n",
    "This section analyzes young players' goal and assist contributions, comparing actual goals with Expected Goals (xG) and actual assists with Expected Assisted Goals (xAG) to measure their efficiency."
   ]
  },
  {
   "cell_type": "code",
   "execution_count": 20,
   "id": "ee98876c",
   "metadata": {
    "_cell_guid": "9e70331c-9648-4200-9eaa-112125b53fd4",
    "_uuid": "b88a6e66-c399-4b91-9dbc-b92a2c844d70",
    "collapsed": false,
    "execution": {
     "iopub.execute_input": "2025-07-05T04:56:03.756179Z",
     "iopub.status.busy": "2025-07-05T04:56:03.755823Z",
     "iopub.status.idle": "2025-07-05T04:56:03.827531Z",
     "shell.execute_reply": "2025-07-05T04:56:03.826365Z"
    },
    "jupyter": {
     "outputs_hidden": false
    },
    "papermill": {
     "duration": 0.093092,
     "end_time": "2025-07-05T04:56:03.829181",
     "exception": false,
     "start_time": "2025-07-05T04:56:03.736089",
     "status": "completed"
    },
    "tags": []
   },
   "outputs": [
    {
     "name": "stdout",
     "output_type": "stream",
     "text": [
      "Young players age threshold: ≤ 21.00 years\n",
      "Goal contribution by young players: 672 of 4801 (14.00%)\n",
      "Assist contribution by young players: 534 of 3425 (15.59%)\n",
      "Total G+A contribution by young players: 1206 of 8226 (14.66%)\n"
     ]
    },
    {
     "data": {
      "text/html": [
       "<html>\n",
       "<head><meta charset=\"utf-8\" /></head>\n",
       "<body>\n",
       "    <div>            <script src=\"https://cdnjs.cloudflare.com/ajax/libs/mathjax/2.7.5/MathJax.js?config=TeX-AMS-MML_SVG\"></script><script type=\"text/javascript\">if (window.MathJax && window.MathJax.Hub && window.MathJax.Hub.Config) {window.MathJax.Hub.Config({SVG: {font: \"STIX-Web\"}});}</script>                <script type=\"text/javascript\">window.PlotlyConfig = {MathJaxConfig: 'local'};</script>\n",
       "        <script charset=\"utf-8\" src=\"https://cdn.plot.ly/plotly-2.35.2.min.js\"></script>                <div id=\"fb9bdf6c-fd38-48bb-bbe5-1eb10ad9b31f\" class=\"plotly-graph-div\" style=\"height:525px; width:100%;\"></div>            <script type=\"text/javascript\">                                    window.PLOTLYENV=window.PLOTLYENV || {};                                    if (document.getElementById(\"fb9bdf6c-fd38-48bb-bbe5-1eb10ad9b31f\")) {                    Plotly.newPlot(                        \"fb9bdf6c-fd38-48bb-bbe5-1eb10ad9b31f\",                        [{\"hole\":0.5,\"labels\":[\"Young Players\",\"Other Players\"],\"marker\":{\"colors\":[\"#F05A7E\",\"#125B9A\"]},\"name\":\"Goals\",\"pull\":[0.1,0],\"values\":[672,4129],\"type\":\"pie\",\"domain\":{\"x\":[0.0,0.2888888888888889],\"y\":[0.0,1.0]}},{\"hole\":0.5,\"labels\":[\"Young Players\",\"Other Players\"],\"marker\":{\"colors\":[\"#F05A7E\",\"#125B9A\"]},\"name\":\"Assists\",\"pull\":[0.1,0],\"values\":[534,2891],\"type\":\"pie\",\"domain\":{\"x\":[0.35555555555555557,0.6444444444444445],\"y\":[0.0,1.0]}},{\"hole\":0.5,\"labels\":[\"Young Players\",\"Other Players\"],\"marker\":{\"colors\":[\"#F05A7E\",\"#125B9A\"]},\"name\":\"G+A\",\"pull\":[0.1,0],\"values\":[1206,7020],\"type\":\"pie\",\"domain\":{\"x\":[0.7111111111111111,1.0],\"y\":[0.0,1.0]}}],                        {\"template\":{\"data\":{\"histogram2dcontour\":[{\"type\":\"histogram2dcontour\",\"colorbar\":{\"outlinewidth\":0,\"ticks\":\"\"},\"colorscale\":[[0.0,\"#0d0887\"],[0.1111111111111111,\"#46039f\"],[0.2222222222222222,\"#7201a8\"],[0.3333333333333333,\"#9c179e\"],[0.4444444444444444,\"#bd3786\"],[0.5555555555555556,\"#d8576b\"],[0.6666666666666666,\"#ed7953\"],[0.7777777777777778,\"#fb9f3a\"],[0.8888888888888888,\"#fdca26\"],[1.0,\"#f0f921\"]]}],\"choropleth\":[{\"type\":\"choropleth\",\"colorbar\":{\"outlinewidth\":0,\"ticks\":\"\"}}],\"histogram2d\":[{\"type\":\"histogram2d\",\"colorbar\":{\"outlinewidth\":0,\"ticks\":\"\"},\"colorscale\":[[0.0,\"#0d0887\"],[0.1111111111111111,\"#46039f\"],[0.2222222222222222,\"#7201a8\"],[0.3333333333333333,\"#9c179e\"],[0.4444444444444444,\"#bd3786\"],[0.5555555555555556,\"#d8576b\"],[0.6666666666666666,\"#ed7953\"],[0.7777777777777778,\"#fb9f3a\"],[0.8888888888888888,\"#fdca26\"],[1.0,\"#f0f921\"]]}],\"heatmap\":[{\"type\":\"heatmap\",\"colorbar\":{\"outlinewidth\":0,\"ticks\":\"\"},\"colorscale\":[[0.0,\"#0d0887\"],[0.1111111111111111,\"#46039f\"],[0.2222222222222222,\"#7201a8\"],[0.3333333333333333,\"#9c179e\"],[0.4444444444444444,\"#bd3786\"],[0.5555555555555556,\"#d8576b\"],[0.6666666666666666,\"#ed7953\"],[0.7777777777777778,\"#fb9f3a\"],[0.8888888888888888,\"#fdca26\"],[1.0,\"#f0f921\"]]}],\"heatmapgl\":[{\"type\":\"heatmapgl\",\"colorbar\":{\"outlinewidth\":0,\"ticks\":\"\"},\"colorscale\":[[0.0,\"#0d0887\"],[0.1111111111111111,\"#46039f\"],[0.2222222222222222,\"#7201a8\"],[0.3333333333333333,\"#9c179e\"],[0.4444444444444444,\"#bd3786\"],[0.5555555555555556,\"#d8576b\"],[0.6666666666666666,\"#ed7953\"],[0.7777777777777778,\"#fb9f3a\"],[0.8888888888888888,\"#fdca26\"],[1.0,\"#f0f921\"]]}],\"contourcarpet\":[{\"type\":\"contourcarpet\",\"colorbar\":{\"outlinewidth\":0,\"ticks\":\"\"}}],\"contour\":[{\"type\":\"contour\",\"colorbar\":{\"outlinewidth\":0,\"ticks\":\"\"},\"colorscale\":[[0.0,\"#0d0887\"],[0.1111111111111111,\"#46039f\"],[0.2222222222222222,\"#7201a8\"],[0.3333333333333333,\"#9c179e\"],[0.4444444444444444,\"#bd3786\"],[0.5555555555555556,\"#d8576b\"],[0.6666666666666666,\"#ed7953\"],[0.7777777777777778,\"#fb9f3a\"],[0.8888888888888888,\"#fdca26\"],[1.0,\"#f0f921\"]]}],\"surface\":[{\"type\":\"surface\",\"colorbar\":{\"outlinewidth\":0,\"ticks\":\"\"},\"colorscale\":[[0.0,\"#0d0887\"],[0.1111111111111111,\"#46039f\"],[0.2222222222222222,\"#7201a8\"],[0.3333333333333333,\"#9c179e\"],[0.4444444444444444,\"#bd3786\"],[0.5555555555555556,\"#d8576b\"],[0.6666666666666666,\"#ed7953\"],[0.7777777777777778,\"#fb9f3a\"],[0.8888888888888888,\"#fdca26\"],[1.0,\"#f0f921\"]]}],\"mesh3d\":[{\"type\":\"mesh3d\",\"colorbar\":{\"outlinewidth\":0,\"ticks\":\"\"}}],\"scatter\":[{\"fillpattern\":{\"fillmode\":\"overlay\",\"size\":10,\"solidity\":0.2},\"type\":\"scatter\"}],\"parcoords\":[{\"type\":\"parcoords\",\"line\":{\"colorbar\":{\"outlinewidth\":0,\"ticks\":\"\"}}}],\"scatterpolargl\":[{\"type\":\"scatterpolargl\",\"marker\":{\"colorbar\":{\"outlinewidth\":0,\"ticks\":\"\"}}}],\"bar\":[{\"error_x\":{\"color\":\"#2a3f5f\"},\"error_y\":{\"color\":\"#2a3f5f\"},\"marker\":{\"line\":{\"color\":\"#E5ECF6\",\"width\":0.5},\"pattern\":{\"fillmode\":\"overlay\",\"size\":10,\"solidity\":0.2}},\"type\":\"bar\"}],\"scattergeo\":[{\"type\":\"scattergeo\",\"marker\":{\"colorbar\":{\"outlinewidth\":0,\"ticks\":\"\"}}}],\"scatterpolar\":[{\"type\":\"scatterpolar\",\"marker\":{\"colorbar\":{\"outlinewidth\":0,\"ticks\":\"\"}}}],\"histogram\":[{\"marker\":{\"pattern\":{\"fillmode\":\"overlay\",\"size\":10,\"solidity\":0.2}},\"type\":\"histogram\"}],\"scattergl\":[{\"type\":\"scattergl\",\"marker\":{\"colorbar\":{\"outlinewidth\":0,\"ticks\":\"\"}}}],\"scatter3d\":[{\"type\":\"scatter3d\",\"line\":{\"colorbar\":{\"outlinewidth\":0,\"ticks\":\"\"}},\"marker\":{\"colorbar\":{\"outlinewidth\":0,\"ticks\":\"\"}}}],\"scattermapbox\":[{\"type\":\"scattermapbox\",\"marker\":{\"colorbar\":{\"outlinewidth\":0,\"ticks\":\"\"}}}],\"scatterternary\":[{\"type\":\"scatterternary\",\"marker\":{\"colorbar\":{\"outlinewidth\":0,\"ticks\":\"\"}}}],\"scattercarpet\":[{\"type\":\"scattercarpet\",\"marker\":{\"colorbar\":{\"outlinewidth\":0,\"ticks\":\"\"}}}],\"carpet\":[{\"aaxis\":{\"endlinecolor\":\"#2a3f5f\",\"gridcolor\":\"white\",\"linecolor\":\"white\",\"minorgridcolor\":\"white\",\"startlinecolor\":\"#2a3f5f\"},\"baxis\":{\"endlinecolor\":\"#2a3f5f\",\"gridcolor\":\"white\",\"linecolor\":\"white\",\"minorgridcolor\":\"white\",\"startlinecolor\":\"#2a3f5f\"},\"type\":\"carpet\"}],\"table\":[{\"cells\":{\"fill\":{\"color\":\"#EBF0F8\"},\"line\":{\"color\":\"white\"}},\"header\":{\"fill\":{\"color\":\"#C8D4E3\"},\"line\":{\"color\":\"white\"}},\"type\":\"table\"}],\"barpolar\":[{\"marker\":{\"line\":{\"color\":\"#E5ECF6\",\"width\":0.5},\"pattern\":{\"fillmode\":\"overlay\",\"size\":10,\"solidity\":0.2}},\"type\":\"barpolar\"}],\"pie\":[{\"automargin\":true,\"type\":\"pie\"}]},\"layout\":{\"autotypenumbers\":\"strict\",\"colorway\":[\"#636efa\",\"#EF553B\",\"#00cc96\",\"#ab63fa\",\"#FFA15A\",\"#19d3f3\",\"#FF6692\",\"#B6E880\",\"#FF97FF\",\"#FECB52\"],\"font\":{\"color\":\"#2a3f5f\"},\"hovermode\":\"closest\",\"hoverlabel\":{\"align\":\"left\"},\"paper_bgcolor\":\"white\",\"plot_bgcolor\":\"#E5ECF6\",\"polar\":{\"bgcolor\":\"#E5ECF6\",\"angularaxis\":{\"gridcolor\":\"white\",\"linecolor\":\"white\",\"ticks\":\"\"},\"radialaxis\":{\"gridcolor\":\"white\",\"linecolor\":\"white\",\"ticks\":\"\"}},\"ternary\":{\"bgcolor\":\"#E5ECF6\",\"aaxis\":{\"gridcolor\":\"white\",\"linecolor\":\"white\",\"ticks\":\"\"},\"baxis\":{\"gridcolor\":\"white\",\"linecolor\":\"white\",\"ticks\":\"\"},\"caxis\":{\"gridcolor\":\"white\",\"linecolor\":\"white\",\"ticks\":\"\"}},\"coloraxis\":{\"colorbar\":{\"outlinewidth\":0,\"ticks\":\"\"}},\"colorscale\":{\"sequential\":[[0.0,\"#0d0887\"],[0.1111111111111111,\"#46039f\"],[0.2222222222222222,\"#7201a8\"],[0.3333333333333333,\"#9c179e\"],[0.4444444444444444,\"#bd3786\"],[0.5555555555555556,\"#d8576b\"],[0.6666666666666666,\"#ed7953\"],[0.7777777777777778,\"#fb9f3a\"],[0.8888888888888888,\"#fdca26\"],[1.0,\"#f0f921\"]],\"sequentialminus\":[[0.0,\"#0d0887\"],[0.1111111111111111,\"#46039f\"],[0.2222222222222222,\"#7201a8\"],[0.3333333333333333,\"#9c179e\"],[0.4444444444444444,\"#bd3786\"],[0.5555555555555556,\"#d8576b\"],[0.6666666666666666,\"#ed7953\"],[0.7777777777777778,\"#fb9f3a\"],[0.8888888888888888,\"#fdca26\"],[1.0,\"#f0f921\"]],\"diverging\":[[0,\"#8e0152\"],[0.1,\"#c51b7d\"],[0.2,\"#de77ae\"],[0.3,\"#f1b6da\"],[0.4,\"#fde0ef\"],[0.5,\"#f7f7f7\"],[0.6,\"#e6f5d0\"],[0.7,\"#b8e186\"],[0.8,\"#7fbc41\"],[0.9,\"#4d9221\"],[1,\"#276419\"]]},\"xaxis\":{\"gridcolor\":\"white\",\"linecolor\":\"white\",\"ticks\":\"\",\"title\":{\"standoff\":15},\"zerolinecolor\":\"white\",\"automargin\":true,\"zerolinewidth\":2},\"yaxis\":{\"gridcolor\":\"white\",\"linecolor\":\"white\",\"ticks\":\"\",\"title\":{\"standoff\":15},\"zerolinecolor\":\"white\",\"automargin\":true,\"zerolinewidth\":2},\"scene\":{\"xaxis\":{\"backgroundcolor\":\"#E5ECF6\",\"gridcolor\":\"white\",\"linecolor\":\"white\",\"showbackground\":true,\"ticks\":\"\",\"zerolinecolor\":\"white\",\"gridwidth\":2},\"yaxis\":{\"backgroundcolor\":\"#E5ECF6\",\"gridcolor\":\"white\",\"linecolor\":\"white\",\"showbackground\":true,\"ticks\":\"\",\"zerolinecolor\":\"white\",\"gridwidth\":2},\"zaxis\":{\"backgroundcolor\":\"#E5ECF6\",\"gridcolor\":\"white\",\"linecolor\":\"white\",\"showbackground\":true,\"ticks\":\"\",\"zerolinecolor\":\"white\",\"gridwidth\":2}},\"shapedefaults\":{\"line\":{\"color\":\"#2a3f5f\"}},\"annotationdefaults\":{\"arrowcolor\":\"#2a3f5f\",\"arrowhead\":0,\"arrowwidth\":1},\"geo\":{\"bgcolor\":\"white\",\"landcolor\":\"#E5ECF6\",\"subunitcolor\":\"white\",\"showland\":true,\"showlakes\":true,\"lakecolor\":\"white\"},\"title\":{\"x\":0.05},\"mapbox\":{\"style\":\"light\"}}},\"annotations\":[{\"font\":{\"size\":14},\"showarrow\":false,\"text\":\"Goals\",\"x\":0.15,\"xanchor\":\"center\",\"xref\":\"paper\",\"y\":0.5,\"yanchor\":\"bottom\",\"yref\":\"paper\"},{\"font\":{\"size\":14},\"showarrow\":false,\"text\":\"Assists\",\"x\":0.5,\"xanchor\":\"center\",\"xref\":\"paper\",\"y\":0.5,\"yanchor\":\"bottom\",\"yref\":\"paper\"},{\"font\":{\"size\":14},\"showarrow\":false,\"text\":\"G+A\",\"x\":0.85,\"xanchor\":\"center\",\"xref\":\"paper\",\"y\":0.5,\"yanchor\":\"bottom\",\"yref\":\"paper\"}],\"title\":{\"text\":\"Goal & Assist Contribution by Young Players (Age ≤ 21 Years)\"}},                        {\"responsive\": true}                    ).then(function(){\n",
       "                            \n",
       "var gd = document.getElementById('fb9bdf6c-fd38-48bb-bbe5-1eb10ad9b31f');\n",
       "var x = new MutationObserver(function (mutations, observer) {{\n",
       "        var display = window.getComputedStyle(gd).display;\n",
       "        if (!display || display === 'none') {{\n",
       "            console.log([gd, 'removed!']);\n",
       "            Plotly.purge(gd);\n",
       "            observer.disconnect();\n",
       "        }}\n",
       "}});\n",
       "\n",
       "// Listen for the removal of the full notebook cells\n",
       "var notebookContainer = gd.closest('#notebook-container');\n",
       "if (notebookContainer) {{\n",
       "    x.observe(notebookContainer, {childList: true});\n",
       "}}\n",
       "\n",
       "// Listen for the clearing of the current output cell\n",
       "var outputEl = gd.closest('.output');\n",
       "if (outputEl) {{\n",
       "    x.observe(outputEl, {childList: true});\n",
       "}}\n",
       "\n",
       "                        })                };                            </script>        </div>\n",
       "</body>\n",
       "</html>"
      ]
     },
     "metadata": {},
     "output_type": "display_data"
    }
   ],
   "source": [
    "# Calculate total goals, assists, and G+A (Goals + Assists) for all players.\n",
    "total_goals = df_cleaned['Gls'].sum()\n",
    "total_assists = df_cleaned['Ast'].sum()\n",
    "total_ga = df_cleaned['Gls'].add(df_cleaned['Ast']).sum()\n",
    "\n",
    "# Calculate totals for young players.\n",
    "young_goals = young_players['Gls'].sum()\n",
    "young_assists = young_players['Ast'].sum()\n",
    "young_ga = young_players['Gls'].add(young_players['Ast']).sum()\n",
    "\n",
    "# Calculate young players' contribution percentages.\n",
    "percent_goals = 100 * young_goals / total_goals\n",
    "percent_assists = 100 * young_assists / total_assists\n",
    "percent_ga = 100 * young_ga / total_ga\n",
    "\n",
    "# Print young players' contributions.\n",
    "print(f\"Young players age threshold: ≤ {age_threshold:.2f} years\")\n",
    "print(f\"Goal contribution by young players: {young_goals} of {total_goals} ({percent_goals:.2f}%)\")\n",
    "print(f\"Assist contribution by young players: {young_assists} of {total_assists} ({percent_assists:.2f}%)\")\n",
    "print(f\"Total G+A contribution by young players: {young_ga} of {total_ga} ({percent_ga:.2f}%)\")\n",
    "\n",
    "# Data for pie charts.\n",
    "goals_data = [young_goals, total_goals - young_goals]\n",
    "assists_data = [young_assists, total_assists - young_assists]\n",
    "ga_data = [young_ga, total_ga - young_ga]\n",
    "\n",
    "labels = ['Young Players', 'Other Players']\n",
    "colors = ['#F05A7E', '#125B9A']\n",
    "\n",
    "# Create subplot with 3 pie charts for contribution visualization.\n",
    "from plotly.subplots import make_subplots\n",
    "\n",
    "fig = make_subplots(\n",
    "    rows=1, cols=3,\n",
    "    specs=[[{'type':'domain'}, {'type':'domain'}, {'type':'domain'}]],\n",
    "    subplot_titles=[\"Goal Contribution\", \"Assist Contribution\", \"G+A Contribution\"]\n",
    ")\n",
    "\n",
    "# Add pie chart for goal contribution.\n",
    "fig.add_trace(go.Pie(\n",
    "    labels=labels,\n",
    "    values=goals_data,\n",
    "    name=\"Goals\",\n",
    "    marker=dict(colors=colors),\n",
    "    hole=0.5, # Donut chart\n",
    "    pull=[0.1, 0]  # Slightly separate 'Young Players' slice\n",
    "), 1, 1)\n",
    "\n",
    "# Add pie chart for assist contribution.\n",
    "fig.add_trace(go.Pie(\n",
    "    labels=labels,\n",
    "    values=assists_data,\n",
    "    name=\"Assists\",\n",
    "    marker=dict(colors=colors),\n",
    "    hole=0.5,\n",
    "    pull=[0.1, 0]\n",
    "), 1, 2)\n",
    "\n",
    "# Add pie chart for G+A contribution.\n",
    "fig.add_trace(go.Pie(\n",
    "    labels=labels,\n",
    "    values=ga_data,\n",
    "    name=\"G+A\",\n",
    "    marker=dict(colors=colors),\n",
    "    hole=0.5,\n",
    "    pull=[0.1, 0]\n",
    "), 1, 3)\n",
    "\n",
    "# Set plot layout.\n",
    "fig.update_layout(\n",
    "    title_text=\"Goal & Assist Contribution by Young Players (Age ≤ 21 Years)\",\n",
    "    annotations=[dict(text='Goals', x=0.15, y=0.5, font_size=14, showarrow=False),\n",
    "                 dict(text='Assists', x=0.5, y=0.5, font_size=14, showarrow=False),\n",
    "                 dict(text='G+A', x=0.85, y=0.5, font_size=14, showarrow=False)]\n",
    ")\n",
    "\n",
    "fig.show()"
   ]
  },
  {
   "cell_type": "markdown",
   "id": "dcc80afa",
   "metadata": {
    "_cell_guid": "a727f1ff-a403-4f6f-b1f7-86544989521b",
    "_uuid": "47a862ae-d1e2-491b-a7f5-75bcd600b4c3",
    "collapsed": false,
    "jupyter": {
     "outputs_hidden": false
    },
    "papermill": {
     "duration": 0.027659,
     "end_time": "2025-07-05T04:56:03.877674",
     "exception": false,
     "start_time": "2025-07-05T04:56:03.850015",
     "status": "completed"
    },
    "tags": []
   },
   "source": [
    "1. **Significant Offensive Contribution from Young Players:**\n",
    "    - Young players (≤21) contribute 14% of total goals, 15.6% of assists, and 14.7% of G+A - significant given their age.\n",
    "\n",
    "2. **Young Players More Prominent in Assists:**\n",
    "    - Their assist contribution (15.6%) is slightly higher than goals (14%), suggesting many young players are playmakers, wingers delivering crosses, or creative midfielders focused on chance creation rather than primary scorers.\n",
    "\n",
    "3. **Great Potential for Future Growth:**\n",
    "    - These contributions are promising considering they're still developing. Their ability to collectively contribute nearly 15% of total offense shows their potential.\n",
    "\n",
    "4. **Team Reliance on Senior/Established Players:**\n",
    "    - Most contributions (~85%) still come from older players (>21), which is natural given experience, physical maturity, and key positions often filled by seniors.\n",
    "\n",
    "5. **Importance of Investing in Youth Development:**\n",
    "    - These contributions show youth investments are valuable. These players provide real added value and are future assets."
   ]
  },
  {
   "cell_type": "code",
   "execution_count": 21,
   "id": "4d141535",
   "metadata": {
    "_cell_guid": "ca0c21a6-cb23-43a4-893f-3b9cd63eb029",
    "_uuid": "454036a4-cd81-4c85-af0e-ca0a6f5d6a89",
    "collapsed": false,
    "execution": {
     "iopub.execute_input": "2025-07-05T04:56:03.924406Z",
     "iopub.status.busy": "2025-07-05T04:56:03.923684Z",
     "iopub.status.idle": "2025-07-05T04:56:03.953887Z",
     "shell.execute_reply": "2025-07-05T04:56:03.952766Z"
    },
    "jupyter": {
     "outputs_hidden": false
    },
    "papermill": {
     "duration": 0.055124,
     "end_time": "2025-07-05T04:56:03.955871",
     "exception": false,
     "start_time": "2025-07-05T04:56:03.900747",
     "status": "completed"
    },
    "tags": []
   },
   "outputs": [
    {
     "data": {
      "text/html": [
       "<html>\n",
       "<head><meta charset=\"utf-8\" /></head>\n",
       "<body>\n",
       "    <div>            <script src=\"https://cdnjs.cloudflare.com/ajax/libs/mathjax/2.7.5/MathJax.js?config=TeX-AMS-MML_SVG\"></script><script type=\"text/javascript\">if (window.MathJax && window.MathJax.Hub && window.MathJax.Hub.Config) {window.MathJax.Hub.Config({SVG: {font: \"STIX-Web\"}});}</script>                <script type=\"text/javascript\">window.PlotlyConfig = {MathJaxConfig: 'local'};</script>\n",
       "        <script charset=\"utf-8\" src=\"https://cdn.plot.ly/plotly-2.35.2.min.js\"></script>                <div id=\"32f01cc9-b2d2-4f53-a1f5-57459341c0a4\" class=\"plotly-graph-div\" style=\"height:525px; width:100%;\"></div>            <script type=\"text/javascript\">                                    window.PLOTLYENV=window.PLOTLYENV || {};                                    if (document.getElementById(\"32f01cc9-b2d2-4f53-a1f5-57459341c0a4\")) {                    Plotly.newPlot(                        \"32f01cc9-b2d2-4f53-a1f5-57459341c0a4\",                        [{\"hovertext\":[\"Age: 21.0\\u003cbr\\u003eClub: Strasbourg\\u003cbr\\u003eMinutes: 2293\\\\n\",\"Age: 21.0\\u003cbr\\u003eClub: Paris S-G\\u003cbr\\u003eMinutes: 2181\\\\n\",\"Age: 21.0\\u003cbr\\u003eClub: Monaco\\u003cbr\\u003eMinutes: 1228\\\\n\",\"Age: 21.0\\u003cbr\\u003eClub: RB Leipzig\\u003cbr\\u003eMinutes: 2380\\\\n\",\"Age: 21.0\\u003cbr\\u003eClub: Ipswich Town\\u003cbr\\u003eMinutes: 2593\\\\n\",\"Age: 19.0\\u003cbr\\u003eClub: Saint-Étienne\\u003cbr\\u003eMinutes: 1887\\\\n\",\"Age: 21.0\\u003cbr\\u003eClub: Bayern Munich\\u003cbr\\u003eMinutes: 1798\\\\n\",\"Age: 21.0\\u003cbr\\u003eClub: Villarreal\\u003cbr\\u003eMinutes: 2323\\\\n\",\"Age: 21.0\\u003cbr\\u003eClub: Mainz 05\\u003cbr\\u003eMinutes: 2345\\\\n\",\"Age: 20.0\\u003cbr\\u003eClub: Strasbourg\\u003cbr\\u003eMinutes: 2855\\\\n\"],\"marker\":{\"color\":\"#2B3467\"},\"name\":\"Total Goals\",\"offsetgroup\":\"0\",\"x\":[\"Emanuel Emegha\",\"Bradley Barcola\",\"Mika Biereth\",\"Benjamin Šeško\",\"Liam Delap\",\"Lucas Stassin\",\"Jamal Musiala\",\"Thierno Barry\",\"Paul Nebel\",\"Andrey Santos\"],\"y\":[14,14,13,13,12,12,12,11,10,10],\"type\":\"bar\"},{\"base\":0,\"marker\":{\"color\":\"#BAD7E9\"},\"name\":\"Non-Penalty Goals\",\"offsetgroup\":\"1\",\"x\":[\"Emanuel Emegha\",\"Bradley Barcola\",\"Mika Biereth\",\"Benjamin Šeško\",\"Liam Delap\",\"Lucas Stassin\",\"Jamal Musiala\",\"Thierno Barry\",\"Paul Nebel\",\"Andrey Santos\"],\"y\":[14,14,12,11,10,12,12,10,10,10],\"type\":\"bar\"},{\"base\":[14,14,12,11,10,12,12,10,10,10],\"marker\":{\"color\":\"#EB455F\"},\"name\":\"Penalty Goals\",\"offsetgroup\":\"1\",\"x\":[\"Emanuel Emegha\",\"Bradley Barcola\",\"Mika Biereth\",\"Benjamin Šeško\",\"Liam Delap\",\"Lucas Stassin\",\"Jamal Musiala\",\"Thierno Barry\",\"Paul Nebel\",\"Andrey Santos\"],\"y\":[0,0,1,2,2,0,0,1,0,0],\"type\":\"bar\"}],                        {\"template\":{\"data\":{\"histogram2dcontour\":[{\"type\":\"histogram2dcontour\",\"colorbar\":{\"outlinewidth\":0,\"ticks\":\"\"},\"colorscale\":[[0.0,\"#0d0887\"],[0.1111111111111111,\"#46039f\"],[0.2222222222222222,\"#7201a8\"],[0.3333333333333333,\"#9c179e\"],[0.4444444444444444,\"#bd3786\"],[0.5555555555555556,\"#d8576b\"],[0.6666666666666666,\"#ed7953\"],[0.7777777777777778,\"#fb9f3a\"],[0.8888888888888888,\"#fdca26\"],[1.0,\"#f0f921\"]]}],\"choropleth\":[{\"type\":\"choropleth\",\"colorbar\":{\"outlinewidth\":0,\"ticks\":\"\"}}],\"histogram2d\":[{\"type\":\"histogram2d\",\"colorbar\":{\"outlinewidth\":0,\"ticks\":\"\"},\"colorscale\":[[0.0,\"#0d0887\"],[0.1111111111111111,\"#46039f\"],[0.2222222222222222,\"#7201a8\"],[0.3333333333333333,\"#9c179e\"],[0.4444444444444444,\"#bd3786\"],[0.5555555555555556,\"#d8576b\"],[0.6666666666666666,\"#ed7953\"],[0.7777777777777778,\"#fb9f3a\"],[0.8888888888888888,\"#fdca26\"],[1.0,\"#f0f921\"]]}],\"heatmap\":[{\"type\":\"heatmap\",\"colorbar\":{\"outlinewidth\":0,\"ticks\":\"\"},\"colorscale\":[[0.0,\"#0d0887\"],[0.1111111111111111,\"#46039f\"],[0.2222222222222222,\"#7201a8\"],[0.3333333333333333,\"#9c179e\"],[0.4444444444444444,\"#bd3786\"],[0.5555555555555556,\"#d8576b\"],[0.6666666666666666,\"#ed7953\"],[0.7777777777777778,\"#fb9f3a\"],[0.8888888888888888,\"#fdca26\"],[1.0,\"#f0f921\"]]}],\"heatmapgl\":[{\"type\":\"heatmapgl\",\"colorbar\":{\"outlinewidth\":0,\"ticks\":\"\"},\"colorscale\":[[0.0,\"#0d0887\"],[0.1111111111111111,\"#46039f\"],[0.2222222222222222,\"#7201a8\"],[0.3333333333333333,\"#9c179e\"],[0.4444444444444444,\"#bd3786\"],[0.5555555555555556,\"#d8576b\"],[0.6666666666666666,\"#ed7953\"],[0.7777777777777778,\"#fb9f3a\"],[0.8888888888888888,\"#fdca26\"],[1.0,\"#f0f921\"]]}],\"contourcarpet\":[{\"type\":\"contourcarpet\",\"colorbar\":{\"outlinewidth\":0,\"ticks\":\"\"}}],\"contour\":[{\"type\":\"contour\",\"colorbar\":{\"outlinewidth\":0,\"ticks\":\"\"},\"colorscale\":[[0.0,\"#0d0887\"],[0.1111111111111111,\"#46039f\"],[0.2222222222222222,\"#7201a8\"],[0.3333333333333333,\"#9c179e\"],[0.4444444444444444,\"#bd3786\"],[0.5555555555555556,\"#d8576b\"],[0.6666666666666666,\"#ed7953\"],[0.7777777777777778,\"#fb9f3a\"],[0.8888888888888888,\"#fdca26\"],[1.0,\"#f0f921\"]]}],\"surface\":[{\"type\":\"surface\",\"colorbar\":{\"outlinewidth\":0,\"ticks\":\"\"},\"colorscale\":[[0.0,\"#0d0887\"],[0.1111111111111111,\"#46039f\"],[0.2222222222222222,\"#7201a8\"],[0.3333333333333333,\"#9c179e\"],[0.4444444444444444,\"#bd3786\"],[0.5555555555555556,\"#d8576b\"],[0.6666666666666666,\"#ed7953\"],[0.7777777777777778,\"#fb9f3a\"],[0.8888888888888888,\"#fdca26\"],[1.0,\"#f0f921\"]]}],\"mesh3d\":[{\"type\":\"mesh3d\",\"colorbar\":{\"outlinewidth\":0,\"ticks\":\"\"}}],\"scatter\":[{\"fillpattern\":{\"fillmode\":\"overlay\",\"size\":10,\"solidity\":0.2},\"type\":\"scatter\"}],\"parcoords\":[{\"type\":\"parcoords\",\"line\":{\"colorbar\":{\"outlinewidth\":0,\"ticks\":\"\"}}}],\"scatterpolargl\":[{\"type\":\"scatterpolargl\",\"marker\":{\"colorbar\":{\"outlinewidth\":0,\"ticks\":\"\"}}}],\"bar\":[{\"error_x\":{\"color\":\"#2a3f5f\"},\"error_y\":{\"color\":\"#2a3f5f\"},\"marker\":{\"line\":{\"color\":\"#E5ECF6\",\"width\":0.5},\"pattern\":{\"fillmode\":\"overlay\",\"size\":10,\"solidity\":0.2}},\"type\":\"bar\"}],\"scattergeo\":[{\"type\":\"scattergeo\",\"marker\":{\"colorbar\":{\"outlinewidth\":0,\"ticks\":\"\"}}}],\"scatterpolar\":[{\"type\":\"scatterpolar\",\"marker\":{\"colorbar\":{\"outlinewidth\":0,\"ticks\":\"\"}}}],\"histogram\":[{\"marker\":{\"pattern\":{\"fillmode\":\"overlay\",\"size\":10,\"solidity\":0.2}},\"type\":\"histogram\"}],\"scattergl\":[{\"type\":\"scattergl\",\"marker\":{\"colorbar\":{\"outlinewidth\":0,\"ticks\":\"\"}}}],\"scatter3d\":[{\"type\":\"scatter3d\",\"line\":{\"colorbar\":{\"outlinewidth\":0,\"ticks\":\"\"}},\"marker\":{\"colorbar\":{\"outlinewidth\":0,\"ticks\":\"\"}}}],\"scattermapbox\":[{\"type\":\"scattermapbox\",\"marker\":{\"colorbar\":{\"outlinewidth\":0,\"ticks\":\"\"}}}],\"scatterternary\":[{\"type\":\"scatterternary\",\"marker\":{\"colorbar\":{\"outlinewidth\":0,\"ticks\":\"\"}}}],\"scattercarpet\":[{\"type\":\"scattercarpet\",\"marker\":{\"colorbar\":{\"outlinewidth\":0,\"ticks\":\"\"}}}],\"carpet\":[{\"aaxis\":{\"endlinecolor\":\"#2a3f5f\",\"gridcolor\":\"white\",\"linecolor\":\"white\",\"minorgridcolor\":\"white\",\"startlinecolor\":\"#2a3f5f\"},\"baxis\":{\"endlinecolor\":\"#2a3f5f\",\"gridcolor\":\"white\",\"linecolor\":\"white\",\"minorgridcolor\":\"white\",\"startlinecolor\":\"#2a3f5f\"},\"type\":\"carpet\"}],\"table\":[{\"cells\":{\"fill\":{\"color\":\"#EBF0F8\"},\"line\":{\"color\":\"white\"}},\"header\":{\"fill\":{\"color\":\"#C8D4E3\"},\"line\":{\"color\":\"white\"}},\"type\":\"table\"}],\"barpolar\":[{\"marker\":{\"line\":{\"color\":\"#E5ECF6\",\"width\":0.5},\"pattern\":{\"fillmode\":\"overlay\",\"size\":10,\"solidity\":0.2}},\"type\":\"barpolar\"}],\"pie\":[{\"automargin\":true,\"type\":\"pie\"}]},\"layout\":{\"autotypenumbers\":\"strict\",\"colorway\":[\"#636efa\",\"#EF553B\",\"#00cc96\",\"#ab63fa\",\"#FFA15A\",\"#19d3f3\",\"#FF6692\",\"#B6E880\",\"#FF97FF\",\"#FECB52\"],\"font\":{\"color\":\"#2a3f5f\"},\"hovermode\":\"closest\",\"hoverlabel\":{\"align\":\"left\"},\"paper_bgcolor\":\"white\",\"plot_bgcolor\":\"#E5ECF6\",\"polar\":{\"bgcolor\":\"#E5ECF6\",\"angularaxis\":{\"gridcolor\":\"white\",\"linecolor\":\"white\",\"ticks\":\"\"},\"radialaxis\":{\"gridcolor\":\"white\",\"linecolor\":\"white\",\"ticks\":\"\"}},\"ternary\":{\"bgcolor\":\"#E5ECF6\",\"aaxis\":{\"gridcolor\":\"white\",\"linecolor\":\"white\",\"ticks\":\"\"},\"baxis\":{\"gridcolor\":\"white\",\"linecolor\":\"white\",\"ticks\":\"\"},\"caxis\":{\"gridcolor\":\"white\",\"linecolor\":\"white\",\"ticks\":\"\"}},\"coloraxis\":{\"colorbar\":{\"outlinewidth\":0,\"ticks\":\"\"}},\"colorscale\":{\"sequential\":[[0.0,\"#0d0887\"],[0.1111111111111111,\"#46039f\"],[0.2222222222222222,\"#7201a8\"],[0.3333333333333333,\"#9c179e\"],[0.4444444444444444,\"#bd3786\"],[0.5555555555555556,\"#d8576b\"],[0.6666666666666666,\"#ed7953\"],[0.7777777777777778,\"#fb9f3a\"],[0.8888888888888888,\"#fdca26\"],[1.0,\"#f0f921\"]],\"sequentialminus\":[[0.0,\"#0d0887\"],[0.1111111111111111,\"#46039f\"],[0.2222222222222222,\"#7201a8\"],[0.3333333333333333,\"#9c179e\"],[0.4444444444444444,\"#bd3786\"],[0.5555555555555556,\"#d8576b\"],[0.6666666666666666,\"#ed7953\"],[0.7777777777777778,\"#fb9f3a\"],[0.8888888888888888,\"#fdca26\"],[1.0,\"#f0f921\"]],\"diverging\":[[0,\"#8e0152\"],[0.1,\"#c51b7d\"],[0.2,\"#de77ae\"],[0.3,\"#f1b6da\"],[0.4,\"#fde0ef\"],[0.5,\"#f7f7f7\"],[0.6,\"#e6f5d0\"],[0.7,\"#b8e186\"],[0.8,\"#7fbc41\"],[0.9,\"#4d9221\"],[1,\"#276419\"]]},\"xaxis\":{\"gridcolor\":\"white\",\"linecolor\":\"white\",\"ticks\":\"\",\"title\":{\"standoff\":15},\"zerolinecolor\":\"white\",\"automargin\":true,\"zerolinewidth\":2},\"yaxis\":{\"gridcolor\":\"white\",\"linecolor\":\"white\",\"ticks\":\"\",\"title\":{\"standoff\":15},\"zerolinecolor\":\"white\",\"automargin\":true,\"zerolinewidth\":2},\"scene\":{\"xaxis\":{\"backgroundcolor\":\"#E5ECF6\",\"gridcolor\":\"white\",\"linecolor\":\"white\",\"showbackground\":true,\"ticks\":\"\",\"zerolinecolor\":\"white\",\"gridwidth\":2},\"yaxis\":{\"backgroundcolor\":\"#E5ECF6\",\"gridcolor\":\"white\",\"linecolor\":\"white\",\"showbackground\":true,\"ticks\":\"\",\"zerolinecolor\":\"white\",\"gridwidth\":2},\"zaxis\":{\"backgroundcolor\":\"#E5ECF6\",\"gridcolor\":\"white\",\"linecolor\":\"white\",\"showbackground\":true,\"ticks\":\"\",\"zerolinecolor\":\"white\",\"gridwidth\":2}},\"shapedefaults\":{\"line\":{\"color\":\"#2a3f5f\"}},\"annotationdefaults\":{\"arrowcolor\":\"#2a3f5f\",\"arrowhead\":0,\"arrowwidth\":1},\"geo\":{\"bgcolor\":\"white\",\"landcolor\":\"#E5ECF6\",\"subunitcolor\":\"white\",\"showland\":true,\"showlakes\":true,\"lakecolor\":\"white\"},\"title\":{\"x\":0.05},\"mapbox\":{\"style\":\"light\"}}},\"title\":{\"text\":\"Top 10 Young Players: Total Goals vs (Non-Penalty + Penalty Goals)\",\"x\":0.5},\"legend\":{\"x\":0.5,\"xanchor\":\"center\",\"y\":1.1,\"orientation\":\"h\"},\"barmode\":\"group\",\"xaxis\":{\"title\":{\"text\":\"Player\"}},\"yaxis\":{\"title\":{\"text\":\"Number of Goals\"}}},                        {\"responsive\": true}                    ).then(function(){\n",
       "                            \n",
       "var gd = document.getElementById('32f01cc9-b2d2-4f53-a1f5-57459341c0a4');\n",
       "var x = new MutationObserver(function (mutations, observer) {{\n",
       "        var display = window.getComputedStyle(gd).display;\n",
       "        if (!display || display === 'none') {{\n",
       "            console.log([gd, 'removed!']);\n",
       "            Plotly.purge(gd);\n",
       "            observer.disconnect();\n",
       "        }}\n",
       "}});\n",
       "\n",
       "// Listen for the removal of the full notebook cells\n",
       "var notebookContainer = gd.closest('#notebook-container');\n",
       "if (notebookContainer) {{\n",
       "    x.observe(notebookContainer, {childList: true});\n",
       "}}\n",
       "\n",
       "// Listen for the clearing of the current output cell\n",
       "var outputEl = gd.closest('.output');\n",
       "if (outputEl) {{\n",
       "    x.observe(outputEl, {childList: true});\n",
       "}}\n",
       "\n",
       "                        })                };                            </script>        </div>\n",
       "</body>\n",
       "</html>"
      ]
     },
     "metadata": {},
     "output_type": "display_data"
    }
   ],
   "source": [
    "# Show top 10 young goal scorers, separating penalty (PK) and non-penalty (G-PK) goals.\n",
    "young_players = df_cleaned[df_cleaned['Age'] <= age_threshold].sort_values('Gls', ascending=False)\n",
    "data = young_players[['Player', 'Gls', 'G-PK', 'PK', 'Age', 'Squad', 'Min']].head(10).reset_index(drop=True)\n",
    "\n",
    "fig = go.Figure()\n",
    "\n",
    "# Bar chart for total goals.\n",
    "fig.add_trace(go.Bar(\n",
    "    x=data['Player'],\n",
    "    y=data['Gls'],\n",
    "    name='Total Goals',\n",
    "    marker_color='#2B3467',\n",
    "    offsetgroup=0,\n",
    "    hovertext=data.apply(lambda row: f\"Age: {row['Age']}<br>Club: {row['Squad']}<br>Minutes: {row['Min']}\\\\n\", axis=1)\n",
    "))\n",
    "\n",
    "# Bar chart for non-penalty goals (bottom stack).\n",
    "fig.add_trace(go.Bar(\n",
    "    x=data['Player'],\n",
    "    y=data['G-PK'],\n",
    "    name='Non-Penalty Goals',\n",
    "    marker_color='#BAD7E9',\n",
    "    offsetgroup=1,\n",
    "    base=0\n",
    "))\n",
    "\n",
    "# Bar chart for penalty goals (stacked on non-penalty).\n",
    "fig.add_trace(go.Bar(\n",
    "    x=data['Player'],\n",
    "    y=data['PK'],\n",
    "    name='Penalty Goals',\n",
    "    marker_color='#EB455F',\n",
    "    offsetgroup=1,\n",
    "    base=data['G-PK']\n",
    "))\n",
    "\n",
    "fig.update_layout(\n",
    "    barmode='group', # Grouped bars\n",
    "    title='Top 10 Young Players: Total Goals vs (Non-Penalty + Penalty Goals)',\n",
    "    xaxis_title='Player',\n",
    "    yaxis_title='Number of Goals',\n",
    "    title_x=0.5,\n",
    "    legend=dict(x=0.5, xanchor='center', y=1.1, orientation='h')\n",
    ")\n",
    "\n",
    "fig.show()"
   ]
  },
  {
   "cell_type": "code",
   "execution_count": 22,
   "id": "52695fb9",
   "metadata": {
    "_cell_guid": "b4e2d086-3200-4435-90e3-b4151fddf99b",
    "_uuid": "1e6621b0-0d32-4dd0-8a4c-51ee6781d3d0",
    "collapsed": false,
    "execution": {
     "iopub.execute_input": "2025-07-05T04:56:03.999588Z",
     "iopub.status.busy": "2025-07-05T04:56:03.998533Z",
     "iopub.status.idle": "2025-07-05T04:56:04.067320Z",
     "shell.execute_reply": "2025-07-05T04:56:04.066015Z"
    },
    "jupyter": {
     "outputs_hidden": false
    },
    "papermill": {
     "duration": 0.092377,
     "end_time": "2025-07-05T04:56:04.069299",
     "exception": false,
     "start_time": "2025-07-05T04:56:03.976922",
     "status": "completed"
    },
    "tags": []
   },
   "outputs": [
    {
     "data": {
      "text/html": [
       "<html>\n",
       "<head><meta charset=\"utf-8\" /></head>\n",
       "<body>\n",
       "    <div>            <script src=\"https://cdnjs.cloudflare.com/ajax/libs/mathjax/2.7.5/MathJax.js?config=TeX-AMS-MML_SVG\"></script><script type=\"text/javascript\">if (window.MathJax && window.MathJax.Hub && window.MathJax.Hub.Config) {window.MathJax.Hub.Config({SVG: {font: \"STIX-Web\"}});}</script>                <script type=\"text/javascript\">window.PlotlyConfig = {MathJaxConfig: 'local'};</script>\n",
       "        <script charset=\"utf-8\" src=\"https://cdn.plot.ly/plotly-2.35.2.min.js\"></script>                <div id=\"3c57c21a-0e99-4672-b65b-4de15a9ac1bc\" class=\"plotly-graph-div\" style=\"height:600px; width:1000px;\"></div>            <script type=\"text/javascript\">                                    window.PLOTLYENV=window.PLOTLYENV || {};                                    if (document.getElementById(\"3c57c21a-0e99-4672-b65b-4de15a9ac1bc\")) {                    Plotly.newPlot(                        \"3c57c21a-0e99-4672-b65b-4de15a9ac1bc\",                        [{\"marker\":{\"color\":\"#387ADF\"},\"name\":\"fr Ligue 1\",\"orientation\":\"h\",\"text\":[14.0,14.0,13.0,12.0,10.0],\"textposition\":\"auto\",\"x\":[14,14,13,12,10],\"y\":[\"Emanuel Emegha\",\"Bradley Barcola\",\"Mika Biereth\",\"Lucas Stassin\",\"Andrey Santos\"],\"type\":\"bar\",\"xaxis\":\"x\",\"yaxis\":\"y\"},{\"marker\":{\"color\":\"#387ADF\"},\"name\":\"es La Liga\",\"orientation\":\"h\",\"text\":[11.0,9.0,9.0,6.0,6.0],\"textposition\":\"auto\",\"x\":[11,9,9,6,6],\"y\":[\"Thierno Barry\",\"Lamine Yamal\",\"Jude Bellingham\",\"Fermin López\",\"Alberto Moleiro\"],\"type\":\"bar\",\"xaxis\":\"x2\",\"yaxis\":\"y2\"},{\"marker\":{\"color\":\"#387ADF\"},\"name\":\"it Serie A\",\"orientation\":\"h\",\"text\":[8.0,8.0,7.0,6.0,6.0],\"textposition\":\"auto\",\"x\":[8,8,7,6,6],\"y\":[\"Assane Diao\",\"Santiago Castro\",\"Kenan Yıldız\",\"Ange-Yoan Bonny\",\"Nicolás Paz\"],\"type\":\"bar\",\"xaxis\":\"x3\",\"yaxis\":\"y3\"},{\"marker\":{\"color\":\"#387ADF\"},\"name\":\"eng Premier League\",\"orientation\":\"h\",\"text\":[12.0,7.0,6.0,6.0,5.0],\"textposition\":\"auto\",\"x\":[12,7,6,6,5],\"y\":[\"Liam Delap\",\"Jáder Durán\",\"Alejandro Garnacho\",\"Yankuba Minteh\",\"Facundo Buonanotte\"],\"type\":\"bar\",\"xaxis\":\"x4\",\"yaxis\":\"y4\"},{\"marker\":{\"color\":\"#387ADF\"},\"name\":\"de Bundesliga\",\"orientation\":\"h\",\"text\":[13.0,12.0,10.0,10.0,10.0],\"textposition\":\"auto\",\"x\":[13,12,10,10,10],\"y\":[\"Benjamin Šeško\",\"Jamal Musiala\",\"Paul Nebel\",\"Xavi Simons\",\"Florian Wirtz\"],\"type\":\"bar\",\"xaxis\":\"x5\",\"yaxis\":\"y5\"}],                        {\"template\":{\"data\":{\"histogram2dcontour\":[{\"type\":\"histogram2dcontour\",\"colorbar\":{\"outlinewidth\":0,\"ticks\":\"\"},\"colorscale\":[[0.0,\"#0d0887\"],[0.1111111111111111,\"#46039f\"],[0.2222222222222222,\"#7201a8\"],[0.3333333333333333,\"#9c179e\"],[0.4444444444444444,\"#bd3786\"],[0.5555555555555556,\"#d8576b\"],[0.6666666666666666,\"#ed7953\"],[0.7777777777777778,\"#fb9f3a\"],[0.8888888888888888,\"#fdca26\"],[1.0,\"#f0f921\"]]}],\"choropleth\":[{\"type\":\"choropleth\",\"colorbar\":{\"outlinewidth\":0,\"ticks\":\"\"}}],\"histogram2d\":[{\"type\":\"histogram2d\",\"colorbar\":{\"outlinewidth\":0,\"ticks\":\"\"},\"colorscale\":[[0.0,\"#0d0887\"],[0.1111111111111111,\"#46039f\"],[0.2222222222222222,\"#7201a8\"],[0.3333333333333333,\"#9c179e\"],[0.4444444444444444,\"#bd3786\"],[0.5555555555555556,\"#d8576b\"],[0.6666666666666666,\"#ed7953\"],[0.7777777777777778,\"#fb9f3a\"],[0.8888888888888888,\"#fdca26\"],[1.0,\"#f0f921\"]]}],\"heatmap\":[{\"type\":\"heatmap\",\"colorbar\":{\"outlinewidth\":0,\"ticks\":\"\"},\"colorscale\":[[0.0,\"#0d0887\"],[0.1111111111111111,\"#46039f\"],[0.2222222222222222,\"#7201a8\"],[0.3333333333333333,\"#9c179e\"],[0.4444444444444444,\"#bd3786\"],[0.5555555555555556,\"#d8576b\"],[0.6666666666666666,\"#ed7953\"],[0.7777777777777778,\"#fb9f3a\"],[0.8888888888888888,\"#fdca26\"],[1.0,\"#f0f921\"]]}],\"heatmapgl\":[{\"type\":\"heatmapgl\",\"colorbar\":{\"outlinewidth\":0,\"ticks\":\"\"},\"colorscale\":[[0.0,\"#0d0887\"],[0.1111111111111111,\"#46039f\"],[0.2222222222222222,\"#7201a8\"],[0.3333333333333333,\"#9c179e\"],[0.4444444444444444,\"#bd3786\"],[0.5555555555555556,\"#d8576b\"],[0.6666666666666666,\"#ed7953\"],[0.7777777777777778,\"#fb9f3a\"],[0.8888888888888888,\"#fdca26\"],[1.0,\"#f0f921\"]]}],\"contourcarpet\":[{\"type\":\"contourcarpet\",\"colorbar\":{\"outlinewidth\":0,\"ticks\":\"\"}}],\"contour\":[{\"type\":\"contour\",\"colorbar\":{\"outlinewidth\":0,\"ticks\":\"\"},\"colorscale\":[[0.0,\"#0d0887\"],[0.1111111111111111,\"#46039f\"],[0.2222222222222222,\"#7201a8\"],[0.3333333333333333,\"#9c179e\"],[0.4444444444444444,\"#bd3786\"],[0.5555555555555556,\"#d8576b\"],[0.6666666666666666,\"#ed7953\"],[0.7777777777777778,\"#fb9f3a\"],[0.8888888888888888,\"#fdca26\"],[1.0,\"#f0f921\"]]}],\"surface\":[{\"type\":\"surface\",\"colorbar\":{\"outlinewidth\":0,\"ticks\":\"\"},\"colorscale\":[[0.0,\"#0d0887\"],[0.1111111111111111,\"#46039f\"],[0.2222222222222222,\"#7201a8\"],[0.3333333333333333,\"#9c179e\"],[0.4444444444444444,\"#bd3786\"],[0.5555555555555556,\"#d8576b\"],[0.6666666666666666,\"#ed7953\"],[0.7777777777777778,\"#fb9f3a\"],[0.8888888888888888,\"#fdca26\"],[1.0,\"#f0f921\"]]}],\"mesh3d\":[{\"type\":\"mesh3d\",\"colorbar\":{\"outlinewidth\":0,\"ticks\":\"\"}}],\"scatter\":[{\"fillpattern\":{\"fillmode\":\"overlay\",\"size\":10,\"solidity\":0.2},\"type\":\"scatter\"}],\"parcoords\":[{\"type\":\"parcoords\",\"line\":{\"colorbar\":{\"outlinewidth\":0,\"ticks\":\"\"}}}],\"scatterpolargl\":[{\"type\":\"scatterpolargl\",\"marker\":{\"colorbar\":{\"outlinewidth\":0,\"ticks\":\"\"}}}],\"bar\":[{\"error_x\":{\"color\":\"#2a3f5f\"},\"error_y\":{\"color\":\"#2a3f5f\"},\"marker\":{\"line\":{\"color\":\"#E5ECF6\",\"width\":0.5},\"pattern\":{\"fillmode\":\"overlay\",\"size\":10,\"solidity\":0.2}},\"type\":\"bar\"}],\"scattergeo\":[{\"type\":\"scattergeo\",\"marker\":{\"colorbar\":{\"outlinewidth\":0,\"ticks\":\"\"}}}],\"scatterpolar\":[{\"type\":\"scatterpolar\",\"marker\":{\"colorbar\":{\"outlinewidth\":0,\"ticks\":\"\"}}}],\"histogram\":[{\"marker\":{\"pattern\":{\"fillmode\":\"overlay\",\"size\":10,\"solidity\":0.2}},\"type\":\"histogram\"}],\"scattergl\":[{\"type\":\"scattergl\",\"marker\":{\"colorbar\":{\"outlinewidth\":0,\"ticks\":\"\"}}}],\"scatter3d\":[{\"type\":\"scatter3d\",\"line\":{\"colorbar\":{\"outlinewidth\":0,\"ticks\":\"\"}},\"marker\":{\"colorbar\":{\"outlinewidth\":0,\"ticks\":\"\"}}}],\"scattermapbox\":[{\"type\":\"scattermapbox\",\"marker\":{\"colorbar\":{\"outlinewidth\":0,\"ticks\":\"\"}}}],\"scatterternary\":[{\"type\":\"scatterternary\",\"marker\":{\"colorbar\":{\"outlinewidth\":0,\"ticks\":\"\"}}}],\"scattercarpet\":[{\"type\":\"scattercarpet\",\"marker\":{\"colorbar\":{\"outlinewidth\":0,\"ticks\":\"\"}}}],\"carpet\":[{\"aaxis\":{\"endlinecolor\":\"#2a3f5f\",\"gridcolor\":\"white\",\"linecolor\":\"white\",\"minorgridcolor\":\"white\",\"startlinecolor\":\"#2a3f5f\"},\"baxis\":{\"endlinecolor\":\"#2a3f5f\",\"gridcolor\":\"white\",\"linecolor\":\"white\",\"minorgridcolor\":\"white\",\"startlinecolor\":\"#2a3f5f\"},\"type\":\"carpet\"}],\"table\":[{\"cells\":{\"fill\":{\"color\":\"#EBF0F8\"},\"line\":{\"color\":\"white\"}},\"header\":{\"fill\":{\"color\":\"#C8D4E3\"},\"line\":{\"color\":\"white\"}},\"type\":\"table\"}],\"barpolar\":[{\"marker\":{\"line\":{\"color\":\"#E5ECF6\",\"width\":0.5},\"pattern\":{\"fillmode\":\"overlay\",\"size\":10,\"solidity\":0.2}},\"type\":\"barpolar\"}],\"pie\":[{\"automargin\":true,\"type\":\"pie\"}]},\"layout\":{\"autotypenumbers\":\"strict\",\"colorway\":[\"#636efa\",\"#EF553B\",\"#00cc96\",\"#ab63fa\",\"#FFA15A\",\"#19d3f3\",\"#FF6692\",\"#B6E880\",\"#FF97FF\",\"#FECB52\"],\"font\":{\"color\":\"#2a3f5f\"},\"hovermode\":\"closest\",\"hoverlabel\":{\"align\":\"left\"},\"paper_bgcolor\":\"white\",\"plot_bgcolor\":\"#E5ECF6\",\"polar\":{\"bgcolor\":\"#E5ECF6\",\"angularaxis\":{\"gridcolor\":\"white\",\"linecolor\":\"white\",\"ticks\":\"\"},\"radialaxis\":{\"gridcolor\":\"white\",\"linecolor\":\"white\",\"ticks\":\"\"}},\"ternary\":{\"bgcolor\":\"#E5ECF6\",\"aaxis\":{\"gridcolor\":\"white\",\"linecolor\":\"white\",\"ticks\":\"\"},\"baxis\":{\"gridcolor\":\"white\",\"linecolor\":\"white\",\"ticks\":\"\"},\"caxis\":{\"gridcolor\":\"white\",\"linecolor\":\"white\",\"ticks\":\"\"}},\"coloraxis\":{\"colorbar\":{\"outlinewidth\":0,\"ticks\":\"\"}},\"colorscale\":{\"sequential\":[[0.0,\"#0d0887\"],[0.1111111111111111,\"#46039f\"],[0.2222222222222222,\"#7201a8\"],[0.3333333333333333,\"#9c179e\"],[0.4444444444444444,\"#bd3786\"],[0.5555555555555556,\"#d8576b\"],[0.6666666666666666,\"#ed7953\"],[0.7777777777777778,\"#fb9f3a\"],[0.8888888888888888,\"#fdca26\"],[1.0,\"#f0f921\"]],\"sequentialminus\":[[0.0,\"#0d0887\"],[0.1111111111111111,\"#46039f\"],[0.2222222222222222,\"#7201a8\"],[0.3333333333333333,\"#9c179e\"],[0.4444444444444444,\"#bd3786\"],[0.5555555555555556,\"#d8576b\"],[0.6666666666666666,\"#ed7953\"],[0.7777777777777778,\"#fb9f3a\"],[0.8888888888888888,\"#fdca26\"],[1.0,\"#f0f921\"]],\"diverging\":[[0,\"#8e0152\"],[0.1,\"#c51b7d\"],[0.2,\"#de77ae\"],[0.3,\"#f1b6da\"],[0.4,\"#fde0ef\"],[0.5,\"#f7f7f7\"],[0.6,\"#e6f5d0\"],[0.7,\"#b8e186\"],[0.8,\"#7fbc41\"],[0.9,\"#4d9221\"],[1,\"#276419\"]]},\"xaxis\":{\"gridcolor\":\"white\",\"linecolor\":\"white\",\"ticks\":\"\",\"title\":{\"standoff\":15},\"zerolinecolor\":\"white\",\"automargin\":true,\"zerolinewidth\":2},\"yaxis\":{\"gridcolor\":\"white\",\"linecolor\":\"white\",\"ticks\":\"\",\"title\":{\"standoff\":15},\"zerolinecolor\":\"white\",\"automargin\":true,\"zerolinewidth\":2},\"scene\":{\"xaxis\":{\"backgroundcolor\":\"#E5ECF6\",\"gridcolor\":\"white\",\"linecolor\":\"white\",\"showbackground\":true,\"ticks\":\"\",\"zerolinecolor\":\"white\",\"gridwidth\":2},\"yaxis\":{\"backgroundcolor\":\"#E5ECF6\",\"gridcolor\":\"white\",\"linecolor\":\"white\",\"showbackground\":true,\"ticks\":\"\",\"zerolinecolor\":\"white\",\"gridwidth\":2},\"zaxis\":{\"backgroundcolor\":\"#E5ECF6\",\"gridcolor\":\"white\",\"linecolor\":\"white\",\"showbackground\":true,\"ticks\":\"\",\"zerolinecolor\":\"white\",\"gridwidth\":2}},\"shapedefaults\":{\"line\":{\"color\":\"#2a3f5f\"}},\"annotationdefaults\":{\"arrowcolor\":\"#2a3f5f\",\"arrowhead\":0,\"arrowwidth\":1},\"geo\":{\"bgcolor\":\"white\",\"landcolor\":\"#E5ECF6\",\"subunitcolor\":\"white\",\"showland\":true,\"showlakes\":true,\"lakecolor\":\"white\"},\"title\":{\"x\":0.05},\"mapbox\":{\"style\":\"light\"}}},\"xaxis\":{\"anchor\":\"y\",\"domain\":[0.0,0.26666666666666666]},\"yaxis\":{\"anchor\":\"x\",\"domain\":[0.575,1.0],\"autorange\":\"reversed\"},\"xaxis2\":{\"anchor\":\"y2\",\"domain\":[0.3666666666666667,0.6333333333333333]},\"yaxis2\":{\"anchor\":\"x2\",\"domain\":[0.575,1.0],\"autorange\":\"reversed\"},\"xaxis3\":{\"anchor\":\"y3\",\"domain\":[0.7333333333333334,1.0]},\"yaxis3\":{\"anchor\":\"x3\",\"domain\":[0.575,1.0],\"autorange\":\"reversed\"},\"xaxis4\":{\"anchor\":\"y4\",\"domain\":[0.0,0.26666666666666666]},\"yaxis4\":{\"anchor\":\"x4\",\"domain\":[0.0,0.425],\"autorange\":\"reversed\"},\"xaxis5\":{\"anchor\":\"y5\",\"domain\":[0.3666666666666667,0.6333333333333333]},\"yaxis5\":{\"anchor\":\"x5\",\"domain\":[0.0,0.425],\"autorange\":\"reversed\"},\"xaxis6\":{\"anchor\":\"y6\",\"domain\":[0.7333333333333334,1.0]},\"yaxis6\":{\"anchor\":\"x6\",\"domain\":[0.0,0.425]},\"annotations\":[{\"font\":{\"size\":16},\"showarrow\":false,\"text\":\"fr Ligue 1\",\"x\":0.13333333333333333,\"xanchor\":\"center\",\"xref\":\"paper\",\"y\":1.0,\"yanchor\":\"bottom\",\"yref\":\"paper\"},{\"font\":{\"size\":16},\"showarrow\":false,\"text\":\"es La Liga\",\"x\":0.5,\"xanchor\":\"center\",\"xref\":\"paper\",\"y\":1.0,\"yanchor\":\"bottom\",\"yref\":\"paper\"},{\"font\":{\"size\":16},\"showarrow\":false,\"text\":\"it Serie A\",\"x\":0.8666666666666667,\"xanchor\":\"center\",\"xref\":\"paper\",\"y\":1.0,\"yanchor\":\"bottom\",\"yref\":\"paper\"},{\"font\":{\"size\":16},\"showarrow\":false,\"text\":\"eng Premier League\",\"x\":0.13333333333333333,\"xanchor\":\"center\",\"xref\":\"paper\",\"y\":0.425,\"yanchor\":\"bottom\",\"yref\":\"paper\"},{\"font\":{\"size\":16},\"showarrow\":false,\"text\":\"de Bundesliga\",\"x\":0.5,\"xanchor\":\"center\",\"xref\":\"paper\",\"y\":0.425,\"yanchor\":\"bottom\",\"yref\":\"paper\"}],\"title\":{\"text\":\"Top 5 Young Goal Scorers (≤ 21.0 Years) per League\",\"x\":0.5},\"height\":600,\"width\":1000,\"showlegend\":false},                        {\"responsive\": true}                    ).then(function(){\n",
       "                            \n",
       "var gd = document.getElementById('3c57c21a-0e99-4672-b65b-4de15a9ac1bc');\n",
       "var x = new MutationObserver(function (mutations, observer) {{\n",
       "        var display = window.getComputedStyle(gd).display;\n",
       "        if (!display || display === 'none') {{\n",
       "            console.log([gd, 'removed!']);\n",
       "            Plotly.purge(gd);\n",
       "            observer.disconnect();\n",
       "        }}\n",
       "}});\n",
       "\n",
       "// Listen for the removal of the full notebook cells\n",
       "var notebookContainer = gd.closest('#notebook-container');\n",
       "if (notebookContainer) {{\n",
       "    x.observe(notebookContainer, {childList: true});\n",
       "}}\n",
       "\n",
       "// Listen for the clearing of the current output cell\n",
       "var outputEl = gd.closest('.output');\n",
       "if (outputEl) {{\n",
       "    x.observe(outputEl, {childList: true});\n",
       "}}\n",
       "\n",
       "                        })                };                            </script>        </div>\n",
       "</body>\n",
       "</html>"
      ]
     },
     "metadata": {},
     "output_type": "display_data"
    }
   ],
   "source": [
    "# Show top 5 young goal scorers from each league.\n",
    "leagues = young_players['Comp'].value_counts().head(6).index.tolist()\n",
    "\n",
    "fig = make_subplots(\n",
    "    rows=2, cols=3,\n",
    "    subplot_titles=[f\"{liga}\" for liga in leagues],\n",
    "    horizontal_spacing=0.1,\n",
    "    vertical_spacing=0.15\n",
    ")\n",
    "\n",
    "for idx, liga in enumerate(leagues):\n",
    "    row = idx // 3 + 1\n",
    "    col = idx % 3 + 1\n",
    "\n",
    "    data = young_players[young_players['Comp'] == liga].sort_values('Gls', ascending=False).head(5)\n",
    "\n",
    "    fig.add_trace(go.Bar(\n",
    "        x=data['Gls'],\n",
    "        y=data['Player'],\n",
    "        orientation='h',\n",
    "        name=liga,\n",
    "        marker_color='#387ADF',\n",
    "        text=data['Gls'],\n",
    "        textposition='auto'\n",
    "    ), row=row, col=col)\n",
    "\n",
    "    fig.update_yaxes(autorange='reversed', row=row, col=col)\n",
    "\n",
    "fig.update_layout(\n",
    "    height=600,\n",
    "    width=1000,\n",
    "    title_text=f\"Top 5 Young Goal Scorers (≤ {age_threshold:.1f} Years) per League\",\n",
    "    showlegend=False,\n",
    "    title_x=0.5\n",
    ")\n",
    "\n",
    "fig.show()"
   ]
  },
  {
   "cell_type": "markdown",
   "id": "6fe91506",
   "metadata": {
    "_cell_guid": "df6ac674-bcff-478e-9c95-d4adc3d491db",
    "_uuid": "9dfa7cd9-a0ee-4bdb-bcc7-1cc789adf2ac",
    "collapsed": false,
    "jupyter": {
     "outputs_hidden": false
    },
    "papermill": {
     "duration": 0.021258,
     "end_time": "2025-07-05T04:56:04.125186",
     "exception": false,
     "start_time": "2025-07-05T04:56:04.103928",
     "status": "completed"
    },
    "tags": []
   },
   "source": [
    "1. **Diverse Distribution of Top Young Scorers per League:**\n",
    "    - Ligue 1 stands out with two top scorers (Emanuel Emegha and Bradley Barcola) both scoring 14 goals.\n",
    "    - Bundesliga also has highly productive young scorers, especially Benjamin Šeško (13) and Jamal Musiala (12).\n",
    "    - Premier League and La Liga top scorers have 12 (Liam Delap) and 11 (Thierno Barry) goals respectively.\n",
    "    - Serie A has the lowest top scorers (8 goals each for Assane Diao and Santiago Castro), consistent with fewer minutes.\n",
    "\n",
    "2. **High Effectiveness of Non-Penalty Goals:**\n",
    "    - Most goals by young players are from open play. Emanuel Emegha and Bradley Barcola scored all 14 goals without penalties.\n",
    "    - Players like Benjamin Šeško, Mika Biereth, and Liam Delap have significant penalty contributions but still high open-play goals.\n",
    "\n",
    "3. **Young Players Already Key Goal Threats:**\n",
    "    - Scoring 12-14 goals in a season shows these young players are already significant threats.\n",
    "\n",
    "4. **Offensive Quality in Ligue 1 and Bundesliga:**\n",
    "    - These leagues, especially Ligue 1, feature the most prolific young scorers reaching double digits.\n",
    "\n",
    "5. **Importance of Goal Contributions:**\n",
    "    - Given young players contribute ~14% of total goals, these top scorers drive that contribution, showing real impact."
   ]
  },
  {
   "cell_type": "code",
   "execution_count": 23,
   "id": "ea8c11f1",
   "metadata": {
    "_cell_guid": "03287b1c-0e66-4aa4-ae0b-5aaedbf00b6a",
    "_uuid": "fb8a1c63-3930-4759-a4d4-be2592567fa7",
    "collapsed": false,
    "execution": {
     "iopub.execute_input": "2025-07-05T04:56:04.173882Z",
     "iopub.status.busy": "2025-07-05T04:56:04.173524Z",
     "iopub.status.idle": "2025-07-05T04:56:04.231620Z",
     "shell.execute_reply": "2025-07-05T04:56:04.230579Z"
    },
    "jupyter": {
     "outputs_hidden": false
    },
    "papermill": {
     "duration": 0.081098,
     "end_time": "2025-07-05T04:56:04.233163",
     "exception": false,
     "start_time": "2025-07-05T04:56:04.152065",
     "status": "completed"
    },
    "tags": []
   },
   "outputs": [
    {
     "data": {
      "text/html": [
       "<html>\n",
       "<head><meta charset=\"utf-8\" /></head>\n",
       "<body>\n",
       "    <div>            <script src=\"https://cdnjs.cloudflare.com/ajax/libs/mathjax/2.7.5/MathJax.js?config=TeX-AMS-MML_SVG\"></script><script type=\"text/javascript\">if (window.MathJax && window.MathJax.Hub && window.MathJax.Hub.Config) {window.MathJax.Hub.Config({SVG: {font: \"STIX-Web\"}});}</script>                <script type=\"text/javascript\">window.PlotlyConfig = {MathJaxConfig: 'local'};</script>\n",
       "        <script charset=\"utf-8\" src=\"https://cdn.plot.ly/plotly-2.35.2.min.js\"></script>                <div id=\"b8ce65a1-524f-4e0b-b29b-7f0f67151991\" class=\"plotly-graph-div\" style=\"height:600px; width:1000px;\"></div>            <script type=\"text/javascript\">                                    window.PLOTLYENV=window.PLOTLYENV || {};                                    if (document.getElementById(\"b8ce65a1-524f-4e0b-b29b-7f0f67151991\")) {                    Plotly.newPlot(                        \"b8ce65a1-524f-4e0b-b29b-7f0f67151991\",                        [{\"marker\":{\"color\":\"#FBA834\"},\"name\":\"fr Ligue 1\",\"orientation\":\"h\",\"text\":[11.0,10.0,8.0,8.0,7.0],\"textposition\":\"auto\",\"x\":[11,10,8,8,7],\"y\":[\"Rayan Cherki\",\"Bradley Barcola\",\"João Neves\",\"Dilane Bakwa\",\"Diego Moreira\"],\"type\":\"bar\",\"xaxis\":\"x\",\"yaxis\":\"y\"},{\"marker\":{\"color\":\"#FBA834\"},\"name\":\"es La Liga\",\"orientation\":\"h\",\"text\":[13.0,8.0,7.0,6.0,6.0],\"textposition\":\"auto\",\"x\":[13,8,7,6,6],\"y\":[\"Lamine Yamal\",\"Jude Bellingham\",\"Yeremi Pino\",\"Christantus Uche\",\"Giuliano Simeone\"],\"type\":\"bar\",\"xaxis\":\"x2\",\"yaxis\":\"y2\"},{\"marker\":{\"color\":\"#FBA834\"},\"name\":\"it Serie A\",\"orientation\":\"h\",\"text\":[8.0,5.0,4.0,4.0,4.0],\"textposition\":\"auto\",\"x\":[8,5,4,4,4],\"y\":[\"Nicolás Paz\",\"Matìas Soulé\",\"Kenan Yıldız\",\"Ange-Yoan Bonny\",\"Santiago Castro\"],\"type\":\"bar\",\"xaxis\":\"x3\",\"yaxis\":\"y3\"},{\"marker\":{\"color\":\"#FBA834\"},\"name\":\"eng Premier League\",\"orientation\":\"h\",\"text\":[8.0,6.0,5.0,4.0,4.0],\"textposition\":\"auto\",\"x\":[8,6,5,4,4],\"y\":[\"Sávio\",\"Elliot Anderson\",\"Milos Kerkez\",\"Lewis Hall\",\"Yankuba Minteh\"],\"type\":\"bar\",\"xaxis\":\"x4\",\"yaxis\":\"y4\"},{\"marker\":{\"color\":\"#FBA834\"},\"name\":\"de Bundesliga\",\"orientation\":\"h\",\"text\":[12.0,6.0,6.0,5.0,5.0],\"textposition\":\"auto\",\"x\":[12,6,6,5,5],\"y\":[\"Florian Wirtz\",\"Nathaniel Brown\",\"Xavi Simons\",\"Benjamin Šeško\",\"Maximilian Beier\"],\"type\":\"bar\",\"xaxis\":\"x5\",\"yaxis\":\"y5\"}],                        {\"template\":{\"data\":{\"histogram2dcontour\":[{\"type\":\"histogram2dcontour\",\"colorbar\":{\"outlinewidth\":0,\"ticks\":\"\"},\"colorscale\":[[0.0,\"#0d0887\"],[0.1111111111111111,\"#46039f\"],[0.2222222222222222,\"#7201a8\"],[0.3333333333333333,\"#9c179e\"],[0.4444444444444444,\"#bd3786\"],[0.5555555555555556,\"#d8576b\"],[0.6666666666666666,\"#ed7953\"],[0.7777777777777778,\"#fb9f3a\"],[0.8888888888888888,\"#fdca26\"],[1.0,\"#f0f921\"]]}],\"choropleth\":[{\"type\":\"choropleth\",\"colorbar\":{\"outlinewidth\":0,\"ticks\":\"\"}}],\"histogram2d\":[{\"type\":\"histogram2d\",\"colorbar\":{\"outlinewidth\":0,\"ticks\":\"\"},\"colorscale\":[[0.0,\"#0d0887\"],[0.1111111111111111,\"#46039f\"],[0.2222222222222222,\"#7201a8\"],[0.3333333333333333,\"#9c179e\"],[0.4444444444444444,\"#bd3786\"],[0.5555555555555556,\"#d8576b\"],[0.6666666666666666,\"#ed7953\"],[0.7777777777777778,\"#fb9f3a\"],[0.8888888888888888,\"#fdca26\"],[1.0,\"#f0f921\"]]}],\"heatmap\":[{\"type\":\"heatmap\",\"colorbar\":{\"outlinewidth\":0,\"ticks\":\"\"},\"colorscale\":[[0.0,\"#0d0887\"],[0.1111111111111111,\"#46039f\"],[0.2222222222222222,\"#7201a8\"],[0.3333333333333333,\"#9c179e\"],[0.4444444444444444,\"#bd3786\"],[0.5555555555555556,\"#d8576b\"],[0.6666666666666666,\"#ed7953\"],[0.7777777777777778,\"#fb9f3a\"],[0.8888888888888888,\"#fdca26\"],[1.0,\"#f0f921\"]]}],\"heatmapgl\":[{\"type\":\"heatmapgl\",\"colorbar\":{\"outlinewidth\":0,\"ticks\":\"\"},\"colorscale\":[[0.0,\"#0d0887\"],[0.1111111111111111,\"#46039f\"],[0.2222222222222222,\"#7201a8\"],[0.3333333333333333,\"#9c179e\"],[0.4444444444444444,\"#bd3786\"],[0.5555555555555556,\"#d8576b\"],[0.6666666666666666,\"#ed7953\"],[0.7777777777777778,\"#fb9f3a\"],[0.8888888888888888,\"#fdca26\"],[1.0,\"#f0f921\"]]}],\"contourcarpet\":[{\"type\":\"contourcarpet\",\"colorbar\":{\"outlinewidth\":0,\"ticks\":\"\"}}],\"contour\":[{\"type\":\"contour\",\"colorbar\":{\"outlinewidth\":0,\"ticks\":\"\"},\"colorscale\":[[0.0,\"#0d0887\"],[0.1111111111111111,\"#46039f\"],[0.2222222222222222,\"#7201a8\"],[0.3333333333333333,\"#9c179e\"],[0.4444444444444444,\"#bd3786\"],[0.5555555555555556,\"#d8576b\"],[0.6666666666666666,\"#ed7953\"],[0.7777777777777778,\"#fb9f3a\"],[0.8888888888888888,\"#fdca26\"],[1.0,\"#f0f921\"]]}],\"surface\":[{\"type\":\"surface\",\"colorbar\":{\"outlinewidth\":0,\"ticks\":\"\"},\"colorscale\":[[0.0,\"#0d0887\"],[0.1111111111111111,\"#46039f\"],[0.2222222222222222,\"#7201a8\"],[0.3333333333333333,\"#9c179e\"],[0.4444444444444444,\"#bd3786\"],[0.5555555555555556,\"#d8576b\"],[0.6666666666666666,\"#ed7953\"],[0.7777777777777778,\"#fb9f3a\"],[0.8888888888888888,\"#fdca26\"],[1.0,\"#f0f921\"]]}],\"mesh3d\":[{\"type\":\"mesh3d\",\"colorbar\":{\"outlinewidth\":0,\"ticks\":\"\"}}],\"scatter\":[{\"fillpattern\":{\"fillmode\":\"overlay\",\"size\":10,\"solidity\":0.2},\"type\":\"scatter\"}],\"parcoords\":[{\"type\":\"parcoords\",\"line\":{\"colorbar\":{\"outlinewidth\":0,\"ticks\":\"\"}}}],\"scatterpolargl\":[{\"type\":\"scatterpolargl\",\"marker\":{\"colorbar\":{\"outlinewidth\":0,\"ticks\":\"\"}}}],\"bar\":[{\"error_x\":{\"color\":\"#2a3f5f\"},\"error_y\":{\"color\":\"#2a3f5f\"},\"marker\":{\"line\":{\"color\":\"#E5ECF6\",\"width\":0.5},\"pattern\":{\"fillmode\":\"overlay\",\"size\":10,\"solidity\":0.2}},\"type\":\"bar\"}],\"scattergeo\":[{\"type\":\"scattergeo\",\"marker\":{\"colorbar\":{\"outlinewidth\":0,\"ticks\":\"\"}}}],\"scatterpolar\":[{\"type\":\"scatterpolar\",\"marker\":{\"colorbar\":{\"outlinewidth\":0,\"ticks\":\"\"}}}],\"histogram\":[{\"marker\":{\"pattern\":{\"fillmode\":\"overlay\",\"size\":10,\"solidity\":0.2}},\"type\":\"histogram\"}],\"scattergl\":[{\"type\":\"scattergl\",\"marker\":{\"colorbar\":{\"outlinewidth\":0,\"ticks\":\"\"}}}],\"scatter3d\":[{\"type\":\"scatter3d\",\"line\":{\"colorbar\":{\"outlinewidth\":0,\"ticks\":\"\"}},\"marker\":{\"colorbar\":{\"outlinewidth\":0,\"ticks\":\"\"}}}],\"scattermapbox\":[{\"type\":\"scattermapbox\",\"marker\":{\"colorbar\":{\"outlinewidth\":0,\"ticks\":\"\"}}}],\"scatterternary\":[{\"type\":\"scatterternary\",\"marker\":{\"colorbar\":{\"outlinewidth\":0,\"ticks\":\"\"}}}],\"scattercarpet\":[{\"type\":\"scattercarpet\",\"marker\":{\"colorbar\":{\"outlinewidth\":0,\"ticks\":\"\"}}}],\"carpet\":[{\"aaxis\":{\"endlinecolor\":\"#2a3f5f\",\"gridcolor\":\"white\",\"linecolor\":\"white\",\"minorgridcolor\":\"white\",\"startlinecolor\":\"#2a3f5f\"},\"baxis\":{\"endlinecolor\":\"#2a3f5f\",\"gridcolor\":\"white\",\"linecolor\":\"white\",\"minorgridcolor\":\"white\",\"startlinecolor\":\"#2a3f5f\"},\"type\":\"carpet\"}],\"table\":[{\"cells\":{\"fill\":{\"color\":\"#EBF0F8\"},\"line\":{\"color\":\"white\"}},\"header\":{\"fill\":{\"color\":\"#C8D4E3\"},\"line\":{\"color\":\"white\"}},\"type\":\"table\"}],\"barpolar\":[{\"marker\":{\"line\":{\"color\":\"#E5ECF6\",\"width\":0.5},\"pattern\":{\"fillmode\":\"overlay\",\"size\":10,\"solidity\":0.2}},\"type\":\"barpolar\"}],\"pie\":[{\"automargin\":true,\"type\":\"pie\"}]},\"layout\":{\"autotypenumbers\":\"strict\",\"colorway\":[\"#636efa\",\"#EF553B\",\"#00cc96\",\"#ab63fa\",\"#FFA15A\",\"#19d3f3\",\"#FF6692\",\"#B6E880\",\"#FF97FF\",\"#FECB52\"],\"font\":{\"color\":\"#2a3f5f\"},\"hovermode\":\"closest\",\"hoverlabel\":{\"align\":\"left\"},\"paper_bgcolor\":\"white\",\"plot_bgcolor\":\"#E5ECF6\",\"polar\":{\"bgcolor\":\"#E5ECF6\",\"angularaxis\":{\"gridcolor\":\"white\",\"linecolor\":\"white\",\"ticks\":\"\"},\"radialaxis\":{\"gridcolor\":\"white\",\"linecolor\":\"white\",\"ticks\":\"\"}},\"ternary\":{\"bgcolor\":\"#E5ECF6\",\"aaxis\":{\"gridcolor\":\"white\",\"linecolor\":\"white\",\"ticks\":\"\"},\"baxis\":{\"gridcolor\":\"white\",\"linecolor\":\"white\",\"ticks\":\"\"},\"caxis\":{\"gridcolor\":\"white\",\"linecolor\":\"white\",\"ticks\":\"\"}},\"coloraxis\":{\"colorbar\":{\"outlinewidth\":0,\"ticks\":\"\"}},\"colorscale\":{\"sequential\":[[0.0,\"#0d0887\"],[0.1111111111111111,\"#46039f\"],[0.2222222222222222,\"#7201a8\"],[0.3333333333333333,\"#9c179e\"],[0.4444444444444444,\"#bd3786\"],[0.5555555555555556,\"#d8576b\"],[0.6666666666666666,\"#ed7953\"],[0.7777777777777778,\"#fb9f3a\"],[0.8888888888888888,\"#fdca26\"],[1.0,\"#f0f921\"]],\"sequentialminus\":[[0.0,\"#0d0887\"],[0.1111111111111111,\"#46039f\"],[0.2222222222222222,\"#7201a8\"],[0.3333333333333333,\"#9c179e\"],[0.4444444444444444,\"#bd3786\"],[0.5555555555555556,\"#d8576b\"],[0.6666666666666666,\"#ed7953\"],[0.7777777777777778,\"#fb9f3a\"],[0.8888888888888888,\"#fdca26\"],[1.0,\"#f0f921\"]],\"diverging\":[[0,\"#8e0152\"],[0.1,\"#c51b7d\"],[0.2,\"#de77ae\"],[0.3,\"#f1b6da\"],[0.4,\"#fde0ef\"],[0.5,\"#f7f7f7\"],[0.6,\"#e6f5d0\"],[0.7,\"#b8e186\"],[0.8,\"#7fbc41\"],[0.9,\"#4d9221\"],[1,\"#276419\"]]},\"xaxis\":{\"gridcolor\":\"white\",\"linecolor\":\"white\",\"ticks\":\"\",\"title\":{\"standoff\":15},\"zerolinecolor\":\"white\",\"automargin\":true,\"zerolinewidth\":2},\"yaxis\":{\"gridcolor\":\"white\",\"linecolor\":\"white\",\"ticks\":\"\",\"title\":{\"standoff\":15},\"zerolinecolor\":\"white\",\"automargin\":true,\"zerolinewidth\":2},\"scene\":{\"xaxis\":{\"backgroundcolor\":\"#E5ECF6\",\"gridcolor\":\"white\",\"linecolor\":\"white\",\"showbackground\":true,\"ticks\":\"\",\"zerolinecolor\":\"white\",\"gridwidth\":2},\"yaxis\":{\"backgroundcolor\":\"#E5ECF6\",\"gridcolor\":\"white\",\"linecolor\":\"white\",\"showbackground\":true,\"ticks\":\"\",\"zerolinecolor\":\"white\",\"gridwidth\":2},\"zaxis\":{\"backgroundcolor\":\"#E5ECF6\",\"gridcolor\":\"white\",\"linecolor\":\"white\",\"showbackground\":true,\"ticks\":\"\",\"zerolinecolor\":\"white\",\"gridwidth\":2}},\"shapedefaults\":{\"line\":{\"color\":\"#2a3f5f\"}},\"annotationdefaults\":{\"arrowcolor\":\"#2a3f5f\",\"arrowhead\":0,\"arrowwidth\":1},\"geo\":{\"bgcolor\":\"white\",\"landcolor\":\"#E5ECF6\",\"subunitcolor\":\"white\",\"showland\":true,\"showlakes\":true,\"lakecolor\":\"white\"},\"title\":{\"x\":0.05},\"mapbox\":{\"style\":\"light\"}}},\"xaxis\":{\"anchor\":\"y\",\"domain\":[0.0,0.26666666666666666]},\"yaxis\":{\"anchor\":\"x\",\"domain\":[0.575,1.0],\"autorange\":\"reversed\"},\"xaxis2\":{\"anchor\":\"y2\",\"domain\":[0.3666666666666667,0.6333333333333333]},\"yaxis2\":{\"anchor\":\"x2\",\"domain\":[0.575,1.0],\"autorange\":\"reversed\"},\"xaxis3\":{\"anchor\":\"y3\",\"domain\":[0.7333333333333334,1.0]},\"yaxis3\":{\"anchor\":\"x3\",\"domain\":[0.575,1.0],\"autorange\":\"reversed\"},\"xaxis4\":{\"anchor\":\"y4\",\"domain\":[0.0,0.26666666666666666]},\"yaxis4\":{\"anchor\":\"x4\",\"domain\":[0.0,0.425],\"autorange\":\"reversed\"},\"xaxis5\":{\"anchor\":\"y5\",\"domain\":[0.3666666666666667,0.6333333333333333]},\"yaxis5\":{\"anchor\":\"x5\",\"domain\":[0.0,0.425],\"autorange\":\"reversed\"},\"xaxis6\":{\"anchor\":\"y6\",\"domain\":[0.7333333333333334,1.0]},\"yaxis6\":{\"anchor\":\"x6\",\"domain\":[0.0,0.425]},\"annotations\":[{\"font\":{\"size\":16},\"showarrow\":false,\"text\":\"fr Ligue 1\",\"x\":0.13333333333333333,\"xanchor\":\"center\",\"xref\":\"paper\",\"y\":1.0,\"yanchor\":\"bottom\",\"yref\":\"paper\"},{\"font\":{\"size\":16},\"showarrow\":false,\"text\":\"es La Liga\",\"x\":0.5,\"xanchor\":\"center\",\"xref\":\"paper\",\"y\":1.0,\"yanchor\":\"bottom\",\"yref\":\"paper\"},{\"font\":{\"size\":16},\"showarrow\":false,\"text\":\"it Serie A\",\"x\":0.8666666666666667,\"xanchor\":\"center\",\"xref\":\"paper\",\"y\":1.0,\"yanchor\":\"bottom\",\"yref\":\"paper\"},{\"font\":{\"size\":16},\"showarrow\":false,\"text\":\"eng Premier League\",\"x\":0.13333333333333333,\"xanchor\":\"center\",\"xref\":\"paper\",\"y\":0.425,\"yanchor\":\"bottom\",\"yref\":\"paper\"},{\"font\":{\"size\":16},\"showarrow\":false,\"text\":\"de Bundesliga\",\"x\":0.5,\"xanchor\":\"center\",\"xref\":\"paper\",\"y\":0.425,\"yanchor\":\"bottom\",\"yref\":\"paper\"}],\"title\":{\"text\":\"Top 5 Young Assist Makers (≤ 21.0 Years) per League\",\"x\":0.5},\"height\":600,\"width\":1000,\"showlegend\":false},                        {\"responsive\": true}                    ).then(function(){\n",
       "                            \n",
       "var gd = document.getElementById('b8ce65a1-524f-4e0b-b29b-7f0f67151991');\n",
       "var x = new MutationObserver(function (mutations, observer) {{\n",
       "        var display = window.getComputedStyle(gd).display;\n",
       "        if (!display || display === 'none') {{\n",
       "            console.log([gd, 'removed!']);\n",
       "            Plotly.purge(gd);\n",
       "            observer.disconnect();\n",
       "        }}\n",
       "}});\n",
       "\n",
       "// Listen for the removal of the full notebook cells\n",
       "var notebookContainer = gd.closest('#notebook-container');\n",
       "if (notebookContainer) {{\n",
       "    x.observe(notebookContainer, {childList: true});\n",
       "}}\n",
       "\n",
       "// Listen for the clearing of the current output cell\n",
       "var outputEl = gd.closest('.output');\n",
       "if (outputEl) {{\n",
       "    x.observe(outputEl, {childList: true});\n",
       "}}\n",
       "\n",
       "                        })                };                            </script>        </div>\n",
       "</body>\n",
       "</html>"
      ]
     },
     "metadata": {},
     "output_type": "display_data"
    }
   ],
   "source": [
    "# Show top 5 young assist makers from each league.\n",
    "leagues = young_players['Comp'].value_counts().head(6).index.tolist()\n",
    "\n",
    "fig = make_subplots(\n",
    "    rows=2, cols=3,\n",
    "    subplot_titles=[f\"{liga}\" for liga in leagues],\n",
    "    horizontal_spacing=0.1,\n",
    "    vertical_spacing=0.15\n",
    ")\n",
    "\n",
    "for idx, liga in enumerate(leagues):\n",
    "    row = idx // 3 + 1\n",
    "    col = idx % 3 + 1\n",
    "\n",
    "    data = young_players[young_players['Comp'] == liga].sort_values('Ast', ascending=False).head(5)\n",
    "\n",
    "    fig.add_trace(go.Bar(\n",
    "        x=data['Ast'],\n",
    "        y=data['Player'],\n",
    "        orientation='h',\n",
    "        name=liga,\n",
    "        marker_color='#FBA834',\n",
    "        text=data['Ast'],\n",
    "        textposition='auto'\n",
    "    ), row=row, col=col)\n",
    "\n",
    "    fig.update_yaxes(autorange='reversed', row=row, col=col)\n",
    "\n",
    "fig.update_layout(\n",
    "    height=600,\n",
    "    width=1000,\n",
    "    title_text=f\"Top 5 Young Assist Makers (≤ {age_threshold:.1f} Years) per League\",\n",
    "    showlegend=False,\n",
    "    title_x=0.5\n",
    ")\n",
    "\n",
    "fig.show()"
   ]
  },
  {
   "cell_type": "code",
   "execution_count": 24,
   "id": "5dc43a41",
   "metadata": {
    "_cell_guid": "f8dc326c-5b53-41eb-a01f-e307475494e9",
    "_uuid": "107da7cc-b169-411e-8a67-90b31a672d18",
    "collapsed": false,
    "execution": {
     "iopub.execute_input": "2025-07-05T04:56:04.275151Z",
     "iopub.status.busy": "2025-07-05T04:56:04.274620Z",
     "iopub.status.idle": "2025-07-05T04:56:04.339852Z",
     "shell.execute_reply": "2025-07-05T04:56:04.338586Z"
    },
    "jupyter": {
     "outputs_hidden": false
    },
    "papermill": {
     "duration": 0.088514,
     "end_time": "2025-07-05T04:56:04.341946",
     "exception": false,
     "start_time": "2025-07-05T04:56:04.253432",
     "status": "completed"
    },
    "tags": []
   },
   "outputs": [
    {
     "data": {
      "text/html": [
       "<html>\n",
       "<head><meta charset=\"utf-8\" /></head>\n",
       "<body>\n",
       "    <div>            <script src=\"https://cdnjs.cloudflare.com/ajax/libs/mathjax/2.7.5/MathJax.js?config=TeX-AMS-MML_SVG\"></script><script type=\"text/javascript\">if (window.MathJax && window.MathJax.Hub && window.MathJax.Hub.Config) {window.MathJax.Hub.Config({SVG: {font: \"STIX-Web\"}});}</script>                <script type=\"text/javascript\">window.PlotlyConfig = {MathJaxConfig: 'local'};</script>\n",
       "        <script charset=\"utf-8\" src=\"https://cdn.plot.ly/plotly-2.35.2.min.js\"></script>                <div id=\"445b7f4b-6e44-4401-9a70-88ddf9ea6a04\" class=\"plotly-graph-div\" style=\"height:650px; width:1000px;\"></div>            <script type=\"text/javascript\">                                    window.PLOTLYENV=window.PLOTLYENV || {};                                    if (document.getElementById(\"445b7f4b-6e44-4401-9a70-88ddf9ea6a04\")) {                    Plotly.newPlot(                        \"445b7f4b-6e44-4401-9a70-88ddf9ea6a04\",                        [{\"hoverinfo\":\"text\",\"hovertext\":[\"Goals: 14 | Assists: 10 | Club: Paris S-G\",\"Goals: 8 | Assists: 11 | Club: Lyon\",\"Goals: 14 | Assists: 3 | Club: Strasbourg\",\"Goals: 12 | Assists: 4 | Club: Saint-Étienne\",\"Goals: 13 | Assists: 2 | Club: Monaco\"],\"marker\":{\"color\":\"#512B81\"},\"name\":\"fr Ligue 1\",\"orientation\":\"h\",\"text\":[24.0,19.0,17.0,16.0,15.0],\"textposition\":\"auto\",\"x\":[24,19,17,16,15],\"y\":[\"Bradley Barcola\",\"Rayan Cherki\",\"Emanuel Emegha\",\"Lucas Stassin\",\"Mika Biereth\"],\"type\":\"bar\",\"xaxis\":\"x\",\"yaxis\":\"y\"},{\"hoverinfo\":\"text\",\"hovertext\":[\"Goals: 9 | Assists: 13 | Club: Barcelona\",\"Goals: 9 | Assists: 8 | Club: Real Madrid\",\"Goals: 11 | Assists: 4 | Club: Villarreal\",\"Goals: 4 | Assists: 7 | Club: Villarreal\",\"Goals: 6 | Assists: 5 | Club: Barcelona\"],\"marker\":{\"color\":\"#512B81\"},\"name\":\"es La Liga\",\"orientation\":\"h\",\"text\":[22.0,17.0,15.0,11.0,11.0],\"textposition\":\"auto\",\"x\":[22,17,15,11,11],\"y\":[\"Lamine Yamal\",\"Jude Bellingham\",\"Thierno Barry\",\"Yeremi Pino\",\"Fermin López\"],\"type\":\"bar\",\"xaxis\":\"x2\",\"yaxis\":\"y2\"},{\"hoverinfo\":\"text\",\"hovertext\":[\"Goals: 6 | Assists: 8 | Club: Como\",\"Goals: 8 | Assists: 4 | Club: Bologna\",\"Goals: 7 | Assists: 4 | Club: Juventus\",\"Goals: 5 | Assists: 5 | Club: Roma\",\"Goals: 6 | Assists: 4 | Club: Parma\"],\"marker\":{\"color\":\"#512B81\"},\"name\":\"it Serie A\",\"orientation\":\"h\",\"text\":[14.0,12.0,11.0,10.0,10.0],\"textposition\":\"auto\",\"x\":[14,12,11,10,10],\"y\":[\"Nicolás Paz\",\"Santiago Castro\",\"Kenan Yıldız\",\"Matìas Soulé\",\"Ange-Yoan Bonny\"],\"type\":\"bar\",\"xaxis\":\"x3\",\"yaxis\":\"y3\"},{\"hoverinfo\":\"text\",\"hovertext\":[\"Goals: 12 | Assists: 2 | Club: Ipswich Town\",\"Goals: 6 | Assists: 4 | Club: Brighton\",\"Goals: 1 | Assists: 8 | Club: Manchester City\",\"Goals: 2 | Assists: 6 | Club: Nott'ham Forest\",\"Goals: 6 | Assists: 2 | Club: Manchester Utd\"],\"marker\":{\"color\":\"#512B81\"},\"name\":\"eng Premier League\",\"orientation\":\"h\",\"text\":[14.0,10.0,9.0,8.0,8.0],\"textposition\":\"auto\",\"x\":[14,10,9,8,8],\"y\":[\"Liam Delap\",\"Yankuba Minteh\",\"Sávio\",\"Elliot Anderson\",\"Alejandro Garnacho\"],\"type\":\"bar\",\"xaxis\":\"x4\",\"yaxis\":\"y4\"},{\"hoverinfo\":\"text\",\"hovertext\":[\"Goals: 10 | Assists: 12 | Club: Leverkusen\",\"Goals: 13 | Assists: 5 | Club: RB Leipzig\",\"Goals: 10 | Assists: 6 | Club: RB Leipzig\",\"Goals: 12 | Assists: 2 | Club: Bayern Munich\",\"Goals: 10 | Assists: 4 | Club: Mainz 05\"],\"marker\":{\"color\":\"#512B81\"},\"name\":\"de Bundesliga\",\"orientation\":\"h\",\"text\":[22.0,18.0,16.0,14.0,14.0],\"textposition\":\"auto\",\"x\":[22,18,16,14,14],\"y\":[\"Florian Wirtz\",\"Benjamin Šeško\",\"Xavi Simons\",\"Jamal Musiala\",\"Paul Nebel\"],\"type\":\"bar\",\"xaxis\":\"x5\",\"yaxis\":\"y5\"}],                        {\"template\":{\"data\":{\"histogram2dcontour\":[{\"type\":\"histogram2dcontour\",\"colorbar\":{\"outlinewidth\":0,\"ticks\":\"\"},\"colorscale\":[[0.0,\"#0d0887\"],[0.1111111111111111,\"#46039f\"],[0.2222222222222222,\"#7201a8\"],[0.3333333333333333,\"#9c179e\"],[0.4444444444444444,\"#bd3786\"],[0.5555555555555556,\"#d8576b\"],[0.6666666666666666,\"#ed7953\"],[0.7777777777777778,\"#fb9f3a\"],[0.8888888888888888,\"#fdca26\"],[1.0,\"#f0f921\"]]}],\"choropleth\":[{\"type\":\"choropleth\",\"colorbar\":{\"outlinewidth\":0,\"ticks\":\"\"}}],\"histogram2d\":[{\"type\":\"histogram2d\",\"colorbar\":{\"outlinewidth\":0,\"ticks\":\"\"},\"colorscale\":[[0.0,\"#0d0887\"],[0.1111111111111111,\"#46039f\"],[0.2222222222222222,\"#7201a8\"],[0.3333333333333333,\"#9c179e\"],[0.4444444444444444,\"#bd3786\"],[0.5555555555555556,\"#d8576b\"],[0.6666666666666666,\"#ed7953\"],[0.7777777777777778,\"#fb9f3a\"],[0.8888888888888888,\"#fdca26\"],[1.0,\"#f0f921\"]]}],\"heatmap\":[{\"type\":\"heatmap\",\"colorbar\":{\"outlinewidth\":0,\"ticks\":\"\"},\"colorscale\":[[0.0,\"#0d0887\"],[0.1111111111111111,\"#46039f\"],[0.2222222222222222,\"#7201a8\"],[0.3333333333333333,\"#9c179e\"],[0.4444444444444444,\"#bd3786\"],[0.5555555555555556,\"#d8576b\"],[0.6666666666666666,\"#ed7953\"],[0.7777777777777778,\"#fb9f3a\"],[0.8888888888888888,\"#fdca26\"],[1.0,\"#f0f921\"]]}],\"heatmapgl\":[{\"type\":\"heatmapgl\",\"colorbar\":{\"outlinewidth\":0,\"ticks\":\"\"},\"colorscale\":[[0.0,\"#0d0887\"],[0.1111111111111111,\"#46039f\"],[0.2222222222222222,\"#7201a8\"],[0.3333333333333333,\"#9c179e\"],[0.4444444444444444,\"#bd3786\"],[0.5555555555555556,\"#d8576b\"],[0.6666666666666666,\"#ed7953\"],[0.7777777777777778,\"#fb9f3a\"],[0.8888888888888888,\"#fdca26\"],[1.0,\"#f0f921\"]]}],\"contourcarpet\":[{\"type\":\"contourcarpet\",\"colorbar\":{\"outlinewidth\":0,\"ticks\":\"\"}}],\"contour\":[{\"type\":\"contour\",\"colorbar\":{\"outlinewidth\":0,\"ticks\":\"\"},\"colorscale\":[[0.0,\"#0d0887\"],[0.1111111111111111,\"#46039f\"],[0.2222222222222222,\"#7201a8\"],[0.3333333333333333,\"#9c179e\"],[0.4444444444444444,\"#bd3786\"],[0.5555555555555556,\"#d8576b\"],[0.6666666666666666,\"#ed7953\"],[0.7777777777777778,\"#fb9f3a\"],[0.8888888888888888,\"#fdca26\"],[1.0,\"#f0f921\"]]}],\"surface\":[{\"type\":\"surface\",\"colorbar\":{\"outlinewidth\":0,\"ticks\":\"\"},\"colorscale\":[[0.0,\"#0d0887\"],[0.1111111111111111,\"#46039f\"],[0.2222222222222222,\"#7201a8\"],[0.3333333333333333,\"#9c179e\"],[0.4444444444444444,\"#bd3786\"],[0.5555555555555556,\"#d8576b\"],[0.6666666666666666,\"#ed7953\"],[0.7777777777777778,\"#fb9f3a\"],[0.8888888888888888,\"#fdca26\"],[1.0,\"#f0f921\"]]}],\"mesh3d\":[{\"type\":\"mesh3d\",\"colorbar\":{\"outlinewidth\":0,\"ticks\":\"\"}}],\"scatter\":[{\"fillpattern\":{\"fillmode\":\"overlay\",\"size\":10,\"solidity\":0.2},\"type\":\"scatter\"}],\"parcoords\":[{\"type\":\"parcoords\",\"line\":{\"colorbar\":{\"outlinewidth\":0,\"ticks\":\"\"}}}],\"scatterpolargl\":[{\"type\":\"scatterpolargl\",\"marker\":{\"colorbar\":{\"outlinewidth\":0,\"ticks\":\"\"}}}],\"bar\":[{\"error_x\":{\"color\":\"#2a3f5f\"},\"error_y\":{\"color\":\"#2a3f5f\"},\"marker\":{\"line\":{\"color\":\"#E5ECF6\",\"width\":0.5},\"pattern\":{\"fillmode\":\"overlay\",\"size\":10,\"solidity\":0.2}},\"type\":\"bar\"}],\"scattergeo\":[{\"type\":\"scattergeo\",\"marker\":{\"colorbar\":{\"outlinewidth\":0,\"ticks\":\"\"}}}],\"scatterpolar\":[{\"type\":\"scatterpolar\",\"marker\":{\"colorbar\":{\"outlinewidth\":0,\"ticks\":\"\"}}}],\"histogram\":[{\"marker\":{\"pattern\":{\"fillmode\":\"overlay\",\"size\":10,\"solidity\":0.2}},\"type\":\"histogram\"}],\"scattergl\":[{\"type\":\"scattergl\",\"marker\":{\"colorbar\":{\"outlinewidth\":0,\"ticks\":\"\"}}}],\"scatter3d\":[{\"type\":\"scatter3d\",\"line\":{\"colorbar\":{\"outlinewidth\":0,\"ticks\":\"\"}},\"marker\":{\"colorbar\":{\"outlinewidth\":0,\"ticks\":\"\"}}}],\"scattermapbox\":[{\"type\":\"scattermapbox\",\"marker\":{\"colorbar\":{\"outlinewidth\":0,\"ticks\":\"\"}}}],\"scatterternary\":[{\"type\":\"scatterternary\",\"marker\":{\"colorbar\":{\"outlinewidth\":0,\"ticks\":\"\"}}}],\"scattercarpet\":[{\"type\":\"scattercarpet\",\"marker\":{\"colorbar\":{\"outlinewidth\":0,\"ticks\":\"\"}}}],\"carpet\":[{\"aaxis\":{\"endlinecolor\":\"#2a3f5f\",\"gridcolor\":\"white\",\"linecolor\":\"white\",\"minorgridcolor\":\"white\",\"startlinecolor\":\"#2a3f5f\"},\"baxis\":{\"endlinecolor\":\"#2a3f5f\",\"gridcolor\":\"white\",\"linecolor\":\"white\",\"minorgridcolor\":\"white\",\"startlinecolor\":\"#2a3f5f\"},\"type\":\"carpet\"}],\"table\":[{\"cells\":{\"fill\":{\"color\":\"#EBF0F8\"},\"line\":{\"color\":\"white\"}},\"header\":{\"fill\":{\"color\":\"#C8D4E3\"},\"line\":{\"color\":\"white\"}},\"type\":\"table\"}],\"barpolar\":[{\"marker\":{\"line\":{\"color\":\"#E5ECF6\",\"width\":0.5},\"pattern\":{\"fillmode\":\"overlay\",\"size\":10,\"solidity\":0.2}},\"type\":\"barpolar\"}],\"pie\":[{\"automargin\":true,\"type\":\"pie\"}]},\"layout\":{\"autotypenumbers\":\"strict\",\"colorway\":[\"#636efa\",\"#EF553B\",\"#00cc96\",\"#ab63fa\",\"#FFA15A\",\"#19d3f3\",\"#FF6692\",\"#B6E880\",\"#FF97FF\",\"#FECB52\"],\"font\":{\"color\":\"#2a3f5f\"},\"hovermode\":\"closest\",\"hoverlabel\":{\"align\":\"left\"},\"paper_bgcolor\":\"white\",\"plot_bgcolor\":\"#E5ECF6\",\"polar\":{\"bgcolor\":\"#E5ECF6\",\"angularaxis\":{\"gridcolor\":\"white\",\"linecolor\":\"white\",\"ticks\":\"\"},\"radialaxis\":{\"gridcolor\":\"white\",\"linecolor\":\"white\",\"ticks\":\"\"}},\"ternary\":{\"bgcolor\":\"#E5ECF6\",\"aaxis\":{\"gridcolor\":\"white\",\"linecolor\":\"white\",\"ticks\":\"\"},\"baxis\":{\"gridcolor\":\"white\",\"linecolor\":\"white\",\"ticks\":\"\"},\"caxis\":{\"gridcolor\":\"white\",\"linecolor\":\"white\",\"ticks\":\"\"}},\"coloraxis\":{\"colorbar\":{\"outlinewidth\":0,\"ticks\":\"\"}},\"colorscale\":{\"sequential\":[[0.0,\"#0d0887\"],[0.1111111111111111,\"#46039f\"],[0.2222222222222222,\"#7201a8\"],[0.3333333333333333,\"#9c179e\"],[0.4444444444444444,\"#bd3786\"],[0.5555555555555556,\"#d8576b\"],[0.6666666666666666,\"#ed7953\"],[0.7777777777777778,\"#fb9f3a\"],[0.8888888888888888,\"#fdca26\"],[1.0,\"#f0f921\"]],\"sequentialminus\":[[0.0,\"#0d0887\"],[0.1111111111111111,\"#46039f\"],[0.2222222222222222,\"#7201a8\"],[0.3333333333333333,\"#9c179e\"],[0.4444444444444444,\"#bd3786\"],[0.5555555555555556,\"#d8576b\"],[0.6666666666666666,\"#ed7953\"],[0.7777777777777778,\"#fb9f3a\"],[0.8888888888888888,\"#fdca26\"],[1.0,\"#f0f921\"]],\"diverging\":[[0,\"#8e0152\"],[0.1,\"#c51b7d\"],[0.2,\"#de77ae\"],[0.3,\"#f1b6da\"],[0.4,\"#fde0ef\"],[0.5,\"#f7f7f7\"],[0.6,\"#e6f5d0\"],[0.7,\"#b8e186\"],[0.8,\"#7fbc41\"],[0.9,\"#4d9221\"],[1,\"#276419\"]]},\"xaxis\":{\"gridcolor\":\"white\",\"linecolor\":\"white\",\"ticks\":\"\",\"title\":{\"standoff\":15},\"zerolinecolor\":\"white\",\"automargin\":true,\"zerolinewidth\":2},\"yaxis\":{\"gridcolor\":\"white\",\"linecolor\":\"white\",\"ticks\":\"\",\"title\":{\"standoff\":15},\"zerolinecolor\":\"white\",\"automargin\":true,\"zerolinewidth\":2},\"scene\":{\"xaxis\":{\"backgroundcolor\":\"#E5ECF6\",\"gridcolor\":\"white\",\"linecolor\":\"white\",\"showbackground\":true,\"ticks\":\"\",\"zerolinecolor\":\"white\",\"gridwidth\":2},\"yaxis\":{\"backgroundcolor\":\"#E5ECF6\",\"gridcolor\":\"white\",\"linecolor\":\"white\",\"showbackground\":true,\"ticks\":\"\",\"zerolinecolor\":\"white\",\"gridwidth\":2},\"zaxis\":{\"backgroundcolor\":\"#E5ECF6\",\"gridcolor\":\"white\",\"linecolor\":\"white\",\"showbackground\":true,\"ticks\":\"\",\"zerolinecolor\":\"white\",\"gridwidth\":2}},\"shapedefaults\":{\"line\":{\"color\":\"#2a3f5f\"}},\"annotationdefaults\":{\"arrowcolor\":\"#2a3f5f\",\"arrowhead\":0,\"arrowwidth\":1},\"geo\":{\"bgcolor\":\"white\",\"landcolor\":\"#E5ECF6\",\"subunitcolor\":\"white\",\"showland\":true,\"showlakes\":true,\"lakecolor\":\"white\"},\"title\":{\"x\":0.05},\"mapbox\":{\"style\":\"light\"}}},\"xaxis\":{\"anchor\":\"y\",\"domain\":[0.0,0.26666666666666666]},\"yaxis\":{\"anchor\":\"x\",\"domain\":[0.575,1.0],\"autorange\":\"reversed\"},\"xaxis2\":{\"anchor\":\"y2\",\"domain\":[0.3666666666666667,0.6333333333333333]},\"yaxis2\":{\"anchor\":\"x2\",\"domain\":[0.575,1.0],\"autorange\":\"reversed\"},\"xaxis3\":{\"anchor\":\"y3\",\"domain\":[0.7333333333333334,1.0]},\"yaxis3\":{\"anchor\":\"x3\",\"domain\":[0.575,1.0],\"autorange\":\"reversed\"},\"xaxis4\":{\"anchor\":\"y4\",\"domain\":[0.0,0.26666666666666666]},\"yaxis4\":{\"anchor\":\"x4\",\"domain\":[0.0,0.425],\"autorange\":\"reversed\"},\"xaxis5\":{\"anchor\":\"y5\",\"domain\":[0.3666666666666667,0.6333333333333333]},\"yaxis5\":{\"anchor\":\"x5\",\"domain\":[0.0,0.425],\"autorange\":\"reversed\"},\"xaxis6\":{\"anchor\":\"y6\",\"domain\":[0.7333333333333334,1.0]},\"yaxis6\":{\"anchor\":\"x6\",\"domain\":[0.0,0.425]},\"annotations\":[{\"font\":{\"size\":16},\"showarrow\":false,\"text\":\"fr Ligue 1\",\"x\":0.13333333333333333,\"xanchor\":\"center\",\"xref\":\"paper\",\"y\":1.0,\"yanchor\":\"bottom\",\"yref\":\"paper\"},{\"font\":{\"size\":16},\"showarrow\":false,\"text\":\"es La Liga\",\"x\":0.5,\"xanchor\":\"center\",\"xref\":\"paper\",\"y\":1.0,\"yanchor\":\"bottom\",\"yref\":\"paper\"},{\"font\":{\"size\":16},\"showarrow\":false,\"text\":\"it Serie A\",\"x\":0.8666666666666667,\"xanchor\":\"center\",\"xref\":\"paper\",\"y\":1.0,\"yanchor\":\"bottom\",\"yref\":\"paper\"},{\"font\":{\"size\":16},\"showarrow\":false,\"text\":\"eng Premier League\",\"x\":0.13333333333333333,\"xanchor\":\"center\",\"xref\":\"paper\",\"y\":0.425,\"yanchor\":\"bottom\",\"yref\":\"paper\"},{\"font\":{\"size\":16},\"showarrow\":false,\"text\":\"de Bundesliga\",\"x\":0.5,\"xanchor\":\"center\",\"xref\":\"paper\",\"y\":0.425,\"yanchor\":\"bottom\",\"yref\":\"paper\"}],\"title\":{\"text\":\"Top 5 Young Players (≤ 21.0 Years) by G+A per League\",\"x\":0.5},\"height\":650,\"width\":1000,\"showlegend\":false},                        {\"responsive\": true}                    ).then(function(){\n",
       "                            \n",
       "var gd = document.getElementById('445b7f4b-6e44-4401-9a70-88ddf9ea6a04');\n",
       "var x = new MutationObserver(function (mutations, observer) {{\n",
       "        var display = window.getComputedStyle(gd).display;\n",
       "        if (!display || display === 'none') {{\n",
       "            console.log([gd, 'removed!']);\n",
       "            Plotly.purge(gd);\n",
       "            observer.disconnect();\n",
       "        }}\n",
       "}});\n",
       "\n",
       "// Listen for the removal of the full notebook cells\n",
       "var notebookContainer = gd.closest('#notebook-container');\n",
       "if (notebookContainer) {{\n",
       "    x.observe(notebookContainer, {childList: true});\n",
       "}}\n",
       "\n",
       "// Listen for the clearing of the current output cell\n",
       "var outputEl = gd.closest('.output');\n",
       "if (outputEl) {{\n",
       "    x.observe(outputEl, {childList: true});\n",
       "}}\n",
       "\n",
       "                        })                };                            </script>        </div>\n",
       "</body>\n",
       "</html>"
      ]
     },
     "metadata": {},
     "output_type": "display_data"
    }
   ],
   "source": [
    "# Show top 5 young players with most G+A (Goals + Assists) per league.\n",
    "young_players = df_cleaned[df_cleaned['Age'] <= age_threshold].copy()\n",
    "young_players['G+A'] = young_players['Gls'] + young_players['Ast']\n",
    "\n",
    "leagues = young_players['Comp'].value_counts().head(6).index.tolist()\n",
    "\n",
    "fig = make_subplots(\n",
    "    rows=2, cols=3,\n",
    "    subplot_titles=[f\"{liga}\" for liga in leagues],\n",
    "    horizontal_spacing=0.1,\n",
    "    vertical_spacing=0.15\n",
    ")\n",
    "\n",
    "for idx, liga in enumerate(leagues):\n",
    "    row = idx // 3 + 1\n",
    "    col = idx % 3 + 1\n",
    "\n",
    "    data = (\n",
    "        young_players[young_players['Comp'] == liga]\n",
    "        .sort_values('G+A', ascending=False)\n",
    "        .head(5)\n",
    "    )\n",
    "\n",
    "    fig.add_trace(go.Bar(\n",
    "        x=data['G+A'],\n",
    "        y=data['Player'],\n",
    "        orientation='h',\n",
    "        name=liga,\n",
    "        marker_color='#512B81',\n",
    "        text=data['G+A'],\n",
    "        textposition='auto',\n",
    "        hovertext=[\n",
    "            f\"Goals: {g} | Assists: {a} | Club: {s}\"\n",
    "            for g, a, s in zip(data['Gls'], data['Ast'], data['Squad'])\n",
    "        ],\n",
    "        hoverinfo='text'\n",
    "    ), row=row, col=col)\n",
    "\n",
    "    fig.update_yaxes(autorange='reversed', row=row, col=col)\n",
    "\n",
    "fig.update_layout(\n",
    "    height=650,\n",
    "    width=1000,\n",
    "    title_text=f\"Top 5 Young Players (≤ {age_threshold:.1f} Years) by G+A per League\",\n",
    "    showlegend=False,\n",
    "    title_x=0.5\n",
    ")\n",
    "\n",
    "fig.show()"
   ]
  },
  {
   "cell_type": "code",
   "execution_count": 25,
   "id": "b97ee8ad",
   "metadata": {
    "_cell_guid": "a04fbe23-483f-43e3-bc86-959620fa12da",
    "_uuid": "5976c99d-e421-405c-94c7-425f297c5eb2",
    "collapsed": false,
    "execution": {
     "iopub.execute_input": "2025-07-05T04:56:04.390827Z",
     "iopub.status.busy": "2025-07-05T04:56:04.389919Z",
     "iopub.status.idle": "2025-07-05T04:56:04.449005Z",
     "shell.execute_reply": "2025-07-05T04:56:04.447538Z"
    },
    "jupyter": {
     "outputs_hidden": false
    },
    "papermill": {
     "duration": 0.082788,
     "end_time": "2025-07-05T04:56:04.451324",
     "exception": false,
     "start_time": "2025-07-05T04:56:04.368536",
     "status": "completed"
    },
    "tags": []
   },
   "outputs": [
    {
     "data": {
      "text/html": [
       "<html>\n",
       "<head><meta charset=\"utf-8\" /></head>\n",
       "<body>\n",
       "    <div>            <script src=\"https://cdnjs.cloudflare.com/ajax/libs/mathjax/2.7.5/MathJax.js?config=TeX-AMS-MML_SVG\"></script><script type=\"text/javascript\">if (window.MathJax && window.MathJax.Hub && window.MathJax.Hub.Config) {window.MathJax.Hub.Config({SVG: {font: \"STIX-Web\"}});}</script>                <script type=\"text/javascript\">window.PlotlyConfig = {MathJaxConfig: 'local'};</script>\n",
       "        <script charset=\"utf-8\" src=\"https://cdn.plot.ly/plotly-2.35.2.min.js\"></script>                <div id=\"47fc9f38-38bb-4cf0-9fbc-6dc1ac84def5\" class=\"plotly-graph-div\" style=\"height:800px; width:100%;\"></div>            <script type=\"text/javascript\">                                    window.PLOTLYENV=window.PLOTLYENV || {};                                    if (document.getElementById(\"47fc9f38-38bb-4cf0-9fbc-6dc1ac84def5\")) {                    Plotly.newPlot(                        \"47fc9f38-38bb-4cf0-9fbc-6dc1ac84def5\",                        [{\"alignmentgroup\":\"True\",\"customdata\":[[14,10,21.0,\"Paris S-G\",\"fr Ligue 1\"],[10,12,21.0,\"Leverkusen\",\"de Bundesliga\"],[9,13,17.0,\"Barcelona\",\"es La Liga\"],[8,11,20.0,\"Lyon\",\"fr Ligue 1\"],[13,5,21.0,\"RB Leipzig\",\"de Bundesliga\"],[14,3,21.0,\"Strasbourg\",\"fr Ligue 1\"],[9,8,21.0,\"Real Madrid\",\"es La Liga\"],[10,6,21.0,\"RB Leipzig\",\"de Bundesliga\"],[12,4,19.0,\"Saint-Étienne\",\"fr Ligue 1\"],[13,2,21.0,\"Monaco\",\"fr Ligue 1\"],[11,4,21.0,\"Villarreal\",\"es La Liga\"],[6,8,21.0,\"Strasbourg\",\"fr Ligue 1\"],[6,8,19.0,\"Como\",\"it Serie A\"],[12,2,21.0,\"Bayern Munich\",\"de Bundesliga\"],[10,4,21.0,\"Mainz 05\",\"de Bundesliga\"],[12,2,21.0,\"Ipswich Town\",\"eng Premier League\"],[10,3,20.0,\"Strasbourg\",\"fr Ligue 1\"],[8,5,21.0,\"Dortmund\",\"de Bundesliga\"],[6,6,19.0,\"Paris S-G\",\"fr Ligue 1\"],[8,4,19.0,\"Bologna\",\"it Serie A\"],[7,4,19.0,\"Juventus\",\"it Serie A\"],[6,5,21.0,\"Barcelona\",\"es La Liga\"],[9,2,21.0,\"Nantes\",\"fr Ligue 1\"],[8,3,19.0,\"Dortmund\",\"de Bundesliga\"],[3,8,19.0,\"Paris S-G\",\"fr Ligue 1\"],[4,7,21.0,\"Villarreal\",\"es La Liga\"],[6,4,20.0,\"Parma\",\"it Serie A\"],[6,4,20.0,\"Brighton\",\"eng Premier League\"],[5,5,21.0,\"Roma\",\"it Serie A\"],[4,6,21.0,\"Getafe\",\"es La Liga\"]],\"hovertemplate\":\"G+A=%{marker.color}\\u003cbr\\u003ePlayer=%{y}\\u003cbr\\u003eGls=%{customdata[0]}\\u003cbr\\u003eAst=%{customdata[1]}\\u003cbr\\u003eAge=%{customdata[2]}\\u003cbr\\u003eSquad=%{customdata[3]}\\u003cbr\\u003eComp=%{customdata[4]}\\u003cextra\\u003e\\u003c\\u002fextra\\u003e\",\"legendgroup\":\"\",\"marker\":{\"color\":[24,22,22,19,18,17,17,16,16,15,15,14,14,14,14,14,13,13,12,12,11,11,11,11,11,11,10,10,10,10],\"coloraxis\":\"coloraxis\",\"pattern\":{\"shape\":\"\"}},\"name\":\"\",\"offsetgroup\":\"\",\"orientation\":\"h\",\"showlegend\":false,\"text\":[24.0,22.0,22.0,19.0,18.0,17.0,17.0,16.0,16.0,15.0,15.0,14.0,14.0,14.0,14.0,14.0,13.0,13.0,12.0,12.0,11.0,11.0,11.0,11.0,11.0,11.0,10.0,10.0,10.0,10.0],\"textposition\":\"auto\",\"x\":[24,22,22,19,18,17,17,16,16,15,15,14,14,14,14,14,13,13,12,12,11,11,11,11,11,11,10,10,10,10],\"xaxis\":\"x\",\"y\":[\"Bradley Barcola\",\"Florian Wirtz\",\"Lamine Yamal\",\"Rayan Cherki\",\"Benjamin Šeško\",\"Emanuel Emegha\",\"Jude Bellingham\",\"Xavi Simons\",\"Lucas Stassin\",\"Mika Biereth\",\"Thierno Barry\",\"Dilane Bakwa\",\"Nicolás Paz\",\"Jamal Musiala\",\"Paul Nebel\",\"Liam Delap\",\"Andrey Santos\",\"Maximilian Beier\",\"Désiré Doué\",\"Santiago Castro\",\"Kenan Yıldız\",\"Fermin López\",\"Matthis Abline\",\"Jamie Gittens\",\"João Neves\",\"Yeremi Pino\",\"Ange-Yoan Bonny\",\"Yankuba Minteh\",\"Matìas Soulé\",\"Christantus Uche\"],\"yaxis\":\"y\",\"type\":\"bar\"}],                        {\"template\":{\"data\":{\"histogram2dcontour\":[{\"type\":\"histogram2dcontour\",\"colorbar\":{\"outlinewidth\":0,\"ticks\":\"\"},\"colorscale\":[[0.0,\"#0d0887\"],[0.1111111111111111,\"#46039f\"],[0.2222222222222222,\"#7201a8\"],[0.3333333333333333,\"#9c179e\"],[0.4444444444444444,\"#bd3786\"],[0.5555555555555556,\"#d8576b\"],[0.6666666666666666,\"#ed7953\"],[0.7777777777777778,\"#fb9f3a\"],[0.8888888888888888,\"#fdca26\"],[1.0,\"#f0f921\"]]}],\"choropleth\":[{\"type\":\"choropleth\",\"colorbar\":{\"outlinewidth\":0,\"ticks\":\"\"}}],\"histogram2d\":[{\"type\":\"histogram2d\",\"colorbar\":{\"outlinewidth\":0,\"ticks\":\"\"},\"colorscale\":[[0.0,\"#0d0887\"],[0.1111111111111111,\"#46039f\"],[0.2222222222222222,\"#7201a8\"],[0.3333333333333333,\"#9c179e\"],[0.4444444444444444,\"#bd3786\"],[0.5555555555555556,\"#d8576b\"],[0.6666666666666666,\"#ed7953\"],[0.7777777777777778,\"#fb9f3a\"],[0.8888888888888888,\"#fdca26\"],[1.0,\"#f0f921\"]]}],\"heatmap\":[{\"type\":\"heatmap\",\"colorbar\":{\"outlinewidth\":0,\"ticks\":\"\"},\"colorscale\":[[0.0,\"#0d0887\"],[0.1111111111111111,\"#46039f\"],[0.2222222222222222,\"#7201a8\"],[0.3333333333333333,\"#9c179e\"],[0.4444444444444444,\"#bd3786\"],[0.5555555555555556,\"#d8576b\"],[0.6666666666666666,\"#ed7953\"],[0.7777777777777778,\"#fb9f3a\"],[0.8888888888888888,\"#fdca26\"],[1.0,\"#f0f921\"]]}],\"heatmapgl\":[{\"type\":\"heatmapgl\",\"colorbar\":{\"outlinewidth\":0,\"ticks\":\"\"},\"colorscale\":[[0.0,\"#0d0887\"],[0.1111111111111111,\"#46039f\"],[0.2222222222222222,\"#7201a8\"],[0.3333333333333333,\"#9c179e\"],[0.4444444444444444,\"#bd3786\"],[0.5555555555555556,\"#d8576b\"],[0.6666666666666666,\"#ed7953\"],[0.7777777777777778,\"#fb9f3a\"],[0.8888888888888888,\"#fdca26\"],[1.0,\"#f0f921\"]]}],\"contourcarpet\":[{\"type\":\"contourcarpet\",\"colorbar\":{\"outlinewidth\":0,\"ticks\":\"\"}}],\"contour\":[{\"type\":\"contour\",\"colorbar\":{\"outlinewidth\":0,\"ticks\":\"\"},\"colorscale\":[[0.0,\"#0d0887\"],[0.1111111111111111,\"#46039f\"],[0.2222222222222222,\"#7201a8\"],[0.3333333333333333,\"#9c179e\"],[0.4444444444444444,\"#bd3786\"],[0.5555555555555556,\"#d8576b\"],[0.6666666666666666,\"#ed7953\"],[0.7777777777777778,\"#fb9f3a\"],[0.8888888888888888,\"#fdca26\"],[1.0,\"#f0f921\"]]}],\"surface\":[{\"type\":\"surface\",\"colorbar\":{\"outlinewidth\":0,\"ticks\":\"\"},\"colorscale\":[[0.0,\"#0d0887\"],[0.1111111111111111,\"#46039f\"],[0.2222222222222222,\"#7201a8\"],[0.3333333333333333,\"#9c179e\"],[0.4444444444444444,\"#bd3786\"],[0.5555555555555556,\"#d8576b\"],[0.6666666666666666,\"#ed7953\"],[0.7777777777777778,\"#fb9f3a\"],[0.8888888888888888,\"#fdca26\"],[1.0,\"#f0f921\"]]}],\"mesh3d\":[{\"type\":\"mesh3d\",\"colorbar\":{\"outlinewidth\":0,\"ticks\":\"\"}}],\"scatter\":[{\"fillpattern\":{\"fillmode\":\"overlay\",\"size\":10,\"solidity\":0.2},\"type\":\"scatter\"}],\"parcoords\":[{\"type\":\"parcoords\",\"line\":{\"colorbar\":{\"outlinewidth\":0,\"ticks\":\"\"}}}],\"scatterpolargl\":[{\"type\":\"scatterpolargl\",\"marker\":{\"colorbar\":{\"outlinewidth\":0,\"ticks\":\"\"}}}],\"bar\":[{\"error_x\":{\"color\":\"#2a3f5f\"},\"error_y\":{\"color\":\"#2a3f5f\"},\"marker\":{\"line\":{\"color\":\"#E5ECF6\",\"width\":0.5},\"pattern\":{\"fillmode\":\"overlay\",\"size\":10,\"solidity\":0.2}},\"type\":\"bar\"}],\"scattergeo\":[{\"type\":\"scattergeo\",\"marker\":{\"colorbar\":{\"outlinewidth\":0,\"ticks\":\"\"}}}],\"scatterpolar\":[{\"type\":\"scatterpolar\",\"marker\":{\"colorbar\":{\"outlinewidth\":0,\"ticks\":\"\"}}}],\"histogram\":[{\"marker\":{\"pattern\":{\"fillmode\":\"overlay\",\"size\":10,\"solidity\":0.2}},\"type\":\"histogram\"}],\"scattergl\":[{\"type\":\"scattergl\",\"marker\":{\"colorbar\":{\"outlinewidth\":0,\"ticks\":\"\"}}}],\"scatter3d\":[{\"type\":\"scatter3d\",\"line\":{\"colorbar\":{\"outlinewidth\":0,\"ticks\":\"\"}},\"marker\":{\"colorbar\":{\"outlinewidth\":0,\"ticks\":\"\"}}}],\"scattermapbox\":[{\"type\":\"scattermapbox\",\"marker\":{\"colorbar\":{\"outlinewidth\":0,\"ticks\":\"\"}}}],\"scatterternary\":[{\"type\":\"scatterternary\",\"marker\":{\"colorbar\":{\"outlinewidth\":0,\"ticks\":\"\"}}}],\"scattercarpet\":[{\"type\":\"scattercarpet\",\"marker\":{\"colorbar\":{\"outlinewidth\":0,\"ticks\":\"\"}}}],\"carpet\":[{\"aaxis\":{\"endlinecolor\":\"#2a3f5f\",\"gridcolor\":\"white\",\"linecolor\":\"white\",\"minorgridcolor\":\"white\",\"startlinecolor\":\"#2a3f5f\"},\"baxis\":{\"endlinecolor\":\"#2a3f5f\",\"gridcolor\":\"white\",\"linecolor\":\"white\",\"minorgridcolor\":\"white\",\"startlinecolor\":\"#2a3f5f\"},\"type\":\"carpet\"}],\"table\":[{\"cells\":{\"fill\":{\"color\":\"#EBF0F8\"},\"line\":{\"color\":\"white\"}},\"header\":{\"fill\":{\"color\":\"#C8D4E3\"},\"line\":{\"color\":\"white\"}},\"type\":\"table\"}],\"barpolar\":[{\"marker\":{\"line\":{\"color\":\"#E5ECF6\",\"width\":0.5},\"pattern\":{\"fillmode\":\"overlay\",\"size\":10,\"solidity\":0.2}},\"type\":\"barpolar\"}],\"pie\":[{\"automargin\":true,\"type\":\"pie\"}]},\"layout\":{\"autotypenumbers\":\"strict\",\"colorway\":[\"#636efa\",\"#EF553B\",\"#00cc96\",\"#ab63fa\",\"#FFA15A\",\"#19d3f3\",\"#FF6692\",\"#B6E880\",\"#FF97FF\",\"#FECB52\"],\"font\":{\"color\":\"#2a3f5f\"},\"hovermode\":\"closest\",\"hoverlabel\":{\"align\":\"left\"},\"paper_bgcolor\":\"white\",\"plot_bgcolor\":\"#E5ECF6\",\"polar\":{\"bgcolor\":\"#E5ECF6\",\"angularaxis\":{\"gridcolor\":\"white\",\"linecolor\":\"white\",\"ticks\":\"\"},\"radialaxis\":{\"gridcolor\":\"white\",\"linecolor\":\"white\",\"ticks\":\"\"}},\"ternary\":{\"bgcolor\":\"#E5ECF6\",\"aaxis\":{\"gridcolor\":\"white\",\"linecolor\":\"white\",\"ticks\":\"\"},\"baxis\":{\"gridcolor\":\"white\",\"linecolor\":\"white\",\"ticks\":\"\"},\"caxis\":{\"gridcolor\":\"white\",\"linecolor\":\"white\",\"ticks\":\"\"}},\"coloraxis\":{\"colorbar\":{\"outlinewidth\":0,\"ticks\":\"\"}},\"colorscale\":{\"sequential\":[[0.0,\"#0d0887\"],[0.1111111111111111,\"#46039f\"],[0.2222222222222222,\"#7201a8\"],[0.3333333333333333,\"#9c179e\"],[0.4444444444444444,\"#bd3786\"],[0.5555555555555556,\"#d8576b\"],[0.6666666666666666,\"#ed7953\"],[0.7777777777777778,\"#fb9f3a\"],[0.8888888888888888,\"#fdca26\"],[1.0,\"#f0f921\"]],\"sequentialminus\":[[0.0,\"#0d0887\"],[0.1111111111111111,\"#46039f\"],[0.2222222222222222,\"#7201a8\"],[0.3333333333333333,\"#9c179e\"],[0.4444444444444444,\"#bd3786\"],[0.5555555555555556,\"#d8576b\"],[0.6666666666666666,\"#ed7953\"],[0.7777777777777778,\"#fb9f3a\"],[0.8888888888888888,\"#fdca26\"],[1.0,\"#f0f921\"]],\"diverging\":[[0,\"#8e0152\"],[0.1,\"#c51b7d\"],[0.2,\"#de77ae\"],[0.3,\"#f1b6da\"],[0.4,\"#fde0ef\"],[0.5,\"#f7f7f7\"],[0.6,\"#e6f5d0\"],[0.7,\"#b8e186\"],[0.8,\"#7fbc41\"],[0.9,\"#4d9221\"],[1,\"#276419\"]]},\"xaxis\":{\"gridcolor\":\"white\",\"linecolor\":\"white\",\"ticks\":\"\",\"title\":{\"standoff\":15},\"zerolinecolor\":\"white\",\"automargin\":true,\"zerolinewidth\":2},\"yaxis\":{\"gridcolor\":\"white\",\"linecolor\":\"white\",\"ticks\":\"\",\"title\":{\"standoff\":15},\"zerolinecolor\":\"white\",\"automargin\":true,\"zerolinewidth\":2},\"scene\":{\"xaxis\":{\"backgroundcolor\":\"#E5ECF6\",\"gridcolor\":\"white\",\"linecolor\":\"white\",\"showbackground\":true,\"ticks\":\"\",\"zerolinecolor\":\"white\",\"gridwidth\":2},\"yaxis\":{\"backgroundcolor\":\"#E5ECF6\",\"gridcolor\":\"white\",\"linecolor\":\"white\",\"showbackground\":true,\"ticks\":\"\",\"zerolinecolor\":\"white\",\"gridwidth\":2},\"zaxis\":{\"backgroundcolor\":\"#E5ECF6\",\"gridcolor\":\"white\",\"linecolor\":\"white\",\"showbackground\":true,\"ticks\":\"\",\"zerolinecolor\":\"white\",\"gridwidth\":2}},\"shapedefaults\":{\"line\":{\"color\":\"#2a3f5f\"}},\"annotationdefaults\":{\"arrowcolor\":\"#2a3f5f\",\"arrowhead\":0,\"arrowwidth\":1},\"geo\":{\"bgcolor\":\"white\",\"landcolor\":\"#E5ECF6\",\"subunitcolor\":\"white\",\"showland\":true,\"showlakes\":true,\"lakecolor\":\"white\"},\"title\":{\"x\":0.05},\"mapbox\":{\"style\":\"light\"}}},\"xaxis\":{\"anchor\":\"y\",\"domain\":[0.0,1.0],\"title\":{\"text\":\"Goals + Assists\"}},\"yaxis\":{\"anchor\":\"x\",\"domain\":[0.0,1.0],\"title\":{\"text\":\"Player\"},\"autorange\":\"reversed\"},\"coloraxis\":{\"colorbar\":{\"title\":{\"text\":\"G+A\"}},\"colorscale\":[[0.0,\"#440154\"],[0.1111111111111111,\"#482878\"],[0.2222222222222222,\"#3e4989\"],[0.3333333333333333,\"#31688e\"],[0.4444444444444444,\"#26828e\"],[0.5555555555555556,\"#1f9e89\"],[0.6666666666666666,\"#35b779\"],[0.7777777777777778,\"#6ece58\"],[0.8888888888888888,\"#b5de2b\"],[1.0,\"#fde725\"]]},\"legend\":{\"tracegroupgap\":0},\"title\":{\"text\":\"Young Players Leaderboard (≤ 21.0 Years) by G+A\",\"x\":0.5},\"barmode\":\"relative\",\"height\":800},                        {\"responsive\": true}                    ).then(function(){\n",
       "                            \n",
       "var gd = document.getElementById('47fc9f38-38bb-4cf0-9fbc-6dc1ac84def5');\n",
       "var x = new MutationObserver(function (mutations, observer) {{\n",
       "        var display = window.getComputedStyle(gd).display;\n",
       "        if (!display || display === 'none') {{\n",
       "            console.log([gd, 'removed!']);\n",
       "            Plotly.purge(gd);\n",
       "            observer.disconnect();\n",
       "        }}\n",
       "}});\n",
       "\n",
       "// Listen for the removal of the full notebook cells\n",
       "var notebookContainer = gd.closest('#notebook-container');\n",
       "if (notebookContainer) {{\n",
       "    x.observe(notebookContainer, {childList: true});\n",
       "}}\n",
       "\n",
       "// Listen for the clearing of the current output cell\n",
       "var outputEl = gd.closest('.output');\n",
       "if (outputEl) {{\n",
       "    x.observe(outputEl, {childList: true});\n",
       "}}\n",
       "\n",
       "                        })                };                            </script>        </div>\n",
       "</body>\n",
       "</html>"
      ]
     },
     "metadata": {},
     "output_type": "display_data"
    }
   ],
   "source": [
    "# Create interactive leaderboard for top 30 young players by G+A.\n",
    "young_players['G+A'] = young_players['Gls'] + young_players['Ast']\n",
    "\n",
    "young_leaderboard = young_players.sort_values('G+A', ascending=False)\n",
    "\n",
    "fig = px.bar(\n",
    "    young_leaderboard.head(30),\n",
    "    x='G+A',\n",
    "    y='Player',\n",
    "    color='G+A',\n",
    "    color_continuous_scale='viridis',\n",
    "    orientation='h',\n",
    "    text='G+A',\n",
    "    hover_data={\n",
    "        'Player': True,\n",
    "        'Gls': True,\n",
    "        'Ast': True,\n",
    "        'G+A': True,\n",
    "        'Age': True,\n",
    "        'Squad': True,\n",
    "        'Comp': True\n",
    "    },\n",
    "    title=f\"Young Players Leaderboard (≤ {age_threshold:.1f} Years) by G+A\"\n",
    ")\n",
    "\n",
    "fig.update_layout(\n",
    "    yaxis=dict(autorange='reversed'),\n",
    "    xaxis_title=\"Goals + Assists\",\n",
    "    yaxis_title=\"Player\",\n",
    "    title_x=0.5,\n",
    "    height=800\n",
    ")\n",
    "\n",
    "fig.show()"
   ]
  },
  {
   "cell_type": "markdown",
   "id": "a7449802",
   "metadata": {
    "_cell_guid": "654d4793-d4ad-43ee-9554-93c4778e9ec2",
    "_uuid": "99acdb3e-070c-4170-afd5-0cc16d176471",
    "collapsed": false,
    "jupyter": {
     "outputs_hidden": false
    },
    "papermill": {
     "duration": 0.020512,
     "end_time": "2025-07-05T04:56:04.494457",
     "exception": false,
     "start_time": "2025-07-05T04:56:04.473945",
     "status": "completed"
    },
    "tags": []
   },
   "source": [
    "**1. Bradley Barcola and Florian Wirtz are Europe's Most Influential Young Players in G+A:**\n",
    "* Barcola (24 G+A) and Wirtz (22 G+A) lead as young players with highest combined offensive contributions.\n",
    "\n",
    "**2. Most Creative Young Talents (Assists) Across Leagues:**\n",
    "* Lamine Yamal (La Liga) leads with 13 assists.\n",
    "* Florian Wirtz (Bundesliga) follows with 12 assists.\n",
    "* Rayan Cherki (Ligue 1) is also highly productive with 11 assists.\n",
    "\n",
    "**3. Concentration of High G+A Talent in Ligue 1, La Liga, Bundesliga:**\n",
    "* Ligue 1: Barcola (24 G+A) and Cherki (19 G+A) lead.\n",
    "* La Liga: Yamal (22 G+A) and Jude Bellingham (17 G+A) show big influence.\n",
    "* Bundesliga: Wirtz (22 G+A) and Šeško (18 G+A) are standout young stars.\n",
    "\n",
    "**4. All-Rounder Roles of Bellingham and Xavi Simons:**\n",
    "* Both appear in minutes, starter ratio, and now G+A stats (17 and 16 respectively), confirming them as complete midfielders.\n",
    "\n",
    "**5. Proof of Direct Impact on Team Performance:**\n",
    "* High G+A numbers show young players aren't just squad players but directly influence match outcomes."
   ]
  },
  {
   "cell_type": "markdown",
   "id": "0ea3079a",
   "metadata": {
    "_cell_guid": "a20a2c70-4432-4c07-a27b-f58566858770",
    "_uuid": "4b2193c5-fc07-400a-a029-0bdc2e853e44",
    "collapsed": false,
    "jupyter": {
     "outputs_hidden": false
    },
    "papermill": {
     "duration": 0.020483,
     "end_time": "2025-07-05T04:56:04.535605",
     "exception": false,
     "start_time": "2025-07-05T04:56:04.515122",
     "status": "completed"
    },
    "tags": []
   },
   "source": [
    "## ♟ Young Players' Position Analysis\n",
    "This section analyzes the distribution of young players' positions and average minutes played per position."
   ]
  },
  {
   "cell_type": "code",
   "execution_count": 26,
   "id": "059cc7e5",
   "metadata": {
    "_cell_guid": "74bac5bf-6a92-4576-90fe-1a312a3f1844",
    "_uuid": "0f81cf6a-3856-40ee-9e27-a88f1697eee7",
    "collapsed": false,
    "execution": {
     "iopub.execute_input": "2025-07-05T04:56:04.580144Z",
     "iopub.status.busy": "2025-07-05T04:56:04.579003Z",
     "iopub.status.idle": "2025-07-05T04:56:04.637889Z",
     "shell.execute_reply": "2025-07-05T04:56:04.636663Z"
    },
    "jupyter": {
     "outputs_hidden": false
    },
    "papermill": {
     "duration": 0.083299,
     "end_time": "2025-07-05T04:56:04.639835",
     "exception": false,
     "start_time": "2025-07-05T04:56:04.556536",
     "status": "completed"
    },
    "tags": []
   },
   "outputs": [
    {
     "name": "stdout",
     "output_type": "stream",
     "text": [
      "  Position  Number of Players\n",
      "0       DF                185\n",
      "1       MF                159\n",
      "2       FW                 96\n",
      "3    FW,MF                 84\n",
      "4    MF,FW                 74\n",
      "5    DF,MF                 30\n",
      "6    MF,DF                 27\n",
      "7    DF,FW                 15\n",
      "8       GK                 14\n",
      "9    FW,DF                  8\n"
     ]
    },
    {
     "data": {
      "text/html": [
       "<html>\n",
       "<head><meta charset=\"utf-8\" /></head>\n",
       "<body>\n",
       "    <div>            <script src=\"https://cdnjs.cloudflare.com/ajax/libs/mathjax/2.7.5/MathJax.js?config=TeX-AMS-MML_SVG\"></script><script type=\"text/javascript\">if (window.MathJax && window.MathJax.Hub && window.MathJax.Hub.Config) {window.MathJax.Hub.Config({SVG: {font: \"STIX-Web\"}});}</script>                <script type=\"text/javascript\">window.PlotlyConfig = {MathJaxConfig: 'local'};</script>\n",
       "        <script charset=\"utf-8\" src=\"https://cdn.plot.ly/plotly-2.35.2.min.js\"></script>                <div id=\"fc201c34-710e-4cd5-9cab-5b24fbb0ed3a\" class=\"plotly-graph-div\" style=\"height:525px; width:100%;\"></div>            <script type=\"text/javascript\">                                    window.PLOTLYENV=window.PLOTLYENV || {};                                    if (document.getElementById(\"fc201c34-710e-4cd5-9cab-5b24fbb0ed3a\")) {                    Plotly.newPlot(                        \"fc201c34-710e-4cd5-9cab-5b24fbb0ed3a\",                        [{\"alignmentgroup\":\"True\",\"hovertemplate\":\"Number of Players=%{marker.color}\\u003cbr\\u003ePosition=%{y}\\u003cextra\\u003e\\u003c\\u002fextra\\u003e\",\"legendgroup\":\"\",\"marker\":{\"color\":[185,159,96,84,74,30,27,15,14,8],\"coloraxis\":\"coloraxis\",\"pattern\":{\"shape\":\"\"}},\"name\":\"\",\"offsetgroup\":\"\",\"orientation\":\"h\",\"showlegend\":false,\"text\":[185.0,159.0,96.0,84.0,74.0,30.0,27.0,15.0,14.0,8.0],\"textposition\":\"auto\",\"x\":[185,159,96,84,74,30,27,15,14,8],\"xaxis\":\"x\",\"y\":[\"DF\",\"MF\",\"FW\",\"FW,MF\",\"MF,FW\",\"DF,MF\",\"MF,DF\",\"DF,FW\",\"GK\",\"FW,DF\"],\"yaxis\":\"y\",\"type\":\"bar\"}],                        {\"template\":{\"data\":{\"histogram2dcontour\":[{\"type\":\"histogram2dcontour\",\"colorbar\":{\"outlinewidth\":0,\"ticks\":\"\"},\"colorscale\":[[0.0,\"#0d0887\"],[0.1111111111111111,\"#46039f\"],[0.2222222222222222,\"#7201a8\"],[0.3333333333333333,\"#9c179e\"],[0.4444444444444444,\"#bd3786\"],[0.5555555555555556,\"#d8576b\"],[0.6666666666666666,\"#ed7953\"],[0.7777777777777778,\"#fb9f3a\"],[0.8888888888888888,\"#fdca26\"],[1.0,\"#f0f921\"]]}],\"choropleth\":[{\"type\":\"choropleth\",\"colorbar\":{\"outlinewidth\":0,\"ticks\":\"\"}}],\"histogram2d\":[{\"type\":\"histogram2d\",\"colorbar\":{\"outlinewidth\":0,\"ticks\":\"\"},\"colorscale\":[[0.0,\"#0d0887\"],[0.1111111111111111,\"#46039f\"],[0.2222222222222222,\"#7201a8\"],[0.3333333333333333,\"#9c179e\"],[0.4444444444444444,\"#bd3786\"],[0.5555555555555556,\"#d8576b\"],[0.6666666666666666,\"#ed7953\"],[0.7777777777777778,\"#fb9f3a\"],[0.8888888888888888,\"#fdca26\"],[1.0,\"#f0f921\"]]}],\"heatmap\":[{\"type\":\"heatmap\",\"colorbar\":{\"outlinewidth\":0,\"ticks\":\"\"},\"colorscale\":[[0.0,\"#0d0887\"],[0.1111111111111111,\"#46039f\"],[0.2222222222222222,\"#7201a8\"],[0.3333333333333333,\"#9c179e\"],[0.4444444444444444,\"#bd3786\"],[0.5555555555555556,\"#d8576b\"],[0.6666666666666666,\"#ed7953\"],[0.7777777777777778,\"#fb9f3a\"],[0.8888888888888888,\"#fdca26\"],[1.0,\"#f0f921\"]]}],\"heatmapgl\":[{\"type\":\"heatmapgl\",\"colorbar\":{\"outlinewidth\":0,\"ticks\":\"\"},\"colorscale\":[[0.0,\"#0d0887\"],[0.1111111111111111,\"#46039f\"],[0.2222222222222222,\"#7201a8\"],[0.3333333333333333,\"#9c179e\"],[0.4444444444444444,\"#bd3786\"],[0.5555555555555556,\"#d8576b\"],[0.6666666666666666,\"#ed7953\"],[0.7777777777777778,\"#fb9f3a\"],[0.8888888888888888,\"#fdca26\"],[1.0,\"#f0f921\"]]}],\"contourcarpet\":[{\"type\":\"contourcarpet\",\"colorbar\":{\"outlinewidth\":0,\"ticks\":\"\"}}],\"contour\":[{\"type\":\"contour\",\"colorbar\":{\"outlinewidth\":0,\"ticks\":\"\"},\"colorscale\":[[0.0,\"#0d0887\"],[0.1111111111111111,\"#46039f\"],[0.2222222222222222,\"#7201a8\"],[0.3333333333333333,\"#9c179e\"],[0.4444444444444444,\"#bd3786\"],[0.5555555555555556,\"#d8576b\"],[0.6666666666666666,\"#ed7953\"],[0.7777777777777778,\"#fb9f3a\"],[0.8888888888888888,\"#fdca26\"],[1.0,\"#f0f921\"]]}],\"surface\":[{\"type\":\"surface\",\"colorbar\":{\"outlinewidth\":0,\"ticks\":\"\"},\"colorscale\":[[0.0,\"#0d0887\"],[0.1111111111111111,\"#46039f\"],[0.2222222222222222,\"#7201a8\"],[0.3333333333333333,\"#9c179e\"],[0.4444444444444444,\"#bd3786\"],[0.5555555555555556,\"#d8576b\"],[0.6666666666666666,\"#ed7953\"],[0.7777777777777778,\"#fb9f3a\"],[0.8888888888888888,\"#fdca26\"],[1.0,\"#f0f921\"]]}],\"mesh3d\":[{\"type\":\"mesh3d\",\"colorbar\":{\"outlinewidth\":0,\"ticks\":\"\"}}],\"scatter\":[{\"fillpattern\":{\"fillmode\":\"overlay\",\"size\":10,\"solidity\":0.2},\"type\":\"scatter\"}],\"parcoords\":[{\"type\":\"parcoords\",\"line\":{\"colorbar\":{\"outlinewidth\":0,\"ticks\":\"\"}}}],\"scatterpolargl\":[{\"type\":\"scatterpolargl\",\"marker\":{\"colorbar\":{\"outlinewidth\":0,\"ticks\":\"\"}}}],\"bar\":[{\"error_x\":{\"color\":\"#2a3f5f\"},\"error_y\":{\"color\":\"#2a3f5f\"},\"marker\":{\"line\":{\"color\":\"#E5ECF6\",\"width\":0.5},\"pattern\":{\"fillmode\":\"overlay\",\"size\":10,\"solidity\":0.2}},\"type\":\"bar\"}],\"scattergeo\":[{\"type\":\"scattergeo\",\"marker\":{\"colorbar\":{\"outlinewidth\":0,\"ticks\":\"\"}}}],\"scatterpolar\":[{\"type\":\"scatterpolar\",\"marker\":{\"colorbar\":{\"outlinewidth\":0,\"ticks\":\"\"}}}],\"histogram\":[{\"marker\":{\"pattern\":{\"fillmode\":\"overlay\",\"size\":10,\"solidity\":0.2}},\"type\":\"histogram\"}],\"scattergl\":[{\"type\":\"scattergl\",\"marker\":{\"colorbar\":{\"outlinewidth\":0,\"ticks\":\"\"}}}],\"scatter3d\":[{\"type\":\"scatter3d\",\"line\":{\"colorbar\":{\"outlinewidth\":0,\"ticks\":\"\"}},\"marker\":{\"colorbar\":{\"outlinewidth\":0,\"ticks\":\"\"}}}],\"scattermapbox\":[{\"type\":\"scattermapbox\",\"marker\":{\"colorbar\":{\"outlinewidth\":0,\"ticks\":\"\"}}}],\"scatterternary\":[{\"type\":\"scatterternary\",\"marker\":{\"colorbar\":{\"outlinewidth\":0,\"ticks\":\"\"}}}],\"scattercarpet\":[{\"type\":\"scattercarpet\",\"marker\":{\"colorbar\":{\"outlinewidth\":0,\"ticks\":\"\"}}}],\"carpet\":[{\"aaxis\":{\"endlinecolor\":\"#2a3f5f\",\"gridcolor\":\"white\",\"linecolor\":\"white\",\"minorgridcolor\":\"white\",\"startlinecolor\":\"#2a3f5f\"},\"baxis\":{\"endlinecolor\":\"#2a3f5f\",\"gridcolor\":\"white\",\"linecolor\":\"white\",\"minorgridcolor\":\"white\",\"startlinecolor\":\"#2a3f5f\"},\"type\":\"carpet\"}],\"table\":[{\"cells\":{\"fill\":{\"color\":\"#EBF0F8\"},\"line\":{\"color\":\"white\"}},\"header\":{\"fill\":{\"color\":\"#C8D4E3\"},\"line\":{\"color\":\"white\"}},\"type\":\"table\"}],\"barpolar\":[{\"marker\":{\"line\":{\"color\":\"#E5ECF6\",\"width\":0.5},\"pattern\":{\"fillmode\":\"overlay\",\"size\":10,\"solidity\":0.2}},\"type\":\"barpolar\"}],\"pie\":[{\"automargin\":true,\"type\":\"pie\"}]},\"layout\":{\"autotypenumbers\":\"strict\",\"colorway\":[\"#636efa\",\"#EF553B\",\"#00cc96\",\"#ab63fa\",\"#FFA15A\",\"#19d3f3\",\"#FF6692\",\"#B6E880\",\"#FF97FF\",\"#FECB52\"],\"font\":{\"color\":\"#2a3f5f\"},\"hovermode\":\"closest\",\"hoverlabel\":{\"align\":\"left\"},\"paper_bgcolor\":\"white\",\"plot_bgcolor\":\"#E5ECF6\",\"polar\":{\"bgcolor\":\"#E5ECF6\",\"angularaxis\":{\"gridcolor\":\"white\",\"linecolor\":\"white\",\"ticks\":\"\"},\"radialaxis\":{\"gridcolor\":\"white\",\"linecolor\":\"white\",\"ticks\":\"\"}},\"ternary\":{\"bgcolor\":\"#E5ECF6\",\"aaxis\":{\"gridcolor\":\"white\",\"linecolor\":\"white\",\"ticks\":\"\"},\"baxis\":{\"gridcolor\":\"white\",\"linecolor\":\"white\",\"ticks\":\"\"},\"caxis\":{\"gridcolor\":\"white\",\"linecolor\":\"white\",\"ticks\":\"\"}},\"coloraxis\":{\"colorbar\":{\"outlinewidth\":0,\"ticks\":\"\"}},\"colorscale\":{\"sequential\":[[0.0,\"#0d0887\"],[0.1111111111111111,\"#46039f\"],[0.2222222222222222,\"#7201a8\"],[0.3333333333333333,\"#9c179e\"],[0.4444444444444444,\"#bd3786\"],[0.5555555555555556,\"#d8576b\"],[0.6666666666666666,\"#ed7953\"],[0.7777777777777778,\"#fb9f3a\"],[0.8888888888888888,\"#fdca26\"],[1.0,\"#f0f921\"]],\"sequentialminus\":[[0.0,\"#0d0887\"],[0.1111111111111111,\"#46039f\"],[0.2222222222222222,\"#7201a8\"],[0.3333333333333333,\"#9c179e\"],[0.4444444444444444,\"#bd3786\"],[0.5555555555555556,\"#d8576b\"],[0.6666666666666666,\"#ed7953\"],[0.7777777777777778,\"#fb9f3a\"],[0.8888888888888888,\"#fdca26\"],[1.0,\"#f0f921\"]],\"diverging\":[[0,\"#8e0152\"],[0.1,\"#c51b7d\"],[0.2,\"#de77ae\"],[0.3,\"#f1b6da\"],[0.4,\"#fde0ef\"],[0.5,\"#f7f7f7\"],[0.6,\"#e6f5d0\"],[0.7,\"#b8e186\"],[0.8,\"#7fbc41\"],[0.9,\"#4d9221\"],[1,\"#276419\"]]},\"xaxis\":{\"gridcolor\":\"white\",\"linecolor\":\"white\",\"ticks\":\"\",\"title\":{\"standoff\":15},\"zerolinecolor\":\"white\",\"automargin\":true,\"zerolinewidth\":2},\"yaxis\":{\"gridcolor\":\"white\",\"linecolor\":\"white\",\"ticks\":\"\",\"title\":{\"standoff\":15},\"zerolinecolor\":\"white\",\"automargin\":true,\"zerolinewidth\":2},\"scene\":{\"xaxis\":{\"backgroundcolor\":\"#E5ECF6\",\"gridcolor\":\"white\",\"linecolor\":\"white\",\"showbackground\":true,\"ticks\":\"\",\"zerolinecolor\":\"white\",\"gridwidth\":2},\"yaxis\":{\"backgroundcolor\":\"#E5ECF6\",\"gridcolor\":\"white\",\"linecolor\":\"white\",\"showbackground\":true,\"ticks\":\"\",\"zerolinecolor\":\"white\",\"gridwidth\":2},\"zaxis\":{\"backgroundcolor\":\"#E5ECF6\",\"gridcolor\":\"white\",\"linecolor\":\"white\",\"showbackground\":true,\"ticks\":\"\",\"zerolinecolor\":\"white\",\"gridwidth\":2}},\"shapedefaults\":{\"line\":{\"color\":\"#2a3f5f\"}},\"annotationdefaults\":{\"arrowcolor\":\"#2a3f5f\",\"arrowhead\":0,\"arrowwidth\":1},\"geo\":{\"bgcolor\":\"white\",\"landcolor\":\"#E5ECF6\",\"subunitcolor\":\"white\",\"showland\":true,\"showlakes\":true,\"lakecolor\":\"white\"},\"title\":{\"x\":0.05},\"mapbox\":{\"style\":\"light\"}}},\"xaxis\":{\"anchor\":\"y\",\"domain\":[0.0,1.0],\"title\":{\"text\":\"Number of Players\"}},\"yaxis\":{\"anchor\":\"x\",\"domain\":[0.0,1.0],\"title\":{\"text\":\"Position\"},\"categoryorder\":\"total ascending\"},\"coloraxis\":{\"colorbar\":{\"title\":{\"text\":\"Number of Players\"}},\"colorscale\":[[0.0,\"rgb(253, 237, 176)\"],[0.09090909090909091,\"rgb(250, 205, 145)\"],[0.18181818181818182,\"rgb(246, 173, 119)\"],[0.2727272727272727,\"rgb(240, 142, 98)\"],[0.36363636363636365,\"rgb(231, 109, 84)\"],[0.45454545454545453,\"rgb(216, 80, 83)\"],[0.5454545454545454,\"rgb(195, 56, 90)\"],[0.6363636363636364,\"rgb(168, 40, 96)\"],[0.7272727272727273,\"rgb(138, 29, 99)\"],[0.8181818181818182,\"rgb(107, 24, 93)\"],[0.9090909090909091,\"rgb(76, 21, 80)\"],[1.0,\"rgb(47, 15, 61)\"]]},\"legend\":{\"tracegroupgap\":0},\"title\":{\"text\":\"Number of Young Players by Position\",\"x\":0.5},\"barmode\":\"relative\"},                        {\"responsive\": true}                    ).then(function(){\n",
       "                            \n",
       "var gd = document.getElementById('fc201c34-710e-4cd5-9cab-5b24fbb0ed3a');\n",
       "var x = new MutationObserver(function (mutations, observer) {{\n",
       "        var display = window.getComputedStyle(gd).display;\n",
       "        if (!display || display === 'none') {{\n",
       "            console.log([gd, 'removed!']);\n",
       "            Plotly.purge(gd);\n",
       "            observer.disconnect();\n",
       "        }}\n",
       "}});\n",
       "\n",
       "// Listen for the removal of the full notebook cells\n",
       "var notebookContainer = gd.closest('#notebook-container');\n",
       "if (notebookContainer) {{\n",
       "    x.observe(notebookContainer, {childList: true});\n",
       "}}\n",
       "\n",
       "// Listen for the clearing of the current output cell\n",
       "var outputEl = gd.closest('.output');\n",
       "if (outputEl) {{\n",
       "    x.observe(outputEl, {childList: true});\n",
       "}}\n",
       "\n",
       "                        })                };                            </script>        </div>\n",
       "</body>\n",
       "</html>"
      ]
     },
     "metadata": {},
     "output_type": "display_data"
    }
   ],
   "source": [
    "# Count young players by position.\n",
    "young_pos_counts = young_players['Pos'].value_counts().reset_index()\n",
    "young_pos_counts.columns = ['Position', 'Number of Players']\n",
    "\n",
    "print(young_pos_counts)\n",
    "\n",
    "# Create bar chart for young players by position.\n",
    "fig = px.bar(\n",
    "    young_pos_counts,\n",
    "    x='Number of Players',\n",
    "    y='Position',\n",
    "    orientation='h',\n",
    "    text='Number of Players',\n",
    "    color='Number of Players',\n",
    "    color_continuous_scale='matter',\n",
    "    title='Number of Young Players by Position'\n",
    ")\n",
    "\n",
    "fig.update_layout(\n",
    "    yaxis=dict(categoryorder='total ascending'), # Sort positions by player count\n",
    "    title_x=0.5\n",
    ")\n",
    "\n",
    "fig.show()"
   ]
  },
  {
   "cell_type": "code",
   "execution_count": 27,
   "id": "9808446c",
   "metadata": {
    "_cell_guid": "e1162adf-d43d-4675-b436-b66521640f8f",
    "_uuid": "936296a0-536b-4c02-8518-b6dedbf5765d",
    "collapsed": false,
    "execution": {
     "iopub.execute_input": "2025-07-05T04:56:04.688956Z",
     "iopub.status.busy": "2025-07-05T04:56:04.688623Z",
     "iopub.status.idle": "2025-07-05T04:56:04.744818Z",
     "shell.execute_reply": "2025-07-05T04:56:04.743781Z"
    },
    "jupyter": {
     "outputs_hidden": false
    },
    "papermill": {
     "duration": 0.082168,
     "end_time": "2025-07-05T04:56:04.746494",
     "exception": false,
     "start_time": "2025-07-05T04:56:04.664326",
     "status": "completed"
    },
    "tags": []
   },
   "outputs": [
    {
     "name": "stdout",
     "output_type": "stream",
     "text": [
      "  Position  Average Minutes\n",
      "0       GK           885.86\n",
      "1    DF,MF           791.57\n",
      "2    MF,DF           784.93\n",
      "3    MF,FW           752.74\n",
      "4       MF           744.36\n",
      "5       DF           742.39\n",
      "6    FW,MF           647.99\n",
      "7    DF,FW           509.80\n",
      "8       FW           472.33\n",
      "9    FW,DF            50.00\n"
     ]
    },
    {
     "data": {
      "text/html": [
       "<html>\n",
       "<head><meta charset=\"utf-8\" /></head>\n",
       "<body>\n",
       "    <div>            <script src=\"https://cdnjs.cloudflare.com/ajax/libs/mathjax/2.7.5/MathJax.js?config=TeX-AMS-MML_SVG\"></script><script type=\"text/javascript\">if (window.MathJax && window.MathJax.Hub && window.MathJax.Hub.Config) {window.MathJax.Hub.Config({SVG: {font: \"STIX-Web\"}});}</script>                <script type=\"text/javascript\">window.PlotlyConfig = {MathJaxConfig: 'local'};</script>\n",
       "        <script charset=\"utf-8\" src=\"https://cdn.plot.ly/plotly-2.35.2.min.js\"></script>                <div id=\"b8232849-4e9e-45c9-abb3-09a7d8ae9488\" class=\"plotly-graph-div\" style=\"height:525px; width:100%;\"></div>            <script type=\"text/javascript\">                                    window.PLOTLYENV=window.PLOTLYENV || {};                                    if (document.getElementById(\"b8232849-4e9e-45c9-abb3-09a7d8ae9488\")) {                    Plotly.newPlot(                        \"b8232849-4e9e-45c9-abb3-09a7d8ae9488\",                        [{\"alignmentgroup\":\"True\",\"hovertemplate\":\"Average Minutes=%{marker.color}\\u003cbr\\u003ePosition=%{y}\\u003cextra\\u003e\\u003c\\u002fextra\\u003e\",\"legendgroup\":\"\",\"marker\":{\"color\":[885.86,791.57,784.93,752.74,744.36,742.39,647.99,509.8,472.33,50.0],\"coloraxis\":\"coloraxis\",\"pattern\":{\"shape\":\"\"}},\"name\":\"\",\"offsetgroup\":\"\",\"orientation\":\"h\",\"showlegend\":false,\"text\":[885.86,791.57,784.93,752.74,744.36,742.39,647.99,509.8,472.33,50.0],\"textposition\":\"auto\",\"x\":[885.86,791.57,784.93,752.74,744.36,742.39,647.99,509.8,472.33,50.0],\"xaxis\":\"x\",\"y\":[\"GK\",\"DF,MF\",\"MF,DF\",\"MF,FW\",\"MF\",\"DF\",\"FW,MF\",\"DF,FW\",\"FW\",\"FW,DF\"],\"yaxis\":\"y\",\"type\":\"bar\"}],                        {\"template\":{\"data\":{\"histogram2dcontour\":[{\"type\":\"histogram2dcontour\",\"colorbar\":{\"outlinewidth\":0,\"ticks\":\"\"},\"colorscale\":[[0.0,\"#0d0887\"],[0.1111111111111111,\"#46039f\"],[0.2222222222222222,\"#7201a8\"],[0.3333333333333333,\"#9c179e\"],[0.4444444444444444,\"#bd3786\"],[0.5555555555555556,\"#d8576b\"],[0.6666666666666666,\"#ed7953\"],[0.7777777777777778,\"#fb9f3a\"],[0.8888888888888888,\"#fdca26\"],[1.0,\"#f0f921\"]]}],\"choropleth\":[{\"type\":\"choropleth\",\"colorbar\":{\"outlinewidth\":0,\"ticks\":\"\"}}],\"histogram2d\":[{\"type\":\"histogram2d\",\"colorbar\":{\"outlinewidth\":0,\"ticks\":\"\"},\"colorscale\":[[0.0,\"#0d0887\"],[0.1111111111111111,\"#46039f\"],[0.2222222222222222,\"#7201a8\"],[0.3333333333333333,\"#9c179e\"],[0.4444444444444444,\"#bd3786\"],[0.5555555555555556,\"#d8576b\"],[0.6666666666666666,\"#ed7953\"],[0.7777777777777778,\"#fb9f3a\"],[0.8888888888888888,\"#fdca26\"],[1.0,\"#f0f921\"]]}],\"heatmap\":[{\"type\":\"heatmap\",\"colorbar\":{\"outlinewidth\":0,\"ticks\":\"\"},\"colorscale\":[[0.0,\"#0d0887\"],[0.1111111111111111,\"#46039f\"],[0.2222222222222222,\"#7201a8\"],[0.3333333333333333,\"#9c179e\"],[0.4444444444444444,\"#bd3786\"],[0.5555555555555556,\"#d8576b\"],[0.6666666666666666,\"#ed7953\"],[0.7777777777777778,\"#fb9f3a\"],[0.8888888888888888,\"#fdca26\"],[1.0,\"#f0f921\"]]}],\"heatmapgl\":[{\"type\":\"heatmapgl\",\"colorbar\":{\"outlinewidth\":0,\"ticks\":\"\"},\"colorscale\":[[0.0,\"#0d0887\"],[0.1111111111111111,\"#46039f\"],[0.2222222222222222,\"#7201a8\"],[0.3333333333333333,\"#9c179e\"],[0.4444444444444444,\"#bd3786\"],[0.5555555555555556,\"#d8576b\"],[0.6666666666666666,\"#ed7953\"],[0.7777777777777778,\"#fb9f3a\"],[0.8888888888888888,\"#fdca26\"],[1.0,\"#f0f921\"]]}],\"contourcarpet\":[{\"type\":\"contourcarpet\",\"colorbar\":{\"outlinewidth\":0,\"ticks\":\"\"}}],\"contour\":[{\"type\":\"contour\",\"colorbar\":{\"outlinewidth\":0,\"ticks\":\"\"},\"colorscale\":[[0.0,\"#0d0887\"],[0.1111111111111111,\"#46039f\"],[0.2222222222222222,\"#7201a8\"],[0.3333333333333333,\"#9c179e\"],[0.4444444444444444,\"#bd3786\"],[0.5555555555555556,\"#d8576b\"],[0.6666666666666666,\"#ed7953\"],[0.7777777777777778,\"#fb9f3a\"],[0.8888888888888888,\"#fdca26\"],[1.0,\"#f0f921\"]]}],\"surface\":[{\"type\":\"surface\",\"colorbar\":{\"outlinewidth\":0,\"ticks\":\"\"},\"colorscale\":[[0.0,\"#0d0887\"],[0.1111111111111111,\"#46039f\"],[0.2222222222222222,\"#7201a8\"],[0.3333333333333333,\"#9c179e\"],[0.4444444444444444,\"#bd3786\"],[0.5555555555555556,\"#d8576b\"],[0.6666666666666666,\"#ed7953\"],[0.7777777777777778,\"#fb9f3a\"],[0.8888888888888888,\"#fdca26\"],[1.0,\"#f0f921\"]]}],\"mesh3d\":[{\"type\":\"mesh3d\",\"colorbar\":{\"outlinewidth\":0,\"ticks\":\"\"}}],\"scatter\":[{\"fillpattern\":{\"fillmode\":\"overlay\",\"size\":10,\"solidity\":0.2},\"type\":\"scatter\"}],\"parcoords\":[{\"type\":\"parcoords\",\"line\":{\"colorbar\":{\"outlinewidth\":0,\"ticks\":\"\"}}}],\"scatterpolargl\":[{\"type\":\"scatterpolargl\",\"marker\":{\"colorbar\":{\"outlinewidth\":0,\"ticks\":\"\"}}}],\"bar\":[{\"error_x\":{\"color\":\"#2a3f5f\"},\"error_y\":{\"color\":\"#2a3f5f\"},\"marker\":{\"line\":{\"color\":\"#E5ECF6\",\"width\":0.5},\"pattern\":{\"fillmode\":\"overlay\",\"size\":10,\"solidity\":0.2}},\"type\":\"bar\"}],\"scattergeo\":[{\"type\":\"scattergeo\",\"marker\":{\"colorbar\":{\"outlinewidth\":0,\"ticks\":\"\"}}}],\"scatterpolar\":[{\"type\":\"scatterpolar\",\"marker\":{\"colorbar\":{\"outlinewidth\":0,\"ticks\":\"\"}}}],\"histogram\":[{\"marker\":{\"pattern\":{\"fillmode\":\"overlay\",\"size\":10,\"solidity\":0.2}},\"type\":\"histogram\"}],\"scattergl\":[{\"type\":\"scattergl\",\"marker\":{\"colorbar\":{\"outlinewidth\":0,\"ticks\":\"\"}}}],\"scatter3d\":[{\"type\":\"scatter3d\",\"line\":{\"colorbar\":{\"outlinewidth\":0,\"ticks\":\"\"}},\"marker\":{\"colorbar\":{\"outlinewidth\":0,\"ticks\":\"\"}}}],\"scattermapbox\":[{\"type\":\"scattermapbox\",\"marker\":{\"colorbar\":{\"outlinewidth\":0,\"ticks\":\"\"}}}],\"scatterternary\":[{\"type\":\"scatterternary\",\"marker\":{\"colorbar\":{\"outlinewidth\":0,\"ticks\":\"\"}}}],\"scattercarpet\":[{\"type\":\"scattercarpet\",\"marker\":{\"colorbar\":{\"outlinewidth\":0,\"ticks\":\"\"}}}],\"carpet\":[{\"aaxis\":{\"endlinecolor\":\"#2a3f5f\",\"gridcolor\":\"white\",\"linecolor\":\"white\",\"minorgridcolor\":\"white\",\"startlinecolor\":\"#2a3f5f\"},\"baxis\":{\"endlinecolor\":\"#2a3f5f\",\"gridcolor\":\"white\",\"linecolor\":\"white\",\"minorgridcolor\":\"white\",\"startlinecolor\":\"#2a3f5f\"},\"type\":\"carpet\"}],\"table\":[{\"cells\":{\"fill\":{\"color\":\"#EBF0F8\"},\"line\":{\"color\":\"white\"}},\"header\":{\"fill\":{\"color\":\"#C8D4E3\"},\"line\":{\"color\":\"white\"}},\"type\":\"table\"}],\"barpolar\":[{\"marker\":{\"line\":{\"color\":\"#E5ECF6\",\"width\":0.5},\"pattern\":{\"fillmode\":\"overlay\",\"size\":10,\"solidity\":0.2}},\"type\":\"barpolar\"}],\"pie\":[{\"automargin\":true,\"type\":\"pie\"}]},\"layout\":{\"autotypenumbers\":\"strict\",\"colorway\":[\"#636efa\",\"#EF553B\",\"#00cc96\",\"#ab63fa\",\"#FFA15A\",\"#19d3f3\",\"#FF6692\",\"#B6E880\",\"#FF97FF\",\"#FECB52\"],\"font\":{\"color\":\"#2a3f5f\"},\"hovermode\":\"closest\",\"hoverlabel\":{\"align\":\"left\"},\"paper_bgcolor\":\"white\",\"plot_bgcolor\":\"#E5ECF6\",\"polar\":{\"bgcolor\":\"#E5ECF6\",\"angularaxis\":{\"gridcolor\":\"white\",\"linecolor\":\"white\",\"ticks\":\"\"},\"radialaxis\":{\"gridcolor\":\"white\",\"linecolor\":\"white\",\"ticks\":\"\"}},\"ternary\":{\"bgcolor\":\"#E5ECF6\",\"aaxis\":{\"gridcolor\":\"white\",\"linecolor\":\"white\",\"ticks\":\"\"},\"baxis\":{\"gridcolor\":\"white\",\"linecolor\":\"white\",\"ticks\":\"\"},\"caxis\":{\"gridcolor\":\"white\",\"linecolor\":\"white\",\"ticks\":\"\"}},\"coloraxis\":{\"colorbar\":{\"outlinewidth\":0,\"ticks\":\"\"}},\"colorscale\":{\"sequential\":[[0.0,\"#0d0887\"],[0.1111111111111111,\"#46039f\"],[0.2222222222222222,\"#7201a8\"],[0.3333333333333333,\"#9c179e\"],[0.4444444444444444,\"#bd3786\"],[0.5555555555555556,\"#d8576b\"],[0.6666666666666666,\"#ed7953\"],[0.7777777777777778,\"#fb9f3a\"],[0.8888888888888888,\"#fdca26\"],[1.0,\"#f0f921\"]],\"sequentialminus\":[[0.0,\"#0d0887\"],[0.1111111111111111,\"#46039f\"],[0.2222222222222222,\"#7201a8\"],[0.3333333333333333,\"#9c179e\"],[0.4444444444444444,\"#bd3786\"],[0.5555555555555556,\"#d8576b\"],[0.6666666666666666,\"#ed7953\"],[0.7777777777777778,\"#fb9f3a\"],[0.8888888888888888,\"#fdca26\"],[1.0,\"#f0f921\"]],\"diverging\":[[0,\"#8e0152\"],[0.1,\"#c51b7d\"],[0.2,\"#de77ae\"],[0.3,\"#f1b6da\"],[0.4,\"#fde0ef\"],[0.5,\"#f7f7f7\"],[0.6,\"#e6f5d0\"],[0.7,\"#b8e186\"],[0.8,\"#7fbc41\"],[0.9,\"#4d9221\"],[1,\"#276419\"]]},\"xaxis\":{\"gridcolor\":\"white\",\"linecolor\":\"white\",\"ticks\":\"\",\"title\":{\"standoff\":15},\"zerolinecolor\":\"white\",\"automargin\":true,\"zerolinewidth\":2},\"yaxis\":{\"gridcolor\":\"white\",\"linecolor\":\"white\",\"ticks\":\"\",\"title\":{\"standoff\":15},\"zerolinecolor\":\"white\",\"automargin\":true,\"zerolinewidth\":2},\"scene\":{\"xaxis\":{\"backgroundcolor\":\"#E5ECF6\",\"gridcolor\":\"white\",\"linecolor\":\"white\",\"showbackground\":true,\"ticks\":\"\",\"zerolinecolor\":\"white\",\"gridwidth\":2},\"yaxis\":{\"backgroundcolor\":\"#E5ECF6\",\"gridcolor\":\"white\",\"linecolor\":\"white\",\"showbackground\":true,\"ticks\":\"\",\"zerolinecolor\":\"white\",\"gridwidth\":2},\"zaxis\":{\"backgroundcolor\":\"#E5ECF6\",\"gridcolor\":\"white\",\"linecolor\":\"white\",\"showbackground\":true,\"ticks\":\"\",\"zerolinecolor\":\"white\",\"gridwidth\":2}},\"shapedefaults\":{\"line\":{\"color\":\"#2a3f5f\"}},\"annotationdefaults\":{\"arrowcolor\":\"#2a3f5f\",\"arrowhead\":0,\"arrowwidth\":1},\"geo\":{\"bgcolor\":\"white\",\"landcolor\":\"#E5ECF6\",\"subunitcolor\":\"white\",\"showland\":true,\"showlakes\":true,\"lakecolor\":\"white\"},\"title\":{\"x\":0.05},\"mapbox\":{\"style\":\"light\"}}},\"xaxis\":{\"anchor\":\"y\",\"domain\":[0.0,1.0],\"title\":{\"text\":\"Average Minutes\"}},\"yaxis\":{\"anchor\":\"x\",\"domain\":[0.0,1.0],\"title\":{\"text\":\"Position\"},\"categoryorder\":\"total ascending\"},\"coloraxis\":{\"colorbar\":{\"title\":{\"text\":\"Average Minutes\"}},\"colorscale\":[[0.0,\"#440154\"],[0.1111111111111111,\"#482878\"],[0.2222222222222222,\"#3e4989\"],[0.3333333333333333,\"#31688e\"],[0.4444444444444444,\"#26828e\"],[0.5555555555555556,\"#1f9e89\"],[0.6666666666666666,\"#35b779\"],[0.7777777777777778,\"#6ece58\"],[0.8888888888888888,\"#b5de2b\"],[1.0,\"#fde725\"]]},\"legend\":{\"tracegroupgap\":0},\"title\":{\"text\":\"Average Minutes Played by Young Players per Position\",\"x\":0.5},\"barmode\":\"relative\"},                        {\"responsive\": true}                    ).then(function(){\n",
       "                            \n",
       "var gd = document.getElementById('b8232849-4e9e-45c9-abb3-09a7d8ae9488');\n",
       "var x = new MutationObserver(function (mutations, observer) {{\n",
       "        var display = window.getComputedStyle(gd).display;\n",
       "        if (!display || display === 'none') {{\n",
       "            console.log([gd, 'removed!']);\n",
       "            Plotly.purge(gd);\n",
       "            observer.disconnect();\n",
       "        }}\n",
       "}});\n",
       "\n",
       "// Listen for the removal of the full notebook cells\n",
       "var notebookContainer = gd.closest('#notebook-container');\n",
       "if (notebookContainer) {{\n",
       "    x.observe(notebookContainer, {childList: true});\n",
       "}}\n",
       "\n",
       "// Listen for the clearing of the current output cell\n",
       "var outputEl = gd.closest('.output');\n",
       "if (outputEl) {{\n",
       "    x.observe(outputEl, {childList: true});\n",
       "}}\n",
       "\n",
       "                        })                };                            </script>        </div>\n",
       "</body>\n",
       "</html>"
      ]
     },
     "metadata": {},
     "output_type": "display_data"
    }
   ],
   "source": [
    "# Calculate average minutes per position.\n",
    "avg_min_per_pos = young_players.groupby('Pos')['Min'].mean().round(2).sort_values(ascending=False).reset_index()\n",
    "avg_min_per_pos.columns = ['Position', 'Average Minutes']\n",
    "print(avg_min_per_pos)\n",
    "\n",
    "# Create bar chart for average minutes per position.\n",
    "fig = px.bar(\n",
    "    avg_min_per_pos,\n",
    "    x='Average Minutes',\n",
    "    y='Position',\n",
    "    orientation='h',\n",
    "    text='Average Minutes',\n",
    "    color='Average Minutes',\n",
    "    color_continuous_scale='viridis',\n",
    "    title='Average Minutes Played by Young Players per Position'\n",
    ")\n",
    "\n",
    "fig.update_layout(\n",
    "    yaxis=dict(categoryorder='total ascending'),\n",
    "    title_x=0.5\n",
    ")\n",
    "\n",
    "fig.show()"
   ]
  },
  {
   "cell_type": "code",
   "execution_count": 28,
   "id": "c643096c",
   "metadata": {
    "_cell_guid": "7cfc1edd-d6cf-4684-bd7e-405d193b5fbe",
    "_uuid": "78c556b0-2d3c-4529-a33f-20bd15cc9c70",
    "collapsed": false,
    "execution": {
     "iopub.execute_input": "2025-07-05T04:56:04.795420Z",
     "iopub.status.busy": "2025-07-05T04:56:04.795001Z",
     "iopub.status.idle": "2025-07-05T04:56:04.846216Z",
     "shell.execute_reply": "2025-07-05T04:56:04.845238Z"
    },
    "jupyter": {
     "outputs_hidden": false
    },
    "papermill": {
     "duration": 0.076885,
     "end_time": "2025-07-05T04:56:04.847879",
     "exception": false,
     "start_time": "2025-07-05T04:56:04.770994",
     "status": "completed"
    },
    "tags": []
   },
   "outputs": [
    {
     "name": "stdout",
     "output_type": "stream",
     "text": [
      "     Pos  Average Minutes  Number of Players\n",
      "0     DF           742.39                185\n",
      "1  DF,FW           509.80                 15\n",
      "2  DF,MF           791.57                 30\n",
      "3     FW           472.33                 96\n",
      "4  FW,DF            50.00                  8\n",
      "5  FW,MF           647.99                 84\n",
      "6     GK           885.86                 14\n",
      "7     MF           744.36                159\n",
      "8  MF,DF           784.93                 27\n",
      "9  MF,FW           752.74                 74\n"
     ]
    },
    {
     "data": {
      "text/html": [
       "<html>\n",
       "<head><meta charset=\"utf-8\" /></head>\n",
       "<body>\n",
       "    <div>            <script src=\"https://cdnjs.cloudflare.com/ajax/libs/mathjax/2.7.5/MathJax.js?config=TeX-AMS-MML_SVG\"></script><script type=\"text/javascript\">if (window.MathJax && window.MathJax.Hub && window.MathJax.Hub.Config) {window.MathJax.Hub.Config({SVG: {font: \"STIX-Web\"}});}</script>                <script type=\"text/javascript\">window.PlotlyConfig = {MathJaxConfig: 'local'};</script>\n",
       "        <script charset=\"utf-8\" src=\"https://cdn.plot.ly/plotly-2.35.2.min.js\"></script>                <div id=\"54508084-9aef-49b8-bd31-e4cbf8fc2b66\" class=\"plotly-graph-div\" style=\"height:525px; width:100%;\"></div>            <script type=\"text/javascript\">                                    window.PLOTLYENV=window.PLOTLYENV || {};                                    if (document.getElementById(\"54508084-9aef-49b8-bd31-e4cbf8fc2b66\")) {                    Plotly.newPlot(                        \"54508084-9aef-49b8-bd31-e4cbf8fc2b66\",                        [{\"marker\":{\"color\":\"#C95792\"},\"name\":\"Average Minutes\",\"x\":[\"DF\",\"DF,FW\",\"DF,MF\",\"FW\",\"FW,DF\",\"FW,MF\",\"GK\",\"MF\",\"MF,DF\",\"MF,FW\"],\"y\":[742.39,509.8,791.57,472.33,50.0,647.99,885.86,744.36,784.93,752.74],\"yaxis\":\"y\",\"type\":\"bar\"},{\"marker\":{\"color\":\"#F8B55F\"},\"name\":\"Number of Players\",\"x\":[\"DF\",\"DF,FW\",\"DF,MF\",\"FW\",\"FW,DF\",\"FW,MF\",\"GK\",\"MF\",\"MF,DF\",\"MF,FW\"],\"y\":[185,15,30,96,8,84,14,159,27,74],\"yaxis\":\"y2\",\"type\":\"bar\"}],                        {\"template\":{\"data\":{\"histogram2dcontour\":[{\"type\":\"histogram2dcontour\",\"colorbar\":{\"outlinewidth\":0,\"ticks\":\"\"},\"colorscale\":[[0.0,\"#0d0887\"],[0.1111111111111111,\"#46039f\"],[0.2222222222222222,\"#7201a8\"],[0.3333333333333333,\"#9c179e\"],[0.4444444444444444,\"#bd3786\"],[0.5555555555555556,\"#d8576b\"],[0.6666666666666666,\"#ed7953\"],[0.7777777777777778,\"#fb9f3a\"],[0.8888888888888888,\"#fdca26\"],[1.0,\"#f0f921\"]]}],\"choropleth\":[{\"type\":\"choropleth\",\"colorbar\":{\"outlinewidth\":0,\"ticks\":\"\"}}],\"histogram2d\":[{\"type\":\"histogram2d\",\"colorbar\":{\"outlinewidth\":0,\"ticks\":\"\"},\"colorscale\":[[0.0,\"#0d0887\"],[0.1111111111111111,\"#46039f\"],[0.2222222222222222,\"#7201a8\"],[0.3333333333333333,\"#9c179e\"],[0.4444444444444444,\"#bd3786\"],[0.5555555555555556,\"#d8576b\"],[0.6666666666666666,\"#ed7953\"],[0.7777777777777778,\"#fb9f3a\"],[0.8888888888888888,\"#fdca26\"],[1.0,\"#f0f921\"]]}],\"heatmap\":[{\"type\":\"heatmap\",\"colorbar\":{\"outlinewidth\":0,\"ticks\":\"\"},\"colorscale\":[[0.0,\"#0d0887\"],[0.1111111111111111,\"#46039f\"],[0.2222222222222222,\"#7201a8\"],[0.3333333333333333,\"#9c179e\"],[0.4444444444444444,\"#bd3786\"],[0.5555555555555556,\"#d8576b\"],[0.6666666666666666,\"#ed7953\"],[0.7777777777777778,\"#fb9f3a\"],[0.8888888888888888,\"#fdca26\"],[1.0,\"#f0f921\"]]}],\"heatmapgl\":[{\"type\":\"heatmapgl\",\"colorbar\":{\"outlinewidth\":0,\"ticks\":\"\"},\"colorscale\":[[0.0,\"#0d0887\"],[0.1111111111111111,\"#46039f\"],[0.2222222222222222,\"#7201a8\"],[0.3333333333333333,\"#9c179e\"],[0.4444444444444444,\"#bd3786\"],[0.5555555555555556,\"#d8576b\"],[0.6666666666666666,\"#ed7953\"],[0.7777777777777778,\"#fb9f3a\"],[0.8888888888888888,\"#fdca26\"],[1.0,\"#f0f921\"]]}],\"contourcarpet\":[{\"type\":\"contourcarpet\",\"colorbar\":{\"outlinewidth\":0,\"ticks\":\"\"}}],\"contour\":[{\"type\":\"contour\",\"colorbar\":{\"outlinewidth\":0,\"ticks\":\"\"},\"colorscale\":[[0.0,\"#0d0887\"],[0.1111111111111111,\"#46039f\"],[0.2222222222222222,\"#7201a8\"],[0.3333333333333333,\"#9c179e\"],[0.4444444444444444,\"#bd3786\"],[0.5555555555555556,\"#d8576b\"],[0.6666666666666666,\"#ed7953\"],[0.7777777777777778,\"#fb9f3a\"],[0.8888888888888888,\"#fdca26\"],[1.0,\"#f0f921\"]]}],\"surface\":[{\"type\":\"surface\",\"colorbar\":{\"outlinewidth\":0,\"ticks\":\"\"},\"colorscale\":[[0.0,\"#0d0887\"],[0.1111111111111111,\"#46039f\"],[0.2222222222222222,\"#7201a8\"],[0.3333333333333333,\"#9c179e\"],[0.4444444444444444,\"#bd3786\"],[0.5555555555555556,\"#d8576b\"],[0.6666666666666666,\"#ed7953\"],[0.7777777777777778,\"#fb9f3a\"],[0.8888888888888888,\"#fdca26\"],[1.0,\"#f0f921\"]]}],\"mesh3d\":[{\"type\":\"mesh3d\",\"colorbar\":{\"outlinewidth\":0,\"ticks\":\"\"}}],\"scatter\":[{\"fillpattern\":{\"fillmode\":\"overlay\",\"size\":10,\"solidity\":0.2},\"type\":\"scatter\"}],\"parcoords\":[{\"type\":\"parcoords\",\"line\":{\"colorbar\":{\"outlinewidth\":0,\"ticks\":\"\"}}}],\"scatterpolargl\":[{\"type\":\"scatterpolargl\",\"marker\":{\"colorbar\":{\"outlinewidth\":0,\"ticks\":\"\"}}}],\"bar\":[{\"error_x\":{\"color\":\"#2a3f5f\"},\"error_y\":{\"color\":\"#2a3f5f\"},\"marker\":{\"line\":{\"color\":\"#E5ECF6\",\"width\":0.5},\"pattern\":{\"fillmode\":\"overlay\",\"size\":10,\"solidity\":0.2}},\"type\":\"bar\"}],\"scattergeo\":[{\"type\":\"scattergeo\",\"marker\":{\"colorbar\":{\"outlinewidth\":0,\"ticks\":\"\"}}}],\"scatterpolar\":[{\"type\":\"scatterpolar\",\"marker\":{\"colorbar\":{\"outlinewidth\":0,\"ticks\":\"\"}}}],\"histogram\":[{\"marker\":{\"pattern\":{\"fillmode\":\"overlay\",\"size\":10,\"solidity\":0.2}},\"type\":\"histogram\"}],\"scattergl\":[{\"type\":\"scattergl\",\"marker\":{\"colorbar\":{\"outlinewidth\":0,\"ticks\":\"\"}}}],\"scatter3d\":[{\"type\":\"scatter3d\",\"line\":{\"colorbar\":{\"outlinewidth\":0,\"ticks\":\"\"}},\"marker\":{\"colorbar\":{\"outlinewidth\":0,\"ticks\":\"\"}}}],\"scattermapbox\":[{\"type\":\"scattermapbox\",\"marker\":{\"colorbar\":{\"outlinewidth\":0,\"ticks\":\"\"}}}],\"scatterternary\":[{\"type\":\"scatterternary\",\"marker\":{\"colorbar\":{\"outlinewidth\":0,\"ticks\":\"\"}}}],\"scattercarpet\":[{\"type\":\"scattercarpet\",\"marker\":{\"colorbar\":{\"outlinewidth\":0,\"ticks\":\"\"}}}],\"carpet\":[{\"aaxis\":{\"endlinecolor\":\"#2a3f5f\",\"gridcolor\":\"white\",\"linecolor\":\"white\",\"minorgridcolor\":\"white\",\"startlinecolor\":\"#2a3f5f\"},\"baxis\":{\"endlinecolor\":\"#2a3f5f\",\"gridcolor\":\"white\",\"linecolor\":\"white\",\"minorgridcolor\":\"white\",\"startlinecolor\":\"#2a3f5f\"},\"type\":\"carpet\"}],\"table\":[{\"cells\":{\"fill\":{\"color\":\"#EBF0F8\"},\"line\":{\"color\":\"white\"}},\"header\":{\"fill\":{\"color\":\"#C8D4E3\"},\"line\":{\"color\":\"white\"}},\"type\":\"table\"}],\"barpolar\":[{\"marker\":{\"line\":{\"color\":\"#E5ECF6\",\"width\":0.5},\"pattern\":{\"fillmode\":\"overlay\",\"size\":10,\"solidity\":0.2}},\"type\":\"barpolar\"}],\"pie\":[{\"automargin\":true,\"type\":\"pie\"}]},\"layout\":{\"autotypenumbers\":\"strict\",\"colorway\":[\"#636efa\",\"#EF553B\",\"#00cc96\",\"#ab63fa\",\"#FFA15A\",\"#19d3f3\",\"#FF6692\",\"#B6E880\",\"#FF97FF\",\"#FECB52\"],\"font\":{\"color\":\"#2a3f5f\"},\"hovermode\":\"closest\",\"hoverlabel\":{\"align\":\"left\"},\"paper_bgcolor\":\"white\",\"plot_bgcolor\":\"#E5ECF6\",\"polar\":{\"bgcolor\":\"#E5ECF6\",\"angularaxis\":{\"gridcolor\":\"white\",\"linecolor\":\"white\",\"ticks\":\"\"},\"radialaxis\":{\"gridcolor\":\"white\",\"linecolor\":\"white\",\"ticks\":\"\"}},\"ternary\":{\"bgcolor\":\"#E5ECF6\",\"aaxis\":{\"gridcolor\":\"white\",\"linecolor\":\"white\",\"ticks\":\"\"},\"baxis\":{\"gridcolor\":\"white\",\"linecolor\":\"white\",\"ticks\":\"\"},\"caxis\":{\"gridcolor\":\"white\",\"linecolor\":\"white\",\"ticks\":\"\"}},\"coloraxis\":{\"colorbar\":{\"outlinewidth\":0,\"ticks\":\"\"}},\"colorscale\":{\"sequential\":[[0.0,\"#0d0887\"],[0.1111111111111111,\"#46039f\"],[0.2222222222222222,\"#7201a8\"],[0.3333333333333333,\"#9c179e\"],[0.4444444444444444,\"#bd3786\"],[0.5555555555555556,\"#d8576b\"],[0.6666666666666666,\"#ed7953\"],[0.7777777777777778,\"#fb9f3a\"],[0.8888888888888888,\"#fdca26\"],[1.0,\"#f0f921\"]],\"sequentialminus\":[[0.0,\"#0d0887\"],[0.1111111111111111,\"#46039f\"],[0.2222222222222222,\"#7201a8\"],[0.3333333333333333,\"#9c179e\"],[0.4444444444444444,\"#bd3786\"],[0.5555555555555556,\"#d8576b\"],[0.6666666666666666,\"#ed7953\"],[0.7777777777777778,\"#fb9f3a\"],[0.8888888888888888,\"#fdca26\"],[1.0,\"#f0f921\"]],\"diverging\":[[0,\"#8e0152\"],[0.1,\"#c51b7d\"],[0.2,\"#de77ae\"],[0.3,\"#f1b6da\"],[0.4,\"#fde0ef\"],[0.5,\"#f7f7f7\"],[0.6,\"#e6f5d0\"],[0.7,\"#b8e186\"],[0.8,\"#7fbc41\"],[0.9,\"#4d9221\"],[1,\"#276419\"]]},\"xaxis\":{\"gridcolor\":\"white\",\"linecolor\":\"white\",\"ticks\":\"\",\"title\":{\"standoff\":15},\"zerolinecolor\":\"white\",\"automargin\":true,\"zerolinewidth\":2},\"yaxis\":{\"gridcolor\":\"white\",\"linecolor\":\"white\",\"ticks\":\"\",\"title\":{\"standoff\":15},\"zerolinecolor\":\"white\",\"automargin\":true,\"zerolinewidth\":2},\"scene\":{\"xaxis\":{\"backgroundcolor\":\"#E5ECF6\",\"gridcolor\":\"white\",\"linecolor\":\"white\",\"showbackground\":true,\"ticks\":\"\",\"zerolinecolor\":\"white\",\"gridwidth\":2},\"yaxis\":{\"backgroundcolor\":\"#E5ECF6\",\"gridcolor\":\"white\",\"linecolor\":\"white\",\"showbackground\":true,\"ticks\":\"\",\"zerolinecolor\":\"white\",\"gridwidth\":2},\"zaxis\":{\"backgroundcolor\":\"#E5ECF6\",\"gridcolor\":\"white\",\"linecolor\":\"white\",\"showbackground\":true,\"ticks\":\"\",\"zerolinecolor\":\"white\",\"gridwidth\":2}},\"shapedefaults\":{\"line\":{\"color\":\"#2a3f5f\"}},\"annotationdefaults\":{\"arrowcolor\":\"#2a3f5f\",\"arrowhead\":0,\"arrowwidth\":1},\"geo\":{\"bgcolor\":\"white\",\"landcolor\":\"#E5ECF6\",\"subunitcolor\":\"white\",\"showland\":true,\"showlakes\":true,\"lakecolor\":\"white\"},\"title\":{\"x\":0.05},\"mapbox\":{\"style\":\"light\"}}},\"yaxis\":{\"title\":{\"text\":\"Average Minutes\",\"font\":{\"color\":\"#3D365C\"}},\"tickfont\":{\"color\":\"#3D365C\"},\"side\":\"left\"},\"yaxis2\":{\"title\":{\"text\":\"Number of Players\",\"font\":{\"color\":\"#3D365C\"}},\"tickfont\":{\"color\":\"#3D365C\"},\"overlaying\":\"y\",\"side\":\"right\"},\"title\":{\"text\":\"Average Minutes & Number of Young Players per Position\",\"x\":0.5},\"legend\":{\"x\":0.5,\"xanchor\":\"center\",\"y\":1.1,\"orientation\":\"h\"},\"xaxis\":{\"title\":{\"text\":\"Position\"}},\"barmode\":\"group\"},                        {\"responsive\": true}                    ).then(function(){\n",
       "                            \n",
       "var gd = document.getElementById('54508084-9aef-49b8-bd31-e4cbf8fc2b66');\n",
       "var x = new MutationObserver(function (mutations, observer) {{\n",
       "        var display = window.getComputedStyle(gd).display;\n",
       "        if (!display || display === 'none') {{\n",
       "            console.log([gd, 'removed!']);\n",
       "            Plotly.purge(gd);\n",
       "            observer.disconnect();\n",
       "        }}\n",
       "}});\n",
       "\n",
       "// Listen for the removal of the full notebook cells\n",
       "var notebookContainer = gd.closest('#notebook-container');\n",
       "if (notebookContainer) {{\n",
       "    x.observe(notebookContainer, {childList: true});\n",
       "}}\n",
       "\n",
       "// Listen for the clearing of the current output cell\n",
       "var outputEl = gd.closest('.output');\n",
       "if (outputEl) {{\n",
       "    x.observe(outputEl, {childList: true});\n",
       "}}\n",
       "\n",
       "                        })                };                            </script>        </div>\n",
       "</body>\n",
       "</html>"
      ]
     },
     "metadata": {},
     "output_type": "display_data"
    }
   ],
   "source": [
    "# Compare average minutes and number of young players per position.\n",
    "avg_minutes = young_players.groupby('Pos')['Min'].mean().round(2)\n",
    "count_players = young_players['Pos'].value_counts().sort_index()\n",
    "\n",
    "pos_stats = pd.DataFrame({\n",
    "    'Average Minutes': avg_minutes,\n",
    "    'Number of Players': count_players\n",
    "}).reset_index().rename(columns={'index': 'Pos'})\n",
    "print(pos_stats)\n",
    "\n",
    "fig = go.Figure()\n",
    "\n",
    "# Bar chart for average minutes.\n",
    "fig.add_trace(go.Bar(\n",
    "    x=pos_stats['Pos'],\n",
    "    y=pos_stats['Average Minutes'],\n",
    "    name='Average Minutes',\n",
    "    marker_color='#C95792',\n",
    "    yaxis='y1'\n",
    "))\n",
    "\n",
    "# Bar chart for number of players.\n",
    "fig.add_trace(go.Bar(\n",
    "    x=pos_stats['Pos'],\n",
    "    y=pos_stats['Number of Players'],\n",
    "    name='Number of Players',\n",
    "    marker_color='#F8B55F',\n",
    "    yaxis='y2'\n",
    "))\n",
    "\n",
    "# Configure layout with dual Y-axes for better comparison.\n",
    "fig.update_layout(\n",
    "    title='Average Minutes & Number of Young Players per Position',\n",
    "    xaxis_title='Position',\n",
    "    yaxis=dict(\n",
    "        title='Average Minutes',\n",
    "        titlefont=dict(color='#3D365C'),\n",
    "        tickfont=dict(color='#3D365C'),\n",
    "        side='left'\n",
    "    ),\n",
    "    yaxis2=dict(\n",
    "        title='Number of Players',\n",
    "        titlefont=dict(color='#3D365C'),\n",
    "        tickfont=dict(color='#3D365C'),\n",
    "        overlaying='y',\n",
    "        side='right'\n",
    "    ),\n",
    "    barmode='group',\n",
    "    title_x=0.5,\n",
    "    legend=dict(x=0.5, xanchor='center', y=1.1, orientation='h')\n",
    ")\n",
    "\n",
    "fig.show()"
   ]
  },
  {
   "cell_type": "markdown",
   "id": "c6c73a20",
   "metadata": {
    "_cell_guid": "f80e1560-79c8-4346-9c5e-b8eead04963b",
    "_uuid": "9fc62a32-ac1d-4ff0-a6cb-6ff96e61eb95",
    "collapsed": false,
    "jupyter": {
     "outputs_hidden": false
    },
    "papermill": {
     "duration": 0.023954,
     "end_time": "2025-07-05T04:56:04.896637",
     "exception": false,
     "start_time": "2025-07-05T04:56:04.872683",
     "status": "completed"
    },
    "tags": []
   },
   "source": [
    "**1. Goalkeepers (GK) Get Highest Average Minutes, But Fewest in Number:**\n",
    "* GK position has highest average minutes (~885.86) but fewest players (only 14), showing clubs fully trust young GKs when they break through.\n",
    "\n",
    "**2. Defenders (DF) & Midfielders (MF) Most Numerous, Varied Minutes:**\n",
    "* DF and MF have most young players (185 and 159 respectively).\n",
    "* They get good average minutes (~742-744), showing regular playing time.\n",
    "* Flexible positions like \"DF,MF\" get even higher minutes (~791), showing versatility is valued.\n",
    "\n",
    "**3. Forwards (FW) and Offensive Flexibility Get Fewer Minutes:**\n",
    "* FW position has lowest average minutes (~472.33) despite decent numbers (96 players).\n",
    "* \"FW,DF\" positions get very few minutes (50) with few players (8).\n",
    "* \"FW,MF\" players (84) get lower minutes (~647.99) than DF/MF, suggesting more competition up front.\n",
    "\n",
    "**4. Importance of Positional Flexibility:**\n",
    "* Players who can play multiple positions (especially between midfield and defense) get more minutes.\n",
    "\n",
    "**5. Young Player Distribution in Teams:**\n",
    "* Most young players concentrate in defense and midfield, possibly because these positions require energy and aggression suited to young players, or have more rotation/development space."
   ]
  },
  {
   "cell_type": "markdown",
   "id": "8f7fd758",
   "metadata": {
    "_cell_guid": "ef2da97b-fb0f-4a0e-b891-3550812e5243",
    "_uuid": "517ca3f1-b204-4d04-80f3-f075ee6a7646",
    "collapsed": false,
    "jupyter": {
     "outputs_hidden": false
    },
    "papermill": {
     "duration": 0.026702,
     "end_time": "2025-07-05T04:56:04.948273",
     "exception": false,
     "start_time": "2025-07-05T04:56:04.921571",
     "status": "completed"
    },
    "tags": []
   },
   "source": [
    "## 🧿 Young Players' Efficiency (Goals vs xG & Assists vs xAG)\n",
    "This section measures how efficient players are at converting chances (for scorers) or creating quality chances (for playmakers) using Expected Goals (xG) and Expected Assisted Goals (xAG) metrics."
   ]
  },
  {
   "cell_type": "code",
   "execution_count": 29,
   "id": "22606df9",
   "metadata": {
    "_cell_guid": "ba7cd947-6710-4f6a-95b0-176b2f2d1727",
    "_uuid": "7ddc7ca8-ea0e-4425-b32c-d95808ecb131",
    "collapsed": false,
    "execution": {
     "iopub.execute_input": "2025-07-05T04:56:04.998661Z",
     "iopub.status.busy": "2025-07-05T04:56:04.998302Z",
     "iopub.status.idle": "2025-07-05T04:56:05.063009Z",
     "shell.execute_reply": "2025-07-05T04:56:05.062142Z"
    },
    "jupyter": {
     "outputs_hidden": false
    },
    "papermill": {
     "duration": 0.091233,
     "end_time": "2025-07-05T04:56:05.064841",
     "exception": false,
     "start_time": "2025-07-05T04:56:04.973608",
     "status": "completed"
    },
    "tags": []
   },
   "outputs": [
    {
     "data": {
      "text/html": [
       "<html>\n",
       "<head><meta charset=\"utf-8\" /></head>\n",
       "<body>\n",
       "    <div>            <script src=\"https://cdnjs.cloudflare.com/ajax/libs/mathjax/2.7.5/MathJax.js?config=TeX-AMS-MML_SVG\"></script><script type=\"text/javascript\">if (window.MathJax && window.MathJax.Hub && window.MathJax.Hub.Config) {window.MathJax.Hub.Config({SVG: {font: \"STIX-Web\"}});}</script>                <script type=\"text/javascript\">window.PlotlyConfig = {MathJaxConfig: 'local'};</script>\n",
       "        <script charset=\"utf-8\" src=\"https://cdn.plot.ly/plotly-2.35.2.min.js\"></script>                <div id=\"bffbe79c-1fbd-46a7-87ae-0920cea9e610\" class=\"plotly-graph-div\" style=\"height:400px; width:100%;\"></div>            <script type=\"text/javascript\">                                    window.PLOTLYENV=window.PLOTLYENV || {};                                    if (document.getElementById(\"bffbe79c-1fbd-46a7-87ae-0920cea9e610\")) {                    Plotly.newPlot(                        \"bffbe79c-1fbd-46a7-87ae-0920cea9e610\",                        [{\"alignmentgroup\":\"True\",\"customdata\":[[21.0,\"Monaco\",1228,13],[21.0,\"Bayern Munich\",1798,12],[21.0,\"Paris S-G\",2181,14],[19.0,\"Saint-Étienne\",1887,12],[21.0,\"Strasbourg\",2293,14],[21.0,\"RB Leipzig\",2380,13],[21.0,\"Villarreal\",2323,11],[21.0,\"Ipswich Town\",2593,12],[21.0,\"RB Leipzig\",2150,10],[21.0,\"Mainz 05\",2345,10]],\"hovertemplate\":\"Player=%{x}\\u003cbr\\u003eGoals per 90 Minutes=%{marker.color}\\u003cbr\\u003eAge=%{customdata[0]}\\u003cbr\\u003eSquad=%{customdata[1]}\\u003cbr\\u003eMin=%{customdata[2]}\\u003cbr\\u003eGls=%{customdata[3]}\\u003cextra\\u003e\\u003c\\u002fextra\\u003e\",\"legendgroup\":\"\",\"marker\":{\"color\":[0.95,0.6,0.58,0.57,0.55,0.49,0.43,0.42,0.42,0.38],\"coloraxis\":\"coloraxis\",\"pattern\":{\"shape\":\"\"}},\"name\":\"\",\"offsetgroup\":\"\",\"orientation\":\"v\",\"showlegend\":false,\"text\":[0.95,0.6,0.58,0.57,0.55,0.49,0.43,0.42,0.42,0.38],\"textposition\":\"outside\",\"x\":[\"Mika Biereth\",\"Jamal Musiala\",\"Bradley Barcola\",\"Lucas Stassin\",\"Emanuel Emegha\",\"Benjamin Šeško\",\"Thierno Barry\",\"Liam Delap\",\"Xavi Simons\",\"Paul Nebel\"],\"xaxis\":\"x\",\"y\":[0.95,0.6,0.58,0.57,0.55,0.49,0.43,0.42,0.42,0.38],\"yaxis\":\"y\",\"type\":\"bar\",\"texttemplate\":\"%{text:.2f}\"}],                        {\"template\":{\"data\":{\"histogram2dcontour\":[{\"type\":\"histogram2dcontour\",\"colorbar\":{\"outlinewidth\":0,\"ticks\":\"\"},\"colorscale\":[[0.0,\"#0d0887\"],[0.1111111111111111,\"#46039f\"],[0.2222222222222222,\"#7201a8\"],[0.3333333333333333,\"#9c179e\"],[0.4444444444444444,\"#bd3786\"],[0.5555555555555556,\"#d8576b\"],[0.6666666666666666,\"#ed7953\"],[0.7777777777777778,\"#fb9f3a\"],[0.8888888888888888,\"#fdca26\"],[1.0,\"#f0f921\"]]}],\"choropleth\":[{\"type\":\"choropleth\",\"colorbar\":{\"outlinewidth\":0,\"ticks\":\"\"}}],\"histogram2d\":[{\"type\":\"histogram2d\",\"colorbar\":{\"outlinewidth\":0,\"ticks\":\"\"},\"colorscale\":[[0.0,\"#0d0887\"],[0.1111111111111111,\"#46039f\"],[0.2222222222222222,\"#7201a8\"],[0.3333333333333333,\"#9c179e\"],[0.4444444444444444,\"#bd3786\"],[0.5555555555555556,\"#d8576b\"],[0.6666666666666666,\"#ed7953\"],[0.7777777777777778,\"#fb9f3a\"],[0.8888888888888888,\"#fdca26\"],[1.0,\"#f0f921\"]]}],\"heatmap\":[{\"type\":\"heatmap\",\"colorbar\":{\"outlinewidth\":0,\"ticks\":\"\"},\"colorscale\":[[0.0,\"#0d0887\"],[0.1111111111111111,\"#46039f\"],[0.2222222222222222,\"#7201a8\"],[0.3333333333333333,\"#9c179e\"],[0.4444444444444444,\"#bd3786\"],[0.5555555555555556,\"#d8576b\"],[0.6666666666666666,\"#ed7953\"],[0.7777777777777778,\"#fb9f3a\"],[0.8888888888888888,\"#fdca26\"],[1.0,\"#f0f921\"]]}],\"heatmapgl\":[{\"type\":\"heatmapgl\",\"colorbar\":{\"outlinewidth\":0,\"ticks\":\"\"},\"colorscale\":[[0.0,\"#0d0887\"],[0.1111111111111111,\"#46039f\"],[0.2222222222222222,\"#7201a8\"],[0.3333333333333333,\"#9c179e\"],[0.4444444444444444,\"#bd3786\"],[0.5555555555555556,\"#d8576b\"],[0.6666666666666666,\"#ed7953\"],[0.7777777777777778,\"#fb9f3a\"],[0.8888888888888888,\"#fdca26\"],[1.0,\"#f0f921\"]]}],\"contourcarpet\":[{\"type\":\"contourcarpet\",\"colorbar\":{\"outlinewidth\":0,\"ticks\":\"\"}}],\"contour\":[{\"type\":\"contour\",\"colorbar\":{\"outlinewidth\":0,\"ticks\":\"\"},\"colorscale\":[[0.0,\"#0d0887\"],[0.1111111111111111,\"#46039f\"],[0.2222222222222222,\"#7201a8\"],[0.3333333333333333,\"#9c179e\"],[0.4444444444444444,\"#bd3786\"],[0.5555555555555556,\"#d8576b\"],[0.6666666666666666,\"#ed7953\"],[0.7777777777777778,\"#fb9f3a\"],[0.8888888888888888,\"#fdca26\"],[1.0,\"#f0f921\"]]}],\"surface\":[{\"type\":\"surface\",\"colorbar\":{\"outlinewidth\":0,\"ticks\":\"\"},\"colorscale\":[[0.0,\"#0d0887\"],[0.1111111111111111,\"#46039f\"],[0.2222222222222222,\"#7201a8\"],[0.3333333333333333,\"#9c179e\"],[0.4444444444444444,\"#bd3786\"],[0.5555555555555556,\"#d8576b\"],[0.6666666666666666,\"#ed7953\"],[0.7777777777777778,\"#fb9f3a\"],[0.8888888888888888,\"#fdca26\"],[1.0,\"#f0f921\"]]}],\"mesh3d\":[{\"type\":\"mesh3d\",\"colorbar\":{\"outlinewidth\":0,\"ticks\":\"\"}}],\"scatter\":[{\"fillpattern\":{\"fillmode\":\"overlay\",\"size\":10,\"solidity\":0.2},\"type\":\"scatter\"}],\"parcoords\":[{\"type\":\"parcoords\",\"line\":{\"colorbar\":{\"outlinewidth\":0,\"ticks\":\"\"}}}],\"scatterpolargl\":[{\"type\":\"scatterpolargl\",\"marker\":{\"colorbar\":{\"outlinewidth\":0,\"ticks\":\"\"}}}],\"bar\":[{\"error_x\":{\"color\":\"#2a3f5f\"},\"error_y\":{\"color\":\"#2a3f5f\"},\"marker\":{\"line\":{\"color\":\"#E5ECF6\",\"width\":0.5},\"pattern\":{\"fillmode\":\"overlay\",\"size\":10,\"solidity\":0.2}},\"type\":\"bar\"}],\"scattergeo\":[{\"type\":\"scattergeo\",\"marker\":{\"colorbar\":{\"outlinewidth\":0,\"ticks\":\"\"}}}],\"scatterpolar\":[{\"type\":\"scatterpolar\",\"marker\":{\"colorbar\":{\"outlinewidth\":0,\"ticks\":\"\"}}}],\"histogram\":[{\"marker\":{\"pattern\":{\"fillmode\":\"overlay\",\"size\":10,\"solidity\":0.2}},\"type\":\"histogram\"}],\"scattergl\":[{\"type\":\"scattergl\",\"marker\":{\"colorbar\":{\"outlinewidth\":0,\"ticks\":\"\"}}}],\"scatter3d\":[{\"type\":\"scatter3d\",\"line\":{\"colorbar\":{\"outlinewidth\":0,\"ticks\":\"\"}},\"marker\":{\"colorbar\":{\"outlinewidth\":0,\"ticks\":\"\"}}}],\"scattermapbox\":[{\"type\":\"scattermapbox\",\"marker\":{\"colorbar\":{\"outlinewidth\":0,\"ticks\":\"\"}}}],\"scatterternary\":[{\"type\":\"scatterternary\",\"marker\":{\"colorbar\":{\"outlinewidth\":0,\"ticks\":\"\"}}}],\"scattercarpet\":[{\"type\":\"scattercarpet\",\"marker\":{\"colorbar\":{\"outlinewidth\":0,\"ticks\":\"\"}}}],\"carpet\":[{\"aaxis\":{\"endlinecolor\":\"#2a3f5f\",\"gridcolor\":\"white\",\"linecolor\":\"white\",\"minorgridcolor\":\"white\",\"startlinecolor\":\"#2a3f5f\"},\"baxis\":{\"endlinecolor\":\"#2a3f5f\",\"gridcolor\":\"white\",\"linecolor\":\"white\",\"minorgridcolor\":\"white\",\"startlinecolor\":\"#2a3f5f\"},\"type\":\"carpet\"}],\"table\":[{\"cells\":{\"fill\":{\"color\":\"#EBF0F8\"},\"line\":{\"color\":\"white\"}},\"header\":{\"fill\":{\"color\":\"#C8D4E3\"},\"line\":{\"color\":\"white\"}},\"type\":\"table\"}],\"barpolar\":[{\"marker\":{\"line\":{\"color\":\"#E5ECF6\",\"width\":0.5},\"pattern\":{\"fillmode\":\"overlay\",\"size\":10,\"solidity\":0.2}},\"type\":\"barpolar\"}],\"pie\":[{\"automargin\":true,\"type\":\"pie\"}]},\"layout\":{\"autotypenumbers\":\"strict\",\"colorway\":[\"#636efa\",\"#EF553B\",\"#00cc96\",\"#ab63fa\",\"#FFA15A\",\"#19d3f3\",\"#FF6692\",\"#B6E880\",\"#FF97FF\",\"#FECB52\"],\"font\":{\"color\":\"#2a3f5f\"},\"hovermode\":\"closest\",\"hoverlabel\":{\"align\":\"left\"},\"paper_bgcolor\":\"white\",\"plot_bgcolor\":\"#E5ECF6\",\"polar\":{\"bgcolor\":\"#E5ECF6\",\"angularaxis\":{\"gridcolor\":\"white\",\"linecolor\":\"white\",\"ticks\":\"\"},\"radialaxis\":{\"gridcolor\":\"white\",\"linecolor\":\"white\",\"ticks\":\"\"}},\"ternary\":{\"bgcolor\":\"#E5ECF6\",\"aaxis\":{\"gridcolor\":\"white\",\"linecolor\":\"white\",\"ticks\":\"\"},\"baxis\":{\"gridcolor\":\"white\",\"linecolor\":\"white\",\"ticks\":\"\"},\"caxis\":{\"gridcolor\":\"white\",\"linecolor\":\"white\",\"ticks\":\"\"}},\"coloraxis\":{\"colorbar\":{\"outlinewidth\":0,\"ticks\":\"\"}},\"colorscale\":{\"sequential\":[[0.0,\"#0d0887\"],[0.1111111111111111,\"#46039f\"],[0.2222222222222222,\"#7201a8\"],[0.3333333333333333,\"#9c179e\"],[0.4444444444444444,\"#bd3786\"],[0.5555555555555556,\"#d8576b\"],[0.6666666666666666,\"#ed7953\"],[0.7777777777777778,\"#fb9f3a\"],[0.8888888888888888,\"#fdca26\"],[1.0,\"#f0f921\"]],\"sequentialminus\":[[0.0,\"#0d0887\"],[0.1111111111111111,\"#46039f\"],[0.2222222222222222,\"#7201a8\"],[0.3333333333333333,\"#9c179e\"],[0.4444444444444444,\"#bd3786\"],[0.5555555555555556,\"#d8576b\"],[0.6666666666666666,\"#ed7953\"],[0.7777777777777778,\"#fb9f3a\"],[0.8888888888888888,\"#fdca26\"],[1.0,\"#f0f921\"]],\"diverging\":[[0,\"#8e0152\"],[0.1,\"#c51b7d\"],[0.2,\"#de77ae\"],[0.3,\"#f1b6da\"],[0.4,\"#fde0ef\"],[0.5,\"#f7f7f7\"],[0.6,\"#e6f5d0\"],[0.7,\"#b8e186\"],[0.8,\"#7fbc41\"],[0.9,\"#4d9221\"],[1,\"#276419\"]]},\"xaxis\":{\"gridcolor\":\"white\",\"linecolor\":\"white\",\"ticks\":\"\",\"title\":{\"standoff\":15},\"zerolinecolor\":\"white\",\"automargin\":true,\"zerolinewidth\":2},\"yaxis\":{\"gridcolor\":\"white\",\"linecolor\":\"white\",\"ticks\":\"\",\"title\":{\"standoff\":15},\"zerolinecolor\":\"white\",\"automargin\":true,\"zerolinewidth\":2},\"scene\":{\"xaxis\":{\"backgroundcolor\":\"#E5ECF6\",\"gridcolor\":\"white\",\"linecolor\":\"white\",\"showbackground\":true,\"ticks\":\"\",\"zerolinecolor\":\"white\",\"gridwidth\":2},\"yaxis\":{\"backgroundcolor\":\"#E5ECF6\",\"gridcolor\":\"white\",\"linecolor\":\"white\",\"showbackground\":true,\"ticks\":\"\",\"zerolinecolor\":\"white\",\"gridwidth\":2},\"zaxis\":{\"backgroundcolor\":\"#E5ECF6\",\"gridcolor\":\"white\",\"linecolor\":\"white\",\"showbackground\":true,\"ticks\":\"\",\"zerolinecolor\":\"white\",\"gridwidth\":2}},\"shapedefaults\":{\"line\":{\"color\":\"#2a3f5f\"}},\"annotationdefaults\":{\"arrowcolor\":\"#2a3f5f\",\"arrowhead\":0,\"arrowwidth\":1},\"geo\":{\"bgcolor\":\"white\",\"landcolor\":\"#E5ECF6\",\"subunitcolor\":\"white\",\"showland\":true,\"showlakes\":true,\"lakecolor\":\"white\"},\"title\":{\"x\":0.05},\"mapbox\":{\"style\":\"light\"}}},\"xaxis\":{\"anchor\":\"y\",\"domain\":[0.0,1.0],\"title\":{\"text\":\"Player\"}},\"yaxis\":{\"anchor\":\"x\",\"domain\":[0.0,1.0],\"title\":{\"text\":\"Goals per 90 Minutes\"}},\"coloraxis\":{\"colorbar\":{\"title\":{\"text\":\"Goals per 90 Minutes\"}},\"colorscale\":[[0.0,\"#440154\"],[0.1111111111111111,\"#482878\"],[0.2222222222222222,\"#3e4989\"],[0.3333333333333333,\"#31688e\"],[0.4444444444444444,\"#26828e\"],[0.5555555555555556,\"#1f9e89\"],[0.6666666666666666,\"#35b779\"],[0.7777777777777778,\"#6ece58\"],[0.8888888888888888,\"#b5de2b\"],[1.0,\"#fde725\"]]},\"legend\":{\"tracegroupgap\":0},\"title\":{\"text\":\"Top 10 Most Effective Young Goal Scorers\",\"x\":0.5},\"barmode\":\"relative\",\"height\":400,\"uniformtext\":{\"minsize\":8,\"mode\":\"hide\"}},                        {\"responsive\": true}                    ).then(function(){\n",
       "                            \n",
       "var gd = document.getElementById('bffbe79c-1fbd-46a7-87ae-0920cea9e610');\n",
       "var x = new MutationObserver(function (mutations, observer) {{\n",
       "        var display = window.getComputedStyle(gd).display;\n",
       "        if (!display || display === 'none') {{\n",
       "            console.log([gd, 'removed!']);\n",
       "            Plotly.purge(gd);\n",
       "            observer.disconnect();\n",
       "        }}\n",
       "}});\n",
       "\n",
       "// Listen for the removal of the full notebook cells\n",
       "var notebookContainer = gd.closest('#notebook-container');\n",
       "if (notebookContainer) {{\n",
       "    x.observe(notebookContainer, {childList: true});\n",
       "}}\n",
       "\n",
       "// Listen for the clearing of the current output cell\n",
       "var outputEl = gd.closest('.output');\n",
       "if (outputEl) {{\n",
       "    x.observe(outputEl, {childList: true});\n",
       "}}\n",
       "\n",
       "                        })                };                            </script>        </div>\n",
       "</body>\n",
       "</html>"
      ]
     },
     "metadata": {},
     "output_type": "display_data"
    }
   ],
   "source": [
    "# 1. Filter young players with at least 10 goals, sorted by goals per 90 minutes.\n",
    "young_players = df_cleaned[(df_cleaned['Age'] <= age_threshold) & (df_cleaned['Gls'] >= 10)].sort_values(['Gls_90', 'Gls'], ascending=False)\n",
    "data = young_players[['Player', 'Gls', 'Age', 'Squad', 'Gls_90', 'Min']].head(10).reset_index(drop=True)\n",
    "\n",
    "# 2. Create bar chart for top 10 most effective young scorers (by Gls_90).\n",
    "fig = px.bar(\n",
    "    data,\n",
    "    x='Player',\n",
    "    y='Gls_90',\n",
    "    color='Gls_90',\n",
    "    color_continuous_scale='viridis',\n",
    "    hover_data=['Age', 'Squad', 'Min', 'Gls'],\n",
    "    labels={'Gls_90': 'Goals per 90 Minutes'},\n",
    "    height=400,\n",
    "    title='Top 10 Most Effective Young Goal Scorers',\n",
    "    text='Gls_90'\n",
    ")\n",
    "\n",
    "fig.update_traces(\n",
    "    texttemplate='%{text:.2f}', # Show 2 decimal places\n",
    "    textposition='outside'\n",
    ")\n",
    "\n",
    "fig.update_layout(\n",
    "    title_x=0.5,\n",
    "    uniformtext_minsize=8,\n",
    "    uniformtext_mode='hide',\n",
    "    yaxis_title='Goals per 90 Minutes'\n",
    ")\n",
    "\n",
    "fig.show()"
   ]
  },
  {
   "cell_type": "code",
   "execution_count": 30,
   "id": "3f64f502",
   "metadata": {
    "_cell_guid": "cd8dbb6b-c296-454e-bc8c-cf71f5686510",
    "_uuid": "2aba2b09-efb2-44d4-a4df-a74b76ea0fcc",
    "collapsed": false,
    "execution": {
     "iopub.execute_input": "2025-07-05T04:56:05.116763Z",
     "iopub.status.busy": "2025-07-05T04:56:05.116419Z",
     "iopub.status.idle": "2025-07-05T04:56:05.168212Z",
     "shell.execute_reply": "2025-07-05T04:56:05.167246Z"
    },
    "jupyter": {
     "outputs_hidden": false
    },
    "papermill": {
     "duration": 0.079253,
     "end_time": "2025-07-05T04:56:05.170050",
     "exception": false,
     "start_time": "2025-07-05T04:56:05.090797",
     "status": "completed"
    },
    "tags": []
   },
   "outputs": [
    {
     "data": {
      "text/html": [
       "<html>\n",
       "<head><meta charset=\"utf-8\" /></head>\n",
       "<body>\n",
       "    <div>            <script src=\"https://cdnjs.cloudflare.com/ajax/libs/mathjax/2.7.5/MathJax.js?config=TeX-AMS-MML_SVG\"></script><script type=\"text/javascript\">if (window.MathJax && window.MathJax.Hub && window.MathJax.Hub.Config) {window.MathJax.Hub.Config({SVG: {font: \"STIX-Web\"}});}</script>                <script type=\"text/javascript\">window.PlotlyConfig = {MathJaxConfig: 'local'};</script>\n",
       "        <script charset=\"utf-8\" src=\"https://cdn.plot.ly/plotly-2.35.2.min.js\"></script>                <div id=\"fa339b41-7153-410c-a337-3459b7f7adc3\" class=\"plotly-graph-div\" style=\"height:500px; width:100%;\"></div>            <script type=\"text/javascript\">                                    window.PLOTLYENV=window.PLOTLYENV || {};                                    if (document.getElementById(\"fa339b41-7153-410c-a337-3459b7f7adc3\")) {                    Plotly.newPlot(                        \"fa339b41-7153-410c-a337-3459b7f7adc3\",                        [{\"marker\":{\"color\":\"#EF9651\"},\"name\":\"Goals\",\"x\":[\"Andrey Santos\",\"Xavi Simons\",\"Paul Nebel\",\"Lucas Stassin\",\"Benjamin Šeško\",\"Liam Delap\",\"Jamal Musiala\",\"Mika Biereth\",\"Florian Wirtz\",\"Bradley Barcola\"],\"y\":[10,10,10,12,13,12,12,13,10,14],\"yaxis\":\"y\",\"type\":\"bar\"},{\"marker\":{\"color\":\"#EC5228\"},\"name\":\"xG\",\"x\":[\"Andrey Santos\",\"Xavi Simons\",\"Paul Nebel\",\"Lucas Stassin\",\"Benjamin Šeško\",\"Liam Delap\",\"Jamal Musiala\",\"Mika Biereth\",\"Florian Wirtz\",\"Bradley Barcola\"],\"y\":[5.1,5.1,5.8,7.0,10.0,9.3,9.3,11.3,9.4,13.4],\"yaxis\":\"y\",\"type\":\"bar\"},{\"marker\":{\"color\":\"#3F7D58\"},\"mode\":\"lines+markers+text\",\"name\":\"Conversion Rate (Goals\\u002fxG)\",\"text\":[\"1.96\",\"1.96\",\"1.72\",\"1.71\",\"1.30\",\"1.29\",\"1.29\",\"1.15\",\"1.06\",\"1.04\"],\"textposition\":\"top center\",\"x\":[\"Andrey Santos\",\"Xavi Simons\",\"Paul Nebel\",\"Lucas Stassin\",\"Benjamin Šeško\",\"Liam Delap\",\"Jamal Musiala\",\"Mika Biereth\",\"Florian Wirtz\",\"Bradley Barcola\"],\"y\":[1.9607843137254903,1.9607843137254903,1.7241379310344829,1.7142857142857142,1.3,1.2903225806451613,1.2903225806451613,1.1504424778761062,1.0638297872340425,1.044776119402985],\"yaxis\":\"y2\",\"type\":\"scatter\"}],                        {\"template\":{\"data\":{\"histogram2dcontour\":[{\"type\":\"histogram2dcontour\",\"colorbar\":{\"outlinewidth\":0,\"ticks\":\"\"},\"colorscale\":[[0.0,\"#0d0887\"],[0.1111111111111111,\"#46039f\"],[0.2222222222222222,\"#7201a8\"],[0.3333333333333333,\"#9c179e\"],[0.4444444444444444,\"#bd3786\"],[0.5555555555555556,\"#d8576b\"],[0.6666666666666666,\"#ed7953\"],[0.7777777777777778,\"#fb9f3a\"],[0.8888888888888888,\"#fdca26\"],[1.0,\"#f0f921\"]]}],\"choropleth\":[{\"type\":\"choropleth\",\"colorbar\":{\"outlinewidth\":0,\"ticks\":\"\"}}],\"histogram2d\":[{\"type\":\"histogram2d\",\"colorbar\":{\"outlinewidth\":0,\"ticks\":\"\"},\"colorscale\":[[0.0,\"#0d0887\"],[0.1111111111111111,\"#46039f\"],[0.2222222222222222,\"#7201a8\"],[0.3333333333333333,\"#9c179e\"],[0.4444444444444444,\"#bd3786\"],[0.5555555555555556,\"#d8576b\"],[0.6666666666666666,\"#ed7953\"],[0.7777777777777778,\"#fb9f3a\"],[0.8888888888888888,\"#fdca26\"],[1.0,\"#f0f921\"]]}],\"heatmap\":[{\"type\":\"heatmap\",\"colorbar\":{\"outlinewidth\":0,\"ticks\":\"\"},\"colorscale\":[[0.0,\"#0d0887\"],[0.1111111111111111,\"#46039f\"],[0.2222222222222222,\"#7201a8\"],[0.3333333333333333,\"#9c179e\"],[0.4444444444444444,\"#bd3786\"],[0.5555555555555556,\"#d8576b\"],[0.6666666666666666,\"#ed7953\"],[0.7777777777777778,\"#fb9f3a\"],[0.8888888888888888,\"#fdca26\"],[1.0,\"#f0f921\"]]}],\"heatmapgl\":[{\"type\":\"heatmapgl\",\"colorbar\":{\"outlinewidth\":0,\"ticks\":\"\"},\"colorscale\":[[0.0,\"#0d0887\"],[0.1111111111111111,\"#46039f\"],[0.2222222222222222,\"#7201a8\"],[0.3333333333333333,\"#9c179e\"],[0.4444444444444444,\"#bd3786\"],[0.5555555555555556,\"#d8576b\"],[0.6666666666666666,\"#ed7953\"],[0.7777777777777778,\"#fb9f3a\"],[0.8888888888888888,\"#fdca26\"],[1.0,\"#f0f921\"]]}],\"contourcarpet\":[{\"type\":\"contourcarpet\",\"colorbar\":{\"outlinewidth\":0,\"ticks\":\"\"}}],\"contour\":[{\"type\":\"contour\",\"colorbar\":{\"outlinewidth\":0,\"ticks\":\"\"},\"colorscale\":[[0.0,\"#0d0887\"],[0.1111111111111111,\"#46039f\"],[0.2222222222222222,\"#7201a8\"],[0.3333333333333333,\"#9c179e\"],[0.4444444444444444,\"#bd3786\"],[0.5555555555555556,\"#d8576b\"],[0.6666666666666666,\"#ed7953\"],[0.7777777777777778,\"#fb9f3a\"],[0.8888888888888888,\"#fdca26\"],[1.0,\"#f0f921\"]]}],\"surface\":[{\"type\":\"surface\",\"colorbar\":{\"outlinewidth\":0,\"ticks\":\"\"},\"colorscale\":[[0.0,\"#0d0887\"],[0.1111111111111111,\"#46039f\"],[0.2222222222222222,\"#7201a8\"],[0.3333333333333333,\"#9c179e\"],[0.4444444444444444,\"#bd3786\"],[0.5555555555555556,\"#d8576b\"],[0.6666666666666666,\"#ed7953\"],[0.7777777777777778,\"#fb9f3a\"],[0.8888888888888888,\"#fdca26\"],[1.0,\"#f0f921\"]]}],\"mesh3d\":[{\"type\":\"mesh3d\",\"colorbar\":{\"outlinewidth\":0,\"ticks\":\"\"}}],\"scatter\":[{\"fillpattern\":{\"fillmode\":\"overlay\",\"size\":10,\"solidity\":0.2},\"type\":\"scatter\"}],\"parcoords\":[{\"type\":\"parcoords\",\"line\":{\"colorbar\":{\"outlinewidth\":0,\"ticks\":\"\"}}}],\"scatterpolargl\":[{\"type\":\"scatterpolargl\",\"marker\":{\"colorbar\":{\"outlinewidth\":0,\"ticks\":\"\"}}}],\"bar\":[{\"error_x\":{\"color\":\"#2a3f5f\"},\"error_y\":{\"color\":\"#2a3f5f\"},\"marker\":{\"line\":{\"color\":\"#E5ECF6\",\"width\":0.5},\"pattern\":{\"fillmode\":\"overlay\",\"size\":10,\"solidity\":0.2}},\"type\":\"bar\"}],\"scattergeo\":[{\"type\":\"scattergeo\",\"marker\":{\"colorbar\":{\"outlinewidth\":0,\"ticks\":\"\"}}}],\"scatterpolar\":[{\"type\":\"scatterpolar\",\"marker\":{\"colorbar\":{\"outlinewidth\":0,\"ticks\":\"\"}}}],\"histogram\":[{\"marker\":{\"pattern\":{\"fillmode\":\"overlay\",\"size\":10,\"solidity\":0.2}},\"type\":\"histogram\"}],\"scattergl\":[{\"type\":\"scattergl\",\"marker\":{\"colorbar\":{\"outlinewidth\":0,\"ticks\":\"\"}}}],\"scatter3d\":[{\"type\":\"scatter3d\",\"line\":{\"colorbar\":{\"outlinewidth\":0,\"ticks\":\"\"}},\"marker\":{\"colorbar\":{\"outlinewidth\":0,\"ticks\":\"\"}}}],\"scattermapbox\":[{\"type\":\"scattermapbox\",\"marker\":{\"colorbar\":{\"outlinewidth\":0,\"ticks\":\"\"}}}],\"scatterternary\":[{\"type\":\"scatterternary\",\"marker\":{\"colorbar\":{\"outlinewidth\":0,\"ticks\":\"\"}}}],\"scattercarpet\":[{\"type\":\"scattercarpet\",\"marker\":{\"colorbar\":{\"outlinewidth\":0,\"ticks\":\"\"}}}],\"carpet\":[{\"aaxis\":{\"endlinecolor\":\"#2a3f5f\",\"gridcolor\":\"white\",\"linecolor\":\"white\",\"minorgridcolor\":\"white\",\"startlinecolor\":\"#2a3f5f\"},\"baxis\":{\"endlinecolor\":\"#2a3f5f\",\"gridcolor\":\"white\",\"linecolor\":\"white\",\"minorgridcolor\":\"white\",\"startlinecolor\":\"#2a3f5f\"},\"type\":\"carpet\"}],\"table\":[{\"cells\":{\"fill\":{\"color\":\"#EBF0F8\"},\"line\":{\"color\":\"white\"}},\"header\":{\"fill\":{\"color\":\"#C8D4E3\"},\"line\":{\"color\":\"white\"}},\"type\":\"table\"}],\"barpolar\":[{\"marker\":{\"line\":{\"color\":\"#E5ECF6\",\"width\":0.5},\"pattern\":{\"fillmode\":\"overlay\",\"size\":10,\"solidity\":0.2}},\"type\":\"barpolar\"}],\"pie\":[{\"automargin\":true,\"type\":\"pie\"}]},\"layout\":{\"autotypenumbers\":\"strict\",\"colorway\":[\"#636efa\",\"#EF553B\",\"#00cc96\",\"#ab63fa\",\"#FFA15A\",\"#19d3f3\",\"#FF6692\",\"#B6E880\",\"#FF97FF\",\"#FECB52\"],\"font\":{\"color\":\"#2a3f5f\"},\"hovermode\":\"closest\",\"hoverlabel\":{\"align\":\"left\"},\"paper_bgcolor\":\"white\",\"plot_bgcolor\":\"#E5ECF6\",\"polar\":{\"bgcolor\":\"#E5ECF6\",\"angularaxis\":{\"gridcolor\":\"white\",\"linecolor\":\"white\",\"ticks\":\"\"},\"radialaxis\":{\"gridcolor\":\"white\",\"linecolor\":\"white\",\"ticks\":\"\"}},\"ternary\":{\"bgcolor\":\"#E5ECF6\",\"aaxis\":{\"gridcolor\":\"white\",\"linecolor\":\"white\",\"ticks\":\"\"},\"baxis\":{\"gridcolor\":\"white\",\"linecolor\":\"white\",\"ticks\":\"\"},\"caxis\":{\"gridcolor\":\"white\",\"linecolor\":\"white\",\"ticks\":\"\"}},\"coloraxis\":{\"colorbar\":{\"outlinewidth\":0,\"ticks\":\"\"}},\"colorscale\":{\"sequential\":[[0.0,\"#0d0887\"],[0.1111111111111111,\"#46039f\"],[0.2222222222222222,\"#7201a8\"],[0.3333333333333333,\"#9c179e\"],[0.4444444444444444,\"#bd3786\"],[0.5555555555555556,\"#d8576b\"],[0.6666666666666666,\"#ed7953\"],[0.7777777777777778,\"#fb9f3a\"],[0.8888888888888888,\"#fdca26\"],[1.0,\"#f0f921\"]],\"sequentialminus\":[[0.0,\"#0d0887\"],[0.1111111111111111,\"#46039f\"],[0.2222222222222222,\"#7201a8\"],[0.3333333333333333,\"#9c179e\"],[0.4444444444444444,\"#bd3786\"],[0.5555555555555556,\"#d8576b\"],[0.6666666666666666,\"#ed7953\"],[0.7777777777777778,\"#fb9f3a\"],[0.8888888888888888,\"#fdca26\"],[1.0,\"#f0f921\"]],\"diverging\":[[0,\"#8e0152\"],[0.1,\"#c51b7d\"],[0.2,\"#de77ae\"],[0.3,\"#f1b6da\"],[0.4,\"#fde0ef\"],[0.5,\"#f7f7f7\"],[0.6,\"#e6f5d0\"],[0.7,\"#b8e186\"],[0.8,\"#7fbc41\"],[0.9,\"#4d9221\"],[1,\"#276419\"]]},\"xaxis\":{\"gridcolor\":\"white\",\"linecolor\":\"white\",\"ticks\":\"\",\"title\":{\"standoff\":15},\"zerolinecolor\":\"white\",\"automargin\":true,\"zerolinewidth\":2},\"yaxis\":{\"gridcolor\":\"white\",\"linecolor\":\"white\",\"ticks\":\"\",\"title\":{\"standoff\":15},\"zerolinecolor\":\"white\",\"automargin\":true,\"zerolinewidth\":2},\"scene\":{\"xaxis\":{\"backgroundcolor\":\"#E5ECF6\",\"gridcolor\":\"white\",\"linecolor\":\"white\",\"showbackground\":true,\"ticks\":\"\",\"zerolinecolor\":\"white\",\"gridwidth\":2},\"yaxis\":{\"backgroundcolor\":\"#E5ECF6\",\"gridcolor\":\"white\",\"linecolor\":\"white\",\"showbackground\":true,\"ticks\":\"\",\"zerolinecolor\":\"white\",\"gridwidth\":2},\"zaxis\":{\"backgroundcolor\":\"#E5ECF6\",\"gridcolor\":\"white\",\"linecolor\":\"white\",\"showbackground\":true,\"ticks\":\"\",\"zerolinecolor\":\"white\",\"gridwidth\":2}},\"shapedefaults\":{\"line\":{\"color\":\"#2a3f5f\"}},\"annotationdefaults\":{\"arrowcolor\":\"#2a3f5f\",\"arrowhead\":0,\"arrowwidth\":1},\"geo\":{\"bgcolor\":\"white\",\"landcolor\":\"#E5ECF6\",\"subunitcolor\":\"white\",\"showland\":true,\"showlakes\":true,\"lakecolor\":\"white\"},\"title\":{\"x\":0.05},\"mapbox\":{\"style\":\"light\"}}},\"yaxis\":{\"title\":{\"text\":\"Number of Goals & xG\",\"font\":{\"color\":\"#440154\"}},\"tickfont\":{\"color\":\"#440154\"}},\"yaxis2\":{\"title\":{\"text\":\"Conversion Rate (Goals\\u002fxG)\",\"font\":{\"color\":\"#440154\"}},\"tickfont\":{\"color\":\"#440154\"},\"overlaying\":\"y\",\"side\":\"right\"},\"title\":{\"text\":\"Goals vs xG and Young Players Conversion Rate\",\"x\":0.5},\"legend\":{\"x\":0.5,\"xanchor\":\"center\",\"y\":1.15,\"orientation\":\"h\"},\"xaxis\":{\"title\":{\"text\":\"Player\"}},\"barmode\":\"group\",\"height\":500},                        {\"responsive\": true}                    ).then(function(){\n",
       "                            \n",
       "var gd = document.getElementById('fa339b41-7153-410c-a337-3459b7f7adc3');\n",
       "var x = new MutationObserver(function (mutations, observer) {{\n",
       "        var display = window.getComputedStyle(gd).display;\n",
       "        if (!display || display === 'none') {{\n",
       "            console.log([gd, 'removed!']);\n",
       "            Plotly.purge(gd);\n",
       "            observer.disconnect();\n",
       "        }}\n",
       "}});\n",
       "\n",
       "// Listen for the removal of the full notebook cells\n",
       "var notebookContainer = gd.closest('#notebook-container');\n",
       "if (notebookContainer) {{\n",
       "    x.observe(notebookContainer, {childList: true});\n",
       "}}\n",
       "\n",
       "// Listen for the clearing of the current output cell\n",
       "var outputEl = gd.closest('.output');\n",
       "if (outputEl) {{\n",
       "    x.observe(outputEl, {childList: true});\n",
       "}}\n",
       "\n",
       "                        })                };                            </script>        </div>\n",
       "</body>\n",
       "</html>"
      ]
     },
     "metadata": {},
     "output_type": "display_data"
    }
   ],
   "source": [
    "# 1. Filter young players with at least 10 goals and calculate conversion ratio Goals/xG.\n",
    "young_players = df_cleaned[(df_cleaned['Age'] <= age_threshold) & (df_cleaned['Gls'] >= 10)]\n",
    "data = young_players[['Player', 'Gls', 'Age', 'Squad', 'xG']].reset_index(drop=True)\n",
    "data['conv_Gls_xG'] = data['Gls'] / data['xG'] # Goals to Expected Goals ratio\n",
    "data = data.sort_values('conv_Gls_xG', ascending=False).head(10)\n",
    "\n",
    "# 2. Create combined bar and line plot for Goals, xG, and Goals/xG ratio.\n",
    "fig = go.Figure()\n",
    "\n",
    "# Bar chart for actual Goals.\n",
    "fig.add_trace(go.Bar(\n",
    "    x=data['Player'],\n",
    "    y=data['Gls'],\n",
    "    name='Goals',\n",
    "    marker_color='#EF9651',\n",
    "    yaxis='y'\n",
    "))\n",
    "\n",
    "# Bar chart for Expected Goals (xG).\n",
    "fig.add_trace(go.Bar(\n",
    "    x=data['Player'],\n",
    "    y=data['xG'],\n",
    "    name='xG',\n",
    "    marker_color='#EC5228',\n",
    "    yaxis='y'\n",
    "))\n",
    "\n",
    "# Line for Goals/xG conversion ratio.\n",
    "fig.add_trace(go.Scatter(\n",
    "    x=data['Player'],\n",
    "    y=data['conv_Gls_xG'],\n",
    "    name='Conversion Rate (Goals/xG)',\n",
    "    marker_color='#3F7D58',\n",
    "    mode='lines+markers+text',\n",
    "    text=[f'{val:.2f}' for val in data['conv_Gls_xG']],\n",
    "    textposition='top center',\n",
    "    yaxis='y2' # Use secondary Y-axis\n",
    "))\n",
    "\n",
    "fig.update_layout(\n",
    "    title='Goals vs xG and Young Players Conversion Rate',\n",
    "    xaxis=dict(title='Player'),\n",
    "    yaxis=dict(\n",
    "        title='Number of Goals & xG',\n",
    "        titlefont=dict(color='#440154'),\n",
    "        tickfont=dict(color='#440154')\n",
    "    ),\n",
    "    yaxis2=dict(\n",
    "        title='Conversion Rate (Goals/xG)',\n",
    "        titlefont=dict(color='#440154'),\n",
    "        tickfont=dict(color='#440154'),\n",
    "        overlaying='y', # Stack secondary Y-axis\n",
    "        side='right'\n",
    "    ),\n",
    "    barmode='group',\n",
    "    title_x=0.5,\n",
    "    legend=dict(x=0.5, xanchor='center', y=1.15, orientation='h'),\n",
    "    height=500\n",
    ")\n",
    "\n",
    "fig.show()"
   ]
  },
  {
   "cell_type": "code",
   "execution_count": 31,
   "id": "9e88b9ec",
   "metadata": {
    "_cell_guid": "772027b6-bf03-49c8-9283-9e223337bc7a",
    "_uuid": "2ae1fe34-fd39-4bfe-bec3-61221e6ea92f",
    "collapsed": false,
    "execution": {
     "iopub.execute_input": "2025-07-05T04:56:05.220591Z",
     "iopub.status.busy": "2025-07-05T04:56:05.220272Z",
     "iopub.status.idle": "2025-07-05T04:56:05.277254Z",
     "shell.execute_reply": "2025-07-05T04:56:05.276288Z"
    },
    "jupyter": {
     "outputs_hidden": false
    },
    "papermill": {
     "duration": 0.084062,
     "end_time": "2025-07-05T04:56:05.278893",
     "exception": false,
     "start_time": "2025-07-05T04:56:05.194831",
     "status": "completed"
    },
    "tags": []
   },
   "outputs": [
    {
     "data": {
      "text/html": [
       "<html>\n",
       "<head><meta charset=\"utf-8\" /></head>\n",
       "<body>\n",
       "    <div>            <script src=\"https://cdnjs.cloudflare.com/ajax/libs/mathjax/2.7.5/MathJax.js?config=TeX-AMS-MML_SVG\"></script><script type=\"text/javascript\">if (window.MathJax && window.MathJax.Hub && window.MathJax.Hub.Config) {window.MathJax.Hub.Config({SVG: {font: \"STIX-Web\"}});}</script>                <script type=\"text/javascript\">window.PlotlyConfig = {MathJaxConfig: 'local'};</script>\n",
       "        <script charset=\"utf-8\" src=\"https://cdn.plot.ly/plotly-2.35.2.min.js\"></script>                <div id=\"1f7d26b6-76d6-45d5-b761-0865a46f6900\" class=\"plotly-graph-div\" style=\"height:400px; width:100%;\"></div>            <script type=\"text/javascript\">                                    window.PLOTLYENV=window.PLOTLYENV || {};                                    if (document.getElementById(\"1f7d26b6-76d6-45d5-b761-0865a46f6900\")) {                    Plotly.newPlot(                        \"1f7d26b6-76d6-45d5-b761-0865a46f6900\",                        [{\"alignmentgroup\":\"True\",\"customdata\":[[20.0,\"Lyon\",2041,11],[21.0,\"Leverkusen\",2351,12],[17.0,\"Barcelona\",2856,13],[21.0,\"Paris S-G\",2181,10],[20.0,\"Manchester City\",1766,8],[19.0,\"Paris S-G\",1844,8],[21.0,\"Barcelona\",1252,5],[21.0,\"Villarreal\",1934,7],[20.0,\"Celta Vigo\",1348,5],[20.0,\"Monaco\",2054,7]],\"hovertemplate\":\"Player=%{x}\\u003cbr\\u003eAssists per 90 Minutes=%{marker.color}\\u003cbr\\u003eAge=%{customdata[0]}\\u003cbr\\u003eSquad=%{customdata[1]}\\u003cbr\\u003eMin=%{customdata[2]}\\u003cbr\\u003eAst=%{customdata[3]}\\u003cextra\\u003e\\u003c\\u002fextra\\u003e\",\"legendgroup\":\"\",\"marker\":{\"color\":[0.49,0.46,0.41,0.41,0.41,0.39,0.36,0.33,0.33,0.31],\"coloraxis\":\"coloraxis\",\"pattern\":{\"shape\":\"\"}},\"name\":\"\",\"offsetgroup\":\"\",\"orientation\":\"v\",\"showlegend\":false,\"text\":[0.49,0.46,0.41,0.41,0.41,0.39,0.36,0.33,0.33,0.31],\"textposition\":\"outside\",\"x\":[\"Rayan Cherki\",\"Florian Wirtz\",\"Lamine Yamal\",\"Bradley Barcola\",\"Sávio\",\"João Neves\",\"Fermin López\",\"Yeremi Pino\",\"Williot Swedberg\",\"Lamine Camara\"],\"xaxis\":\"x\",\"y\":[0.49,0.46,0.41,0.41,0.41,0.39,0.36,0.33,0.33,0.31],\"yaxis\":\"y\",\"type\":\"bar\",\"texttemplate\":\"%{text:.2f}\"}],                        {\"template\":{\"data\":{\"histogram2dcontour\":[{\"type\":\"histogram2dcontour\",\"colorbar\":{\"outlinewidth\":0,\"ticks\":\"\"},\"colorscale\":[[0.0,\"#0d0887\"],[0.1111111111111111,\"#46039f\"],[0.2222222222222222,\"#7201a8\"],[0.3333333333333333,\"#9c179e\"],[0.4444444444444444,\"#bd3786\"],[0.5555555555555556,\"#d8576b\"],[0.6666666666666666,\"#ed7953\"],[0.7777777777777778,\"#fb9f3a\"],[0.8888888888888888,\"#fdca26\"],[1.0,\"#f0f921\"]]}],\"choropleth\":[{\"type\":\"choropleth\",\"colorbar\":{\"outlinewidth\":0,\"ticks\":\"\"}}],\"histogram2d\":[{\"type\":\"histogram2d\",\"colorbar\":{\"outlinewidth\":0,\"ticks\":\"\"},\"colorscale\":[[0.0,\"#0d0887\"],[0.1111111111111111,\"#46039f\"],[0.2222222222222222,\"#7201a8\"],[0.3333333333333333,\"#9c179e\"],[0.4444444444444444,\"#bd3786\"],[0.5555555555555556,\"#d8576b\"],[0.6666666666666666,\"#ed7953\"],[0.7777777777777778,\"#fb9f3a\"],[0.8888888888888888,\"#fdca26\"],[1.0,\"#f0f921\"]]}],\"heatmap\":[{\"type\":\"heatmap\",\"colorbar\":{\"outlinewidth\":0,\"ticks\":\"\"},\"colorscale\":[[0.0,\"#0d0887\"],[0.1111111111111111,\"#46039f\"],[0.2222222222222222,\"#7201a8\"],[0.3333333333333333,\"#9c179e\"],[0.4444444444444444,\"#bd3786\"],[0.5555555555555556,\"#d8576b\"],[0.6666666666666666,\"#ed7953\"],[0.7777777777777778,\"#fb9f3a\"],[0.8888888888888888,\"#fdca26\"],[1.0,\"#f0f921\"]]}],\"heatmapgl\":[{\"type\":\"heatmapgl\",\"colorbar\":{\"outlinewidth\":0,\"ticks\":\"\"},\"colorscale\":[[0.0,\"#0d0887\"],[0.1111111111111111,\"#46039f\"],[0.2222222222222222,\"#7201a8\"],[0.3333333333333333,\"#9c179e\"],[0.4444444444444444,\"#bd3786\"],[0.5555555555555556,\"#d8576b\"],[0.6666666666666666,\"#ed7953\"],[0.7777777777777778,\"#fb9f3a\"],[0.8888888888888888,\"#fdca26\"],[1.0,\"#f0f921\"]]}],\"contourcarpet\":[{\"type\":\"contourcarpet\",\"colorbar\":{\"outlinewidth\":0,\"ticks\":\"\"}}],\"contour\":[{\"type\":\"contour\",\"colorbar\":{\"outlinewidth\":0,\"ticks\":\"\"},\"colorscale\":[[0.0,\"#0d0887\"],[0.1111111111111111,\"#46039f\"],[0.2222222222222222,\"#7201a8\"],[0.3333333333333333,\"#9c179e\"],[0.4444444444444444,\"#bd3786\"],[0.5555555555555556,\"#d8576b\"],[0.6666666666666666,\"#ed7953\"],[0.7777777777777778,\"#fb9f3a\"],[0.8888888888888888,\"#fdca26\"],[1.0,\"#f0f921\"]]}],\"surface\":[{\"type\":\"surface\",\"colorbar\":{\"outlinewidth\":0,\"ticks\":\"\"},\"colorscale\":[[0.0,\"#0d0887\"],[0.1111111111111111,\"#46039f\"],[0.2222222222222222,\"#7201a8\"],[0.3333333333333333,\"#9c179e\"],[0.4444444444444444,\"#bd3786\"],[0.5555555555555556,\"#d8576b\"],[0.6666666666666666,\"#ed7953\"],[0.7777777777777778,\"#fb9f3a\"],[0.8888888888888888,\"#fdca26\"],[1.0,\"#f0f921\"]]}],\"mesh3d\":[{\"type\":\"mesh3d\",\"colorbar\":{\"outlinewidth\":0,\"ticks\":\"\"}}],\"scatter\":[{\"fillpattern\":{\"fillmode\":\"overlay\",\"size\":10,\"solidity\":0.2},\"type\":\"scatter\"}],\"parcoords\":[{\"type\":\"parcoords\",\"line\":{\"colorbar\":{\"outlinewidth\":0,\"ticks\":\"\"}}}],\"scatterpolargl\":[{\"type\":\"scatterpolargl\",\"marker\":{\"colorbar\":{\"outlinewidth\":0,\"ticks\":\"\"}}}],\"bar\":[{\"error_x\":{\"color\":\"#2a3f5f\"},\"error_y\":{\"color\":\"#2a3f5f\"},\"marker\":{\"line\":{\"color\":\"#E5ECF6\",\"width\":0.5},\"pattern\":{\"fillmode\":\"overlay\",\"size\":10,\"solidity\":0.2}},\"type\":\"bar\"}],\"scattergeo\":[{\"type\":\"scattergeo\",\"marker\":{\"colorbar\":{\"outlinewidth\":0,\"ticks\":\"\"}}}],\"scatterpolar\":[{\"type\":\"scatterpolar\",\"marker\":{\"colorbar\":{\"outlinewidth\":0,\"ticks\":\"\"}}}],\"histogram\":[{\"marker\":{\"pattern\":{\"fillmode\":\"overlay\",\"size\":10,\"solidity\":0.2}},\"type\":\"histogram\"}],\"scattergl\":[{\"type\":\"scattergl\",\"marker\":{\"colorbar\":{\"outlinewidth\":0,\"ticks\":\"\"}}}],\"scatter3d\":[{\"type\":\"scatter3d\",\"line\":{\"colorbar\":{\"outlinewidth\":0,\"ticks\":\"\"}},\"marker\":{\"colorbar\":{\"outlinewidth\":0,\"ticks\":\"\"}}}],\"scattermapbox\":[{\"type\":\"scattermapbox\",\"marker\":{\"colorbar\":{\"outlinewidth\":0,\"ticks\":\"\"}}}],\"scatterternary\":[{\"type\":\"scatterternary\",\"marker\":{\"colorbar\":{\"outlinewidth\":0,\"ticks\":\"\"}}}],\"scattercarpet\":[{\"type\":\"scattercarpet\",\"marker\":{\"colorbar\":{\"outlinewidth\":0,\"ticks\":\"\"}}}],\"carpet\":[{\"aaxis\":{\"endlinecolor\":\"#2a3f5f\",\"gridcolor\":\"white\",\"linecolor\":\"white\",\"minorgridcolor\":\"white\",\"startlinecolor\":\"#2a3f5f\"},\"baxis\":{\"endlinecolor\":\"#2a3f5f\",\"gridcolor\":\"white\",\"linecolor\":\"white\",\"minorgridcolor\":\"white\",\"startlinecolor\":\"#2a3f5f\"},\"type\":\"carpet\"}],\"table\":[{\"cells\":{\"fill\":{\"color\":\"#EBF0F8\"},\"line\":{\"color\":\"white\"}},\"header\":{\"fill\":{\"color\":\"#C8D4E3\"},\"line\":{\"color\":\"white\"}},\"type\":\"table\"}],\"barpolar\":[{\"marker\":{\"line\":{\"color\":\"#E5ECF6\",\"width\":0.5},\"pattern\":{\"fillmode\":\"overlay\",\"size\":10,\"solidity\":0.2}},\"type\":\"barpolar\"}],\"pie\":[{\"automargin\":true,\"type\":\"pie\"}]},\"layout\":{\"autotypenumbers\":\"strict\",\"colorway\":[\"#636efa\",\"#EF553B\",\"#00cc96\",\"#ab63fa\",\"#FFA15A\",\"#19d3f3\",\"#FF6692\",\"#B6E880\",\"#FF97FF\",\"#FECB52\"],\"font\":{\"color\":\"#2a3f5f\"},\"hovermode\":\"closest\",\"hoverlabel\":{\"align\":\"left\"},\"paper_bgcolor\":\"white\",\"plot_bgcolor\":\"#E5ECF6\",\"polar\":{\"bgcolor\":\"#E5ECF6\",\"angularaxis\":{\"gridcolor\":\"white\",\"linecolor\":\"white\",\"ticks\":\"\"},\"radialaxis\":{\"gridcolor\":\"white\",\"linecolor\":\"white\",\"ticks\":\"\"}},\"ternary\":{\"bgcolor\":\"#E5ECF6\",\"aaxis\":{\"gridcolor\":\"white\",\"linecolor\":\"white\",\"ticks\":\"\"},\"baxis\":{\"gridcolor\":\"white\",\"linecolor\":\"white\",\"ticks\":\"\"},\"caxis\":{\"gridcolor\":\"white\",\"linecolor\":\"white\",\"ticks\":\"\"}},\"coloraxis\":{\"colorbar\":{\"outlinewidth\":0,\"ticks\":\"\"}},\"colorscale\":{\"sequential\":[[0.0,\"#0d0887\"],[0.1111111111111111,\"#46039f\"],[0.2222222222222222,\"#7201a8\"],[0.3333333333333333,\"#9c179e\"],[0.4444444444444444,\"#bd3786\"],[0.5555555555555556,\"#d8576b\"],[0.6666666666666666,\"#ed7953\"],[0.7777777777777778,\"#fb9f3a\"],[0.8888888888888888,\"#fdca26\"],[1.0,\"#f0f921\"]],\"sequentialminus\":[[0.0,\"#0d0887\"],[0.1111111111111111,\"#46039f\"],[0.2222222222222222,\"#7201a8\"],[0.3333333333333333,\"#9c179e\"],[0.4444444444444444,\"#bd3786\"],[0.5555555555555556,\"#d8576b\"],[0.6666666666666666,\"#ed7953\"],[0.7777777777777778,\"#fb9f3a\"],[0.8888888888888888,\"#fdca26\"],[1.0,\"#f0f921\"]],\"diverging\":[[0,\"#8e0152\"],[0.1,\"#c51b7d\"],[0.2,\"#de77ae\"],[0.3,\"#f1b6da\"],[0.4,\"#fde0ef\"],[0.5,\"#f7f7f7\"],[0.6,\"#e6f5d0\"],[0.7,\"#b8e186\"],[0.8,\"#7fbc41\"],[0.9,\"#4d9221\"],[1,\"#276419\"]]},\"xaxis\":{\"gridcolor\":\"white\",\"linecolor\":\"white\",\"ticks\":\"\",\"title\":{\"standoff\":15},\"zerolinecolor\":\"white\",\"automargin\":true,\"zerolinewidth\":2},\"yaxis\":{\"gridcolor\":\"white\",\"linecolor\":\"white\",\"ticks\":\"\",\"title\":{\"standoff\":15},\"zerolinecolor\":\"white\",\"automargin\":true,\"zerolinewidth\":2},\"scene\":{\"xaxis\":{\"backgroundcolor\":\"#E5ECF6\",\"gridcolor\":\"white\",\"linecolor\":\"white\",\"showbackground\":true,\"ticks\":\"\",\"zerolinecolor\":\"white\",\"gridwidth\":2},\"yaxis\":{\"backgroundcolor\":\"#E5ECF6\",\"gridcolor\":\"white\",\"linecolor\":\"white\",\"showbackground\":true,\"ticks\":\"\",\"zerolinecolor\":\"white\",\"gridwidth\":2},\"zaxis\":{\"backgroundcolor\":\"#E5ECF6\",\"gridcolor\":\"white\",\"linecolor\":\"white\",\"showbackground\":true,\"ticks\":\"\",\"zerolinecolor\":\"white\",\"gridwidth\":2}},\"shapedefaults\":{\"line\":{\"color\":\"#2a3f5f\"}},\"annotationdefaults\":{\"arrowcolor\":\"#2a3f5f\",\"arrowhead\":0,\"arrowwidth\":1},\"geo\":{\"bgcolor\":\"white\",\"landcolor\":\"#E5ECF6\",\"subunitcolor\":\"white\",\"showland\":true,\"showlakes\":true,\"lakecolor\":\"white\"},\"title\":{\"x\":0.05},\"mapbox\":{\"style\":\"light\"}}},\"xaxis\":{\"anchor\":\"y\",\"domain\":[0.0,1.0],\"title\":{\"text\":\"Player\"}},\"yaxis\":{\"anchor\":\"x\",\"domain\":[0.0,1.0],\"title\":{\"text\":\"Assists per 90 Minutes\"}},\"coloraxis\":{\"colorbar\":{\"title\":{\"text\":\"Assists per 90 Minutes\"}},\"colorscale\":[[0.0,\"#000004\"],[0.1111111111111111,\"#180f3d\"],[0.2222222222222222,\"#440f76\"],[0.3333333333333333,\"#721f81\"],[0.4444444444444444,\"#9e2f7f\"],[0.5555555555555556,\"#cd4071\"],[0.6666666666666666,\"#f1605d\"],[0.7777777777777778,\"#fd9668\"],[0.8888888888888888,\"#feca8d\"],[1.0,\"#fcfdbf\"]]},\"legend\":{\"tracegroupgap\":0},\"title\":{\"text\":\"Top 10 Young Players with Highest Assists per 90 Minutes\",\"x\":0.5},\"barmode\":\"relative\",\"height\":400,\"uniformtext\":{\"minsize\":8,\"mode\":\"hide\"}},                        {\"responsive\": true}                    ).then(function(){\n",
       "                            \n",
       "var gd = document.getElementById('1f7d26b6-76d6-45d5-b761-0865a46f6900');\n",
       "var x = new MutationObserver(function (mutations, observer) {{\n",
       "        var display = window.getComputedStyle(gd).display;\n",
       "        if (!display || display === 'none') {{\n",
       "            console.log([gd, 'removed!']);\n",
       "            Plotly.purge(gd);\n",
       "            observer.disconnect();\n",
       "        }}\n",
       "}});\n",
       "\n",
       "// Listen for the removal of the full notebook cells\n",
       "var notebookContainer = gd.closest('#notebook-container');\n",
       "if (notebookContainer) {{\n",
       "    x.observe(notebookContainer, {childList: true});\n",
       "}}\n",
       "\n",
       "// Listen for the clearing of the current output cell\n",
       "var outputEl = gd.closest('.output');\n",
       "if (outputEl) {{\n",
       "    x.observe(outputEl, {childList: true});\n",
       "}}\n",
       "\n",
       "                        })                };                            </script>        </div>\n",
       "</body>\n",
       "</html>"
      ]
     },
     "metadata": {},
     "output_type": "display_data"
    }
   ],
   "source": [
    "# 1. Filter young players with assists in top 95%, sorted by assists per 90 minutes.\n",
    "young_players = df_cleaned[(df_cleaned['Age'] <= age_threshold) & (df_cleaned['Ast'] >= df_cleaned['Ast'].quantile(0.95))].sort_values(['Ast_90', 'Ast'], ascending=False)\n",
    "data = young_players[['Player', 'Ast', 'Age', 'Squad', 'Ast_90', 'Min']].head(10).reset_index(drop=True)\n",
    "\n",
    "# Create bar chart for top 10 young players by assists per 90 minutes.\n",
    "fig = px.bar(\n",
    "    data,\n",
    "    x='Player',\n",
    "    y='Ast_90',\n",
    "    hover_data=['Age', 'Squad', 'Min', 'Ast'],\n",
    "    color='Ast_90',\n",
    "    color_continuous_scale='magma',\n",
    "    labels={'Ast_90': 'Assists per 90 Minutes'},\n",
    "    height=400,\n",
    "    title='Top 10 Young Players with Highest Assists per 90 Minutes',\n",
    "    text='Ast_90'\n",
    ")\n",
    "\n",
    "fig.update_traces(texttemplate='%{text:.2f}', textposition='outside')\n",
    "\n",
    "fig.update_layout(\n",
    "    title_x=0.5,\n",
    "    uniformtext_minsize=8,\n",
    "    uniformtext_mode='hide',\n",
    "    yaxis_title='Assists per 90 Minutes'\n",
    ")\n",
    "\n",
    "fig.show()"
   ]
  },
  {
   "cell_type": "code",
   "execution_count": 32,
   "id": "f9f8b757",
   "metadata": {
    "_cell_guid": "864bedd9-a7d1-4e17-880f-3d064ad54777",
    "_uuid": "d552e6ba-74e9-4fea-bd51-12c746472630",
    "collapsed": false,
    "execution": {
     "iopub.execute_input": "2025-07-05T04:56:05.327413Z",
     "iopub.status.busy": "2025-07-05T04:56:05.327024Z",
     "iopub.status.idle": "2025-07-05T04:56:05.359691Z",
     "shell.execute_reply": "2025-07-05T04:56:05.358738Z"
    },
    "jupyter": {
     "outputs_hidden": false
    },
    "papermill": {
     "duration": 0.059124,
     "end_time": "2025-07-05T04:56:05.361610",
     "exception": false,
     "start_time": "2025-07-05T04:56:05.302486",
     "status": "completed"
    },
    "tags": []
   },
   "outputs": [
    {
     "data": {
      "text/html": [
       "<html>\n",
       "<head><meta charset=\"utf-8\" /></head>\n",
       "<body>\n",
       "    <div>            <script src=\"https://cdnjs.cloudflare.com/ajax/libs/mathjax/2.7.5/MathJax.js?config=TeX-AMS-MML_SVG\"></script><script type=\"text/javascript\">if (window.MathJax && window.MathJax.Hub && window.MathJax.Hub.Config) {window.MathJax.Hub.Config({SVG: {font: \"STIX-Web\"}});}</script>                <script type=\"text/javascript\">window.PlotlyConfig = {MathJaxConfig: 'local'};</script>\n",
       "        <script charset=\"utf-8\" src=\"https://cdn.plot.ly/plotly-2.35.2.min.js\"></script>                <div id=\"08fbcb4b-fc1c-4c6d-a07b-a0650a67c842\" class=\"plotly-graph-div\" style=\"height:500px; width:100%;\"></div>            <script type=\"text/javascript\">                                    window.PLOTLYENV=window.PLOTLYENV || {};                                    if (document.getElementById(\"08fbcb4b-fc1c-4c6d-a07b-a0650a67c842\")) {                    Plotly.newPlot(                        \"08fbcb4b-fc1c-4c6d-a07b-a0650a67c842\",                        [{\"marker\":{\"color\":\"#0d0887\"},\"name\":\"Assists\",\"x\":[\"Benjamin Šeško\",\"Christantus Uche\",\"Jude Bellingham\",\"João Neves\",\"Williot Swedberg\",\"Elliot Anderson\",\"Florian Wirtz\",\"Lamine Camara\",\"Maximilian Beier\",\"Nicolás Paz\"],\"y\":[5,6,8,8,5,6,12,7,5,8],\"yaxis\":\"y\",\"type\":\"bar\"},{\"marker\":{\"color\":\"#cc4678\"},\"name\":\"xAG\",\"x\":[\"Benjamin Šeško\",\"Christantus Uche\",\"Jude Bellingham\",\"João Neves\",\"Williot Swedberg\",\"Elliot Anderson\",\"Florian Wirtz\",\"Lamine Camara\",\"Maximilian Beier\",\"Nicolás Paz\"],\"y\":[2.1,2.9,3.9,4.0,2.6,3.3,7.0,4.4,3.3,6.0],\"yaxis\":\"y\",\"type\":\"bar\"},{\"marker\":{\"color\":\"#f0f951\"},\"mode\":\"lines+markers+text\",\"name\":\"Conversion Rate (Assist\\u002fxAG)\",\"text\":[\"2.38\",\"2.07\",\"2.05\",\"2.00\",\"1.92\",\"1.82\",\"1.71\",\"1.59\",\"1.52\",\"1.33\"],\"textposition\":\"top center\",\"x\":[\"Benjamin Šeško\",\"Christantus Uche\",\"Jude Bellingham\",\"João Neves\",\"Williot Swedberg\",\"Elliot Anderson\",\"Florian Wirtz\",\"Lamine Camara\",\"Maximilian Beier\",\"Nicolás Paz\"],\"y\":[2.380952380952381,2.0689655172413794,2.0512820512820515,2.0,1.923076923076923,1.8181818181818183,1.7142857142857142,1.5909090909090908,1.5151515151515151,1.3333333333333333],\"yaxis\":\"y2\",\"type\":\"scatter\"}],                        {\"template\":{\"data\":{\"histogram2dcontour\":[{\"type\":\"histogram2dcontour\",\"colorbar\":{\"outlinewidth\":0,\"ticks\":\"\"},\"colorscale\":[[0.0,\"#0d0887\"],[0.1111111111111111,\"#46039f\"],[0.2222222222222222,\"#7201a8\"],[0.3333333333333333,\"#9c179e\"],[0.4444444444444444,\"#bd3786\"],[0.5555555555555556,\"#d8576b\"],[0.6666666666666666,\"#ed7953\"],[0.7777777777777778,\"#fb9f3a\"],[0.8888888888888888,\"#fdca26\"],[1.0,\"#f0f921\"]]}],\"choropleth\":[{\"type\":\"choropleth\",\"colorbar\":{\"outlinewidth\":0,\"ticks\":\"\"}}],\"histogram2d\":[{\"type\":\"histogram2d\",\"colorbar\":{\"outlinewidth\":0,\"ticks\":\"\"},\"colorscale\":[[0.0,\"#0d0887\"],[0.1111111111111111,\"#46039f\"],[0.2222222222222222,\"#7201a8\"],[0.3333333333333333,\"#9c179e\"],[0.4444444444444444,\"#bd3786\"],[0.5555555555555556,\"#d8576b\"],[0.6666666666666666,\"#ed7953\"],[0.7777777777777778,\"#fb9f3a\"],[0.8888888888888888,\"#fdca26\"],[1.0,\"#f0f921\"]]}],\"heatmap\":[{\"type\":\"heatmap\",\"colorbar\":{\"outlinewidth\":0,\"ticks\":\"\"},\"colorscale\":[[0.0,\"#0d0887\"],[0.1111111111111111,\"#46039f\"],[0.2222222222222222,\"#7201a8\"],[0.3333333333333333,\"#9c179e\"],[0.4444444444444444,\"#bd3786\"],[0.5555555555555556,\"#d8576b\"],[0.6666666666666666,\"#ed7953\"],[0.7777777777777778,\"#fb9f3a\"],[0.8888888888888888,\"#fdca26\"],[1.0,\"#f0f921\"]]}],\"heatmapgl\":[{\"type\":\"heatmapgl\",\"colorbar\":{\"outlinewidth\":0,\"ticks\":\"\"},\"colorscale\":[[0.0,\"#0d0887\"],[0.1111111111111111,\"#46039f\"],[0.2222222222222222,\"#7201a8\"],[0.3333333333333333,\"#9c179e\"],[0.4444444444444444,\"#bd3786\"],[0.5555555555555556,\"#d8576b\"],[0.6666666666666666,\"#ed7953\"],[0.7777777777777778,\"#fb9f3a\"],[0.8888888888888888,\"#fdca26\"],[1.0,\"#f0f921\"]]}],\"contourcarpet\":[{\"type\":\"contourcarpet\",\"colorbar\":{\"outlinewidth\":0,\"ticks\":\"\"}}],\"contour\":[{\"type\":\"contour\",\"colorbar\":{\"outlinewidth\":0,\"ticks\":\"\"},\"colorscale\":[[0.0,\"#0d0887\"],[0.1111111111111111,\"#46039f\"],[0.2222222222222222,\"#7201a8\"],[0.3333333333333333,\"#9c179e\"],[0.4444444444444444,\"#bd3786\"],[0.5555555555555556,\"#d8576b\"],[0.6666666666666666,\"#ed7953\"],[0.7777777777777778,\"#fb9f3a\"],[0.8888888888888888,\"#fdca26\"],[1.0,\"#f0f921\"]]}],\"surface\":[{\"type\":\"surface\",\"colorbar\":{\"outlinewidth\":0,\"ticks\":\"\"},\"colorscale\":[[0.0,\"#0d0887\"],[0.1111111111111111,\"#46039f\"],[0.2222222222222222,\"#7201a8\"],[0.3333333333333333,\"#9c179e\"],[0.4444444444444444,\"#bd3786\"],[0.5555555555555556,\"#d8576b\"],[0.6666666666666666,\"#ed7953\"],[0.7777777777777778,\"#fb9f3a\"],[0.8888888888888888,\"#fdca26\"],[1.0,\"#f0f921\"]]}],\"mesh3d\":[{\"type\":\"mesh3d\",\"colorbar\":{\"outlinewidth\":0,\"ticks\":\"\"}}],\"scatter\":[{\"fillpattern\":{\"fillmode\":\"overlay\",\"size\":10,\"solidity\":0.2},\"type\":\"scatter\"}],\"parcoords\":[{\"type\":\"parcoords\",\"line\":{\"colorbar\":{\"outlinewidth\":0,\"ticks\":\"\"}}}],\"scatterpolargl\":[{\"type\":\"scatterpolargl\",\"marker\":{\"colorbar\":{\"outlinewidth\":0,\"ticks\":\"\"}}}],\"bar\":[{\"error_x\":{\"color\":\"#2a3f5f\"},\"error_y\":{\"color\":\"#2a3f5f\"},\"marker\":{\"line\":{\"color\":\"#E5ECF6\",\"width\":0.5},\"pattern\":{\"fillmode\":\"overlay\",\"size\":10,\"solidity\":0.2}},\"type\":\"bar\"}],\"scattergeo\":[{\"type\":\"scattergeo\",\"marker\":{\"colorbar\":{\"outlinewidth\":0,\"ticks\":\"\"}}}],\"scatterpolar\":[{\"type\":\"scatterpolar\",\"marker\":{\"colorbar\":{\"outlinewidth\":0,\"ticks\":\"\"}}}],\"histogram\":[{\"marker\":{\"pattern\":{\"fillmode\":\"overlay\",\"size\":10,\"solidity\":0.2}},\"type\":\"histogram\"}],\"scattergl\":[{\"type\":\"scattergl\",\"marker\":{\"colorbar\":{\"outlinewidth\":0,\"ticks\":\"\"}}}],\"scatter3d\":[{\"type\":\"scatter3d\",\"line\":{\"colorbar\":{\"outlinewidth\":0,\"ticks\":\"\"}},\"marker\":{\"colorbar\":{\"outlinewidth\":0,\"ticks\":\"\"}}}],\"scattermapbox\":[{\"type\":\"scattermapbox\",\"marker\":{\"colorbar\":{\"outlinewidth\":0,\"ticks\":\"\"}}}],\"scatterternary\":[{\"type\":\"scatterternary\",\"marker\":{\"colorbar\":{\"outlinewidth\":0,\"ticks\":\"\"}}}],\"scattercarpet\":[{\"type\":\"scattercarpet\",\"marker\":{\"colorbar\":{\"outlinewidth\":0,\"ticks\":\"\"}}}],\"carpet\":[{\"aaxis\":{\"endlinecolor\":\"#2a3f5f\",\"gridcolor\":\"white\",\"linecolor\":\"white\",\"minorgridcolor\":\"white\",\"startlinecolor\":\"#2a3f5f\"},\"baxis\":{\"endlinecolor\":\"#2a3f5f\",\"gridcolor\":\"white\",\"linecolor\":\"white\",\"minorgridcolor\":\"white\",\"startlinecolor\":\"#2a3f5f\"},\"type\":\"carpet\"}],\"table\":[{\"cells\":{\"fill\":{\"color\":\"#EBF0F8\"},\"line\":{\"color\":\"white\"}},\"header\":{\"fill\":{\"color\":\"#C8D4E3\"},\"line\":{\"color\":\"white\"}},\"type\":\"table\"}],\"barpolar\":[{\"marker\":{\"line\":{\"color\":\"#E5ECF6\",\"width\":0.5},\"pattern\":{\"fillmode\":\"overlay\",\"size\":10,\"solidity\":0.2}},\"type\":\"barpolar\"}],\"pie\":[{\"automargin\":true,\"type\":\"pie\"}]},\"layout\":{\"autotypenumbers\":\"strict\",\"colorway\":[\"#636efa\",\"#EF553B\",\"#00cc96\",\"#ab63fa\",\"#FFA15A\",\"#19d3f3\",\"#FF6692\",\"#B6E880\",\"#FF97FF\",\"#FECB52\"],\"font\":{\"color\":\"#2a3f5f\"},\"hovermode\":\"closest\",\"hoverlabel\":{\"align\":\"left\"},\"paper_bgcolor\":\"white\",\"plot_bgcolor\":\"#E5ECF6\",\"polar\":{\"bgcolor\":\"#E5ECF6\",\"angularaxis\":{\"gridcolor\":\"white\",\"linecolor\":\"white\",\"ticks\":\"\"},\"radialaxis\":{\"gridcolor\":\"white\",\"linecolor\":\"white\",\"ticks\":\"\"}},\"ternary\":{\"bgcolor\":\"#E5ECF6\",\"aaxis\":{\"gridcolor\":\"white\",\"linecolor\":\"white\",\"ticks\":\"\"},\"baxis\":{\"gridcolor\":\"white\",\"linecolor\":\"white\",\"ticks\":\"\"},\"caxis\":{\"gridcolor\":\"white\",\"linecolor\":\"white\",\"ticks\":\"\"}},\"coloraxis\":{\"colorbar\":{\"outlinewidth\":0,\"ticks\":\"\"}},\"colorscale\":{\"sequential\":[[0.0,\"#0d0887\"],[0.1111111111111111,\"#46039f\"],[0.2222222222222222,\"#7201a8\"],[0.3333333333333333,\"#9c179e\"],[0.4444444444444444,\"#bd3786\"],[0.5555555555555556,\"#d8576b\"],[0.6666666666666666,\"#ed7953\"],[0.7777777777777778,\"#fb9f3a\"],[0.8888888888888888,\"#fdca26\"],[1.0,\"#f0f921\"]],\"sequentialminus\":[[0.0,\"#0d0887\"],[0.1111111111111111,\"#46039f\"],[0.2222222222222222,\"#7201a8\"],[0.3333333333333333,\"#9c179e\"],[0.4444444444444444,\"#bd3786\"],[0.5555555555555556,\"#d8576b\"],[0.6666666666666666,\"#ed7953\"],[0.7777777777777778,\"#fb9f3a\"],[0.8888888888888888,\"#fdca26\"],[1.0,\"#f0f921\"]],\"diverging\":[[0,\"#8e0152\"],[0.1,\"#c51b7d\"],[0.2,\"#de77ae\"],[0.3,\"#f1b6da\"],[0.4,\"#fde0ef\"],[0.5,\"#f7f7f7\"],[0.6,\"#e6f5d0\"],[0.7,\"#b8e186\"],[0.8,\"#7fbc41\"],[0.9,\"#4d9221\"],[1,\"#276419\"]]},\"xaxis\":{\"gridcolor\":\"white\",\"linecolor\":\"white\",\"ticks\":\"\",\"title\":{\"standoff\":15},\"zerolinecolor\":\"white\",\"automargin\":true,\"zerolinewidth\":2},\"yaxis\":{\"gridcolor\":\"white\",\"linecolor\":\"white\",\"ticks\":\"\",\"title\":{\"standoff\":15},\"zerolinecolor\":\"white\",\"automargin\":true,\"zerolinewidth\":2},\"scene\":{\"xaxis\":{\"backgroundcolor\":\"#E5ECF6\",\"gridcolor\":\"white\",\"linecolor\":\"white\",\"showbackground\":true,\"ticks\":\"\",\"zerolinecolor\":\"white\",\"gridwidth\":2},\"yaxis\":{\"backgroundcolor\":\"#E5ECF6\",\"gridcolor\":\"white\",\"linecolor\":\"white\",\"showbackground\":true,\"ticks\":\"\",\"zerolinecolor\":\"white\",\"gridwidth\":2},\"zaxis\":{\"backgroundcolor\":\"#E5ECF6\",\"gridcolor\":\"white\",\"linecolor\":\"white\",\"showbackground\":true,\"ticks\":\"\",\"zerolinecolor\":\"white\",\"gridwidth\":2}},\"shapedefaults\":{\"line\":{\"color\":\"#2a3f5f\"}},\"annotationdefaults\":{\"arrowcolor\":\"#2a3f5f\",\"arrowhead\":0,\"arrowwidth\":1},\"geo\":{\"bgcolor\":\"white\",\"landcolor\":\"#E5ECF6\",\"subunitcolor\":\"white\",\"showland\":true,\"showlakes\":true,\"lakecolor\":\"white\"},\"title\":{\"x\":0.05},\"mapbox\":{\"style\":\"light\"}}},\"yaxis\":{\"title\":{\"text\":\"Number of Assists & xAG\",\"font\":{\"color\":\"#0d0887\"}},\"tickfont\":{\"color\":\"#0d0887\"}},\"yaxis2\":{\"title\":{\"text\":\"Conversion Rate (Assist\\u002fxAG)\",\"font\":{\"color\":\"#0d0887\"}},\"tickfont\":{\"color\":\"#0d0887\"},\"overlaying\":\"y\",\"side\":\"right\"},\"title\":{\"text\":\"Assists vs xAG and Young Players Conversion Rate\",\"x\":0.5},\"legend\":{\"x\":0.5,\"xanchor\":\"center\",\"y\":1.15,\"orientation\":\"h\"},\"xaxis\":{\"title\":{\"text\":\"Player\"}},\"barmode\":\"group\",\"height\":500},                        {\"responsive\": true}                    ).then(function(){\n",
       "                            \n",
       "var gd = document.getElementById('08fbcb4b-fc1c-4c6d-a07b-a0650a67c842');\n",
       "var x = new MutationObserver(function (mutations, observer) {{\n",
       "        var display = window.getComputedStyle(gd).display;\n",
       "        if (!display || display === 'none') {{\n",
       "            console.log([gd, 'removed!']);\n",
       "            Plotly.purge(gd);\n",
       "            observer.disconnect();\n",
       "        }}\n",
       "}});\n",
       "\n",
       "// Listen for the removal of the full notebook cells\n",
       "var notebookContainer = gd.closest('#notebook-container');\n",
       "if (notebookContainer) {{\n",
       "    x.observe(notebookContainer, {childList: true});\n",
       "}}\n",
       "\n",
       "// Listen for the clearing of the current output cell\n",
       "var outputEl = gd.closest('.output');\n",
       "if (outputEl) {{\n",
       "    x.observe(outputEl, {childList: true});\n",
       "}}\n",
       "\n",
       "                        })                };                            </script>        </div>\n",
       "</body>\n",
       "</html>"
      ]
     },
     "metadata": {},
     "output_type": "display_data"
    }
   ],
   "source": [
    "# 1. Filter young players with assists in top 95% and calculate Assist/xAG ratio.\n",
    "young_players = df_cleaned[(df_cleaned['Age'] <= age_threshold) & (df_cleaned['Ast'] >= df_cleaned['Ast'].quantile(0.95))]\n",
    "data = young_players[['Player', 'Ast', 'Age', 'Squad', 'xAG']].reset_index(drop=True)\n",
    "data['conv_Ast_xAG'] = data['Ast'] / data['xAG'] # Assists to Expected Assisted Goals ratio\n",
    "data = data.sort_values('conv_Ast_xAG', ascending=False).head(10)\n",
    "\n",
    "# 2. Create combined bar and line plot for Assists, xAG, and Assist/xAG ratio.\n",
    "fig = go.Figure()\n",
    "\n",
    "# Bar chart for actual Assists.\n",
    "fig.add_trace(go.Bar(\n",
    "    x=data['Player'],\n",
    "    y=data['Ast'],\n",
    "    name='Assists',\n",
    "    marker_color='#0d0887',\n",
    "    yaxis='y'\n",
    "))\n",
    "\n",
    "# Bar chart for Expected Assisted Goals (xAG).\n",
    "fig.add_trace(go.Bar(\n",
    "    x=data['Player'],\n",
    "    y=data['xAG'],\n",
    "    name='xAG',\n",
    "    marker_color='#cc4678',\n",
    "    yaxis='y'\n",
    "))\n",
    "\n",
    "# Line for Assist/xAG conversion ratio.\n",
    "fig.add_trace(go.Scatter(\n",
    "    x=data['Player'],\n",
    "    y=data['conv_Ast_xAG'],\n",
    "    name='Conversion Rate (Assist/xAG)',\n",
    "    marker_color='#f0f951',\n",
    "    mode='lines+markers+text',\n",
    "    text=[f'{val:.2f}' for val in data['conv_Ast_xAG']],\n",
    "    textposition='top center',\n",
    "    yaxis='y2'\n",
    "))\n",
    "\n",
    "fig.update_layout(\n",
    "    title='Assists vs xAG and Young Players Conversion Rate',\n",
    "    xaxis=dict(title='Player'),\n",
    "    yaxis=dict(\n",
    "        title='Number of Assists & xAG',\n",
    "        titlefont=dict(color='#0d0887'),\n",
    "        tickfont=dict(color='#0d0887')\n",
    "    ),\n",
    "    yaxis2=dict(\n",
    "        title='Conversion Rate (Assist/xAG)',\n",
    "        titlefont=dict(color='#0d0887'),\n",
    "        tickfont=dict(color='#0d0887'),\n",
    "        overlaying='y',\n",
    "        side='right'\n",
    "    ),\n",
    "    barmode='group',\n",
    "    title_x=0.5,\n",
    "    legend=dict(x=0.5, xanchor='center', y=1.15, orientation='h'),\n",
    "    height=500\n",
    ")\n",
    "\n",
    "fig.show()"
   ]
  },
  {
   "cell_type": "markdown",
   "id": "71e33905",
   "metadata": {
    "_cell_guid": "01b25edf-a73e-4b2a-b46f-00e9b5753b70",
    "_uuid": "897504a2-06dd-4df9-9fc7-ef175577ecd7",
    "collapsed": false,
    "jupyter": {
     "outputs_hidden": false
    },
    "papermill": {
     "duration": 0.024264,
     "end_time": "2025-07-05T04:56:05.412871",
     "exception": false,
     "start_time": "2025-07-05T04:56:05.388607",
     "status": "completed"
    },
    "tags": []
   },
   "source": [
    "**1. Mika Biereth is Most Effective Young Scorer per 90 Minutes:**\n",
    "* Leads with 0.93 goals/90, showing exceptional efficiency when on the pitch.\n",
    "* Others like Jamal Musiala (0.60), Bradley Barcola (0.58) also show high effectiveness.\n",
    "\n",
    "**2. Rayan Cherki Leads in Assist Effectiveness per 90 Minutes:**\n",
    "* Tops with 0.48 assists/90, indicating highly creative playmaking.\n",
    "* Florian Wirtz (0.46) and Lamine Yamal (0.41) also show high assist efficiency.\n",
    "\n",
    "**3. Goal Conversion Rate (Goals vs xG) Highlights Finishing Quality:**\n",
    "* Andrey Santos and Xavi Simons have highest conversion rates (1.96), scoring nearly double the expected goals, showing clinical finishing.\n",
    "* Lucas Stassin (1.72) and Paul Nebel (1.71) also excellent converters.\n",
    "* Players like Wirtz and Barcola have ~1.00 ratios, scoring as expected from chances.\n",
    "\n",
    "**4. Assist Conversion Rate (Assists vs xAG) Highlights Vision and Key Pass Quality:**\n",
    "* Benjamin Šeško leads with 2.38 ratio, his key passes often becoming assists beyond expectation.\n",
    "* Christantus Uche (2.07) and Jude Bellingham (2.05) also show high conversion, indicating quality passes and vision."
   ]
  },
  {
   "cell_type": "markdown",
   "id": "16228315",
   "metadata": {
    "_cell_guid": "afc64d42-8a05-4ab7-9dd2-06a2fd2af93e",
    "_uuid": "bc0174e7-0400-4de2-abfd-1f41f50d7020",
    "collapsed": false,
    "jupyter": {
     "outputs_hidden": false
    },
    "papermill": {
     "duration": 0.02488,
     "end_time": "2025-07-05T04:56:05.462907",
     "exception": false,
     "start_time": "2025-07-05T04:56:05.438027",
     "status": "completed"
    },
    "tags": []
   },
   "source": [
    "## 🕹 Young Players' Contribution: Progressive Passes\n",
    "This section analyzes young players' contributions in making progressive passes (PrgP) and their relationship with Expected Assisted Goals (xAG), showing their ability to advance play and create chances."
   ]
  },
  {
   "cell_type": "code",
   "execution_count": 33,
   "id": "d7c57428",
   "metadata": {
    "_cell_guid": "c2e62764-eb62-4487-ba50-4b771cbd2015",
    "_uuid": "ce6eda57-cfa1-4e89-a81d-ae552cddbe0a",
    "collapsed": false,
    "execution": {
     "iopub.execute_input": "2025-07-05T04:56:05.515008Z",
     "iopub.status.busy": "2025-07-05T04:56:05.514256Z",
     "iopub.status.idle": "2025-07-05T04:56:05.570299Z",
     "shell.execute_reply": "2025-07-05T04:56:05.569403Z"
    },
    "jupyter": {
     "outputs_hidden": false
    },
    "papermill": {
     "duration": 0.083821,
     "end_time": "2025-07-05T04:56:05.571755",
     "exception": false,
     "start_time": "2025-07-05T04:56:05.487934",
     "status": "completed"
    },
    "tags": []
   },
   "outputs": [
    {
     "data": {
      "text/html": [
       "<html>\n",
       "<head><meta charset=\"utf-8\" /></head>\n",
       "<body>\n",
       "    <div>            <script src=\"https://cdnjs.cloudflare.com/ajax/libs/mathjax/2.7.5/MathJax.js?config=TeX-AMS-MML_SVG\"></script><script type=\"text/javascript\">if (window.MathJax && window.MathJax.Hub && window.MathJax.Hub.Config) {window.MathJax.Hub.Config({SVG: {font: \"STIX-Web\"}});}</script>                <script type=\"text/javascript\">window.PlotlyConfig = {MathJaxConfig: 'local'};</script>\n",
       "        <script charset=\"utf-8\" src=\"https://cdn.plot.ly/plotly-2.35.2.min.js\"></script>                <div id=\"18974c51-5536-42dd-8c91-a58ffb82dcc7\" class=\"plotly-graph-div\" style=\"height:525px; width:100%;\"></div>            <script type=\"text/javascript\">                                    window.PLOTLYENV=window.PLOTLYENV || {};                                    if (document.getElementById(\"18974c51-5536-42dd-8c91-a58ffb82dcc7\")) {                    Plotly.newPlot(                        \"18974c51-5536-42dd-8c91-a58ffb82dcc7\",                        [{\"alignmentgroup\":\"True\",\"customdata\":[[\"Barcelona\",21.0,5,7.4],[\"Lyon\",20.0,11,11.1],[\"Real Madrid\",21.0,8,3.9],[\"Leverkusen\",21.0,12,7.0],[\"Como\",19.0,8,6.0],[\"Barcelona\",17.0,13,13.9],[\"Bournemouth\",20.0,5,3.9],[\"Paris S-G\",19.0,8,4.0],[\"Nott'ham Forest\",21.0,6,3.3],[\"Monaco\",20.0,7,4.4]],\"hovertemplate\":\"Player=%{x}\\u003cbr\\u003ePrgP=%{marker.color}\\u003cbr\\u003eSquad=%{customdata[0]}\\u003cbr\\u003eAge=%{customdata[1]}\\u003cbr\\u003eAst=%{customdata[2]}\\u003cbr\\u003exAG=%{customdata[3]}\\u003cextra\\u003e\\u003c\\u002fextra\\u003e\",\"legendgroup\":\"\",\"marker\":{\"color\":[360,206,199,176,163,160,159,144,143,141],\"coloraxis\":\"coloraxis\",\"pattern\":{\"shape\":\"\"}},\"name\":\"\",\"offsetgroup\":\"\",\"orientation\":\"v\",\"showlegend\":false,\"textposition\":\"auto\",\"x\":[\"Pedri\",\"Rayan Cherki\",\"Jude Bellingham\",\"Florian Wirtz\",\"Nicolás Paz\",\"Lamine Yamal\",\"Milos Kerkez\",\"João Neves\",\"Elliot Anderson\",\"Lamine Camara\"],\"xaxis\":\"x\",\"y\":[360,206,199,176,163,160,159,144,143,141],\"yaxis\":\"y\",\"type\":\"bar\"}],                        {\"template\":{\"data\":{\"histogram2dcontour\":[{\"type\":\"histogram2dcontour\",\"colorbar\":{\"outlinewidth\":0,\"ticks\":\"\"},\"colorscale\":[[0.0,\"#0d0887\"],[0.1111111111111111,\"#46039f\"],[0.2222222222222222,\"#7201a8\"],[0.3333333333333333,\"#9c179e\"],[0.4444444444444444,\"#bd3786\"],[0.5555555555555556,\"#d8576b\"],[0.6666666666666666,\"#ed7953\"],[0.7777777777777778,\"#fb9f3a\"],[0.8888888888888888,\"#fdca26\"],[1.0,\"#f0f921\"]]}],\"choropleth\":[{\"type\":\"choropleth\",\"colorbar\":{\"outlinewidth\":0,\"ticks\":\"\"}}],\"histogram2d\":[{\"type\":\"histogram2d\",\"colorbar\":{\"outlinewidth\":0,\"ticks\":\"\"},\"colorscale\":[[0.0,\"#0d0887\"],[0.1111111111111111,\"#46039f\"],[0.2222222222222222,\"#7201a8\"],[0.3333333333333333,\"#9c179e\"],[0.4444444444444444,\"#bd3786\"],[0.5555555555555556,\"#d8576b\"],[0.6666666666666666,\"#ed7953\"],[0.7777777777777778,\"#fb9f3a\"],[0.8888888888888888,\"#fdca26\"],[1.0,\"#f0f921\"]]}],\"heatmap\":[{\"type\":\"heatmap\",\"colorbar\":{\"outlinewidth\":0,\"ticks\":\"\"},\"colorscale\":[[0.0,\"#0d0887\"],[0.1111111111111111,\"#46039f\"],[0.2222222222222222,\"#7201a8\"],[0.3333333333333333,\"#9c179e\"],[0.4444444444444444,\"#bd3786\"],[0.5555555555555556,\"#d8576b\"],[0.6666666666666666,\"#ed7953\"],[0.7777777777777778,\"#fb9f3a\"],[0.8888888888888888,\"#fdca26\"],[1.0,\"#f0f921\"]]}],\"heatmapgl\":[{\"type\":\"heatmapgl\",\"colorbar\":{\"outlinewidth\":0,\"ticks\":\"\"},\"colorscale\":[[0.0,\"#0d0887\"],[0.1111111111111111,\"#46039f\"],[0.2222222222222222,\"#7201a8\"],[0.3333333333333333,\"#9c179e\"],[0.4444444444444444,\"#bd3786\"],[0.5555555555555556,\"#d8576b\"],[0.6666666666666666,\"#ed7953\"],[0.7777777777777778,\"#fb9f3a\"],[0.8888888888888888,\"#fdca26\"],[1.0,\"#f0f921\"]]}],\"contourcarpet\":[{\"type\":\"contourcarpet\",\"colorbar\":{\"outlinewidth\":0,\"ticks\":\"\"}}],\"contour\":[{\"type\":\"contour\",\"colorbar\":{\"outlinewidth\":0,\"ticks\":\"\"},\"colorscale\":[[0.0,\"#0d0887\"],[0.1111111111111111,\"#46039f\"],[0.2222222222222222,\"#7201a8\"],[0.3333333333333333,\"#9c179e\"],[0.4444444444444444,\"#bd3786\"],[0.5555555555555556,\"#d8576b\"],[0.6666666666666666,\"#ed7953\"],[0.7777777777777778,\"#fb9f3a\"],[0.8888888888888888,\"#fdca26\"],[1.0,\"#f0f921\"]]}],\"surface\":[{\"type\":\"surface\",\"colorbar\":{\"outlinewidth\":0,\"ticks\":\"\"},\"colorscale\":[[0.0,\"#0d0887\"],[0.1111111111111111,\"#46039f\"],[0.2222222222222222,\"#7201a8\"],[0.3333333333333333,\"#9c179e\"],[0.4444444444444444,\"#bd3786\"],[0.5555555555555556,\"#d8576b\"],[0.6666666666666666,\"#ed7953\"],[0.7777777777777778,\"#fb9f3a\"],[0.8888888888888888,\"#fdca26\"],[1.0,\"#f0f921\"]]}],\"mesh3d\":[{\"type\":\"mesh3d\",\"colorbar\":{\"outlinewidth\":0,\"ticks\":\"\"}}],\"scatter\":[{\"fillpattern\":{\"fillmode\":\"overlay\",\"size\":10,\"solidity\":0.2},\"type\":\"scatter\"}],\"parcoords\":[{\"type\":\"parcoords\",\"line\":{\"colorbar\":{\"outlinewidth\":0,\"ticks\":\"\"}}}],\"scatterpolargl\":[{\"type\":\"scatterpolargl\",\"marker\":{\"colorbar\":{\"outlinewidth\":0,\"ticks\":\"\"}}}],\"bar\":[{\"error_x\":{\"color\":\"#2a3f5f\"},\"error_y\":{\"color\":\"#2a3f5f\"},\"marker\":{\"line\":{\"color\":\"#E5ECF6\",\"width\":0.5},\"pattern\":{\"fillmode\":\"overlay\",\"size\":10,\"solidity\":0.2}},\"type\":\"bar\"}],\"scattergeo\":[{\"type\":\"scattergeo\",\"marker\":{\"colorbar\":{\"outlinewidth\":0,\"ticks\":\"\"}}}],\"scatterpolar\":[{\"type\":\"scatterpolar\",\"marker\":{\"colorbar\":{\"outlinewidth\":0,\"ticks\":\"\"}}}],\"histogram\":[{\"marker\":{\"pattern\":{\"fillmode\":\"overlay\",\"size\":10,\"solidity\":0.2}},\"type\":\"histogram\"}],\"scattergl\":[{\"type\":\"scattergl\",\"marker\":{\"colorbar\":{\"outlinewidth\":0,\"ticks\":\"\"}}}],\"scatter3d\":[{\"type\":\"scatter3d\",\"line\":{\"colorbar\":{\"outlinewidth\":0,\"ticks\":\"\"}},\"marker\":{\"colorbar\":{\"outlinewidth\":0,\"ticks\":\"\"}}}],\"scattermapbox\":[{\"type\":\"scattermapbox\",\"marker\":{\"colorbar\":{\"outlinewidth\":0,\"ticks\":\"\"}}}],\"scatterternary\":[{\"type\":\"scatterternary\",\"marker\":{\"colorbar\":{\"outlinewidth\":0,\"ticks\":\"\"}}}],\"scattercarpet\":[{\"type\":\"scattercarpet\",\"marker\":{\"colorbar\":{\"outlinewidth\":0,\"ticks\":\"\"}}}],\"carpet\":[{\"aaxis\":{\"endlinecolor\":\"#2a3f5f\",\"gridcolor\":\"white\",\"linecolor\":\"white\",\"minorgridcolor\":\"white\",\"startlinecolor\":\"#2a3f5f\"},\"baxis\":{\"endlinecolor\":\"#2a3f5f\",\"gridcolor\":\"white\",\"linecolor\":\"white\",\"minorgridcolor\":\"white\",\"startlinecolor\":\"#2a3f5f\"},\"type\":\"carpet\"}],\"table\":[{\"cells\":{\"fill\":{\"color\":\"#EBF0F8\"},\"line\":{\"color\":\"white\"}},\"header\":{\"fill\":{\"color\":\"#C8D4E3\"},\"line\":{\"color\":\"white\"}},\"type\":\"table\"}],\"barpolar\":[{\"marker\":{\"line\":{\"color\":\"#E5ECF6\",\"width\":0.5},\"pattern\":{\"fillmode\":\"overlay\",\"size\":10,\"solidity\":0.2}},\"type\":\"barpolar\"}],\"pie\":[{\"automargin\":true,\"type\":\"pie\"}]},\"layout\":{\"autotypenumbers\":\"strict\",\"colorway\":[\"#636efa\",\"#EF553B\",\"#00cc96\",\"#ab63fa\",\"#FFA15A\",\"#19d3f3\",\"#FF6692\",\"#B6E880\",\"#FF97FF\",\"#FECB52\"],\"font\":{\"color\":\"#2a3f5f\"},\"hovermode\":\"closest\",\"hoverlabel\":{\"align\":\"left\"},\"paper_bgcolor\":\"white\",\"plot_bgcolor\":\"#E5ECF6\",\"polar\":{\"bgcolor\":\"#E5ECF6\",\"angularaxis\":{\"gridcolor\":\"white\",\"linecolor\":\"white\",\"ticks\":\"\"},\"radialaxis\":{\"gridcolor\":\"white\",\"linecolor\":\"white\",\"ticks\":\"\"}},\"ternary\":{\"bgcolor\":\"#E5ECF6\",\"aaxis\":{\"gridcolor\":\"white\",\"linecolor\":\"white\",\"ticks\":\"\"},\"baxis\":{\"gridcolor\":\"white\",\"linecolor\":\"white\",\"ticks\":\"\"},\"caxis\":{\"gridcolor\":\"white\",\"linecolor\":\"white\",\"ticks\":\"\"}},\"coloraxis\":{\"colorbar\":{\"outlinewidth\":0,\"ticks\":\"\"}},\"colorscale\":{\"sequential\":[[0.0,\"#0d0887\"],[0.1111111111111111,\"#46039f\"],[0.2222222222222222,\"#7201a8\"],[0.3333333333333333,\"#9c179e\"],[0.4444444444444444,\"#bd3786\"],[0.5555555555555556,\"#d8576b\"],[0.6666666666666666,\"#ed7953\"],[0.7777777777777778,\"#fb9f3a\"],[0.8888888888888888,\"#fdca26\"],[1.0,\"#f0f921\"]],\"sequentialminus\":[[0.0,\"#0d0887\"],[0.1111111111111111,\"#46039f\"],[0.2222222222222222,\"#7201a8\"],[0.3333333333333333,\"#9c179e\"],[0.4444444444444444,\"#bd3786\"],[0.5555555555555556,\"#d8576b\"],[0.6666666666666666,\"#ed7953\"],[0.7777777777777778,\"#fb9f3a\"],[0.8888888888888888,\"#fdca26\"],[1.0,\"#f0f921\"]],\"diverging\":[[0,\"#8e0152\"],[0.1,\"#c51b7d\"],[0.2,\"#de77ae\"],[0.3,\"#f1b6da\"],[0.4,\"#fde0ef\"],[0.5,\"#f7f7f7\"],[0.6,\"#e6f5d0\"],[0.7,\"#b8e186\"],[0.8,\"#7fbc41\"],[0.9,\"#4d9221\"],[1,\"#276419\"]]},\"xaxis\":{\"gridcolor\":\"white\",\"linecolor\":\"white\",\"ticks\":\"\",\"title\":{\"standoff\":15},\"zerolinecolor\":\"white\",\"automargin\":true,\"zerolinewidth\":2},\"yaxis\":{\"gridcolor\":\"white\",\"linecolor\":\"white\",\"ticks\":\"\",\"title\":{\"standoff\":15},\"zerolinecolor\":\"white\",\"automargin\":true,\"zerolinewidth\":2},\"scene\":{\"xaxis\":{\"backgroundcolor\":\"#E5ECF6\",\"gridcolor\":\"white\",\"linecolor\":\"white\",\"showbackground\":true,\"ticks\":\"\",\"zerolinecolor\":\"white\",\"gridwidth\":2},\"yaxis\":{\"backgroundcolor\":\"#E5ECF6\",\"gridcolor\":\"white\",\"linecolor\":\"white\",\"showbackground\":true,\"ticks\":\"\",\"zerolinecolor\":\"white\",\"gridwidth\":2},\"zaxis\":{\"backgroundcolor\":\"#E5ECF6\",\"gridcolor\":\"white\",\"linecolor\":\"white\",\"showbackground\":true,\"ticks\":\"\",\"zerolinecolor\":\"white\",\"gridwidth\":2}},\"shapedefaults\":{\"line\":{\"color\":\"#2a3f5f\"}},\"annotationdefaults\":{\"arrowcolor\":\"#2a3f5f\",\"arrowhead\":0,\"arrowwidth\":1},\"geo\":{\"bgcolor\":\"white\",\"landcolor\":\"#E5ECF6\",\"subunitcolor\":\"white\",\"showland\":true,\"showlakes\":true,\"lakecolor\":\"white\"},\"title\":{\"x\":0.05},\"mapbox\":{\"style\":\"light\"}}},\"xaxis\":{\"anchor\":\"y\",\"domain\":[0.0,1.0],\"title\":{\"text\":\"Player\"}},\"yaxis\":{\"anchor\":\"x\",\"domain\":[0.0,1.0],\"title\":{\"text\":\"PrgP\"}},\"coloraxis\":{\"colorbar\":{\"title\":{\"text\":\"PrgP\"}},\"colorscale\":[[0.0,\"rgb(0, 155, 158)\"],[0.16666666666666666,\"rgb(66, 183, 185)\"],[0.3333333333333333,\"rgb(167, 211, 212)\"],[0.5,\"rgb(241, 241, 241)\"],[0.6666666666666666,\"rgb(228, 193, 217)\"],[0.8333333333333334,\"rgb(214, 145, 193)\"],[1.0,\"rgb(199, 93, 171)\"]]},\"legend\":{\"tracegroupgap\":0},\"title\":{\"text\":\"Top 10 Young Players by Progressive Passes (PrgP)\",\"x\":0.5},\"barmode\":\"relative\"},                        {\"responsive\": true}                    ).then(function(){\n",
       "                            \n",
       "var gd = document.getElementById('18974c51-5536-42dd-8c91-a58ffb82dcc7');\n",
       "var x = new MutationObserver(function (mutations, observer) {{\n",
       "        var display = window.getComputedStyle(gd).display;\n",
       "        if (!display || display === 'none') {{\n",
       "            console.log([gd, 'removed!']);\n",
       "            Plotly.purge(gd);\n",
       "            observer.disconnect();\n",
       "        }}\n",
       "}});\n",
       "\n",
       "// Listen for the removal of the full notebook cells\n",
       "var notebookContainer = gd.closest('#notebook-container');\n",
       "if (notebookContainer) {{\n",
       "    x.observe(notebookContainer, {childList: true});\n",
       "}}\n",
       "\n",
       "// Listen for the clearing of the current output cell\n",
       "var outputEl = gd.closest('.output');\n",
       "if (outputEl) {{\n",
       "    x.observe(outputEl, {childList: true});\n",
       "}}\n",
       "\n",
       "                        })                };                            </script>        </div>\n",
       "</body>\n",
       "</html>"
      ]
     },
     "metadata": {},
     "output_type": "display_data"
    }
   ],
   "source": [
    "# 1. Filter young players and take top 10 by progressive passes (PrgP).\n",
    "top_passes_progressive = young_players[['Player', 'Squad', 'Comp', 'Age','PrgP', 'xAG', 'Ast']].sort_values('PrgP', ascending=False).head(10).reset_index()\n",
    "\n",
    "# Create bar chart for top 10 young players by progressive passes.\n",
    "px.bar(\n",
    "    top_passes_progressive,\n",
    "    x='Player',\n",
    "    y='PrgP',\n",
    "    hover_data=['Squad', 'Age', 'Ast', 'PrgP', 'xAG'],\n",
    "    title='Top 10 Young Players by Progressive Passes (PrgP)',\n",
    "    color='PrgP',\n",
    "    color_continuous_scale='tropic'\n",
    ").update_layout(title_x=0.5).show()"
   ]
  },
  {
   "cell_type": "code",
   "execution_count": 34,
   "id": "270085c5",
   "metadata": {
    "_cell_guid": "7c32c928-d0bf-4395-aceb-3dfb5c428d48",
    "_uuid": "9fefdf37-6e37-4d4e-9b23-0dfed36865e3",
    "collapsed": false,
    "execution": {
     "iopub.execute_input": "2025-07-05T04:56:05.621404Z",
     "iopub.status.busy": "2025-07-05T04:56:05.620590Z",
     "iopub.status.idle": "2025-07-05T04:56:05.676525Z",
     "shell.execute_reply": "2025-07-05T04:56:05.675413Z"
    },
    "jupyter": {
     "outputs_hidden": false
    },
    "papermill": {
     "duration": 0.082883,
     "end_time": "2025-07-05T04:56:05.678295",
     "exception": false,
     "start_time": "2025-07-05T04:56:05.595412",
     "status": "completed"
    },
    "tags": []
   },
   "outputs": [
    {
     "data": {
      "text/html": [
       "<html>\n",
       "<head><meta charset=\"utf-8\" /></head>\n",
       "<body>\n",
       "    <div>            <script src=\"https://cdnjs.cloudflare.com/ajax/libs/mathjax/2.7.5/MathJax.js?config=TeX-AMS-MML_SVG\"></script><script type=\"text/javascript\">if (window.MathJax && window.MathJax.Hub && window.MathJax.Hub.Config) {window.MathJax.Hub.Config({SVG: {font: \"STIX-Web\"}});}</script>                <script type=\"text/javascript\">window.PlotlyConfig = {MathJaxConfig: 'local'};</script>\n",
       "        <script charset=\"utf-8\" src=\"https://cdn.plot.ly/plotly-2.35.2.min.js\"></script>                <div id=\"47df1d8c-7a8d-49a9-8e7e-95651d9812c2\" class=\"plotly-graph-div\" style=\"height:525px; width:100%;\"></div>            <script type=\"text/javascript\">                                    window.PLOTLYENV=window.PLOTLYENV || {};                                    if (document.getElementById(\"47df1d8c-7a8d-49a9-8e7e-95651d9812c2\")) {                    Plotly.newPlot(                        \"47df1d8c-7a8d-49a9-8e7e-95651d9812c2\",                        [{\"alignmentgroup\":\"True\",\"customdata\":[[\"Barcelona\",21.0,5,360,7.4],[\"Lyon\",20.0,11,206,11.1],[\"Real Madrid\",21.0,8,199,3.9],[\"Leverkusen\",21.0,12,176,7.0],[\"Barcelona\",17.0,13,160,13.9],[\"Como\",19.0,8,163,6.0],[\"Bournemouth\",20.0,5,159,3.9],[\"Paris S-G\",19.0,8,144,4.0],[\"Paris S-G\",19.0,6,139,7.8],[\"RB Leipzig\",21.0,6,140,6.3]],\"hovertemplate\":\"Player=%{x}\\u003cbr\\u003ePrgP_xAG=%{marker.color}\\u003cbr\\u003eSquad=%{customdata[0]}\\u003cbr\\u003eAge=%{customdata[1]}\\u003cbr\\u003eAst=%{customdata[2]}\\u003cbr\\u003ePrgP=%{customdata[3]}\\u003cbr\\u003exAG=%{customdata[4]}\\u003cextra\\u003e\\u003c\\u002fextra\\u003e\",\"legendgroup\":\"\",\"marker\":{\"color\":[367.4,217.1,202.9,183.0,173.9,169.0,162.9,148.0,146.8,146.3],\"coloraxis\":\"coloraxis\",\"pattern\":{\"shape\":\"\"}},\"name\":\"\",\"offsetgroup\":\"\",\"orientation\":\"v\",\"showlegend\":false,\"textposition\":\"auto\",\"x\":[\"Pedri\",\"Rayan Cherki\",\"Jude Bellingham\",\"Florian Wirtz\",\"Lamine Yamal\",\"Nicolás Paz\",\"Milos Kerkez\",\"João Neves\",\"Désiré Doué\",\"Xavi Simons\"],\"xaxis\":\"x\",\"y\":[367.4,217.1,202.9,183.0,173.9,169.0,162.9,148.0,146.8,146.3],\"yaxis\":\"y\",\"type\":\"bar\"}],                        {\"template\":{\"data\":{\"histogram2dcontour\":[{\"type\":\"histogram2dcontour\",\"colorbar\":{\"outlinewidth\":0,\"ticks\":\"\"},\"colorscale\":[[0.0,\"#0d0887\"],[0.1111111111111111,\"#46039f\"],[0.2222222222222222,\"#7201a8\"],[0.3333333333333333,\"#9c179e\"],[0.4444444444444444,\"#bd3786\"],[0.5555555555555556,\"#d8576b\"],[0.6666666666666666,\"#ed7953\"],[0.7777777777777778,\"#fb9f3a\"],[0.8888888888888888,\"#fdca26\"],[1.0,\"#f0f921\"]]}],\"choropleth\":[{\"type\":\"choropleth\",\"colorbar\":{\"outlinewidth\":0,\"ticks\":\"\"}}],\"histogram2d\":[{\"type\":\"histogram2d\",\"colorbar\":{\"outlinewidth\":0,\"ticks\":\"\"},\"colorscale\":[[0.0,\"#0d0887\"],[0.1111111111111111,\"#46039f\"],[0.2222222222222222,\"#7201a8\"],[0.3333333333333333,\"#9c179e\"],[0.4444444444444444,\"#bd3786\"],[0.5555555555555556,\"#d8576b\"],[0.6666666666666666,\"#ed7953\"],[0.7777777777777778,\"#fb9f3a\"],[0.8888888888888888,\"#fdca26\"],[1.0,\"#f0f921\"]]}],\"heatmap\":[{\"type\":\"heatmap\",\"colorbar\":{\"outlinewidth\":0,\"ticks\":\"\"},\"colorscale\":[[0.0,\"#0d0887\"],[0.1111111111111111,\"#46039f\"],[0.2222222222222222,\"#7201a8\"],[0.3333333333333333,\"#9c179e\"],[0.4444444444444444,\"#bd3786\"],[0.5555555555555556,\"#d8576b\"],[0.6666666666666666,\"#ed7953\"],[0.7777777777777778,\"#fb9f3a\"],[0.8888888888888888,\"#fdca26\"],[1.0,\"#f0f921\"]]}],\"heatmapgl\":[{\"type\":\"heatmapgl\",\"colorbar\":{\"outlinewidth\":0,\"ticks\":\"\"},\"colorscale\":[[0.0,\"#0d0887\"],[0.1111111111111111,\"#46039f\"],[0.2222222222222222,\"#7201a8\"],[0.3333333333333333,\"#9c179e\"],[0.4444444444444444,\"#bd3786\"],[0.5555555555555556,\"#d8576b\"],[0.6666666666666666,\"#ed7953\"],[0.7777777777777778,\"#fb9f3a\"],[0.8888888888888888,\"#fdca26\"],[1.0,\"#f0f921\"]]}],\"contourcarpet\":[{\"type\":\"contourcarpet\",\"colorbar\":{\"outlinewidth\":0,\"ticks\":\"\"}}],\"contour\":[{\"type\":\"contour\",\"colorbar\":{\"outlinewidth\":0,\"ticks\":\"\"},\"colorscale\":[[0.0,\"#0d0887\"],[0.1111111111111111,\"#46039f\"],[0.2222222222222222,\"#7201a8\"],[0.3333333333333333,\"#9c179e\"],[0.4444444444444444,\"#bd3786\"],[0.5555555555555556,\"#d8576b\"],[0.6666666666666666,\"#ed7953\"],[0.7777777777777778,\"#fb9f3a\"],[0.8888888888888888,\"#fdca26\"],[1.0,\"#f0f921\"]]}],\"surface\":[{\"type\":\"surface\",\"colorbar\":{\"outlinewidth\":0,\"ticks\":\"\"},\"colorscale\":[[0.0,\"#0d0887\"],[0.1111111111111111,\"#46039f\"],[0.2222222222222222,\"#7201a8\"],[0.3333333333333333,\"#9c179e\"],[0.4444444444444444,\"#bd3786\"],[0.5555555555555556,\"#d8576b\"],[0.6666666666666666,\"#ed7953\"],[0.7777777777777778,\"#fb9f3a\"],[0.8888888888888888,\"#fdca26\"],[1.0,\"#f0f921\"]]}],\"mesh3d\":[{\"type\":\"mesh3d\",\"colorbar\":{\"outlinewidth\":0,\"ticks\":\"\"}}],\"scatter\":[{\"fillpattern\":{\"fillmode\":\"overlay\",\"size\":10,\"solidity\":0.2},\"type\":\"scatter\"}],\"parcoords\":[{\"type\":\"parcoords\",\"line\":{\"colorbar\":{\"outlinewidth\":0,\"ticks\":\"\"}}}],\"scatterpolargl\":[{\"type\":\"scatterpolargl\",\"marker\":{\"colorbar\":{\"outlinewidth\":0,\"ticks\":\"\"}}}],\"bar\":[{\"error_x\":{\"color\":\"#2a3f5f\"},\"error_y\":{\"color\":\"#2a3f5f\"},\"marker\":{\"line\":{\"color\":\"#E5ECF6\",\"width\":0.5},\"pattern\":{\"fillmode\":\"overlay\",\"size\":10,\"solidity\":0.2}},\"type\":\"bar\"}],\"scattergeo\":[{\"type\":\"scattergeo\",\"marker\":{\"colorbar\":{\"outlinewidth\":0,\"ticks\":\"\"}}}],\"scatterpolar\":[{\"type\":\"scatterpolar\",\"marker\":{\"colorbar\":{\"outlinewidth\":0,\"ticks\":\"\"}}}],\"histogram\":[{\"marker\":{\"pattern\":{\"fillmode\":\"overlay\",\"size\":10,\"solidity\":0.2}},\"type\":\"histogram\"}],\"scattergl\":[{\"type\":\"scattergl\",\"marker\":{\"colorbar\":{\"outlinewidth\":0,\"ticks\":\"\"}}}],\"scatter3d\":[{\"type\":\"scatter3d\",\"line\":{\"colorbar\":{\"outlinewidth\":0,\"ticks\":\"\"}},\"marker\":{\"colorbar\":{\"outlinewidth\":0,\"ticks\":\"\"}}}],\"scattermapbox\":[{\"type\":\"scattermapbox\",\"marker\":{\"colorbar\":{\"outlinewidth\":0,\"ticks\":\"\"}}}],\"scatterternary\":[{\"type\":\"scatterternary\",\"marker\":{\"colorbar\":{\"outlinewidth\":0,\"ticks\":\"\"}}}],\"scattercarpet\":[{\"type\":\"scattercarpet\",\"marker\":{\"colorbar\":{\"outlinewidth\":0,\"ticks\":\"\"}}}],\"carpet\":[{\"aaxis\":{\"endlinecolor\":\"#2a3f5f\",\"gridcolor\":\"white\",\"linecolor\":\"white\",\"minorgridcolor\":\"white\",\"startlinecolor\":\"#2a3f5f\"},\"baxis\":{\"endlinecolor\":\"#2a3f5f\",\"gridcolor\":\"white\",\"linecolor\":\"white\",\"minorgridcolor\":\"white\",\"startlinecolor\":\"#2a3f5f\"},\"type\":\"carpet\"}],\"table\":[{\"cells\":{\"fill\":{\"color\":\"#EBF0F8\"},\"line\":{\"color\":\"white\"}},\"header\":{\"fill\":{\"color\":\"#C8D4E3\"},\"line\":{\"color\":\"white\"}},\"type\":\"table\"}],\"barpolar\":[{\"marker\":{\"line\":{\"color\":\"#E5ECF6\",\"width\":0.5},\"pattern\":{\"fillmode\":\"overlay\",\"size\":10,\"solidity\":0.2}},\"type\":\"barpolar\"}],\"pie\":[{\"automargin\":true,\"type\":\"pie\"}]},\"layout\":{\"autotypenumbers\":\"strict\",\"colorway\":[\"#636efa\",\"#EF553B\",\"#00cc96\",\"#ab63fa\",\"#FFA15A\",\"#19d3f3\",\"#FF6692\",\"#B6E880\",\"#FF97FF\",\"#FECB52\"],\"font\":{\"color\":\"#2a3f5f\"},\"hovermode\":\"closest\",\"hoverlabel\":{\"align\":\"left\"},\"paper_bgcolor\":\"white\",\"plot_bgcolor\":\"#E5ECF6\",\"polar\":{\"bgcolor\":\"#E5ECF6\",\"angularaxis\":{\"gridcolor\":\"white\",\"linecolor\":\"white\",\"ticks\":\"\"},\"radialaxis\":{\"gridcolor\":\"white\",\"linecolor\":\"white\",\"ticks\":\"\"}},\"ternary\":{\"bgcolor\":\"#E5ECF6\",\"aaxis\":{\"gridcolor\":\"white\",\"linecolor\":\"white\",\"ticks\":\"\"},\"baxis\":{\"gridcolor\":\"white\",\"linecolor\":\"white\",\"ticks\":\"\"},\"caxis\":{\"gridcolor\":\"white\",\"linecolor\":\"white\",\"ticks\":\"\"}},\"coloraxis\":{\"colorbar\":{\"outlinewidth\":0,\"ticks\":\"\"}},\"colorscale\":{\"sequential\":[[0.0,\"#0d0887\"],[0.1111111111111111,\"#46039f\"],[0.2222222222222222,\"#7201a8\"],[0.3333333333333333,\"#9c179e\"],[0.4444444444444444,\"#bd3786\"],[0.5555555555555556,\"#d8576b\"],[0.6666666666666666,\"#ed7953\"],[0.7777777777777778,\"#fb9f3a\"],[0.8888888888888888,\"#fdca26\"],[1.0,\"#f0f921\"]],\"sequentialminus\":[[0.0,\"#0d0887\"],[0.1111111111111111,\"#46039f\"],[0.2222222222222222,\"#7201a8\"],[0.3333333333333333,\"#9c179e\"],[0.4444444444444444,\"#bd3786\"],[0.5555555555555556,\"#d8576b\"],[0.6666666666666666,\"#ed7953\"],[0.7777777777777778,\"#fb9f3a\"],[0.8888888888888888,\"#fdca26\"],[1.0,\"#f0f921\"]],\"diverging\":[[0,\"#8e0152\"],[0.1,\"#c51b7d\"],[0.2,\"#de77ae\"],[0.3,\"#f1b6da\"],[0.4,\"#fde0ef\"],[0.5,\"#f7f7f7\"],[0.6,\"#e6f5d0\"],[0.7,\"#b8e186\"],[0.8,\"#7fbc41\"],[0.9,\"#4d9221\"],[1,\"#276419\"]]},\"xaxis\":{\"gridcolor\":\"white\",\"linecolor\":\"white\",\"ticks\":\"\",\"title\":{\"standoff\":15},\"zerolinecolor\":\"white\",\"automargin\":true,\"zerolinewidth\":2},\"yaxis\":{\"gridcolor\":\"white\",\"linecolor\":\"white\",\"ticks\":\"\",\"title\":{\"standoff\":15},\"zerolinecolor\":\"white\",\"automargin\":true,\"zerolinewidth\":2},\"scene\":{\"xaxis\":{\"backgroundcolor\":\"#E5ECF6\",\"gridcolor\":\"white\",\"linecolor\":\"white\",\"showbackground\":true,\"ticks\":\"\",\"zerolinecolor\":\"white\",\"gridwidth\":2},\"yaxis\":{\"backgroundcolor\":\"#E5ECF6\",\"gridcolor\":\"white\",\"linecolor\":\"white\",\"showbackground\":true,\"ticks\":\"\",\"zerolinecolor\":\"white\",\"gridwidth\":2},\"zaxis\":{\"backgroundcolor\":\"#E5ECF6\",\"gridcolor\":\"white\",\"linecolor\":\"white\",\"showbackground\":true,\"ticks\":\"\",\"zerolinecolor\":\"white\",\"gridwidth\":2}},\"shapedefaults\":{\"line\":{\"color\":\"#2a3f5f\"}},\"annotationdefaults\":{\"arrowcolor\":\"#2a3f5f\",\"arrowhead\":0,\"arrowwidth\":1},\"geo\":{\"bgcolor\":\"white\",\"landcolor\":\"#E5ECF6\",\"subunitcolor\":\"white\",\"showland\":true,\"showlakes\":true,\"lakecolor\":\"white\"},\"title\":{\"x\":0.05},\"mapbox\":{\"style\":\"light\"}}},\"xaxis\":{\"anchor\":\"y\",\"domain\":[0.0,1.0],\"title\":{\"text\":\"Player\"}},\"yaxis\":{\"anchor\":\"x\",\"domain\":[0.0,1.0],\"title\":{\"text\":\"PrgP_xAG\"}},\"coloraxis\":{\"colorbar\":{\"title\":{\"text\":\"PrgP_xAG\"}},\"colorscale\":[[0.0,\"#0d0887\"],[0.1111111111111111,\"#46039f\"],[0.2222222222222222,\"#7201a8\"],[0.3333333333333333,\"#9c179e\"],[0.4444444444444444,\"#bd3786\"],[0.5555555555555556,\"#d8576b\"],[0.6666666666666666,\"#ed7953\"],[0.7777777777777778,\"#fb9f3a\"],[0.8888888888888888,\"#fdca26\"],[1.0,\"#f0f921\"]]},\"legend\":{\"tracegroupgap\":0},\"title\":{\"text\":\"Top 10 Young Players (Progressive Passes + xAG)\",\"x\":0.5},\"barmode\":\"relative\"},                        {\"responsive\": true}                    ).then(function(){\n",
       "                            \n",
       "var gd = document.getElementById('47df1d8c-7a8d-49a9-8e7e-95651d9812c2');\n",
       "var x = new MutationObserver(function (mutations, observer) {{\n",
       "        var display = window.getComputedStyle(gd).display;\n",
       "        if (!display || display === 'none') {{\n",
       "            console.log([gd, 'removed!']);\n",
       "            Plotly.purge(gd);\n",
       "            observer.disconnect();\n",
       "        }}\n",
       "}});\n",
       "\n",
       "// Listen for the removal of the full notebook cells\n",
       "var notebookContainer = gd.closest('#notebook-container');\n",
       "if (notebookContainer) {{\n",
       "    x.observe(notebookContainer, {childList: true});\n",
       "}}\n",
       "\n",
       "// Listen for the clearing of the current output cell\n",
       "var outputEl = gd.closest('.output');\n",
       "if (outputEl) {{\n",
       "    x.observe(outputEl, {childList: true});\n",
       "}}\n",
       "\n",
       "                        })                };                            </script>        </div>\n",
       "</body>\n",
       "</html>"
      ]
     },
     "metadata": {},
     "output_type": "display_data"
    }
   ],
   "source": [
    "# Calculate total progressive passes and Expected Assisted Goals (PrgP_xAG).\n",
    "young_players['PrgP_xAG'] = young_players['PrgP'] + young_players['xAG']\n",
    "top_progressors = young_players.sort_values('PrgP_xAG', ascending=False).head(10)\n",
    "\n",
    "# Create bar chart for top 10 young players by PrgP + xAG.\n",
    "px.bar(\n",
    "    top_progressors,\n",
    "    x='Player',\n",
    "    y='PrgP_xAG',\n",
    "    hover_data=['Squad', 'Age', 'Ast', 'PrgP', 'xAG'],\n",
    "    title='Top 10 Young Players (Progressive Passes + xAG)',\n",
    "    color='PrgP_xAG',\n",
    "    color_continuous_scale='Plasma'\n",
    ").update_layout(title_x=0.5).show()"
   ]
  },
  {
   "cell_type": "code",
   "execution_count": 35,
   "id": "cddcbd5a",
   "metadata": {
    "_cell_guid": "25316612-4241-4350-8354-6b8c89d2380d",
    "_uuid": "65f1155b-6229-42dc-9460-362cb22d2a5c",
    "collapsed": false,
    "execution": {
     "iopub.execute_input": "2025-07-05T04:56:05.728841Z",
     "iopub.status.busy": "2025-07-05T04:56:05.728477Z",
     "iopub.status.idle": "2025-07-05T04:56:05.830841Z",
     "shell.execute_reply": "2025-07-05T04:56:05.829783Z"
    },
    "jupyter": {
     "outputs_hidden": false
    },
    "papermill": {
     "duration": 0.1294,
     "end_time": "2025-07-05T04:56:05.832680",
     "exception": false,
     "start_time": "2025-07-05T04:56:05.703280",
     "status": "completed"
    },
    "tags": []
   },
   "outputs": [
    {
     "data": {
      "text/html": [
       "<html>\n",
       "<head><meta charset=\"utf-8\" /></head>\n",
       "<body>\n",
       "    <div>            <script src=\"https://cdnjs.cloudflare.com/ajax/libs/mathjax/2.7.5/MathJax.js?config=TeX-AMS-MML_SVG\"></script><script type=\"text/javascript\">if (window.MathJax && window.MathJax.Hub && window.MathJax.Hub.Config) {window.MathJax.Hub.Config({SVG: {font: \"STIX-Web\"}});}</script>                <script type=\"text/javascript\">window.PlotlyConfig = {MathJaxConfig: 'local'};</script>\n",
       "        <script charset=\"utf-8\" src=\"https://cdn.plot.ly/plotly-2.35.2.min.js\"></script>                <div id=\"3725b487-aecb-4c78-bba7-eb5e5c490304\" class=\"plotly-graph-div\" style=\"height:525px; width:100%;\"></div>            <script type=\"text/javascript\">                                    window.PLOTLYENV=window.PLOTLYENV || {};                                    if (document.getElementById(\"3725b487-aecb-4c78-bba7-eb5e5c490304\")) {                    Plotly.newPlot(                        \"3725b487-aecb-4c78-bba7-eb5e5c490304\",                        [{\"customdata\":[[\"Elliot Anderson\",\"Nott'ham Forest\",21.0],[\"Dilane Bakwa\",\"Strasbourg\",21.0],[\"Bradley Barcola\",\"Paris S-G\",21.0],[\"Maximilian Beier\",\"Dortmund\",21.0],[\"Jude Bellingham\",\"Real Madrid\",21.0],[\"Nathaniel Brown\",\"Eint Frankfurt\",21.0],[\"Lamine Camara\",\"Monaco\",20.0],[\"Rayan Cherki\",\"Lyon\",20.0],[\"Habib Diarra\",\"Strasbourg\",20.0],[\"Désiré Doué\",\"Paris S-G\",19.0],[\"Milos Kerkez\",\"Bournemouth\",20.0],[\"Fermin López\",\"Barcelona\",21.0],[\"Diego Moreira\",\"Strasbourg\",19.0],[\"Raúl Moro\",\"Valladolid\",21.0],[\"João Neves\",\"Paris S-G\",19.0],[\"Nicolás Paz\",\"Como\",19.0],[\"Pedri\",\"Barcelona\",21.0],[\"Yeremi Pino\",\"Villarreal\",21.0],[\"Sávio\",\"Manchester City\",20.0],[\"Benjamin Šeško\",\"RB Leipzig\",21.0],[\"Giuliano Simeone\",\"Atlético Madrid\",21.0],[\"Xavi Simons\",\"RB Leipzig\",21.0],[\"Matìas Soulé\",\"Roma\",21.0],[\"Williot Swedberg\",\"Celta Vigo\",20.0],[\"Christantus Uche\",\"Getafe\",21.0],[\"Florian Wirtz\",\"Leverkusen\",21.0],[\"Lamine Yamal\",\"Barcelona\",17.0]],\"hovertemplate\":\"PrgP=%{x}\\u003cbr\\u003exAG=%{y}\\u003cbr\\u003eAst=%{marker.color}\\u003cbr\\u003ePlayer=%{customdata[0]}\\u003cbr\\u003eSquad=%{customdata[1]}\\u003cbr\\u003eAge=%{customdata[2]}\\u003cextra\\u003e\\u003c\\u002fextra\\u003e\",\"legendgroup\":\"\",\"marker\":{\"color\":[6,8,10,5,8,6,7,11,5,6,5,5,7,5,8,8,5,7,8,5,6,6,5,5,6,12,13],\"coloraxis\":\"coloraxis\",\"size\":[6,8,10,5,8,6,7,11,5,6,5,5,7,5,8,8,5,7,8,5,6,6,5,5,6,12,13],\"sizemode\":\"area\",\"sizeref\":0.0325,\"symbol\":\"circle\"},\"mode\":\"markers\",\"name\":\"\",\"orientation\":\"v\",\"showlegend\":false,\"x\":[143,129,96,33,199,63,141,206,116,139,159,79,87,81,144,163,360,66,67,46,49,140,89,28,49,176,160],\"xaxis\":\"x\",\"y\":[3.3,6.6,10.1,3.3,3.9,5.1,4.4,11.1,4.5,7.8,3.9,3.9,7.3,5.7,4.0,6.0,7.4,5.3,6.9,2.1,5.2,6.3,5.2,2.6,2.9,7.0,13.9],\"yaxis\":\"y\",\"type\":\"scatter\"}],                        {\"template\":{\"data\":{\"histogram2dcontour\":[{\"type\":\"histogram2dcontour\",\"colorbar\":{\"outlinewidth\":0,\"ticks\":\"\"},\"colorscale\":[[0.0,\"#0d0887\"],[0.1111111111111111,\"#46039f\"],[0.2222222222222222,\"#7201a8\"],[0.3333333333333333,\"#9c179e\"],[0.4444444444444444,\"#bd3786\"],[0.5555555555555556,\"#d8576b\"],[0.6666666666666666,\"#ed7953\"],[0.7777777777777778,\"#fb9f3a\"],[0.8888888888888888,\"#fdca26\"],[1.0,\"#f0f921\"]]}],\"choropleth\":[{\"type\":\"choropleth\",\"colorbar\":{\"outlinewidth\":0,\"ticks\":\"\"}}],\"histogram2d\":[{\"type\":\"histogram2d\",\"colorbar\":{\"outlinewidth\":0,\"ticks\":\"\"},\"colorscale\":[[0.0,\"#0d0887\"],[0.1111111111111111,\"#46039f\"],[0.2222222222222222,\"#7201a8\"],[0.3333333333333333,\"#9c179e\"],[0.4444444444444444,\"#bd3786\"],[0.5555555555555556,\"#d8576b\"],[0.6666666666666666,\"#ed7953\"],[0.7777777777777778,\"#fb9f3a\"],[0.8888888888888888,\"#fdca26\"],[1.0,\"#f0f921\"]]}],\"heatmap\":[{\"type\":\"heatmap\",\"colorbar\":{\"outlinewidth\":0,\"ticks\":\"\"},\"colorscale\":[[0.0,\"#0d0887\"],[0.1111111111111111,\"#46039f\"],[0.2222222222222222,\"#7201a8\"],[0.3333333333333333,\"#9c179e\"],[0.4444444444444444,\"#bd3786\"],[0.5555555555555556,\"#d8576b\"],[0.6666666666666666,\"#ed7953\"],[0.7777777777777778,\"#fb9f3a\"],[0.8888888888888888,\"#fdca26\"],[1.0,\"#f0f921\"]]}],\"heatmapgl\":[{\"type\":\"heatmapgl\",\"colorbar\":{\"outlinewidth\":0,\"ticks\":\"\"},\"colorscale\":[[0.0,\"#0d0887\"],[0.1111111111111111,\"#46039f\"],[0.2222222222222222,\"#7201a8\"],[0.3333333333333333,\"#9c179e\"],[0.4444444444444444,\"#bd3786\"],[0.5555555555555556,\"#d8576b\"],[0.6666666666666666,\"#ed7953\"],[0.7777777777777778,\"#fb9f3a\"],[0.8888888888888888,\"#fdca26\"],[1.0,\"#f0f921\"]]}],\"contourcarpet\":[{\"type\":\"contourcarpet\",\"colorbar\":{\"outlinewidth\":0,\"ticks\":\"\"}}],\"contour\":[{\"type\":\"contour\",\"colorbar\":{\"outlinewidth\":0,\"ticks\":\"\"},\"colorscale\":[[0.0,\"#0d0887\"],[0.1111111111111111,\"#46039f\"],[0.2222222222222222,\"#7201a8\"],[0.3333333333333333,\"#9c179e\"],[0.4444444444444444,\"#bd3786\"],[0.5555555555555556,\"#d8576b\"],[0.6666666666666666,\"#ed7953\"],[0.7777777777777778,\"#fb9f3a\"],[0.8888888888888888,\"#fdca26\"],[1.0,\"#f0f921\"]]}],\"surface\":[{\"type\":\"surface\",\"colorbar\":{\"outlinewidth\":0,\"ticks\":\"\"},\"colorscale\":[[0.0,\"#0d0887\"],[0.1111111111111111,\"#46039f\"],[0.2222222222222222,\"#7201a8\"],[0.3333333333333333,\"#9c179e\"],[0.4444444444444444,\"#bd3786\"],[0.5555555555555556,\"#d8576b\"],[0.6666666666666666,\"#ed7953\"],[0.7777777777777778,\"#fb9f3a\"],[0.8888888888888888,\"#fdca26\"],[1.0,\"#f0f921\"]]}],\"mesh3d\":[{\"type\":\"mesh3d\",\"colorbar\":{\"outlinewidth\":0,\"ticks\":\"\"}}],\"scatter\":[{\"fillpattern\":{\"fillmode\":\"overlay\",\"size\":10,\"solidity\":0.2},\"type\":\"scatter\"}],\"parcoords\":[{\"type\":\"parcoords\",\"line\":{\"colorbar\":{\"outlinewidth\":0,\"ticks\":\"\"}}}],\"scatterpolargl\":[{\"type\":\"scatterpolargl\",\"marker\":{\"colorbar\":{\"outlinewidth\":0,\"ticks\":\"\"}}}],\"bar\":[{\"error_x\":{\"color\":\"#2a3f5f\"},\"error_y\":{\"color\":\"#2a3f5f\"},\"marker\":{\"line\":{\"color\":\"#E5ECF6\",\"width\":0.5},\"pattern\":{\"fillmode\":\"overlay\",\"size\":10,\"solidity\":0.2}},\"type\":\"bar\"}],\"scattergeo\":[{\"type\":\"scattergeo\",\"marker\":{\"colorbar\":{\"outlinewidth\":0,\"ticks\":\"\"}}}],\"scatterpolar\":[{\"type\":\"scatterpolar\",\"marker\":{\"colorbar\":{\"outlinewidth\":0,\"ticks\":\"\"}}}],\"histogram\":[{\"marker\":{\"pattern\":{\"fillmode\":\"overlay\",\"size\":10,\"solidity\":0.2}},\"type\":\"histogram\"}],\"scattergl\":[{\"type\":\"scattergl\",\"marker\":{\"colorbar\":{\"outlinewidth\":0,\"ticks\":\"\"}}}],\"scatter3d\":[{\"type\":\"scatter3d\",\"line\":{\"colorbar\":{\"outlinewidth\":0,\"ticks\":\"\"}},\"marker\":{\"colorbar\":{\"outlinewidth\":0,\"ticks\":\"\"}}}],\"scattermapbox\":[{\"type\":\"scattermapbox\",\"marker\":{\"colorbar\":{\"outlinewidth\":0,\"ticks\":\"\"}}}],\"scatterternary\":[{\"type\":\"scatterternary\",\"marker\":{\"colorbar\":{\"outlinewidth\":0,\"ticks\":\"\"}}}],\"scattercarpet\":[{\"type\":\"scattercarpet\",\"marker\":{\"colorbar\":{\"outlinewidth\":0,\"ticks\":\"\"}}}],\"carpet\":[{\"aaxis\":{\"endlinecolor\":\"#2a3f5f\",\"gridcolor\":\"white\",\"linecolor\":\"white\",\"minorgridcolor\":\"white\",\"startlinecolor\":\"#2a3f5f\"},\"baxis\":{\"endlinecolor\":\"#2a3f5f\",\"gridcolor\":\"white\",\"linecolor\":\"white\",\"minorgridcolor\":\"white\",\"startlinecolor\":\"#2a3f5f\"},\"type\":\"carpet\"}],\"table\":[{\"cells\":{\"fill\":{\"color\":\"#EBF0F8\"},\"line\":{\"color\":\"white\"}},\"header\":{\"fill\":{\"color\":\"#C8D4E3\"},\"line\":{\"color\":\"white\"}},\"type\":\"table\"}],\"barpolar\":[{\"marker\":{\"line\":{\"color\":\"#E5ECF6\",\"width\":0.5},\"pattern\":{\"fillmode\":\"overlay\",\"size\":10,\"solidity\":0.2}},\"type\":\"barpolar\"}],\"pie\":[{\"automargin\":true,\"type\":\"pie\"}]},\"layout\":{\"autotypenumbers\":\"strict\",\"colorway\":[\"#636efa\",\"#EF553B\",\"#00cc96\",\"#ab63fa\",\"#FFA15A\",\"#19d3f3\",\"#FF6692\",\"#B6E880\",\"#FF97FF\",\"#FECB52\"],\"font\":{\"color\":\"#2a3f5f\"},\"hovermode\":\"closest\",\"hoverlabel\":{\"align\":\"left\"},\"paper_bgcolor\":\"white\",\"plot_bgcolor\":\"#E5ECF6\",\"polar\":{\"bgcolor\":\"#E5ECF6\",\"angularaxis\":{\"gridcolor\":\"white\",\"linecolor\":\"white\",\"ticks\":\"\"},\"radialaxis\":{\"gridcolor\":\"white\",\"linecolor\":\"white\",\"ticks\":\"\"}},\"ternary\":{\"bgcolor\":\"#E5ECF6\",\"aaxis\":{\"gridcolor\":\"white\",\"linecolor\":\"white\",\"ticks\":\"\"},\"baxis\":{\"gridcolor\":\"white\",\"linecolor\":\"white\",\"ticks\":\"\"},\"caxis\":{\"gridcolor\":\"white\",\"linecolor\":\"white\",\"ticks\":\"\"}},\"coloraxis\":{\"colorbar\":{\"outlinewidth\":0,\"ticks\":\"\"}},\"colorscale\":{\"sequential\":[[0.0,\"#0d0887\"],[0.1111111111111111,\"#46039f\"],[0.2222222222222222,\"#7201a8\"],[0.3333333333333333,\"#9c179e\"],[0.4444444444444444,\"#bd3786\"],[0.5555555555555556,\"#d8576b\"],[0.6666666666666666,\"#ed7953\"],[0.7777777777777778,\"#fb9f3a\"],[0.8888888888888888,\"#fdca26\"],[1.0,\"#f0f921\"]],\"sequentialminus\":[[0.0,\"#0d0887\"],[0.1111111111111111,\"#46039f\"],[0.2222222222222222,\"#7201a8\"],[0.3333333333333333,\"#9c179e\"],[0.4444444444444444,\"#bd3786\"],[0.5555555555555556,\"#d8576b\"],[0.6666666666666666,\"#ed7953\"],[0.7777777777777778,\"#fb9f3a\"],[0.8888888888888888,\"#fdca26\"],[1.0,\"#f0f921\"]],\"diverging\":[[0,\"#8e0152\"],[0.1,\"#c51b7d\"],[0.2,\"#de77ae\"],[0.3,\"#f1b6da\"],[0.4,\"#fde0ef\"],[0.5,\"#f7f7f7\"],[0.6,\"#e6f5d0\"],[0.7,\"#b8e186\"],[0.8,\"#7fbc41\"],[0.9,\"#4d9221\"],[1,\"#276419\"]]},\"xaxis\":{\"gridcolor\":\"white\",\"linecolor\":\"white\",\"ticks\":\"\",\"title\":{\"standoff\":15},\"zerolinecolor\":\"white\",\"automargin\":true,\"zerolinewidth\":2},\"yaxis\":{\"gridcolor\":\"white\",\"linecolor\":\"white\",\"ticks\":\"\",\"title\":{\"standoff\":15},\"zerolinecolor\":\"white\",\"automargin\":true,\"zerolinewidth\":2},\"scene\":{\"xaxis\":{\"backgroundcolor\":\"#E5ECF6\",\"gridcolor\":\"white\",\"linecolor\":\"white\",\"showbackground\":true,\"ticks\":\"\",\"zerolinecolor\":\"white\",\"gridwidth\":2},\"yaxis\":{\"backgroundcolor\":\"#E5ECF6\",\"gridcolor\":\"white\",\"linecolor\":\"white\",\"showbackground\":true,\"ticks\":\"\",\"zerolinecolor\":\"white\",\"gridwidth\":2},\"zaxis\":{\"backgroundcolor\":\"#E5ECF6\",\"gridcolor\":\"white\",\"linecolor\":\"white\",\"showbackground\":true,\"ticks\":\"\",\"zerolinecolor\":\"white\",\"gridwidth\":2}},\"shapedefaults\":{\"line\":{\"color\":\"#2a3f5f\"}},\"annotationdefaults\":{\"arrowcolor\":\"#2a3f5f\",\"arrowhead\":0,\"arrowwidth\":1},\"geo\":{\"bgcolor\":\"white\",\"landcolor\":\"#E5ECF6\",\"subunitcolor\":\"white\",\"showland\":true,\"showlakes\":true,\"lakecolor\":\"white\"},\"title\":{\"x\":0.05},\"mapbox\":{\"style\":\"light\"}}},\"xaxis\":{\"anchor\":\"y\",\"domain\":[0.0,1.0],\"title\":{\"text\":\"PrgP\"}},\"yaxis\":{\"anchor\":\"x\",\"domain\":[0.0,1.0],\"title\":{\"text\":\"xAG\"}},\"coloraxis\":{\"colorbar\":{\"title\":{\"text\":\"Ast\"}},\"colorscale\":[[0.0,\"#440154\"],[0.1111111111111111,\"#482878\"],[0.2222222222222222,\"#3e4989\"],[0.3333333333333333,\"#31688e\"],[0.4444444444444444,\"#26828e\"],[0.5555555555555556,\"#1f9e89\"],[0.6666666666666666,\"#35b779\"],[0.7777777777777778,\"#6ece58\"],[0.8888888888888888,\"#b5de2b\"],[1.0,\"#fde725\"]]},\"legend\":{\"tracegroupgap\":0,\"itemsizing\":\"constant\"},\"title\":{\"text\":\"Relationship Between Progressive Passes and xAG (Size & Color: Assists)\",\"x\":0.5},\"annotations\":[{\"font\":{\"color\":\"black\",\"size\":8},\"showarrow\":false,\"text\":\"Jude Bellingham\",\"x\":199,\"xshift\":0,\"y\":3.9,\"yshift\":10},{\"font\":{\"color\":\"black\",\"size\":8},\"showarrow\":false,\"text\":\"Rayan Cherki\",\"x\":206,\"xshift\":0,\"y\":11.1,\"yshift\":10},{\"font\":{\"color\":\"black\",\"size\":8},\"showarrow\":false,\"text\":\"Désiré Doué\",\"x\":139,\"xshift\":0,\"y\":7.8,\"yshift\":10},{\"font\":{\"color\":\"black\",\"size\":8},\"showarrow\":false,\"text\":\"Milos Kerkez\",\"x\":159,\"xshift\":0,\"y\":3.9,\"yshift\":10},{\"font\":{\"color\":\"black\",\"size\":8},\"showarrow\":false,\"text\":\"João Neves\",\"x\":144,\"xshift\":0,\"y\":4.0,\"yshift\":10},{\"font\":{\"color\":\"black\",\"size\":8},\"showarrow\":false,\"text\":\"Nicolás Paz\",\"x\":163,\"xshift\":0,\"y\":6.0,\"yshift\":10},{\"font\":{\"color\":\"black\",\"size\":8},\"showarrow\":false,\"text\":\"Pedri\",\"x\":360,\"xshift\":0,\"y\":7.4,\"yshift\":10},{\"font\":{\"color\":\"black\",\"size\":8},\"showarrow\":false,\"text\":\"Xavi Simons\",\"x\":140,\"xshift\":0,\"y\":6.3,\"yshift\":10},{\"font\":{\"color\":\"black\",\"size\":8},\"showarrow\":false,\"text\":\"Florian Wirtz\",\"x\":176,\"xshift\":0,\"y\":7.0,\"yshift\":10},{\"font\":{\"color\":\"black\",\"size\":8},\"showarrow\":false,\"text\":\"Lamine Yamal\",\"x\":160,\"xshift\":0,\"y\":13.9,\"yshift\":10}]},                        {\"responsive\": true}                    ).then(function(){\n",
       "                            \n",
       "var gd = document.getElementById('3725b487-aecb-4c78-bba7-eb5e5c490304');\n",
       "var x = new MutationObserver(function (mutations, observer) {{\n",
       "        var display = window.getComputedStyle(gd).display;\n",
       "        if (!display || display === 'none') {{\n",
       "            console.log([gd, 'removed!']);\n",
       "            Plotly.purge(gd);\n",
       "            observer.disconnect();\n",
       "        }}\n",
       "}});\n",
       "\n",
       "// Listen for the removal of the full notebook cells\n",
       "var notebookContainer = gd.closest('#notebook-container');\n",
       "if (notebookContainer) {{\n",
       "    x.observe(notebookContainer, {childList: true});\n",
       "}}\n",
       "\n",
       "// Listen for the clearing of the current output cell\n",
       "var outputEl = gd.closest('.output');\n",
       "if (outputEl) {{\n",
       "    x.observe(outputEl, {childList: true});\n",
       "}}\n",
       "\n",
       "                        })                };                            </script>        </div>\n",
       "</body>\n",
       "</html>"
      ]
     },
     "metadata": {},
     "output_type": "display_data"
    }
   ],
   "source": [
    "# Create scatter plot showing relationship between progressive passes (PrgP) and xAG,\n",
    "# with point size and color based on assists (Ast).\n",
    "top_progressors_players = young_players.sort_values('PrgP_xAG', ascending=False).head(10)['Player'].tolist()\n",
    "fig = px.scatter(\n",
    "    young_players, \n",
    "    x='PrgP', \n",
    "    y='xAG', \n",
    "    color='Ast', \n",
    "    size='Ast', \n",
    "    hover_data=['Player', 'Squad', 'Age'],\n",
    "    title='Relationship Between Progressive Passes and xAG (Size & Color: Assists)',\n",
    "    color_continuous_scale='Viridis'\n",
    ")\n",
    "\n",
    "# Add annotations for each player\n",
    "for index, row in young_players.iterrows():\n",
    "    if row['Player'] in top_progressors_players:\n",
    "        fig.add_annotation(\n",
    "            x=row['PrgP'],\n",
    "            y=row['xAG'],\n",
    "            text=row['Player'],\n",
    "            showarrow=False, # No arrow\n",
    "            yshift=10, # Shift text slightly up\n",
    "            xshift=0, # Shift text slightly left/right\n",
    "            font=dict(size=8, color=\"black\") # Font size and color\n",
    "        )\n",
    "\n",
    "fig.update_layout(title_x=0.5)\n",
    "fig.show()"
   ]
  },
  {
   "cell_type": "markdown",
   "id": "a471e3b6",
   "metadata": {
    "_cell_guid": "b29c2c10-a92d-4d96-837f-70e14b6dae9c",
    "_uuid": "eb0014d1-29f2-4e62-934e-91ef5a9341e2",
    "collapsed": false,
    "jupyter": {
     "outputs_hidden": false
    },
    "papermill": {
     "duration": 0.025355,
     "end_time": "2025-07-05T04:56:05.885478",
     "exception": false,
     "start_time": "2025-07-05T04:56:05.860123",
     "status": "completed"
    },
    "tags": []
   },
   "source": [
    "## 📕Summary \n",
    "\n",
    "**Comprehensive Analysis and Insights on Young Players' Potential in Top 5 Leagues:**\n",
    "\n",
    "**I. League Volume and Commitment to Young Players:**\n",
    "\n",
    "1.  **Ligue 1 (France): Largest Talent Producer & Club Incubator:**\n",
    "    * Most young players (~180), with clubs like Strasbourg and Reims having high proportions (>50%).\n",
    "\n",
    "2.  **La Liga (Spain): Best for Starter Roles and Main Creators:**\n",
    "    * Highest starter ratio (~60%), producing world-class young playmakers like Pedri.\n",
    "\n",
    "3.  **Premier League (England): Competitive Yet Trusting Environment:**\n",
    "    * Highest average minutes (746.83), with clubs like Ipswich Town and Brighton giving significant playing time.\n",
    "\n",
    "4.  **Bundesliga (Germany): High Offensive Efficiency and Focused Talent:**\n",
    "    * Productive young scorers (Šeško, Musiala) and creative assist makers (Wirtz).\n",
    "\n",
    "5.  **Serie A (Italy): Challenging for Minutes, But Individual Effectiveness:**\n",
    "    * Lowest average minutes (623.90), but players like Mika Biereth show exceptional efficiency.\n",
    "\n",
    "**II. Young Players' Roles and Contributions:**\n",
    "\n",
    "1.  **Significant Direct Offensive Impact:**\n",
    "    * Contribute 14% of goals, 15.6% of assists, and 14.7% of G+A - substantial for their age.\n",
    "\n",
    "2.  **Young Players as Core Pillars (Not Just Squad Players):**\n",
    "    * Players like Milos Kerkez show perfect starter ratios (1.00 in 20+ matches), becoming indispensable.\n",
    "\n",
    "3.  **Position Diversity and Key Roles:**\n",
    "    * Goalkeepers: Highest average minutes but fewest players.\n",
    "    * Defenders & Midfielders: Most numerous with regular minutes.\n",
    "    * Forwards: Fewer minutes but some highly efficient scorers.\n",
    "    * Positional flexibility increases playing time.\n",
    "\n",
    "4.  **Efficiency in Offensive Production (Per 90 Minutes):**\n",
    "    * Mika Biereth most effective scorer (0.93 goals/90).\n",
    "    * Rayan Cherki most effective creator (0.48 assists/90).\n",
    "\n",
    "5.  **Superior Finishing and Key Pass Vision:**\n",
    "    * Andrey Santos and Xavi Simons have highest Goals/xG (1.96), showing clinical finishing.\n",
    "    * Benjamin Šeško has highest Assists/xAG (2.38), showing exceptional pass quality.\n",
    "\n",
    "**Key Standout Players Across Metrics:**\n",
    "\n",
    "* **Milos Kerkez & Zion Suzuki:** Most minutes and perfect starter ratios, showing reliability.\n",
    "* **Bradley Barcola & Florian Wirtz:** Absolute leaders in G+A, showing massive direct impact.\n",
    "* **Rayan Cherki & Lamine Yamal:** Highly effective playmakers.\n",
    "* **Mika Biereth:** Most efficient scorer per 90 minutes.\n",
    "* **Andrey Santos & Xavi Simons:** Most clinical finishers.\n",
    "* **Jude Bellingham:** Complete all-rounder excelling in minutes, G+A, and assist conversion.\n",
    "\n",
    "Collectively, this data provides a rich picture of young players in European football, highlighting the leagues most invested in youth, the clubs most active in development, and the individuals showing exceptional potential across various aspects of the game."
   ]
  },
  {
   "cell_type": "markdown",
   "id": "83e9a496",
   "metadata": {
    "_cell_guid": "76770bdf-1438-4da6-97c9-88cc58bed358",
    "_uuid": "4ba367e1-1753-471d-9af5-21e1cd73c09b",
    "collapsed": false,
    "jupyter": {
     "outputs_hidden": false
    },
    "papermill": {
     "duration": 0.026779,
     "end_time": "2025-07-05T04:56:05.938955",
     "exception": false,
     "start_time": "2025-07-05T04:56:05.912176",
     "status": "completed"
    },
    "tags": []
   },
   "source": [
    "# Clustering & Classification"
   ]
  },
  {
   "cell_type": "code",
   "execution_count": 36,
   "id": "560f8c31",
   "metadata": {
    "_cell_guid": "583d3022-4df7-438c-88ce-88505eb83660",
    "_uuid": "1f1d3e49-0e32-4ad9-9ca4-5e796c41fcff",
    "collapsed": false,
    "execution": {
     "iopub.execute_input": "2025-07-05T04:56:05.994939Z",
     "iopub.status.busy": "2025-07-05T04:56:05.993934Z",
     "iopub.status.idle": "2025-07-05T04:56:06.905487Z",
     "shell.execute_reply": "2025-07-05T04:56:06.904175Z"
    },
    "jupyter": {
     "outputs_hidden": false
    },
    "papermill": {
     "duration": 0.941828,
     "end_time": "2025-07-05T04:56:06.907668",
     "exception": false,
     "start_time": "2025-07-05T04:56:05.965840",
     "status": "completed"
    },
    "tags": []
   },
   "outputs": [
    {
     "data": {
      "text/html": [
       "<html>\n",
       "<head><meta charset=\"utf-8\" /></head>\n",
       "<body>\n",
       "    <div>            <script src=\"https://cdnjs.cloudflare.com/ajax/libs/mathjax/2.7.5/MathJax.js?config=TeX-AMS-MML_SVG\"></script><script type=\"text/javascript\">if (window.MathJax && window.MathJax.Hub && window.MathJax.Hub.Config) {window.MathJax.Hub.Config({SVG: {font: \"STIX-Web\"}});}</script>                <script type=\"text/javascript\">window.PlotlyConfig = {MathJaxConfig: 'local'};</script>\n",
       "        <script charset=\"utf-8\" src=\"https://cdn.plot.ly/plotly-2.35.2.min.js\"></script>                <div id=\"74128fc6-a79e-4e41-a748-a91164d0d51a\" class=\"plotly-graph-div\" style=\"height:525px; width:100%;\"></div>            <script type=\"text/javascript\">                                    window.PLOTLYENV=window.PLOTLYENV || {};                                    if (document.getElementById(\"74128fc6-a79e-4e41-a748-a91164d0d51a\")) {                    Plotly.newPlot(                        \"74128fc6-a79e-4e41-a748-a91164d0d51a\",                        [{\"customdata\":[[\"Rodrigo Abajas\",\"Valencia\",21.0],[\"James Abankwah\",\"Udinese\",20.0],[\"Keyliane Abdallah\",\"Marseille\",18.0],[\"Nabil Aberdin\",\"Getafe\",21.0],[\"Matthis Abline\",\"Nantes\",21.0],[\"Federico Accornero\",\"Genoa\",20.0],[\"Joshua Acheampong\",\"Chelsea\",18.0],[\"Martin Adeline\",\"Reims\",20.0],[\"Vasilije Adžić\",\"Juventus\",18.0],[\"Asher Agbinone\",\"Crystal Palace\",18.0],[\"Jeremy Agbonifo\",\"Lens\",18.0],[\"Lorenzo Aguado\",\"Real Madrid\",21.0],[\"Honest Ahanor\",\"Genoa\",16.0],[\"Ayman Aiki\",\"Saint-Étienne\",19.0],[\"Junior Ajayi\",\"Hellas Verona\",19.0],[\"Ümit Akdag\",\"Toulouse\",20.0],[\"Ilias Akhomach\",\"Villarreal\",20.0],[\"Ibrahim Alani\",\"Valladolid\",18.0],[\"Carlos Alcaraz\",\"Southampton\",21.0],[\"Carlos Alcaraz\",\"Everton\",21.0],[\"Mohamed Ali Cho\",\"Nice\",20.0],[\"Iker Almena\",\"Girona\",20.0],[\"Hugo Álvarez\",\"Celta Vigo\",21.0],[\"Will Alves\",\"Leicester City\",19.0],[\"Harry Amass\",\"Manchester Utd\",17.0],[\"Aurele Amenda\",\"Eint Frankfurt\",21.0],[\"Samuel Amo-Ameyaw\",\"Southampton\",18.0],[\"Samuel Amo-Ameyaw\",\"Strasbourg\",18.0],[\"Mathis Amougou\",\"Chelsea\",18.0],[\"Mathis Amougou\",\"Saint-Étienne\",18.0],[\"Elliot Anderson\",\"Nott'ham Forest\",21.0],[\"Lorenzo Anghelè\",\"Juventus\",19.0],[\"Leandro Antonetti\",\"Sevilla\",21.0],[\"Kyllian Antonio\",\"Lens\",16.0],[\"Antoniu\",\"Espanyol\",21.0],[\"Harrison Armstrong\",\"Everton\",17.0],[\"Hákon Arnar Haraldsson\",\"Lille\",21.0],[\"Sergio Arribas\",\"Betis\",21.0],[\"Arthur\",\"Leverkusen\",21.0],[\"Raúl Asencio\",\"Real Madrid\",21.0],[\"Yaser Asprilla\",\"Girona\",20.0],[\"Dehmaine Assoumani\",\"Nantes\",19.0],[\"Valentin Atangana Edoa\",\"Reims\",18.0],[\"Arthur Atta\",\"Udinese\",21.0],[\"Yasin Ayari\",\"Brighton\",20.0],[\"Adam Aznou\",\"Valladolid\",18.0],[\"Adam Aznou\",\"Bayern Munich\",18.0],[\"Papa Ba\",\"Girona\",19.0],[\"Jacopo Bacci\",\"Empoli\",19.0],[\"Aliou Badara Baldé\",\"Bochum\",21.0],[\"Juma Bah\",\"Valladolid\",18.0],[\"Juma Bah\",\"Lens\",18.0],[\"Stefan Bajcetic\",\"Las Palmas\",19.0],[\"Darryl Bakola\",\"Marseille\",16.0],[\"Dilane Bakwa\",\"Strasbourg\",21.0],[\"Tommaso Baldanzi\",\"Roma\",21.0],[\"Alejandro Balde\",\"Barcelona\",20.0],[\"Carlos Baleba\",\"Brighton\",20.0],[\"Mohamed Bamba\",\"Reims\",19.0],[\"Samuel Bamba\",\"Bochum\",20.0],[\"Noahkai Banks\",\"Augsburg\",17.0],[\"Adrian Baquerin\",\"Valladolid\",17.0],[\"Valentín Barco\",\"Sevilla\",20.0],[\"Valentín Barco\",\"Strasbourg\",20.0],[\"Bradley Barcola\",\"Paris S-G\",21.0],[\"Téo Barisic\",\"Lyon\",19.0],[\"Pablo Barrios\",\"Atlético Madrid\",21.0],[\"Thierno Barry\",\"Villarreal\",21.0],[\"Davide Bartesaghi\",\"Milan\",18.0],[\"Aboubacar Bassinga\",\"Las Palmas\",19.0],[\"Rafael Bauza\",\"Espanyol\",19.0],[\"Maximilian Beier\",\"Dortmund\",21.0],[\"Luken Beitia\",\"Real Sociedad\",20.0],[\"Ismael Bekhoucha\",\"Getafe\",19.0],[\"Reda Belahyane\",\"Hellas Verona\",20.0],[\"Reda Belahyane\",\"Lazio\",20.0],[\"Jude Bellingham\",\"Real Madrid\",21.0],[\"Jeanuël Belocian\",\"Leverkusen\",19.0],[\"Eliesse Ben Seghir\",\"Monaco\",19.0],[\"Iker Benito\",\"Osasuna\",21.0],[\"Lucas Beraldo\",\"Paris S-G\",20.0],[\"Lucas Bergvall\",\"Tottenham\",18.0],[\"Medon Berisha\",\"Lecce\",20.0],[\"Marc Bernal\",\"Barcelona\",17.0],[\"Victor Bernth Kristiansen\",\"Leicester City\",21.0],[\"Alessandro Bianco\",\"Monza\",21.0],[\"Alessandro Bianco\",\"Fiorentina\",21.0],[\"Mika Biereth\",\"Monaco\",21.0],[\"Tom Bischof\",\"Hoffenheim\",19.0],[\"Emmanuel Biumla\",\"Angers\",19.0],[\"Oscar Bobb\",\"Manchester City\",21.0],[\"Mathéo Bodmer\",\"Le Havre\",20.0],[\"Lamare Bogarde\",\"Aston Villa\",20.0],[\"Warren Bondo\",\"Monza\",20.0],[\"Warren Bondo\",\"Milan\",20.0],[\"Ange-Yoan Bonny\",\"Parma\",20.0],[\"Saïmon Bouabré\",\"Monaco\",18.0],[\"Ayyoub Bouaddi\",\"Lille\",16.0],[\"Badredine Bouanani\",\"Nice\",19.0],[\"Justin Bourgault\",\"Brest\",18.0],[\"Conor Bradley\",\"Liverpool\",21.0],[\"Iker Bravo\",\"Udinese\",19.0],[\"Nathaniel Brown\",\"Eint Frankfurt\",21.0],[\"Manu Bueno\",\"Sevilla\",20.0],[\"Endika Buján\",\"Athletic Club\",21.0],[\"Facundo Buonanotte\",\"Leicester City\",19.0],[\"Rareș-Cătălin Burnete\",\"Lecce\",20.0],[\"Nathan Butler-Oyedeji\",\"Arsenal\",21.0],[\"Pau Cabanes\",\"Villarreal\",19.0],[\"Pau Cabanes\",\"Alavés\",19.0],[\"Alessio Cacciamani\",\"Torino\",17.0],[\"Issiaga Camara\",\"Nice\",19.0],[\"Lamine Camara\",\"Monaco\",20.0],[\"Ousmane Camara\",\"Angers\",21.0],[\"Francesco Camarda\",\"Milan\",16.0],[\"Eduardo Camavinga\",\"Real Madrid\",21.0],[\"Axel Camblan\",\"Brest\",20.0],[\"Thomas Campaniello\",\"Empoli\",16.0],[\"Cole Campbell\",\"Dortmund\",18.0],[\"Peio Canales\",\"Athletic Club\",19.0],[\"Jaydee Canvot\",\"Toulouse\",18.0],[\"Gabin Capuano\",\"Lens\",18.0],[\"Simon Cara\",\"Montpellier\",19.0],[\"Franco Carboni\",\"Venezia\",21.0],[\"Valentin Carboni\",\"Marseille\",19.0],[\"Tiago Cardoso\",\"Gladbach\",18.0],[\"José Carlos González\",\"Las Palmas\",18.0],[\"Fabio Carvalho\",\"Brentford\",21.0],[\"Cesare Casadei\",\"Torino\",21.0],[\"Marc Casado\",\"Barcelona\",20.0],[\"Kaelan Casey\",\"West Ham\",19.0],[\"Federico Cassa\",\"Atalanta\",18.0],[\"Santiago Castro\",\"Bologna\",19.0],[\"Enzo Caumont\",\"Angers\",20.0],[\"Abdoulie Ceesay\",\"St. Pauli\",20.0],[\"El Chadaille Bitshiabu\",\"RB Leipzig\",19.0],[\"Fares Chaïbi\",\"Eint Frankfurt\",21.0],[\"Raúl Chasco\",\"Valladolid\",20.0],[\"Anrie Chase\",\"Stuttgart\",20.0],[\"Chema\",\"Real Madrid\",19.0],[\"Théo Chennahi\",\"Montpellier\",19.0],[\"Sidiki Cherif\",\"Angers\",17.0],[\"Rayan Cherki\",\"Lyon\",20.0],[\"Youssef Chermiti\",\"Everton\",20.0],[\"Fabio Chiarodia\",\"Gladbach\",19.0],[\"Carney Chukwuemeka\",\"Dortmund\",20.0],[\"Aaron Ciammaglichella\",\"Torino\",19.0],[\"Alessandro Circati\",\"Parma\",20.0],[\"Alphadjo Cissè\",\"Hellas Verona\",17.0],[\"Djaoui Cissé\",\"Rennes\",20.0],[\"Yoann Cissé\",\"Auxerre\",19.0],[\"Silvi Clúa\",\"Girona\",19.0],[\"Nnamdi Collins\",\"Eint Frankfurt\",20.0],[\"Toby Collyer\",\"Manchester Utd\",20.0],[\"Levi Colwill\",\"Chelsea\",21.0],[\"Pietro Comuzzo\",\"Fiorentina\",19.0],[\"Francisco Conceição\",\"Juventus\",21.0],[\"Diego Coppola\",\"Hellas Verona\",20.0],[\"Iker Córdoba\",\"Valencia\",18.0],[\"Alberto costa\",\"Juventus\",20.0],[\"Lasso Coulibaly\",\"Auxerre\",21.0],[\"Mamadou Coulibaly\",\"Monaco\",20.0],[\"Soumaïla Coulibaly\",\"Brest\",20.0],[\"Marius Courcoul\",\"Angers\",17.0],[\"Charlie Cresswell\",\"Toulouse\",21.0],[\"Pau Cubarsí\",\"Barcelona\",17.0],[\"Maat Daniel Caprini\",\"Fiorentina\",18.0],[\"Jayden Danns\",\"Liverpool\",18.0],[\"Kévin Danois\",\"Auxerre\",20.0],[\"Bence Dárdai\",\"Wolfsburg\",18.0],[\"Amar Dedić\",\"Marseille\",21.0],[\"Liam Delap\",\"Ipswich Town\",21.0],[\"Ali Dembélé\",\"Torino\",20.0],[\"Justin Devenny\",\"Crystal Palace\",20.0],[\"Mamadou Diakhon\",\"Reims\",18.0],[\"Oumar Diakité\",\"Reims\",20.0],[\"Assane Diao\",\"Como\",18.0],[\"Assane Diao\",\"Betis\",18.0],[\"Habib Diarra\",\"Strasbourg\",20.0],[\"Mahamadou Diawara\",\"Le Havre\",19.0],[\"Mahamadou Diawara\",\"Lyon\",19.0],[\"Daniel Díaz\",\"Real Sociedad\",18.0],[\"Tyler Dibling\",\"Southampton\",18.0],[\"Justin Diehl\",\"Stuttgart\",19.0],[\"Kembo Diliwidi\",\"Lens\",18.0],[\"Yan Diomandé\",\"Leganés\",17.0],[\"Sérigné Diop\",\"Brest\",19.0],[\"Andy Diouf\",\"Lens\",21.0],[\"Roman Dixon\",\"Everton\",19.0],[\"Nasser Djiga\",\"Wolves\",21.0],[\"Marc Domenech\",\"Mallorca\",18.0],[\"Benjamín Domínguez\",\"Bologna\",20.0],[\"Israel Domínguez\",\"Sevilla\",21.0],[\"Sergi Dominguez\",\"Barcelona\",19.0],[\"Patrick Dorgu\",\"Manchester Utd\",19.0],[\"Patrick Dorgu\",\"Lecce\",19.0],[\"Alfie Dorrington\",\"Tottenham\",19.0],[\"Sékou Doucoure\",\"Nantes\",19.0],[\"Désiré Doué\",\"Paris S-G\",19.0],[\"Guela Doué\",\"Strasbourg\",21.0],[\"Ismaël Doukouré\",\"Strasbourg\",21.0],[\"Issa Doumbia\",\"Venezia\",20.0],[\"Kamory Doumbia\",\"Brest\",21.0],[\"Amidou Doumbouya\",\"Nice\",16.0],[\"Tim Drexler\",\"Hoffenheim\",19.0],[\"Jáder Durán\",\"Aston Villa\",20.0],[\"Julien Duranville\",\"Dortmund\",18.0],[\"Stefan Džodić\",\"Montpellier\",19.0],[\"Claudio Echeverri\",\"Manchester City\",18.0],[\"Noah Edjouma\",\"Toulouse\",18.0],[\"Samuel Edozie\",\"Southampton\",21.0],[\"Ronnie Edwards\",\"Southampton\",21.0],[\"Jeff Ekhator\",\"Genoa\",17.0],[\"Jacques Ekomie\",\"Angers\",20.0],[\"Harvey Elliott\",\"Liverpool\",21.0],[\"Emanuel Emegha\",\"Strasbourg\",21.0],[\"Yunus Emre Konak\",\"Brentford\",18.0],[\"Julio Enciso\",\"Ipswich Town\",20.0],[\"Julio Enciso\",\"Brighton\",20.0],[\"Endrick\",\"Real Madrid\",18.0],[\"Arne Engels\",\"Augsburg\",20.0],[\"Romain Esse\",\"Crystal Palace\",19.0],[\"Dario Essugo\",\"Las Palmas\",19.0],[\"Estanis\",\"Bologna\",20.0],[\"Etienne Eto'o\",\"Rayo Vallecano\",21.0],[\"Karl Etta\",\"Villarreal\",20.0],[\"Giovanni Fabbian\",\"Bologna\",21.0],[\"Abdul Fatawu Issahaku\",\"Leicester City\",20.0],[\"Ansu Fati\",\"Barcelona\",21.0],[\"Khalil Fayad\",\"Montpellier\",20.0],[\"Jacopo Fazzini\",\"Empoli\",21.0],[\"Frank Feller\",\"Heidenheim\",20.0],[\"Evan Ferguson\",\"West Ham\",19.0],[\"Evan Ferguson\",\"Brighton\",19.0],[\"Mateus Fernandes\",\"Southampton\",20.0],[\"Pelayo Fernandez\",\"Rayo Vallecano\",21.0],[\"Matias Fernandez-Pardo\",\"Lille\",19.0],[\"Daniel Fila\",\"Venezia\",21.0],[\"Mateo Flores\",\"Betis\",20.0],[\"Malick Fofana\",\"Lyon\",19.0],[\"Rayan Fofana\",\"Lens\",18.0],[\"Carlos Forbs\",\"Wolves\",20.0],[\"Omari Forson\",\"Monza\",20.0],[\"Héctor Fort\",\"Barcelona\",17.0],[\"Fran\",\"Real Madrid\",19.0],[\"Matheus França\",\"Crystal Palace\",20.0],[\"Alejandro Francés\",\"Girona\",21.0],[\"Tyler Fredricson\",\"Manchester Utd\",19.0],[\"Darío Fuentes\",\"Sevilla\",21.0],[\"Shiō Fukuda\",\"Gladbach\",20.0],[\"Tommaso Gabellini\",\"Torino\",17.0],[\"Tiago Gabriel\",\"Lecce\",19.0],[\"Andrés García\",\"Aston Villa\",21.0],[\"Gonzalo García\",\"Real Madrid\",20.0],[\"Pablo Garcia\",\"Betis\",17.0],[\"Alejandro Garnacho\",\"Manchester Utd\",20.0],[\"Yarek Gasiorowski\",\"Valencia\",19.0],[\"Gavi\",\"Barcelona\",19.0],[\"Viggo Gebel\",\"RB Leipzig\",16.0],[\"Tyrique George\",\"Chelsea\",18.0],[\"Daniele Ghilardi\",\"Hellas Verona\",21.0],[\"Gvidas Gineitis\",\"Torino\",20.0],[\"Jamie Gittens\",\"Dortmund\",19.0],[\"Martial Godo\",\"Fulham\",21.0],[\"Saba Goglichidze\",\"Empoli\",20.0],[\"Michael Golding\",\"Leicester City\",18.0],[\"Rodrigo Gomes\",\"Wolves\",21.0],[\"Carlos Gómez\",\"Rennes\",21.0],[\"Diego Gómez\",\"Brighton\",21.0],[\"Unai Gómez\",\"Athletic Club\",21.0],[\"Tidiam Gomis\",\"RB Leipzig\",17.0],[\"Lucas Gourna-Douath\",\"Roma\",20.0],[\"Archie Gray\",\"Tottenham\",18.0],[\"Brajan Gruda\",\"Brighton\",20.0],[\"Axel Gueguin\",\"Montpellier\",19.0],[\"Javier Guerra\",\"Valencia\",21.0],[\"Luis Guilherme\",\"West Ham\",18.0],[\"Carlos Guirao\",\"Betis\",21.0],[\"Bahereba Guirassy\",\"Nantes\",17.0],[\"Marc Guiu\",\"Chelsea\",18.0],[\"Arda Güler\",\"Real Madrid\",19.0],[\"Malo Gusto\",\"Chelsea\",21.0],[\"Saad El Haddad\",\"Venezia\",19.0],[\"Mohamed Haj\",\"Parma\",19.0],[\"Lewis Hall\",\"Newcastle Utd\",19.0],[\"Ayden Heaven\",\"Manchester Utd\",17.0],[\"Paul Hennrich\",\"Hoffenheim\",19.0],[\"Juan Herzog\",\"Las Palmas\",21.0],[\"Omar El Hilali\",\"Espanyol\",20.0],[\"Roger Hinojo\",\"Espanyol\",19.0],[\"Jack Hinshelwood\",\"Brighton\",19.0],[\"Ilyes Housni\",\"Le Havre\",19.0],[\"Harry Howell\",\"Brighton\",15.0],[\"Dean Huijsen\",\"Bournemouth\",19.0],[\"Omari Hutchinson\",\"Ipswich Town\",20.0],[\"Oscar Højlund\",\"Eint Frankfurt\",19.0],[\"Rasmus Højlund\",\"Manchester Utd\",21.0],[\"Hafiz Ibrahim\",\"Reims\",18.0],[\"Arijon Ibrahimović\",\"Lazio\",18.0],[\"Arijon Ibrahimović\",\"Bayern Munich\",18.0],[\"Stanis Idumbo\",\"Sevilla\",19.0],[\"George Ilenikhena\",\"Monaco\",17.0],[\"Rareş Ilie\",\"Nice\",21.0],[\"Samuel Iling-Junior\",\"Bologna\",20.0],[\"Tim Iroegbunam\",\"Everton\",21.0],[\"Yanis Issoufou\",\"Montpellier\",17.0],[\"Diego Iturralde\",\"Sevilla\",21.0],[\"Fellipe Jack\",\"Como\",18.0],[\"Jérémy Jacquet\",\"Rennes\",19.0],[\"Jordan James\",\"Rennes\",20.0],[\"Luca Jaquez\",\"Stuttgart\",21.0],[\"Ali Jasim\",\"Como\",20.0],[\"Mikel Jauregizar\",\"Athletic Club\",20.0],[\"Dominik Javorček\",\"Holstein Kiel\",21.0],[\"Daniel Jebbison\",\"Bournemouth\",20.0],[\"Finn Jeltsch\",\"Stuttgart\",18.0],[\"Malcolm Jeng\",\"Reims\",19.0],[\"Alejandro Jiménez\",\"Milan\",19.0],[\"Kim Jisoo\",\"Brentford\",19.0],[\"John Joe\",\"Getafe\",20.0],[\"John Joe\",\"Reims\",20.0],[\"Antoine Joujou\",\"Le Havre\",21.0],[\"Yusuf Kabadayı\",\"Augsburg\",20.0],[\"Almugera Kabar\",\"Dortmund\",18.0],[\"Yaya Kader Fofana\",\"Reims\",20.0],[\"Justin-Noël Kalumba\",\"Angers\",19.0],[\"Noham Kamara\",\"Paris S-G\",17.0],[\"Willy Kambwala\",\"Villarreal\",19.0],[\"Lior Kasa\",\"Genoa\",18.0],[\"Joachim Kayi Sanda\",\"Southampton\",17.0],[\"Michael Kayode\",\"Brentford\",20.0],[\"Michael Kayode\",\"Fiorentina\",20.0],[\"Abdoulaye Keita\",\"Getafe\",21.0],[\"Andu Kelati\",\"Holstein Kiel\",21.0],[\"Aljoscha Kemlein\",\"Union Berlin\",19.0],[\"Milos Kerkez\",\"Bournemouth\",20.0],[\"Bilal El Khannouss\",\"Leicester City\",20.0],[\"Abdukodir Khusanov\",\"Manchester City\",20.0],[\"Abdukodir Khusanov\",\"Lens\",20.0],[\"Joshua King\",\"Fulham\",17.0],[\"Antonín Kinský\",\"Tottenham\",21.0],[\"Mert Kömür\",\"Augsburg\",19.0],[\"Ismael Konate\",\"Empoli\",18.0],[\"Abdoul Koné\",\"Reims\",19.0],[\"Amadou Koné\",\"Reims\",19.0],[\"Kacper Koscierski\",\"Bochum\",17.0],[\"Konstantinos Koulierakis\",\"Wolfsburg\",20.0],[\"Emmanuel Koum Mbondo\",\"Marseille\",18.0],[\"Mateusz Kowalski\",\"Parma\",19.0],[\"Caleb Kporha\",\"Crystal Palace\",18.0],[\"Frans Krätzig\",\"Heidenheim\",21.0],[\"Frans Krätzig\",\"Stuttgart\",21.0],[\"Sael Kumbedi\",\"Lyon\",19.0],[\"Jonah Kusi-Asare\",\"Bayern Munich\",17.0],[\"Rémy Labeau Lascary\",\"Lens\",21.0],[\"Younes Lachaab\",\"Lille\",19.0],[\"Yoel Lago\",\"Celta Vigo\",20.0],[\"Mathis Lambourde\",\"Hellas Verona\",18.0],[\"Will Lankshear\",\"Tottenham\",19.0],[\"Hugo Larsson\",\"Eint Frankfurt\",20.0],[\"Roméo Lavia\",\"Chelsea\",20.0],[\"Stefan Lekovic\",\"Monza\",20.0],[\"Félix Lemaréchal\",\"Strasbourg\",20.0],[\"Giovanni Leoni\",\"Parma\",17.0],[\"Johann Lepenant\",\"Nantes\",21.0],[\"Louis Leroux\",\"Nantes\",18.0],[\"Rico Lewis\",\"Manchester City\",19.0],[\"Myles Lewis-Skelly\",\"Arsenal\",17.0],[\"Mattia Liberali\",\"Milan\",17.0],[\"Pedro Lima\",\"Wolves\",18.0],[\"Valentino Livramento\",\"Newcastle Utd\",21.0],[\"Javier Llabrés\",\"Mallorca\",21.0],[\"Elysée Logbo\",\"Le Havre\",20.0],[\"David López\",\"Mallorca\",21.0],[\"Fermin López\",\"Barcelona\",21.0],[\"Tom Louchet\",\"Nice\",21.0],[\"Yannik Lührs\",\"Dortmund\",20.0],[\"Castello Lukeba\",\"RB Leipzig\",21.0],[\"Milos Lukovic\",\"Strasbourg\",18.0],[\"Daniel Luna\",\"Mallorca\",21.0],[\"Mathias Løvik\",\"Parma\",20.0],[\"Othmane Maamma\",\"Montpellier\",18.0],[\"Lanroy Machine\",\"Angers\",18.0],[\"Soungoutou Magassa\",\"Monaco\",20.0],[\"Kobbie Mainoo\",\"Manchester Utd\",19.0],[\"Hamidou Makalou\",\"Brest\",18.0],[\"Jarzinho Malanga\",\"Stuttgart\",18.0],[\"Aaron Malouda\",\"Lille\",18.0],[\"Johan Manzambi\",\"Freiburg\",18.0],[\"Alberto Manzoni\",\"Atalanta\",19.0],[\"Alessandro Marcandalli\",\"Genoa\",21.0],[\"Alessandro Marcandalli\",\"Venezia\",21.0],[\"Luca Marianucci\",\"Empoli\",20.0],[\"Arkaitz Mariezkurrena\",\"Real Sociedad\",19.0],[\"Pablo Marín\",\"Real Sociedad\",21.0],[\"Mario Maroto\",\"Valladolid\",20.0],[\"Ange Martial Tia\",\"Reims\",17.0],[\"Diego Martín\",\"Las Palmas\",20.0],[\"Jon Martin\",\"Real Sociedad\",18.0],[\"Mario Martín\",\"Valladolid\",20.0],[\"Arnau Martinez\",\"Girona\",21.0],[\"Ramón Martínez\",\"Sevilla\",21.0],[\"Kevin Martins\",\"Monza\",19.0],[\"Igor Matanovic\",\"Eint Frankfurt\",21.0],[\"Pape Matar Sarr\",\"Tottenham\",21.0],[\"Rudy Matondo\",\"Auxerre\",16.0],[\"Jean Mattéo Bahoya\",\"Eint Frankfurt\",19.0],[\"Alan Matturro\",\"Genoa\",19.0],[\"Christian Mawissa\",\"Monaco\",19.0],[\"Keke Maximilian Topp\",\"Werder Bremen\",20.0],[\"Senny Mayulu\",\"Paris S-G\",18.0],[\"Andrea Mazza\",\"Monza\",20.0],[\"Samuel Mbangula\",\"Juventus\",20.0],[\"Ethan Mbappé\",\"Lille\",17.0],[\"Ibrahim Mbaye\",\"Paris S-G\",16.0],[\"James Mcatee\",\"Manchester City\",21.0],[\"Jayden Meghoma\",\"Brentford\",18.0],[\"Henrik Meister\",\"Rennes\",20.0],[\"Mohamed Meité\",\"Rennes\",16.0],[\"Mateo Mejía\",\"Sevilla\",21.0],[\"Antoine Mendy\",\"Nice\",20.0],[\"Nobel Mendy\",\"Betis\",19.0],[\"Rafik Messali\",\"Toulouse\",21.0],[\"Shumaira Mheuka\",\"Chelsea\",16.0],[\"Lucas Michal\",\"Monaco\",19.0],[\"Florian Micheler\",\"Hoffenheim\",19.0],[\"Igor Miladinović\",\"Saint-Étienne\",21.0],[\"Lewis Miley\",\"Newcastle Utd\",18.0],[\"Lucas Mincarelli\",\"Montpellier\",20.0],[\"Kim Minsu\",\"Girona\",18.0],[\"Yankuba Minteh\",\"Brighton\",20.0],[\"Fabio Miretti\",\"Genoa\",20.0],[\"David Mokwa\",\"Hoffenheim\",20.0],[\"Alberto Moleiro\",\"Las Palmas\",20.0],[\"Mikey Moore\",\"Tottenham\",16.0],[\"Diego Moreira\",\"Strasbourg\",19.0],[\"Matias Moreno\",\"Fiorentina\",20.0],[\"Xavier Moreno\",\"Valladolid\",19.0],[\"Ilaix Moriba\",\"Celta Vigo\",21.0],[\"Raúl Moro\",\"Valladolid\",21.0],[\"Gabriel Moscardo\",\"Reims\",18.0],[\"Cristhian Mosquera\",\"Valencia\",20.0],[\"Yael Mouanga\",\"Montpellier\",19.0],[\"Youssoufa Moukoko\",\"Nice\",19.0],[\"Divin Mubama\",\"Manchester City\",19.0],[\"Ngal'Ayel Mukau\",\"Lille\",19.0],[\"Iker Muñoz\",\"Osasuna\",21.0],[\"Víctor Muñoz\",\"Real Madrid\",21.0],[\"Bob Murphy Omoregbe\",\"Milan\",20.0],[\"Yunus Musah\",\"Milan\",21.0],[\"Jamal Musiala\",\"Bayern Munich\",21.0],[\"Kingstone Mutandwa\",\"Cagliari\",21.0],[\"Junior Mwanga\",\"Le Havre\",21.0],[\"Junior Mwanga\",\"Strasbourg\",21.0],[\"Loïc N'Gatta\",\"Auxerre\",20.0],[\"Djylian N'Guessan\",\"Saint-Étienne\",15.0],[\"Bilal Nadir\",\"Marseille\",20.0],[\"Mahamadou Nagida\",\"Rennes\",19.0],[\"Yael Nandjou\",\"Nice\",19.0],[\"Pau Navarro\",\"Villarreal\",19.0],[\"Junior Ndiaye\",\"Montpellier\",19.0],[\"Wilfried Ndollo\",\"Montpellier\",19.0],[\"Cher Ndour\",\"Fiorentina\",20.0],[\"Paul Nebel\",\"Mainz 05\",21.0],[\"Kosta Nedeljković\",\"Aston Villa\",18.0],[\"Kosta Nedeljković\",\"RB Leipzig\",18.0],[\"Luca Netz\",\"Gladbach\",21.0],[\"João Neves\",\"Paris S-G\",19.0],[\"Mikayil Ngor Faye\",\"Rennes\",20.0],[\"Steve Ngoura\",\"Le Havre\",19.0],[\"Bernard Nguene\",\"Nice\",17.0],[\"Oliver Nielsen\",\"Lazio\",21.0],[\"Eybi Nije\",\"Torino\",19.0],[\"Adrian Niño\",\"Atlético Madrid\",20.0],[\"Brooke Norton-Cuffy\",\"Genoa\",20.0],[\"Hugo Novoa\",\"Alavés\",21.0],[\"Ernest Nuamah\",\"Lyon\",20.0],[\"Gustavo Nunes\",\"Brentford\",18.0],[\"Antonio Nusa\",\"RB Leipzig\",19.0],[\"Ethan Nwaneri\",\"Arsenal\",17.0],[\"Rabby Nzingoula\",\"Montpellier\",18.0],[\"Marwann Nzuzi\",\"Saint-Étienne\",20.0],[\"Adam Obert\",\"Cagliari\",21.0],[\"Chidozie Obi-Martin\",\"Manchester Utd\",16.0],[\"Wilson Odobert\",\"Tottenham\",19.0],[\"David Odogu\",\"Wolfsburg\",18.0],[\"Tim Oermann\",\"Bochum\",20.0],[\"Ifechukwu Ogbus\",\"Freiburg\",18.0],[\"Thiago Ojeda\",\"Villarreal\",21.0],[\"Hamzat Ojediran\",\"Lens\",20.0],[\"Yllan Okou\",\"Hellas Verona\",21.0],[\"Aingeru Olabarrieta\",\"Athletic Club\",18.0],[\"Kazeem Olaigbe\",\"Rennes\",21.0],[\"Ben Old\",\"Saint-Étienne\",21.0],[\"Jacob Ondrejka\",\"Parma\",21.0],[\"Fredrik Oppegard\",\"Auxerre\",21.0],[\"Victor Orakpo\",\"Nice\",18.0],[\"Ike Orazi\",\"Reims\",17.0],[\"Lewis Orford\",\"West Ham\",18.0],[\"Gaetano Oristanio\",\"Venezia\",21.0],[\"Ángel Ortíz\",\"Betis\",20.0],[\"Gabriel Osei Misehouy\",\"Girona\",19.0],[\"William Osula\",\"Newcastle Utd\",20.0],[\"Jibril Othman\",\"Saint-Étienne\",20.0],[\"Sebastian Otoa\",\"Genoa\",20.0],[\"David Otorbi\",\"Valencia\",16.0],[\"Guimissongui Ouattara\",\"Strasbourg\",18.0],[\"Kassoum Ouattara\",\"Monaco\",19.0],[\"Assan Ouedraogo\",\"RB Leipzig\",18.0],[\"Beres Owusu\",\"Saint-Étienne\",20.0],[\"Daniel Oyegoke\",\"Hellas Verona\",21.0],[\"Nico O’Reilly\",\"Manchester City\",19.0],[\"Alex Padilla\",\"Athletic Club\",20.0],[\"Simone Pafundi\",\"Udinese\",18.0],[\"Tomás Palacios\",\"Monza\",21.0],[\"Tomás Palacios\",\"Inter\",21.0],[\"Marco Palestra\",\"Atalanta\",19.0],[\"Matteo Palma\",\"Udinese\",16.0],[\"Mats Pannewig\",\"Bochum\",19.0],[\"Kevin Paredes\",\"Wolfsburg\",21.0],[\"Iago Parente\",\"Valladolid\",18.0],[\"Aleksandar Pavlovic\",\"Bayern Munich\",20.0],[\"Nicolas Pays\",\"Montpellier\",20.0],[\"Nicolás Paz\",\"Como\",19.0],[\"Pedri\",\"Barcelona\",21.0],[\"Kévin Pedro\",\"Saint-Étienne\",18.0],[\"Timothee Pembele\",\"Le Havre\",21.0],[\"Peque\",\"Sevilla\",21.0],[\"Sergiu Perciun\",\"Torino\",18.0],[\"Óscar Perea\",\"Strasbourg\",18.0],[\"Francisco Perez\",\"Valencia\",21.0],[\"Máximo Perrone\",\"Como\",21.0],[\"Noah Pesch\",\"Gladbach\",19.0],[\"Prosper Peter\",\"Angers\",16.0],[\"Valentín Pezzolesi\",\"Las Palmas\",17.0],[\"Yeremi Pino\",\"Villarreal\",21.0],[\"Nicola Pintus\",\"Cagliari\",19.0],[\"Niccolò Pisilli\",\"Roma\",19.0],[\"Damián Pizarro\",\"Udinese\",19.0],[\"Alfie Pond\",\"Wolves\",20.0],[\"Tom Pouilly\",\"Lens\",21.0],[\"Matteo Prati\",\"Cagliari\",20.0],[\"David Preu\",\"Union Berlin\",19.0],[\"Diego Pugno\",\"Juventus\",18.0],[\"Jarell Quansah\",\"Liverpool\",21.0],[\"Leopold Querfeld\",\"Union Berlin\",20.0],[\"Arnau Rafús\",\"Valladolid\",21.0],[\"Antonio Raimondo\",\"Venezia\",20.0],[\"Jacobo Ramón\",\"Real Madrid\",19.0],[\"Grant Ranos\",\"Gladbach\",21.0],[\"Remy Rees-Dottin\",\"Bournemouth\",18.0],[\"Vitor Reis\",\"Manchester City\",18.0],[\"Devyne Rensch\",\"Roma\",21.0],[\"Daniel Requena\",\"Villarreal\",20.0],[\"Guillaume Restes\",\"Toulouse\",19.0],[\"Gio Reyna\",\"Dortmund\",21.0],[\"Chadi Riad\",\"Crystal Palace\",21.0],[\"Alberto Risco\",\"Getafe\",18.0],[\"Gorka Rivera Alonso\",\"Getafe\",19.0],[\"Jay Robinson\",\"Southampton\",17.0],[\"Alejandro Rodriguez\",\"Lyon\",16.0],[\"Álvaro Rodríguez\",\"Getafe\",20.0],[\"Arturo Rodríguez\",\"Las Palmas\",17.0],[\"Damián Rodríguez\",\"Celta Vigo\",21.0],[\"Daniel Rodriguez\",\"Barcelona\",18.0],[\"Javi Rodríguez\",\"Celta Vigo\",21.0],[\"Jesus Rodríguez\",\"Betis\",18.0],[\"Luka Romero\",\"Alavés\",19.0],[\"Vitor Roque\",\"Betis\",19.0],[\"Max Rosenfelder\",\"Freiburg\",21.0],[\"Tom Rothe\",\"Union Berlin\",19.0],[\"Jonas Rouhi\",\"Juventus\",20.0],[\"Jon Rowe\",\"Marseille\",21.0],[\"Tommaso Rubino\",\"Fiorentina\",17.0],[\"Ferrán Ruiz\",\"Girona\",21.0],[\"Richie Sagrado\",\"Venezia\",20.0],[\"Faik Sakar\",\"RB Leipzig\",16.0],[\"Jan Salas\",\"Mallorca\",18.0],[\"Chuky san jose\",\"Valladolid\",20.0],[\"Juanlu Sánchez\",\"Sevilla\",20.0],[\"Nhoa Sangui\",\"Reims\",18.0],[\"Jesús Santiago\",\"Getafe\",20.0],[\"Andrey Santos\",\"Strasbourg\",20.0],[\"Kauã Santos\",\"Eint Frankfurt\",21.0],[\"Mamadou Sarr\",\"Strasbourg\",18.0],[\"Sávio\",\"Manchester City\",20.0],[\"Nicolò Savona\",\"Juventus\",21.0],[\"Joe Scally\",\"Gladbach\",21.0],[\"Giorgio Scalvini\",\"Atalanta\",20.0],[\"Oliver Scarles\",\"West Ham\",18.0],[\"Dane Scarlett\",\"Tottenham\",20.0],[\"Joël Schingtienne\",\"Venezia\",21.0],[\"Alex Scott\",\"Bournemouth\",20.0],[\"Jérémy Sebas\",\"Strasbourg\",21.0],[\"Jacopo Seghetti\",\"Empoli\",19.0],[\"Hiroki Sekine\",\"Reims\",21.0],[\"Nicolás Serrano\",\"Athletic Club\",21.0],[\"Benjamin Šeško\",\"RB Leipzig\",21.0],[\"Armindo Sieb\",\"Mainz 05\",21.0],[\"Zain Silcott-Duberry\",\"Bournemouth\",19.0],[\"Eric da Silva Moreira\",\"Nott'ham Forest\",18.0],[\"Giuliano Simeone\",\"Atlético Madrid\",21.0],[\"Xavi Simons\",\"RB Leipzig\",21.0],[\"Jahmai Simpson-Pusey\",\"Manchester City\",18.0],[\"Ayanda Sishuba\",\"Rennes\",19.0],[\"Niama Sissoko\",\"Reims\",18.0],[\"Justin Smith\",\"Espanyol\",21.0],[\"Arnau Solà\",\"Villarreal\",21.0],[\"Julio Soler\",\"Bournemouth\",19.0],[\"Jhon Solis\",\"Girona\",19.0],[\"Hugo Sotelo\",\"Celta Vigo\",20.0],[\"Matìas Soulé\",\"Roma\",21.0],[\"Jay Stansfield\",\"Fulham\",21.0],[\"Lucas Stassin\",\"Saint-Étienne\",19.0],[\"Orri Steinn Óskarsson\",\"Real Sociedad\",19.0],[\"Enzo Sternal\",\"Marseille\",17.0],[\"Finley Stevens\",\"St. Pauli\",21.0],[\"Luka Sučić\",\"Real Sociedad\",21.0],[\"Ibrahim Sulemana\",\"Atalanta\",21.0],[\"Zion Suzuki\",\"Parma\",21.0],[\"Williot Swedberg\",\"Celta Vigo\",20.0],[\"Abakar Sylla\",\"Strasbourg\",21.0],[\"Axel Tapé\",\"Paris S-G\",16.0],[\"Loum Tchaouna\",\"Lazio\",20.0],[\"Enzo Tchato\",\"Montpellier\",21.0],[\"Martín Tejón\",\"Valencia\",20.0],[\"Mathys Tel\",\"Tottenham\",19.0],[\"Mathys Tel\",\"Bayern Munich\",19.0],[\"Filippo Terracciano\",\"Milan\",21.0],[\"Umut Tohumcu\",\"Hoffenheim\",19.0],[\"Luka Topalović\",\"Inter\",18.0],[\"Pablo Torre\",\"Barcelona\",21.0],[\"David Torres\",\"Valladolid\",21.0],[\"Lorenzo Tosto\",\"Empoli\",18.0],[\"Bazoumana Touré\",\"Hoffenheim\",18.0],[\"Ousmane Toure\",\"Lille\",19.0],[\"Souleymane Touré\",\"Udinese\",21.0],[\"Ryan Trevitt\",\"Brentford\",21.0],[\"Christantus Uche\",\"Getafe\",21.0],[\"Destiny Udogie\",\"Tottenham\",21.0],[\"Lesley Ugochukwu\",\"Southampton\",20.0],[\"Lukas Ullrich\",\"Gladbach\",20.0],[\"Naci Ünüvar\",\"Espanyol\",21.0],[\"Kacper Urbanski\",\"Bologna\",19.0],[\"Kacper Urbanski\",\"Monza\",19.0],[\"Jonas Urbig\",\"Bayern Munich\",20.0],[\"Can Uzun\",\"Eint Frankfurt\",18.0],[\"Álex Valle\",\"Como\",20.0],[\"Robinio Vaz\",\"Marseille\",17.0],[\"Jesus Vazquez\",\"Valencia\",21.0],[\"Danilo Veiga\",\"Lecce\",21.0],[\"Renato Veiga\",\"Chelsea\",21.0],[\"Renato Veiga\",\"Juventus\",21.0],[\"Alejo Véliz\",\"Espanyol\",20.0],[\"Lorenzo Venturino\",\"Genoa\",18.0],[\"Nikolas Veratschnig\",\"Mainz 05\",21.0],[\"Bart Verbruggen\",\"Brighton\",21.0],[\"Arthur Vermeeren\",\"RB Leipzig\",19.0],[\"Ben Viadere\",\"Auxerre\",18.0],[\"Gabriel Vidovic\",\"Mainz 05\",20.0],[\"Gabriel Vidovic\",\"Bayern Munich\",20.0],[\"Sergio Viera\",\"Las Palmas\",19.0],[\"Samuele Vignato\",\"Monza\",20.0],[\"Krapyvtsov Vladyslav\",\"Girona\",19.0],[\"Vanja Vlahović\",\"Atalanta\",20.0],[\"Aster Vranckx\",\"Wolfsburg\",21.0],[\"Robert Wagner\",\"St. Pauli\",21.0],[\"Elye Wahi\",\"Marseille\",21.0],[\"Elye Wahi\",\"Eint Frankfurt\",21.0],[\"Paul Wanner\",\"Heidenheim\",18.0],[\"Kjell-Arik Wätjen\",\"Dortmund\",18.0],[\"Nelson Weiper\",\"Mainz 05\",19.0],[\"Adam Wharton\",\"Crystal Palace\",20.0],[\"Caleb Wiley\",\"Strasbourg\",19.0],[\"Ben Winterburn\",\"Bournemouth\",19.0],[\"Florian Wirtz\",\"Leverkusen\",21.0],[\"Lamine Yamal\",\"Barcelona\",17.0],[\"Daniel Yáñez\",\"Real Madrid\",17.0],[\"Yehor Yarmoliuk\",\"Brentford\",20.0],[\"Kenan Yıldız\",\"Juventus\",19.0],[\"Leny Yoro\",\"Manchester Utd\",18.0],[\"Illia Zabarnyi\",\"Bournemouth\",21.0],[\"Eloge Zabi\",\"Reims\",17.0],[\"Yoram Zague\",\"Paris S-G\",18.0],[\"Warren Zaïre-Emery\",\"Paris S-G\",18.0],[\"Arsen Zakharyan\",\"Real Sociedad\",21.0],[\"Kevin Zeroli\",\"Monza\",19.0],[\"Kevin Zeroli\",\"Milan\",19.0],[\"Nathan Zeze\",\"Nantes\",19.0],[\"Luc Zogbé\",\"Brest\",19.0],[\"Aristide Zossou\",\"Auxerre\",19.0],[\"Edhy Zuliani\",\"Toulouse\",19.0]],\"hovertemplate\":\"PC1=%{x}\\u003cbr\\u003ePC2=%{y}\\u003cbr\\u003ePlayer=%{customdata[0]}\\u003cbr\\u003eSquad=%{customdata[1]}\\u003cbr\\u003eAge=%{customdata[2]}\\u003cbr\\u003eRoleCluster=%{marker.color}\\u003cextra\\u003e\\u003c\\u002fextra\\u003e\",\"legendgroup\":\"\",\"marker\":{\"color\":[1,1,1,1,2,1,1,1,1,1,1,1,1,1,1,1,1,1,1,0,0,1,0,1,1,1,1,1,1,1,0,1,1,1,1,1,0,1,1,1,0,1,0,0,0,1,1,1,1,1,1,1,1,1,2,1,0,0,1,1,1,1,1,0,2,1,0,2,1,1,1,2,1,1,0,1,2,1,2,1,0,0,0,1,0,0,1,2,0,1,1,1,1,0,1,2,1,1,0,1,0,1,0,1,1,0,1,1,1,1,1,1,0,1,1,0,1,1,1,1,1,1,1,1,1,1,1,1,1,0,1,1,2,1,1,1,0,1,1,1,1,1,2,1,1,1,1,1,1,0,1,1,0,1,0,0,0,0,1,1,1,1,1,1,0,0,1,1,0,1,1,2,1,1,1,0,0,1,0,1,1,1,0,1,1,1,1,0,1,1,1,0,1,1,1,0,1,1,2,0,0,1,0,1,1,0,1,1,1,1,1,1,1,1,1,2,1,0,1,1,1,1,0,1,1,1,0,1,1,0,0,1,1,1,0,1,0,1,1,0,1,1,1,1,1,1,1,1,1,1,1,1,1,1,1,2,1,0,1,1,0,0,2,1,0,1,1,1,1,0,1,1,1,1,1,0,1,1,1,1,0,0,1,1,0,1,1,1,0,1,0,1,1,0,0,1,0,1,1,1,1,0,1,1,1,1,1,1,1,0,1,1,0,1,1,1,1,0,1,1,1,1,1,1,1,1,1,1,1,1,1,1,1,1,1,0,0,1,1,1,1,1,1,1,0,1,0,1,1,1,0,1,1,1,0,1,1,1,1,0,1,1,0,1,0,1,0,0,1,1,0,1,1,1,2,1,1,0,1,1,1,1,1,0,0,1,1,1,1,1,1,1,1,1,0,1,1,1,1,0,0,1,1,1,0,1,0,1,1,1,0,1,0,1,1,1,1,1,1,1,1,1,1,1,1,1,1,1,1,1,2,0,1,2,1,0,1,1,0,2,1,0,1,1,1,0,1,1,1,0,2,1,1,1,1,1,1,1,1,1,1,1,1,2,1,1,1,0,1,1,1,1,1,1,1,1,0,1,0,0,0,1,0,1,1,1,0,1,1,1,1,1,1,1,1,1,1,1,1,0,1,1,1,1,1,1,1,1,1,1,1,1,1,1,1,1,1,1,1,1,1,0,1,2,2,1,1,1,1,1,1,0,1,1,1,2,1,0,1,1,1,1,1,1,1,0,1,1,1,1,1,1,1,1,1,1,1,1,1,1,1,0,1,1,1,0,1,1,0,1,0,1,0,1,1,1,1,1,1,0,0,1,2,1,0,0,0,0,1,1,1,1,1,1,1,1,1,2,0,1,1,0,2,1,1,1,1,1,1,1,0,2,1,2,1,1,1,0,1,0,0,1,1,1,0,1,0,1,1,1,1,1,0,1,1,1,1,1,0,0,0,0,1,1,1,1,0,1,1,1,1,1,1,1,1,1,0,0,1,1,1,1,1,1,1,1,1,1,1,0,1,0,0,1,1,2,2,1,0,2,0,0,1,1,0,1,1,1,0,1,1,1],\"coloraxis\":\"coloraxis\",\"symbol\":\"circle\"},\"mode\":\"markers\",\"name\":\"\",\"orientation\":\"v\",\"showlegend\":false,\"x\":[-1.4329866232195667,-1.4065921790315128,-1.6210516361882836,-1.334174093461909,6.500497556005142,-1.6201895797442574,-1.3187936262984903,-1.6111379870819822,-1.5960011379888965,-1.6197585515222446,-0.7682055367971515,-1.6201895797442574,-1.35812860607865,-1.5069095005898343,-1.6085009564272765,-0.8719767328952168,-0.4106113017663208,-1.5121782176278453,-1.5234453446372076,1.6969396069722589,3.6073218253251875,-1.180248449798394,3.1964717968383463,-1.6219136926323101,-1.3960335248872098,-1.3621552155397434,-1.4592540504929603,-0.3706303121956016,-1.6106560975373425,-0.5046220437867425,5.318098821042008,-1.6115181539813688,-1.590783282273512,-1.5429391496300562,0.1079769106074201,-1.364422495054048,4.297130507356638,-1.5753117833322667,-0.6193771511007214,0.09483131207906523,2.30829474571463,-1.3214843657061384,2.3835162608723675,0.8513223162688746,2.2265013647502365,-0.7779461138360355,-1.6067768435392242,-1.6016553661976933,-1.6007424484310404,-1.3592195178490847,-0.9589654041525627,-0.9309593740310063,0.09021832839388082,-1.4909425059884307,7.604102477605913,0.29358477552236467,2.2503084384566394,3.7498449881204055,-1.5933132460115644,-1.5500123227911462,-1.1663674069278083,-1.5150133469770308,-1.178681117466109,0.587445558990926,12.887787544556904,-1.6214826644102973,3.1863152918548527,7.985051963163049,-1.5293485351877372,-1.6206206079662706,-1.3409233053176388,5.95845717360494,-1.6188964950782183,-1.3336277364791242,1.1922773080884534,-1.454597157486968,9.817872376624532,-1.4429457893770947,5.023644454531898,-1.606396676639838,1.7164659599687788,0.19566502248298503,0.1749278810937645,-1.1818844229202805,0.792645462923141,2.580205733318445,-1.6145862128580872,7.437269083264592,4.85906955950279,-0.16519662439966543,-1.581553811373951,-1.6197585515222446,-1.025420021701112,0.17820631986523966,-1.3438134859570714,5.4370812445873495,-1.5640541882372994,-0.06921993794554801,2.1848161728432727,-1.129387125728894,0.4223557376095063,0.4239726232523844,4.1628210067782225,-1.1390422805790692,-1.6193275233002316,4.299539107595861,-1.590783282273512,-1.5998348749357876,-0.8990994112205922,-1.374741607653769,-1.6007424484310404,-1.5972433613323098,5.557632663918994,-1.3441439481622373,-1.2800863174556507,0.7022105962067219,-1.5946571920002306,-1.514105773481778,-1.6128620999700345,-1.3709726086042102,-0.3384718491765932,-1.617603410412179,-1.6184654668562053,-1.199100257531399,-1.393965343678473,-1.458553996489338,-1.617603410412179,0.4559977347920676,0.162172685815862,2.0671184870884716,-1.6219136926323101,-1.608069928205264,6.609787557558274,-1.4740815440072923,-1.4711152077758272,-0.15486557350117153,1.7826067373369883,-1.54158985936999,-0.9303784066300179,-1.6171723821901658,-1.2546076764256437,-1.2702137249737673,10.530177863847701,-1.4498475852007044,-0.8532230095355209,-0.5294933183946953,-1.6219136926323101,-1.1233397407074412,-1.6102250693153293,0.5460451558437304,-1.6201895797442574,-1.527365928043557,1.040165968348774,-1.388041203518849,3.5451959939794127,1.184437739199303,3.1847762735913885,2.1751224697047875,-1.581984839595964,-0.632829296427731,-1.1565525922585207,-1.5994038467137748,-1.1117008220846814,-1.4119815691016955,3.081822640303491,2.698555802888191,-1.6106560975373425,-1.617603410412179,0.7719411234127012,0.30017022399337895,-0.5981196013583697,7.850302754472601,-0.38886121422223213,-0.2079201432071669,0.5652964441035587,3.2228470703372887,3.4704732638232345,-0.14099816275328886,5.103638981719927,-0.8337054013752129,-1.6072078717612373,-1.6180344386341923,2.061649349530144,-0.9534714009042637,-1.6123802104253948,0.323438865998068,-1.6206206079662706,2.6398745711324443,-1.5835521808731425,-1.56917566557883,-1.2710249200951673,1.3650528565554254,-1.6145862128580872,-1.3157148788789719,-0.3455929660875915,2.206671874188788,-1.6163103257461398,-1.6171723821901658,6.914928268349613,3.0004013311950333,2.335361716261807,-0.8157399304530146,2.037788218422069,-1.594277025100844,-1.066392997061765,2.678174774599025,-0.9506300140746063,-1.1654036278385291,-1.6115181539813688,-0.48736991672970786,-1.4103444161149716,-1.6171723821901658,0.047405951545503484,-1.0317422795359532,0.4715336462266016,9.785392367396781,-1.548775443719134,1.4501560641790923,-1.1340222535911968,-0.2967401120067312,-1.376714680558928,-0.7564743050567692,1.8196328370733084,-1.5476646977171884,-1.605103591973798,-1.1661622300574692,1.303392503372656,-0.2935616652463954,-1.1008703357032943,0.18997787710712416,1.9098601217895466,-1.5701903059907358,-1.35294584933088,-0.9457280442022612,5.004562825342199,-1.4464957377984526,2.735773253807603,0.10613476848952262,-1.3568660052607244,4.086743585006949,-1.6115690153039954,-1.18317750758632,-1.2765658532713193,-0.6353353951839925,-1.5835521808731425,-1.1531751778030488,-0.23092045395159255,-1.4853018838951522,-1.4948217599865485,-1.1480081834102915,-1.598541790269748,-1.572725614000188,-1.3103636623664408,-1.018855596119964,-1.6059656484178246,5.364726624907623,-0.5355848759007444,1.154813142915899,-1.6163103257461398,-0.5872022726745565,0.7677529507054145,1.9961439413483355,4.90797014880711,-1.5616247905160943,0.5797451083112581,-1.6219136926323101,0.04114166086582444,0.13291253824438928,-0.4601673135763141,0.8598922303753126,-0.7666594117848327,-1.1535933318782887,-0.38697652232932195,0.9243236997885622,-1.6041906742071455,4.258515533654407,-1.412863846002916,-1.5584508213511283,-0.5362742091609222,-1.5908796606473652,3.5940378149757186,1.578187981153257,-1.6011734766530537,0.41927137595161873,2.7933343984705132,-1.3465266722038094,-1.6171723821901658,-0.5322502202657237,2.463854554232785,-1.6184654668562053,3.531922470147273,-1.399953222124342,-1.6193275233002316,4.186099930201241,3.7365359636705557,-0.06797786402875321,2.5844374940961923,-0.7098609486975456,-1.5994038467137748,-1.6219136926323101,-0.5498636608467876,1.6598753583333374,-1.4894039197963787,-1.1063900459943197,-0.4342161631648182,-1.5531821043131178,-1.5869040282753941,-1.2063260146603687,-0.30664428879274647,0.8271931201916257,-1.3259821282203526,-1.6097940410933165,2.3421721804839217,-0.46503459639238903,-0.8124648925108231,-0.7348080356497915,-1.5515035084762918,0.6952303063297599,-1.592933079112178,-1.4567948980755412,-1.2330834775560244,0.3950829670158645,-1.087800781157509,-1.1348455277414198,0.4743736653337678,-1.6089828459719164,-1.5483845882769471,-0.7995400109733295,-0.9747166150935926,-1.608069928205264,-0.4729596896426007,-1.4308801871926338,-1.5649162446813252,-0.12262753001306619,0.18888550655998995,4.595990360384271,3.7084630324630092,-1.048505706514833,-0.4810719927277067,-1.3310532874822583,-1.355695023039076,0.4246653717235081,-1.2915316566836215,-1.5402967747039509,0.04585068524540034,-1.6193275233002316,1.7020680390863607,-1.6171723821901658,-1.5202365469638146,-1.6167413539681526,0.7241673816012553,-1.5817263453398371,-0.5213664069368328,-1.6210516361882836,1.0561284163696791,-1.5989728184917615,-0.6138655451442783,-1.0317121790966786,-1.617603410412179,3.1120761817955565,-0.05848755870100272,-1.3210587518979275,3.424442135298068,-0.1746335735400354,1.8235589436831394,0.6859623671903506,1.864971847680515,0.43276999115957593,-1.5353573632427007,-1.5140644463981716,1.97995727464835,-1.5474008591896613,-1.5717216621310817,-1.516539361170603,5.462183573159415,-0.040221952877335015,-1.5593637391177813,0.09663294227819723,-1.6171723821901658,-1.6137241564140603,-1.5293030181365106,-0.5495267068113131,-1.5994038467137748,0.519140834487184,0.7986613173825006,-1.5920710226681518,-1.6214826644102973,-1.6214826644102973,0.16108542358689018,-1.600265903157801,-1.594277025100844,-1.0781431702441724,-0.7625804094165411,-0.4150292591470384,1.001017526145223,-1.327276360569904,-1.2293112858253086,-1.588622796892047,-0.30817434268149213,1.6132736215726216,3.193245406959012,-1.022248508599308,-1.0406924110672706,-0.8617385452075021,3.348754082267961,-1.452048243361997,1.588517009614521,-0.7697843009105004,-0.2171977601765241,0.5690365835710137,1.509597363334426,-1.6188964950782183,1.1876562573076588,-0.4853997781491001,-0.18095766095070898,0.4719907466867292,-1.6201895797442574,-1.128230862675723,0.027345294850064386,-1.617603410412179,-0.5849869336734808,-1.42570466049657,-0.7123812556852104,-1.6024210442678668,-1.269080988500818,-1.4749436004513186,-1.6028975895411066,-0.8876190342225156,-0.5519676791199317,-1.6128620999700345,5.4745066671943325,2.6763946764212783,-1.5543841548767043,5.467294205762825,-1.049129637232351,5.2674825904181715,-1.510834271639179,-1.5947080533228573,2.7093226133972252,5.142174117753355,-1.3970640410959978,2.014248210663569,-0.5863990485185003,0.09897357365338809,-1.6020355330970795,0.42262011043514186,-0.33156078062825783,-1.5093644630396337,-1.6210516361882836,1.656661911259069,8.175580668501462,-1.4896335432008831,0.5823629459249688,-1.412356391729682,-1.4831331366695681,-1.3665403809570058,-0.47636213171171377,-0.0941491896401343,-1.3126814626017822,-0.7725391480975635,-1.1744990087890428,-1.3918196210409317,-1.1624000363999554,7.471551141463272,-1.5185927796354155,-0.9842425991142395,0.25389623823674595,4.984971400832582,-0.83404497696316,-1.0758337140786136,-1.6167413539681526,-1.481890913326155,-0.5121991786969214,-1.578187085461279,-1.0543222076232217,-1.3549388745586721,1.4795541548751796,-1.6171723821901658,2.270728641036189,1.6022377911862529,1.7819791680612815,-1.2755956981182277,0.6210254588887073,-1.2811683083724694,-0.10279316771096794,-1.4333857405058716,0.4777900407198253,-1.614155184636074,-1.4770478802387579,-0.05307315094865099,-1.6214826644102973,-1.590828799324739,-0.3485396370717767,-0.8792372873164068,0.8688416184693063,-1.4018445247068807,-1.5401093622276447,-1.6210516361882836,-1.6012243379756803,3.50801332320027,-1.0955840363767266,-0.7733046351173682,-1.1047221387002937,-1.6201895797442574,-1.4198228493562657,-1.6163103257461398,-0.3712756540317705,-0.4990489658948948,-1.5730602638483475,-1.558830988250515,-1.4361001991475113,-0.174126684900406,-1.4839846615881116,-1.3732743760253514,-1.006322145962662,-1.5928822177895516,-1.4259059495475825,-1.611949182203382,-1.1178931431075192,-1.0573052945512678,-1.5587801269278883,0.8391116181200652,-1.035251050917146,8.959644458134282,7.864264742517925,-1.6180344386341923,0.22915258602671226,0.6629995020865789,-1.4982127805575398,-1.5998295306643877,-0.4186821313549677,2.153706824596045,-1.6115181539813688,-1.610706958859969,-1.6197585515222446,6.280543905035307,-1.6206206079662706,1.9590020243416246,-1.6154482693021133,-1.6219136926323101,-1.1080749885304784,-0.8626906000335424,-1.4006086452459554,-1.5936734629129443,-0.9565358494140408,2.1835664599112,-1.5835521808731425,-1.4812152674227217,-0.948249475637007,-1.4801159391154763,-1.6219136926323101,-1.6219136926323101,-0.8157687923597439,-1.6180344386341923,-0.024502553765713916,-0.09927151422468676,-1.525869398087012,-1.503243223796617,-1.605483758873185,-1.3754750341866435,-1.6137241564140603,0.6396250786628646,-1.6132931281920477,-0.0368847429101147,-1.5899158815580856,3.5205987600923976,0.3691082871388687,-1.3293207969835916,2.497488857934473,0.025529565934254986,2.45816867677033,-1.4576652163636856,2.8311930829696603,-1.6106560975373425,-1.6063458153172114,-1.400659506568582,-1.6219136926323101,-1.5513562687798124,0.40163230255645926,3.9105453421999603,0.22216565636336735,-0.7033167628228852,7.978393331077951,-1.284367733473411,0.7852600420470321,4.976869240654527,1.5889578589219011,1.1615652445392353,-1.0700688057693772,-0.9839076788068917,-1.3741016651584597,-0.6316102247083755,-0.12497919979906466,-1.379279627498099,-1.5835521808731425,-0.7224785949378033,-1.5021226730964639,7.988093334288338,1.1083735014976979,-1.6219136926323101,-1.6094138741939295,3.9525296953217954,8.669916304855914,-1.4308769991607273,-1.6210516361882836,-1.5353680517855006,-1.4828174372083267,-1.6167413539681526,-1.617603410412179,-0.2523031820557933,0.7040610875441259,5.111663732690007,-1.6219136926323101,7.466171197646013,1.1357947134510704,-1.4866322237682996,-1.6219136926323101,2.2003950555804344,-0.43462754734054126,0.05681844641257363,3.571197463873191,-0.32319541509839417,-1.3781898334298734,0.3319175600820885,0.4874895337297617,-1.5487700994477336,1.1854264788076017,-0.9990794998315771,-0.8339121272276898,-0.6300239217747597,-1.617603410412179,0.24670312070102557,-0.03429682402784608,-1.6219136926323101,0.31725217196191524,-1.603277756440493,-0.40118061195814864,-1.6206206079662706,5.141743469852668,1.1234138697694822,1.3919471952682607,1.4709149413504643,-1.6007424484310404,-0.5925270472341693,-0.8984597821624158,-1.2872832083822496,1.6814410717774035,-0.3270161530625193,-1.367186542623413,-0.5036609665045839,-1.1848181190641378,-1.2164175420039565,-0.12495109040527029,0.2699698527851097,-0.5803958594171346,-1.1664523676069614,0.6428543109450222,1.3268695272581374,-1.6201895797442574,-1.6011279596018273,-1.5925073951615651,-1.439117396701603,-1.2211967532199375,-1.5447596408919617,-1.5318436704173624,-1.0925172588398033,-1.219651790964073,1.2077446185840892,-1.0922348927526122,2.3266592096313468,-1.6154482693021133,1.863072641877211,1.3764964544375544,-0.9197144899374462,-1.6120000435260085,10.802948415583908,12.969327640583096,-1.6214826644102973,0.6218405983583707,6.21893347571631,0.09724552764343909,2.0311795061932294,-1.5981054177763354,-1.415915872065434,2.2533113795191633,-1.1392552577839694,-0.9013273979962397,-1.600691587108414,0.2191131013493851,-0.8559135169372778,-1.5989674742203617,-1.6184654668562055],\"xaxis\":\"x\",\"y\":[0.17009156650260132,0.13717781777202404,0.43451287419023077,0.01262984333719171,2.5909460276211944,0.4335406035453236,0.07159110539384482,0.42333176177379883,0.4046872784574687,0.43305446822287,0.48842625469707257,0.4335406035453236,0.36267137137008,0.3376421601119324,0.4187852028086221,-0.5632105277887255,0.28220265180350723,0.3038580377796558,0.38550097397155014,-0.20918148756422733,0.4819569634214262,0.41744868852295297,-0.3936612282525176,0.4354851448351379,0.20944588818045617,0.14282161268410196,0.19391685234584186,1.0170819974089838,0.4212158794208897,-0.7372888110149568,-3.4999779730848792,0.42218815006579696,0.4401011478202008,0.3861401270278554,-0.8623770944684611,0.244294454504934,0.3798033071423119,0.3813527829796977,-0.39280607534727463,-1.3176962152398901,-0.008730937756012353,0.4118310506979966,-2.7442971529005504,-1.6728966613766867,-0.8114327693349789,-0.43306428636843114,0.4168406615188077,0.41263678467982035,0.4100347670044579,0.18975462154643674,-0.30237674248298346,-0.43445803533400074,-0.9572232161910327,0.19887544757056752,0.15924710131741865,-0.03263164730507288,-1.9395390212560883,-2.296868498065002,0.39851097246183625,0.3862556923572885,-0.228943104195123,0.47225095796553007,0.21901093706068758,-1.138866863058482,5.6946185190600715,0.4349990095126843,-2.465573228424404,4.257240899388957,0.3587219750835491,0.4340267388677772,0.058396007667712656,3.2656750572211632,0.4320821975779629,-0.06901825139412561,-2.463838741834119,0.2310533047410547,1.2237060141618405,0.1400251856868557,1.196638640197678,0.4179842732268097,-2.813912830056618,-1.2276552968639134,-1.371047825972783,-0.2114422325867948,-1.6688481939813669,-3.640173419175118,0.4272208443534273,6.264542248060484,-1.1455183797841935,-0.3578576575874712,0.4191740961308855,0.43305446822287,-0.40629016438505183,-1.8493232454273851,0.052710492037552625,1.7701854731286584,0.36708351756544977,-0.9363760292260519,0.43941292124289283,0.7186836770431478,-1.0330423272927827,0.13043544745361235,0.008208937675393326,0.6972196237922865,0.4325683329004165,-0.12760960744204775,0.4401011478202008,0.4503099895917256,0.6991964263571492,0.059956310678281964,0.4100347670044579,0.40451593739437375,-3.0811730787386375,0.06831794304670946,0.4406475221710605,-0.7443059946987449,0.4015991254596525,0.5125261805527979,0.42527630306361314,0.28404223466154666,-0.9593788986514074,0.43062379161060227,0.4315960622555094,-0.19782578851507632,0.11399143053353217,0.251239857625238,0.43062379161060227,1.0016427648828106,-0.08010598904862246,-1.8032905474915024,0.4354851448351379,0.4182990674861683,1.6862716839420937,0.17828642296442315,0.17651322273770365,-1.2631032959659043,-0.16051991016590078,0.340174733767409,-0.437657236302736,0.4301376562881486,-0.07711577596923327,0.3737506766298303,0.6834964675755313,0.19068059110874305,0.5695742014816348,0.3760682353035731,0.4354851448351379,-0.11226994353681008,0.4207297440984362,-1.5023584455809569,0.4335406035453236,0.32413226812644136,-1.3537050967331916,0.33564667790452896,-3.4881463112841726,-2.134260679317559,-0.12119690043068063,-2.953596119056946,0.41966023145333914,-0.39162140557592545,0.8350646828829831,0.44982385426927196,-0.14377640699067062,0.22743289511123796,-0.9971332463599843,-3.3907371986906396,0.4212158794208897,0.43062379161060227,-1.2296110188778615,-0.046335360636212616,0.06908780927963787,2.048330484836381,-0.3654936462028535,0.26354576957280335,0.3167046386502117,0.25799909468270865,2.633409219564525,0.8532123336877868,-1.5203716411338248,0.07114870103009066,0.4173267968412613,0.43110992693305583,-1.3491849522375163,0.8762427049120208,0.4231604207107041,0.7772932789939115,0.4340267388677772,-1.407396057377905,0.3922191011367709,0.3712873944044368,0.3730932002442819,0.995523151470602,0.4272208443534273,-0.019196069419046162,-0.9497815711142107,0.2186105041199647,0.4291653856432415,0.4301376562881486,1.1802268542675016,-3.8287725369411976,-3.2131814081906795,-0.08030492087919688,0.4067464195094488,0.4027427371676544,-0.3542783399255396,2.7280013307313937,-0.4275138461628099,-0.23317486890094105,0.42218815006579696,1.2410611949396642,0.13246457278676751,0.4301376562881486,0.3083400228045249,-0.350481340806678,0.28000136430492656,6.241503117283945,0.4293042736830136,0.11849809727059829,0.3220302066495599,0.7609588113807889,0.22737696021924933,0.7329452137940718,-3.367710456624474,0.4530323175260668,0.41652586725944885,0.8548481228642965,0.8367256688838912,0.09752182544577825,0.2083250685031382,-1.5223579946858066,1.0373367919326717,0.3771489061407105,0.4612596897144901,0.7675103761642351,-2.8447985376115894,0.14717376232739518,0.7716013432762133,0.4047118793275329,0.03350577433586406,1.3404109824319743,0.42381789709625245,-0.2099838266194341,0.26361973151045515,-0.5394130247177557,0.3922191011367709,0.7957570758976039,-1.238398161869902,0.2688284066961686,0.20325066547264953,0.8328006922907916,0.44885158362436484,0.37843597104497645,0.12208007384051009,0.5295424235828889,0.417498137904356,1.6684557090600678,-0.47060337535336066,-1.280609428231922,0.4291653856432415,0.5120447000168434,-2.67166245183547,-0.42294673844284125,1.8479500740877628,0.39355237723711073,-1.9058001217656066,0.4354851448351379,0.6214228149195147,1.2546947249994702,0.4302380916519809,0.0901657001557063,-0.04763601066146295,-0.21414149226234733,-1.0783470345245705,0.4915162103177977,0.41392384958408646,-1.870917236494187,0.38153331705905197,0.36076375837355346,1.059431620874602,0.4004834016184814,0.4081931883928422,-2.3423805042964387,0.4105209023269114,-0.32492826449110507,-2.4507516114925596,0.06471576685960895,0.4301376562881486,-0.5673022869607092,-4.500768150955234,0.4315960622555094,0.013597915784566908,0.3198727953268462,0.4325683329004165,-2.9821765030936715,-1.0820577318224318,0.11616606962074395,1.24273057432961,-0.12301461905704557,0.44982385426927196,0.4354851448351379,0.7098700065015788,2.0343543125757293,0.40444176365297263,0.6880292638617429,-0.874433562485771,0.39454788070583,0.4357259299181187,-0.19282098209427675,-0.2790037970624103,-1.57751215665275,0.1528686301321418,0.4202436087759827,-1.8918733737199787,-0.21002221992706357,0.6622406726063139,-0.721061054389869,0.3513558461838408,-1.7837078488908713,0.39965458416983834,0.20008850329845537,0.05438238860399443,-0.25924218471970756,0.841203880812274,-0.14717054765821225,-0.5150925699506458,0.42090108516153096,0.34469340486575495,-0.4561206342453298,-0.015478424357563478,0.4182990674861683,-0.3404195141400968,0.3087378042199614,0.36805578821035684,0.1828883587021631,-0.6228447351279089,-2.8563242109755715,-1.8485723843881776,-0.3086553797464286,-0.924817004882634,0.33559099205739434,0.1644391871652193,0.7364949452956576,0.406943704951359,0.3387163278000482,-1.528130959348442,0.4325683329004165,-2.5919510862149515,0.4301376562881486,0.4797143288654285,0.42965152096569514,-0.255173676659614,0.38701506578604555,-0.8302101915100003,0.43451287419023066,0.10805876263479482,0.4493377189468184,-0.6294206074279174,0.5656431339310433,0.43062379161060227,-0.8026651633656287,-1.1297246767666547,0.11230650115234612,0.6592691027307657,-0.6823285874172277,-1.2071892122654795,0.5076866881027056,-2.1513794137379296,-1.2831566462381845,0.3697270913938675,0.37806549093848285,-2.7769530457666884,0.3775099115961432,0.4583289398339634,0.3103491380346469,1.3767589796379607,-0.03226291859301184,0.36336577604891585,-1.5858882267183905,0.4301376562881486,0.4262485737085202,0.3999694683157239,0.515850717785607,0.44982385426927196,-1.7793977374232153,-2.070650122313212,0.3986823135249312,0.4349990095126843,0.4349990095126843,0.687311514439494,0.45079612491417914,0.4027427371676544,-0.25213871163312174,-0.2778197492162109,0.9561157686925328,-0.6862242159420467,0.3985867276259506,0.49655313174846566,0.3947932309453026,-0.7097717609692513,-2.614464310811241,-2.2782993609526656,0.675727862447648,0.07252331142188266,0.7801545970862916,-1.0210645728655587,0.151863774488836,0.13424427175450407,-0.5859472465901929,-1.4449639952831363,0.9587622661228568,0.6253560314514672,0.4320821975779629,0.9471281240041712,-0.22688340795294262,0.8920691877413124,1.56365043987064,0.4335406035453236,0.7836592141183762,1.292735414565389,0.43062379161060227,-0.6976941330720264,0.12057977278871324,0.07141229992031013,0.45322680152644684,0.38773718179146854,0.17925869360933025,0.4124654436167257,0.5536890218881791,0.29461563156544407,0.42527630306361314,0.708741664090415,0.29883063500521634,0.47850127313754043,-0.03185214793090845,0.21488754510732935,-1.3621791162365984,0.3007698847818397,0.403228872490108,-3.257342209560395,0.3215369444163332,0.16773033391021677,-3.4589447671843345,-0.9324052932865519,1.42210449783483,0.41149317297181853,-1.5145918471182611,-0.4611480569714879,0.5071786920058086,0.43451287419023066,-1.9943979723665415,3.8594302184129003,0.44519872097122554,-0.07126620447261621,0.18341204314060575,0.18849526473594794,0.32299784943469906,0.07334420886381461,0.837109575056799,0.37692189443851143,-0.6742713395654711,0.2416188564711013,0.16496678875420123,-0.1586753508101631,1.9738806745596262,0.30952032058600376,-0.10678838655809074,-0.7021217416980092,-0.44276110515771705,-0.4381342684954567,0.4465783608574425,0.42965152096569514,0.18866660579904262,0.5774910683390863,0.4656209696707667,-0.0522341748606602,0.391427454457745,0.6347195959075072,0.4301376562881486,0.5876467947840419,1.137884982825586,-2.780082746129484,-0.10526084831897393,-1.0054973468868103,0.23879429256217033,0.3976023886605278,0.28972766040517983,-1.2288975966334212,0.4267347090309738,0.18005962319114255,-0.6770333436234678,0.4349990095126843,0.3988536545880259,0.21057363875326593,0.21935833693317194,2.1825041214403997,0.2467810660091904,0.4608290604661173,0.43451287419023066,0.41215064935736684,-0.16177645771272495,0.11683148339492022,0.6791537608938337,0.7305917098650143,0.4335406035453236,0.11866311936572983,0.4291653856432415,0.22309001290618116,-0.3172842475922515,0.4185398525691492,0.35962014666555137,0.1338767675580542,0.9643896011218835,0.2799218416499981,0.4102523344716572,-0.4696176311005812,0.39802483713938275,0.2665459282097103,0.4226742853882504,0.11100058223918202,0.15624984150838692,0.35799039963509593,-1.644837911373884,0.299029173098468,0.041879108627880864,-3.5076839521710266,0.43110992693305583,-0.6648327695564974,0.11930242768539656,0.3204607378059818,0.40743274932909523,-0.11142317615140564,-2.672264991484643,0.42218815006579696,0.4228456264513452,0.43305446822287,-1.4058662699243336,0.4340267388677772,-1.21976065433013,0.42819311499833446,0.4354851448351379,0.03179272325102385,-0.29066835760761633,0.132001670288126,0.4344156321900407,-0.4521166696057261,-1.8154236699417958,0.3922191011367709,0.423614192896362,0.5007185529814348,0.185092317478773,0.4354851448351379,0.4354851448351379,0.13746216924867732,0.43110992693305583,-1.2453899765676302,0.1068674613315809,0.3161548740372589,0.40715960110931854,0.41538225555144703,0.37143551785175016,0.4262485737085202,-0.5509815551417552,0.42576243838606653,-1.4445345161187733,0.3962516369126633,-2.0855131012327983,0.659100949637983,0.4848582030990539,1.297704537100852,-0.49711989562251985,-0.35845365326905265,0.23608599902868513,1.0888427921583408,0.4212158794208897,0.4163545261963541,0.1336314173185815,0.4354851448351379,0.3893438453551046,0.8330585394114197,-0.5794611655888519,-1.2526225111306986,-1.070181840671674,0.2522519564939777,0.0532114403235437,-2.038858457374327,-0.35210556057626985,-1.3384047115765882,-2.846647925293605,-0.35642211014527936,-0.33706869082137714,0.4221898061670061,-0.8724620368890769,-1.0461619562348916,0.43519821125935904,0.3922191011367709,-0.627870841786687,0.37354216479711794,4.5852494143402724,0.6854705770221533,0.4354851448351379,0.4213872204839846,-0.6540835660820323,1.479903350533875,0.12641339665815596,0.43451287419023066,0.45548157191912825,0.269171088822358,0.42965152096569514,0.43062379161060227,-0.33816803912716925,-2.1601091102933863,0.438054744480798,0.4354851448351379,3.9670976381249687,1.6729251494191708,0.1940140943460319,0.4354851448351379,-1.2017669840330754,0.7759536138380372,-1.6356610545988597,1.7483660656363196,-0.27591868469006525,0.06384539325791046,-0.2028417122011948,-1.8063300911026066,0.38642703342038337,0.4426798357083279,0.3570707140337668,-0.631723314389682,-0.5397171170427524,0.43062379161060227,1.2975920563556347,-1.7385769041866477,0.4354851448351379,0.0818186920825895,0.4113218319087238,-0.2266062097926324,0.4340267388677772,-0.8743060298026344,-2.18020954884606,-1.9554032635881724,-1.2480399883209985,0.4100347670044579,0.12067989640441538,-0.46331640760092924,0.053354893519807614,1.450926966375742,-0.9372899119248465,0.25792947635744584,-0.9010241242647354,0.2574853260059554,-0.17092165976005436,-0.7977299183798015,-0.1046644652120745,1.1384030953712476,-0.006310931136200179,-2.298676046139556,-2.6621503007110863,0.4335406035453236,0.4517683955590862,0.44204568911001496,0.1372797148152292,0.07598524000810122,0.3484669221159504,0.44413377348262,-0.2819362603407257,-0.08309725903310462,1.8482794701762906,0.28855606437529624,0.03888645100995145,0.42819311499833446,1.3793151706860889,-1.6744184980745955,0.026849659370036784,0.4243040324187059,1.9381062125355906,2.0835948294256292,0.4349990095126843,-2.212166975977252,0.963860405305831,-1.7208357089031936,-3.2606816544871724,0.40548820803928104,0.2579342905587916,-1.997834429356045,0.7711122826917549,0.3543994321115718,0.4084050199740024,-2.127430620979675,-0.4861507073339673,0.40646047868418805,0.4315960622555092],\"yaxis\":\"y\",\"type\":\"scatter\"}],                        {\"template\":{\"data\":{\"histogram2dcontour\":[{\"type\":\"histogram2dcontour\",\"colorbar\":{\"outlinewidth\":0,\"ticks\":\"\"},\"colorscale\":[[0.0,\"#0d0887\"],[0.1111111111111111,\"#46039f\"],[0.2222222222222222,\"#7201a8\"],[0.3333333333333333,\"#9c179e\"],[0.4444444444444444,\"#bd3786\"],[0.5555555555555556,\"#d8576b\"],[0.6666666666666666,\"#ed7953\"],[0.7777777777777778,\"#fb9f3a\"],[0.8888888888888888,\"#fdca26\"],[1.0,\"#f0f921\"]]}],\"choropleth\":[{\"type\":\"choropleth\",\"colorbar\":{\"outlinewidth\":0,\"ticks\":\"\"}}],\"histogram2d\":[{\"type\":\"histogram2d\",\"colorbar\":{\"outlinewidth\":0,\"ticks\":\"\"},\"colorscale\":[[0.0,\"#0d0887\"],[0.1111111111111111,\"#46039f\"],[0.2222222222222222,\"#7201a8\"],[0.3333333333333333,\"#9c179e\"],[0.4444444444444444,\"#bd3786\"],[0.5555555555555556,\"#d8576b\"],[0.6666666666666666,\"#ed7953\"],[0.7777777777777778,\"#fb9f3a\"],[0.8888888888888888,\"#fdca26\"],[1.0,\"#f0f921\"]]}],\"heatmap\":[{\"type\":\"heatmap\",\"colorbar\":{\"outlinewidth\":0,\"ticks\":\"\"},\"colorscale\":[[0.0,\"#0d0887\"],[0.1111111111111111,\"#46039f\"],[0.2222222222222222,\"#7201a8\"],[0.3333333333333333,\"#9c179e\"],[0.4444444444444444,\"#bd3786\"],[0.5555555555555556,\"#d8576b\"],[0.6666666666666666,\"#ed7953\"],[0.7777777777777778,\"#fb9f3a\"],[0.8888888888888888,\"#fdca26\"],[1.0,\"#f0f921\"]]}],\"heatmapgl\":[{\"type\":\"heatmapgl\",\"colorbar\":{\"outlinewidth\":0,\"ticks\":\"\"},\"colorscale\":[[0.0,\"#0d0887\"],[0.1111111111111111,\"#46039f\"],[0.2222222222222222,\"#7201a8\"],[0.3333333333333333,\"#9c179e\"],[0.4444444444444444,\"#bd3786\"],[0.5555555555555556,\"#d8576b\"],[0.6666666666666666,\"#ed7953\"],[0.7777777777777778,\"#fb9f3a\"],[0.8888888888888888,\"#fdca26\"],[1.0,\"#f0f921\"]]}],\"contourcarpet\":[{\"type\":\"contourcarpet\",\"colorbar\":{\"outlinewidth\":0,\"ticks\":\"\"}}],\"contour\":[{\"type\":\"contour\",\"colorbar\":{\"outlinewidth\":0,\"ticks\":\"\"},\"colorscale\":[[0.0,\"#0d0887\"],[0.1111111111111111,\"#46039f\"],[0.2222222222222222,\"#7201a8\"],[0.3333333333333333,\"#9c179e\"],[0.4444444444444444,\"#bd3786\"],[0.5555555555555556,\"#d8576b\"],[0.6666666666666666,\"#ed7953\"],[0.7777777777777778,\"#fb9f3a\"],[0.8888888888888888,\"#fdca26\"],[1.0,\"#f0f921\"]]}],\"surface\":[{\"type\":\"surface\",\"colorbar\":{\"outlinewidth\":0,\"ticks\":\"\"},\"colorscale\":[[0.0,\"#0d0887\"],[0.1111111111111111,\"#46039f\"],[0.2222222222222222,\"#7201a8\"],[0.3333333333333333,\"#9c179e\"],[0.4444444444444444,\"#bd3786\"],[0.5555555555555556,\"#d8576b\"],[0.6666666666666666,\"#ed7953\"],[0.7777777777777778,\"#fb9f3a\"],[0.8888888888888888,\"#fdca26\"],[1.0,\"#f0f921\"]]}],\"mesh3d\":[{\"type\":\"mesh3d\",\"colorbar\":{\"outlinewidth\":0,\"ticks\":\"\"}}],\"scatter\":[{\"fillpattern\":{\"fillmode\":\"overlay\",\"size\":10,\"solidity\":0.2},\"type\":\"scatter\"}],\"parcoords\":[{\"type\":\"parcoords\",\"line\":{\"colorbar\":{\"outlinewidth\":0,\"ticks\":\"\"}}}],\"scatterpolargl\":[{\"type\":\"scatterpolargl\",\"marker\":{\"colorbar\":{\"outlinewidth\":0,\"ticks\":\"\"}}}],\"bar\":[{\"error_x\":{\"color\":\"#2a3f5f\"},\"error_y\":{\"color\":\"#2a3f5f\"},\"marker\":{\"line\":{\"color\":\"#E5ECF6\",\"width\":0.5},\"pattern\":{\"fillmode\":\"overlay\",\"size\":10,\"solidity\":0.2}},\"type\":\"bar\"}],\"scattergeo\":[{\"type\":\"scattergeo\",\"marker\":{\"colorbar\":{\"outlinewidth\":0,\"ticks\":\"\"}}}],\"scatterpolar\":[{\"type\":\"scatterpolar\",\"marker\":{\"colorbar\":{\"outlinewidth\":0,\"ticks\":\"\"}}}],\"histogram\":[{\"marker\":{\"pattern\":{\"fillmode\":\"overlay\",\"size\":10,\"solidity\":0.2}},\"type\":\"histogram\"}],\"scattergl\":[{\"type\":\"scattergl\",\"marker\":{\"colorbar\":{\"outlinewidth\":0,\"ticks\":\"\"}}}],\"scatter3d\":[{\"type\":\"scatter3d\",\"line\":{\"colorbar\":{\"outlinewidth\":0,\"ticks\":\"\"}},\"marker\":{\"colorbar\":{\"outlinewidth\":0,\"ticks\":\"\"}}}],\"scattermapbox\":[{\"type\":\"scattermapbox\",\"marker\":{\"colorbar\":{\"outlinewidth\":0,\"ticks\":\"\"}}}],\"scatterternary\":[{\"type\":\"scatterternary\",\"marker\":{\"colorbar\":{\"outlinewidth\":0,\"ticks\":\"\"}}}],\"scattercarpet\":[{\"type\":\"scattercarpet\",\"marker\":{\"colorbar\":{\"outlinewidth\":0,\"ticks\":\"\"}}}],\"carpet\":[{\"aaxis\":{\"endlinecolor\":\"#2a3f5f\",\"gridcolor\":\"white\",\"linecolor\":\"white\",\"minorgridcolor\":\"white\",\"startlinecolor\":\"#2a3f5f\"},\"baxis\":{\"endlinecolor\":\"#2a3f5f\",\"gridcolor\":\"white\",\"linecolor\":\"white\",\"minorgridcolor\":\"white\",\"startlinecolor\":\"#2a3f5f\"},\"type\":\"carpet\"}],\"table\":[{\"cells\":{\"fill\":{\"color\":\"#EBF0F8\"},\"line\":{\"color\":\"white\"}},\"header\":{\"fill\":{\"color\":\"#C8D4E3\"},\"line\":{\"color\":\"white\"}},\"type\":\"table\"}],\"barpolar\":[{\"marker\":{\"line\":{\"color\":\"#E5ECF6\",\"width\":0.5},\"pattern\":{\"fillmode\":\"overlay\",\"size\":10,\"solidity\":0.2}},\"type\":\"barpolar\"}],\"pie\":[{\"automargin\":true,\"type\":\"pie\"}]},\"layout\":{\"autotypenumbers\":\"strict\",\"colorway\":[\"#636efa\",\"#EF553B\",\"#00cc96\",\"#ab63fa\",\"#FFA15A\",\"#19d3f3\",\"#FF6692\",\"#B6E880\",\"#FF97FF\",\"#FECB52\"],\"font\":{\"color\":\"#2a3f5f\"},\"hovermode\":\"closest\",\"hoverlabel\":{\"align\":\"left\"},\"paper_bgcolor\":\"white\",\"plot_bgcolor\":\"#E5ECF6\",\"polar\":{\"bgcolor\":\"#E5ECF6\",\"angularaxis\":{\"gridcolor\":\"white\",\"linecolor\":\"white\",\"ticks\":\"\"},\"radialaxis\":{\"gridcolor\":\"white\",\"linecolor\":\"white\",\"ticks\":\"\"}},\"ternary\":{\"bgcolor\":\"#E5ECF6\",\"aaxis\":{\"gridcolor\":\"white\",\"linecolor\":\"white\",\"ticks\":\"\"},\"baxis\":{\"gridcolor\":\"white\",\"linecolor\":\"white\",\"ticks\":\"\"},\"caxis\":{\"gridcolor\":\"white\",\"linecolor\":\"white\",\"ticks\":\"\"}},\"coloraxis\":{\"colorbar\":{\"outlinewidth\":0,\"ticks\":\"\"}},\"colorscale\":{\"sequential\":[[0.0,\"#0d0887\"],[0.1111111111111111,\"#46039f\"],[0.2222222222222222,\"#7201a8\"],[0.3333333333333333,\"#9c179e\"],[0.4444444444444444,\"#bd3786\"],[0.5555555555555556,\"#d8576b\"],[0.6666666666666666,\"#ed7953\"],[0.7777777777777778,\"#fb9f3a\"],[0.8888888888888888,\"#fdca26\"],[1.0,\"#f0f921\"]],\"sequentialminus\":[[0.0,\"#0d0887\"],[0.1111111111111111,\"#46039f\"],[0.2222222222222222,\"#7201a8\"],[0.3333333333333333,\"#9c179e\"],[0.4444444444444444,\"#bd3786\"],[0.5555555555555556,\"#d8576b\"],[0.6666666666666666,\"#ed7953\"],[0.7777777777777778,\"#fb9f3a\"],[0.8888888888888888,\"#fdca26\"],[1.0,\"#f0f921\"]],\"diverging\":[[0,\"#8e0152\"],[0.1,\"#c51b7d\"],[0.2,\"#de77ae\"],[0.3,\"#f1b6da\"],[0.4,\"#fde0ef\"],[0.5,\"#f7f7f7\"],[0.6,\"#e6f5d0\"],[0.7,\"#b8e186\"],[0.8,\"#7fbc41\"],[0.9,\"#4d9221\"],[1,\"#276419\"]]},\"xaxis\":{\"gridcolor\":\"white\",\"linecolor\":\"white\",\"ticks\":\"\",\"title\":{\"standoff\":15},\"zerolinecolor\":\"white\",\"automargin\":true,\"zerolinewidth\":2},\"yaxis\":{\"gridcolor\":\"white\",\"linecolor\":\"white\",\"ticks\":\"\",\"title\":{\"standoff\":15},\"zerolinecolor\":\"white\",\"automargin\":true,\"zerolinewidth\":2},\"scene\":{\"xaxis\":{\"backgroundcolor\":\"#E5ECF6\",\"gridcolor\":\"white\",\"linecolor\":\"white\",\"showbackground\":true,\"ticks\":\"\",\"zerolinecolor\":\"white\",\"gridwidth\":2},\"yaxis\":{\"backgroundcolor\":\"#E5ECF6\",\"gridcolor\":\"white\",\"linecolor\":\"white\",\"showbackground\":true,\"ticks\":\"\",\"zerolinecolor\":\"white\",\"gridwidth\":2},\"zaxis\":{\"backgroundcolor\":\"#E5ECF6\",\"gridcolor\":\"white\",\"linecolor\":\"white\",\"showbackground\":true,\"ticks\":\"\",\"zerolinecolor\":\"white\",\"gridwidth\":2}},\"shapedefaults\":{\"line\":{\"color\":\"#2a3f5f\"}},\"annotationdefaults\":{\"arrowcolor\":\"#2a3f5f\",\"arrowhead\":0,\"arrowwidth\":1},\"geo\":{\"bgcolor\":\"white\",\"landcolor\":\"#E5ECF6\",\"subunitcolor\":\"white\",\"showland\":true,\"showlakes\":true,\"lakecolor\":\"white\"},\"title\":{\"x\":0.05},\"mapbox\":{\"style\":\"light\"}}},\"xaxis\":{\"anchor\":\"y\",\"domain\":[0.0,1.0],\"title\":{\"text\":\"PC1\"}},\"yaxis\":{\"anchor\":\"x\",\"domain\":[0.0,1.0],\"title\":{\"text\":\"PC2\"}},\"coloraxis\":{\"colorbar\":{\"title\":{\"text\":\"RoleCluster\"}},\"colorscale\":[[0.0,\"#0d0887\"],[0.1111111111111111,\"#46039f\"],[0.2222222222222222,\"#7201a8\"],[0.3333333333333333,\"#9c179e\"],[0.4444444444444444,\"#bd3786\"],[0.5555555555555556,\"#d8576b\"],[0.6666666666666666,\"#ed7953\"],[0.7777777777777778,\"#fb9f3a\"],[0.8888888888888888,\"#fdca26\"],[1.0,\"#f0f921\"]]},\"legend\":{\"tracegroupgap\":0},\"title\":{\"text\":\"Young Players Role Clustering Based on Performance Stats\"}},                        {\"responsive\": true}                    ).then(function(){\n",
       "                            \n",
       "var gd = document.getElementById('74128fc6-a79e-4e41-a748-a91164d0d51a');\n",
       "var x = new MutationObserver(function (mutations, observer) {{\n",
       "        var display = window.getComputedStyle(gd).display;\n",
       "        if (!display || display === 'none') {{\n",
       "            console.log([gd, 'removed!']);\n",
       "            Plotly.purge(gd);\n",
       "            observer.disconnect();\n",
       "        }}\n",
       "}});\n",
       "\n",
       "// Listen for the removal of the full notebook cells\n",
       "var notebookContainer = gd.closest('#notebook-container');\n",
       "if (notebookContainer) {{\n",
       "    x.observe(notebookContainer, {childList: true});\n",
       "}}\n",
       "\n",
       "// Listen for the clearing of the current output cell\n",
       "var outputEl = gd.closest('.output');\n",
       "if (outputEl) {{\n",
       "    x.observe(outputEl, {childList: true});\n",
       "}}\n",
       "\n",
       "                        })                };                            </script>        </div>\n",
       "</body>\n",
       "</html>"
      ]
     },
     "metadata": {},
     "output_type": "display_data"
    }
   ],
   "source": [
    "from sklearn.preprocessing import StandardScaler\n",
    "from sklearn.cluster import KMeans\n",
    "from sklearn.decomposition import PCA\n",
    "\n",
    "# Select role features\n",
    "features = [\n",
    "    'Gls', 'G-PK', 'xG', 'Ast', 'xAG', 'PrgP', 'CrdY', 'Min'\n",
    "]\n",
    "\n",
    "# Get young players data\n",
    "young_players = df_cleaned[df_cleaned['Age'] <= age_threshold].copy()\n",
    "\n",
    "# Filter and drop NA\n",
    "X = young_players[features].fillna(0)\n",
    "\n",
    "# Standardization\n",
    "scaler = StandardScaler()\n",
    "X_scaled = scaler.fit_transform(X)\n",
    "\n",
    "kmeans = KMeans(n_clusters=3, random_state=42)\n",
    "young_players['RoleCluster'] = kmeans.fit_predict(X_scaled)\n",
    "\n",
    "pca = PCA(n_components=2)\n",
    "pca_result = pca.fit_transform(X_scaled)\n",
    "young_players['PC1'] = pca_result[:, 0]\n",
    "young_players['PC2'] = pca_result[:, 1]\n",
    "\n",
    "fig = px.scatter(\n",
    "    young_players,\n",
    "    x='PC1', y='PC2',\n",
    "    color='RoleCluster',\n",
    "    hover_data=['Player', 'Squad', 'Age'],\n",
    "    title='Young Players Role Clustering Based on Performance Stats'\n",
    ")\n",
    "fig.show()"
   ]
  },
  {
   "cell_type": "code",
   "execution_count": 37,
   "id": "b9efe8a9",
   "metadata": {
    "_cell_guid": "94c34aa8-e068-4431-b286-66c2241fbade",
    "_uuid": "49809244-1bcd-4216-8fec-2a348511e7c9",
    "collapsed": false,
    "execution": {
     "iopub.execute_input": "2025-07-05T04:56:06.965151Z",
     "iopub.status.busy": "2025-07-05T04:56:06.964234Z",
     "iopub.status.idle": "2025-07-05T04:56:07.055707Z",
     "shell.execute_reply": "2025-07-05T04:56:07.054720Z"
    },
    "jupyter": {
     "outputs_hidden": false
    },
    "papermill": {
     "duration": 0.121132,
     "end_time": "2025-07-05T04:56:07.057628",
     "exception": false,
     "start_time": "2025-07-05T04:56:06.936496",
     "status": "completed"
    },
    "tags": []
   },
   "outputs": [
    {
     "data": {
      "text/html": [
       "<div>\n",
       "<style scoped>\n",
       "    .dataframe tbody tr th:only-of-type {\n",
       "        vertical-align: middle;\n",
       "    }\n",
       "\n",
       "    .dataframe tbody tr th {\n",
       "        vertical-align: top;\n",
       "    }\n",
       "\n",
       "    .dataframe thead th {\n",
       "        text-align: right;\n",
       "    }\n",
       "</style>\n",
       "<table border=\"1\" class=\"dataframe\">\n",
       "  <thead>\n",
       "    <tr style=\"text-align: right;\">\n",
       "      <th></th>\n",
       "      <th>Gls</th>\n",
       "      <th>G-PK</th>\n",
       "      <th>xG</th>\n",
       "      <th>Ast</th>\n",
       "      <th>xAG</th>\n",
       "      <th>PrgP</th>\n",
       "      <th>CrdY</th>\n",
       "      <th>Min</th>\n",
       "    </tr>\n",
       "    <tr>\n",
       "      <th>RoleCluster</th>\n",
       "      <th></th>\n",
       "      <th></th>\n",
       "      <th></th>\n",
       "      <th></th>\n",
       "      <th></th>\n",
       "      <th></th>\n",
       "      <th></th>\n",
       "      <th></th>\n",
       "    </tr>\n",
       "  </thead>\n",
       "  <tbody>\n",
       "    <tr>\n",
       "      <th>0</th>\n",
       "      <td>1.75</td>\n",
       "      <td>1.71</td>\n",
       "      <td>1.82</td>\n",
       "      <td>1.86</td>\n",
       "      <td>1.74</td>\n",
       "      <td>71.97</td>\n",
       "      <td>4.18</td>\n",
       "      <td>1753.38</td>\n",
       "    </tr>\n",
       "    <tr>\n",
       "      <th>1</th>\n",
       "      <td>0.26</td>\n",
       "      <td>0.26</td>\n",
       "      <td>0.31</td>\n",
       "      <td>0.17</td>\n",
       "      <td>0.22</td>\n",
       "      <td>8.57</td>\n",
       "      <td>0.63</td>\n",
       "      <td>276.67</td>\n",
       "    </tr>\n",
       "    <tr>\n",
       "      <th>2</th>\n",
       "      <td>8.42</td>\n",
       "      <td>8.00</td>\n",
       "      <td>7.36</td>\n",
       "      <td>5.15</td>\n",
       "      <td>5.08</td>\n",
       "      <td>99.52</td>\n",
       "      <td>3.97</td>\n",
       "      <td>2203.97</td>\n",
       "    </tr>\n",
       "  </tbody>\n",
       "</table>\n",
       "</div>"
      ],
      "text/plain": [
       "              Gls  G-PK    xG   Ast   xAG   PrgP  CrdY      Min\n",
       "RoleCluster                                                    \n",
       "0            1.75  1.71  1.82  1.86  1.74  71.97  4.18  1753.38\n",
       "1            0.26  0.26  0.31  0.17  0.22   8.57  0.63   276.67\n",
       "2            8.42  8.00  7.36  5.15  5.08  99.52  3.97  2203.97"
      ]
     },
     "metadata": {},
     "output_type": "display_data"
    },
    {
     "data": {
      "text/html": [
       "<html>\n",
       "<head><meta charset=\"utf-8\" /></head>\n",
       "<body>\n",
       "    <div>            <script src=\"https://cdnjs.cloudflare.com/ajax/libs/mathjax/2.7.5/MathJax.js?config=TeX-AMS-MML_SVG\"></script><script type=\"text/javascript\">if (window.MathJax && window.MathJax.Hub && window.MathJax.Hub.Config) {window.MathJax.Hub.Config({SVG: {font: \"STIX-Web\"}});}</script>                <script type=\"text/javascript\">window.PlotlyConfig = {MathJaxConfig: 'local'};</script>\n",
       "        <script charset=\"utf-8\" src=\"https://cdn.plot.ly/plotly-2.35.2.min.js\"></script>                <div id=\"f7e0e217-e6bc-48a3-bc7c-15f9fb514d50\" class=\"plotly-graph-div\" style=\"height:525px; width:100%;\"></div>            <script type=\"text/javascript\">                                    window.PLOTLYENV=window.PLOTLYENV || {};                                    if (document.getElementById(\"f7e0e217-e6bc-48a3-bc7c-15f9fb514d50\")) {                    Plotly.newPlot(                        \"f7e0e217-e6bc-48a3-bc7c-15f9fb514d50\",                        [{\"customdata\":[[\"Rodrigo Abajas\",\"Valencia\",21.0,0,0],[\"James Abankwah\",\"Udinese\",20.0,0,0],[\"Keyliane Abdallah\",\"Marseille\",18.0,0,0],[\"Nabil Aberdin\",\"Getafe\",21.0,0,0],[\"Federico Accornero\",\"Genoa\",20.0,0,0],[\"Joshua Acheampong\",\"Chelsea\",18.0,0,0],[\"Martin Adeline\",\"Reims\",20.0,0,0],[\"Vasilije Adžić\",\"Juventus\",18.0,0,0],[\"Asher Agbinone\",\"Crystal Palace\",18.0,0,0],[\"Jeremy Agbonifo\",\"Lens\",18.0,1,0],[\"Lorenzo Aguado\",\"Real Madrid\",21.0,0,0],[\"Honest Ahanor\",\"Genoa\",16.0,0,0],[\"Ayman Aiki\",\"Saint-Étienne\",19.0,0,0],[\"Junior Ajayi\",\"Hellas Verona\",19.0,0,0],[\"Ümit Akdag\",\"Toulouse\",20.0,0,0],[\"Ilias Akhomach\",\"Villarreal\",20.0,1,0],[\"Ibrahim Alani\",\"Valladolid\",18.0,0,0],[\"Carlos Alcaraz\",\"Southampton\",21.0,0,0],[\"Iker Almena\",\"Girona\",20.0,0,1],[\"Will Alves\",\"Leicester City\",19.0,0,0],[\"Harry Amass\",\"Manchester Utd\",17.0,0,0],[\"Aurele Amenda\",\"Eint Frankfurt\",21.0,0,0],[\"Samuel Amo-Ameyaw\",\"Southampton\",18.0,0,0],[\"Samuel Amo-Ameyaw\",\"Strasbourg\",18.0,2,0],[\"Mathis Amougou\",\"Chelsea\",18.0,0,0],[\"Mathis Amougou\",\"Saint-Étienne\",18.0,0,0],[\"Lorenzo Anghelè\",\"Juventus\",19.0,0,0],[\"Leandro Antonetti\",\"Sevilla\",21.0,0,0],[\"Kyllian Antonio\",\"Lens\",16.0,0,0],[\"Antoniu\",\"Espanyol\",21.0,0,1],[\"Harrison Armstrong\",\"Everton\",17.0,0,0],[\"Sergio Arribas\",\"Betis\",21.0,0,0],[\"Arthur\",\"Leverkusen\",21.0,0,1],[\"Raúl Asencio\",\"Real Madrid\",21.0,0,1],[\"Dehmaine Assoumani\",\"Nantes\",19.0,0,0],[\"Adam Aznou\",\"Valladolid\",18.0,0,0],[\"Adam Aznou\",\"Bayern Munich\",18.0,0,0],[\"Papa Ba\",\"Girona\",19.0,0,0],[\"Jacopo Bacci\",\"Empoli\",19.0,0,0],[\"Aliou Badara Baldé\",\"Bochum\",21.0,0,0],[\"Juma Bah\",\"Valladolid\",18.0,0,0],[\"Juma Bah\",\"Lens\",18.0,0,0],[\"Stefan Bajcetic\",\"Las Palmas\",19.0,1,0],[\"Darryl Bakola\",\"Marseille\",16.0,0,0],[\"Tommaso Baldanzi\",\"Roma\",21.0,1,1],[\"Mohamed Bamba\",\"Reims\",19.0,0,0],[\"Samuel Bamba\",\"Bochum\",20.0,0,0],[\"Noahkai Banks\",\"Augsburg\",17.0,0,0],[\"Adrian Baquerin\",\"Valladolid\",17.0,0,0],[\"Valentín Barco\",\"Sevilla\",20.0,0,0],[\"Téo Barisic\",\"Lyon\",19.0,0,0],[\"Davide Bartesaghi\",\"Milan\",18.0,0,0],[\"Aboubacar Bassinga\",\"Las Palmas\",19.0,0,0],[\"Rafael Bauza\",\"Espanyol\",19.0,0,0],[\"Luken Beitia\",\"Real Sociedad\",20.0,0,0],[\"Ismael Bekhoucha\",\"Getafe\",19.0,0,0],[\"Reda Belahyane\",\"Lazio\",20.0,0,0],[\"Jeanuël Belocian\",\"Leverkusen\",19.0,0,0],[\"Iker Benito\",\"Osasuna\",21.0,0,0],[\"Marc Bernal\",\"Barcelona\",17.0,0,0],[\"Alessandro Bianco\",\"Fiorentina\",21.0,0,0],[\"Emmanuel Biumla\",\"Angers\",19.0,1,0],[\"Oscar Bobb\",\"Manchester City\",21.0,0,0],[\"Mathéo Bodmer\",\"Le Havre\",20.0,0,0],[\"Lamare Bogarde\",\"Aston Villa\",20.0,0,0],[\"Warren Bondo\",\"Milan\",20.0,0,0],[\"Saïmon Bouabré\",\"Monaco\",18.0,0,0],[\"Ayyoub Bouaddi\",\"Lille\",16.0,0,1],[\"Justin Bourgault\",\"Brest\",18.0,1,0],[\"Iker Bravo\",\"Udinese\",19.0,2,1],[\"Manu Bueno\",\"Sevilla\",20.0,1,0],[\"Endika Buján\",\"Athletic Club\",21.0,0,0],[\"Rareș-Cătălin Burnete\",\"Lecce\",20.0,0,0],[\"Nathan Butler-Oyedeji\",\"Arsenal\",21.0,0,0],[\"Pau Cabanes\",\"Villarreal\",19.0,1,0],[\"Pau Cabanes\",\"Alavés\",19.0,0,0],[\"Alessio Cacciamani\",\"Torino\",17.0,0,0],[\"Issiaga Camara\",\"Nice\",19.0,0,0],[\"Ousmane Camara\",\"Angers\",21.0,0,0],[\"Francesco Camarda\",\"Milan\",16.0,0,0],[\"Axel Camblan\",\"Brest\",20.0,0,0],[\"Thomas Campaniello\",\"Empoli\",16.0,0,0],[\"Cole Campbell\",\"Dortmund\",18.0,0,0],[\"Peio Canales\",\"Athletic Club\",19.0,0,0],[\"Jaydee Canvot\",\"Toulouse\",18.0,0,0],[\"Gabin Capuano\",\"Lens\",18.0,0,0],[\"Simon Cara\",\"Montpellier\",19.0,0,0],[\"Franco Carboni\",\"Venezia\",21.0,0,0],[\"Valentin Carboni\",\"Marseille\",19.0,0,0],[\"Tiago Cardoso\",\"Gladbach\",18.0,0,0],[\"José Carlos González\",\"Las Palmas\",18.0,0,0],[\"Fabio Carvalho\",\"Brentford\",21.0,2,1],[\"Cesare Casadei\",\"Torino\",21.0,1,1],[\"Kaelan Casey\",\"West Ham\",19.0,0,0],[\"Federico Cassa\",\"Atalanta\",18.0,0,0],[\"Enzo Caumont\",\"Angers\",20.0,0,0],[\"Abdoulie Ceesay\",\"St. Pauli\",20.0,0,0],[\"El Chadaille Bitshiabu\",\"RB Leipzig\",19.0,0,0],[\"Raúl Chasco\",\"Valladolid\",20.0,0,0],[\"Anrie Chase\",\"Stuttgart\",20.0,0,0],[\"Chema\",\"Real Madrid\",19.0,0,0],[\"Théo Chennahi\",\"Montpellier\",19.0,0,0],[\"Sidiki Cherif\",\"Angers\",17.0,0,0],[\"Youssef Chermiti\",\"Everton\",20.0,0,0],[\"Fabio Chiarodia\",\"Gladbach\",19.0,1,0],[\"Carney Chukwuemeka\",\"Dortmund\",20.0,1,0],[\"Aaron Ciammaglichella\",\"Torino\",19.0,0,0],[\"Alessandro Circati\",\"Parma\",20.0,0,0],[\"Alphadjo Cissè\",\"Hellas Verona\",17.0,0,0],[\"Yoann Cissé\",\"Auxerre\",19.0,0,0],[\"Silvi Clúa\",\"Girona\",19.0,0,0],[\"Toby Collyer\",\"Manchester Utd\",20.0,0,0],[\"Iker Córdoba\",\"Valencia\",18.0,0,0],[\"Alberto costa\",\"Juventus\",20.0,0,1],[\"Lasso Coulibaly\",\"Auxerre\",21.0,1,0],[\"Mamadou Coulibaly\",\"Monaco\",20.0,0,0],[\"Soumaïla Coulibaly\",\"Brest\",20.0,0,0],[\"Marius Courcoul\",\"Angers\",17.0,0,0],[\"Maat Daniel Caprini\",\"Fiorentina\",18.0,0,0],[\"Jayden Danns\",\"Liverpool\",18.0,0,0],[\"Bence Dárdai\",\"Wolfsburg\",18.0,1,1],[\"Amar Dedić\",\"Marseille\",21.0,0,1],[\"Ali Dembélé\",\"Torino\",20.0,1,0],[\"Justin Devenny\",\"Crystal Palace\",20.0,1,1],[\"Mamadou Diakhon\",\"Reims\",18.0,2,1],[\"Assane Diao\",\"Betis\",18.0,1,2],[\"Mahamadou Diawara\",\"Le Havre\",19.0,0,1],[\"Mahamadou Diawara\",\"Lyon\",19.0,0,0],[\"Daniel Díaz\",\"Real Sociedad\",18.0,0,0],[\"Justin Diehl\",\"Stuttgart\",19.0,1,0],[\"Kembo Diliwidi\",\"Lens\",18.0,0,0],[\"Yan Diomandé\",\"Leganés\",17.0,2,1],[\"Sérigné Diop\",\"Brest\",19.0,0,0],[\"Roman Dixon\",\"Everton\",19.0,0,0],[\"Nasser Djiga\",\"Wolves\",21.0,0,0],[\"Marc Domenech\",\"Mallorca\",18.0,0,0],[\"Israel Domínguez\",\"Sevilla\",21.0,0,0],[\"Sergi Dominguez\",\"Barcelona\",19.0,0,0],[\"Patrick Dorgu\",\"Manchester Utd\",19.0,0,0],[\"Alfie Dorrington\",\"Tottenham\",19.0,0,0],[\"Sékou Doucoure\",\"Nantes\",19.0,0,0],[\"Issa Doumbia\",\"Venezia\",20.0,0,0],[\"Amidou Doumbouya\",\"Nice\",16.0,0,0],[\"Tim Drexler\",\"Hoffenheim\",19.0,0,0],[\"Julien Duranville\",\"Dortmund\",18.0,0,0],[\"Stefan Džodić\",\"Montpellier\",19.0,0,0],[\"Claudio Echeverri\",\"Manchester City\",18.0,0,0],[\"Noah Edjouma\",\"Toulouse\",18.0,2,0],[\"Samuel Edozie\",\"Southampton\",21.0,0,0],[\"Ronnie Edwards\",\"Southampton\",21.0,0,0],[\"Jeff Ekhator\",\"Genoa\",17.0,1,1],[\"Jacques Ekomie\",\"Angers\",20.0,0,0],[\"Harvey Elliott\",\"Liverpool\",21.0,1,2],[\"Yunus Emre Konak\",\"Brentford\",18.0,0,0],[\"Julio Enciso\",\"Brighton\",20.0,0,0],[\"Endrick\",\"Real Madrid\",18.0,1,0],[\"Arne Engels\",\"Augsburg\",20.0,0,0],[\"Romain Esse\",\"Crystal Palace\",19.0,1,1],[\"Estanis\",\"Bologna\",20.0,0,0],[\"Etienne Eto'o\",\"Rayo Vallecano\",21.0,0,0],[\"Karl Etta\",\"Villarreal\",20.0,1,0],[\"Abdul Fatawu Issahaku\",\"Leicester City\",20.0,0,2],[\"Ansu Fati\",\"Barcelona\",21.0,0,0],[\"Frank Feller\",\"Heidenheim\",20.0,0,0],[\"Evan Ferguson\",\"West Ham\",19.0,0,0],[\"Evan Ferguson\",\"Brighton\",19.0,1,0],[\"Pelayo Fernandez\",\"Rayo Vallecano\",21.0,0,0],[\"Daniel Fila\",\"Venezia\",21.0,2,0],[\"Mateo Flores\",\"Betis\",20.0,0,0],[\"Rayan Fofana\",\"Lens\",18.0,0,0],[\"Carlos Forbs\",\"Wolves\",20.0,0,0],[\"Omari Forson\",\"Monza\",20.0,0,0],[\"Héctor Fort\",\"Barcelona\",17.0,0,0],[\"Fran\",\"Real Madrid\",19.0,0,0],[\"Matheus França\",\"Crystal Palace\",20.0,1,0],[\"Alejandro Francés\",\"Girona\",21.0,0,0],[\"Tyler Fredricson\",\"Manchester Utd\",19.0,0,0],[\"Darío Fuentes\",\"Sevilla\",21.0,0,0],[\"Shiō Fukuda\",\"Gladbach\",20.0,1,0],[\"Tommaso Gabellini\",\"Torino\",17.0,0,0],[\"Tiago Gabriel\",\"Lecce\",19.0,0,0],[\"Andrés García\",\"Aston Villa\",21.0,0,0],[\"Gonzalo García\",\"Real Madrid\",20.0,0,1],[\"Pablo Garcia\",\"Betis\",17.0,0,0],[\"Yarek Gasiorowski\",\"Valencia\",19.0,0,0],[\"Viggo Gebel\",\"RB Leipzig\",16.0,0,0],[\"Tyrique George\",\"Chelsea\",18.0,1,1],[\"Martial Godo\",\"Fulham\",21.0,0,0],[\"Michael Golding\",\"Leicester City\",18.0,0,0],[\"Rodrigo Gomes\",\"Wolves\",21.0,2,0],[\"Carlos Gómez\",\"Rennes\",21.0,3,0],[\"Diego Gómez\",\"Brighton\",21.0,1,0],[\"Tidiam Gomis\",\"RB Leipzig\",17.0,0,1],[\"Lucas Gourna-Douath\",\"Roma\",20.0,0,0],[\"Archie Gray\",\"Tottenham\",18.0,0,0],[\"Brajan Gruda\",\"Brighton\",20.0,1,4],[\"Axel Gueguin\",\"Montpellier\",19.0,0,0],[\"Luis Guilherme\",\"West Ham\",18.0,0,0],[\"Carlos Guirao\",\"Betis\",21.0,0,0],[\"Bahereba Guirassy\",\"Nantes\",17.0,2,0],[\"Marc Guiu\",\"Chelsea\",18.0,0,0],[\"Saad El Haddad\",\"Venezia\",19.0,0,0],[\"Mohamed Haj\",\"Parma\",19.0,1,2],[\"Ayden Heaven\",\"Manchester Utd\",17.0,0,0],[\"Paul Hennrich\",\"Hoffenheim\",19.0,0,0],[\"Juan Herzog\",\"Las Palmas\",21.0,0,0],[\"Roger Hinojo\",\"Espanyol\",19.0,0,0],[\"Ilyes Housni\",\"Le Havre\",19.0,0,0],[\"Harry Howell\",\"Brighton\",15.0,0,0],[\"Oscar Højlund\",\"Eint Frankfurt\",19.0,1,0],[\"Hafiz Ibrahim\",\"Reims\",18.0,0,1],[\"Arijon Ibrahimović\",\"Lazio\",18.0,0,0],[\"Arijon Ibrahimović\",\"Bayern Munich\",18.0,0,0],[\"Stanis Idumbo\",\"Sevilla\",19.0,1,1],[\"Rareş Ilie\",\"Nice\",21.0,0,0],[\"Samuel Iling-Junior\",\"Bologna\",20.0,1,0],[\"Tim Iroegbunam\",\"Everton\",21.0,0,1],[\"Yanis Issoufou\",\"Montpellier\",17.0,0,0],[\"Diego Iturralde\",\"Sevilla\",21.0,0,0],[\"Fellipe Jack\",\"Como\",18.0,0,0],[\"Jérémy Jacquet\",\"Rennes\",19.0,0,1],[\"Luca Jaquez\",\"Stuttgart\",21.0,0,0],[\"Ali Jasim\",\"Como\",20.0,0,0],[\"Dominik Javorček\",\"Holstein Kiel\",21.0,0,2],[\"Daniel Jebbison\",\"Bournemouth\",20.0,1,0],[\"Finn Jeltsch\",\"Stuttgart\",18.0,0,0],[\"Malcolm Jeng\",\"Reims\",19.0,0,0],[\"Kim Jisoo\",\"Brentford\",19.0,0,0],[\"John Joe\",\"Getafe\",20.0,0,0],[\"John Joe\",\"Reims\",20.0,0,0],[\"Antoine Joujou\",\"Le Havre\",21.0,0,2],[\"Yusuf Kabadayı\",\"Augsburg\",20.0,1,0],[\"Almugera Kabar\",\"Dortmund\",18.0,0,0],[\"Yaya Kader Fofana\",\"Reims\",20.0,1,1],[\"Justin-Noël Kalumba\",\"Angers\",19.0,0,0],[\"Noham Kamara\",\"Paris S-G\",17.0,0,0],[\"Willy Kambwala\",\"Villarreal\",19.0,0,0],[\"Lior Kasa\",\"Genoa\",18.0,0,0],[\"Joachim Kayi Sanda\",\"Southampton\",17.0,0,0],[\"Michael Kayode\",\"Brentford\",20.0,0,1],[\"Michael Kayode\",\"Fiorentina\",20.0,0,0],[\"Abdoulaye Keita\",\"Getafe\",21.0,0,0],[\"Andu Kelati\",\"Holstein Kiel\",21.0,1,1],[\"Aljoscha Kemlein\",\"Union Berlin\",19.0,1,0],[\"Abdukodir Khusanov\",\"Manchester City\",20.0,0,0],[\"Abdukodir Khusanov\",\"Lens\",20.0,0,0],[\"Joshua King\",\"Fulham\",17.0,0,0],[\"Antonín Kinský\",\"Tottenham\",21.0,0,0],[\"Mert Kömür\",\"Augsburg\",19.0,2,1],[\"Ismael Konate\",\"Empoli\",18.0,0,1],[\"Abdoul Koné\",\"Reims\",19.0,0,0],[\"Kacper Koscierski\",\"Bochum\",17.0,0,0],[\"Emmanuel Koum Mbondo\",\"Marseille\",18.0,0,0],[\"Mateusz Kowalski\",\"Parma\",19.0,0,0],[\"Caleb Kporha\",\"Crystal Palace\",18.0,0,0],[\"Frans Krätzig\",\"Stuttgart\",21.0,0,0],[\"Sael Kumbedi\",\"Lyon\",19.0,0,0],[\"Jonah Kusi-Asare\",\"Bayern Munich\",17.0,0,0],[\"Younes Lachaab\",\"Lille\",19.0,0,0],[\"Yoel Lago\",\"Celta Vigo\",20.0,0,1],[\"Mathis Lambourde\",\"Hellas Verona\",18.0,1,0],[\"Will Lankshear\",\"Tottenham\",19.0,0,0],[\"Roméo Lavia\",\"Chelsea\",20.0,0,1],[\"Stefan Lekovic\",\"Monza\",20.0,0,0],[\"Giovanni Leoni\",\"Parma\",17.0,1,0],[\"Louis Leroux\",\"Nantes\",18.0,2,1],[\"Mattia Liberali\",\"Milan\",17.0,0,0],[\"Pedro Lima\",\"Wolves\",18.0,0,0],[\"Javier Llabrés\",\"Mallorca\",21.0,0,0],[\"Elysée Logbo\",\"Le Havre\",20.0,0,0],[\"David López\",\"Mallorca\",21.0,0,0],[\"Tom Louchet\",\"Nice\",21.0,1,0],[\"Yannik Lührs\",\"Dortmund\",20.0,0,0],[\"Milos Lukovic\",\"Strasbourg\",18.0,0,0],[\"Daniel Luna\",\"Mallorca\",21.0,0,0],[\"Mathias Løvik\",\"Parma\",20.0,0,0],[\"Othmane Maamma\",\"Montpellier\",18.0,1,1],[\"Lanroy Machine\",\"Angers\",18.0,0,0],[\"Hamidou Makalou\",\"Brest\",18.0,0,0],[\"Jarzinho Malanga\",\"Stuttgart\",18.0,0,0],[\"Aaron Malouda\",\"Lille\",18.0,0,0],[\"Johan Manzambi\",\"Freiburg\",18.0,2,1],[\"Alberto Manzoni\",\"Atalanta\",19.0,0,0],[\"Alessandro Marcandalli\",\"Genoa\",21.0,0,0],[\"Alessandro Marcandalli\",\"Venezia\",21.0,0,0],[\"Luca Marianucci\",\"Empoli\",20.0,0,0],[\"Arkaitz Mariezkurrena\",\"Real Sociedad\",19.0,2,0],[\"Mario Maroto\",\"Valladolid\",20.0,0,1],[\"Ange Martial Tia\",\"Reims\",17.0,0,0],[\"Diego Martín\",\"Las Palmas\",20.0,0,0],[\"Jon Martin\",\"Real Sociedad\",18.0,0,1],[\"Ramón Martínez\",\"Sevilla\",21.0,1,0],[\"Kevin Martins\",\"Monza\",19.0,0,1],[\"Igor Matanovic\",\"Eint Frankfurt\",21.0,1,0],[\"Rudy Matondo\",\"Auxerre\",16.0,0,0],[\"Alan Matturro\",\"Genoa\",19.0,0,0],[\"Christian Mawissa\",\"Monaco\",19.0,0,0],[\"Keke Maximilian Topp\",\"Werder Bremen\",20.0,2,2],[\"Andrea Mazza\",\"Monza\",20.0,0,0],[\"Ethan Mbappé\",\"Lille\",17.0,0,0],[\"Ibrahim Mbaye\",\"Paris S-G\",16.0,1,1],[\"James Mcatee\",\"Manchester City\",21.0,3,0],[\"Jayden Meghoma\",\"Brentford\",18.0,0,0],[\"Henrik Meister\",\"Rennes\",20.0,1,0],[\"Mohamed Meité\",\"Rennes\",16.0,2,0],[\"Mateo Mejía\",\"Sevilla\",21.0,0,0],[\"Antoine Mendy\",\"Nice\",20.0,0,0],[\"Nobel Mendy\",\"Betis\",19.0,0,0],[\"Rafik Messali\",\"Toulouse\",21.0,0,1],[\"Shumaira Mheuka\",\"Chelsea\",16.0,0,0],[\"Lucas Michal\",\"Monaco\",19.0,0,0],[\"Florian Micheler\",\"Hoffenheim\",19.0,0,0],[\"Igor Miladinović\",\"Saint-Étienne\",21.0,0,0],[\"Lewis Miley\",\"Newcastle Utd\",18.0,1,0],[\"Lucas Mincarelli\",\"Montpellier\",20.0,1,0],[\"Kim Minsu\",\"Girona\",18.0,0,0],[\"David Mokwa\",\"Hoffenheim\",20.0,0,0],[\"Mikey Moore\",\"Tottenham\",16.0,0,1],[\"Matias Moreno\",\"Fiorentina\",20.0,0,0],[\"Xavier Moreno\",\"Valladolid\",19.0,0,0],[\"Gabriel Moscardo\",\"Reims\",18.0,0,0],[\"Yael Mouanga\",\"Montpellier\",19.0,0,0],[\"Youssoufa Moukoko\",\"Nice\",19.0,2,1],[\"Divin Mubama\",\"Manchester City\",19.0,0,0],[\"Iker Muñoz\",\"Osasuna\",21.0,0,1],[\"Víctor Muñoz\",\"Real Madrid\",21.0,0,0],[\"Bob Murphy Omoregbe\",\"Milan\",20.0,0,0],[\"Kingstone Mutandwa\",\"Cagliari\",21.0,0,0],[\"Junior Mwanga\",\"Le Havre\",21.0,1,2],[\"Junior Mwanga\",\"Strasbourg\",21.0,0,0],[\"Loïc N'Gatta\",\"Auxerre\",20.0,0,0],[\"Djylian N'Guessan\",\"Saint-Étienne\",15.0,0,0],[\"Bilal Nadir\",\"Marseille\",20.0,1,0],[\"Mahamadou Nagida\",\"Rennes\",19.0,2,0],[\"Yael Nandjou\",\"Nice\",19.0,0,0],[\"Pau Navarro\",\"Villarreal\",19.0,0,0],[\"Junior Ndiaye\",\"Montpellier\",19.0,0,0],[\"Wilfried Ndollo\",\"Montpellier\",19.0,0,0],[\"Cher Ndour\",\"Fiorentina\",20.0,0,0],[\"Kosta Nedeljković\",\"Aston Villa\",18.0,0,0],[\"Kosta Nedeljković\",\"RB Leipzig\",18.0,0,0],[\"Luca Netz\",\"Gladbach\",21.0,0,2],[\"Mikayil Ngor Faye\",\"Rennes\",20.0,0,0],[\"Steve Ngoura\",\"Le Havre\",19.0,0,0],[\"Bernard Nguene\",\"Nice\",17.0,0,0],[\"Oliver Nielsen\",\"Lazio\",21.0,0,0],[\"Eybi Nije\",\"Torino\",19.0,1,0],[\"Adrian Niño\",\"Atlético Madrid\",20.0,0,0],[\"Brooke Norton-Cuffy\",\"Genoa\",20.0,0,0],[\"Hugo Novoa\",\"Alavés\",21.0,0,0],[\"Gustavo Nunes\",\"Brentford\",18.0,0,0],[\"Marwann Nzuzi\",\"Saint-Étienne\",20.0,0,0],[\"Chidozie Obi-Martin\",\"Manchester Utd\",16.0,0,0],[\"Wilson Odobert\",\"Tottenham\",19.0,1,0],[\"David Odogu\",\"Wolfsburg\",18.0,0,0],[\"Ifechukwu Ogbus\",\"Freiburg\",18.0,0,0],[\"Thiago Ojeda\",\"Villarreal\",21.0,0,0],[\"Hamzat Ojediran\",\"Lens\",20.0,1,0],[\"Yllan Okou\",\"Hellas Verona\",21.0,0,0],[\"Aingeru Olabarrieta\",\"Athletic Club\",18.0,0,0],[\"Kazeem Olaigbe\",\"Rennes\",21.0,0,2],[\"Ben Old\",\"Saint-Étienne\",21.0,0,0],[\"Jacob Ondrejka\",\"Parma\",21.0,5,0],[\"Fredrik Oppegard\",\"Auxerre\",21.0,0,0],[\"Victor Orakpo\",\"Nice\",18.0,0,0],[\"Ike Orazi\",\"Reims\",17.0,0,0],[\"Lewis Orford\",\"West Ham\",18.0,0,0],[\"Ángel Ortíz\",\"Betis\",20.0,0,1],[\"Gabriel Osei Misehouy\",\"Girona\",19.0,1,0],[\"William Osula\",\"Newcastle Utd\",20.0,1,0],[\"Jibril Othman\",\"Saint-Étienne\",20.0,0,0],[\"Sebastian Otoa\",\"Genoa\",20.0,0,0],[\"David Otorbi\",\"Valencia\",16.0,0,0],[\"Guimissongui Ouattara\",\"Strasbourg\",18.0,1,1],[\"Kassoum Ouattara\",\"Monaco\",19.0,0,1],[\"Assan Ouedraogo\",\"RB Leipzig\",18.0,0,0],[\"Beres Owusu\",\"Saint-Étienne\",20.0,0,0],[\"Daniel Oyegoke\",\"Hellas Verona\",21.0,0,0],[\"Nico O’Reilly\",\"Manchester City\",19.0,2,0],[\"Alex Padilla\",\"Athletic Club\",20.0,0,0],[\"Simone Pafundi\",\"Udinese\",18.0,0,0],[\"Tomás Palacios\",\"Monza\",21.0,0,0],[\"Tomás Palacios\",\"Inter\",21.0,0,0],[\"Marco Palestra\",\"Atalanta\",19.0,0,0],[\"Matteo Palma\",\"Udinese\",16.0,0,0],[\"Mats Pannewig\",\"Bochum\",19.0,0,0],[\"Kevin Paredes\",\"Wolfsburg\",21.0,0,1],[\"Iago Parente\",\"Valladolid\",18.0,0,0],[\"Nicolas Pays\",\"Montpellier\",20.0,0,0],[\"Kévin Pedro\",\"Saint-Étienne\",18.0,0,0],[\"Timothee Pembele\",\"Le Havre\",21.0,1,0],[\"Peque\",\"Sevilla\",21.0,1,1],[\"Sergiu Perciun\",\"Torino\",18.0,0,0],[\"Óscar Perea\",\"Strasbourg\",18.0,0,0],[\"Francisco Perez\",\"Valencia\",21.0,0,0],[\"Noah Pesch\",\"Gladbach\",19.0,0,0],[\"Prosper Peter\",\"Angers\",16.0,0,0],[\"Valentín Pezzolesi\",\"Las Palmas\",17.0,0,0],[\"Nicola Pintus\",\"Cagliari\",19.0,0,0],[\"Damián Pizarro\",\"Udinese\",19.0,0,0],[\"Alfie Pond\",\"Wolves\",20.0,0,0],[\"Tom Pouilly\",\"Lens\",21.0,0,0],[\"Matteo Prati\",\"Cagliari\",20.0,0,0],[\"David Preu\",\"Union Berlin\",19.0,0,0],[\"Diego Pugno\",\"Juventus\",18.0,0,0],[\"Jarell Quansah\",\"Liverpool\",21.0,0,0],[\"Arnau Rafús\",\"Valladolid\",21.0,0,0],[\"Antonio Raimondo\",\"Venezia\",20.0,0,0],[\"Jacobo Ramón\",\"Real Madrid\",19.0,1,0],[\"Grant Ranos\",\"Gladbach\",21.0,0,0],[\"Remy Rees-Dottin\",\"Bournemouth\",18.0,0,0],[\"Vitor Reis\",\"Manchester City\",18.0,0,0],[\"Devyne Rensch\",\"Roma\",21.0,0,1],[\"Daniel Requena\",\"Villarreal\",20.0,0,0],[\"Guillaume Restes\",\"Toulouse\",19.0,0,1],[\"Gio Reyna\",\"Dortmund\",21.0,2,0],[\"Chadi Riad\",\"Crystal Palace\",21.0,0,0],[\"Alberto Risco\",\"Getafe\",18.0,0,0],[\"Gorka Rivera Alonso\",\"Getafe\",19.0,0,0],[\"Jay Robinson\",\"Southampton\",17.0,0,0],[\"Alejandro Rodriguez\",\"Lyon\",16.0,0,0],[\"Arturo Rodríguez\",\"Las Palmas\",17.0,0,0],[\"Damián Rodríguez\",\"Celta Vigo\",21.0,0,0],[\"Daniel Rodriguez\",\"Barcelona\",18.0,0,0],[\"Jesus Rodríguez\",\"Betis\",18.0,2,0],[\"Luka Romero\",\"Alavés\",19.0,0,0],[\"Max Rosenfelder\",\"Freiburg\",21.0,1,0],[\"Jonas Rouhi\",\"Juventus\",20.0,0,0],[\"Tommaso Rubino\",\"Fiorentina\",17.0,0,0],[\"Ferrán Ruiz\",\"Girona\",21.0,0,0],[\"Richie Sagrado\",\"Venezia\",20.0,0,0],[\"Faik Sakar\",\"RB Leipzig\",16.0,0,0],[\"Jan Salas\",\"Mallorca\",18.0,0,0],[\"Chuky san jose\",\"Valladolid\",20.0,2,0],[\"Jesús Santiago\",\"Getafe\",20.0,0,0],[\"Kauã Santos\",\"Eint Frankfurt\",21.0,0,0],[\"Giorgio Scalvini\",\"Atalanta\",20.0,0,0],[\"Oliver Scarles\",\"West Ham\",18.0,0,0],[\"Dane Scarlett\",\"Tottenham\",20.0,0,1],[\"Joël Schingtienne\",\"Venezia\",21.0,0,0],[\"Alex Scott\",\"Bournemouth\",20.0,0,0],[\"Jérémy Sebas\",\"Strasbourg\",21.0,0,0],[\"Jacopo Seghetti\",\"Empoli\",19.0,0,0],[\"Hiroki Sekine\",\"Reims\",21.0,0,0],[\"Nicolás Serrano\",\"Athletic Club\",21.0,0,0],[\"Zain Silcott-Duberry\",\"Bournemouth\",19.0,0,0],[\"Eric da Silva Moreira\",\"Nott'ham Forest\",18.0,0,0],[\"Jahmai Simpson-Pusey\",\"Manchester City\",18.0,0,0],[\"Ayanda Sishuba\",\"Rennes\",19.0,0,0],[\"Niama Sissoko\",\"Reims\",18.0,0,0],[\"Justin Smith\",\"Espanyol\",21.0,0,0],[\"Arnau Solà\",\"Villarreal\",21.0,0,0],[\"Julio Soler\",\"Bournemouth\",19.0,0,0],[\"Jhon Solis\",\"Girona\",19.0,1,0],[\"Jay Stansfield\",\"Fulham\",21.0,0,0],[\"Orri Steinn Óskarsson\",\"Real Sociedad\",19.0,3,0],[\"Enzo Sternal\",\"Marseille\",17.0,0,0],[\"Finley Stevens\",\"St. Pauli\",21.0,0,0],[\"Ibrahim Sulemana\",\"Atalanta\",21.0,2,0],[\"Abakar Sylla\",\"Strasbourg\",21.0,1,0],[\"Axel Tapé\",\"Paris S-G\",16.0,0,0],[\"Loum Tchaouna\",\"Lazio\",20.0,1,0],[\"Martín Tejón\",\"Valencia\",20.0,0,0],[\"Mathys Tel\",\"Bayern Munich\",19.0,0,1],[\"Filippo Terracciano\",\"Milan\",21.0,0,0],[\"Umut Tohumcu\",\"Hoffenheim\",19.0,0,1],[\"Luka Topalović\",\"Inter\",18.0,0,0],[\"Pablo Torre\",\"Barcelona\",21.0,3,1],[\"Lorenzo Tosto\",\"Empoli\",18.0,0,0],[\"Bazoumana Touré\",\"Hoffenheim\",18.0,0,3],[\"Ousmane Toure\",\"Lille\",19.0,0,0],[\"Souleymane Touré\",\"Udinese\",21.0,1,0],[\"Ryan Trevitt\",\"Brentford\",21.0,0,0],[\"Naci Ünüvar\",\"Espanyol\",21.0,0,0],[\"Kacper Urbanski\",\"Bologna\",19.0,1,0],[\"Kacper Urbanski\",\"Monza\",19.0,0,0],[\"Jonas Urbig\",\"Bayern Munich\",20.0,0,0],[\"Álex Valle\",\"Como\",20.0,0,0],[\"Robinio Vaz\",\"Marseille\",17.0,0,0],[\"Jesus Vazquez\",\"Valencia\",21.0,0,0],[\"Danilo Veiga\",\"Lecce\",21.0,0,0],[\"Renato Veiga\",\"Chelsea\",21.0,0,0],[\"Renato Veiga\",\"Juventus\",21.0,0,1],[\"Alejo Véliz\",\"Espanyol\",20.0,1,0],[\"Lorenzo Venturino\",\"Genoa\",18.0,2,0],[\"Nikolas Veratschnig\",\"Mainz 05\",21.0,0,0],[\"Ben Viadere\",\"Auxerre\",18.0,0,0],[\"Gabriel Vidovic\",\"Mainz 05\",20.0,0,0],[\"Gabriel Vidovic\",\"Bayern Munich\",20.0,0,0],[\"Sergio Viera\",\"Las Palmas\",19.0,0,0],[\"Samuele Vignato\",\"Monza\",20.0,0,0],[\"Krapyvtsov Vladyslav\",\"Girona\",19.0,0,0],[\"Vanja Vlahović\",\"Atalanta\",20.0,0,0],[\"Aster Vranckx\",\"Wolfsburg\",21.0,0,0],[\"Robert Wagner\",\"St. Pauli\",21.0,0,0],[\"Elye Wahi\",\"Marseille\",21.0,3,1],[\"Elye Wahi\",\"Eint Frankfurt\",21.0,0,0],[\"Kjell-Arik Wätjen\",\"Dortmund\",18.0,0,0],[\"Caleb Wiley\",\"Strasbourg\",19.0,0,1],[\"Ben Winterburn\",\"Bournemouth\",19.0,0,0],[\"Daniel Yáñez\",\"Real Madrid\",17.0,0,0],[\"Eloge Zabi\",\"Reims\",17.0,0,0],[\"Yoram Zague\",\"Paris S-G\",18.0,0,0],[\"Arsen Zakharyan\",\"Real Sociedad\",21.0,1,0],[\"Kevin Zeroli\",\"Monza\",19.0,0,1],[\"Kevin Zeroli\",\"Milan\",19.0,0,0],[\"Luc Zogbé\",\"Brest\",19.0,0,0],[\"Aristide Zossou\",\"Auxerre\",19.0,0,0],[\"Edhy Zuliani\",\"Toulouse\",19.0,0,0]],\"hovertemplate\":\"Role=Defender\\u003cbr\\u003ePC1=%{x}\\u003cbr\\u003ePC2=%{y}\\u003cbr\\u003ePlayer=%{customdata[0]}\\u003cbr\\u003eSquad=%{customdata[1]}\\u003cbr\\u003eAge=%{customdata[2]}\\u003cbr\\u003eGls=%{customdata[3]}\\u003cbr\\u003eAst=%{customdata[4]}\\u003cextra\\u003e\\u003c\\u002fextra\\u003e\",\"legendgroup\":\"Defender\",\"marker\":{\"color\":\"#636efa\",\"symbol\":\"circle\"},\"mode\":\"markers\",\"name\":\"Defender\",\"orientation\":\"v\",\"showlegend\":true,\"x\":[-1.4329866232195667,-1.4065921790315128,-1.6210516361882836,-1.334174093461909,-1.6201895797442574,-1.3187936262984903,-1.6111379870819822,-1.5960011379888965,-1.6197585515222446,-0.7682055367971515,-1.6201895797442574,-1.35812860607865,-1.5069095005898343,-1.6085009564272765,-0.8719767328952168,-0.4106113017663208,-1.5121782176278453,-1.5234453446372076,-1.180248449798394,-1.6219136926323101,-1.3960335248872098,-1.3621552155397434,-1.4592540504929603,-0.3706303121956016,-1.6106560975373425,-0.5046220437867425,-1.6115181539813688,-1.590783282273512,-1.5429391496300562,0.1079769106074201,-1.364422495054048,-1.5753117833322667,-0.6193771511007214,0.09483131207906523,-1.3214843657061384,-0.7779461138360355,-1.6067768435392242,-1.6016553661976933,-1.6007424484310404,-1.3592195178490847,-0.9589654041525627,-0.9309593740310063,0.09021832839388082,-1.4909425059884307,0.29358477552236467,-1.5933132460115644,-1.5500123227911462,-1.1663674069278083,-1.5150133469770308,-1.178681117466109,-1.6214826644102973,-1.5293485351877372,-1.6206206079662706,-1.3409233053176388,-1.6188964950782183,-1.3336277364791242,-1.454597157486968,-1.4429457893770947,-1.606396676639838,-1.1818844229202805,-1.6145862128580872,-0.16519662439966543,-1.581553811373951,-1.6197585515222446,-1.025420021701112,-1.3438134859570714,-1.5640541882372994,-0.06921993794554801,-1.129387125728894,0.4239726232523844,-1.1390422805790692,-1.6193275233002316,-1.590783282273512,-1.5998348749357876,-0.8990994112205922,-1.374741607653769,-1.6007424484310404,-1.5972433613323098,-1.3441439481622373,-1.2800863174556507,-1.5946571920002306,-1.514105773481778,-1.6128620999700345,-1.3709726086042102,-0.3384718491765932,-1.617603410412179,-1.6184654668562053,-1.199100257531399,-1.393965343678473,-1.458553996489338,-1.617603410412179,0.4559977347920676,0.162172685815862,-1.6219136926323101,-1.608069928205264,-1.4740815440072923,-1.4711152077758272,-0.15486557350117153,-1.54158985936999,-0.9303784066300179,-1.6171723821901658,-1.2546076764256437,-1.2702137249737673,-1.4498475852007044,-0.8532230095355209,-0.5294933183946953,-1.6219136926323101,-1.1233397407074412,-1.6102250693153293,-1.6201895797442574,-1.527365928043557,-1.388041203518849,-1.581984839595964,-0.632829296427731,-1.1565525922585207,-1.5994038467137748,-1.1117008220846814,-1.4119815691016955,-1.6106560975373425,-1.617603410412179,0.30017022399337895,-0.5981196013583697,-0.38886121422223213,-0.2079201432071669,0.5652964441035587,-0.14099816275328886,-0.8337054013752129,-1.6072078717612373,-1.6180344386341923,-0.9534714009042637,-1.6123802104253948,0.323438865998068,-1.6206206079662706,-1.5835521808731425,-1.56917566557883,-1.2710249200951673,-1.6145862128580872,-1.3157148788789719,-0.3455929660875915,-1.6163103257461398,-1.6171723821901658,-0.8157399304530146,-1.594277025100844,-1.066392997061765,-0.9506300140746063,-1.1654036278385291,-1.6115181539813688,-0.48736991672970786,-1.4103444161149716,-1.6171723821901658,0.047405951545503484,-1.0317422795359532,0.4715336462266016,-1.548775443719134,-1.1340222535911968,-0.2967401120067312,-1.376714680558928,-0.7564743050567692,-1.5476646977171884,-1.605103591973798,-1.1661622300574692,-0.2935616652463954,-1.1008703357032943,-1.5701903059907358,-1.35294584933088,-0.9457280442022612,-1.4464957377984526,0.10613476848952262,-1.3568660052607244,-1.6115690153039954,-1.18317750758632,-1.2765658532713193,-0.6353353951839925,-1.5835521808731425,-1.1531751778030488,-0.23092045395159255,-1.4853018838951522,-1.4948217599865485,-1.1480081834102915,-1.598541790269748,-1.572725614000188,-1.3103636623664408,-1.018855596119964,-1.6059656484178246,-0.5355848759007444,-1.6163103257461398,-0.5872022726745565,-1.5616247905160943,-1.6219136926323101,0.04114166086582444,0.13291253824438928,-0.4601673135763141,-0.7666594117848327,-1.1535933318782887,-0.38697652232932195,0.9243236997885622,-1.6041906742071455,-1.412863846002916,-1.5584508213511283,-0.5362742091609222,-1.5908796606473652,-1.6011734766530537,0.41927137595161873,-1.3465266722038094,-1.6171723821901658,-0.5322502202657237,-1.6184654668562053,-1.399953222124342,-1.6193275233002316,-0.06797786402875321,-0.7098609486975456,-1.5994038467137748,-1.6219136926323101,-0.5498636608467876,-1.4894039197963787,-1.1063900459943197,-0.4342161631648182,-1.5531821043131178,-1.5869040282753941,-1.2063260146603687,-0.30664428879274647,-1.3259821282203526,-1.6097940410933165,-0.46503459639238903,-0.8124648925108231,-0.7348080356497915,-1.5515035084762918,-1.592933079112178,-1.4567948980755412,-1.2330834775560244,0.3950829670158645,-1.087800781157509,-1.1348455277414198,0.4743736653337678,-1.6089828459719164,-1.5483845882769471,-0.7995400109733295,-0.9747166150935926,-1.608069928205264,-0.4729596896426007,-1.4308801871926338,-1.5649162446813252,-0.12262753001306619,0.18888550655998995,-1.048505706514833,-0.4810719927277067,-1.3310532874822583,-1.355695023039076,0.4246653717235081,-1.2915316566836215,-1.5402967747039509,-1.6193275233002316,-1.6171723821901658,-1.5202365469638146,-1.6167413539681526,-1.5817263453398371,-0.5213664069368328,-1.6210516361882836,-1.5989728184917615,-0.6138655451442783,-1.0317121790966786,-1.617603410412179,-0.05848755870100272,-1.3210587518979275,-0.1746335735400354,0.6859623671903506,-1.5353573632427007,-1.5140644463981716,-1.5474008591896613,-1.5717216621310817,-1.516539361170603,-0.040221952877335015,-1.5593637391177813,-1.6171723821901658,-1.6137241564140603,-1.5293030181365106,-0.5495267068113131,-1.5994038467137748,-1.5920710226681518,-1.6214826644102973,-1.6214826644102973,0.16108542358689018,-1.600265903157801,-1.594277025100844,-1.0781431702441724,-0.7625804094165411,-0.4150292591470384,-1.327276360569904,-1.2293112858253086,-1.588622796892047,-0.30817434268149213,-1.022248508599308,-1.0406924110672706,-0.8617385452075021,-1.452048243361997,-0.7697843009105004,-0.2171977601765241,0.5690365835710137,-1.6188964950782183,-0.4853997781491001,-0.18095766095070898,0.4719907466867292,-1.6201895797442574,-1.128230862675723,0.027345294850064386,-1.617603410412179,-0.5849869336734808,-1.42570466049657,-0.7123812556852104,-1.6024210442678668,-1.269080988500818,-1.4749436004513186,-1.6028975895411066,-0.8876190342225156,-0.5519676791199317,-1.6128620999700345,-1.5543841548767043,-1.049129637232351,-1.510834271639179,-1.5947080533228573,-1.3970640410959978,-0.5863990485185003,0.09897357365338809,-1.6020355330970795,-0.33156078062825783,-1.5093644630396337,-1.6210516361882836,-1.4896335432008831,0.5823629459249688,-1.412356391729682,-1.4831331366695681,-1.3665403809570058,-0.47636213171171377,-0.0941491896401343,-1.3126814626017822,-0.7725391480975635,-1.1744990087890428,-1.3918196210409317,-1.1624000363999554,-1.5185927796354155,-0.9842425991142395,0.25389623823674595,-0.83404497696316,-1.0758337140786136,-1.6167413539681526,-1.481890913326155,-0.5121991786969214,-1.578187085461279,-1.0543222076232217,-1.3549388745586721,-1.6171723821901658,-1.2755956981182277,-1.2811683083724694,-0.10279316771096794,-1.4333857405058716,-1.614155184636074,-1.4770478802387579,-0.05307315094865099,-1.6214826644102973,-1.590828799324739,-0.3485396370717767,-0.8792372873164068,0.8688416184693063,-1.4018445247068807,-1.5401093622276447,-1.6210516361882836,-1.6012243379756803,-1.0955840363767266,-0.7733046351173682,-1.1047221387002937,-1.6201895797442574,-1.4198228493562657,-1.6163103257461398,-0.3712756540317705,-0.4990489658948948,-1.5730602638483475,-1.558830988250515,-1.4361001991475113,-0.174126684900406,-1.4839846615881116,-1.3732743760253514,-1.006322145962662,-1.5928822177895516,-1.4259059495475825,-1.611949182203382,-1.1178931431075192,-1.0573052945512678,-1.5587801269278883,-1.035251050917146,-1.6180344386341923,0.22915258602671226,0.6629995020865789,-1.4982127805575398,-1.5998295306643877,-0.4186821313549677,-1.6115181539813688,-1.610706958859969,-1.6197585515222446,-1.6206206079662706,-1.6154482693021133,-1.6219136926323101,-1.1080749885304784,-0.8626906000335424,-1.4006086452459554,-1.5936734629129443,-0.9565358494140408,-1.5835521808731425,-1.4812152674227217,-0.948249475637007,-1.4801159391154763,-1.6219136926323101,-1.6219136926323101,-0.8157687923597439,-1.6180344386341923,-0.024502553765713916,-0.09927151422468676,-1.525869398087012,-1.503243223796617,-1.605483758873185,-1.3754750341866435,-1.6137241564140603,-1.6132931281920477,-0.0368847429101147,-1.5899158815580856,0.3691082871388687,-1.3293207969835916,0.025529565934254986,-1.4576652163636856,-1.6106560975373425,-1.6063458153172114,-1.400659506568582,-1.6219136926323101,-1.5513562687798124,0.40163230255645926,-0.7033167628228852,-1.284367733473411,-1.0700688057693772,-0.9839076788068917,-1.3741016651584597,-0.6316102247083755,-0.12497919979906466,-1.379279627498099,-1.5835521808731425,-0.7224785949378033,-1.5021226730964639,-1.6219136926323101,-1.6094138741939295,-1.4308769991607273,-1.6210516361882836,-1.5353680517855006,-1.4828174372083267,-1.6167413539681526,-1.617603410412179,-0.2523031820557933,-1.6219136926323101,1.1357947134510704,-1.4866322237682996,-1.6219136926323101,-0.43462754734054126,-0.32319541509839417,-1.3781898334298734,0.3319175600820885,-1.5487700994477336,-0.9990794998315771,-0.8339121272276898,-0.6300239217747597,-1.617603410412179,0.24670312070102557,-1.6219136926323101,0.31725217196191524,-1.603277756440493,-0.40118061195814864,-1.6206206079662706,-1.6007424484310404,-0.5925270472341693,-0.8984597821624158,-1.2872832083822496,-0.3270161530625193,-1.367186542623413,-0.5036609665045839,-1.1848181190641378,-1.2164175420039565,-0.12495109040527029,0.2699698527851097,-0.5803958594171346,-1.1664523676069614,-1.6201895797442574,-1.6011279596018273,-1.5925073951615651,-1.439117396701603,-1.2211967532199375,-1.5447596408919617,-1.5318436704173624,-1.0925172588398033,-1.219651790964073,1.2077446185840892,-1.0922348927526122,-1.6154482693021133,-0.9197144899374462,-1.6120000435260085,-1.6214826644102973,-1.5981054177763354,-1.415915872065434,-1.1392552577839694,-0.9013273979962397,-1.600691587108414,-0.8559135169372778,-1.5989674742203617,-1.6184654668562055],\"xaxis\":\"x\",\"y\":[0.17009156650260132,0.13717781777202404,0.43451287419023077,0.01262984333719171,0.4335406035453236,0.07159110539384482,0.42333176177379883,0.4046872784574687,0.43305446822287,0.48842625469707257,0.4335406035453236,0.36267137137008,0.3376421601119324,0.4187852028086221,-0.5632105277887255,0.28220265180350723,0.3038580377796558,0.38550097397155014,0.41744868852295297,0.4354851448351379,0.20944588818045617,0.14282161268410196,0.19391685234584186,1.0170819974089838,0.4212158794208897,-0.7372888110149568,0.42218815006579696,0.4401011478202008,0.3861401270278554,-0.8623770944684611,0.244294454504934,0.3813527829796977,-0.39280607534727463,-1.3176962152398901,0.4118310506979966,-0.43306428636843114,0.4168406615188077,0.41263678467982035,0.4100347670044579,0.18975462154643674,-0.30237674248298346,-0.43445803533400074,-0.9572232161910327,0.19887544757056752,-0.03263164730507288,0.39851097246183625,0.3862556923572885,-0.228943104195123,0.47225095796553007,0.21901093706068758,0.4349990095126843,0.3587219750835491,0.4340267388677772,0.058396007667712656,0.4320821975779629,-0.06901825139412561,0.2310533047410547,0.1400251856868557,0.4179842732268097,-0.2114422325867948,0.4272208443534273,-0.3578576575874712,0.4191740961308855,0.43305446822287,-0.40629016438505183,0.052710492037552625,0.36708351756544977,-0.9363760292260519,0.7186836770431478,0.13043544745361235,0.6972196237922865,0.4325683329004165,0.4401011478202008,0.4503099895917256,0.6991964263571492,0.059956310678281964,0.4100347670044579,0.40451593739437375,0.06831794304670946,0.4406475221710605,0.4015991254596525,0.5125261805527979,0.42527630306361314,0.28404223466154666,-0.9593788986514074,0.43062379161060227,0.4315960622555094,-0.19782578851507632,0.11399143053353217,0.251239857625238,0.43062379161060227,1.0016427648828106,-0.08010598904862246,0.4354851448351379,0.4182990674861683,0.17828642296442315,0.17651322273770365,-1.2631032959659043,0.340174733767409,-0.437657236302736,0.4301376562881486,-0.07711577596923327,0.3737506766298303,0.19068059110874305,0.5695742014816348,0.3760682353035731,0.4354851448351379,-0.11226994353681008,0.4207297440984362,0.4335406035453236,0.32413226812644136,0.33564667790452896,0.41966023145333914,-0.39162140557592545,0.8350646828829831,0.44982385426927196,-0.14377640699067062,0.22743289511123796,0.4212158794208897,0.43062379161060227,-0.046335360636212616,0.06908780927963787,-0.3654936462028535,0.26354576957280335,0.3167046386502117,0.8532123336877868,0.07114870103009066,0.4173267968412613,0.43110992693305583,0.8762427049120208,0.4231604207107041,0.7772932789939115,0.4340267388677772,0.3922191011367709,0.3712873944044368,0.3730932002442819,0.4272208443534273,-0.019196069419046162,-0.9497815711142107,0.4291653856432415,0.4301376562881486,-0.08030492087919688,0.4027427371676544,-0.3542783399255396,-0.4275138461628099,-0.23317486890094105,0.42218815006579696,1.2410611949396642,0.13246457278676751,0.4301376562881486,0.3083400228045249,-0.350481340806678,0.28000136430492656,0.4293042736830136,0.3220302066495599,0.7609588113807889,0.22737696021924933,0.7329452137940718,0.4530323175260668,0.41652586725944885,0.8548481228642965,0.09752182544577825,0.2083250685031382,0.3771489061407105,0.4612596897144901,0.7675103761642351,0.14717376232739518,0.4047118793275329,0.03350577433586406,0.42381789709625245,-0.2099838266194341,0.26361973151045515,-0.5394130247177557,0.3922191011367709,0.7957570758976039,-1.238398161869902,0.2688284066961686,0.20325066547264953,0.8328006922907916,0.44885158362436484,0.37843597104497645,0.12208007384051009,0.5295424235828889,0.417498137904356,-0.47060337535336066,0.4291653856432415,0.5120447000168434,0.39355237723711073,0.4354851448351379,0.6214228149195147,1.2546947249994702,0.4302380916519809,-0.04763601066146295,-0.21414149226234733,-1.0783470345245705,0.4915162103177977,0.41392384958408646,0.38153331705905197,0.36076375837355346,1.059431620874602,0.4004834016184814,0.4105209023269114,-0.32492826449110507,0.06471576685960895,0.4301376562881486,-0.5673022869607092,0.4315960622555094,0.3198727953268462,0.4325683329004165,0.11616606962074395,-0.12301461905704557,0.44982385426927196,0.4354851448351379,0.7098700065015788,0.40444176365297263,0.6880292638617429,-0.874433562485771,0.39454788070583,0.4357259299181187,-0.19282098209427675,-0.2790037970624103,0.1528686301321418,0.4202436087759827,-0.21002221992706357,0.6622406726063139,-0.721061054389869,0.3513558461838408,0.39965458416983834,0.20008850329845537,0.05438238860399443,-0.25924218471970756,0.841203880812274,-0.14717054765821225,-0.5150925699506458,0.42090108516153096,0.34469340486575495,-0.4561206342453298,-0.015478424357563478,0.4182990674861683,-0.3404195141400968,0.3087378042199614,0.36805578821035684,0.1828883587021631,-0.6228447351279089,-0.3086553797464286,-0.924817004882634,0.33559099205739434,0.1644391871652193,0.7364949452956576,0.406943704951359,0.3387163278000482,0.4325683329004165,0.4301376562881486,0.4797143288654285,0.42965152096569514,0.38701506578604555,-0.8302101915100003,0.43451287419023066,0.4493377189468184,-0.6294206074279174,0.5656431339310433,0.43062379161060227,-1.1297246767666547,0.11230650115234612,-0.6823285874172277,0.5076866881027056,0.3697270913938675,0.37806549093848285,0.3775099115961432,0.4583289398339634,0.3103491380346469,-0.03226291859301184,0.36336577604891585,0.4301376562881486,0.4262485737085202,0.3999694683157239,0.515850717785607,0.44982385426927196,0.3986823135249312,0.4349990095126843,0.4349990095126843,0.687311514439494,0.45079612491417914,0.4027427371676544,-0.25213871163312174,-0.2778197492162109,0.9561157686925328,0.3985867276259506,0.49655313174846566,0.3947932309453026,-0.7097717609692513,0.675727862447648,0.07252331142188266,0.7801545970862916,0.151863774488836,-0.5859472465901929,-1.4449639952831363,0.9587622661228568,0.4320821975779629,-0.22688340795294262,0.8920691877413124,1.56365043987064,0.4335406035453236,0.7836592141183762,1.292735414565389,0.43062379161060227,-0.6976941330720264,0.12057977278871324,0.07141229992031013,0.45322680152644684,0.38773718179146854,0.17925869360933025,0.4124654436167257,0.5536890218881791,0.29461563156544407,0.42527630306361314,0.47850127313754043,0.21488754510732935,0.3007698847818397,0.403228872490108,0.16773033391021677,-0.9324052932865519,1.42210449783483,0.41149317297181853,-0.4611480569714879,0.5071786920058086,0.43451287419023066,0.44519872097122554,-0.07126620447261621,0.18341204314060575,0.18849526473594794,0.32299784943469906,0.07334420886381461,0.837109575056799,0.37692189443851143,-0.6742713395654711,0.2416188564711013,0.16496678875420123,-0.1586753508101631,0.30952032058600376,-0.10678838655809074,-0.7021217416980092,-0.4381342684954567,0.4465783608574425,0.42965152096569514,0.18866660579904262,0.5774910683390863,0.4656209696707667,-0.0522341748606602,0.391427454457745,0.4301376562881486,-0.10526084831897393,0.23879429256217033,0.3976023886605278,0.28972766040517983,0.4267347090309738,0.18005962319114255,-0.6770333436234678,0.4349990095126843,0.3988536545880259,0.21057363875326593,0.21935833693317194,2.1825041214403997,0.2467810660091904,0.4608290604661173,0.43451287419023066,0.41215064935736684,0.11683148339492022,0.6791537608938337,0.7305917098650143,0.4335406035453236,0.11866311936572983,0.4291653856432415,0.22309001290618116,-0.3172842475922515,0.4185398525691492,0.35962014666555137,0.1338767675580542,0.9643896011218835,0.2799218416499981,0.4102523344716572,-0.4696176311005812,0.39802483713938275,0.2665459282097103,0.4226742853882504,0.11100058223918202,0.15624984150838692,0.35799039963509593,0.299029173098468,0.43110992693305583,-0.6648327695564974,0.11930242768539656,0.3204607378059818,0.40743274932909523,-0.11142317615140564,0.42218815006579696,0.4228456264513452,0.43305446822287,0.4340267388677772,0.42819311499833446,0.4354851448351379,0.03179272325102385,-0.29066835760761633,0.132001670288126,0.4344156321900407,-0.4521166696057261,0.3922191011367709,0.423614192896362,0.5007185529814348,0.185092317478773,0.4354851448351379,0.4354851448351379,0.13746216924867732,0.43110992693305583,-1.2453899765676302,0.1068674613315809,0.3161548740372589,0.40715960110931854,0.41538225555144703,0.37143551785175016,0.4262485737085202,0.42576243838606653,-1.4445345161187733,0.3962516369126633,0.659100949637983,0.4848582030990539,-0.49711989562251985,0.23608599902868513,0.4212158794208897,0.4163545261963541,0.1336314173185815,0.4354851448351379,0.3893438453551046,0.8330585394114197,-1.070181840671674,0.0532114403235437,-0.35642211014527936,-0.33706869082137714,0.4221898061670061,-0.8724620368890769,-1.0461619562348916,0.43519821125935904,0.3922191011367709,-0.627870841786687,0.37354216479711794,0.4354851448351379,0.4213872204839846,0.12641339665815596,0.43451287419023066,0.45548157191912825,0.269171088822358,0.42965152096569514,0.43062379161060227,-0.33816803912716925,0.4354851448351379,1.6729251494191708,0.1940140943460319,0.4354851448351379,0.7759536138380372,-0.27591868469006525,0.06384539325791046,-0.2028417122011948,0.38642703342038337,0.3570707140337668,-0.631723314389682,-0.5397171170427524,0.43062379161060227,1.2975920563556347,0.4354851448351379,0.0818186920825895,0.4113218319087238,-0.2266062097926324,0.4340267388677772,0.4100347670044579,0.12067989640441538,-0.46331640760092924,0.053354893519807614,-0.9372899119248465,0.25792947635744584,-0.9010241242647354,0.2574853260059554,-0.17092165976005436,-0.7977299183798015,-0.1046644652120745,1.1384030953712476,-0.006310931136200179,0.4335406035453236,0.4517683955590862,0.44204568911001496,0.1372797148152292,0.07598524000810122,0.3484669221159504,0.44413377348262,-0.2819362603407257,-0.08309725903310462,1.8482794701762906,0.28855606437529624,0.42819311499833446,0.026849659370036784,0.4243040324187059,0.4349990095126843,0.40548820803928104,0.2579342905587916,0.7711122826917549,0.3543994321115718,0.4084050199740024,-0.4861507073339673,0.40646047868418805,0.4315960622555092],\"yaxis\":\"y\",\"type\":\"scatter\"},{\"customdata\":[[\"Matthis Abline\",\"Nantes\",21.0,9,2],[\"Dilane Bakwa\",\"Strasbourg\",21.0,6,8],[\"Bradley Barcola\",\"Paris S-G\",21.0,14,10],[\"Thierno Barry\",\"Villarreal\",21.0,11,4],[\"Maximilian Beier\",\"Dortmund\",21.0,8,5],[\"Jude Bellingham\",\"Real Madrid\",21.0,9,8],[\"Eliesse Ben Seghir\",\"Monaco\",19.0,6,3],[\"Mika Biereth\",\"Monaco\",21.0,13,2],[\"Ange-Yoan Bonny\",\"Parma\",20.0,6,4],[\"Santiago Castro\",\"Bologna\",19.0,8,4],[\"Rayan Cherki\",\"Lyon\",20.0,8,11],[\"Liam Delap\",\"Ipswich Town\",21.0,12,2],[\"Désiré Doué\",\"Paris S-G\",19.0,6,6],[\"Emanuel Emegha\",\"Strasbourg\",21.0,14,3],[\"Alejandro Garnacho\",\"Manchester Utd\",20.0,6,2],[\"Jamie Gittens\",\"Dortmund\",19.0,8,3],[\"Fermin López\",\"Barcelona\",21.0,6,5],[\"Yankuba Minteh\",\"Brighton\",20.0,6,4],[\"Alberto Moleiro\",\"Las Palmas\",20.0,6,1],[\"Raúl Moro\",\"Valladolid\",21.0,4,5],[\"Jamal Musiala\",\"Bayern Munich\",21.0,12,2],[\"Paul Nebel\",\"Mainz 05\",21.0,10,4],[\"Nicolás Paz\",\"Como\",19.0,6,8],[\"Pedri\",\"Barcelona\",21.0,4,5],[\"Yeremi Pino\",\"Villarreal\",21.0,4,7],[\"Andrey Santos\",\"Strasbourg\",20.0,10,3],[\"Benjamin Šeško\",\"RB Leipzig\",21.0,13,5],[\"Xavi Simons\",\"RB Leipzig\",21.0,10,6],[\"Matìas Soulé\",\"Roma\",21.0,5,5],[\"Lucas Stassin\",\"Saint-Étienne\",19.0,12,4],[\"Florian Wirtz\",\"Leverkusen\",21.0,10,12],[\"Lamine Yamal\",\"Barcelona\",17.0,9,13],[\"Kenan Yıldız\",\"Juventus\",19.0,7,4]],\"hovertemplate\":\"Role=Playmaker\\u003cbr\\u003ePC1=%{x}\\u003cbr\\u003ePC2=%{y}\\u003cbr\\u003ePlayer=%{customdata[0]}\\u003cbr\\u003eSquad=%{customdata[1]}\\u003cbr\\u003eAge=%{customdata[2]}\\u003cbr\\u003eGls=%{customdata[3]}\\u003cbr\\u003eAst=%{customdata[4]}\\u003cextra\\u003e\\u003c\\u002fextra\\u003e\",\"legendgroup\":\"Playmaker\",\"marker\":{\"color\":\"#EF553B\",\"symbol\":\"circle\"},\"mode\":\"markers\",\"name\":\"Playmaker\",\"orientation\":\"v\",\"showlegend\":true,\"x\":[6.500497556005142,7.604102477605913,12.887787544556904,7.985051963163049,5.95845717360494,9.817872376624532,5.023644454531898,7.437269083264592,5.4370812445873495,6.609787557558274,10.530177863847701,7.850302754472601,6.914928268349613,9.785392367396781,5.364726624907623,4.90797014880711,5.462183573159415,5.4745066671943325,5.467294205762825,5.142174117753355,8.175580668501462,7.471551141463272,8.959644458134282,7.864264742517925,6.280543905035307,7.978393331077951,7.988093334288338,8.669916304855914,5.111663732690007,7.466171197646013,10.802948415583908,12.969327640583096,6.21893347571631],\"xaxis\":\"x\",\"y\":[2.5909460276211944,0.15924710131741865,5.6946185190600715,4.257240899388957,3.2656750572211632,1.2237060141618405,1.196638640197678,6.264542248060484,1.7701854731286584,1.6862716839420937,0.6834964675755313,2.048330484836381,1.1802268542675016,6.241503117283945,1.6684557090600678,1.8479500740877628,1.3767589796379607,0.708741664090415,-0.03185214793090845,0.3215369444163332,3.8594302184129003,1.9738806745596262,0.041879108627880864,-3.5076839521710266,-1.4058662699243336,0.2522519564939777,4.5852494143402724,1.479903350533875,0.438054744480798,3.9670976381249687,1.9381062125355906,2.0835948294256292,0.963860405305831],\"yaxis\":\"y\",\"type\":\"scatter\"},{\"customdata\":[[\"Carlos Alcaraz\",\"Everton\",21.0,2,3],[\"Mohamed Ali Cho\",\"Nice\",20.0,3,4],[\"Hugo Álvarez\",\"Celta Vigo\",21.0,4,3],[\"Elliot Anderson\",\"Nott'ham Forest\",21.0,2,6],[\"Hákon Arnar Haraldsson\",\"Lille\",21.0,5,3],[\"Yaser Asprilla\",\"Girona\",20.0,3,1],[\"Valentin Atangana Edoa\",\"Reims\",18.0,1,0],[\"Arthur Atta\",\"Udinese\",21.0,0,1],[\"Yasin Ayari\",\"Brighton\",20.0,2,1],[\"Alejandro Balde\",\"Barcelona\",20.0,0,4],[\"Carlos Baleba\",\"Brighton\",20.0,3,1],[\"Valentín Barco\",\"Strasbourg\",20.0,0,2],[\"Pablo Barrios\",\"Atlético Madrid\",21.0,1,4],[\"Reda Belahyane\",\"Hellas Verona\",20.0,0,2],[\"Lucas Beraldo\",\"Paris S-G\",20.0,1,0],[\"Lucas Bergvall\",\"Tottenham\",18.0,0,1],[\"Medon Berisha\",\"Lecce\",20.0,0,1],[\"Victor Bernth Kristiansen\",\"Leicester City\",21.0,0,1],[\"Alessandro Bianco\",\"Monza\",21.0,1,0],[\"Tom Bischof\",\"Hoffenheim\",19.0,5,2],[\"Warren Bondo\",\"Monza\",20.0,0,0],[\"Badredine Bouanani\",\"Nice\",19.0,3,3],[\"Conor Bradley\",\"Liverpool\",21.0,0,2],[\"Nathaniel Brown\",\"Eint Frankfurt\",21.0,3,6],[\"Facundo Buonanotte\",\"Leicester City\",19.0,5,2],[\"Lamine Camara\",\"Monaco\",20.0,2,7],[\"Eduardo Camavinga\",\"Real Madrid\",21.0,1,2],[\"Marc Casado\",\"Barcelona\",20.0,1,3],[\"Fares Chaïbi\",\"Eint Frankfurt\",21.0,1,3],[\"Djaoui Cissé\",\"Rennes\",20.0,1,0],[\"Nnamdi Collins\",\"Eint Frankfurt\",20.0,1,1],[\"Levi Colwill\",\"Chelsea\",21.0,2,1],[\"Pietro Comuzzo\",\"Fiorentina\",19.0,1,0],[\"Francisco Conceição\",\"Juventus\",21.0,3,3],[\"Diego Coppola\",\"Hellas Verona\",20.0,2,0],[\"Charlie Cresswell\",\"Toulouse\",21.0,3,1],[\"Pau Cubarsí\",\"Barcelona\",17.0,0,3],[\"Kévin Danois\",\"Auxerre\",20.0,0,0],[\"Oumar Diakité\",\"Reims\",20.0,4,1],[\"Assane Diao\",\"Como\",18.0,8,1],[\"Habib Diarra\",\"Strasbourg\",20.0,4,5],[\"Tyler Dibling\",\"Southampton\",18.0,2,0],[\"Andy Diouf\",\"Lens\",21.0,1,2],[\"Benjamín Domínguez\",\"Bologna\",20.0,3,2],[\"Patrick Dorgu\",\"Lecce\",19.0,3,1],[\"Guela Doué\",\"Strasbourg\",21.0,1,2],[\"Ismaël Doukouré\",\"Strasbourg\",21.0,1,1],[\"Kamory Doumbia\",\"Brest\",21.0,3,2],[\"Jáder Durán\",\"Aston Villa\",20.0,7,0],[\"Julio Enciso\",\"Ipswich Town\",20.0,2,3],[\"Dario Essugo\",\"Las Palmas\",19.0,1,0],[\"Giovanni Fabbian\",\"Bologna\",21.0,3,1],[\"Khalil Fayad\",\"Montpellier\",20.0,0,0],[\"Jacopo Fazzini\",\"Empoli\",21.0,4,1],[\"Mateus Fernandes\",\"Southampton\",20.0,2,4],[\"Matias Fernandez-Pardo\",\"Lille\",19.0,4,2],[\"Malick Fofana\",\"Lyon\",19.0,5,4],[\"Gavi\",\"Barcelona\",19.0,1,1],[\"Daniele Ghilardi\",\"Hellas Verona\",21.0,0,0],[\"Gvidas Gineitis\",\"Torino\",20.0,3,1],[\"Saba Goglichidze\",\"Empoli\",20.0,0,1],[\"Unai Gómez\",\"Athletic Club\",21.0,1,3],[\"Javier Guerra\",\"Valencia\",21.0,3,3],[\"Arda Güler\",\"Real Madrid\",19.0,3,4],[\"Malo Gusto\",\"Chelsea\",21.0,0,1],[\"Lewis Hall\",\"Newcastle Utd\",19.0,0,4],[\"Omar El Hilali\",\"Espanyol\",20.0,0,2],[\"Jack Hinshelwood\",\"Brighton\",19.0,5,2],[\"Dean Huijsen\",\"Bournemouth\",19.0,3,2],[\"Omari Hutchinson\",\"Ipswich Town\",20.0,3,2],[\"Rasmus Højlund\",\"Manchester Utd\",21.0,4,0],[\"George Ilenikhena\",\"Monaco\",17.0,3,2],[\"Jordan James\",\"Rennes\",20.0,0,1],[\"Mikel Jauregizar\",\"Athletic Club\",20.0,2,1],[\"Alejandro Jiménez\",\"Milan\",19.0,0,1],[\"Milos Kerkez\",\"Bournemouth\",20.0,2,5],[\"Bilal El Khannouss\",\"Leicester City\",20.0,2,3],[\"Amadou Koné\",\"Reims\",19.0,0,0],[\"Konstantinos Koulierakis\",\"Wolfsburg\",20.0,0,2],[\"Frans Krätzig\",\"Heidenheim\",21.0,1,2],[\"Rémy Labeau Lascary\",\"Lens\",21.0,2,1],[\"Hugo Larsson\",\"Eint Frankfurt\",20.0,3,1],[\"Félix Lemaréchal\",\"Strasbourg\",20.0,4,3],[\"Johann Lepenant\",\"Nantes\",21.0,2,1],[\"Rico Lewis\",\"Manchester City\",19.0,1,2],[\"Myles Lewis-Skelly\",\"Arsenal\",17.0,1,0],[\"Valentino Livramento\",\"Newcastle Utd\",21.0,0,1],[\"Castello Lukeba\",\"RB Leipzig\",21.0,0,0],[\"Soungoutou Magassa\",\"Monaco\",20.0,0,1],[\"Kobbie Mainoo\",\"Manchester Utd\",19.0,0,0],[\"Pablo Marín\",\"Real Sociedad\",21.0,1,2],[\"Mario Martín\",\"Valladolid\",20.0,0,1],[\"Arnau Martinez\",\"Girona\",21.0,2,2],[\"Pape Matar Sarr\",\"Tottenham\",21.0,3,2],[\"Jean Mattéo Bahoya\",\"Eint Frankfurt\",19.0,2,3],[\"Senny Mayulu\",\"Paris S-G\",18.0,2,2],[\"Samuel Mbangula\",\"Juventus\",20.0,3,3],[\"Fabio Miretti\",\"Genoa\",20.0,3,3],[\"Diego Moreira\",\"Strasbourg\",19.0,2,7],[\"Ilaix Moriba\",\"Celta Vigo\",21.0,1,1],[\"Cristhian Mosquera\",\"Valencia\",20.0,1,0],[\"Ngal'Ayel Mukau\",\"Lille\",19.0,0,1],[\"Yunus Musah\",\"Milan\",21.0,0,2],[\"João Neves\",\"Paris S-G\",19.0,3,8],[\"Ernest Nuamah\",\"Lyon\",20.0,3,1],[\"Antonio Nusa\",\"RB Leipzig\",19.0,3,3],[\"Ethan Nwaneri\",\"Arsenal\",17.0,4,2],[\"Rabby Nzingoula\",\"Montpellier\",18.0,1,0],[\"Adam Obert\",\"Cagliari\",21.0,1,1],[\"Tim Oermann\",\"Bochum\",20.0,0,2],[\"Gaetano Oristanio\",\"Venezia\",21.0,3,3],[\"Aleksandar Pavlovic\",\"Bayern Munich\",20.0,1,0],[\"Máximo Perrone\",\"Como\",21.0,0,3],[\"Niccolò Pisilli\",\"Roma\",19.0,2,1],[\"Leopold Querfeld\",\"Union Berlin\",20.0,2,2],[\"Álvaro Rodríguez\",\"Getafe\",20.0,2,0],[\"Javi Rodríguez\",\"Celta Vigo\",21.0,3,2],[\"Vitor Roque\",\"Betis\",19.0,4,0],[\"Tom Rothe\",\"Union Berlin\",19.0,3,3],[\"Jon Rowe\",\"Marseille\",21.0,3,3],[\"Juanlu Sánchez\",\"Sevilla\",20.0,4,4],[\"Nhoa Sangui\",\"Reims\",18.0,0,2],[\"Mamadou Sarr\",\"Strasbourg\",18.0,0,1],[\"Sávio\",\"Manchester City\",20.0,1,8],[\"Nicolò Savona\",\"Juventus\",21.0,2,1],[\"Joe Scally\",\"Gladbach\",21.0,0,0],[\"Armindo Sieb\",\"Mainz 05\",21.0,2,2],[\"Giuliano Simeone\",\"Atlético Madrid\",21.0,2,6],[\"Hugo Sotelo\",\"Celta Vigo\",20.0,0,0],[\"Luka Sučić\",\"Real Sociedad\",21.0,1,1],[\"Zion Suzuki\",\"Parma\",21.0,0,0],[\"Williot Swedberg\",\"Celta Vigo\",20.0,4,5],[\"Enzo Tchato\",\"Montpellier\",21.0,0,0],[\"Mathys Tel\",\"Tottenham\",19.0,2,1],[\"David Torres\",\"Valladolid\",21.0,0,0],[\"Christantus Uche\",\"Getafe\",21.0,4,6],[\"Destiny Udogie\",\"Tottenham\",21.0,0,1],[\"Lesley Ugochukwu\",\"Southampton\",20.0,1,1],[\"Lukas Ullrich\",\"Gladbach\",20.0,1,2],[\"Can Uzun\",\"Eint Frankfurt\",18.0,4,1],[\"Bart Verbruggen\",\"Brighton\",21.0,0,1],[\"Arthur Vermeeren\",\"RB Leipzig\",19.0,0,2],[\"Paul Wanner\",\"Heidenheim\",18.0,3,2],[\"Nelson Weiper\",\"Mainz 05\",19.0,3,2],[\"Adam Wharton\",\"Crystal Palace\",20.0,0,2],[\"Yehor Yarmoliuk\",\"Brentford\",20.0,0,0],[\"Leny Yoro\",\"Manchester Utd\",18.0,0,0],[\"Illia Zabarnyi\",\"Bournemouth\",21.0,0,1],[\"Warren Zaïre-Emery\",\"Paris S-G\",18.0,1,2],[\"Nathan Zeze\",\"Nantes\",19.0,0,0]],\"hovertemplate\":\"Role=Finisher\\u003cbr\\u003ePC1=%{x}\\u003cbr\\u003ePC2=%{y}\\u003cbr\\u003ePlayer=%{customdata[0]}\\u003cbr\\u003eSquad=%{customdata[1]}\\u003cbr\\u003eAge=%{customdata[2]}\\u003cbr\\u003eGls=%{customdata[3]}\\u003cbr\\u003eAst=%{customdata[4]}\\u003cextra\\u003e\\u003c\\u002fextra\\u003e\",\"legendgroup\":\"Finisher\",\"marker\":{\"color\":\"#00cc96\",\"symbol\":\"circle\"},\"mode\":\"markers\",\"name\":\"Finisher\",\"orientation\":\"v\",\"showlegend\":true,\"x\":[1.6969396069722589,3.6073218253251875,3.1964717968383463,5.318098821042008,4.297130507356638,2.30829474571463,2.3835162608723675,0.8513223162688746,2.2265013647502365,2.2503084384566394,3.7498449881204055,0.587445558990926,3.1863152918548527,1.1922773080884534,1.7164659599687788,0.19566502248298503,0.1749278810937645,0.792645462923141,2.580205733318445,4.85906955950279,0.17820631986523966,2.1848161728432727,0.4223557376095063,4.1628210067782225,4.299539107595861,5.557632663918994,0.7022105962067219,2.0671184870884716,1.7826067373369883,0.5460451558437304,1.040165968348774,3.5451959939794127,1.184437739199303,3.1847762735913885,2.1751224697047875,3.081822640303491,2.698555802888191,0.7719411234127012,3.2228470703372887,3.4704732638232345,5.103638981719927,2.061649349530144,2.6398745711324443,1.3650528565554254,2.206671874188788,3.0004013311950333,2.335361716261807,2.037788218422069,2.678174774599025,1.4501560641790923,1.8196328370733084,1.303392503372656,0.18997787710712416,1.9098601217895466,5.004562825342199,2.735773253807603,4.086743585006949,1.154813142915899,0.7677529507054145,1.9961439413483355,0.5797451083112581,0.8598922303753126,4.258515533654407,3.5940378149757186,1.578187981153257,2.7933343984705132,2.463854554232785,3.531922470147273,4.186099930201241,3.7365359636705557,2.5844374940961923,1.6598753583333374,0.8271931201916257,2.3421721804839217,0.6952303063297599,4.595990360384271,3.7084630324630092,0.04585068524540034,1.7020680390863607,0.7241673816012553,1.0561284163696791,3.1120761817955565,3.424442135298068,1.8235589436831394,1.864971847680515,0.43276999115957593,1.97995727464835,0.09663294227819723,0.519140834487184,0.7986613173825006,1.001017526145223,1.6132736215726216,3.193245406959012,3.348754082267961,1.588517009614521,1.509597363334426,1.1876562573076588,2.6763946764212783,5.2674825904181715,2.7093226133972252,2.014248210663569,0.42262011043514186,1.656661911259069,4.984971400832582,1.4795541548751796,2.270728641036189,1.6022377911862529,1.7819791680612815,0.6210254588887073,0.4777900407198253,3.50801332320027,0.8391116181200652,2.153706824596045,1.9590020243416246,2.1835664599112,0.6396250786628646,3.5205987600923976,2.497488857934473,2.45816867677033,2.8311930829696603,3.9105453421999603,0.22216565636336735,0.7852600420470321,4.976869240654527,1.5889578589219011,1.1615652445392353,1.1083735014976979,3.9525296953217954,0.7040610875441259,2.2003950555804344,0.05681844641257363,3.571197463873191,0.4874895337297617,1.1854264788076017,-0.03429682402784608,5.141743469852668,1.1234138697694822,1.3919471952682607,1.4709149413504643,1.6814410717774035,0.6428543109450222,1.3268695272581374,2.3266592096313468,1.863072641877211,1.3764964544375544,0.6218405983583707,0.09724552764343909,2.0311795061932294,2.2533113795191633,0.2191131013493851],\"xaxis\":\"x\",\"y\":[-0.20918148756422733,0.4819569634214262,-0.3936612282525176,-3.4999779730848792,0.3798033071423119,-0.008730937756012353,-2.7442971529005504,-1.6728966613766867,-0.8114327693349789,-1.9395390212560883,-2.296868498065002,-1.138866863058482,-2.465573228424404,-2.463838741834119,-2.813912830056618,-1.2276552968639134,-1.371047825972783,-1.6688481939813669,-3.640173419175118,-1.1455183797841935,-1.8493232454273851,0.43941292124289283,-1.0330423272927827,0.008208937675393326,-0.12760960744204775,-3.0811730787386375,-0.7443059946987449,-1.8032905474915024,-0.16051991016590078,-1.5023584455809569,-1.3537050967331916,-3.4881463112841726,-2.134260679317559,-0.12119690043068063,-2.953596119056946,-0.9971332463599843,-3.3907371986906396,-1.2296110188778615,0.25799909468270865,2.633409219564525,-1.5203716411338248,-1.3491849522375163,-1.407396057377905,0.995523151470602,0.2186105041199647,-3.8287725369411976,-3.2131814081906795,0.4067464195094488,2.7280013307313937,0.11849809727059829,-3.367710456624474,0.8367256688838912,-1.5223579946858066,1.0373367919326717,-2.8447985376115894,0.7716013432762133,1.3404109824319743,-1.280609428231922,-2.67166245183547,-0.42294673844284125,-1.9058001217656066,0.0901657001557063,-1.870917236494187,0.4081931883928422,-2.3423805042964387,-2.4507516114925596,-4.500768150955234,0.013597915784566908,-2.9821765030936715,-1.0820577318224318,1.24273057432961,2.0343543125757293,-1.57751215665275,-1.8918733737199787,-1.7837078488908713,-2.8563242109755715,-1.8485723843881776,-1.528130959348442,-2.5919510862149515,-0.255173676659614,0.10805876263479482,-0.8026651633656287,0.6592691027307657,-1.2071892122654795,-2.1513794137379296,-1.2831566462381845,-2.7769530457666884,-1.5858882267183905,-1.7793977374232153,-2.070650122313212,-0.6862242159420467,-2.614464310811241,-2.2782993609526656,-1.0210645728655587,0.13424427175450407,0.6253560314514672,0.9471281240041712,0.29883063500521634,-1.3621791162365984,-3.257342209560395,-3.4589447671843345,-1.5145918471182611,-1.9943979723665415,-0.44276110515771705,0.6347195959075072,0.5876467947840419,1.137884982825586,-2.780082746129484,-1.0054973468868103,-1.2288975966334212,-0.16177645771272495,-1.644837911373884,-2.672264991484643,-1.21976065433013,-1.8154236699417958,-0.5509815551417552,-2.0855131012327983,1.297704537100852,-0.35845365326905265,1.0888427921583408,-0.5794611655888519,-1.2526225111306986,-2.038858457374327,-0.35210556057626985,-1.3384047115765882,-2.846647925293605,0.6854705770221533,-0.6540835660820323,-2.1601091102933863,-1.2017669840330754,-1.6356610545988597,1.7483660656363196,-1.8063300911026066,0.4426798357083279,-1.7385769041866477,-0.8743060298026344,-2.18020954884606,-1.9554032635881724,-1.2480399883209985,1.450926966375742,-2.298676046139556,-2.6621503007110863,0.03888645100995145,1.3793151706860889,-1.6744184980745955,-2.212166975977252,-1.7208357089031936,-3.2606816544871724,-1.997834429356045,-2.127430620979675],\"yaxis\":\"y\",\"type\":\"scatter\"}],                        {\"template\":{\"data\":{\"histogram2dcontour\":[{\"type\":\"histogram2dcontour\",\"colorbar\":{\"outlinewidth\":0,\"ticks\":\"\"},\"colorscale\":[[0.0,\"#0d0887\"],[0.1111111111111111,\"#46039f\"],[0.2222222222222222,\"#7201a8\"],[0.3333333333333333,\"#9c179e\"],[0.4444444444444444,\"#bd3786\"],[0.5555555555555556,\"#d8576b\"],[0.6666666666666666,\"#ed7953\"],[0.7777777777777778,\"#fb9f3a\"],[0.8888888888888888,\"#fdca26\"],[1.0,\"#f0f921\"]]}],\"choropleth\":[{\"type\":\"choropleth\",\"colorbar\":{\"outlinewidth\":0,\"ticks\":\"\"}}],\"histogram2d\":[{\"type\":\"histogram2d\",\"colorbar\":{\"outlinewidth\":0,\"ticks\":\"\"},\"colorscale\":[[0.0,\"#0d0887\"],[0.1111111111111111,\"#46039f\"],[0.2222222222222222,\"#7201a8\"],[0.3333333333333333,\"#9c179e\"],[0.4444444444444444,\"#bd3786\"],[0.5555555555555556,\"#d8576b\"],[0.6666666666666666,\"#ed7953\"],[0.7777777777777778,\"#fb9f3a\"],[0.8888888888888888,\"#fdca26\"],[1.0,\"#f0f921\"]]}],\"heatmap\":[{\"type\":\"heatmap\",\"colorbar\":{\"outlinewidth\":0,\"ticks\":\"\"},\"colorscale\":[[0.0,\"#0d0887\"],[0.1111111111111111,\"#46039f\"],[0.2222222222222222,\"#7201a8\"],[0.3333333333333333,\"#9c179e\"],[0.4444444444444444,\"#bd3786\"],[0.5555555555555556,\"#d8576b\"],[0.6666666666666666,\"#ed7953\"],[0.7777777777777778,\"#fb9f3a\"],[0.8888888888888888,\"#fdca26\"],[1.0,\"#f0f921\"]]}],\"heatmapgl\":[{\"type\":\"heatmapgl\",\"colorbar\":{\"outlinewidth\":0,\"ticks\":\"\"},\"colorscale\":[[0.0,\"#0d0887\"],[0.1111111111111111,\"#46039f\"],[0.2222222222222222,\"#7201a8\"],[0.3333333333333333,\"#9c179e\"],[0.4444444444444444,\"#bd3786\"],[0.5555555555555556,\"#d8576b\"],[0.6666666666666666,\"#ed7953\"],[0.7777777777777778,\"#fb9f3a\"],[0.8888888888888888,\"#fdca26\"],[1.0,\"#f0f921\"]]}],\"contourcarpet\":[{\"type\":\"contourcarpet\",\"colorbar\":{\"outlinewidth\":0,\"ticks\":\"\"}}],\"contour\":[{\"type\":\"contour\",\"colorbar\":{\"outlinewidth\":0,\"ticks\":\"\"},\"colorscale\":[[0.0,\"#0d0887\"],[0.1111111111111111,\"#46039f\"],[0.2222222222222222,\"#7201a8\"],[0.3333333333333333,\"#9c179e\"],[0.4444444444444444,\"#bd3786\"],[0.5555555555555556,\"#d8576b\"],[0.6666666666666666,\"#ed7953\"],[0.7777777777777778,\"#fb9f3a\"],[0.8888888888888888,\"#fdca26\"],[1.0,\"#f0f921\"]]}],\"surface\":[{\"type\":\"surface\",\"colorbar\":{\"outlinewidth\":0,\"ticks\":\"\"},\"colorscale\":[[0.0,\"#0d0887\"],[0.1111111111111111,\"#46039f\"],[0.2222222222222222,\"#7201a8\"],[0.3333333333333333,\"#9c179e\"],[0.4444444444444444,\"#bd3786\"],[0.5555555555555556,\"#d8576b\"],[0.6666666666666666,\"#ed7953\"],[0.7777777777777778,\"#fb9f3a\"],[0.8888888888888888,\"#fdca26\"],[1.0,\"#f0f921\"]]}],\"mesh3d\":[{\"type\":\"mesh3d\",\"colorbar\":{\"outlinewidth\":0,\"ticks\":\"\"}}],\"scatter\":[{\"fillpattern\":{\"fillmode\":\"overlay\",\"size\":10,\"solidity\":0.2},\"type\":\"scatter\"}],\"parcoords\":[{\"type\":\"parcoords\",\"line\":{\"colorbar\":{\"outlinewidth\":0,\"ticks\":\"\"}}}],\"scatterpolargl\":[{\"type\":\"scatterpolargl\",\"marker\":{\"colorbar\":{\"outlinewidth\":0,\"ticks\":\"\"}}}],\"bar\":[{\"error_x\":{\"color\":\"#2a3f5f\"},\"error_y\":{\"color\":\"#2a3f5f\"},\"marker\":{\"line\":{\"color\":\"#E5ECF6\",\"width\":0.5},\"pattern\":{\"fillmode\":\"overlay\",\"size\":10,\"solidity\":0.2}},\"type\":\"bar\"}],\"scattergeo\":[{\"type\":\"scattergeo\",\"marker\":{\"colorbar\":{\"outlinewidth\":0,\"ticks\":\"\"}}}],\"scatterpolar\":[{\"type\":\"scatterpolar\",\"marker\":{\"colorbar\":{\"outlinewidth\":0,\"ticks\":\"\"}}}],\"histogram\":[{\"marker\":{\"pattern\":{\"fillmode\":\"overlay\",\"size\":10,\"solidity\":0.2}},\"type\":\"histogram\"}],\"scattergl\":[{\"type\":\"scattergl\",\"marker\":{\"colorbar\":{\"outlinewidth\":0,\"ticks\":\"\"}}}],\"scatter3d\":[{\"type\":\"scatter3d\",\"line\":{\"colorbar\":{\"outlinewidth\":0,\"ticks\":\"\"}},\"marker\":{\"colorbar\":{\"outlinewidth\":0,\"ticks\":\"\"}}}],\"scattermapbox\":[{\"type\":\"scattermapbox\",\"marker\":{\"colorbar\":{\"outlinewidth\":0,\"ticks\":\"\"}}}],\"scatterternary\":[{\"type\":\"scatterternary\",\"marker\":{\"colorbar\":{\"outlinewidth\":0,\"ticks\":\"\"}}}],\"scattercarpet\":[{\"type\":\"scattercarpet\",\"marker\":{\"colorbar\":{\"outlinewidth\":0,\"ticks\":\"\"}}}],\"carpet\":[{\"aaxis\":{\"endlinecolor\":\"#2a3f5f\",\"gridcolor\":\"white\",\"linecolor\":\"white\",\"minorgridcolor\":\"white\",\"startlinecolor\":\"#2a3f5f\"},\"baxis\":{\"endlinecolor\":\"#2a3f5f\",\"gridcolor\":\"white\",\"linecolor\":\"white\",\"minorgridcolor\":\"white\",\"startlinecolor\":\"#2a3f5f\"},\"type\":\"carpet\"}],\"table\":[{\"cells\":{\"fill\":{\"color\":\"#EBF0F8\"},\"line\":{\"color\":\"white\"}},\"header\":{\"fill\":{\"color\":\"#C8D4E3\"},\"line\":{\"color\":\"white\"}},\"type\":\"table\"}],\"barpolar\":[{\"marker\":{\"line\":{\"color\":\"#E5ECF6\",\"width\":0.5},\"pattern\":{\"fillmode\":\"overlay\",\"size\":10,\"solidity\":0.2}},\"type\":\"barpolar\"}],\"pie\":[{\"automargin\":true,\"type\":\"pie\"}]},\"layout\":{\"autotypenumbers\":\"strict\",\"colorway\":[\"#636efa\",\"#EF553B\",\"#00cc96\",\"#ab63fa\",\"#FFA15A\",\"#19d3f3\",\"#FF6692\",\"#B6E880\",\"#FF97FF\",\"#FECB52\"],\"font\":{\"color\":\"#2a3f5f\"},\"hovermode\":\"closest\",\"hoverlabel\":{\"align\":\"left\"},\"paper_bgcolor\":\"white\",\"plot_bgcolor\":\"#E5ECF6\",\"polar\":{\"bgcolor\":\"#E5ECF6\",\"angularaxis\":{\"gridcolor\":\"white\",\"linecolor\":\"white\",\"ticks\":\"\"},\"radialaxis\":{\"gridcolor\":\"white\",\"linecolor\":\"white\",\"ticks\":\"\"}},\"ternary\":{\"bgcolor\":\"#E5ECF6\",\"aaxis\":{\"gridcolor\":\"white\",\"linecolor\":\"white\",\"ticks\":\"\"},\"baxis\":{\"gridcolor\":\"white\",\"linecolor\":\"white\",\"ticks\":\"\"},\"caxis\":{\"gridcolor\":\"white\",\"linecolor\":\"white\",\"ticks\":\"\"}},\"coloraxis\":{\"colorbar\":{\"outlinewidth\":0,\"ticks\":\"\"}},\"colorscale\":{\"sequential\":[[0.0,\"#0d0887\"],[0.1111111111111111,\"#46039f\"],[0.2222222222222222,\"#7201a8\"],[0.3333333333333333,\"#9c179e\"],[0.4444444444444444,\"#bd3786\"],[0.5555555555555556,\"#d8576b\"],[0.6666666666666666,\"#ed7953\"],[0.7777777777777778,\"#fb9f3a\"],[0.8888888888888888,\"#fdca26\"],[1.0,\"#f0f921\"]],\"sequentialminus\":[[0.0,\"#0d0887\"],[0.1111111111111111,\"#46039f\"],[0.2222222222222222,\"#7201a8\"],[0.3333333333333333,\"#9c179e\"],[0.4444444444444444,\"#bd3786\"],[0.5555555555555556,\"#d8576b\"],[0.6666666666666666,\"#ed7953\"],[0.7777777777777778,\"#fb9f3a\"],[0.8888888888888888,\"#fdca26\"],[1.0,\"#f0f921\"]],\"diverging\":[[0,\"#8e0152\"],[0.1,\"#c51b7d\"],[0.2,\"#de77ae\"],[0.3,\"#f1b6da\"],[0.4,\"#fde0ef\"],[0.5,\"#f7f7f7\"],[0.6,\"#e6f5d0\"],[0.7,\"#b8e186\"],[0.8,\"#7fbc41\"],[0.9,\"#4d9221\"],[1,\"#276419\"]]},\"xaxis\":{\"gridcolor\":\"white\",\"linecolor\":\"white\",\"ticks\":\"\",\"title\":{\"standoff\":15},\"zerolinecolor\":\"white\",\"automargin\":true,\"zerolinewidth\":2},\"yaxis\":{\"gridcolor\":\"white\",\"linecolor\":\"white\",\"ticks\":\"\",\"title\":{\"standoff\":15},\"zerolinecolor\":\"white\",\"automargin\":true,\"zerolinewidth\":2},\"scene\":{\"xaxis\":{\"backgroundcolor\":\"#E5ECF6\",\"gridcolor\":\"white\",\"linecolor\":\"white\",\"showbackground\":true,\"ticks\":\"\",\"zerolinecolor\":\"white\",\"gridwidth\":2},\"yaxis\":{\"backgroundcolor\":\"#E5ECF6\",\"gridcolor\":\"white\",\"linecolor\":\"white\",\"showbackground\":true,\"ticks\":\"\",\"zerolinecolor\":\"white\",\"gridwidth\":2},\"zaxis\":{\"backgroundcolor\":\"#E5ECF6\",\"gridcolor\":\"white\",\"linecolor\":\"white\",\"showbackground\":true,\"ticks\":\"\",\"zerolinecolor\":\"white\",\"gridwidth\":2}},\"shapedefaults\":{\"line\":{\"color\":\"#2a3f5f\"}},\"annotationdefaults\":{\"arrowcolor\":\"#2a3f5f\",\"arrowhead\":0,\"arrowwidth\":1},\"geo\":{\"bgcolor\":\"white\",\"landcolor\":\"#E5ECF6\",\"subunitcolor\":\"white\",\"showland\":true,\"showlakes\":true,\"lakecolor\":\"white\"},\"title\":{\"x\":0.05},\"mapbox\":{\"style\":\"light\"}}},\"xaxis\":{\"anchor\":\"y\",\"domain\":[0.0,1.0],\"title\":{\"text\":\"PC1\"}},\"yaxis\":{\"anchor\":\"x\",\"domain\":[0.0,1.0],\"title\":{\"text\":\"PC2\"}},\"legend\":{\"title\":{\"text\":\"Role\"},\"tracegroupgap\":0},\"title\":{\"text\":\"Young Players Role Classification Based on Performance Stats\"}},                        {\"responsive\": true}                    ).then(function(){\n",
       "                            \n",
       "var gd = document.getElementById('f7e0e217-e6bc-48a3-bc7c-15f9fb514d50');\n",
       "var x = new MutationObserver(function (mutations, observer) {{\n",
       "        var display = window.getComputedStyle(gd).display;\n",
       "        if (!display || display === 'none') {{\n",
       "            console.log([gd, 'removed!']);\n",
       "            Plotly.purge(gd);\n",
       "            observer.disconnect();\n",
       "        }}\n",
       "}});\n",
       "\n",
       "// Listen for the removal of the full notebook cells\n",
       "var notebookContainer = gd.closest('#notebook-container');\n",
       "if (notebookContainer) {{\n",
       "    x.observe(notebookContainer, {childList: true});\n",
       "}}\n",
       "\n",
       "// Listen for the clearing of the current output cell\n",
       "var outputEl = gd.closest('.output');\n",
       "if (outputEl) {{\n",
       "    x.observe(outputEl, {childList: true});\n",
       "}}\n",
       "\n",
       "                        })                };                            </script>        </div>\n",
       "</body>\n",
       "</html>"
      ]
     },
     "metadata": {},
     "output_type": "display_data"
    }
   ],
   "source": [
    "cluster_summary = young_players.groupby('RoleCluster')[features].mean().round(2)\n",
    "display(cluster_summary)\n",
    "\n",
    "# After examining cluster_summary results:\n",
    "# Cluster 0 → Finisher\n",
    "# Cluster 1 → Defender\n",
    "# Cluster 2 → Playmaker\n",
    "\n",
    "role_map = {\n",
    "    0: \"Finisher\",\n",
    "    1: \"Defender\",\n",
    "    2: \"Playmaker\"\n",
    "}\n",
    "\n",
    "young_players['Role'] = young_players['RoleCluster'].map(role_map)\n",
    "\n",
    "fig = px.scatter(\n",
    "    young_players,\n",
    "    x='PC1', y='PC2',\n",
    "    color='Role',\n",
    "    hover_data=['Player', 'Squad', 'Age', 'Gls', 'Ast'],\n",
    "    title='Young Players Role Classification Based on Performance Stats'\n",
    ")\n",
    "fig.show()"
   ]
  },
  {
   "cell_type": "code",
   "execution_count": 38,
   "id": "42ebcc40",
   "metadata": {
    "_cell_guid": "ebd5a419-98e9-40a8-89da-6ffaf76c15ce",
    "_uuid": "6fb903a6-8d56-4c0c-a644-ee1ba6da7c13",
    "collapsed": false,
    "execution": {
     "iopub.execute_input": "2025-07-05T04:56:07.122703Z",
     "iopub.status.busy": "2025-07-05T04:56:07.122374Z",
     "iopub.status.idle": "2025-07-05T04:56:07.131003Z",
     "shell.execute_reply": "2025-07-05T04:56:07.129835Z"
    },
    "jupyter": {
     "outputs_hidden": false
    },
    "papermill": {
     "duration": 0.044036,
     "end_time": "2025-07-05T04:56:07.132847",
     "exception": false,
     "start_time": "2025-07-05T04:56:07.088811",
     "status": "completed"
    },
    "tags": []
   },
   "outputs": [
    {
     "data": {
      "text/plain": [
       "Role\n",
       "Defender     509\n",
       "Finisher     150\n",
       "Playmaker     33\n",
       "Name: count, dtype: int64"
      ]
     },
     "execution_count": 38,
     "metadata": {},
     "output_type": "execute_result"
    }
   ],
   "source": [
    "young_players['Role'].value_counts()"
   ]
  },
  {
   "cell_type": "code",
   "execution_count": 39,
   "id": "af4110f1",
   "metadata": {
    "_cell_guid": "8e5f6ef7-11f9-4dfc-9f20-03928544a11e",
    "_uuid": "853e7fee-3fd5-4866-badb-1a4e807d87cd",
    "collapsed": false,
    "execution": {
     "iopub.execute_input": "2025-07-05T04:56:07.197784Z",
     "iopub.status.busy": "2025-07-05T04:56:07.197423Z",
     "iopub.status.idle": "2025-07-05T04:56:07.262420Z",
     "shell.execute_reply": "2025-07-05T04:56:07.261396Z"
    },
    "jupyter": {
     "outputs_hidden": false
    },
    "papermill": {
     "duration": 0.099552,
     "end_time": "2025-07-05T04:56:07.264271",
     "exception": false,
     "start_time": "2025-07-05T04:56:07.164719",
     "status": "completed"
    },
    "tags": []
   },
   "outputs": [
    {
     "data": {
      "text/html": [
       "<html>\n",
       "<head><meta charset=\"utf-8\" /></head>\n",
       "<body>\n",
       "    <div>            <script src=\"https://cdnjs.cloudflare.com/ajax/libs/mathjax/2.7.5/MathJax.js?config=TeX-AMS-MML_SVG\"></script><script type=\"text/javascript\">if (window.MathJax && window.MathJax.Hub && window.MathJax.Hub.Config) {window.MathJax.Hub.Config({SVG: {font: \"STIX-Web\"}});}</script>                <script type=\"text/javascript\">window.PlotlyConfig = {MathJaxConfig: 'local'};</script>\n",
       "        <script charset=\"utf-8\" src=\"https://cdn.plot.ly/plotly-2.35.2.min.js\"></script>                <div id=\"80ffe5de-23c7-47fb-9a00-865e02cb9fe2\" class=\"plotly-graph-div\" style=\"height:525px; width:100%;\"></div>            <script type=\"text/javascript\">                                    window.PLOTLYENV=window.PLOTLYENV || {};                                    if (document.getElementById(\"80ffe5de-23c7-47fb-9a00-865e02cb9fe2\")) {                    Plotly.newPlot(                        \"80ffe5de-23c7-47fb-9a00-865e02cb9fe2\",                        [{\"alignmentgroup\":\"True\",\"hovertemplate\":\"Role=%{x}\\u003cbr\\u003eNumber of Players=%{text}\\u003cextra\\u003e\\u003c\\u002fextra\\u003e\",\"legendgroup\":\"Defender\",\"marker\":{\"color\":\"rgb(102,194,165)\",\"pattern\":{\"shape\":\"\"}},\"name\":\"Defender\",\"offsetgroup\":\"Defender\",\"orientation\":\"v\",\"showlegend\":true,\"text\":[509.0],\"textposition\":\"outside\",\"x\":[\"Defender\"],\"xaxis\":\"x\",\"y\":[509],\"yaxis\":\"y\",\"type\":\"bar\"},{\"alignmentgroup\":\"True\",\"hovertemplate\":\"Role=%{x}\\u003cbr\\u003eNumber of Players=%{text}\\u003cextra\\u003e\\u003c\\u002fextra\\u003e\",\"legendgroup\":\"Finisher\",\"marker\":{\"color\":\"rgb(252,141,98)\",\"pattern\":{\"shape\":\"\"}},\"name\":\"Finisher\",\"offsetgroup\":\"Finisher\",\"orientation\":\"v\",\"showlegend\":true,\"text\":[150.0],\"textposition\":\"outside\",\"x\":[\"Finisher\"],\"xaxis\":\"x\",\"y\":[150],\"yaxis\":\"y\",\"type\":\"bar\"},{\"alignmentgroup\":\"True\",\"hovertemplate\":\"Role=%{x}\\u003cbr\\u003eNumber of Players=%{text}\\u003cextra\\u003e\\u003c\\u002fextra\\u003e\",\"legendgroup\":\"Playmaker\",\"marker\":{\"color\":\"rgb(141,160,203)\",\"pattern\":{\"shape\":\"\"}},\"name\":\"Playmaker\",\"offsetgroup\":\"Playmaker\",\"orientation\":\"v\",\"showlegend\":true,\"text\":[33.0],\"textposition\":\"outside\",\"x\":[\"Playmaker\"],\"xaxis\":\"x\",\"y\":[33],\"yaxis\":\"y\",\"type\":\"bar\"}],                        {\"template\":{\"data\":{\"histogram2dcontour\":[{\"type\":\"histogram2dcontour\",\"colorbar\":{\"outlinewidth\":0,\"ticks\":\"\"},\"colorscale\":[[0.0,\"#0d0887\"],[0.1111111111111111,\"#46039f\"],[0.2222222222222222,\"#7201a8\"],[0.3333333333333333,\"#9c179e\"],[0.4444444444444444,\"#bd3786\"],[0.5555555555555556,\"#d8576b\"],[0.6666666666666666,\"#ed7953\"],[0.7777777777777778,\"#fb9f3a\"],[0.8888888888888888,\"#fdca26\"],[1.0,\"#f0f921\"]]}],\"choropleth\":[{\"type\":\"choropleth\",\"colorbar\":{\"outlinewidth\":0,\"ticks\":\"\"}}],\"histogram2d\":[{\"type\":\"histogram2d\",\"colorbar\":{\"outlinewidth\":0,\"ticks\":\"\"},\"colorscale\":[[0.0,\"#0d0887\"],[0.1111111111111111,\"#46039f\"],[0.2222222222222222,\"#7201a8\"],[0.3333333333333333,\"#9c179e\"],[0.4444444444444444,\"#bd3786\"],[0.5555555555555556,\"#d8576b\"],[0.6666666666666666,\"#ed7953\"],[0.7777777777777778,\"#fb9f3a\"],[0.8888888888888888,\"#fdca26\"],[1.0,\"#f0f921\"]]}],\"heatmap\":[{\"type\":\"heatmap\",\"colorbar\":{\"outlinewidth\":0,\"ticks\":\"\"},\"colorscale\":[[0.0,\"#0d0887\"],[0.1111111111111111,\"#46039f\"],[0.2222222222222222,\"#7201a8\"],[0.3333333333333333,\"#9c179e\"],[0.4444444444444444,\"#bd3786\"],[0.5555555555555556,\"#d8576b\"],[0.6666666666666666,\"#ed7953\"],[0.7777777777777778,\"#fb9f3a\"],[0.8888888888888888,\"#fdca26\"],[1.0,\"#f0f921\"]]}],\"heatmapgl\":[{\"type\":\"heatmapgl\",\"colorbar\":{\"outlinewidth\":0,\"ticks\":\"\"},\"colorscale\":[[0.0,\"#0d0887\"],[0.1111111111111111,\"#46039f\"],[0.2222222222222222,\"#7201a8\"],[0.3333333333333333,\"#9c179e\"],[0.4444444444444444,\"#bd3786\"],[0.5555555555555556,\"#d8576b\"],[0.6666666666666666,\"#ed7953\"],[0.7777777777777778,\"#fb9f3a\"],[0.8888888888888888,\"#fdca26\"],[1.0,\"#f0f921\"]]}],\"contourcarpet\":[{\"type\":\"contourcarpet\",\"colorbar\":{\"outlinewidth\":0,\"ticks\":\"\"}}],\"contour\":[{\"type\":\"contour\",\"colorbar\":{\"outlinewidth\":0,\"ticks\":\"\"},\"colorscale\":[[0.0,\"#0d0887\"],[0.1111111111111111,\"#46039f\"],[0.2222222222222222,\"#7201a8\"],[0.3333333333333333,\"#9c179e\"],[0.4444444444444444,\"#bd3786\"],[0.5555555555555556,\"#d8576b\"],[0.6666666666666666,\"#ed7953\"],[0.7777777777777778,\"#fb9f3a\"],[0.8888888888888888,\"#fdca26\"],[1.0,\"#f0f921\"]]}],\"surface\":[{\"type\":\"surface\",\"colorbar\":{\"outlinewidth\":0,\"ticks\":\"\"},\"colorscale\":[[0.0,\"#0d0887\"],[0.1111111111111111,\"#46039f\"],[0.2222222222222222,\"#7201a8\"],[0.3333333333333333,\"#9c179e\"],[0.4444444444444444,\"#bd3786\"],[0.5555555555555556,\"#d8576b\"],[0.6666666666666666,\"#ed7953\"],[0.7777777777777778,\"#fb9f3a\"],[0.8888888888888888,\"#fdca26\"],[1.0,\"#f0f921\"]]}],\"mesh3d\":[{\"type\":\"mesh3d\",\"colorbar\":{\"outlinewidth\":0,\"ticks\":\"\"}}],\"scatter\":[{\"fillpattern\":{\"fillmode\":\"overlay\",\"size\":10,\"solidity\":0.2},\"type\":\"scatter\"}],\"parcoords\":[{\"type\":\"parcoords\",\"line\":{\"colorbar\":{\"outlinewidth\":0,\"ticks\":\"\"}}}],\"scatterpolargl\":[{\"type\":\"scatterpolargl\",\"marker\":{\"colorbar\":{\"outlinewidth\":0,\"ticks\":\"\"}}}],\"bar\":[{\"error_x\":{\"color\":\"#2a3f5f\"},\"error_y\":{\"color\":\"#2a3f5f\"},\"marker\":{\"line\":{\"color\":\"#E5ECF6\",\"width\":0.5},\"pattern\":{\"fillmode\":\"overlay\",\"size\":10,\"solidity\":0.2}},\"type\":\"bar\"}],\"scattergeo\":[{\"type\":\"scattergeo\",\"marker\":{\"colorbar\":{\"outlinewidth\":0,\"ticks\":\"\"}}}],\"scatterpolar\":[{\"type\":\"scatterpolar\",\"marker\":{\"colorbar\":{\"outlinewidth\":0,\"ticks\":\"\"}}}],\"histogram\":[{\"marker\":{\"pattern\":{\"fillmode\":\"overlay\",\"size\":10,\"solidity\":0.2}},\"type\":\"histogram\"}],\"scattergl\":[{\"type\":\"scattergl\",\"marker\":{\"colorbar\":{\"outlinewidth\":0,\"ticks\":\"\"}}}],\"scatter3d\":[{\"type\":\"scatter3d\",\"line\":{\"colorbar\":{\"outlinewidth\":0,\"ticks\":\"\"}},\"marker\":{\"colorbar\":{\"outlinewidth\":0,\"ticks\":\"\"}}}],\"scattermapbox\":[{\"type\":\"scattermapbox\",\"marker\":{\"colorbar\":{\"outlinewidth\":0,\"ticks\":\"\"}}}],\"scatterternary\":[{\"type\":\"scatterternary\",\"marker\":{\"colorbar\":{\"outlinewidth\":0,\"ticks\":\"\"}}}],\"scattercarpet\":[{\"type\":\"scattercarpet\",\"marker\":{\"colorbar\":{\"outlinewidth\":0,\"ticks\":\"\"}}}],\"carpet\":[{\"aaxis\":{\"endlinecolor\":\"#2a3f5f\",\"gridcolor\":\"white\",\"linecolor\":\"white\",\"minorgridcolor\":\"white\",\"startlinecolor\":\"#2a3f5f\"},\"baxis\":{\"endlinecolor\":\"#2a3f5f\",\"gridcolor\":\"white\",\"linecolor\":\"white\",\"minorgridcolor\":\"white\",\"startlinecolor\":\"#2a3f5f\"},\"type\":\"carpet\"}],\"table\":[{\"cells\":{\"fill\":{\"color\":\"#EBF0F8\"},\"line\":{\"color\":\"white\"}},\"header\":{\"fill\":{\"color\":\"#C8D4E3\"},\"line\":{\"color\":\"white\"}},\"type\":\"table\"}],\"barpolar\":[{\"marker\":{\"line\":{\"color\":\"#E5ECF6\",\"width\":0.5},\"pattern\":{\"fillmode\":\"overlay\",\"size\":10,\"solidity\":0.2}},\"type\":\"barpolar\"}],\"pie\":[{\"automargin\":true,\"type\":\"pie\"}]},\"layout\":{\"autotypenumbers\":\"strict\",\"colorway\":[\"#636efa\",\"#EF553B\",\"#00cc96\",\"#ab63fa\",\"#FFA15A\",\"#19d3f3\",\"#FF6692\",\"#B6E880\",\"#FF97FF\",\"#FECB52\"],\"font\":{\"color\":\"#2a3f5f\"},\"hovermode\":\"closest\",\"hoverlabel\":{\"align\":\"left\"},\"paper_bgcolor\":\"white\",\"plot_bgcolor\":\"#E5ECF6\",\"polar\":{\"bgcolor\":\"#E5ECF6\",\"angularaxis\":{\"gridcolor\":\"white\",\"linecolor\":\"white\",\"ticks\":\"\"},\"radialaxis\":{\"gridcolor\":\"white\",\"linecolor\":\"white\",\"ticks\":\"\"}},\"ternary\":{\"bgcolor\":\"#E5ECF6\",\"aaxis\":{\"gridcolor\":\"white\",\"linecolor\":\"white\",\"ticks\":\"\"},\"baxis\":{\"gridcolor\":\"white\",\"linecolor\":\"white\",\"ticks\":\"\"},\"caxis\":{\"gridcolor\":\"white\",\"linecolor\":\"white\",\"ticks\":\"\"}},\"coloraxis\":{\"colorbar\":{\"outlinewidth\":0,\"ticks\":\"\"}},\"colorscale\":{\"sequential\":[[0.0,\"#0d0887\"],[0.1111111111111111,\"#46039f\"],[0.2222222222222222,\"#7201a8\"],[0.3333333333333333,\"#9c179e\"],[0.4444444444444444,\"#bd3786\"],[0.5555555555555556,\"#d8576b\"],[0.6666666666666666,\"#ed7953\"],[0.7777777777777778,\"#fb9f3a\"],[0.8888888888888888,\"#fdca26\"],[1.0,\"#f0f921\"]],\"sequentialminus\":[[0.0,\"#0d0887\"],[0.1111111111111111,\"#46039f\"],[0.2222222222222222,\"#7201a8\"],[0.3333333333333333,\"#9c179e\"],[0.4444444444444444,\"#bd3786\"],[0.5555555555555556,\"#d8576b\"],[0.6666666666666666,\"#ed7953\"],[0.7777777777777778,\"#fb9f3a\"],[0.8888888888888888,\"#fdca26\"],[1.0,\"#f0f921\"]],\"diverging\":[[0,\"#8e0152\"],[0.1,\"#c51b7d\"],[0.2,\"#de77ae\"],[0.3,\"#f1b6da\"],[0.4,\"#fde0ef\"],[0.5,\"#f7f7f7\"],[0.6,\"#e6f5d0\"],[0.7,\"#b8e186\"],[0.8,\"#7fbc41\"],[0.9,\"#4d9221\"],[1,\"#276419\"]]},\"xaxis\":{\"gridcolor\":\"white\",\"linecolor\":\"white\",\"ticks\":\"\",\"title\":{\"standoff\":15},\"zerolinecolor\":\"white\",\"automargin\":true,\"zerolinewidth\":2},\"yaxis\":{\"gridcolor\":\"white\",\"linecolor\":\"white\",\"ticks\":\"\",\"title\":{\"standoff\":15},\"zerolinecolor\":\"white\",\"automargin\":true,\"zerolinewidth\":2},\"scene\":{\"xaxis\":{\"backgroundcolor\":\"#E5ECF6\",\"gridcolor\":\"white\",\"linecolor\":\"white\",\"showbackground\":true,\"ticks\":\"\",\"zerolinecolor\":\"white\",\"gridwidth\":2},\"yaxis\":{\"backgroundcolor\":\"#E5ECF6\",\"gridcolor\":\"white\",\"linecolor\":\"white\",\"showbackground\":true,\"ticks\":\"\",\"zerolinecolor\":\"white\",\"gridwidth\":2},\"zaxis\":{\"backgroundcolor\":\"#E5ECF6\",\"gridcolor\":\"white\",\"linecolor\":\"white\",\"showbackground\":true,\"ticks\":\"\",\"zerolinecolor\":\"white\",\"gridwidth\":2}},\"shapedefaults\":{\"line\":{\"color\":\"#2a3f5f\"}},\"annotationdefaults\":{\"arrowcolor\":\"#2a3f5f\",\"arrowhead\":0,\"arrowwidth\":1},\"geo\":{\"bgcolor\":\"white\",\"landcolor\":\"#E5ECF6\",\"subunitcolor\":\"white\",\"showland\":true,\"showlakes\":true,\"lakecolor\":\"white\"},\"title\":{\"x\":0.05},\"mapbox\":{\"style\":\"light\"}}},\"xaxis\":{\"anchor\":\"y\",\"domain\":[0.0,1.0],\"title\":{\"text\":\"Role\"},\"categoryorder\":\"array\",\"categoryarray\":[\"Defender\",\"Finisher\",\"Playmaker\"]},\"yaxis\":{\"anchor\":\"x\",\"domain\":[0.0,1.0],\"title\":{\"text\":\"Number of Players\"}},\"legend\":{\"title\":{\"text\":\"Role\"},\"tracegroupgap\":0},\"title\":{\"text\":\"Young Players Role Distribution\",\"x\":0.5},\"barmode\":\"relative\"},                        {\"responsive\": true}                    ).then(function(){\n",
       "                            \n",
       "var gd = document.getElementById('80ffe5de-23c7-47fb-9a00-865e02cb9fe2');\n",
       "var x = new MutationObserver(function (mutations, observer) {{\n",
       "        var display = window.getComputedStyle(gd).display;\n",
       "        if (!display || display === 'none') {{\n",
       "            console.log([gd, 'removed!']);\n",
       "            Plotly.purge(gd);\n",
       "            observer.disconnect();\n",
       "        }}\n",
       "}});\n",
       "\n",
       "// Listen for the removal of the full notebook cells\n",
       "var notebookContainer = gd.closest('#notebook-container');\n",
       "if (notebookContainer) {{\n",
       "    x.observe(notebookContainer, {childList: true});\n",
       "}}\n",
       "\n",
       "// Listen for the clearing of the current output cell\n",
       "var outputEl = gd.closest('.output');\n",
       "if (outputEl) {{\n",
       "    x.observe(outputEl, {childList: true});\n",
       "}}\n",
       "\n",
       "                        })                };                            </script>        </div>\n",
       "</body>\n",
       "</html>"
      ]
     },
     "metadata": {},
     "output_type": "display_data"
    }
   ],
   "source": [
    "role_count = young_players['Role'].value_counts().reset_index()\n",
    "role_count.columns = ['Role', 'Number of Players']\n",
    "\n",
    "fig = px.bar(\n",
    "    role_count,\n",
    "    x='Role',\n",
    "    y='Number of Players',\n",
    "    color='Role',\n",
    "    title='Young Players Role Distribution',\n",
    "    text='Number of Players',\n",
    "    color_discrete_sequence=px.colors.qualitative.Set2\n",
    ")\n",
    "fig.update_traces(textposition='outside')\n",
    "fig.update_layout(title_x=0.5)\n",
    "fig.show()"
   ]
  },
  {
   "cell_type": "code",
   "execution_count": 40,
   "id": "926ccf0e",
   "metadata": {
    "_cell_guid": "7b42d202-736f-4950-a5a7-0ac84161b15e",
    "_uuid": "0aac8cbf-a12f-4b54-a3b1-a382435fd6de",
    "collapsed": false,
    "execution": {
     "iopub.execute_input": "2025-07-05T04:56:07.329446Z",
     "iopub.status.busy": "2025-07-05T04:56:07.328525Z",
     "iopub.status.idle": "2025-07-05T04:56:07.610868Z",
     "shell.execute_reply": "2025-07-05T04:56:07.609964Z"
    },
    "jupyter": {
     "outputs_hidden": false
    },
    "papermill": {
     "duration": 0.31548,
     "end_time": "2025-07-05T04:56:07.612351",
     "exception": false,
     "start_time": "2025-07-05T04:56:07.296871",
     "status": "completed"
    },
    "tags": []
   },
   "outputs": [
    {
     "data": {
      "text/html": [
       "<html>\n",
       "<head><meta charset=\"utf-8\" /></head>\n",
       "<body>\n",
       "    <div>            <script src=\"https://cdnjs.cloudflare.com/ajax/libs/mathjax/2.7.5/MathJax.js?config=TeX-AMS-MML_SVG\"></script><script type=\"text/javascript\">if (window.MathJax && window.MathJax.Hub && window.MathJax.Hub.Config) {window.MathJax.Hub.Config({SVG: {font: \"STIX-Web\"}});}</script>                <script type=\"text/javascript\">window.PlotlyConfig = {MathJaxConfig: 'local'};</script>\n",
       "        <script charset=\"utf-8\" src=\"https://cdn.plot.ly/plotly-2.35.2.min.js\"></script>                <div id=\"7a5de139-0f5b-4bbc-ae19-f8708b70a863\" class=\"plotly-graph-div\" style=\"height:525px; width:100%;\"></div>            <script type=\"text/javascript\">                                    window.PLOTLYENV=window.PLOTLYENV || {};                                    if (document.getElementById(\"7a5de139-0f5b-4bbc-ae19-f8708b70a863\")) {                    Plotly.newPlot(                        \"7a5de139-0f5b-4bbc-ae19-f8708b70a863\",                        [{\"alignmentgroup\":\"True\",\"hovertemplate\":\"Statistic=Gls\\u003cbr\\u003eRole=%{x}\\u003cbr\\u003eAverage=%{y}\\u003cextra\\u003e\\u003c\\u002fextra\\u003e\",\"legendgroup\":\"Gls\",\"marker\":{\"color\":\"#440154\",\"pattern\":{\"shape\":\"\"}},\"name\":\"Gls\",\"offsetgroup\":\"Gls\",\"orientation\":\"v\",\"showlegend\":true,\"textposition\":\"auto\",\"x\":[\"Defender\",\"Finisher\",\"Playmaker\"],\"xaxis\":\"x\",\"y\":[0.26,1.75,8.42],\"yaxis\":\"y\",\"type\":\"bar\"},{\"alignmentgroup\":\"True\",\"hovertemplate\":\"Statistic=Ast\\u003cbr\\u003eRole=%{x}\\u003cbr\\u003eAverage=%{y}\\u003cextra\\u003e\\u003c\\u002fextra\\u003e\",\"legendgroup\":\"Ast\",\"marker\":{\"color\":\"#482878\",\"pattern\":{\"shape\":\"\"}},\"name\":\"Ast\",\"offsetgroup\":\"Ast\",\"orientation\":\"v\",\"showlegend\":true,\"textposition\":\"auto\",\"x\":[\"Defender\",\"Finisher\",\"Playmaker\"],\"xaxis\":\"x\",\"y\":[0.17,1.86,5.15],\"yaxis\":\"y\",\"type\":\"bar\"},{\"alignmentgroup\":\"True\",\"hovertemplate\":\"Statistic=xG\\u003cbr\\u003eRole=%{x}\\u003cbr\\u003eAverage=%{y}\\u003cextra\\u003e\\u003c\\u002fextra\\u003e\",\"legendgroup\":\"xG\",\"marker\":{\"color\":\"#3e4989\",\"pattern\":{\"shape\":\"\"}},\"name\":\"xG\",\"offsetgroup\":\"xG\",\"orientation\":\"v\",\"showlegend\":true,\"textposition\":\"auto\",\"x\":[\"Defender\",\"Finisher\",\"Playmaker\"],\"xaxis\":\"x\",\"y\":[0.31,1.82,7.36],\"yaxis\":\"y\",\"type\":\"bar\"},{\"alignmentgroup\":\"True\",\"hovertemplate\":\"Statistic=xAG\\u003cbr\\u003eRole=%{x}\\u003cbr\\u003eAverage=%{y}\\u003cextra\\u003e\\u003c\\u002fextra\\u003e\",\"legendgroup\":\"xAG\",\"marker\":{\"color\":\"#31688e\",\"pattern\":{\"shape\":\"\"}},\"name\":\"xAG\",\"offsetgroup\":\"xAG\",\"orientation\":\"v\",\"showlegend\":true,\"textposition\":\"auto\",\"x\":[\"Defender\",\"Finisher\",\"Playmaker\"],\"xaxis\":\"x\",\"y\":[0.22,1.74,5.08],\"yaxis\":\"y\",\"type\":\"bar\"}],                        {\"template\":{\"data\":{\"histogram2dcontour\":[{\"type\":\"histogram2dcontour\",\"colorbar\":{\"outlinewidth\":0,\"ticks\":\"\"},\"colorscale\":[[0.0,\"#0d0887\"],[0.1111111111111111,\"#46039f\"],[0.2222222222222222,\"#7201a8\"],[0.3333333333333333,\"#9c179e\"],[0.4444444444444444,\"#bd3786\"],[0.5555555555555556,\"#d8576b\"],[0.6666666666666666,\"#ed7953\"],[0.7777777777777778,\"#fb9f3a\"],[0.8888888888888888,\"#fdca26\"],[1.0,\"#f0f921\"]]}],\"choropleth\":[{\"type\":\"choropleth\",\"colorbar\":{\"outlinewidth\":0,\"ticks\":\"\"}}],\"histogram2d\":[{\"type\":\"histogram2d\",\"colorbar\":{\"outlinewidth\":0,\"ticks\":\"\"},\"colorscale\":[[0.0,\"#0d0887\"],[0.1111111111111111,\"#46039f\"],[0.2222222222222222,\"#7201a8\"],[0.3333333333333333,\"#9c179e\"],[0.4444444444444444,\"#bd3786\"],[0.5555555555555556,\"#d8576b\"],[0.6666666666666666,\"#ed7953\"],[0.7777777777777778,\"#fb9f3a\"],[0.8888888888888888,\"#fdca26\"],[1.0,\"#f0f921\"]]}],\"heatmap\":[{\"type\":\"heatmap\",\"colorbar\":{\"outlinewidth\":0,\"ticks\":\"\"},\"colorscale\":[[0.0,\"#0d0887\"],[0.1111111111111111,\"#46039f\"],[0.2222222222222222,\"#7201a8\"],[0.3333333333333333,\"#9c179e\"],[0.4444444444444444,\"#bd3786\"],[0.5555555555555556,\"#d8576b\"],[0.6666666666666666,\"#ed7953\"],[0.7777777777777778,\"#fb9f3a\"],[0.8888888888888888,\"#fdca26\"],[1.0,\"#f0f921\"]]}],\"heatmapgl\":[{\"type\":\"heatmapgl\",\"colorbar\":{\"outlinewidth\":0,\"ticks\":\"\"},\"colorscale\":[[0.0,\"#0d0887\"],[0.1111111111111111,\"#46039f\"],[0.2222222222222222,\"#7201a8\"],[0.3333333333333333,\"#9c179e\"],[0.4444444444444444,\"#bd3786\"],[0.5555555555555556,\"#d8576b\"],[0.6666666666666666,\"#ed7953\"],[0.7777777777777778,\"#fb9f3a\"],[0.8888888888888888,\"#fdca26\"],[1.0,\"#f0f921\"]]}],\"contourcarpet\":[{\"type\":\"contourcarpet\",\"colorbar\":{\"outlinewidth\":0,\"ticks\":\"\"}}],\"contour\":[{\"type\":\"contour\",\"colorbar\":{\"outlinewidth\":0,\"ticks\":\"\"},\"colorscale\":[[0.0,\"#0d0887\"],[0.1111111111111111,\"#46039f\"],[0.2222222222222222,\"#7201a8\"],[0.3333333333333333,\"#9c179e\"],[0.4444444444444444,\"#bd3786\"],[0.5555555555555556,\"#d8576b\"],[0.6666666666666666,\"#ed7953\"],[0.7777777777777778,\"#fb9f3a\"],[0.8888888888888888,\"#fdca26\"],[1.0,\"#f0f921\"]]}],\"surface\":[{\"type\":\"surface\",\"colorbar\":{\"outlinewidth\":0,\"ticks\":\"\"},\"colorscale\":[[0.0,\"#0d0887\"],[0.1111111111111111,\"#46039f\"],[0.2222222222222222,\"#7201a8\"],[0.3333333333333333,\"#9c179e\"],[0.4444444444444444,\"#bd3786\"],[0.5555555555555556,\"#d8576b\"],[0.6666666666666666,\"#ed7953\"],[0.7777777777777778,\"#fb9f3a\"],[0.8888888888888888,\"#fdca26\"],[1.0,\"#f0f921\"]]}],\"mesh3d\":[{\"type\":\"mesh3d\",\"colorbar\":{\"outlinewidth\":0,\"ticks\":\"\"}}],\"scatter\":[{\"fillpattern\":{\"fillmode\":\"overlay\",\"size\":10,\"solidity\":0.2},\"type\":\"scatter\"}],\"parcoords\":[{\"type\":\"parcoords\",\"line\":{\"colorbar\":{\"outlinewidth\":0,\"ticks\":\"\"}}}],\"scatterpolargl\":[{\"type\":\"scatterpolargl\",\"marker\":{\"colorbar\":{\"outlinewidth\":0,\"ticks\":\"\"}}}],\"bar\":[{\"error_x\":{\"color\":\"#2a3f5f\"},\"error_y\":{\"color\":\"#2a3f5f\"},\"marker\":{\"line\":{\"color\":\"#E5ECF6\",\"width\":0.5},\"pattern\":{\"fillmode\":\"overlay\",\"size\":10,\"solidity\":0.2}},\"type\":\"bar\"}],\"scattergeo\":[{\"type\":\"scattergeo\",\"marker\":{\"colorbar\":{\"outlinewidth\":0,\"ticks\":\"\"}}}],\"scatterpolar\":[{\"type\":\"scatterpolar\",\"marker\":{\"colorbar\":{\"outlinewidth\":0,\"ticks\":\"\"}}}],\"histogram\":[{\"marker\":{\"pattern\":{\"fillmode\":\"overlay\",\"size\":10,\"solidity\":0.2}},\"type\":\"histogram\"}],\"scattergl\":[{\"type\":\"scattergl\",\"marker\":{\"colorbar\":{\"outlinewidth\":0,\"ticks\":\"\"}}}],\"scatter3d\":[{\"type\":\"scatter3d\",\"line\":{\"colorbar\":{\"outlinewidth\":0,\"ticks\":\"\"}},\"marker\":{\"colorbar\":{\"outlinewidth\":0,\"ticks\":\"\"}}}],\"scattermapbox\":[{\"type\":\"scattermapbox\",\"marker\":{\"colorbar\":{\"outlinewidth\":0,\"ticks\":\"\"}}}],\"scatterternary\":[{\"type\":\"scatterternary\",\"marker\":{\"colorbar\":{\"outlinewidth\":0,\"ticks\":\"\"}}}],\"scattercarpet\":[{\"type\":\"scattercarpet\",\"marker\":{\"colorbar\":{\"outlinewidth\":0,\"ticks\":\"\"}}}],\"carpet\":[{\"aaxis\":{\"endlinecolor\":\"#2a3f5f\",\"gridcolor\":\"white\",\"linecolor\":\"white\",\"minorgridcolor\":\"white\",\"startlinecolor\":\"#2a3f5f\"},\"baxis\":{\"endlinecolor\":\"#2a3f5f\",\"gridcolor\":\"white\",\"linecolor\":\"white\",\"minorgridcolor\":\"white\",\"startlinecolor\":\"#2a3f5f\"},\"type\":\"carpet\"}],\"table\":[{\"cells\":{\"fill\":{\"color\":\"#EBF0F8\"},\"line\":{\"color\":\"white\"}},\"header\":{\"fill\":{\"color\":\"#C8D4E3\"},\"line\":{\"color\":\"white\"}},\"type\":\"table\"}],\"barpolar\":[{\"marker\":{\"line\":{\"color\":\"#E5ECF6\",\"width\":0.5},\"pattern\":{\"fillmode\":\"overlay\",\"size\":10,\"solidity\":0.2}},\"type\":\"barpolar\"}],\"pie\":[{\"automargin\":true,\"type\":\"pie\"}]},\"layout\":{\"autotypenumbers\":\"strict\",\"colorway\":[\"#636efa\",\"#EF553B\",\"#00cc96\",\"#ab63fa\",\"#FFA15A\",\"#19d3f3\",\"#FF6692\",\"#B6E880\",\"#FF97FF\",\"#FECB52\"],\"font\":{\"color\":\"#2a3f5f\"},\"hovermode\":\"closest\",\"hoverlabel\":{\"align\":\"left\"},\"paper_bgcolor\":\"white\",\"plot_bgcolor\":\"#E5ECF6\",\"polar\":{\"bgcolor\":\"#E5ECF6\",\"angularaxis\":{\"gridcolor\":\"white\",\"linecolor\":\"white\",\"ticks\":\"\"},\"radialaxis\":{\"gridcolor\":\"white\",\"linecolor\":\"white\",\"ticks\":\"\"}},\"ternary\":{\"bgcolor\":\"#E5ECF6\",\"aaxis\":{\"gridcolor\":\"white\",\"linecolor\":\"white\",\"ticks\":\"\"},\"baxis\":{\"gridcolor\":\"white\",\"linecolor\":\"white\",\"ticks\":\"\"},\"caxis\":{\"gridcolor\":\"white\",\"linecolor\":\"white\",\"ticks\":\"\"}},\"coloraxis\":{\"colorbar\":{\"outlinewidth\":0,\"ticks\":\"\"}},\"colorscale\":{\"sequential\":[[0.0,\"#0d0887\"],[0.1111111111111111,\"#46039f\"],[0.2222222222222222,\"#7201a8\"],[0.3333333333333333,\"#9c179e\"],[0.4444444444444444,\"#bd3786\"],[0.5555555555555556,\"#d8576b\"],[0.6666666666666666,\"#ed7953\"],[0.7777777777777778,\"#fb9f3a\"],[0.8888888888888888,\"#fdca26\"],[1.0,\"#f0f921\"]],\"sequentialminus\":[[0.0,\"#0d0887\"],[0.1111111111111111,\"#46039f\"],[0.2222222222222222,\"#7201a8\"],[0.3333333333333333,\"#9c179e\"],[0.4444444444444444,\"#bd3786\"],[0.5555555555555556,\"#d8576b\"],[0.6666666666666666,\"#ed7953\"],[0.7777777777777778,\"#fb9f3a\"],[0.8888888888888888,\"#fdca26\"],[1.0,\"#f0f921\"]],\"diverging\":[[0,\"#8e0152\"],[0.1,\"#c51b7d\"],[0.2,\"#de77ae\"],[0.3,\"#f1b6da\"],[0.4,\"#fde0ef\"],[0.5,\"#f7f7f7\"],[0.6,\"#e6f5d0\"],[0.7,\"#b8e186\"],[0.8,\"#7fbc41\"],[0.9,\"#4d9221\"],[1,\"#276419\"]]},\"xaxis\":{\"gridcolor\":\"white\",\"linecolor\":\"white\",\"ticks\":\"\",\"title\":{\"standoff\":15},\"zerolinecolor\":\"white\",\"automargin\":true,\"zerolinewidth\":2},\"yaxis\":{\"gridcolor\":\"white\",\"linecolor\":\"white\",\"ticks\":\"\",\"title\":{\"standoff\":15},\"zerolinecolor\":\"white\",\"automargin\":true,\"zerolinewidth\":2},\"scene\":{\"xaxis\":{\"backgroundcolor\":\"#E5ECF6\",\"gridcolor\":\"white\",\"linecolor\":\"white\",\"showbackground\":true,\"ticks\":\"\",\"zerolinecolor\":\"white\",\"gridwidth\":2},\"yaxis\":{\"backgroundcolor\":\"#E5ECF6\",\"gridcolor\":\"white\",\"linecolor\":\"white\",\"showbackground\":true,\"ticks\":\"\",\"zerolinecolor\":\"white\",\"gridwidth\":2},\"zaxis\":{\"backgroundcolor\":\"#E5ECF6\",\"gridcolor\":\"white\",\"linecolor\":\"white\",\"showbackground\":true,\"ticks\":\"\",\"zerolinecolor\":\"white\",\"gridwidth\":2}},\"shapedefaults\":{\"line\":{\"color\":\"#2a3f5f\"}},\"annotationdefaults\":{\"arrowcolor\":\"#2a3f5f\",\"arrowhead\":0,\"arrowwidth\":1},\"geo\":{\"bgcolor\":\"white\",\"landcolor\":\"#E5ECF6\",\"subunitcolor\":\"white\",\"showland\":true,\"showlakes\":true,\"lakecolor\":\"white\"},\"title\":{\"x\":0.05},\"mapbox\":{\"style\":\"light\"}}},\"xaxis\":{\"anchor\":\"y\",\"domain\":[0.0,1.0],\"title\":{\"text\":\"Role\"}},\"yaxis\":{\"anchor\":\"x\",\"domain\":[0.0,1.0],\"title\":{\"text\":\"Average\"}},\"legend\":{\"title\":{\"text\":\"Statistic\"},\"tracegroupgap\":0},\"title\":{\"text\":\"Average Key Stats per Role\",\"x\":0.5},\"barmode\":\"group\"},                        {\"responsive\": true}                    ).then(function(){\n",
       "                            \n",
       "var gd = document.getElementById('7a5de139-0f5b-4bbc-ae19-f8708b70a863');\n",
       "var x = new MutationObserver(function (mutations, observer) {{\n",
       "        var display = window.getComputedStyle(gd).display;\n",
       "        if (!display || display === 'none') {{\n",
       "            console.log([gd, 'removed!']);\n",
       "            Plotly.purge(gd);\n",
       "            observer.disconnect();\n",
       "        }}\n",
       "}});\n",
       "\n",
       "// Listen for the removal of the full notebook cells\n",
       "var notebookContainer = gd.closest('#notebook-container');\n",
       "if (notebookContainer) {{\n",
       "    x.observe(notebookContainer, {childList: true});\n",
       "}}\n",
       "\n",
       "// Listen for the clearing of the current output cell\n",
       "var outputEl = gd.closest('.output');\n",
       "if (outputEl) {{\n",
       "    x.observe(outputEl, {childList: true});\n",
       "}}\n",
       "\n",
       "                        })                };                            </script>        </div>\n",
       "</body>\n",
       "</html>"
      ]
     },
     "metadata": {},
     "output_type": "display_data"
    }
   ],
   "source": [
    "avg_stats = young_players.groupby('Role')[['Gls', 'Ast', 'xG', 'xAG']].mean().round(2).reset_index()\n",
    "\n",
    "fig = px.bar(\n",
    "    avg_stats.melt(id_vars='Role'),\n",
    "    x='Role',\n",
    "    y='value',\n",
    "    color='variable',\n",
    "    barmode='group',\n",
    "    title='Average Key Stats per Role',\n",
    "    labels={'value': 'Average', 'variable': 'Statistic'},\n",
    "    color_discrete_sequence=px.colors.sequential.Viridis\n",
    ")\n",
    "fig.update_layout(title_x=0.5)\n",
    "fig.show()"
   ]
  }
 ],
 "metadata": {
  "kaggle": {
   "accelerator": "none",
   "dataSources": [
    {
     "datasetId": 7572200,
     "sourceId": 12034354,
     "sourceType": "datasetVersion"
    }
   ],
   "dockerImageVersionId": 31040,
   "isGpuEnabled": false,
   "isInternetEnabled": true,
   "language": "python",
   "sourceType": "notebook"
  },
  "kernelspec": {
   "display_name": "Python 3",
   "language": "python",
   "name": "python3"
  },
  "language_info": {
   "codemirror_mode": {
    "name": "ipython",
    "version": 3
   },
   "file_extension": ".py",
   "mimetype": "text/x-python",
   "name": "python",
   "nbconvert_exporter": "python",
   "pygments_lexer": "ipython3",
   "version": "3.11.11"
  },
  "papermill": {
   "default_parameters": {},
   "duration": 22.084201,
   "end_time": "2025-07-05T04:56:08.968914",
   "environment_variables": {},
   "exception": null,
   "input_path": "__notebook__.ipynb",
   "output_path": "__notebook__.ipynb",
   "parameters": {},
   "start_time": "2025-07-05T04:55:46.884713",
   "version": "2.6.0"
  }
 },
 "nbformat": 4,
 "nbformat_minor": 5
}
